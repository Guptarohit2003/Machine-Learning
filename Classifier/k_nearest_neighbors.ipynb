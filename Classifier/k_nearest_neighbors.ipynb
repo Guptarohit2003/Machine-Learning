{
  "nbformat": 4,
  "nbformat_minor": 0,
  "metadata": {
    "colab": {
      "provenance": [],
      "gpuType": "T4",
      "include_colab_link": true
    },
    "kernelspec": {
      "name": "python3",
      "display_name": "Python 3"
    },
    "accelerator": "GPU"
  },
  "cells": [
    {
      "cell_type": "markdown",
      "metadata": {
        "id": "view-in-github",
        "colab_type": "text"
      },
      "source": [
        "<a href=\"https://colab.research.google.com/github/Guptarohit2003/Machine-Learning/blob/main/Classifier/k_nearest_neighbors.ipynb\" target=\"_parent\"><img src=\"https://colab.research.google.com/assets/colab-badge.svg\" alt=\"Open In Colab\"/></a>"
      ]
    },
    {
      "cell_type": "markdown",
      "metadata": {
        "id": "0MRC0e0KhQ0S"
      },
      "source": [
        "# K-Nearest Neighbors (K-NN)"
      ]
    },
    {
      "cell_type": "markdown",
      "metadata": {
        "id": "LWd1UlMnhT2s"
      },
      "source": [
        "## Importing the libraries"
      ]
    },
    {
      "cell_type": "code",
      "source": [
        "import numpy as np\n",
        "import pandas as pd\n",
        "import matplotlib.pyplot as plt"
      ],
      "metadata": {
        "id": "v1BorAJkKjV_"
      },
      "execution_count": 1,
      "outputs": []
    },
    {
      "cell_type": "markdown",
      "metadata": {
        "id": "K1VMqkGvhc3-"
      },
      "source": [
        "## Importing the dataset"
      ]
    },
    {
      "cell_type": "code",
      "source": [
        "dataset = pd.read_csv(\"Social_Network_Ads.csv\")\n",
        "X = dataset.iloc[:, :-1].values\n",
        "y = dataset.iloc[:, -1].values"
      ],
      "metadata": {
        "id": "voVJwa_3Kv7r"
      },
      "execution_count": 2,
      "outputs": []
    },
    {
      "cell_type": "markdown",
      "metadata": {
        "id": "YvxIPVyMhmKp"
      },
      "source": [
        "## Splitting the dataset into the Training set and Test set"
      ]
    },
    {
      "cell_type": "code",
      "source": [
        "from sklearn.model_selection import train_test_split\n",
        "X_train, X_test, y_train, y_test = train_test_split(X, y, test_size=0.25, random_state=0)"
      ],
      "metadata": {
        "id": "Yzxzd6YcLbC9"
      },
      "execution_count": 3,
      "outputs": []
    },
    {
      "cell_type": "code",
      "source": [
        "print(X_train)"
      ],
      "metadata": {
        "colab": {
          "base_uri": "https://localhost:8080/"
        },
        "id": "yEbPmSPQMBuN",
        "outputId": "72905a51-337a-4e2e-86f7-f1dd797ca5ee"
      },
      "execution_count": 4,
      "outputs": [
        {
          "output_type": "stream",
          "name": "stdout",
          "text": [
            "[[    44  39000]\n",
            " [    32 120000]\n",
            " [    38  50000]\n",
            " [    32 135000]\n",
            " [    52  21000]\n",
            " [    53 104000]\n",
            " [    39  42000]\n",
            " [    38  61000]\n",
            " [    36  50000]\n",
            " [    36  63000]\n",
            " [    35  25000]\n",
            " [    35  50000]\n",
            " [    42  73000]\n",
            " [    47  49000]\n",
            " [    59  29000]\n",
            " [    49  65000]\n",
            " [    45 131000]\n",
            " [    31  89000]\n",
            " [    46  82000]\n",
            " [    47  51000]\n",
            " [    26  15000]\n",
            " [    60 102000]\n",
            " [    38 112000]\n",
            " [    40 107000]\n",
            " [    42  53000]\n",
            " [    35  59000]\n",
            " [    48  41000]\n",
            " [    48 134000]\n",
            " [    38 113000]\n",
            " [    29 148000]\n",
            " [    26  15000]\n",
            " [    60  42000]\n",
            " [    24  19000]\n",
            " [    42 149000]\n",
            " [    46  96000]\n",
            " [    28  59000]\n",
            " [    39  96000]\n",
            " [    28  89000]\n",
            " [    41  72000]\n",
            " [    45  26000]\n",
            " [    33  69000]\n",
            " [    20  82000]\n",
            " [    31  74000]\n",
            " [    42  80000]\n",
            " [    35  72000]\n",
            " [    33 149000]\n",
            " [    40  71000]\n",
            " [    51 146000]\n",
            " [    46  79000]\n",
            " [    35  75000]\n",
            " [    38  51000]\n",
            " [    36  75000]\n",
            " [    37  78000]\n",
            " [    38  61000]\n",
            " [    60 108000]\n",
            " [    20  82000]\n",
            " [    57  74000]\n",
            " [    42  65000]\n",
            " [    26  80000]\n",
            " [    46 117000]\n",
            " [    35  61000]\n",
            " [    21  68000]\n",
            " [    28  44000]\n",
            " [    41  87000]\n",
            " [    37  33000]\n",
            " [    27  90000]\n",
            " [    39  42000]\n",
            " [    28 123000]\n",
            " [    31 118000]\n",
            " [    25  87000]\n",
            " [    35  71000]\n",
            " [    37  70000]\n",
            " [    35  39000]\n",
            " [    47  23000]\n",
            " [    35 147000]\n",
            " [    48 138000]\n",
            " [    26  86000]\n",
            " [    25  79000]\n",
            " [    52 138000]\n",
            " [    51  23000]\n",
            " [    35  60000]\n",
            " [    33 113000]\n",
            " [    30 107000]\n",
            " [    48  33000]\n",
            " [    41  80000]\n",
            " [    48  96000]\n",
            " [    31  18000]\n",
            " [    31  71000]\n",
            " [    43 129000]\n",
            " [    59  76000]\n",
            " [    18  44000]\n",
            " [    36 118000]\n",
            " [    42  90000]\n",
            " [    47  30000]\n",
            " [    26  43000]\n",
            " [    40  78000]\n",
            " [    46  59000]\n",
            " [    59  42000]\n",
            " [    46  74000]\n",
            " [    35  91000]\n",
            " [    28  59000]\n",
            " [    40  57000]\n",
            " [    59 143000]\n",
            " [    57  26000]\n",
            " [    52  38000]\n",
            " [    47 113000]\n",
            " [    53 143000]\n",
            " [    35  27000]\n",
            " [    58 101000]\n",
            " [    45  45000]\n",
            " [    23  82000]\n",
            " [    46  23000]\n",
            " [    42  65000]\n",
            " [    28  84000]\n",
            " [    38  59000]\n",
            " [    26  84000]\n",
            " [    29  28000]\n",
            " [    37  71000]\n",
            " [    22  55000]\n",
            " [    48  35000]\n",
            " [    49  28000]\n",
            " [    38  65000]\n",
            " [    27  17000]\n",
            " [    46  28000]\n",
            " [    48 141000]\n",
            " [    26  17000]\n",
            " [    35  97000]\n",
            " [    39  59000]\n",
            " [    24  27000]\n",
            " [    32  18000]\n",
            " [    46  88000]\n",
            " [    35  58000]\n",
            " [    56  60000]\n",
            " [    47  34000]\n",
            " [    40  72000]\n",
            " [    32 100000]\n",
            " [    19  21000]\n",
            " [    25  90000]\n",
            " [    35  88000]\n",
            " [    28  32000]\n",
            " [    50  20000]\n",
            " [    40  59000]\n",
            " [    50  44000]\n",
            " [    35  72000]\n",
            " [    40 142000]\n",
            " [    46  32000]\n",
            " [    39  71000]\n",
            " [    20  74000]\n",
            " [    29  75000]\n",
            " [    31  76000]\n",
            " [    47  25000]\n",
            " [    40  61000]\n",
            " [    34 112000]\n",
            " [    38  80000]\n",
            " [    42  75000]\n",
            " [    47  47000]\n",
            " [    39  75000]\n",
            " [    19  25000]\n",
            " [    37  80000]\n",
            " [    36  60000]\n",
            " [    41  52000]\n",
            " [    36 125000]\n",
            " [    48  29000]\n",
            " [    36 126000]\n",
            " [    51 134000]\n",
            " [    27  57000]\n",
            " [    38  71000]\n",
            " [    39  61000]\n",
            " [    22  27000]\n",
            " [    33  60000]\n",
            " [    48  74000]\n",
            " [    58  23000]\n",
            " [    53  72000]\n",
            " [    32 117000]\n",
            " [    54  70000]\n",
            " [    30  80000]\n",
            " [    58  95000]\n",
            " [    26  52000]\n",
            " [    45  79000]\n",
            " [    24  55000]\n",
            " [    40  75000]\n",
            " [    33  28000]\n",
            " [    44 139000]\n",
            " [    22  18000]\n",
            " [    33  51000]\n",
            " [    43 133000]\n",
            " [    24  32000]\n",
            " [    46  22000]\n",
            " [    35  55000]\n",
            " [    54 104000]\n",
            " [    48 119000]\n",
            " [    35  53000]\n",
            " [    37 144000]\n",
            " [    23  66000]\n",
            " [    37 137000]\n",
            " [    31  58000]\n",
            " [    33  41000]\n",
            " [    45  22000]\n",
            " [    30  15000]\n",
            " [    19  19000]\n",
            " [    49  74000]\n",
            " [    39 122000]\n",
            " [    35  73000]\n",
            " [    39  71000]\n",
            " [    24  23000]\n",
            " [    41  72000]\n",
            " [    29  83000]\n",
            " [    54  26000]\n",
            " [    35  44000]\n",
            " [    37  75000]\n",
            " [    29  47000]\n",
            " [    31  68000]\n",
            " [    42  54000]\n",
            " [    30 135000]\n",
            " [    52 114000]\n",
            " [    50  36000]\n",
            " [    56 133000]\n",
            " [    29  61000]\n",
            " [    30  89000]\n",
            " [    26  16000]\n",
            " [    33  31000]\n",
            " [    41  72000]\n",
            " [    36  33000]\n",
            " [    55 125000]\n",
            " [    48 131000]\n",
            " [    41  71000]\n",
            " [    30  62000]\n",
            " [    37  72000]\n",
            " [    41  63000]\n",
            " [    58  47000]\n",
            " [    30 116000]\n",
            " [    20  49000]\n",
            " [    37  74000]\n",
            " [    41  59000]\n",
            " [    49  89000]\n",
            " [    28  79000]\n",
            " [    53  82000]\n",
            " [    40  57000]\n",
            " [    60  34000]\n",
            " [    35 108000]\n",
            " [    21  72000]\n",
            " [    38  71000]\n",
            " [    39 106000]\n",
            " [    37  57000]\n",
            " [    26  72000]\n",
            " [    35  23000]\n",
            " [    54 108000]\n",
            " [    30  17000]\n",
            " [    39 134000]\n",
            " [    29  43000]\n",
            " [    33  43000]\n",
            " [    35  38000]\n",
            " [    41  45000]\n",
            " [    41  72000]\n",
            " [    39 134000]\n",
            " [    27 137000]\n",
            " [    21  16000]\n",
            " [    26  32000]\n",
            " [    31  66000]\n",
            " [    39  73000]\n",
            " [    41  79000]\n",
            " [    47  50000]\n",
            " [    41  30000]\n",
            " [    37  93000]\n",
            " [    60  46000]\n",
            " [    25  22000]\n",
            " [    28  37000]\n",
            " [    38  55000]\n",
            " [    36  54000]\n",
            " [    20  36000]\n",
            " [    56 104000]\n",
            " [    40  57000]\n",
            " [    42 108000]\n",
            " [    20  23000]\n",
            " [    40  65000]\n",
            " [    47  20000]\n",
            " [    18  86000]\n",
            " [    35  79000]\n",
            " [    57  33000]\n",
            " [    34  72000]\n",
            " [    49  39000]\n",
            " [    27  31000]\n",
            " [    19  70000]\n",
            " [    39  79000]\n",
            " [    26  81000]\n",
            " [    25  80000]\n",
            " [    28  85000]\n",
            " [    55  39000]\n",
            " [    50  88000]\n",
            " [    49  88000]\n",
            " [    52 150000]\n",
            " [    35  65000]\n",
            " [    42  54000]\n",
            " [    34  43000]\n",
            " [    37  52000]\n",
            " [    48  30000]\n",
            " [    29  43000]\n",
            " [    36  52000]\n",
            " [    27  54000]\n",
            " [    26 118000]]\n"
          ]
        }
      ]
    },
    {
      "cell_type": "markdown",
      "metadata": {
        "id": "kW3c7UYih0hT"
      },
      "source": [
        "## Feature Scaling"
      ]
    },
    {
      "cell_type": "code",
      "source": [
        "from sklearn.preprocessing import StandardScaler\n",
        "Sc =  StandardScaler()\n",
        "X_train = Sc.fit_transform(X_train)\n",
        "X_test = Sc.fit_transform(X_test)"
      ],
      "metadata": {
        "id": "_rEdT429MmsQ"
      },
      "execution_count": 5,
      "outputs": []
    },
    {
      "cell_type": "markdown",
      "metadata": {
        "id": "bb6jCOCQiAmP"
      },
      "source": [
        "## Training the K-NN model on the Training set"
      ]
    },
    {
      "cell_type": "code",
      "source": [
        "from sklearn.neighbors import KNeighborsClassifier\n",
        "classifier = KNeighborsClassifier(n_neighbors=5, metric= 'minkowski', p=2)\n",
        "classifier.fit(X_train,y_train)"
      ],
      "metadata": {
        "colab": {
          "base_uri": "https://localhost:8080/",
          "height": 75
        },
        "id": "snYRQ2p1MrNf",
        "outputId": "916050e2-2f66-45bf-b815-6bb2e13507f9"
      },
      "execution_count": 6,
      "outputs": [
        {
          "output_type": "execute_result",
          "data": {
            "text/plain": [
              "KNeighborsClassifier()"
            ],
            "text/html": [
              "<style>#sk-container-id-1 {color: black;background-color: white;}#sk-container-id-1 pre{padding: 0;}#sk-container-id-1 div.sk-toggleable {background-color: white;}#sk-container-id-1 label.sk-toggleable__label {cursor: pointer;display: block;width: 100%;margin-bottom: 0;padding: 0.3em;box-sizing: border-box;text-align: center;}#sk-container-id-1 label.sk-toggleable__label-arrow:before {content: \"▸\";float: left;margin-right: 0.25em;color: #696969;}#sk-container-id-1 label.sk-toggleable__label-arrow:hover:before {color: black;}#sk-container-id-1 div.sk-estimator:hover label.sk-toggleable__label-arrow:before {color: black;}#sk-container-id-1 div.sk-toggleable__content {max-height: 0;max-width: 0;overflow: hidden;text-align: left;background-color: #f0f8ff;}#sk-container-id-1 div.sk-toggleable__content pre {margin: 0.2em;color: black;border-radius: 0.25em;background-color: #f0f8ff;}#sk-container-id-1 input.sk-toggleable__control:checked~div.sk-toggleable__content {max-height: 200px;max-width: 100%;overflow: auto;}#sk-container-id-1 input.sk-toggleable__control:checked~label.sk-toggleable__label-arrow:before {content: \"▾\";}#sk-container-id-1 div.sk-estimator input.sk-toggleable__control:checked~label.sk-toggleable__label {background-color: #d4ebff;}#sk-container-id-1 div.sk-label input.sk-toggleable__control:checked~label.sk-toggleable__label {background-color: #d4ebff;}#sk-container-id-1 input.sk-hidden--visually {border: 0;clip: rect(1px 1px 1px 1px);clip: rect(1px, 1px, 1px, 1px);height: 1px;margin: -1px;overflow: hidden;padding: 0;position: absolute;width: 1px;}#sk-container-id-1 div.sk-estimator {font-family: monospace;background-color: #f0f8ff;border: 1px dotted black;border-radius: 0.25em;box-sizing: border-box;margin-bottom: 0.5em;}#sk-container-id-1 div.sk-estimator:hover {background-color: #d4ebff;}#sk-container-id-1 div.sk-parallel-item::after {content: \"\";width: 100%;border-bottom: 1px solid gray;flex-grow: 1;}#sk-container-id-1 div.sk-label:hover label.sk-toggleable__label {background-color: #d4ebff;}#sk-container-id-1 div.sk-serial::before {content: \"\";position: absolute;border-left: 1px solid gray;box-sizing: border-box;top: 0;bottom: 0;left: 50%;z-index: 0;}#sk-container-id-1 div.sk-serial {display: flex;flex-direction: column;align-items: center;background-color: white;padding-right: 0.2em;padding-left: 0.2em;position: relative;}#sk-container-id-1 div.sk-item {position: relative;z-index: 1;}#sk-container-id-1 div.sk-parallel {display: flex;align-items: stretch;justify-content: center;background-color: white;position: relative;}#sk-container-id-1 div.sk-item::before, #sk-container-id-1 div.sk-parallel-item::before {content: \"\";position: absolute;border-left: 1px solid gray;box-sizing: border-box;top: 0;bottom: 0;left: 50%;z-index: -1;}#sk-container-id-1 div.sk-parallel-item {display: flex;flex-direction: column;z-index: 1;position: relative;background-color: white;}#sk-container-id-1 div.sk-parallel-item:first-child::after {align-self: flex-end;width: 50%;}#sk-container-id-1 div.sk-parallel-item:last-child::after {align-self: flex-start;width: 50%;}#sk-container-id-1 div.sk-parallel-item:only-child::after {width: 0;}#sk-container-id-1 div.sk-dashed-wrapped {border: 1px dashed gray;margin: 0 0.4em 0.5em 0.4em;box-sizing: border-box;padding-bottom: 0.4em;background-color: white;}#sk-container-id-1 div.sk-label label {font-family: monospace;font-weight: bold;display: inline-block;line-height: 1.2em;}#sk-container-id-1 div.sk-label-container {text-align: center;}#sk-container-id-1 div.sk-container {/* jupyter's `normalize.less` sets `[hidden] { display: none; }` but bootstrap.min.css set `[hidden] { display: none !important; }` so we also need the `!important` here to be able to override the default hidden behavior on the sphinx rendered scikit-learn.org. See: https://github.com/scikit-learn/scikit-learn/issues/21755 */display: inline-block !important;position: relative;}#sk-container-id-1 div.sk-text-repr-fallback {display: none;}</style><div id=\"sk-container-id-1\" class=\"sk-top-container\"><div class=\"sk-text-repr-fallback\"><pre>KNeighborsClassifier()</pre><b>In a Jupyter environment, please rerun this cell to show the HTML representation or trust the notebook. <br />On GitHub, the HTML representation is unable to render, please try loading this page with nbviewer.org.</b></div><div class=\"sk-container\" hidden><div class=\"sk-item\"><div class=\"sk-estimator sk-toggleable\"><input class=\"sk-toggleable__control sk-hidden--visually\" id=\"sk-estimator-id-1\" type=\"checkbox\" checked><label for=\"sk-estimator-id-1\" class=\"sk-toggleable__label sk-toggleable__label-arrow\">KNeighborsClassifier</label><div class=\"sk-toggleable__content\"><pre>KNeighborsClassifier()</pre></div></div></div></div></div>"
            ]
          },
          "metadata": {},
          "execution_count": 6
        }
      ]
    },
    {
      "cell_type": "markdown",
      "metadata": {
        "id": "yyxW5b395mR2"
      },
      "source": [
        "## Predicting a new result"
      ]
    },
    {
      "cell_type": "code",
      "source": [
        "print(classifier.predict(Sc.transform([[30,87000]])))"
      ],
      "metadata": {
        "colab": {
          "base_uri": "https://localhost:8080/"
        },
        "id": "Noht7xqPNfRz",
        "outputId": "748c7466-237a-4b55-b0d5-de9236f9df16"
      },
      "execution_count": 7,
      "outputs": [
        {
          "output_type": "stream",
          "name": "stdout",
          "text": [
            "[0]\n"
          ]
        }
      ]
    },
    {
      "cell_type": "markdown",
      "metadata": {
        "id": "vKYVQH-l5NpE"
      },
      "source": [
        "## Predicting the Test set results"
      ]
    },
    {
      "cell_type": "code",
      "source": [
        "y_pred = classifier.predict(X_test)\n",
        "print(np.concatenate((y_pred.reshape(len(y_pred), 1) , y_test.reshape(len(y_test), 1)),1))"
      ],
      "metadata": {
        "colab": {
          "base_uri": "https://localhost:8080/"
        },
        "id": "F04VACySNktD",
        "outputId": "6095cde6-49f5-461f-f956-b7aafd80c548"
      },
      "execution_count": 8,
      "outputs": [
        {
          "output_type": "stream",
          "name": "stdout",
          "text": [
            "[[0 0]\n",
            " [0 0]\n",
            " [0 0]\n",
            " [0 0]\n",
            " [0 0]\n",
            " [0 0]\n",
            " [0 0]\n",
            " [1 1]\n",
            " [0 0]\n",
            " [1 0]\n",
            " [0 0]\n",
            " [0 0]\n",
            " [0 0]\n",
            " [0 0]\n",
            " [0 0]\n",
            " [1 0]\n",
            " [0 0]\n",
            " [0 0]\n",
            " [1 1]\n",
            " [0 0]\n",
            " [0 0]\n",
            " [1 1]\n",
            " [0 0]\n",
            " [1 1]\n",
            " [0 0]\n",
            " [1 1]\n",
            " [0 0]\n",
            " [0 0]\n",
            " [0 0]\n",
            " [0 0]\n",
            " [0 0]\n",
            " [0 1]\n",
            " [1 1]\n",
            " [0 0]\n",
            " [0 0]\n",
            " [0 0]\n",
            " [0 0]\n",
            " [0 0]\n",
            " [0 0]\n",
            " [1 1]\n",
            " [0 0]\n",
            " [0 0]\n",
            " [0 0]\n",
            " [0 0]\n",
            " [1 1]\n",
            " [0 0]\n",
            " [0 0]\n",
            " [1 1]\n",
            " [0 0]\n",
            " [1 1]\n",
            " [1 1]\n",
            " [0 0]\n",
            " [0 0]\n",
            " [1 0]\n",
            " [1 1]\n",
            " [1 1]\n",
            " [0 0]\n",
            " [0 0]\n",
            " [1 1]\n",
            " [0 0]\n",
            " [0 0]\n",
            " [1 1]\n",
            " [0 0]\n",
            " [1 1]\n",
            " [0 0]\n",
            " [1 1]\n",
            " [0 0]\n",
            " [0 0]\n",
            " [0 0]\n",
            " [0 0]\n",
            " [1 1]\n",
            " [0 0]\n",
            " [0 0]\n",
            " [1 1]\n",
            " [0 0]\n",
            " [0 0]\n",
            " [0 0]\n",
            " [0 0]\n",
            " [1 1]\n",
            " [1 1]\n",
            " [1 1]\n",
            " [1 0]\n",
            " [0 0]\n",
            " [0 0]\n",
            " [1 1]\n",
            " [0 1]\n",
            " [0 0]\n",
            " [1 1]\n",
            " [1 1]\n",
            " [0 0]\n",
            " [0 0]\n",
            " [1 1]\n",
            " [0 0]\n",
            " [0 0]\n",
            " [0 0]\n",
            " [0 1]\n",
            " [0 0]\n",
            " [1 1]\n",
            " [1 1]\n",
            " [1 1]]\n"
          ]
        }
      ]
    },
    {
      "cell_type": "markdown",
      "metadata": {
        "id": "h4Hwj34ziWQW"
      },
      "source": [
        "## Making the Confusion Matrix"
      ]
    },
    {
      "cell_type": "code",
      "source": [
        "from sklearn.metrics import confusion_matrix, accuracy_score\n",
        "cm = confusion_matrix(y_test, y_pred)\n",
        "print(cm)\n",
        "accuracy_score(y_test, y_pred)"
      ],
      "metadata": {
        "colab": {
          "base_uri": "https://localhost:8080/"
        },
        "id": "VfegMsAvNp1X",
        "outputId": "21fb6fac-7be0-49ea-da6d-b32b73013e61"
      },
      "execution_count": 9,
      "outputs": [
        {
          "output_type": "stream",
          "name": "stdout",
          "text": [
            "[[64  4]\n",
            " [ 3 29]]\n"
          ]
        },
        {
          "output_type": "execute_result",
          "data": {
            "text/plain": [
              "0.93"
            ]
          },
          "metadata": {},
          "execution_count": 9
        }
      ]
    },
    {
      "cell_type": "markdown",
      "metadata": {
        "id": "6OMC_P0diaoD"
      },
      "source": [
        "## Visualising the Training set results"
      ]
    },
    {
      "cell_type": "code",
      "source": [
        "from matplotlib.colors import ListedColormap\n",
        "X_set, y_set = Sc.inverse_transform(X_train), y_train\n",
        "X1, X2 = np.meshgrid(np.arange(start = X_set[:, 0].min() - 10, stop = X_set[:, 0].max() + 10, step = 0.25),\n",
        "                     np.arange(start = X_set[:, 1].min() - 1000, stop = X_set[:, 1].max() + 1000, step = 0.25))\n",
        "plt.contourf(X1, X2, classifier.predict(Sc.transform(np.array([X1.ravel(), X2.ravel()]).T)).reshape(X1.shape),\n",
        "             alpha = 0.75, cmap = ListedColormap(('salmon', 'dodgerblue')))\n",
        "plt.xlim(X1.min(), X1.max())\n",
        "plt.ylim(X2.min(), X2.max())\n",
        "for i, j in enumerate(np.unique(y_set)):\n",
        "    plt.scatter(X_set[y_set == j, 0], X_set[y_set == j, 1], c = ListedColormap(('salmon', 'dodgerblue'))(i), label = j)\n",
        "plt.title('Logistic Regression (Training set)')\n",
        "plt.xlabel('Age')\n",
        "plt.ylabel('Estimated Salary')\n",
        "plt.legend()\n",
        "plt.show()"
      ],
      "metadata": {
        "id": "u5VbfMNgPwBb"
      },
      "execution_count": null,
      "outputs": []
    },
    {
      "cell_type": "markdown",
      "metadata": {
        "id": "SZ-j28aPihZx"
      },
      "source": [
        "## Visualising the Test set results"
      ]
    },
    {
      "cell_type": "code",
      "source": [
        "from matplotlib.colors import ListedColormap\n",
        "X_set, y_set = Sc.inverse_transform(X_test), y_test\n",
        "X1, X2 = np.meshgrid(np.arange(start = X_set[:, 0].min() - 10, stop = X_set[:, 0].max() + 10, step = 0.25),\n",
        "                     np.arange(start = X_set[:, 1].min() - 1000, stop = X_set[:, 1].max() + 1000, step = 0.25))\n",
        "plt.contourf(X1, X2, classifier.predict(Sc.transform(np.array([X1.ravel(), X2.ravel()]).T)).reshape(X1.shape),\n",
        "             alpha = 0.75, cmap = ListedColormap(('salmon', 'dodgerblue')))\n",
        "plt.xlim(X1.min(), X1.max())\n",
        "plt.ylim(X2.min(), X2.max())\n",
        "for i, j in enumerate(np.unique(y_set)):\n",
        "    plt.scatter(X_set[y_set == j, 0], X_set[y_set == j, 1], c = ListedColormap(('salmon', 'dodgerblue'))(i), label = j)\n",
        "plt.title('Logistic Regression (Test set)')\n",
        "plt.xlabel('Age')\n",
        "plt.ylabel('Estimated Salary')\n",
        "plt.legend()\n",
        "plt.show()"
      ],
      "metadata": {
        "id": "Ga28Amy2P4hc"
      },
      "execution_count": null,
      "outputs": []
    }
  ]
}