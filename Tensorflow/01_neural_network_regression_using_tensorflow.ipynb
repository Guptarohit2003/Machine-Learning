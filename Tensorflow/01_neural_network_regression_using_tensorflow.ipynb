{
  "nbformat": 4,
  "nbformat_minor": 0,
  "metadata": {
    "colab": {
      "provenance": [],
      "authorship_tag": "ABX9TyPRWRR6TJIRFq7J3ldjAwbX",
      "include_colab_link": true
    },
    "kernelspec": {
      "name": "python3",
      "display_name": "Python 3"
    },
    "language_info": {
      "name": "python"
    }
  },
  "cells": [
    {
      "cell_type": "markdown",
      "metadata": {
        "id": "view-in-github",
        "colab_type": "text"
      },
      "source": [
        "<a href=\"https://colab.research.google.com/github/Guptarohit2003/Machine-Learning/blob/main/Tensorflow/01_neural_network_regression_using_tensorflow.ipynb\" target=\"_parent\"><img src=\"https://colab.research.google.com/assets/colab-badge.svg\" alt=\"Open In Colab\"/></a>"
      ]
    },
    {
      "cell_type": "markdown",
      "source": [
        "# Introduction to Regression with Neural networks in TensorFlow"
      ],
      "metadata": {
        "id": "pOc-WspS3GzW"
      }
    },
    {
      "cell_type": "code",
      "source": [
        "import tensorflow as tf\n",
        "tf.__version__"
      ],
      "metadata": {
        "colab": {
          "base_uri": "https://localhost:8080/",
          "height": 35
        },
        "id": "TyzLl9Gd3n0b",
        "outputId": "0238cd9a-a422-46a8-9f2e-2dcf457303cc"
      },
      "execution_count": 1,
      "outputs": [
        {
          "output_type": "execute_result",
          "data": {
            "text/plain": [
              "'2.15.0'"
            ],
            "application/vnd.google.colaboratory.intrinsic+json": {
              "type": "string"
            }
          },
          "metadata": {},
          "execution_count": 1
        }
      ]
    },
    {
      "cell_type": "markdown",
      "source": [
        "# Create Data view and fit"
      ],
      "metadata": {
        "id": "5iTXtgl83vcR"
      }
    },
    {
      "cell_type": "code",
      "source": [
        "import numpy as np\n",
        "import pandas as pd\n",
        "import matplotlib.pyplot as plt\n",
        "\n",
        "#Create Feature\n",
        "X = np.array([-7.0, -4.0, -1.0, 2.0, 5.0, 8.0, 11.0, 14.0])\n",
        "\n",
        "# Create Label\n",
        "y = np.array([3.0, 6.0, 9.0, 12.0, 15.0, 18.0, 21.0, 24.0])\n",
        "\n",
        "plt.scatter(X, y)"
      ],
      "metadata": {
        "colab": {
          "base_uri": "https://localhost:8080/",
          "height": 452
        },
        "id": "fQfZ6C8832cF",
        "outputId": "b5a40462-a2b7-4c83-c75c-14ec2610d645"
      },
      "execution_count": 2,
      "outputs": [
        {
          "output_type": "execute_result",
          "data": {
            "text/plain": [
              "<matplotlib.collections.PathCollection at 0x7e39ddb688b0>"
            ]
          },
          "metadata": {},
          "execution_count": 2
        },
        {
          "output_type": "display_data",
          "data": {
            "text/plain": [
              "<Figure size 640x480 with 1 Axes>"
            ],
            "image/png": "[encoded data removed]"
          },
          "metadata": {}
        }
      ]
    },
    {
      "cell_type": "code",
      "source": [
        "y == X + 10"
      ],
      "metadata": {
        "colab": {
          "base_uri": "https://localhost:8080/"
        },
        "id": "tz05Mf9T4qEc",
        "outputId": "4e9df74f-2b2f-4b32-bf41-5fcd922bb3ea"
      },
      "execution_count": 3,
      "outputs": [
        {
          "output_type": "execute_result",
          "data": {
            "text/plain": [
              "array([ True,  True,  True,  True,  True,  True,  True,  True])"
            ]
          },
          "metadata": {},
          "execution_count": 3
        }
      ]
    },
    {
      "cell_type": "markdown",
      "source": [
        "# Input Output Shapes"
      ],
      "metadata": {
        "id": "_OeSk2yW5Bm8"
      }
    },
    {
      "cell_type": "code",
      "source": [
        "#create demo tensor for house prediction\n",
        "house_info = tf.constant([\"bedroom\", \"bathroom\", 'garage'])\n",
        "house_price = tf.constant([939700])\n",
        "house_info, house_price\n"
      ],
      "metadata": {
        "colab": {
          "base_uri": "https://localhost:8080/"
        },
        "id": "w-agQfvP5Mye",
        "outputId": "d2549904-43ae-4744-e54c-3a9dec292922"
      },
      "execution_count": 4,
      "outputs": [
        {
          "output_type": "execute_result",
          "data": {
            "text/plain": [
              "(<tf.Tensor: shape=(3,), dtype=string, numpy=array([b'bedroom', b'bathroom', b'garage'], dtype=object)>,\n",
              " <tf.Tensor: shape=(1,), dtype=int32, numpy=array([939700], dtype=int32)>)"
            ]
          },
          "metadata": {},
          "execution_count": 4
        }
      ]
    },
    {
      "cell_type": "code",
      "source": [
        "X[0], y[0]"
      ],
      "metadata": {
        "colab": {
          "base_uri": "https://localhost:8080/"
        },
        "id": "ltZIka8A5oWL",
        "outputId": "8329e293-850c-4b38-c584-e59ef2e49aa0"
      },
      "execution_count": 5,
      "outputs": [
        {
          "output_type": "execute_result",
          "data": {
            "text/plain": [
              "(-7.0, 3.0)"
            ]
          },
          "metadata": {},
          "execution_count": 5
        }
      ]
    },
    {
      "cell_type": "code",
      "source": [
        "X = tf.constant(X)\n",
        "y = tf.constant(y)\n",
        "\n",
        "X,y"
      ],
      "metadata": {
        "colab": {
          "base_uri": "https://localhost:8080/"
        },
        "id": "XgaEyJ8966fJ",
        "outputId": "cf6e1287-844f-400e-eca4-cf6e6c76ac57"
      },
      "execution_count": 6,
      "outputs": [
        {
          "output_type": "execute_result",
          "data": {
            "text/plain": [
              "(<tf.Tensor: shape=(8,), dtype=float64, numpy=array([-7., -4., -1.,  2.,  5.,  8., 11., 14.])>,\n",
              " <tf.Tensor: shape=(8,), dtype=float64, numpy=array([ 3.,  6.,  9., 12., 15., 18., 21., 24.])>)"
            ]
          },
          "metadata": {},
          "execution_count": 6
        }
      ]
    },
    {
      "cell_type": "markdown",
      "source": [
        "## Steps in modelling with TensorFlow\n",
        "\n",
        "1. Create a model\n",
        "2. Compile a model\n",
        "3. Fitting a model"
      ],
      "metadata": {
        "id": "946qw_ea7byY"
      }
    },
    {
      "cell_type": "code",
      "source": [
        " tf.random.set_seed(42)\n",
        "\n",
        " # Create a model\n",
        " model = tf.keras.Sequential()\n",
        "\n",
        " model.add(tf.keras.layers.Dense(1))\n",
        "\n",
        " # Compile the model\n",
        " model.compile(loss = tf.keras.losses.mae,\n",
        "               optimizer = tf.keras.optimizers.SGD(),\n",
        "               metrics=['mae'])\n",
        "\n",
        " # Fit the model\n",
        " model.fit(tf.expand_dims(X, axis = -1), y, epochs=5)"
      ],
      "metadata": {
        "colab": {
          "base_uri": "https://localhost:8080/"
        },
        "id": "7d6VtNid7mKX",
        "outputId": "c666745b-c982-4d36-aec9-c666b47966e0"
      },
      "execution_count": 7,
      "outputs": [
        {
          "output_type": "stream",
          "name": "stdout",
          "text": [
            "Epoch 1/5\n",
            "1/1 [==============================] - 0s 418ms/step - loss: 12.8266 - mae: 12.8266\n",
            "Epoch 2/5\n",
            "1/1 [==============================] - 0s 11ms/step - loss: 12.6941 - mae: 12.6941\n",
            "Epoch 3/5\n",
            "1/1 [==============================] - 0s 11ms/step - loss: 12.5616 - mae: 12.5616\n",
            "Epoch 4/5\n",
            "1/1 [==============================] - 0s 14ms/step - loss: 12.4291 - mae: 12.4291\n",
            "Epoch 5/5\n",
            "1/1 [==============================] - 0s 13ms/step - loss: 12.2966 - mae: 12.2966\n"
          ]
        },
        {
          "output_type": "execute_result",
          "data": {
            "text/plain": [
              "<keras.src.callbacks.History at 0x7e39d89aba90>"
            ]
          },
          "metadata": {},
          "execution_count": 7
        }
      ]
    },
    {
      "cell_type": "code",
      "source": [
        "# Check X and y\n",
        "X, y"
      ],
      "metadata": {
        "colab": {
          "base_uri": "https://localhost:8080/"
        },
        "id": "q6Jwdk039QPd",
        "outputId": "91a4533a-b362-48b8-929a-10f9a0aa3418"
      },
      "execution_count": 8,
      "outputs": [
        {
          "output_type": "execute_result",
          "data": {
            "text/plain": [
              "(<tf.Tensor: shape=(8,), dtype=float64, numpy=array([-7., -4., -1.,  2.,  5.,  8., 11., 14.])>,\n",
              " <tf.Tensor: shape=(8,), dtype=float64, numpy=array([ 3.,  6.,  9., 12., 15., 18., 21., 24.])>)"
            ]
          },
          "metadata": {},
          "execution_count": 8
        }
      ]
    },
    {
      "cell_type": "code",
      "source": [
        "model.predict([17.0])"
      ],
      "metadata": {
        "colab": {
          "base_uri": "https://localhost:8080/"
        },
        "id": "1cU83J7D-VLf",
        "outputId": "ebeaed84-5a12-4b10-8380-8ab3f4b4f694"
      },
      "execution_count": 9,
      "outputs": [
        {
          "output_type": "stream",
          "name": "stdout",
          "text": [
            "1/1 [==============================] - 0s 117ms/step\n"
          ]
        },
        {
          "output_type": "execute_result",
          "data": {
            "text/plain": [
              "array([[6.2959514]], dtype=float32)"
            ]
          },
          "metadata": {},
          "execution_count": 9
        }
      ]
    },
    {
      "cell_type": "markdown",
      "source": [
        "## Improve our model\n",
        "\n",
        "We can improve our model, by altering the steps we took to create a model\n",
        "\n",
        "**Creating a model** : here we might add more layers, increase # hidden units (neurons) within each of the hidden layers, change the activation function of each layer.\n",
        "\n",
        "**Compiling a model** : here we might change the optimization function or perhaps the **learning rate** of the optimization function.\n",
        "\n",
        "**Fitting a model** : here we might fit a model for more **epochs** or on more data."
      ],
      "metadata": {
        "id": "0gmmIb9--YZx"
      }
    },
    {
      "cell_type": "code",
      "source": [
        "# Let's rebuild the model for improvement\n",
        "model = tf.keras.Sequential([\n",
        "    tf.keras.layers.Dense(1)\n",
        "\n",
        "])\n",
        "\n",
        "model.compile(loss = \"mae\",\n",
        "              optimizer = \"sgd\",\n",
        "              metrics = [\"mae\"])\n",
        "\n",
        "# Fit the model (modified)\n",
        "model.fit(tf.expand_dims(X, axis = -1), y, epochs=100)"
      ],
      "metadata": {
        "colab": {
          "base_uri": "https://localhost:8080/"
        },
        "id": "fzKbrCvKAOp9",
        "outputId": "3fa50bad-d0e0-43bb-950e-35fcf6611631"
      },
      "execution_count": 10,
      "outputs": [
        {
          "output_type": "stream",
          "name": "stdout",
          "text": [
            "Epoch 1/100\n",
            "1/1 [==============================] - 0s 380ms/step - loss: 11.1398 - mae: 11.1398\n",
            "Epoch 2/100\n",
            "1/1 [==============================] - 0s 11ms/step - loss: 11.0073 - mae: 11.0073\n",
            "Epoch 3/100\n",
            "1/1 [==============================] - 0s 12ms/step - loss: 10.8748 - mae: 10.8748\n",
            "Epoch 4/100\n",
            "1/1 [==============================] - 0s 11ms/step - loss: 10.7423 - mae: 10.7423\n",
            "Epoch 5/100\n",
            "1/1 [==============================] - 0s 12ms/step - loss: 10.6098 - mae: 10.6098\n",
            "Epoch 6/100\n",
            "1/1 [==============================] - 0s 10ms/step - loss: 10.4773 - mae: 10.4773\n",
            "Epoch 7/100\n",
            "1/1 [==============================] - 0s 10ms/step - loss: 10.3448 - mae: 10.3448\n",
            "Epoch 8/100\n",
            "1/1 [==============================] - 0s 12ms/step - loss: 10.2123 - mae: 10.2123\n",
            "Epoch 9/100\n",
            "1/1 [==============================] - 0s 20ms/step - loss: 10.0798 - mae: 10.0798\n",
            "Epoch 10/100\n",
            "1/1 [==============================] - 0s 16ms/step - loss: 9.9473 - mae: 9.9473\n",
            "Epoch 11/100\n",
            "1/1 [==============================] - 0s 18ms/step - loss: 9.8148 - mae: 9.8148\n",
            "Epoch 12/100\n",
            "1/1 [==============================] - 0s 12ms/step - loss: 9.6823 - mae: 9.6823\n",
            "Epoch 13/100\n",
            "1/1 [==============================] - 0s 11ms/step - loss: 9.5498 - mae: 9.5498\n",
            "Epoch 14/100\n",
            "1/1 [==============================] - 0s 12ms/step - loss: 9.4173 - mae: 9.4173\n",
            "Epoch 15/100\n",
            "1/1 [==============================] - 0s 11ms/step - loss: 9.2848 - mae: 9.2848\n",
            "Epoch 16/100\n",
            "1/1 [==============================] - 0s 11ms/step - loss: 9.1523 - mae: 9.1523\n",
            "Epoch 17/100\n",
            "1/1 [==============================] - 0s 11ms/step - loss: 9.0198 - mae: 9.0198\n",
            "Epoch 18/100\n",
            "1/1 [==============================] - 0s 13ms/step - loss: 8.8873 - mae: 8.8873\n",
            "Epoch 19/100\n",
            "1/1 [==============================] - 0s 13ms/step - loss: 8.7548 - mae: 8.7548\n",
            "Epoch 20/100\n",
            "1/1 [==============================] - 0s 12ms/step - loss: 8.6223 - mae: 8.6223\n",
            "Epoch 21/100\n",
            "1/1 [==============================] - 0s 10ms/step - loss: 8.4898 - mae: 8.4898\n",
            "Epoch 22/100\n",
            "1/1 [==============================] - 0s 11ms/step - loss: 8.3573 - mae: 8.3573\n",
            "Epoch 23/100\n",
            "1/1 [==============================] - 0s 16ms/step - loss: 8.2248 - mae: 8.2248\n",
            "Epoch 24/100\n",
            "1/1 [==============================] - 0s 16ms/step - loss: 8.0923 - mae: 8.0923\n",
            "Epoch 25/100\n",
            "1/1 [==============================] - 0s 11ms/step - loss: 7.9598 - mae: 7.9598\n",
            "Epoch 26/100\n",
            "1/1 [==============================] - 0s 11ms/step - loss: 7.8273 - mae: 7.8273\n",
            "Epoch 27/100\n",
            "1/1 [==============================] - 0s 11ms/step - loss: 7.6948 - mae: 7.6948\n",
            "Epoch 28/100\n",
            "1/1 [==============================] - 0s 11ms/step - loss: 7.5623 - mae: 7.5623\n",
            "Epoch 29/100\n",
            "1/1 [==============================] - 0s 11ms/step - loss: 7.4298 - mae: 7.4298\n",
            "Epoch 30/100\n",
            "1/1 [==============================] - 0s 13ms/step - loss: 7.2973 - mae: 7.2973\n",
            "Epoch 31/100\n",
            "1/1 [==============================] - 0s 11ms/step - loss: 7.2750 - mae: 7.2750\n",
            "Epoch 32/100\n",
            "1/1 [==============================] - 0s 14ms/step - loss: 7.2694 - mae: 7.2694\n",
            "Epoch 33/100\n",
            "1/1 [==============================] - 0s 14ms/step - loss: 7.2638 - mae: 7.2638\n",
            "Epoch 34/100\n",
            "1/1 [==============================] - 0s 12ms/step - loss: 7.2581 - mae: 7.2581\n",
            "Epoch 35/100\n",
            "1/1 [==============================] - 0s 13ms/step - loss: 7.2525 - mae: 7.2525\n",
            "Epoch 36/100\n",
            "1/1 [==============================] - 0s 13ms/step - loss: 7.2469 - mae: 7.2469\n",
            "Epoch 37/100\n",
            "1/1 [==============================] - 0s 11ms/step - loss: 7.2413 - mae: 7.2413\n",
            "Epoch 38/100\n",
            "1/1 [==============================] - 0s 10ms/step - loss: 7.2356 - mae: 7.2356\n",
            "Epoch 39/100\n",
            "1/1 [==============================] - 0s 10ms/step - loss: 7.2300 - mae: 7.2300\n",
            "Epoch 40/100\n",
            "1/1 [==============================] - 0s 10ms/step - loss: 7.2244 - mae: 7.2244\n",
            "Epoch 41/100\n",
            "1/1 [==============================] - 0s 10ms/step - loss: 7.2187 - mae: 7.2187\n",
            "Epoch 42/100\n",
            "1/1 [==============================] - 0s 14ms/step - loss: 7.2131 - mae: 7.2131\n",
            "Epoch 43/100\n",
            "1/1 [==============================] - 0s 12ms/step - loss: 7.2075 - mae: 7.2075\n",
            "Epoch 44/100\n",
            "1/1 [==============================] - 0s 12ms/step - loss: 7.2019 - mae: 7.2019\n",
            "Epoch 45/100\n",
            "1/1 [==============================] - 0s 15ms/step - loss: 7.1963 - mae: 7.1963\n",
            "Epoch 46/100\n",
            "1/1 [==============================] - 0s 12ms/step - loss: 7.1906 - mae: 7.1906\n",
            "Epoch 47/100\n",
            "1/1 [==============================] - 0s 13ms/step - loss: 7.1850 - mae: 7.1850\n",
            "Epoch 48/100\n",
            "1/1 [==============================] - 0s 11ms/step - loss: 7.1794 - mae: 7.1794\n",
            "Epoch 49/100\n",
            "1/1 [==============================] - 0s 10ms/step - loss: 7.1737 - mae: 7.1737\n",
            "Epoch 50/100\n",
            "1/1 [==============================] - 0s 13ms/step - loss: 7.1681 - mae: 7.1681\n",
            "Epoch 51/100\n",
            "1/1 [==============================] - 0s 11ms/step - loss: 7.1625 - mae: 7.1625\n",
            "Epoch 52/100\n",
            "1/1 [==============================] - 0s 11ms/step - loss: 7.1569 - mae: 7.1569\n",
            "Epoch 53/100\n",
            "1/1 [==============================] - 0s 11ms/step - loss: 7.1512 - mae: 7.1512\n",
            "Epoch 54/100\n",
            "1/1 [==============================] - 0s 15ms/step - loss: 7.1456 - mae: 7.1456\n",
            "Epoch 55/100\n",
            "1/1 [==============================] - 0s 13ms/step - loss: 7.1400 - mae: 7.1400\n",
            "Epoch 56/100\n",
            "1/1 [==============================] - 0s 12ms/step - loss: 7.1344 - mae: 7.1344\n",
            "Epoch 57/100\n",
            "1/1 [==============================] - 0s 13ms/step - loss: 7.1288 - mae: 7.1288\n",
            "Epoch 58/100\n",
            "1/1 [==============================] - 0s 10ms/step - loss: 7.1231 - mae: 7.1231\n",
            "Epoch 59/100\n",
            "1/1 [==============================] - 0s 9ms/step - loss: 7.1175 - mae: 7.1175\n",
            "Epoch 60/100\n",
            "1/1 [==============================] - 0s 15ms/step - loss: 7.1119 - mae: 7.1119\n",
            "Epoch 61/100\n",
            "1/1 [==============================] - 0s 10ms/step - loss: 7.1062 - mae: 7.1062\n",
            "Epoch 62/100\n",
            "1/1 [==============================] - 0s 9ms/step - loss: 7.1006 - mae: 7.1006\n",
            "Epoch 63/100\n",
            "1/1 [==============================] - 0s 9ms/step - loss: 7.0950 - mae: 7.0950\n",
            "Epoch 64/100\n",
            "1/1 [==============================] - 0s 15ms/step - loss: 7.0894 - mae: 7.0894\n",
            "Epoch 65/100\n",
            "1/1 [==============================] - 0s 11ms/step - loss: 7.0838 - mae: 7.0838\n",
            "Epoch 66/100\n",
            "1/1 [==============================] - 0s 11ms/step - loss: 7.0781 - mae: 7.0781\n",
            "Epoch 67/100\n",
            "1/1 [==============================] - 0s 13ms/step - loss: 7.0725 - mae: 7.0725\n",
            "Epoch 68/100\n",
            "1/1 [==============================] - 0s 10ms/step - loss: 7.0669 - mae: 7.0669\n",
            "Epoch 69/100\n",
            "1/1 [==============================] - 0s 10ms/step - loss: 7.0613 - mae: 7.0613\n",
            "Epoch 70/100\n",
            "1/1 [==============================] - 0s 14ms/step - loss: 7.0556 - mae: 7.0556\n",
            "Epoch 71/100\n",
            "1/1 [==============================] - 0s 15ms/step - loss: 7.0500 - mae: 7.0500\n",
            "Epoch 72/100\n",
            "1/1 [==============================] - 0s 17ms/step - loss: 7.0444 - mae: 7.0444\n",
            "Epoch 73/100\n",
            "1/1 [==============================] - 0s 12ms/step - loss: 7.0387 - mae: 7.0387\n",
            "Epoch 74/100\n",
            "1/1 [==============================] - 0s 10ms/step - loss: 7.0331 - mae: 7.0331\n",
            "Epoch 75/100\n",
            "1/1 [==============================] - 0s 14ms/step - loss: 7.0275 - mae: 7.0275\n",
            "Epoch 76/100\n",
            "1/1 [==============================] - 0s 15ms/step - loss: 7.0219 - mae: 7.0219\n",
            "Epoch 77/100\n",
            "1/1 [==============================] - 0s 12ms/step - loss: 7.0163 - mae: 7.0163\n",
            "Epoch 78/100\n",
            "1/1 [==============================] - 0s 15ms/step - loss: 7.0106 - mae: 7.0106\n",
            "Epoch 79/100\n",
            "1/1 [==============================] - 0s 16ms/step - loss: 7.0050 - mae: 7.0050\n",
            "Epoch 80/100\n",
            "1/1 [==============================] - 0s 17ms/step - loss: 6.9994 - mae: 6.9994\n",
            "Epoch 81/100\n",
            "1/1 [==============================] - 0s 12ms/step - loss: 6.9938 - mae: 6.9938\n",
            "Epoch 82/100\n",
            "1/1 [==============================] - 0s 12ms/step - loss: 6.9881 - mae: 6.9881\n",
            "Epoch 83/100\n",
            "1/1 [==============================] - 0s 18ms/step - loss: 6.9825 - mae: 6.9825\n",
            "Epoch 84/100\n",
            "1/1 [==============================] - 0s 15ms/step - loss: 6.9769 - mae: 6.9769\n",
            "Epoch 85/100\n",
            "1/1 [==============================] - 0s 11ms/step - loss: 6.9713 - mae: 6.9713\n",
            "Epoch 86/100\n",
            "1/1 [==============================] - 0s 13ms/step - loss: 6.9656 - mae: 6.9656\n",
            "Epoch 87/100\n",
            "1/1 [==============================] - 0s 13ms/step - loss: 6.9600 - mae: 6.9600\n",
            "Epoch 88/100\n",
            "1/1 [==============================] - 0s 11ms/step - loss: 6.9544 - mae: 6.9544\n",
            "Epoch 89/100\n",
            "1/1 [==============================] - 0s 11ms/step - loss: 6.9488 - mae: 6.9488\n",
            "Epoch 90/100\n",
            "1/1 [==============================] - 0s 11ms/step - loss: 6.9431 - mae: 6.9431\n",
            "Epoch 91/100\n",
            "1/1 [==============================] - 0s 11ms/step - loss: 6.9375 - mae: 6.9375\n",
            "Epoch 92/100\n",
            "1/1 [==============================] - 0s 11ms/step - loss: 6.9319 - mae: 6.9319\n",
            "Epoch 93/100\n",
            "1/1 [==============================] - 0s 16ms/step - loss: 6.9263 - mae: 6.9263\n",
            "Epoch 94/100\n",
            "1/1 [==============================] - 0s 12ms/step - loss: 6.9206 - mae: 6.9206\n",
            "Epoch 95/100\n",
            "1/1 [==============================] - 0s 13ms/step - loss: 6.9150 - mae: 6.9150\n",
            "Epoch 96/100\n",
            "1/1 [==============================] - 0s 14ms/step - loss: 6.9094 - mae: 6.9094\n",
            "Epoch 97/100\n",
            "1/1 [==============================] - 0s 18ms/step - loss: 6.9038 - mae: 6.9038\n",
            "Epoch 98/100\n",
            "1/1 [==============================] - 0s 12ms/step - loss: 6.8981 - mae: 6.8981\n",
            "Epoch 99/100\n",
            "1/1 [==============================] - 0s 9ms/step - loss: 6.8925 - mae: 6.8925\n",
            "Epoch 100/100\n",
            "1/1 [==============================] - 0s 9ms/step - loss: 6.8869 - mae: 6.8869\n"
          ]
        },
        {
          "output_type": "execute_result",
          "data": {
            "text/plain": [
              "<keras.src.callbacks.History at 0x7e39cbfef790>"
            ]
          },
          "metadata": {},
          "execution_count": 10
        }
      ]
    },
    {
      "cell_type": "code",
      "source": [
        "X, y"
      ],
      "metadata": {
        "colab": {
          "base_uri": "https://localhost:8080/"
        },
        "id": "yfZalF_HBK7S",
        "outputId": "6217a306-dabc-4c04-ccdd-d3d045a0f550"
      },
      "execution_count": 11,
      "outputs": [
        {
          "output_type": "execute_result",
          "data": {
            "text/plain": [
              "(<tf.Tensor: shape=(8,), dtype=float64, numpy=array([-7., -4., -1.,  2.,  5.,  8., 11., 14.])>,\n",
              " <tf.Tensor: shape=(8,), dtype=float64, numpy=array([ 3.,  6.,  9., 12., 15., 18., 21., 24.])>)"
            ]
          },
          "metadata": {},
          "execution_count": 11
        }
      ]
    },
    {
      "cell_type": "code",
      "source": [
        "model.predict([17.0])"
      ],
      "metadata": {
        "colab": {
          "base_uri": "https://localhost:8080/"
        },
        "id": "wtCKLilZBRVM",
        "outputId": "5df3ed5f-532a-46e1-dee1-d8a61ef01b26"
      },
      "execution_count": 12,
      "outputs": [
        {
          "output_type": "stream",
          "name": "stdout",
          "text": [
            "1/1 [==============================] - 0s 113ms/step\n"
          ]
        },
        {
          "output_type": "execute_result",
          "data": {
            "text/plain": [
              "array([[30.138603]], dtype=float32)"
            ]
          },
          "metadata": {},
          "execution_count": 12
        }
      ]
    },
    {
      "cell_type": "code",
      "source": [
        "model = tf.keras.Sequential([\n",
        "     tf.keras.layers.Dense(100, activation = 'relu'),\n",
        "     tf.keras.layers.Dense(100, activation = 'relu'),\n",
        "     tf.keras.layers.Dense(100, activation = 'relu'),\n",
        "     tf.keras.layers.Dense(1)\n",
        " ])\n",
        "\n",
        "\n",
        "model.compile(loss= 'mae',\n",
        "               optimizer = 'sgd',\n",
        "               metrics=[\"mae\"])\n",
        "\n",
        "model.fit(tf.expand_dims(X, axis = -1), y, epochs=100)"
      ],
      "metadata": {
        "colab": {
          "base_uri": "https://localhost:8080/"
        },
        "id": "ozZzNZ3i9sCC",
        "outputId": "4940ad09-8e9f-429a-b165-341849371e9a"
      },
      "execution_count": 13,
      "outputs": [
        {
          "output_type": "stream",
          "name": "stdout",
          "text": [
            "Epoch 1/100\n",
            "1/1 [==============================] - 1s 784ms/step - loss: 13.2700 - mae: 13.2700\n",
            "Epoch 2/100\n",
            "1/1 [==============================] - 0s 14ms/step - loss: 12.9518 - mae: 12.9518\n",
            "Epoch 3/100\n",
            "1/1 [==============================] - 0s 16ms/step - loss: 12.6507 - mae: 12.6507\n",
            "Epoch 4/100\n",
            "1/1 [==============================] - 0s 13ms/step - loss: 12.3518 - mae: 12.3518\n",
            "Epoch 5/100\n",
            "1/1 [==============================] - 0s 12ms/step - loss: 12.0223 - mae: 12.0223\n",
            "Epoch 6/100\n",
            "1/1 [==============================] - 0s 16ms/step - loss: 11.6639 - mae: 11.6639\n",
            "Epoch 7/100\n",
            "1/1 [==============================] - 0s 13ms/step - loss: 11.2786 - mae: 11.2786\n",
            "Epoch 8/100\n",
            "1/1 [==============================] - 0s 11ms/step - loss: 10.8165 - mae: 10.8165\n",
            "Epoch 9/100\n",
            "1/1 [==============================] - 0s 13ms/step - loss: 10.3307 - mae: 10.3307\n",
            "Epoch 10/100\n",
            "1/1 [==============================] - 0s 17ms/step - loss: 9.7530 - mae: 9.7530\n",
            "Epoch 11/100\n",
            "1/1 [==============================] - 0s 15ms/step - loss: 9.0467 - mae: 9.0467\n",
            "Epoch 12/100\n",
            "1/1 [==============================] - 0s 12ms/step - loss: 8.1424 - mae: 8.1424\n",
            "Epoch 13/100\n",
            "1/1 [==============================] - 0s 11ms/step - loss: 6.9405 - mae: 6.9405\n",
            "Epoch 14/100\n",
            "1/1 [==============================] - 0s 12ms/step - loss: 5.2982 - mae: 5.2982\n",
            "Epoch 15/100\n",
            "1/1 [==============================] - 0s 15ms/step - loss: 3.9576 - mae: 3.9576\n",
            "Epoch 16/100\n",
            "1/1 [==============================] - 0s 12ms/step - loss: 4.0236 - mae: 4.0236\n",
            "Epoch 17/100\n",
            "1/1 [==============================] - 0s 11ms/step - loss: 3.9689 - mae: 3.9689\n",
            "Epoch 18/100\n",
            "1/1 [==============================] - 0s 12ms/step - loss: 3.9724 - mae: 3.9724\n",
            "Epoch 19/100\n",
            "1/1 [==============================] - 0s 12ms/step - loss: 3.9831 - mae: 3.9831\n",
            "Epoch 20/100\n",
            "1/1 [==============================] - 0s 12ms/step - loss: 3.9189 - mae: 3.9189\n",
            "Epoch 21/100\n",
            "1/1 [==============================] - 0s 11ms/step - loss: 3.9977 - mae: 3.9977\n",
            "Epoch 22/100\n",
            "1/1 [==============================] - 0s 10ms/step - loss: 3.8646 - mae: 3.8646\n",
            "Epoch 23/100\n",
            "1/1 [==============================] - 0s 11ms/step - loss: 4.0146 - mae: 4.0146\n",
            "Epoch 24/100\n",
            "1/1 [==============================] - 0s 12ms/step - loss: 3.8117 - mae: 3.8117\n",
            "Epoch 25/100\n",
            "1/1 [==============================] - 0s 11ms/step - loss: 4.0158 - mae: 4.0158\n",
            "Epoch 26/100\n",
            "1/1 [==============================] - 0s 11ms/step - loss: 3.8280 - mae: 3.8280\n",
            "Epoch 27/100\n",
            "1/1 [==============================] - 0s 10ms/step - loss: 3.9616 - mae: 3.9616\n",
            "Epoch 28/100\n",
            "1/1 [==============================] - 0s 10ms/step - loss: 3.8457 - mae: 3.8457\n",
            "Epoch 29/100\n",
            "1/1 [==============================] - 0s 10ms/step - loss: 3.9052 - mae: 3.9052\n",
            "Epoch 30/100\n",
            "1/1 [==============================] - 0s 15ms/step - loss: 3.8641 - mae: 3.8641\n",
            "Epoch 31/100\n",
            "1/1 [==============================] - 0s 11ms/step - loss: 3.8476 - mae: 3.8476\n",
            "Epoch 32/100\n",
            "1/1 [==============================] - 0s 14ms/step - loss: 3.8843 - mae: 3.8843\n",
            "Epoch 33/100\n",
            "1/1 [==============================] - 0s 12ms/step - loss: 3.7885 - mae: 3.7885\n",
            "Epoch 34/100\n",
            "1/1 [==============================] - 0s 12ms/step - loss: 3.9060 - mae: 3.9060\n",
            "Epoch 35/100\n",
            "1/1 [==============================] - 0s 15ms/step - loss: 3.7273 - mae: 3.7273\n",
            "Epoch 36/100\n",
            "1/1 [==============================] - 0s 11ms/step - loss: 3.9282 - mae: 3.9282\n",
            "Epoch 37/100\n",
            "1/1 [==============================] - 0s 18ms/step - loss: 3.7297 - mae: 3.7297\n",
            "Epoch 38/100\n",
            "1/1 [==============================] - 0s 11ms/step - loss: 3.8719 - mae: 3.8719\n",
            "Epoch 39/100\n",
            "1/1 [==============================] - 0s 11ms/step - loss: 3.7518 - mae: 3.7518\n",
            "Epoch 40/100\n",
            "1/1 [==============================] - 0s 12ms/step - loss: 3.8101 - mae: 3.8101\n",
            "Epoch 41/100\n",
            "1/1 [==============================] - 0s 11ms/step - loss: 3.7759 - mae: 3.7759\n",
            "Epoch 42/100\n",
            "1/1 [==============================] - 0s 11ms/step - loss: 3.7459 - mae: 3.7459\n",
            "Epoch 43/100\n",
            "1/1 [==============================] - 0s 14ms/step - loss: 3.8002 - mae: 3.8002\n",
            "Epoch 44/100\n",
            "1/1 [==============================] - 0s 16ms/step - loss: 3.6859 - mae: 3.6859\n",
            "Epoch 45/100\n",
            "1/1 [==============================] - 0s 14ms/step - loss: 3.8537 - mae: 3.8537\n",
            "Epoch 46/100\n",
            "1/1 [==============================] - 0s 15ms/step - loss: 3.6600 - mae: 3.6600\n",
            "Epoch 47/100\n",
            "1/1 [==============================] - 0s 12ms/step - loss: 3.8097 - mae: 3.8097\n",
            "Epoch 48/100\n",
            "1/1 [==============================] - 0s 12ms/step - loss: 3.6834 - mae: 3.6834\n",
            "Epoch 49/100\n",
            "1/1 [==============================] - 0s 12ms/step - loss: 3.7430 - mae: 3.7430\n",
            "Epoch 50/100\n",
            "1/1 [==============================] - 0s 14ms/step - loss: 3.7089 - mae: 3.7089\n",
            "Epoch 51/100\n",
            "1/1 [==============================] - 0s 12ms/step - loss: 3.6743 - mae: 3.6743\n",
            "Epoch 52/100\n",
            "1/1 [==============================] - 0s 14ms/step - loss: 3.7356 - mae: 3.7356\n",
            "Epoch 53/100\n",
            "1/1 [==============================] - 0s 13ms/step - loss: 3.6036 - mae: 3.6036\n",
            "Epoch 54/100\n",
            "1/1 [==============================] - 0s 13ms/step - loss: 3.7648 - mae: 3.7648\n",
            "Epoch 55/100\n",
            "1/1 [==============================] - 0s 13ms/step - loss: 3.5829 - mae: 3.5829\n",
            "Epoch 56/100\n",
            "1/1 [==============================] - 0s 16ms/step - loss: 3.7255 - mae: 3.7255\n",
            "Epoch 57/100\n",
            "1/1 [==============================] - 0s 11ms/step - loss: 3.6320 - mae: 3.6320\n",
            "Epoch 58/100\n",
            "1/1 [==============================] - 0s 11ms/step - loss: 3.6535 - mae: 3.6535\n",
            "Epoch 59/100\n",
            "1/1 [==============================] - 0s 17ms/step - loss: 3.6599 - mae: 3.6599\n",
            "Epoch 60/100\n",
            "1/1 [==============================] - 0s 13ms/step - loss: 3.5795 - mae: 3.5795\n",
            "Epoch 61/100\n",
            "1/1 [==============================] - 0s 12ms/step - loss: 3.6899 - mae: 3.6899\n",
            "Epoch 62/100\n",
            "1/1 [==============================] - 0s 10ms/step - loss: 3.5073 - mae: 3.5073\n",
            "Epoch 63/100\n",
            "1/1 [==============================] - 0s 11ms/step - loss: 3.7070 - mae: 3.7070\n",
            "Epoch 64/100\n",
            "1/1 [==============================] - 0s 10ms/step - loss: 3.5628 - mae: 3.5628\n",
            "Epoch 65/100\n",
            "1/1 [==============================] - 0s 12ms/step - loss: 3.6199 - mae: 3.6199\n",
            "Epoch 66/100\n",
            "1/1 [==============================] - 0s 12ms/step - loss: 3.5919 - mae: 3.5919\n",
            "Epoch 67/100\n",
            "1/1 [==============================] - 0s 12ms/step - loss: 3.5421 - mae: 3.5421\n",
            "Epoch 68/100\n",
            "1/1 [==============================] - 0s 11ms/step - loss: 3.6234 - mae: 3.6234\n",
            "Epoch 69/100\n",
            "1/1 [==============================] - 0s 17ms/step - loss: 3.4618 - mae: 3.4618\n",
            "Epoch 70/100\n",
            "1/1 [==============================] - 0s 16ms/step - loss: 3.6555 - mae: 3.6555\n",
            "Epoch 71/100\n",
            "1/1 [==============================] - 0s 12ms/step - loss: 3.4731 - mae: 3.4731\n",
            "Epoch 72/100\n",
            "1/1 [==============================] - 0s 13ms/step - loss: 3.5827 - mae: 3.5827\n",
            "Epoch 73/100\n",
            "1/1 [==============================] - 0s 12ms/step - loss: 3.5044 - mae: 3.5044\n",
            "Epoch 74/100\n",
            "1/1 [==============================] - 0s 13ms/step - loss: 3.5011 - mae: 3.5011\n",
            "Epoch 75/100\n",
            "1/1 [==============================] - 0s 10ms/step - loss: 3.5389 - mae: 3.5389\n",
            "Epoch 76/100\n",
            "1/1 [==============================] - 0s 11ms/step - loss: 3.4303 - mae: 3.4303\n",
            "Epoch 77/100\n",
            "1/1 [==============================] - 0s 11ms/step - loss: 3.6006 - mae: 3.6006\n",
            "Epoch 78/100\n",
            "1/1 [==============================] - 0s 11ms/step - loss: 3.4206 - mae: 3.4206\n",
            "Epoch 79/100\n",
            "1/1 [==============================] - 0s 12ms/step - loss: 3.5237 - mae: 3.5237\n",
            "Epoch 80/100\n",
            "1/1 [==============================] - 0s 12ms/step - loss: 3.4541 - mae: 3.4541\n",
            "Epoch 81/100\n",
            "1/1 [==============================] - 0s 11ms/step - loss: 3.4373 - mae: 3.4373\n",
            "Epoch 82/100\n",
            "1/1 [==============================] - 0s 10ms/step - loss: 3.4890 - mae: 3.4890\n",
            "Epoch 83/100\n",
            "1/1 [==============================] - 0s 11ms/step - loss: 3.3480 - mae: 3.3480\n",
            "Epoch 84/100\n",
            "1/1 [==============================] - 0s 12ms/step - loss: 3.5258 - mae: 3.5258\n",
            "Epoch 85/100\n",
            "1/1 [==============================] - 0s 13ms/step - loss: 3.3494 - mae: 3.3494\n",
            "Epoch 86/100\n",
            "1/1 [==============================] - 0s 11ms/step - loss: 3.4723 - mae: 3.4723\n",
            "Epoch 87/100\n",
            "1/1 [==============================] - 0s 11ms/step - loss: 3.4079 - mae: 3.4079\n",
            "Epoch 88/100\n",
            "1/1 [==============================] - 0s 12ms/step - loss: 3.3571 - mae: 3.3571\n",
            "Epoch 89/100\n",
            "1/1 [==============================] - 0s 12ms/step - loss: 3.4439 - mae: 3.4439\n",
            "Epoch 90/100\n",
            "1/1 [==============================] - 0s 12ms/step - loss: 3.2740 - mae: 3.2740\n",
            "Epoch 91/100\n",
            "1/1 [==============================] - 0s 12ms/step - loss: 3.4592 - mae: 3.4592\n",
            "Epoch 92/100\n",
            "1/1 [==============================] - 0s 12ms/step - loss: 3.3100 - mae: 3.3100\n",
            "Epoch 93/100\n",
            "1/1 [==============================] - 0s 12ms/step - loss: 3.3653 - mae: 3.3653\n",
            "Epoch 94/100\n",
            "1/1 [==============================] - 0s 15ms/step - loss: 3.3464 - mae: 3.3464\n",
            "Epoch 95/100\n",
            "1/1 [==============================] - 0s 17ms/step - loss: 3.2679 - mae: 3.2679\n",
            "Epoch 96/100\n",
            "1/1 [==============================] - 0s 14ms/step - loss: 3.3863 - mae: 3.3863\n",
            "Epoch 97/100\n",
            "1/1 [==============================] - 0s 13ms/step - loss: 3.2168 - mae: 3.2168\n",
            "Epoch 98/100\n",
            "1/1 [==============================] - 0s 12ms/step - loss: 3.3813 - mae: 3.3813\n",
            "Epoch 99/100\n",
            "1/1 [==============================] - 0s 12ms/step - loss: 3.2783 - mae: 3.2783\n",
            "Epoch 100/100\n",
            "1/1 [==============================] - 0s 11ms/step - loss: 3.2591 - mae: 3.2591\n"
          ]
        },
        {
          "output_type": "execute_result",
          "data": {
            "text/plain": [
              "<keras.src.callbacks.History at 0x7e39d9227460>"
            ]
          },
          "metadata": {},
          "execution_count": 13
        }
      ]
    },
    {
      "cell_type": "code",
      "source": [
        "model.predict([17.0])"
      ],
      "metadata": {
        "colab": {
          "base_uri": "https://localhost:8080/"
        },
        "id": "OeSJ1ESACV5S",
        "outputId": "00fee866-b7e3-4c80-d17d-05c4491b5325"
      },
      "execution_count": 14,
      "outputs": [
        {
          "output_type": "stream",
          "name": "stdout",
          "text": [
            "1/1 [==============================] - 0s 110ms/step\n"
          ]
        },
        {
          "output_type": "execute_result",
          "data": {
            "text/plain": [
              "array([[33.43577]], dtype=float32)"
            ]
          },
          "metadata": {},
          "execution_count": 14
        }
      ]
    },
    {
      "cell_type": "code",
      "source": [
        "model = tf.keras.Sequential([\n",
        "     tf.keras.layers.Dense(100, activation = 'relu'),\n",
        "     tf.keras.layers.Dense(100, activation = 'relu'),\n",
        "     tf.keras.layers.Dense(100, activation = 'relu'),\n",
        "     tf.keras.layers.Dense(1)\n",
        " ])\n",
        "\n",
        "\n",
        "model.compile(loss= tf.keras.losses.mae,\n",
        "               optimizer = tf.keras.optimizers.Adam(learning_rate= 0.0001),\n",
        "               metrics=[\"mae\"])\n",
        "\n",
        "model.fit(tf.expand_dims(X, axis = -1), y, epochs=100)"
      ],
      "metadata": {
        "colab": {
          "base_uri": "https://localhost:8080/"
        },
        "id": "dL1kSFQ0CiZn",
        "outputId": "99515460-8cc9-4e66-fcb6-af4503975655"
      },
      "execution_count": 15,
      "outputs": [
        {
          "output_type": "stream",
          "name": "stdout",
          "text": [
            "Epoch 1/100\n",
            "1/1 [==============================] - 1s 984ms/step - loss: 13.5541 - mae: 13.5541\n",
            "Epoch 2/100\n",
            "1/1 [==============================] - 0s 14ms/step - loss: 13.5115 - mae: 13.5115\n",
            "Epoch 3/100\n",
            "1/1 [==============================] - 0s 12ms/step - loss: 13.4690 - mae: 13.4690\n",
            "Epoch 4/100\n",
            "1/1 [==============================] - 0s 14ms/step - loss: 13.4267 - mae: 13.4267\n",
            "Epoch 5/100\n",
            "1/1 [==============================] - 0s 15ms/step - loss: 13.3837 - mae: 13.3837\n",
            "Epoch 6/100\n",
            "1/1 [==============================] - 0s 15ms/step - loss: 13.3403 - mae: 13.3403\n",
            "Epoch 7/100\n",
            "1/1 [==============================] - 0s 13ms/step - loss: 13.2966 - mae: 13.2966\n",
            "Epoch 8/100\n",
            "1/1 [==============================] - 0s 12ms/step - loss: 13.2527 - mae: 13.2527\n",
            "Epoch 9/100\n",
            "1/1 [==============================] - 0s 15ms/step - loss: 13.2089 - mae: 13.2089\n",
            "Epoch 10/100\n",
            "1/1 [==============================] - 0s 12ms/step - loss: 13.1650 - mae: 13.1650\n",
            "Epoch 11/100\n",
            "1/1 [==============================] - 0s 12ms/step - loss: 13.1215 - mae: 13.1215\n",
            "Epoch 12/100\n",
            "1/1 [==============================] - 0s 13ms/step - loss: 13.0785 - mae: 13.0785\n",
            "Epoch 13/100\n",
            "1/1 [==============================] - 0s 12ms/step - loss: 13.0358 - mae: 13.0358\n",
            "Epoch 14/100\n",
            "1/1 [==============================] - 0s 12ms/step - loss: 12.9931 - mae: 12.9931\n",
            "Epoch 15/100\n",
            "1/1 [==============================] - 0s 12ms/step - loss: 12.9505 - mae: 12.9505\n",
            "Epoch 16/100\n",
            "1/1 [==============================] - 0s 11ms/step - loss: 12.9077 - mae: 12.9077\n",
            "Epoch 17/100\n",
            "1/1 [==============================] - 0s 13ms/step - loss: 12.8648 - mae: 12.8648\n",
            "Epoch 18/100\n",
            "1/1 [==============================] - 0s 11ms/step - loss: 12.8230 - mae: 12.8230\n",
            "Epoch 19/100\n",
            "1/1 [==============================] - 0s 12ms/step - loss: 12.7817 - mae: 12.7817\n",
            "Epoch 20/100\n",
            "1/1 [==============================] - 0s 12ms/step - loss: 12.7404 - mae: 12.7404\n",
            "Epoch 21/100\n",
            "1/1 [==============================] - 0s 13ms/step - loss: 12.6993 - mae: 12.6993\n",
            "Epoch 22/100\n",
            "1/1 [==============================] - 0s 15ms/step - loss: 12.6581 - mae: 12.6581\n",
            "Epoch 23/100\n",
            "1/1 [==============================] - 0s 12ms/step - loss: 12.6170 - mae: 12.6170\n",
            "Epoch 24/100\n",
            "1/1 [==============================] - 0s 12ms/step - loss: 12.5759 - mae: 12.5759\n",
            "Epoch 25/100\n",
            "1/1 [==============================] - 0s 12ms/step - loss: 12.5350 - mae: 12.5350\n",
            "Epoch 26/100\n",
            "1/1 [==============================] - 0s 13ms/step - loss: 12.4945 - mae: 12.4945\n",
            "Epoch 27/100\n",
            "1/1 [==============================] - 0s 11ms/step - loss: 12.4540 - mae: 12.4540\n",
            "Epoch 28/100\n",
            "1/1 [==============================] - 0s 15ms/step - loss: 12.4134 - mae: 12.4134\n",
            "Epoch 29/100\n",
            "1/1 [==============================] - 0s 13ms/step - loss: 12.3724 - mae: 12.3724\n",
            "Epoch 30/100\n",
            "1/1 [==============================] - 0s 13ms/step - loss: 12.3314 - mae: 12.3314\n",
            "Epoch 31/100\n",
            "1/1 [==============================] - 0s 12ms/step - loss: 12.2908 - mae: 12.2908\n",
            "Epoch 32/100\n",
            "1/1 [==============================] - 0s 13ms/step - loss: 12.2496 - mae: 12.2496\n",
            "Epoch 33/100\n",
            "1/1 [==============================] - 0s 12ms/step - loss: 12.2081 - mae: 12.2081\n",
            "Epoch 34/100\n",
            "1/1 [==============================] - 0s 13ms/step - loss: 12.1667 - mae: 12.1667\n",
            "Epoch 35/100\n",
            "1/1 [==============================] - 0s 11ms/step - loss: 12.1262 - mae: 12.1262\n",
            "Epoch 36/100\n",
            "1/1 [==============================] - 0s 11ms/step - loss: 12.0858 - mae: 12.0858\n",
            "Epoch 37/100\n",
            "1/1 [==============================] - 0s 9ms/step - loss: 12.0451 - mae: 12.0451\n",
            "Epoch 38/100\n",
            "1/1 [==============================] - 0s 9ms/step - loss: 12.0039 - mae: 12.0039\n",
            "Epoch 39/100\n",
            "1/1 [==============================] - 0s 9ms/step - loss: 11.9624 - mae: 11.9624\n",
            "Epoch 40/100\n",
            "1/1 [==============================] - 0s 12ms/step - loss: 11.9205 - mae: 11.9205\n",
            "Epoch 41/100\n",
            "1/1 [==============================] - 0s 13ms/step - loss: 11.8784 - mae: 11.8784\n",
            "Epoch 42/100\n",
            "1/1 [==============================] - 0s 9ms/step - loss: 11.8360 - mae: 11.8360\n",
            "Epoch 43/100\n",
            "1/1 [==============================] - 0s 9ms/step - loss: 11.7935 - mae: 11.7935\n",
            "Epoch 44/100\n",
            "1/1 [==============================] - 0s 9ms/step - loss: 11.7510 - mae: 11.7510\n",
            "Epoch 45/100\n",
            "1/1 [==============================] - 0s 10ms/step - loss: 11.7086 - mae: 11.7086\n",
            "Epoch 46/100\n",
            "1/1 [==============================] - 0s 10ms/step - loss: 11.6661 - mae: 11.6661\n",
            "Epoch 47/100\n",
            "1/1 [==============================] - 0s 10ms/step - loss: 11.6234 - mae: 11.6234\n",
            "Epoch 48/100\n",
            "1/1 [==============================] - 0s 11ms/step - loss: 11.5804 - mae: 11.5804\n",
            "Epoch 49/100\n",
            "1/1 [==============================] - 0s 10ms/step - loss: 11.5476 - mae: 11.5476\n",
            "Epoch 50/100\n",
            "1/1 [==============================] - 0s 10ms/step - loss: 11.5160 - mae: 11.5160\n",
            "Epoch 51/100\n",
            "1/1 [==============================] - 0s 10ms/step - loss: 11.4842 - mae: 11.4842\n",
            "Epoch 52/100\n",
            "1/1 [==============================] - 0s 11ms/step - loss: 11.4522 - mae: 11.4522\n",
            "Epoch 53/100\n",
            "1/1 [==============================] - 0s 10ms/step - loss: 11.4203 - mae: 11.4203\n",
            "Epoch 54/100\n",
            "1/1 [==============================] - 0s 10ms/step - loss: 11.3886 - mae: 11.3886\n",
            "Epoch 55/100\n",
            "1/1 [==============================] - 0s 10ms/step - loss: 11.3565 - mae: 11.3565\n",
            "Epoch 56/100\n",
            "1/1 [==============================] - 0s 10ms/step - loss: 11.3241 - mae: 11.3241\n",
            "Epoch 57/100\n",
            "1/1 [==============================] - 0s 10ms/step - loss: 11.2915 - mae: 11.2915\n",
            "Epoch 58/100\n",
            "1/1 [==============================] - 0s 11ms/step - loss: 11.2585 - mae: 11.2585\n",
            "Epoch 59/100\n",
            "1/1 [==============================] - 0s 11ms/step - loss: 11.2253 - mae: 11.2253\n",
            "Epoch 60/100\n",
            "1/1 [==============================] - 0s 10ms/step - loss: 11.1919 - mae: 11.1919\n",
            "Epoch 61/100\n",
            "1/1 [==============================] - 0s 11ms/step - loss: 11.1582 - mae: 11.1582\n",
            "Epoch 62/100\n",
            "1/1 [==============================] - 0s 13ms/step - loss: 11.1243 - mae: 11.1243\n",
            "Epoch 63/100\n",
            "1/1 [==============================] - 0s 11ms/step - loss: 11.0902 - mae: 11.0902\n",
            "Epoch 64/100\n",
            "1/1 [==============================] - 0s 10ms/step - loss: 11.0560 - mae: 11.0560\n",
            "Epoch 65/100\n",
            "1/1 [==============================] - 0s 11ms/step - loss: 11.0216 - mae: 11.0216\n",
            "Epoch 66/100\n",
            "1/1 [==============================] - 0s 14ms/step - loss: 10.9869 - mae: 10.9869\n",
            "Epoch 67/100\n",
            "1/1 [==============================] - 0s 11ms/step - loss: 10.9520 - mae: 10.9520\n",
            "Epoch 68/100\n",
            "1/1 [==============================] - 0s 10ms/step - loss: 10.9169 - mae: 10.9169\n",
            "Epoch 69/100\n",
            "1/1 [==============================] - 0s 14ms/step - loss: 10.8816 - mae: 10.8816\n",
            "Epoch 70/100\n",
            "1/1 [==============================] - 0s 11ms/step - loss: 10.8465 - mae: 10.8465\n",
            "Epoch 71/100\n",
            "1/1 [==============================] - 0s 11ms/step - loss: 10.8113 - mae: 10.8113\n",
            "Epoch 72/100\n",
            "1/1 [==============================] - 0s 12ms/step - loss: 10.7761 - mae: 10.7761\n",
            "Epoch 73/100\n",
            "1/1 [==============================] - 0s 11ms/step - loss: 10.7405 - mae: 10.7405\n",
            "Epoch 74/100\n",
            "1/1 [==============================] - 0s 10ms/step - loss: 10.7046 - mae: 10.7046\n",
            "Epoch 75/100\n",
            "1/1 [==============================] - 0s 10ms/step - loss: 10.6684 - mae: 10.6684\n",
            "Epoch 76/100\n",
            "1/1 [==============================] - 0s 10ms/step - loss: 10.6319 - mae: 10.6319\n",
            "Epoch 77/100\n",
            "1/1 [==============================] - 0s 10ms/step - loss: 10.5950 - mae: 10.5950\n",
            "Epoch 78/100\n",
            "1/1 [==============================] - 0s 10ms/step - loss: 10.5576 - mae: 10.5576\n",
            "Epoch 79/100\n",
            "1/1 [==============================] - 0s 10ms/step - loss: 10.5200 - mae: 10.5200\n",
            "Epoch 80/100\n",
            "1/1 [==============================] - 0s 13ms/step - loss: 10.4822 - mae: 10.4822\n",
            "Epoch 81/100\n",
            "1/1 [==============================] - 0s 10ms/step - loss: 10.4440 - mae: 10.4440\n",
            "Epoch 82/100\n",
            "1/1 [==============================] - 0s 11ms/step - loss: 10.4053 - mae: 10.4053\n",
            "Epoch 83/100\n",
            "1/1 [==============================] - 0s 10ms/step - loss: 10.3665 - mae: 10.3665\n",
            "Epoch 84/100\n",
            "1/1 [==============================] - 0s 10ms/step - loss: 10.3273 - mae: 10.3273\n",
            "Epoch 85/100\n",
            "1/1 [==============================] - 0s 10ms/step - loss: 10.2881 - mae: 10.2881\n",
            "Epoch 86/100\n",
            "1/1 [==============================] - 0s 10ms/step - loss: 10.2493 - mae: 10.2493\n",
            "Epoch 87/100\n",
            "1/1 [==============================] - 0s 10ms/step - loss: 10.2102 - mae: 10.2102\n",
            "Epoch 88/100\n",
            "1/1 [==============================] - 0s 10ms/step - loss: 10.1710 - mae: 10.1710\n",
            "Epoch 89/100\n",
            "1/1 [==============================] - 0s 14ms/step - loss: 10.1317 - mae: 10.1317\n",
            "Epoch 90/100\n",
            "1/1 [==============================] - 0s 11ms/step - loss: 10.0929 - mae: 10.0929\n",
            "Epoch 91/100\n",
            "1/1 [==============================] - 0s 11ms/step - loss: 10.0544 - mae: 10.0544\n",
            "Epoch 92/100\n",
            "1/1 [==============================] - 0s 10ms/step - loss: 10.0154 - mae: 10.0154\n",
            "Epoch 93/100\n",
            "1/1 [==============================] - 0s 12ms/step - loss: 9.9761 - mae: 9.9761\n",
            "Epoch 94/100\n",
            "1/1 [==============================] - 0s 11ms/step - loss: 9.9364 - mae: 9.9364\n",
            "Epoch 95/100\n",
            "1/1 [==============================] - 0s 11ms/step - loss: 9.8963 - mae: 9.8963\n",
            "Epoch 96/100\n",
            "1/1 [==============================] - 0s 10ms/step - loss: 9.8557 - mae: 9.8557\n",
            "Epoch 97/100\n",
            "1/1 [==============================] - 0s 11ms/step - loss: 9.8148 - mae: 9.8148\n",
            "Epoch 98/100\n",
            "1/1 [==============================] - 0s 10ms/step - loss: 9.7734 - mae: 9.7734\n",
            "Epoch 99/100\n",
            "1/1 [==============================] - 0s 10ms/step - loss: 9.7316 - mae: 9.7316\n",
            "Epoch 100/100\n",
            "1/1 [==============================] - 0s 11ms/step - loss: 9.6896 - mae: 9.6896\n"
          ]
        },
        {
          "output_type": "execute_result",
          "data": {
            "text/plain": [
              "<keras.src.callbacks.History at 0x7e39d8a62290>"
            ]
          },
          "metadata": {},
          "execution_count": 15
        }
      ]
    },
    {
      "cell_type": "code",
      "source": [
        "model.predict([17.0])"
      ],
      "metadata": {
        "colab": {
          "base_uri": "https://localhost:8080/"
        },
        "id": "WiDiAXd2DAp5",
        "outputId": "1c525739-e250-44d0-e864-e2c506d7a6d9"
      },
      "execution_count": 16,
      "outputs": [
        {
          "output_type": "stream",
          "name": "stdout",
          "text": [
            "1/1 [==============================] - 0s 99ms/step\n"
          ]
        },
        {
          "output_type": "execute_result",
          "data": {
            "text/plain": [
              "array([[10.719039]], dtype=float32)"
            ]
          },
          "metadata": {},
          "execution_count": 16
        }
      ]
    },
    {
      "cell_type": "code",
      "source": [
        "model = tf.keras.Sequential([\n",
        "     tf.keras.layers.Dense(50, activation = None),\n",
        "     tf.keras.layers.Dense(1)\n",
        " ])\n",
        "\n",
        "\n",
        "model.compile(loss= tf.keras.losses.mae,\n",
        "               optimizer = tf.keras.optimizers.Adam(learning_rate= 0.01),\n",
        "               metrics=[\"mae\"])\n",
        "\n",
        "model.fit(tf.expand_dims(X, axis = -1), y, epochs=100)"
      ],
      "metadata": {
        "colab": {
          "base_uri": "https://localhost:8080/"
        },
        "id": "TeotYLnsDJv2",
        "outputId": "b64f3519-de44-408e-bae9-248e3957144b"
      },
      "execution_count": 33,
      "outputs": [
        {
          "output_type": "stream",
          "name": "stdout",
          "text": [
            "Epoch 1/100\n",
            "2/2 [==============================] - 1s 9ms/step - loss: 24.3375 - mae: 24.3375\n",
            "Epoch 2/100\n",
            "2/2 [==============================] - 0s 7ms/step - loss: 11.5476 - mae: 11.5476\n",
            "Epoch 3/100\n",
            "2/2 [==============================] - 0s 11ms/step - loss: 10.5629 - mae: 10.5629\n",
            "Epoch 4/100\n",
            "2/2 [==============================] - 0s 8ms/step - loss: 11.5584 - mae: 11.5584\n",
            "Epoch 5/100\n",
            "2/2 [==============================] - 0s 7ms/step - loss: 8.8855 - mae: 8.8855\n",
            "Epoch 6/100\n",
            "2/2 [==============================] - 0s 7ms/step - loss: 8.9856 - mae: 8.9856\n",
            "Epoch 7/100\n",
            "2/2 [==============================] - 0s 8ms/step - loss: 9.6397 - mae: 9.6397\n",
            "Epoch 8/100\n",
            "2/2 [==============================] - 0s 7ms/step - loss: 8.8754 - mae: 8.8754\n",
            "Epoch 9/100\n",
            "2/2 [==============================] - 0s 8ms/step - loss: 8.2029 - mae: 8.2029\n",
            "Epoch 10/100\n",
            "2/2 [==============================] - 0s 8ms/step - loss: 8.0132 - mae: 8.0132\n",
            "Epoch 11/100\n",
            "2/2 [==============================] - 0s 8ms/step - loss: 8.0872 - mae: 8.0872\n",
            "Epoch 12/100\n",
            "2/2 [==============================] - 0s 7ms/step - loss: 8.1879 - mae: 8.1879\n",
            "Epoch 13/100\n",
            "2/2 [==============================] - 0s 7ms/step - loss: 7.4387 - mae: 7.4387\n",
            "Epoch 14/100\n",
            "2/2 [==============================] - 0s 6ms/step - loss: 7.0338 - mae: 7.0338\n",
            "Epoch 15/100\n",
            "2/2 [==============================] - 0s 8ms/step - loss: 6.7075 - mae: 6.7075\n",
            "Epoch 16/100\n",
            "2/2 [==============================] - 0s 7ms/step - loss: 6.7963 - mae: 6.7963\n",
            "Epoch 17/100\n",
            "2/2 [==============================] - 0s 8ms/step - loss: 6.7780 - mae: 6.7780\n",
            "Epoch 18/100\n",
            "2/2 [==============================] - 0s 8ms/step - loss: 6.1229 - mae: 6.1229\n",
            "Epoch 19/100\n",
            "2/2 [==============================] - 0s 8ms/step - loss: 5.9553 - mae: 5.9553\n",
            "Epoch 20/100\n",
            "2/2 [==============================] - 0s 7ms/step - loss: 5.7723 - mae: 5.7723\n",
            "Epoch 21/100\n",
            "2/2 [==============================] - 0s 8ms/step - loss: 5.4741 - mae: 5.4741\n",
            "Epoch 22/100\n",
            "2/2 [==============================] - 0s 8ms/step - loss: 4.9922 - mae: 4.9922\n",
            "Epoch 23/100\n",
            "2/2 [==============================] - 0s 8ms/step - loss: 4.7122 - mae: 4.7122\n",
            "Epoch 24/100\n",
            "2/2 [==============================] - 0s 8ms/step - loss: 4.3154 - mae: 4.3154\n",
            "Epoch 25/100\n",
            "2/2 [==============================] - 0s 8ms/step - loss: 3.9357 - mae: 3.9357\n",
            "Epoch 26/100\n",
            "2/2 [==============================] - 0s 8ms/step - loss: 3.6099 - mae: 3.6099\n",
            "Epoch 27/100\n",
            "2/2 [==============================] - 0s 7ms/step - loss: 3.1984 - mae: 3.1984\n",
            "Epoch 28/100\n",
            "2/2 [==============================] - 0s 7ms/step - loss: 2.8077 - mae: 2.8077\n",
            "Epoch 29/100\n",
            "2/2 [==============================] - 0s 7ms/step - loss: 2.3968 - mae: 2.3968\n",
            "Epoch 30/100\n",
            "2/2 [==============================] - 0s 8ms/step - loss: 1.9735 - mae: 1.9735\n",
            "Epoch 31/100\n",
            "2/2 [==============================] - 0s 8ms/step - loss: 1.6275 - mae: 1.6275\n",
            "Epoch 32/100\n",
            "2/2 [==============================] - 0s 8ms/step - loss: 1.2655 - mae: 1.2655\n",
            "Epoch 33/100\n",
            "2/2 [==============================] - 0s 8ms/step - loss: 1.2616 - mae: 1.2616\n",
            "Epoch 34/100\n",
            "2/2 [==============================] - 0s 7ms/step - loss: 1.6584 - mae: 1.6584\n",
            "Epoch 35/100\n",
            "2/2 [==============================] - 0s 7ms/step - loss: 1.0681 - mae: 1.0681\n",
            "Epoch 36/100\n",
            "2/2 [==============================] - 0s 8ms/step - loss: 1.4432 - mae: 1.4432\n",
            "Epoch 37/100\n",
            "2/2 [==============================] - 0s 7ms/step - loss: 1.2762 - mae: 1.2762\n",
            "Epoch 38/100\n",
            "2/2 [==============================] - 0s 7ms/step - loss: 1.1539 - mae: 1.1539\n",
            "Epoch 39/100\n",
            "2/2 [==============================] - 0s 7ms/step - loss: 1.2869 - mae: 1.2869\n",
            "Epoch 40/100\n",
            "2/2 [==============================] - 0s 7ms/step - loss: 1.9101 - mae: 1.9101\n",
            "Epoch 41/100\n",
            "2/2 [==============================] - 0s 7ms/step - loss: 0.8054 - mae: 0.8054\n",
            "Epoch 42/100\n",
            "2/2 [==============================] - 0s 7ms/step - loss: 0.6658 - mae: 0.6658\n",
            "Epoch 43/100\n",
            "2/2 [==============================] - 0s 7ms/step - loss: 0.5648 - mae: 0.5648\n",
            "Epoch 44/100\n",
            "2/2 [==============================] - 0s 8ms/step - loss: 0.5150 - mae: 0.5150\n",
            "Epoch 45/100\n",
            "2/2 [==============================] - 0s 7ms/step - loss: 0.9776 - mae: 0.9776\n",
            "Epoch 46/100\n",
            "2/2 [==============================] - 0s 7ms/step - loss: 2.2525 - mae: 2.2525\n",
            "Epoch 47/100\n",
            "2/2 [==============================] - 0s 7ms/step - loss: 1.9571 - mae: 1.9571\n",
            "Epoch 48/100\n",
            "2/2 [==============================] - 0s 7ms/step - loss: 1.3938 - mae: 1.3938\n",
            "Epoch 49/100\n",
            "2/2 [==============================] - 0s 8ms/step - loss: 0.9053 - mae: 0.9053\n",
            "Epoch 50/100\n",
            "2/2 [==============================] - 0s 7ms/step - loss: 1.2466 - mae: 1.2466\n",
            "Epoch 51/100\n",
            "2/2 [==============================] - 0s 7ms/step - loss: 0.9111 - mae: 0.9111\n",
            "Epoch 52/100\n",
            "2/2 [==============================] - 0s 8ms/step - loss: 0.6219 - mae: 0.6219\n",
            "Epoch 53/100\n",
            "2/2 [==============================] - 0s 8ms/step - loss: 0.4385 - mae: 0.4385\n",
            "Epoch 54/100\n",
            "2/2 [==============================] - 0s 8ms/step - loss: 1.4939 - mae: 1.4939\n",
            "Epoch 55/100\n",
            "2/2 [==============================] - 0s 7ms/step - loss: 0.1194 - mae: 0.1194\n",
            "Epoch 56/100\n",
            "2/2 [==============================] - 0s 8ms/step - loss: 1.5599 - mae: 1.5599\n",
            "Epoch 57/100\n",
            "2/2 [==============================] - 0s 8ms/step - loss: 0.4971 - mae: 0.4971\n",
            "Epoch 58/100\n",
            "2/2 [==============================] - 0s 8ms/step - loss: 0.8442 - mae: 0.8442\n",
            "Epoch 59/100\n",
            "2/2 [==============================] - 0s 8ms/step - loss: 1.5363 - mae: 1.5363\n",
            "Epoch 60/100\n",
            "2/2 [==============================] - 0s 9ms/step - loss: 2.3003 - mae: 2.3003\n",
            "Epoch 61/100\n",
            "2/2 [==============================] - 0s 8ms/step - loss: 1.3842 - mae: 1.3842\n",
            "Epoch 62/100\n",
            "2/2 [==============================] - 0s 7ms/step - loss: 0.8834 - mae: 0.8834\n",
            "Epoch 63/100\n",
            "2/2 [==============================] - 0s 8ms/step - loss: 1.5451 - mae: 1.5451\n",
            "Epoch 64/100\n",
            "2/2 [==============================] - 0s 8ms/step - loss: 1.0443 - mae: 1.0443\n",
            "Epoch 65/100\n",
            "2/2 [==============================] - 0s 7ms/step - loss: 1.8634 - mae: 1.8634\n",
            "Epoch 66/100\n",
            "2/2 [==============================] - 0s 8ms/step - loss: 1.1466 - mae: 1.1466\n",
            "Epoch 67/100\n",
            "2/2 [==============================] - 0s 8ms/step - loss: 0.9011 - mae: 0.9011\n",
            "Epoch 68/100\n",
            "2/2 [==============================] - 0s 8ms/step - loss: 2.3031 - mae: 2.3031\n",
            "Epoch 69/100\n",
            "2/2 [==============================] - 0s 9ms/step - loss: 0.7751 - mae: 0.7751\n",
            "Epoch 70/100\n",
            "2/2 [==============================] - 0s 7ms/step - loss: 2.0764 - mae: 2.0764\n",
            "Epoch 71/100\n",
            "2/2 [==============================] - 0s 8ms/step - loss: 0.9012 - mae: 0.9012\n",
            "Epoch 72/100\n",
            "2/2 [==============================] - 0s 8ms/step - loss: 0.8932 - mae: 0.8932\n",
            "Epoch 73/100\n",
            "2/2 [==============================] - 0s 8ms/step - loss: 1.8441 - mae: 1.8441\n",
            "Epoch 74/100\n",
            "2/2 [==============================] - 0s 8ms/step - loss: 1.2671 - mae: 1.2671\n",
            "Epoch 75/100\n",
            "2/2 [==============================] - 0s 8ms/step - loss: 0.9669 - mae: 0.9669\n",
            "Epoch 76/100\n",
            "2/2 [==============================] - 0s 8ms/step - loss: 1.3649 - mae: 1.3649\n",
            "Epoch 77/100\n",
            "2/2 [==============================] - 0s 8ms/step - loss: 1.5171 - mae: 1.5171\n",
            "Epoch 78/100\n",
            "2/2 [==============================] - 0s 8ms/step - loss: 1.0599 - mae: 1.0599\n",
            "Epoch 79/100\n",
            "2/2 [==============================] - 0s 8ms/step - loss: 1.4630 - mae: 1.4630\n",
            "Epoch 80/100\n",
            "2/2 [==============================] - 0s 8ms/step - loss: 0.8363 - mae: 0.8363\n",
            "Epoch 81/100\n",
            "2/2 [==============================] - 0s 8ms/step - loss: 0.7934 - mae: 0.7934\n",
            "Epoch 82/100\n",
            "2/2 [==============================] - 0s 8ms/step - loss: 2.0980 - mae: 2.0980\n",
            "Epoch 83/100\n",
            "2/2 [==============================] - 0s 7ms/step - loss: 0.4566 - mae: 0.4566\n",
            "Epoch 84/100\n",
            "2/2 [==============================] - 0s 8ms/step - loss: 0.1612 - mae: 0.1612\n",
            "Epoch 85/100\n",
            "2/2 [==============================] - 0s 9ms/step - loss: 0.3616 - mae: 0.3616\n",
            "Epoch 86/100\n",
            "2/2 [==============================] - 0s 7ms/step - loss: 0.3665 - mae: 0.3665\n",
            "Epoch 87/100\n",
            "2/2 [==============================] - 0s 7ms/step - loss: 0.3691 - mae: 0.3691\n",
            "Epoch 88/100\n",
            "2/2 [==============================] - 0s 7ms/step - loss: 0.5690 - mae: 0.5690\n",
            "Epoch 89/100\n",
            "2/2 [==============================] - 0s 7ms/step - loss: 1.2715 - mae: 1.2715\n",
            "Epoch 90/100\n",
            "2/2 [==============================] - 0s 7ms/step - loss: 1.6558 - mae: 1.6558\n",
            "Epoch 91/100\n",
            "2/2 [==============================] - 0s 7ms/step - loss: 1.1598 - mae: 1.1598\n",
            "Epoch 92/100\n",
            "2/2 [==============================] - 0s 9ms/step - loss: 2.7969 - mae: 2.7969\n",
            "Epoch 93/100\n",
            "2/2 [==============================] - 0s 7ms/step - loss: 2.8584 - mae: 2.8584\n",
            "Epoch 94/100\n",
            "2/2 [==============================] - 0s 9ms/step - loss: 0.6520 - mae: 0.6520\n",
            "Epoch 95/100\n",
            "2/2 [==============================] - 0s 8ms/step - loss: 0.8161 - mae: 0.8161\n",
            "Epoch 96/100\n",
            "2/2 [==============================] - 0s 8ms/step - loss: 0.5481 - mae: 0.5481\n",
            "Epoch 97/100\n",
            "2/2 [==============================] - 0s 8ms/step - loss: 0.3539 - mae: 0.3539\n",
            "Epoch 98/100\n",
            "2/2 [==============================] - 0s 8ms/step - loss: 0.6148 - mae: 0.6148\n",
            "Epoch 99/100\n",
            "2/2 [==============================] - 0s 8ms/step - loss: 1.1999 - mae: 1.1999\n",
            "Epoch 100/100\n",
            "2/2 [==============================] - 0s 8ms/step - loss: 1.4782 - mae: 1.4782\n"
          ]
        },
        {
          "output_type": "execute_result",
          "data": {
            "text/plain": [
              "<keras.src.callbacks.History at 0x7e39d8abdba0>"
            ]
          },
          "metadata": {},
          "execution_count": 33
        }
      ]
    },
    {
      "cell_type": "code",
      "source": [
        "model.predict([17.0])"
      ],
      "metadata": {
        "id": "COql0qpoEmqw",
        "outputId": "59938886-0a87-4690-b84d-819e24d1d385",
        "colab": {
          "base_uri": "https://localhost:8080/"
        }
      },
      "execution_count": 34,
      "outputs": [
        {
          "output_type": "stream",
          "name": "stdout",
          "text": [
            "1/1 [==============================] - 0s 77ms/step\n"
          ]
        },
        {
          "output_type": "execute_result",
          "data": {
            "text/plain": [
              "array([[27.468872]], dtype=float32)"
            ]
          },
          "metadata": {},
          "execution_count": 34
        }
      ]
    },
    {
      "cell_type": "markdown",
      "source": [
        "## Evaluating a model"
      ],
      "metadata": {
        "id": "IHlhIUEREqLW"
      }
    },
    {
      "cell_type": "markdown",
      "source": [
        "```\n",
        "Build a model -> fit it -> evaluate it -> tweak a model -> fit it -> evaluate it.......\n",
        "```\n",
        "\n"
      ],
      "metadata": {
        "id": "RfxoGpII8nWU"
      }
    },
    {
      "cell_type": "markdown",
      "source": [
        "When it comes to evaluation. we have to do\n",
        "\n",
        "> Visualization\n",
        "\n",
        "It's a good idea to visualize:\n",
        "\n",
        "* The data - what data are we working with ? what does it looks like?\n",
        "* The model itself - what does our model looks like?\n",
        "* The training of model - how does a model perform while it learns?\n",
        "* The prediction of the model - how do the predictions of a model line up against the ground truth."
      ],
      "metadata": {
        "id": "Y3wK9J089RLB"
      }
    },
    {
      "cell_type": "code",
      "source": [
        "# Make a bigger dataset\n",
        "\n",
        "X = tf.range(-100, 100, 4)\n",
        "X"
      ],
      "metadata": {
        "colab": {
          "base_uri": "https://localhost:8080/"
        },
        "id": "Trie4RVl-P6n",
        "outputId": "8123ae62-4e8a-4108-eef0-e0bbe908dbcb"
      },
      "execution_count": 19,
      "outputs": [
        {
          "output_type": "execute_result",
          "data": {
            "text/plain": [
              "<tf.Tensor: shape=(50,), dtype=int32, numpy=\n",
              "array([-100,  -96,  -92,  -88,  -84,  -80,  -76,  -72,  -68,  -64,  -60,\n",
              "        -56,  -52,  -48,  -44,  -40,  -36,  -32,  -28,  -24,  -20,  -16,\n",
              "        -12,   -8,   -4,    0,    4,    8,   12,   16,   20,   24,   28,\n",
              "         32,   36,   40,   44,   48,   52,   56,   60,   64,   68,   72,\n",
              "         76,   80,   84,   88,   92,   96], dtype=int32)>"
            ]
          },
          "metadata": {},
          "execution_count": 19
        }
      ]
    },
    {
      "cell_type": "code",
      "source": [
        "y = X +10\n",
        "y"
      ],
      "metadata": {
        "colab": {
          "base_uri": "https://localhost:8080/"
        },
        "id": "el6mh5YV-c3l",
        "outputId": "75ed88ae-7487-434a-c07f-9ef1657d4d21"
      },
      "execution_count": 20,
      "outputs": [
        {
          "output_type": "execute_result",
          "data": {
            "text/plain": [
              "<tf.Tensor: shape=(50,), dtype=int32, numpy=\n",
              "array([-90, -86, -82, -78, -74, -70, -66, -62, -58, -54, -50, -46, -42,\n",
              "       -38, -34, -30, -26, -22, -18, -14, -10,  -6,  -2,   2,   6,  10,\n",
              "        14,  18,  22,  26,  30,  34,  38,  42,  46,  50,  54,  58,  62,\n",
              "        66,  70,  74,  78,  82,  86,  90,  94,  98, 102, 106], dtype=int32)>"
            ]
          },
          "metadata": {},
          "execution_count": 20
        }
      ]
    },
    {
      "cell_type": "code",
      "source": [
        "# visualize the data\n",
        "import matplotlib.pyplot as plt\n",
        "plt.scatter(X,y)"
      ],
      "metadata": {
        "colab": {
          "base_uri": "https://localhost:8080/",
          "height": 447
        },
        "id": "vbhN48Ep-geM",
        "outputId": "2a81048a-2736-458f-8feb-d7be4cec4580"
      },
      "execution_count": 21,
      "outputs": [
        {
          "output_type": "execute_result",
          "data": {
            "text/plain": [
              "<matplotlib.collections.PathCollection at 0x7e39cb5c7c40>"
            ]
          },
          "metadata": {},
          "execution_count": 21
        },
        {
          "output_type": "display_data",
          "data": {
            "text/plain": [
              "<Figure size 640x480 with 1 Axes>"
            ],
            "image/png": "[encoded data removed]"
          },
          "metadata": {}
        }
      ]
    },
    {
      "cell_type": "markdown",
      "source": [
        "### 3 sets\n",
        "\n",
        "* Training set - the model learns from this data, which is around 79-80% of total data\n",
        "* Valdation set - the model gets tuned on this data, which is around 10-15% of total data\n",
        "* Test set - the model gets evaluated on this data, which is typically 10- 15% of total data\n"
      ],
      "metadata": {
        "id": "RUf8fCskADV1"
      }
    },
    {
      "cell_type": "code",
      "source": [
        "X_train = X[:40]\n",
        "X_test = X[40:]"
      ],
      "metadata": {
        "id": "aRCcdgb8_QL5"
      },
      "execution_count": 22,
      "outputs": []
    },
    {
      "cell_type": "code",
      "source": [
        "y_train = y[:40]\n",
        "y_test = y[40:]"
      ],
      "metadata": {
        "id": "_SxUELfs-mpq"
      },
      "execution_count": 23,
      "outputs": []
    },
    {
      "cell_type": "code",
      "source": [
        "len(X_train), len(X_test), len(y_train), len(y_test)"
      ],
      "metadata": {
        "colab": {
          "base_uri": "https://localhost:8080/"
        },
        "id": "c4Sthq3w_GbD",
        "outputId": "4a83d02b-8d0a-419a-c684-bcf58a8b6b0c"
      },
      "execution_count": 24,
      "outputs": [
        {
          "output_type": "execute_result",
          "data": {
            "text/plain": [
              "(40, 10, 40, 10)"
            ]
          },
          "metadata": {},
          "execution_count": 24
        }
      ]
    },
    {
      "cell_type": "markdown",
      "source": [
        "### visualizing the data"
      ],
      "metadata": {
        "id": "KHDHZM9wB1MK"
      }
    },
    {
      "cell_type": "code",
      "source": [
        "plt.figure(figsize = (10, 7))\n",
        "\n",
        "plt.scatter(X_train, y_train, c = 'b', label = 'Training data')\n",
        "\n",
        "plt.scatter(X_test, y_test, c = 'g', label = 'Testing data')\n",
        "\n",
        "plt.legend()"
      ],
      "metadata": {
        "colab": {
          "base_uri": "https://localhost:8080/",
          "height": 616
        },
        "id": "B3pf4eFUCK5I",
        "outputId": "d2dcbb22-e1be-428c-dfe8-7e5d62dcf967"
      },
      "execution_count": 25,
      "outputs": [
        {
          "output_type": "execute_result",
          "data": {
            "text/plain": [
              "<matplotlib.legend.Legend at 0x7e39cb42fbe0>"
            ]
          },
          "metadata": {},
          "execution_count": 25
        },
        {
          "output_type": "display_data",
          "data": {
            "text/plain": [
              "<Figure size 1000x700 with 1 Axes>"
            ],
            "image/png": "[encoded data removed]"
          },
          "metadata": {}
        }
      ]
    },
    {
      "cell_type": "code",
      "source": [
        "model = tf.keras.Sequential([\n",
        "    tf.keras.layers.Dense(1)\n",
        "])\n",
        "\n",
        "model.compile(loss = tf.losses.mae,\n",
        "              optimizer = tf.optimizers.SGD(),\n",
        "              metrics = ['mae'])\n",
        "\n",
        "# model.fit(X_train, y_train, epochs = 100)"
      ],
      "metadata": {
        "id": "TbbMrwNfCihh"
      },
      "execution_count": 26,
      "outputs": []
    },
    {
      "cell_type": "code",
      "source": [
        "model.summary()"
      ],
      "metadata": {
        "colab": {
          "base_uri": "https://localhost:8080/",
          "height": 298
        },
        "id": "vV4aj5iJU_hG",
        "outputId": "ffb3646e-dd1e-4e1d-f8ac-ea2426545362"
      },
      "execution_count": 27,
      "outputs": [
        {
          "output_type": "error",
          "ename": "ValueError",
          "evalue": "This model has not yet been built. Build the model first by calling `build()` or by calling the model on a batch of data.",
          "traceback": [
            "\u001b[0;31m---------------------------------------------------------------------------\u001b[0m",
            "\u001b[0;31mValueError\u001b[0m                                Traceback (most recent call last)",
            "\u001b[0;32m<ipython-input-27-5f15418b3570>\u001b[0m in \u001b[0;36m<cell line: 1>\u001b[0;34m()\u001b[0m\n\u001b[0;32m----> 1\u001b[0;31m \u001b[0mmodel\u001b[0m\u001b[0;34m.\u001b[0m\u001b[0msummary\u001b[0m\u001b[0;34m(\u001b[0m\u001b[0;34m)\u001b[0m\u001b[0;34m\u001b[0m\u001b[0;34m\u001b[0m\u001b[0m\n\u001b[0m",
            "\u001b[0;32m/usr/local/lib/python3.10/dist-packages/keras/src/engine/training.py\u001b[0m in \u001b[0;36msummary\u001b[0;34m(self, line_length, positions, print_fn, expand_nested, show_trainable, layer_range)\u001b[0m\n\u001b[1;32m   3504\u001b[0m         \"\"\"\n\u001b[1;32m   3505\u001b[0m         \u001b[0;32mif\u001b[0m \u001b[0;32mnot\u001b[0m \u001b[0mself\u001b[0m\u001b[0;34m.\u001b[0m\u001b[0mbuilt\u001b[0m\u001b[0;34m:\u001b[0m\u001b[0;34m\u001b[0m\u001b[0;34m\u001b[0m\u001b[0m\n\u001b[0;32m-> 3506\u001b[0;31m             raise ValueError(\n\u001b[0m\u001b[1;32m   3507\u001b[0m                 \u001b[0;34m\"This model has not yet been built. \"\u001b[0m\u001b[0;34m\u001b[0m\u001b[0;34m\u001b[0m\u001b[0m\n\u001b[1;32m   3508\u001b[0m                 \u001b[0;34m\"Build the model first by calling `build()` or by calling \"\u001b[0m\u001b[0;34m\u001b[0m\u001b[0;34m\u001b[0m\u001b[0m\n",
            "\u001b[0;31mValueError\u001b[0m: This model has not yet been built. Build the model first by calling `build()` or by calling the model on a batch of data."
          ]
        }
      ]
    },
    {
      "cell_type": "code",
      "source": [
        " tf.random.set_seed(42)\n",
        "\n",
        " model = tf.keras.Sequential([\n",
        "     tf.keras.layers.Dense(10, input_shape = [1],name='input_layer'),\n",
        "     tf.keras.layers.Dense(1, name = 'output_layer')\n",
        " ], name = \"Model_1\")\n",
        "\n",
        " model.compile(loss=tf.keras.losses.mae,\n",
        "               optimizer = tf.keras.optimizers.SGD(),\n",
        "               metrics = ['mae'])"
      ],
      "metadata": {
        "id": "9CMXOISnVDvO"
      },
      "execution_count": 28,
      "outputs": []
    },
    {
      "cell_type": "code",
      "source": [
        "# model = tf.keras.Sequential([\n",
        "#      tf.keras.layers.Dense(50, activation = None),\n",
        "#      tf.keras.layers.Dense(1)\n",
        "#  ])\n",
        "\n",
        "\n",
        "# model.compile(loss= tf.keras.losses.mae,\n",
        "#                optimizer = tf.keras.optimizers.Adam(learning_rate= 0.01),\n",
        "#                metrics=[\"mae\"])\n",
        "\n",
        "# model.fit(tf.expand_dims(X, axis = -1), y, epochs=100)"
      ],
      "metadata": {
        "id": "-hEe7CFn_EtI"
      },
      "execution_count": null,
      "outputs": []
    },
    {
      "cell_type": "code",
      "source": [
        "model.summary()"
      ],
      "metadata": {
        "colab": {
          "base_uri": "https://localhost:8080/"
        },
        "id": "4Uxs1ShgWO46",
        "outputId": "adda8e4f-87f4-4902-8e18-27c44a08dd0d"
      },
      "execution_count": 29,
      "outputs": [
        {
          "output_type": "stream",
          "name": "stdout",
          "text": [
            "Model: \"Model_1\"\n",
            "_________________________________________________________________\n",
            " Layer (type)                Output Shape              Param #   \n",
            "=================================================================\n",
            " input_layer (Dense)         (None, 10)                20        \n",
            "                                                                 \n",
            " output_layer (Dense)        (None, 1)                 11        \n",
            "                                                                 \n",
            "=================================================================\n",
            "Total params: 31 (124.00 Byte)\n",
            "Trainable params: 31 (124.00 Byte)\n",
            "Non-trainable params: 0 (0.00 Byte)\n",
            "_________________________________________________________________\n"
          ]
        }
      ]
    },
    {
      "cell_type": "code",
      "source": [
        "model.fit(X_train, y_train, epochs = 100, verbose=0)"
      ],
      "metadata": {
        "colab": {
          "base_uri": "https://localhost:8080/"
        },
        "id": "dSaXMn9vWSQE",
        "outputId": "4dce4952-914f-4c73-ce03-6873558b0c73"
      },
      "execution_count": 30,
      "outputs": [
        {
          "output_type": "execute_result",
          "data": {
            "text/plain": [
              "<keras.src.callbacks.History at 0x7e39cb3d9240>"
            ]
          },
          "metadata": {},
          "execution_count": 30
        }
      ]
    },
    {
      "cell_type": "code",
      "source": [
        "model.summary()"
      ],
      "metadata": {
        "id": "X_BS8v57Xhyy",
        "colab": {
          "base_uri": "https://localhost:8080/"
        },
        "outputId": "c13546c8-ebfe-4af4-f027-28f535f35916"
      },
      "execution_count": 35,
      "outputs": [
        {
          "output_type": "stream",
          "name": "stdout",
          "text": [
            "Model: \"sequential_7\"\n",
            "_________________________________________________________________\n",
            " Layer (type)                Output Shape              Param #   \n",
            "=================================================================\n",
            " dense_15 (Dense)            (None, 50)                100       \n",
            "                                                                 \n",
            " dense_16 (Dense)            (None, 1)                 51        \n",
            "                                                                 \n",
            "=================================================================\n",
            "Total params: 151 (604.00 Byte)\n",
            "Trainable params: 151 (604.00 Byte)\n",
            "Non-trainable params: 0 (0.00 Byte)\n",
            "_________________________________________________________________\n"
          ]
        }
      ]
    },
    {
      "cell_type": "code",
      "source": [
        "from tensorflow.keras.utils import plot_model\n",
        "\n",
        "plot_model(model,show_shapes=True)"
      ],
      "metadata": {
        "colab": {
          "base_uri": "https://localhost:8080/",
          "height": 312
        },
        "id": "w2pFLNoaZZCX",
        "outputId": "5c7341d4-8ee8-48b5-d7a8-883867821c29"
      },
      "execution_count": 36,
      "outputs": [
        {
          "output_type": "execute_result",
          "data": {
            "image/png": "[encoded data removed]",
            "text/plain": [
              "<IPython.core.display.Image object>"
            ]
          },
          "metadata": {},
          "execution_count": 36
        }
      ]
    },
    {
      "cell_type": "markdown",
      "source": [
        "## Visualize our Model's prediction"
      ],
      "metadata": {
        "id": "QOfrhKlXZ3TD"
      }
    },
    {
      "cell_type": "code",
      "source": [
        "y_pred = model.predict(X_test)\n",
        "y_pred"
      ],
      "metadata": {
        "colab": {
          "base_uri": "https://localhost:8080/"
        },
        "id": "XhPdCIXzcIuQ",
        "outputId": "1b6b6fce-c051-405f-d1e2-d8d9f191891e"
      },
      "execution_count": 37,
      "outputs": [
        {
          "output_type": "stream",
          "name": "stdout",
          "text": [
            "1/1 [==============================] - 0s 59ms/step\n"
          ]
        },
        {
          "output_type": "execute_result",
          "data": {
            "text/plain": [
              "array([[ 71.656265],\n",
              "       [ 75.766716],\n",
              "       [ 79.87717 ],\n",
              "       [ 83.987625],\n",
              "       [ 88.09809 ],\n",
              "       [ 92.20854 ],\n",
              "       [ 96.319   ],\n",
              "       [100.42946 ],\n",
              "       [104.5399  ],\n",
              "       [108.65035 ]], dtype=float32)"
            ]
          },
          "metadata": {},
          "execution_count": 37
        }
      ]
    },
    {
      "cell_type": "code",
      "source": [
        "y_test"
      ],
      "metadata": {
        "colab": {
          "base_uri": "https://localhost:8080/"
        },
        "id": "foXoJMz6ceBl",
        "outputId": "6a6c8407-44cb-43e3-81f9-26736eafe1fd"
      },
      "execution_count": 38,
      "outputs": [
        {
          "output_type": "execute_result",
          "data": {
            "text/plain": [
              "<tf.Tensor: shape=(10,), dtype=int32, numpy=array([ 70,  74,  78,  82,  86,  90,  94,  98, 102, 106], dtype=int32)>"
            ]
          },
          "metadata": {},
          "execution_count": 38
        }
      ]
    },
    {
      "cell_type": "code",
      "source": [
        "model.predict([17.0])"
      ],
      "metadata": {
        "colab": {
          "base_uri": "https://localhost:8080/"
        },
        "id": "zqscbJJ1cjGs",
        "outputId": "634cb0f9-2108-4f77-dd41-a082036df0e7"
      },
      "execution_count": 39,
      "outputs": [
        {
          "output_type": "stream",
          "name": "stdout",
          "text": [
            "1/1 [==============================] - 0s 49ms/step\n"
          ]
        },
        {
          "output_type": "execute_result",
          "data": {
            "text/plain": [
              "array([[27.468872]], dtype=float32)"
            ]
          },
          "metadata": {},
          "execution_count": 39
        }
      ]
    },
    {
      "cell_type": "code",
      "source": [
        "def plot_predictions(train_data = X_train,\n",
        "                     train_labels = y_train,\n",
        "                     test_data = X_test,\n",
        "                     test_labels = y_test,\n",
        "                     predictions = y_pred):\n",
        "  plt.figure(figsize=(10,7))\n",
        "\n",
        "  plt.scatter(train_data, train_labels, c= \"b\", label = \"training Data\")\n",
        "\n",
        "  plt.scatter(test_data, test_labels, c = 'g', label = \"testing Data\")\n",
        "\n",
        "  plt.scatter(test_data, predictions, c = 'r', label = \"Predictions\")\n",
        "\n",
        "  plt.legend"
      ],
      "metadata": {
        "id": "TgTy5o6zdLCc"
      },
      "execution_count": 40,
      "outputs": []
    },
    {
      "cell_type": "code",
      "source": [
        "plot_predictions()"
      ],
      "metadata": {
        "colab": {
          "base_uri": "https://localhost:8080/",
          "height": 599
        },
        "id": "HcYzUSdceFOQ",
        "outputId": "1f7fac99-3151-4a5b-bc08-789bb7897add"
      },
      "execution_count": 41,
      "outputs": [
        {
          "output_type": "display_data",
          "data": {
            "text/plain": [
              "<Figure size 1000x700 with 1 Axes>"
            ],
            "image/png": "[encoded data removed]"
          },
          "metadata": {}
        }
      ]
    },
    {
      "cell_type": "markdown",
      "source": [
        "### Evaluating using regression evaluation metrics"
      ],
      "metadata": {
        "id": "Zb1r38p5eTgs"
      }
    },
    {
      "cell_type": "code",
      "source": [
        "model.evaluate(X_test,y_test)"
      ],
      "metadata": {
        "colab": {
          "base_uri": "https://localhost:8080/"
        },
        "id": "3sFdPnIWe4gq",
        "outputId": "062aa073-4191-47ff-8381-4c252092f5ab"
      },
      "execution_count": 42,
      "outputs": [
        {
          "output_type": "stream",
          "name": "stdout",
          "text": [
            "1/1 [==============================] - 0s 164ms/step - loss: 2.1533 - mae: 2.1533\n"
          ]
        },
        {
          "output_type": "execute_result",
          "data": {
            "text/plain": [
              "[2.1533102989196777, 2.1533102989196777]"
            ]
          },
          "metadata": {},
          "execution_count": 42
        }
      ]
    },
    {
      "cell_type": "code",
      "source": [
        "# Ca;culate the mean absolute error\n",
        "\n",
        "mae = tf.metrics.mean_absolute_error(y_true= y_test,\n",
        "                                     y_pred = y_pred)\n",
        "mae"
      ],
      "metadata": {
        "id": "05XUVNR7f1xi",
        "colab": {
          "base_uri": "https://localhost:8080/"
        },
        "outputId": "53c2705f-050c-4254-98de-a91ba51534f8"
      },
      "execution_count": 43,
      "outputs": [
        {
          "output_type": "execute_result",
          "data": {
            "text/plain": [
              "<tf.Tensor: shape=(10,), dtype=float32, numpy=\n",
              "array([16.674988, 13.73997 , 11.649134, 10.402475, 10.      , 10.441709,\n",
              "       11.7276  , 13.857676, 16.83192 , 20.650352], dtype=float32)>"
            ]
          },
          "metadata": {},
          "execution_count": 43
        }
      ]
    },
    {
      "cell_type": "code",
      "source": [
        "tf.constant(y_pred)"
      ],
      "metadata": {
        "colab": {
          "base_uri": "https://localhost:8080/"
        },
        "id": "7QjlPas9gRnT",
        "outputId": "5cb9dd8c-a7e7-4439-ed49-8b439a3ecc4f"
      },
      "execution_count": 44,
      "outputs": [
        {
          "output_type": "execute_result",
          "data": {
            "text/plain": [
              "<tf.Tensor: shape=(10, 1), dtype=float32, numpy=\n",
              "array([[ 71.656265],\n",
              "       [ 75.766716],\n",
              "       [ 79.87717 ],\n",
              "       [ 83.987625],\n",
              "       [ 88.09809 ],\n",
              "       [ 92.20854 ],\n",
              "       [ 96.319   ],\n",
              "       [100.42946 ],\n",
              "       [104.5399  ],\n",
              "       [108.65035 ]], dtype=float32)>"
            ]
          },
          "metadata": {},
          "execution_count": 44
        }
      ]
    },
    {
      "cell_type": "code",
      "source": [
        "y_test"
      ],
      "metadata": {
        "colab": {
          "base_uri": "https://localhost:8080/"
        },
        "id": "tAo6idKrgoM9",
        "outputId": "40bbec59-84bc-405a-a9ec-f588f4cd4122"
      },
      "execution_count": 45,
      "outputs": [
        {
          "output_type": "execute_result",
          "data": {
            "text/plain": [
              "<tf.Tensor: shape=(10,), dtype=int32, numpy=array([ 70,  74,  78,  82,  86,  90,  94,  98, 102, 106], dtype=int32)>"
            ]
          },
          "metadata": {},
          "execution_count": 45
        }
      ]
    },
    {
      "cell_type": "code",
      "source": [
        "tf.squeeze(y_pred)"
      ],
      "metadata": {
        "colab": {
          "base_uri": "https://localhost:8080/"
        },
        "id": "pdowTaW-g2VD",
        "outputId": "b25b17c8-0c5c-4e21-e850-72ec04694694"
      },
      "execution_count": 46,
      "outputs": [
        {
          "output_type": "execute_result",
          "data": {
            "text/plain": [
              "<tf.Tensor: shape=(10,), dtype=float32, numpy=\n",
              "array([ 71.656265,  75.766716,  79.87717 ,  83.987625,  88.09809 ,\n",
              "        92.20854 ,  96.319   , 100.42946 , 104.5399  , 108.65035 ],\n",
              "      dtype=float32)>"
            ]
          },
          "metadata": {},
          "execution_count": 46
        }
      ]
    },
    {
      "cell_type": "code",
      "source": [
        "mae = tf.metrics.mean_absolute_error(y_true=y_test,\n",
        "                                     y_pred=tf.squeeze(y_pred))\n",
        "mae"
      ],
      "metadata": {
        "colab": {
          "base_uri": "https://localhost:8080/"
        },
        "id": "1gNXLeiug7rv",
        "outputId": "3fb344d5-9f49-4f0e-92c2-6eab53c82947"
      },
      "execution_count": 47,
      "outputs": [
        {
          "output_type": "execute_result",
          "data": {
            "text/plain": [
              "<tf.Tensor: shape=(), dtype=float32, numpy=2.153312>"
            ]
          },
          "metadata": {},
          "execution_count": 47
        }
      ]
    },
    {
      "cell_type": "code",
      "source": [
        "mse = tf.metrics.mean_squared_error(y_true=y_test,\n",
        "                                     y_pred=tf.squeeze(y_pred))\n",
        "mse"
      ],
      "metadata": {
        "colab": {
          "base_uri": "https://localhost:8080/"
        },
        "id": "K4GPrHEnhOvj",
        "outputId": "1fccbf8b-0f98-4ef1-ac79-da78d455c423"
      },
      "execution_count": 48,
      "outputs": [
        {
          "output_type": "execute_result",
          "data": {
            "text/plain": [
              "<tf.Tensor: shape=(), dtype=float32, numpy=4.7374053>"
            ]
          },
          "metadata": {},
          "execution_count": 48
        }
      ]
    },
    {
      "cell_type": "code",
      "source": [
        "def MAE(y_true, y_pred):\n",
        "  return tf.metrics.mean_absolute_error(y_true=y_true,\n",
        "                                        y_pred=tf.squeeze(y_pred))\n",
        "\n",
        "def MSE(y_true, y_pred):\n",
        "  return tf.metrics.mean_squared_error(y_true=y_true,\n",
        "                                       y_pred=tf.squeeze(y_pred))"
      ],
      "metadata": {
        "id": "rcsMKkVohb2n"
      },
      "execution_count": 49,
      "outputs": []
    },
    {
      "cell_type": "markdown",
      "source": [
        "### Model Improvement\n",
        "\n",
        "1. Get more Data\n",
        "2. Make model Larger.\n",
        "3. Train for Longer"
      ],
      "metadata": {
        "id": "HuNMTWWNiE6j"
      }
    },
    {
      "cell_type": "code",
      "source": [
        "X_train, y_train"
      ],
      "metadata": {
        "colab": {
          "base_uri": "https://localhost:8080/"
        },
        "id": "iZMRmTGr3I0J",
        "outputId": "777b23cd-26ea-4aea-cff9-8898a74d8d5f"
      },
      "execution_count": 50,
      "outputs": [
        {
          "output_type": "execute_result",
          "data": {
            "text/plain": [
              "(<tf.Tensor: shape=(40,), dtype=int32, numpy=\n",
              " array([-100,  -96,  -92,  -88,  -84,  -80,  -76,  -72,  -68,  -64,  -60,\n",
              "         -56,  -52,  -48,  -44,  -40,  -36,  -32,  -28,  -24,  -20,  -16,\n",
              "         -12,   -8,   -4,    0,    4,    8,   12,   16,   20,   24,   28,\n",
              "          32,   36,   40,   44,   48,   52,   56], dtype=int32)>,\n",
              " <tf.Tensor: shape=(40,), dtype=int32, numpy=\n",
              " array([-90, -86, -82, -78, -74, -70, -66, -62, -58, -54, -50, -46, -42,\n",
              "        -38, -34, -30, -26, -22, -18, -14, -10,  -6,  -2,   2,   6,  10,\n",
              "         14,  18,  22,  26,  30,  34,  38,  42,  46,  50,  54,  58,  62,\n",
              "         66], dtype=int32)>)"
            ]
          },
          "metadata": {},
          "execution_count": 50
        }
      ]
    },
    {
      "cell_type": "markdown",
      "source": [
        "3 modelling Experiments\n",
        "\n",
        "1. `model_1` = same as the original model, 1 layer, trained for 100 epochs.\n",
        "2. `model_2` = 2 layers, trained for 100 epochs.\n",
        "3. `model_3` = 2 layers, trained for 500 epochs"
      ],
      "metadata": {
        "id": "TAt80pwE3dIP"
      }
    },
    {
      "cell_type": "code",
      "source": [
        "tf.random.set_seed(42)\n",
        "\n",
        "model_1 = tf.keras.Sequential([\n",
        "    tf.keras.layers.Dense(1)\n",
        "])\n",
        "\n",
        "model_1.compile(loss = tf.keras.losses.mae,\n",
        "                optimizer = tf.keras.optimizers.SGD(),\n",
        "                metrics=['mae'])\n",
        "\n",
        "model_1.fit(tf.expand_dims(X_train, axis = -1), y_train, epochs = 100)"
      ],
      "metadata": {
        "colab": {
          "base_uri": "https://localhost:8080/"
        },
        "id": "vUdrsntH4AhB",
        "outputId": "3de3fe87-c6c2-473f-92f8-f3abc5edef7e"
      },
      "execution_count": 51,
      "outputs": [
        {
          "output_type": "stream",
          "name": "stdout",
          "text": [
            "Epoch 1/100\n",
            "2/2 [==============================] - 1s 18ms/step - loss: 23.5834 - mae: 23.5834\n",
            "Epoch 2/100\n",
            "2/2 [==============================] - 0s 15ms/step - loss: 8.1905 - mae: 8.1905\n",
            "Epoch 3/100\n",
            "2/2 [==============================] - 0s 20ms/step - loss: 14.9443 - mae: 14.9443\n",
            "Epoch 4/100\n",
            "2/2 [==============================] - 0s 9ms/step - loss: 8.0938 - mae: 8.0938\n",
            "Epoch 5/100\n",
            "2/2 [==============================] - 0s 10ms/step - loss: 10.7234 - mae: 10.7234\n",
            "Epoch 6/100\n",
            "2/2 [==============================] - 0s 9ms/step - loss: 9.9184 - mae: 9.9184\n",
            "Epoch 7/100\n",
            "2/2 [==============================] - 0s 9ms/step - loss: 8.9777 - mae: 8.9777\n",
            "Epoch 8/100\n",
            "2/2 [==============================] - 0s 9ms/step - loss: 9.0733 - mae: 9.0733\n",
            "Epoch 9/100\n",
            "2/2 [==============================] - 0s 9ms/step - loss: 19.7816 - mae: 19.7816\n",
            "Epoch 10/100\n",
            "2/2 [==============================] - 0s 9ms/step - loss: 10.6832 - mae: 10.6832\n",
            "Epoch 11/100\n",
            "2/2 [==============================] - 0s 9ms/step - loss: 8.6162 - mae: 8.6162\n",
            "Epoch 12/100\n",
            "2/2 [==============================] - 0s 11ms/step - loss: 11.2107 - mae: 11.2107\n",
            "Epoch 13/100\n",
            "2/2 [==============================] - 0s 11ms/step - loss: 12.0662 - mae: 12.0662\n",
            "Epoch 14/100\n",
            "2/2 [==============================] - 0s 11ms/step - loss: 14.0396 - mae: 14.0396\n",
            "Epoch 15/100\n",
            "2/2 [==============================] - 0s 7ms/step - loss: 11.4350 - mae: 11.4350\n",
            "Epoch 16/100\n",
            "2/2 [==============================] - 0s 9ms/step - loss: 8.5252 - mae: 8.5252\n",
            "Epoch 17/100\n",
            "2/2 [==============================] - 0s 9ms/step - loss: 13.6075 - mae: 13.6075\n",
            "Epoch 18/100\n",
            "2/2 [==============================] - 0s 9ms/step - loss: 11.4301 - mae: 11.4301\n",
            "Epoch 19/100\n",
            "2/2 [==============================] - 0s 8ms/step - loss: 17.9448 - mae: 17.9448\n",
            "Epoch 20/100\n",
            "2/2 [==============================] - 0s 8ms/step - loss: 15.0792 - mae: 15.0792\n",
            "Epoch 21/100\n",
            "2/2 [==============================] - 0s 8ms/step - loss: 11.0451 - mae: 11.0451\n",
            "Epoch 22/100\n",
            "2/2 [==============================] - 0s 8ms/step - loss: 8.1764 - mae: 8.1764\n",
            "Epoch 23/100\n",
            "2/2 [==============================] - 0s 8ms/step - loss: 9.4903 - mae: 9.4903\n",
            "Epoch 24/100\n",
            "2/2 [==============================] - 0s 7ms/step - loss: 7.6625 - mae: 7.6625\n",
            "Epoch 25/100\n",
            "2/2 [==============================] - 0s 8ms/step - loss: 13.1406 - mae: 13.1406\n",
            "Epoch 26/100\n",
            "2/2 [==============================] - 0s 8ms/step - loss: 16.4504 - mae: 16.4504\n",
            "Epoch 27/100\n",
            "2/2 [==============================] - 0s 9ms/step - loss: 13.1894 - mae: 13.1894\n",
            "Epoch 28/100\n",
            "2/2 [==============================] - 0s 8ms/step - loss: 14.2868 - mae: 14.2868\n",
            "Epoch 29/100\n",
            "2/2 [==============================] - 0s 8ms/step - loss: 10.0721 - mae: 10.0721\n",
            "Epoch 30/100\n",
            "2/2 [==============================] - 0s 11ms/step - loss: 16.3897 - mae: 16.3897\n",
            "Epoch 31/100\n",
            "2/2 [==============================] - 0s 12ms/step - loss: 23.5963 - mae: 23.5963\n",
            "Epoch 32/100\n",
            "2/2 [==============================] - 0s 13ms/step - loss: 7.6094 - mae: 7.6094\n",
            "Epoch 33/100\n",
            "2/2 [==============================] - 0s 13ms/step - loss: 9.3076 - mae: 9.3076\n",
            "Epoch 34/100\n",
            "2/2 [==============================] - 0s 13ms/step - loss: 13.6929 - mae: 13.6929\n",
            "Epoch 35/100\n",
            "2/2 [==============================] - 0s 14ms/step - loss: 11.1436 - mae: 11.1436\n",
            "Epoch 36/100\n",
            "2/2 [==============================] - 0s 8ms/step - loss: 13.3590 - mae: 13.3590\n",
            "Epoch 37/100\n",
            "2/2 [==============================] - 0s 9ms/step - loss: 9.4562 - mae: 9.4562\n",
            "Epoch 38/100\n",
            "2/2 [==============================] - 0s 7ms/step - loss: 10.1110 - mae: 10.1110\n",
            "Epoch 39/100\n",
            "2/2 [==============================] - 0s 8ms/step - loss: 10.1955 - mae: 10.1955\n",
            "Epoch 40/100\n",
            "2/2 [==============================] - 0s 8ms/step - loss: 10.9377 - mae: 10.9377\n",
            "Epoch 41/100\n",
            "2/2 [==============================] - 0s 7ms/step - loss: 7.9239 - mae: 7.9239\n",
            "Epoch 42/100\n",
            "2/2 [==============================] - 0s 14ms/step - loss: 10.0679 - mae: 10.0679\n",
            "Epoch 43/100\n",
            "2/2 [==============================] - 0s 9ms/step - loss: 8.6882 - mae: 8.6882\n",
            "Epoch 44/100\n",
            "2/2 [==============================] - 0s 8ms/step - loss: 12.1661 - mae: 12.1661\n",
            "Epoch 45/100\n",
            "2/2 [==============================] - 0s 9ms/step - loss: 13.8276 - mae: 13.8276\n",
            "Epoch 46/100\n",
            "2/2 [==============================] - 0s 8ms/step - loss: 8.4875 - mae: 8.4875\n",
            "Epoch 47/100\n",
            "2/2 [==============================] - 0s 7ms/step - loss: 9.1125 - mae: 9.1125\n",
            "Epoch 48/100\n",
            "2/2 [==============================] - 0s 9ms/step - loss: 10.5905 - mae: 10.5905\n",
            "Epoch 49/100\n",
            "2/2 [==============================] - 0s 9ms/step - loss: 7.7320 - mae: 7.7320\n",
            "Epoch 50/100\n",
            "2/2 [==============================] - 0s 8ms/step - loss: 9.5144 - mae: 9.5144\n",
            "Epoch 51/100\n",
            "2/2 [==============================] - 0s 8ms/step - loss: 9.1490 - mae: 9.1490\n",
            "Epoch 52/100\n",
            "2/2 [==============================] - 0s 7ms/step - loss: 16.3144 - mae: 16.3144\n",
            "Epoch 53/100\n",
            "2/2 [==============================] - 0s 8ms/step - loss: 14.1471 - mae: 14.1471\n",
            "Epoch 54/100\n",
            "2/2 [==============================] - 0s 7ms/step - loss: 21.1748 - mae: 21.1748\n",
            "Epoch 55/100\n",
            "2/2 [==============================] - 0s 7ms/step - loss: 16.3510 - mae: 16.3510\n",
            "Epoch 56/100\n",
            "2/2 [==============================] - 0s 9ms/step - loss: 10.0105 - mae: 10.0105\n",
            "Epoch 57/100\n",
            "2/2 [==============================] - 0s 8ms/step - loss: 9.9362 - mae: 9.9362\n",
            "Epoch 58/100\n",
            "2/2 [==============================] - 0s 8ms/step - loss: 9.1991 - mae: 9.1991\n",
            "Epoch 59/100\n",
            "2/2 [==============================] - 0s 8ms/step - loss: 8.4028 - mae: 8.4028\n",
            "Epoch 60/100\n",
            "2/2 [==============================] - 0s 8ms/step - loss: 9.4690 - mae: 9.4690\n",
            "Epoch 61/100\n",
            "2/2 [==============================] - 0s 8ms/step - loss: 11.4026 - mae: 11.4026\n",
            "Epoch 62/100\n",
            "2/2 [==============================] - 0s 6ms/step - loss: 11.7179 - mae: 11.7179\n",
            "Epoch 63/100\n",
            "2/2 [==============================] - 0s 6ms/step - loss: 7.0690 - mae: 7.0690\n",
            "Epoch 64/100\n",
            "2/2 [==============================] - 0s 7ms/step - loss: 16.9993 - mae: 16.9993\n",
            "Epoch 65/100\n",
            "2/2 [==============================] - 0s 7ms/step - loss: 12.4819 - mae: 12.4819\n",
            "Epoch 66/100\n",
            "2/2 [==============================] - 0s 8ms/step - loss: 13.0486 - mae: 13.0486\n",
            "Epoch 67/100\n",
            "2/2 [==============================] - 0s 8ms/step - loss: 8.0682 - mae: 8.0682\n",
            "Epoch 68/100\n",
            "2/2 [==============================] - 0s 8ms/step - loss: 10.2056 - mae: 10.2056\n",
            "Epoch 69/100\n",
            "2/2 [==============================] - 0s 7ms/step - loss: 12.3956 - mae: 12.3956\n",
            "Epoch 70/100\n",
            "2/2 [==============================] - 0s 9ms/step - loss: 9.0303 - mae: 9.0303\n",
            "Epoch 71/100\n",
            "2/2 [==============================] - 0s 6ms/step - loss: 10.0146 - mae: 10.0146\n",
            "Epoch 72/100\n",
            "2/2 [==============================] - 0s 11ms/step - loss: 10.0330 - mae: 10.0330\n",
            "Epoch 73/100\n",
            "2/2 [==============================] - 0s 7ms/step - loss: 12.5795 - mae: 12.5795\n",
            "Epoch 74/100\n",
            "2/2 [==============================] - 0s 10ms/step - loss: 10.4132 - mae: 10.4132\n",
            "Epoch 75/100\n",
            "2/2 [==============================] - 0s 10ms/step - loss: 9.7022 - mae: 9.7022\n",
            "Epoch 76/100\n",
            "2/2 [==============================] - 0s 11ms/step - loss: 11.1976 - mae: 11.1976\n",
            "Epoch 77/100\n",
            "2/2 [==============================] - 0s 8ms/step - loss: 8.3450 - mae: 8.3450\n",
            "Epoch 78/100\n",
            "2/2 [==============================] - 0s 7ms/step - loss: 9.0946 - mae: 9.0946\n",
            "Epoch 79/100\n",
            "2/2 [==============================] - 0s 8ms/step - loss: 19.5512 - mae: 19.5512\n",
            "Epoch 80/100\n",
            "2/2 [==============================] - 0s 7ms/step - loss: 14.8521 - mae: 14.8521\n",
            "Epoch 81/100\n",
            "2/2 [==============================] - 0s 16ms/step - loss: 9.0395 - mae: 9.0395\n",
            "Epoch 82/100\n",
            "2/2 [==============================] - 0s 7ms/step - loss: 12.9846 - mae: 12.9846\n",
            "Epoch 83/100\n",
            "2/2 [==============================] - 0s 6ms/step - loss: 7.9039 - mae: 7.9039\n",
            "Epoch 84/100\n",
            "2/2 [==============================] - 0s 7ms/step - loss: 7.6935 - mae: 7.6935\n",
            "Epoch 85/100\n",
            "2/2 [==============================] - 0s 7ms/step - loss: 10.0532 - mae: 10.0532\n",
            "Epoch 86/100\n",
            "2/2 [==============================] - 0s 7ms/step - loss: 9.2553 - mae: 9.2553\n",
            "Epoch 87/100\n",
            "2/2 [==============================] - 0s 8ms/step - loss: 12.0461 - mae: 12.0461\n",
            "Epoch 88/100\n",
            "2/2 [==============================] - 0s 7ms/step - loss: 10.6652 - mae: 10.6652\n",
            "Epoch 89/100\n",
            "2/2 [==============================] - 0s 7ms/step - loss: 7.2649 - mae: 7.2649\n",
            "Epoch 90/100\n",
            "2/2 [==============================] - 0s 6ms/step - loss: 12.8086 - mae: 12.8086\n",
            "Epoch 91/100\n",
            "2/2 [==============================] - 0s 8ms/step - loss: 7.4800 - mae: 7.4800\n",
            "Epoch 92/100\n",
            "2/2 [==============================] - 0s 8ms/step - loss: 6.7469 - mae: 6.7469\n",
            "Epoch 93/100\n",
            "2/2 [==============================] - 0s 7ms/step - loss: 11.9576 - mae: 11.9576\n",
            "Epoch 94/100\n",
            "2/2 [==============================] - 0s 10ms/step - loss: 8.8860 - mae: 8.8860\n",
            "Epoch 95/100\n",
            "2/2 [==============================] - 0s 7ms/step - loss: 7.7219 - mae: 7.7219\n",
            "Epoch 96/100\n",
            "2/2 [==============================] - 0s 9ms/step - loss: 6.7478 - mae: 6.7478\n",
            "Epoch 97/100\n",
            "2/2 [==============================] - 0s 7ms/step - loss: 8.6394 - mae: 8.6394\n",
            "Epoch 98/100\n",
            "2/2 [==============================] - 0s 8ms/step - loss: 9.3827 - mae: 9.3827\n",
            "Epoch 99/100\n",
            "2/2 [==============================] - 0s 7ms/step - loss: 9.1197 - mae: 9.1197\n",
            "Epoch 100/100\n",
            "2/2 [==============================] - 0s 9ms/step - loss: 10.4735 - mae: 10.4735\n"
          ]
        },
        {
          "output_type": "execute_result",
          "data": {
            "text/plain": [
              "<keras.src.callbacks.History at 0x7e39d870ded0>"
            ]
          },
          "metadata": {},
          "execution_count": 51
        }
      ]
    },
    {
      "cell_type": "code",
      "source": [
        "from tensorflow.keras.utils import plot_model\n",
        "plot_model(model_1,show_shapes=True)"
      ],
      "metadata": {
        "colab": {
          "base_uri": "https://localhost:8080/",
          "height": 201
        },
        "id": "e877YSDJ6p3f",
        "outputId": "3844f838-9c77-4427-9435-a83db1419708"
      },
      "execution_count": 52,
      "outputs": [
        {
          "output_type": "execute_result",
          "data": {
            "image/png": "[encoded data removed]",
            "text/plain": [
              "<IPython.core.display.Image object>"
            ]
          },
          "metadata": {},
          "execution_count": 52
        }
      ]
    },
    {
      "cell_type": "code",
      "source": [
        "y_pred_1 = model_1.predict(X_test)\n",
        "y_pred_1"
      ],
      "metadata": {
        "colab": {
          "base_uri": "https://localhost:8080/"
        },
        "id": "WfMEBSs_7KXO",
        "outputId": "bb387e7a-d8ee-4ff3-a2f9-3537723482b2"
      },
      "execution_count": 53,
      "outputs": [
        {
          "output_type": "stream",
          "name": "stdout",
          "text": [
            "1/1 [==============================] - 0s 59ms/step\n"
          ]
        },
        {
          "output_type": "execute_result",
          "data": {
            "text/plain": [
              "array([[56.510838],\n",
              "       [60.191353],\n",
              "       [63.87187 ],\n",
              "       [67.55238 ],\n",
              "       [71.232895],\n",
              "       [74.913414],\n",
              "       [78.593925],\n",
              "       [82.27444 ],\n",
              "       [85.954956],\n",
              "       [89.63547 ]], dtype=float32)"
            ]
          },
          "metadata": {},
          "execution_count": 53
        }
      ]
    },
    {
      "cell_type": "code",
      "source": [
        "plot_predictions(predictions=y_pred_1)"
      ],
      "metadata": {
        "colab": {
          "base_uri": "https://localhost:8080/",
          "height": 599
        },
        "id": "FeQs11407uG_",
        "outputId": "87112236-fae9-4715-9069-dc05aab647d1"
      },
      "execution_count": 54,
      "outputs": [
        {
          "output_type": "display_data",
          "data": {
            "text/plain": [
              "<Figure size 1000x700 with 1 Axes>"
            ],
            "image/png": "[encoded data removed]"
          },
          "metadata": {}
        }
      ]
    },
    {
      "cell_type": "code",
      "source": [
        "mae_1 = MAE(y_true=y_test, y_pred=y_pred_1)\n",
        "mse_1 = MSE(y_true = y_test, y_pred=y_pred_1)"
      ],
      "metadata": {
        "id": "23HNBvit71wV"
      },
      "execution_count": 55,
      "outputs": []
    },
    {
      "cell_type": "markdown",
      "source": [
        "### `model_2`"
      ],
      "metadata": {
        "id": "0DhGHfXs8C0-"
      }
    },
    {
      "cell_type": "code",
      "source": [
        "tf.random.set_seed(42)\n",
        "\n",
        "model_2 = tf.keras.Sequential([\n",
        "    tf.keras.layers.Dense(10,input_shape = [1]),\n",
        "    tf.keras.layers.Dense(1)\n",
        "])\n",
        "\n",
        "model_2.compile(loss = tf.keras.losses.mae,\n",
        "                optimizer = tf.keras.optimizers.SGD(),\n",
        "                metrics = ['mae'])\n",
        "\n",
        "model_2.fit(X_train, y_train, epochs = 100)"
      ],
      "metadata": {
        "colab": {
          "base_uri": "https://localhost:8080/"
        },
        "id": "PtOyu9Iq82e9",
        "outputId": "a4ee680e-b975-4fbc-af08-3fb56539ea3c"
      },
      "execution_count": 56,
      "outputs": [
        {
          "output_type": "stream",
          "name": "stdout",
          "text": [
            "Epoch 1/100\n",
            "2/2 [==============================] - 0s 10ms/step - loss: 26.1810 - mae: 26.1810\n",
            "Epoch 2/100\n",
            "2/2 [==============================] - 0s 6ms/step - loss: 24.5941 - mae: 24.5941\n",
            "Epoch 3/100\n",
            "2/2 [==============================] - 0s 6ms/step - loss: 29.1224 - mae: 29.1224\n",
            "Epoch 4/100\n",
            "2/2 [==============================] - 0s 6ms/step - loss: 13.1251 - mae: 13.1251\n",
            "Epoch 5/100\n",
            "2/2 [==============================] - 0s 6ms/step - loss: 17.1428 - mae: 17.1428\n",
            "Epoch 6/100\n",
            "2/2 [==============================] - 0s 7ms/step - loss: 10.0668 - mae: 10.0668\n",
            "Epoch 7/100\n",
            "2/2 [==============================] - 0s 6ms/step - loss: 11.0428 - mae: 11.0428\n",
            "Epoch 8/100\n",
            "2/2 [==============================] - 0s 6ms/step - loss: 11.0665 - mae: 11.0665\n",
            "Epoch 9/100\n",
            "2/2 [==============================] - 0s 7ms/step - loss: 40.1067 - mae: 40.1067\n",
            "Epoch 10/100\n",
            "2/2 [==============================] - 0s 7ms/step - loss: 27.5490 - mae: 27.5490\n",
            "Epoch 11/100\n",
            "2/2 [==============================] - 0s 6ms/step - loss: 10.2428 - mae: 10.2428\n",
            "Epoch 12/100\n",
            "2/2 [==============================] - 0s 6ms/step - loss: 25.4076 - mae: 25.4076\n",
            "Epoch 13/100\n",
            "2/2 [==============================] - 0s 6ms/step - loss: 16.8479 - mae: 16.8479\n",
            "Epoch 14/100\n",
            "2/2 [==============================] - 0s 6ms/step - loss: 25.6735 - mae: 25.6735\n",
            "Epoch 15/100\n",
            "2/2 [==============================] - 0s 7ms/step - loss: 17.5419 - mae: 17.5419\n",
            "Epoch 16/100\n",
            "2/2 [==============================] - 0s 7ms/step - loss: 10.0313 - mae: 10.0313\n",
            "Epoch 17/100\n",
            "2/2 [==============================] - 0s 9ms/step - loss: 18.5623 - mae: 18.5623\n",
            "Epoch 18/100\n",
            "2/2 [==============================] - 0s 8ms/step - loss: 11.7301 - mae: 11.7301\n",
            "Epoch 19/100\n",
            "2/2 [==============================] - 0s 7ms/step - loss: 16.3865 - mae: 16.3865\n",
            "Epoch 20/100\n",
            "2/2 [==============================] - 0s 6ms/step - loss: 8.2387 - mae: 8.2387\n",
            "Epoch 21/100\n",
            "2/2 [==============================] - 0s 7ms/step - loss: 14.4476 - mae: 14.4476\n",
            "Epoch 22/100\n",
            "2/2 [==============================] - 0s 6ms/step - loss: 12.8674 - mae: 12.8674\n",
            "Epoch 23/100\n",
            "2/2 [==============================] - 0s 7ms/step - loss: 15.4964 - mae: 15.4964\n",
            "Epoch 24/100\n",
            "2/2 [==============================] - 0s 6ms/step - loss: 15.2875 - mae: 15.2875\n",
            "Epoch 25/100\n",
            "2/2 [==============================] - 0s 7ms/step - loss: 14.3488 - mae: 14.3488\n",
            "Epoch 26/100\n",
            "2/2 [==============================] - 0s 6ms/step - loss: 19.3692 - mae: 19.3692\n",
            "Epoch 27/100\n",
            "2/2 [==============================] - 0s 6ms/step - loss: 11.4284 - mae: 11.4284\n",
            "Epoch 28/100\n",
            "2/2 [==============================] - 0s 6ms/step - loss: 29.0171 - mae: 29.0171\n",
            "Epoch 29/100\n",
            "2/2 [==============================] - 0s 7ms/step - loss: 9.2409 - mae: 9.2409\n",
            "Epoch 30/100\n",
            "2/2 [==============================] - 0s 6ms/step - loss: 29.7744 - mae: 29.7744\n",
            "Epoch 31/100\n",
            "2/2 [==============================] - 0s 6ms/step - loss: 54.0165 - mae: 54.0165\n",
            "Epoch 32/100\n",
            "2/2 [==============================] - 0s 7ms/step - loss: 9.5454 - mae: 9.5454\n",
            "Epoch 33/100\n",
            "2/2 [==============================] - 0s 7ms/step - loss: 12.1353 - mae: 12.1353\n",
            "Epoch 34/100\n",
            "2/2 [==============================] - 0s 7ms/step - loss: 23.8333 - mae: 23.8333\n",
            "Epoch 35/100\n",
            "2/2 [==============================] - 0s 6ms/step - loss: 12.6244 - mae: 12.6244\n",
            "Epoch 36/100\n",
            "2/2 [==============================] - 0s 6ms/step - loss: 21.5524 - mae: 21.5524\n",
            "Epoch 37/100\n",
            "2/2 [==============================] - 0s 8ms/step - loss: 11.3487 - mae: 11.3487\n",
            "Epoch 38/100\n",
            "2/2 [==============================] - 0s 6ms/step - loss: 13.4239 - mae: 13.4239\n",
            "Epoch 39/100\n",
            "2/2 [==============================] - 0s 5ms/step - loss: 10.7646 - mae: 10.7646\n",
            "Epoch 40/100\n",
            "2/2 [==============================] - 0s 11ms/step - loss: 16.5520 - mae: 16.5520\n",
            "Epoch 41/100\n",
            "2/2 [==============================] - 0s 8ms/step - loss: 10.9427 - mae: 10.9427\n",
            "Epoch 42/100\n",
            "2/2 [==============================] - 0s 9ms/step - loss: 9.2770 - mae: 9.2770\n",
            "Epoch 43/100\n",
            "2/2 [==============================] - 0s 7ms/step - loss: 9.5797 - mae: 9.5797\n",
            "Epoch 44/100\n",
            "2/2 [==============================] - 0s 7ms/step - loss: 27.9517 - mae: 27.9517\n",
            "Epoch 45/100\n",
            "2/2 [==============================] - 0s 7ms/step - loss: 11.2637 - mae: 11.2637\n",
            "Epoch 46/100\n",
            "2/2 [==============================] - 0s 7ms/step - loss: 14.0395 - mae: 14.0395\n",
            "Epoch 47/100\n",
            "2/2 [==============================] - 0s 6ms/step - loss: 13.5064 - mae: 13.5064\n",
            "Epoch 48/100\n",
            "2/2 [==============================] - 0s 6ms/step - loss: 17.3452 - mae: 17.3452\n",
            "Epoch 49/100\n",
            "2/2 [==============================] - 0s 7ms/step - loss: 9.5010 - mae: 9.5010\n",
            "Epoch 50/100\n",
            "2/2 [==============================] - 0s 6ms/step - loss: 13.6875 - mae: 13.6875\n",
            "Epoch 51/100\n",
            "2/2 [==============================] - 0s 7ms/step - loss: 11.5477 - mae: 11.5477\n",
            "Epoch 52/100\n",
            "2/2 [==============================] - 0s 7ms/step - loss: 30.2126 - mae: 30.2126\n",
            "Epoch 53/100\n",
            "2/2 [==============================] - 0s 8ms/step - loss: 13.7218 - mae: 13.7218\n",
            "Epoch 54/100\n",
            "2/2 [==============================] - 0s 7ms/step - loss: 26.4340 - mae: 26.4340\n",
            "Epoch 55/100\n",
            "2/2 [==============================] - 0s 7ms/step - loss: 26.0219 - mae: 26.0219\n",
            "Epoch 56/100\n",
            "2/2 [==============================] - 0s 7ms/step - loss: 11.2269 - mae: 11.2269\n",
            "Epoch 57/100\n",
            "2/2 [==============================] - 0s 7ms/step - loss: 13.2076 - mae: 13.2076\n",
            "Epoch 58/100\n",
            "2/2 [==============================] - 0s 6ms/step - loss: 9.8614 - mae: 9.8614\n",
            "Epoch 59/100\n",
            "2/2 [==============================] - 0s 6ms/step - loss: 13.4076 - mae: 13.4076\n",
            "Epoch 60/100\n",
            "2/2 [==============================] - 0s 7ms/step - loss: 10.9293 - mae: 10.9293\n",
            "Epoch 61/100\n",
            "2/2 [==============================] - 0s 9ms/step - loss: 13.5593 - mae: 13.5593\n",
            "Epoch 62/100\n",
            "2/2 [==============================] - 0s 7ms/step - loss: 17.8994 - mae: 17.8994\n",
            "Epoch 63/100\n",
            "2/2 [==============================] - 0s 8ms/step - loss: 8.7323 - mae: 8.7323\n",
            "Epoch 64/100\n",
            "2/2 [==============================] - 0s 9ms/step - loss: 16.1532 - mae: 16.1532\n",
            "Epoch 65/100\n",
            "2/2 [==============================] - 0s 6ms/step - loss: 10.7430 - mae: 10.7430\n",
            "Epoch 66/100\n",
            "2/2 [==============================] - 0s 7ms/step - loss: 22.2232 - mae: 22.2232\n",
            "Epoch 67/100\n",
            "2/2 [==============================] - 0s 11ms/step - loss: 10.2694 - mae: 10.2694\n",
            "Epoch 68/100\n",
            "2/2 [==============================] - 0s 7ms/step - loss: 13.4898 - mae: 13.4898\n",
            "Epoch 69/100\n",
            "2/2 [==============================] - 0s 7ms/step - loss: 11.4411 - mae: 11.4411\n",
            "Epoch 70/100\n",
            "2/2 [==============================] - 0s 6ms/step - loss: 13.6288 - mae: 13.6288\n",
            "Epoch 71/100\n",
            "2/2 [==============================] - 0s 7ms/step - loss: 15.6596 - mae: 15.6596\n",
            "Epoch 72/100\n",
            "2/2 [==============================] - 0s 7ms/step - loss: 11.8632 - mae: 11.8632\n",
            "Epoch 73/100\n",
            "2/2 [==============================] - 0s 7ms/step - loss: 16.6596 - mae: 16.6596\n",
            "Epoch 74/100\n",
            "2/2 [==============================] - 0s 8ms/step - loss: 24.2278 - mae: 24.2278\n",
            "Epoch 75/100\n",
            "2/2 [==============================] - 0s 7ms/step - loss: 9.6441 - mae: 9.6441\n",
            "Epoch 76/100\n",
            "2/2 [==============================] - 0s 7ms/step - loss: 12.5011 - mae: 12.5011\n",
            "Epoch 77/100\n",
            "2/2 [==============================] - 0s 6ms/step - loss: 16.7798 - mae: 16.7798\n",
            "Epoch 78/100\n",
            "2/2 [==============================] - 0s 6ms/step - loss: 9.0848 - mae: 9.0848\n",
            "Epoch 79/100\n",
            "2/2 [==============================] - 0s 7ms/step - loss: 24.1260 - mae: 24.1260\n",
            "Epoch 80/100\n",
            "2/2 [==============================] - 0s 7ms/step - loss: 26.9379 - mae: 26.9379\n",
            "Epoch 81/100\n",
            "2/2 [==============================] - 0s 7ms/step - loss: 11.7657 - mae: 11.7657\n",
            "Epoch 82/100\n",
            "2/2 [==============================] - 0s 7ms/step - loss: 11.9734 - mae: 11.9734\n",
            "Epoch 83/100\n",
            "2/2 [==============================] - 0s 8ms/step - loss: 17.3529 - mae: 17.3529\n",
            "Epoch 84/100\n",
            "2/2 [==============================] - 0s 7ms/step - loss: 6.8406 - mae: 6.8406\n",
            "Epoch 85/100\n",
            "2/2 [==============================] - 0s 6ms/step - loss: 16.0167 - mae: 16.0167\n",
            "Epoch 86/100\n",
            "2/2 [==============================] - 0s 8ms/step - loss: 15.8609 - mae: 15.8609\n",
            "Epoch 87/100\n",
            "2/2 [==============================] - 0s 7ms/step - loss: 20.3291 - mae: 20.3291\n",
            "Epoch 88/100\n",
            "2/2 [==============================] - 0s 7ms/step - loss: 34.0615 - mae: 34.0615\n",
            "Epoch 89/100\n",
            "2/2 [==============================] - 0s 6ms/step - loss: 10.6265 - mae: 10.6265\n",
            "Epoch 90/100\n",
            "2/2 [==============================] - 0s 7ms/step - loss: 23.5417 - mae: 23.5417\n",
            "Epoch 91/100\n",
            "2/2 [==============================] - 0s 7ms/step - loss: 11.1314 - mae: 11.1314\n",
            "Epoch 92/100\n",
            "2/2 [==============================] - 0s 7ms/step - loss: 20.4016 - mae: 20.4016\n",
            "Epoch 93/100\n",
            "2/2 [==============================] - 0s 6ms/step - loss: 6.5346 - mae: 6.5346\n",
            "Epoch 94/100\n",
            "2/2 [==============================] - 0s 6ms/step - loss: 11.1660 - mae: 11.1660\n",
            "Epoch 95/100\n",
            "2/2 [==============================] - 0s 7ms/step - loss: 24.6220 - mae: 24.6220\n",
            "Epoch 96/100\n",
            "2/2 [==============================] - 0s 7ms/step - loss: 10.7769 - mae: 10.7769\n",
            "Epoch 97/100\n",
            "2/2 [==============================] - 0s 6ms/step - loss: 15.5245 - mae: 15.5245\n",
            "Epoch 98/100\n",
            "2/2 [==============================] - 0s 7ms/step - loss: 9.0500 - mae: 9.0500\n",
            "Epoch 99/100\n",
            "2/2 [==============================] - 0s 6ms/step - loss: 10.8655 - mae: 10.8655\n",
            "Epoch 100/100\n",
            "2/2 [==============================] - 0s 6ms/step - loss: 27.1628 - mae: 27.1628\n"
          ]
        },
        {
          "output_type": "execute_result",
          "data": {
            "text/plain": [
              "<keras.src.callbacks.History at 0x7e39d86142b0>"
            ]
          },
          "metadata": {},
          "execution_count": 56
        }
      ]
    },
    {
      "cell_type": "code",
      "source": [
        "y_pred_2 = model_2.predict(X_test)\n",
        "plot_predictions(predictions=y_pred_2)"
      ],
      "metadata": {
        "colab": {
          "base_uri": "https://localhost:8080/",
          "height": 616
        },
        "id": "D2NbiFH890TG",
        "outputId": "1890d74c-202b-4f1c-b079-add205e5cccd"
      },
      "execution_count": 57,
      "outputs": [
        {
          "output_type": "stream",
          "name": "stdout",
          "text": [
            "1/1 [==============================] - 0s 52ms/step\n"
          ]
        },
        {
          "output_type": "display_data",
          "data": {
            "text/plain": [
              "<Figure size 1000x700 with 1 Axes>"
            ],
            "image/png": "[encoded data removed]"
          },
          "metadata": {}
        }
      ]
    },
    {
      "cell_type": "code",
      "source": [
        "mae_2 = MAE(y_test, y_pred_2)"
      ],
      "metadata": {
        "id": "fxNGMfV1ACAi"
      },
      "execution_count": 58,
      "outputs": []
    },
    {
      "cell_type": "code",
      "source": [
        "mse_2 = MSE(y_test, y_pred_2)"
      ],
      "metadata": {
        "id": "AKkn2Aj5AVA0"
      },
      "execution_count": 59,
      "outputs": []
    },
    {
      "cell_type": "markdown",
      "source": [
        "### `model_3`"
      ],
      "metadata": {
        "id": "SB_7t9FpAXyy"
      }
    },
    {
      "cell_type": "code",
      "source": [
        "tf.random.set_seed(42)\n",
        "\n",
        "model_3 = tf.keras.Sequential([\n",
        "    tf.keras.layers.Dense(10,input_shape = [1]),\n",
        "    tf.keras.layers.Dense(1)\n",
        "])\n",
        "\n",
        "model_3.compile(loss = tf.keras.losses.mae,\n",
        "                optimizer = tf.keras.optimizers.SGD(),\n",
        "                metrics = ['mae'])\n",
        "\n",
        "model_3.fit(X_train, y_train, epochs = 500)"
      ],
      "metadata": {
        "colab": {
          "base_uri": "https://localhost:8080/"
        },
        "id": "8fCF4YnCAc4B",
        "outputId": "dc584ebd-e2d8-4a84-c1b4-c56e50a08b0e"
      },
      "execution_count": 60,
      "outputs": [
        {
          "output_type": "stream",
          "name": "stdout",
          "text": [
            "Epoch 1/500\n",
            "2/2 [==============================] - 0s 17ms/step - loss: 34.4476 - mae: 34.4476\n",
            "Epoch 2/500\n",
            "2/2 [==============================] - 0s 9ms/step - loss: 21.6628 - mae: 21.6628\n",
            "Epoch 3/500\n",
            "2/2 [==============================] - 0s 9ms/step - loss: 27.7998 - mae: 27.7998\n",
            "Epoch 4/500\n",
            "2/2 [==============================] - 0s 8ms/step - loss: 27.4053 - mae: 27.4053\n",
            "Epoch 5/500\n",
            "2/2 [==============================] - 0s 9ms/step - loss: 13.3835 - mae: 13.3835\n",
            "Epoch 6/500\n",
            "2/2 [==============================] - 0s 9ms/step - loss: 10.7864 - mae: 10.7864\n",
            "Epoch 7/500\n",
            "2/2 [==============================] - 0s 10ms/step - loss: 11.7493 - mae: 11.7493\n",
            "Epoch 8/500\n",
            "2/2 [==============================] - 0s 9ms/step - loss: 10.7629 - mae: 10.7629\n",
            "Epoch 9/500\n",
            "2/2 [==============================] - 0s 11ms/step - loss: 36.4609 - mae: 36.4609\n",
            "Epoch 10/500\n",
            "2/2 [==============================] - 0s 9ms/step - loss: 24.2909 - mae: 24.2909\n",
            "Epoch 11/500\n",
            "2/2 [==============================] - 0s 9ms/step - loss: 11.7936 - mae: 11.7936\n",
            "Epoch 12/500\n",
            "2/2 [==============================] - 0s 8ms/step - loss: 23.5831 - mae: 23.5831\n",
            "Epoch 13/500\n",
            "2/2 [==============================] - 0s 9ms/step - loss: 21.1425 - mae: 21.1425\n",
            "Epoch 14/500\n",
            "2/2 [==============================] - 0s 9ms/step - loss: 23.5966 - mae: 23.5966\n",
            "Epoch 15/500\n",
            "2/2 [==============================] - 0s 9ms/step - loss: 15.6951 - mae: 15.6951\n",
            "Epoch 16/500\n",
            "2/2 [==============================] - 0s 8ms/step - loss: 10.4060 - mae: 10.4060\n",
            "Epoch 17/500\n",
            "2/2 [==============================] - 0s 8ms/step - loss: 19.6135 - mae: 19.6135\n",
            "Epoch 18/500\n",
            "2/2 [==============================] - 0s 9ms/step - loss: 13.2626 - mae: 13.2626\n",
            "Epoch 19/500\n",
            "2/2 [==============================] - 0s 14ms/step - loss: 16.0259 - mae: 16.0259\n",
            "Epoch 20/500\n",
            "2/2 [==============================] - 0s 8ms/step - loss: 10.1862 - mae: 10.1862\n",
            "Epoch 21/500\n",
            "2/2 [==============================] - 0s 9ms/step - loss: 13.7301 - mae: 13.7301\n",
            "Epoch 22/500\n",
            "2/2 [==============================] - 0s 11ms/step - loss: 21.9384 - mae: 21.9384\n",
            "Epoch 23/500\n",
            "2/2 [==============================] - 0s 9ms/step - loss: 10.4498 - mae: 10.4498\n",
            "Epoch 24/500\n",
            "2/2 [==============================] - 0s 10ms/step - loss: 15.7461 - mae: 15.7461\n",
            "Epoch 25/500\n",
            "2/2 [==============================] - 0s 13ms/step - loss: 14.8960 - mae: 14.8960\n",
            "Epoch 26/500\n",
            "2/2 [==============================] - 0s 11ms/step - loss: 19.5223 - mae: 19.5223\n",
            "Epoch 27/500\n",
            "2/2 [==============================] - 0s 11ms/step - loss: 20.5325 - mae: 20.5325\n",
            "Epoch 28/500\n",
            "2/2 [==============================] - 0s 9ms/step - loss: 14.9031 - mae: 14.9031\n",
            "Epoch 29/500\n",
            "2/2 [==============================] - 0s 8ms/step - loss: 9.2575 - mae: 9.2575\n",
            "Epoch 30/500\n",
            "2/2 [==============================] - 0s 14ms/step - loss: 30.2811 - mae: 30.2811\n",
            "Epoch 31/500\n",
            "2/2 [==============================] - 0s 9ms/step - loss: 55.0121 - mae: 55.0121\n",
            "Epoch 32/500\n",
            "2/2 [==============================] - 0s 9ms/step - loss: 9.6778 - mae: 9.6778\n",
            "Epoch 33/500\n",
            "2/2 [==============================] - 0s 9ms/step - loss: 12.2862 - mae: 12.2862\n",
            "Epoch 34/500\n",
            "2/2 [==============================] - 0s 11ms/step - loss: 24.4063 - mae: 24.4063\n",
            "Epoch 35/500\n",
            "2/2 [==============================] - 0s 9ms/step - loss: 11.9594 - mae: 11.9594\n",
            "Epoch 36/500\n",
            "2/2 [==============================] - 0s 9ms/step - loss: 22.2164 - mae: 22.2164\n",
            "Epoch 37/500\n",
            "2/2 [==============================] - 0s 11ms/step - loss: 17.3718 - mae: 17.3718\n",
            "Epoch 38/500\n",
            "2/2 [==============================] - 0s 10ms/step - loss: 10.6626 - mae: 10.6626\n",
            "Epoch 39/500\n",
            "2/2 [==============================] - 0s 7ms/step - loss: 11.1796 - mae: 11.1796\n",
            "Epoch 40/500\n",
            "2/2 [==============================] - 0s 9ms/step - loss: 17.9892 - mae: 17.9892\n",
            "Epoch 41/500\n",
            "2/2 [==============================] - 0s 7ms/step - loss: 10.3994 - mae: 10.3994\n",
            "Epoch 42/500\n",
            "2/2 [==============================] - 0s 7ms/step - loss: 7.2651 - mae: 7.2651\n",
            "Epoch 43/500\n",
            "2/2 [==============================] - 0s 7ms/step - loss: 18.9553 - mae: 18.9553\n",
            "Epoch 44/500\n",
            "2/2 [==============================] - 0s 6ms/step - loss: 20.1122 - mae: 20.1122\n",
            "Epoch 45/500\n",
            "2/2 [==============================] - 0s 7ms/step - loss: 10.1185 - mae: 10.1185\n",
            "Epoch 46/500\n",
            "2/2 [==============================] - 0s 7ms/step - loss: 11.3813 - mae: 11.3813\n",
            "Epoch 47/500\n",
            "2/2 [==============================] - 0s 6ms/step - loss: 9.8132 - mae: 9.8132\n",
            "Epoch 48/500\n",
            "2/2 [==============================] - 0s 6ms/step - loss: 17.6008 - mae: 17.6008\n",
            "Epoch 49/500\n",
            "2/2 [==============================] - 0s 7ms/step - loss: 9.3326 - mae: 9.3326\n",
            "Epoch 50/500\n",
            "2/2 [==============================] - 0s 6ms/step - loss: 13.3848 - mae: 13.3848\n",
            "Epoch 51/500\n",
            "2/2 [==============================] - 0s 6ms/step - loss: 11.4337 - mae: 11.4337\n",
            "Epoch 52/500\n",
            "2/2 [==============================] - 0s 6ms/step - loss: 29.4405 - mae: 29.4405\n",
            "Epoch 53/500\n",
            "2/2 [==============================] - 0s 9ms/step - loss: 16.7713 - mae: 16.7713\n",
            "Epoch 54/500\n",
            "2/2 [==============================] - 0s 8ms/step - loss: 21.7562 - mae: 21.7562\n",
            "Epoch 55/500\n",
            "2/2 [==============================] - 0s 7ms/step - loss: 22.2054 - mae: 22.2054\n",
            "Epoch 56/500\n",
            "2/2 [==============================] - 0s 7ms/step - loss: 11.2478 - mae: 11.2478\n",
            "Epoch 57/500\n",
            "2/2 [==============================] - 0s 6ms/step - loss: 13.2316 - mae: 13.2316\n",
            "Epoch 58/500\n",
            "2/2 [==============================] - 0s 7ms/step - loss: 9.8768 - mae: 9.8768\n",
            "Epoch 59/500\n",
            "2/2 [==============================] - 0s 8ms/step - loss: 13.4278 - mae: 13.4278\n",
            "Epoch 60/500\n",
            "2/2 [==============================] - 0s 7ms/step - loss: 10.9443 - mae: 10.9443\n",
            "Epoch 61/500\n",
            "2/2 [==============================] - 0s 7ms/step - loss: 13.5747 - mae: 13.5747\n",
            "Epoch 62/500\n",
            "2/2 [==============================] - 0s 7ms/step - loss: 17.9157 - mae: 17.9157\n",
            "Epoch 63/500\n",
            "2/2 [==============================] - 0s 7ms/step - loss: 8.7422 - mae: 8.7422\n",
            "Epoch 64/500\n",
            "2/2 [==============================] - 0s 7ms/step - loss: 16.1660 - mae: 16.1660\n",
            "Epoch 65/500\n",
            "2/2 [==============================] - 0s 6ms/step - loss: 10.7531 - mae: 10.7531\n",
            "Epoch 66/500\n",
            "2/2 [==============================] - 0s 7ms/step - loss: 22.2317 - mae: 22.2317\n",
            "Epoch 67/500\n",
            "2/2 [==============================] - 0s 7ms/step - loss: 10.2781 - mae: 10.2781\n",
            "Epoch 68/500\n",
            "2/2 [==============================] - 0s 8ms/step - loss: 13.4953 - mae: 13.4953\n",
            "Epoch 69/500\n",
            "2/2 [==============================] - 0s 8ms/step - loss: 11.4479 - mae: 11.4479\n",
            "Epoch 70/500\n",
            "2/2 [==============================] - 0s 8ms/step - loss: 13.6351 - mae: 13.6351\n",
            "Epoch 71/500\n",
            "2/2 [==============================] - 0s 8ms/step - loss: 15.6590 - mae: 15.6590\n",
            "Epoch 72/500\n",
            "2/2 [==============================] - 0s 8ms/step - loss: 11.8671 - mae: 11.8671\n",
            "Epoch 73/500\n",
            "2/2 [==============================] - 0s 7ms/step - loss: 16.6568 - mae: 16.6568\n",
            "Epoch 74/500\n",
            "2/2 [==============================] - 0s 7ms/step - loss: 24.2093 - mae: 24.2093\n",
            "Epoch 75/500\n",
            "2/2 [==============================] - 0s 7ms/step - loss: 9.6452 - mae: 9.6452\n",
            "Epoch 76/500\n",
            "2/2 [==============================] - 0s 7ms/step - loss: 12.5005 - mae: 12.5005\n",
            "Epoch 77/500\n",
            "2/2 [==============================] - 0s 6ms/step - loss: 16.7627 - mae: 16.7627\n",
            "Epoch 78/500\n",
            "2/2 [==============================] - 0s 6ms/step - loss: 9.0888 - mae: 9.0888\n",
            "Epoch 79/500\n",
            "2/2 [==============================] - 0s 7ms/step - loss: 24.0978 - mae: 24.0978\n",
            "Epoch 80/500\n",
            "2/2 [==============================] - 0s 7ms/step - loss: 26.9042 - mae: 26.9042\n",
            "Epoch 81/500\n",
            "2/2 [==============================] - 0s 7ms/step - loss: 11.7557 - mae: 11.7557\n",
            "Epoch 82/500\n",
            "2/2 [==============================] - 0s 7ms/step - loss: 11.9863 - mae: 11.9863\n",
            "Epoch 83/500\n",
            "2/2 [==============================] - 0s 7ms/step - loss: 17.3715 - mae: 17.3715\n",
            "Epoch 84/500\n",
            "2/2 [==============================] - 0s 8ms/step - loss: 7.2659 - mae: 7.2659\n",
            "Epoch 85/500\n",
            "2/2 [==============================] - 0s 6ms/step - loss: 14.9312 - mae: 14.9312\n",
            "Epoch 86/500\n",
            "2/2 [==============================] - 0s 5ms/step - loss: 15.2610 - mae: 15.2610\n",
            "Epoch 87/500\n",
            "2/2 [==============================] - 0s 6ms/step - loss: 19.0522 - mae: 19.0522\n",
            "Epoch 88/500\n",
            "2/2 [==============================] - 0s 8ms/step - loss: 29.9748 - mae: 29.9748\n",
            "Epoch 89/500\n",
            "2/2 [==============================] - 0s 14ms/step - loss: 10.2093 - mae: 10.2093\n",
            "Epoch 90/500\n",
            "2/2 [==============================] - 0s 9ms/step - loss: 21.6433 - mae: 21.6433\n",
            "Epoch 91/500\n",
            "2/2 [==============================] - 0s 7ms/step - loss: 10.6120 - mae: 10.6120\n",
            "Epoch 92/500\n",
            "2/2 [==============================] - 0s 7ms/step - loss: 18.5016 - mae: 18.5016\n",
            "Epoch 93/500\n",
            "2/2 [==============================] - 0s 7ms/step - loss: 8.1630 - mae: 8.1630\n",
            "Epoch 94/500\n",
            "2/2 [==============================] - 0s 8ms/step - loss: 11.3720 - mae: 11.3720\n",
            "Epoch 95/500\n",
            "2/2 [==============================] - 0s 8ms/step - loss: 25.4056 - mae: 25.4056\n",
            "Epoch 96/500\n",
            "2/2 [==============================] - 0s 7ms/step - loss: 10.9918 - mae: 10.9918\n",
            "Epoch 97/500\n",
            "2/2 [==============================] - 0s 7ms/step - loss: 16.2831 - mae: 16.2831\n",
            "Epoch 98/500\n",
            "2/2 [==============================] - 0s 8ms/step - loss: 7.0942 - mae: 7.0942\n",
            "Epoch 99/500\n",
            "2/2 [==============================] - 0s 11ms/step - loss: 9.9065 - mae: 9.9065\n",
            "Epoch 100/500\n",
            "2/2 [==============================] - 0s 7ms/step - loss: 19.4163 - mae: 19.4163\n",
            "Epoch 101/500\n",
            "2/2 [==============================] - 0s 7ms/step - loss: 16.0530 - mae: 16.0530\n",
            "Epoch 102/500\n",
            "2/2 [==============================] - 0s 10ms/step - loss: 11.1733 - mae: 11.1733\n",
            "Epoch 103/500\n",
            "2/2 [==============================] - 0s 13ms/step - loss: 9.3133 - mae: 9.3133\n",
            "Epoch 104/500\n",
            "2/2 [==============================] - 0s 8ms/step - loss: 24.9437 - mae: 24.9437\n",
            "Epoch 105/500\n",
            "2/2 [==============================] - 0s 7ms/step - loss: 11.9706 - mae: 11.9706\n",
            "Epoch 106/500\n",
            "2/2 [==============================] - 0s 6ms/step - loss: 10.0745 - mae: 10.0745\n",
            "Epoch 107/500\n",
            "2/2 [==============================] - 0s 7ms/step - loss: 22.5115 - mae: 22.5115\n",
            "Epoch 108/500\n",
            "2/2 [==============================] - 0s 7ms/step - loss: 8.1201 - mae: 8.1201\n",
            "Epoch 109/500\n",
            "2/2 [==============================] - 0s 6ms/step - loss: 13.3285 - mae: 13.3285\n",
            "Epoch 110/500\n",
            "2/2 [==============================] - 0s 7ms/step - loss: 7.9827 - mae: 7.9827\n",
            "Epoch 111/500\n",
            "2/2 [==============================] - 0s 9ms/step - loss: 15.7537 - mae: 15.7537\n",
            "Epoch 112/500\n",
            "2/2 [==============================] - 0s 8ms/step - loss: 8.7450 - mae: 8.7450\n",
            "Epoch 113/500\n",
            "2/2 [==============================] - 0s 7ms/step - loss: 22.6783 - mae: 22.6783\n",
            "Epoch 114/500\n",
            "2/2 [==============================] - 0s 7ms/step - loss: 19.0269 - mae: 19.0269\n",
            "Epoch 115/500\n",
            "2/2 [==============================] - 0s 7ms/step - loss: 11.0865 - mae: 11.0865\n",
            "Epoch 116/500\n",
            "2/2 [==============================] - 0s 7ms/step - loss: 23.1280 - mae: 23.1280\n",
            "Epoch 117/500\n",
            "2/2 [==============================] - 0s 7ms/step - loss: 9.5711 - mae: 9.5711\n",
            "Epoch 118/500\n",
            "2/2 [==============================] - 0s 7ms/step - loss: 10.6350 - mae: 10.6350\n",
            "Epoch 119/500\n",
            "2/2 [==============================] - 0s 7ms/step - loss: 8.0400 - mae: 8.0400\n",
            "Epoch 120/500\n",
            "2/2 [==============================] - 0s 7ms/step - loss: 29.4442 - mae: 29.4442\n",
            "Epoch 121/500\n",
            "2/2 [==============================] - 0s 7ms/step - loss: 8.0767 - mae: 8.0767\n",
            "Epoch 122/500\n",
            "2/2 [==============================] - 0s 7ms/step - loss: 28.1053 - mae: 28.1053\n",
            "Epoch 123/500\n",
            "2/2 [==============================] - 0s 7ms/step - loss: 32.6494 - mae: 32.6494\n",
            "Epoch 124/500\n",
            "2/2 [==============================] - 0s 7ms/step - loss: 19.4438 - mae: 19.4438\n",
            "Epoch 125/500\n",
            "2/2 [==============================] - 0s 7ms/step - loss: 9.5507 - mae: 9.5507\n",
            "Epoch 126/500\n",
            "2/2 [==============================] - 0s 7ms/step - loss: 9.6196 - mae: 9.6196\n",
            "Epoch 127/500\n",
            "2/2 [==============================] - 0s 7ms/step - loss: 12.7765 - mae: 12.7765\n",
            "Epoch 128/500\n",
            "2/2 [==============================] - 0s 7ms/step - loss: 13.3209 - mae: 13.3209\n",
            "Epoch 129/500\n",
            "2/2 [==============================] - 0s 7ms/step - loss: 10.1799 - mae: 10.1799\n",
            "Epoch 130/500\n",
            "2/2 [==============================] - 0s 7ms/step - loss: 17.4663 - mae: 17.4663\n",
            "Epoch 131/500\n",
            "2/2 [==============================] - 0s 7ms/step - loss: 9.5005 - mae: 9.5005\n",
            "Epoch 132/500\n",
            "2/2 [==============================] - 0s 7ms/step - loss: 17.3615 - mae: 17.3615\n",
            "Epoch 133/500\n",
            "2/2 [==============================] - 0s 7ms/step - loss: 7.0995 - mae: 7.0995\n",
            "Epoch 134/500\n",
            "2/2 [==============================] - 0s 8ms/step - loss: 23.8532 - mae: 23.8532\n",
            "Epoch 135/500\n",
            "2/2 [==============================] - 0s 8ms/step - loss: 16.6267 - mae: 16.6267\n",
            "Epoch 136/500\n",
            "2/2 [==============================] - 0s 7ms/step - loss: 14.8473 - mae: 14.8473\n",
            "Epoch 137/500\n",
            "2/2 [==============================] - 0s 10ms/step - loss: 23.1089 - mae: 23.1089\n",
            "Epoch 138/500\n",
            "2/2 [==============================] - 0s 8ms/step - loss: 9.1190 - mae: 9.1190\n",
            "Epoch 139/500\n",
            "2/2 [==============================] - 0s 7ms/step - loss: 8.9092 - mae: 8.9092\n",
            "Epoch 140/500\n",
            "2/2 [==============================] - 0s 7ms/step - loss: 16.4300 - mae: 16.4300\n",
            "Epoch 141/500\n",
            "2/2 [==============================] - 0s 7ms/step - loss: 8.4245 - mae: 8.4245\n",
            "Epoch 142/500\n",
            "2/2 [==============================] - 0s 7ms/step - loss: 36.8617 - mae: 36.8617\n",
            "Epoch 143/500\n",
            "2/2 [==============================] - 0s 7ms/step - loss: 25.5109 - mae: 25.5109\n",
            "Epoch 144/500\n",
            "2/2 [==============================] - 0s 7ms/step - loss: 9.5471 - mae: 9.5471\n",
            "Epoch 145/500\n",
            "2/2 [==============================] - 0s 8ms/step - loss: 26.6282 - mae: 26.6282\n",
            "Epoch 146/500\n",
            "2/2 [==============================] - 0s 7ms/step - loss: 8.6997 - mae: 8.6997\n",
            "Epoch 147/500\n",
            "2/2 [==============================] - 0s 8ms/step - loss: 15.6402 - mae: 15.6402\n",
            "Epoch 148/500\n",
            "2/2 [==============================] - 0s 7ms/step - loss: 18.3359 - mae: 18.3359\n",
            "Epoch 149/500\n",
            "2/2 [==============================] - 0s 8ms/step - loss: 8.1816 - mae: 8.1816\n",
            "Epoch 150/500\n",
            "2/2 [==============================] - 0s 8ms/step - loss: 7.4936 - mae: 7.4936\n",
            "Epoch 151/500\n",
            "2/2 [==============================] - 0s 8ms/step - loss: 18.2761 - mae: 18.2761\n",
            "Epoch 152/500\n",
            "2/2 [==============================] - 0s 9ms/step - loss: 10.2794 - mae: 10.2794\n",
            "Epoch 153/500\n",
            "2/2 [==============================] - 0s 12ms/step - loss: 29.5438 - mae: 29.5438\n",
            "Epoch 154/500\n",
            "2/2 [==============================] - 0s 11ms/step - loss: 10.5780 - mae: 10.5780\n",
            "Epoch 155/500\n",
            "2/2 [==============================] - 0s 7ms/step - loss: 15.4740 - mae: 15.4740\n",
            "Epoch 156/500\n",
            "2/2 [==============================] - 0s 8ms/step - loss: 17.0599 - mae: 17.0599\n",
            "Epoch 157/500\n",
            "2/2 [==============================] - 0s 7ms/step - loss: 32.7121 - mae: 32.7121\n",
            "Epoch 158/500\n",
            "2/2 [==============================] - 0s 7ms/step - loss: 10.6780 - mae: 10.6780\n",
            "Epoch 159/500\n",
            "2/2 [==============================] - 0s 8ms/step - loss: 8.8964 - mae: 8.8964\n",
            "Epoch 160/500\n",
            "2/2 [==============================] - 0s 8ms/step - loss: 22.0521 - mae: 22.0521\n",
            "Epoch 161/500\n",
            "2/2 [==============================] - 0s 8ms/step - loss: 11.6844 - mae: 11.6844\n",
            "Epoch 162/500\n",
            "2/2 [==============================] - 0s 7ms/step - loss: 21.4980 - mae: 21.4980\n",
            "Epoch 163/500\n",
            "2/2 [==============================] - 0s 7ms/step - loss: 19.1778 - mae: 19.1778\n",
            "Epoch 164/500\n",
            "2/2 [==============================] - 0s 8ms/step - loss: 10.9757 - mae: 10.9757\n",
            "Epoch 165/500\n",
            "2/2 [==============================] - 0s 8ms/step - loss: 9.6346 - mae: 9.6346\n",
            "Epoch 166/500\n",
            "2/2 [==============================] - 0s 7ms/step - loss: 21.6307 - mae: 21.6307\n",
            "Epoch 167/500\n",
            "2/2 [==============================] - 0s 7ms/step - loss: 26.1848 - mae: 26.1848\n",
            "Epoch 168/500\n",
            "2/2 [==============================] - 0s 7ms/step - loss: 9.8398 - mae: 9.8398\n",
            "Epoch 169/500\n",
            "2/2 [==============================] - 0s 7ms/step - loss: 22.4601 - mae: 22.4601\n",
            "Epoch 170/500\n",
            "2/2 [==============================] - 0s 8ms/step - loss: 10.1699 - mae: 10.1699\n",
            "Epoch 171/500\n",
            "2/2 [==============================] - 0s 9ms/step - loss: 18.0918 - mae: 18.0918\n",
            "Epoch 172/500\n",
            "2/2 [==============================] - 0s 10ms/step - loss: 28.7287 - mae: 28.7287\n",
            "Epoch 173/500\n",
            "2/2 [==============================] - 0s 7ms/step - loss: 16.4438 - mae: 16.4438\n",
            "Epoch 174/500\n",
            "2/2 [==============================] - 0s 8ms/step - loss: 11.7294 - mae: 11.7294\n",
            "Epoch 175/500\n",
            "2/2 [==============================] - 0s 11ms/step - loss: 27.1643 - mae: 27.1643\n",
            "Epoch 176/500\n",
            "2/2 [==============================] - 0s 7ms/step - loss: 8.7578 - mae: 8.7578\n",
            "Epoch 177/500\n",
            "2/2 [==============================] - 0s 7ms/step - loss: 8.7724 - mae: 8.7724\n",
            "Epoch 178/500\n",
            "2/2 [==============================] - 0s 7ms/step - loss: 16.2272 - mae: 16.2272\n",
            "Epoch 179/500\n",
            "2/2 [==============================] - 0s 7ms/step - loss: 10.3857 - mae: 10.3857\n",
            "Epoch 180/500\n",
            "2/2 [==============================] - 0s 9ms/step - loss: 7.9913 - mae: 7.9913\n",
            "Epoch 181/500\n",
            "2/2 [==============================] - 0s 7ms/step - loss: 17.8040 - mae: 17.8040\n",
            "Epoch 182/500\n",
            "2/2 [==============================] - 0s 8ms/step - loss: 11.2007 - mae: 11.2007\n",
            "Epoch 183/500\n",
            "2/2 [==============================] - 0s 8ms/step - loss: 12.4174 - mae: 12.4174\n",
            "Epoch 184/500\n",
            "2/2 [==============================] - 0s 8ms/step - loss: 27.4359 - mae: 27.4359\n",
            "Epoch 185/500\n",
            "2/2 [==============================] - 0s 8ms/step - loss: 7.5488 - mae: 7.5488\n",
            "Epoch 186/500\n",
            "2/2 [==============================] - 0s 8ms/step - loss: 15.9212 - mae: 15.9212\n",
            "Epoch 187/500\n",
            "2/2 [==============================] - 0s 8ms/step - loss: 8.5921 - mae: 8.5921\n",
            "Epoch 188/500\n",
            "2/2 [==============================] - 0s 8ms/step - loss: 28.9532 - mae: 28.9532\n",
            "Epoch 189/500\n",
            "2/2 [==============================] - 0s 7ms/step - loss: 13.1279 - mae: 13.1279\n",
            "Epoch 190/500\n",
            "2/2 [==============================] - 0s 7ms/step - loss: 18.2651 - mae: 18.2651\n",
            "Epoch 191/500\n",
            "2/2 [==============================] - 0s 12ms/step - loss: 13.6849 - mae: 13.6849\n",
            "Epoch 192/500\n",
            "2/2 [==============================] - 0s 10ms/step - loss: 13.6939 - mae: 13.6939\n",
            "Epoch 193/500\n",
            "2/2 [==============================] - 0s 7ms/step - loss: 28.5394 - mae: 28.5394\n",
            "Epoch 194/500\n",
            "2/2 [==============================] - 0s 8ms/step - loss: 7.1308 - mae: 7.1308\n",
            "Epoch 195/500\n",
            "2/2 [==============================] - 0s 9ms/step - loss: 7.0615 - mae: 7.0615\n",
            "Epoch 196/500\n",
            "2/2 [==============================] - 0s 7ms/step - loss: 21.9449 - mae: 21.9449\n",
            "Epoch 197/500\n",
            "2/2 [==============================] - 0s 8ms/step - loss: 20.9744 - mae: 20.9744\n",
            "Epoch 198/500\n",
            "2/2 [==============================] - 0s 8ms/step - loss: 12.5503 - mae: 12.5503\n",
            "Epoch 199/500\n",
            "2/2 [==============================] - 0s 8ms/step - loss: 18.0216 - mae: 18.0216\n",
            "Epoch 200/500\n",
            "2/2 [==============================] - 0s 8ms/step - loss: 13.8538 - mae: 13.8538\n",
            "Epoch 201/500\n",
            "2/2 [==============================] - 0s 8ms/step - loss: 6.0412 - mae: 6.0412\n",
            "Epoch 202/500\n",
            "2/2 [==============================] - 0s 8ms/step - loss: 22.8727 - mae: 22.8727\n",
            "Epoch 203/500\n",
            "2/2 [==============================] - 0s 7ms/step - loss: 8.9599 - mae: 8.9599\n",
            "Epoch 204/500\n",
            "2/2 [==============================] - 0s 7ms/step - loss: 18.8461 - mae: 18.8461\n",
            "Epoch 205/500\n",
            "2/2 [==============================] - 0s 8ms/step - loss: 9.3665 - mae: 9.3665\n",
            "Epoch 206/500\n",
            "2/2 [==============================] - 0s 7ms/step - loss: 10.4335 - mae: 10.4335\n",
            "Epoch 207/500\n",
            "2/2 [==============================] - 0s 8ms/step - loss: 21.1216 - mae: 21.1216\n",
            "Epoch 208/500\n",
            "2/2 [==============================] - 0s 8ms/step - loss: 16.4845 - mae: 16.4845\n",
            "Epoch 209/500\n",
            "2/2 [==============================] - 0s 8ms/step - loss: 14.3838 - mae: 14.3838\n",
            "Epoch 210/500\n",
            "2/2 [==============================] - 0s 7ms/step - loss: 19.4000 - mae: 19.4000\n",
            "Epoch 211/500\n",
            "2/2 [==============================] - 0s 7ms/step - loss: 10.3155 - mae: 10.3155\n",
            "Epoch 212/500\n",
            "2/2 [==============================] - 0s 8ms/step - loss: 20.1871 - mae: 20.1871\n",
            "Epoch 213/500\n",
            "2/2 [==============================] - 0s 11ms/step - loss: 15.0621 - mae: 15.0621\n",
            "Epoch 214/500\n",
            "2/2 [==============================] - 0s 10ms/step - loss: 14.6044 - mae: 14.6044\n",
            "Epoch 215/500\n",
            "2/2 [==============================] - 0s 8ms/step - loss: 23.3272 - mae: 23.3272\n",
            "Epoch 216/500\n",
            "2/2 [==============================] - 0s 10ms/step - loss: 13.3246 - mae: 13.3246\n",
            "Epoch 217/500\n",
            "2/2 [==============================] - 0s 7ms/step - loss: 9.8377 - mae: 9.8377\n",
            "Epoch 218/500\n",
            "2/2 [==============================] - 0s 8ms/step - loss: 12.5837 - mae: 12.5837\n",
            "Epoch 219/500\n",
            "2/2 [==============================] - 0s 11ms/step - loss: 4.9653 - mae: 4.9653\n",
            "Epoch 220/500\n",
            "2/2 [==============================] - 0s 8ms/step - loss: 7.1358 - mae: 7.1358\n",
            "Epoch 221/500\n",
            "2/2 [==============================] - 0s 9ms/step - loss: 35.3481 - mae: 35.3481\n",
            "Epoch 222/500\n",
            "2/2 [==============================] - 0s 8ms/step - loss: 34.7276 - mae: 34.7276\n",
            "Epoch 223/500\n",
            "2/2 [==============================] - 0s 10ms/step - loss: 8.0085 - mae: 8.0085\n",
            "Epoch 224/500\n",
            "2/2 [==============================] - 0s 10ms/step - loss: 14.7298 - mae: 14.7298\n",
            "Epoch 225/500\n",
            "2/2 [==============================] - 0s 10ms/step - loss: 16.7549 - mae: 16.7549\n",
            "Epoch 226/500\n",
            "2/2 [==============================] - 0s 9ms/step - loss: 15.9659 - mae: 15.9659\n",
            "Epoch 227/500\n",
            "2/2 [==============================] - 0s 10ms/step - loss: 16.2070 - mae: 16.2070\n",
            "Epoch 228/500\n",
            "2/2 [==============================] - 0s 9ms/step - loss: 9.3511 - mae: 9.3511\n",
            "Epoch 229/500\n",
            "2/2 [==============================] - 0s 9ms/step - loss: 18.0235 - mae: 18.0235\n",
            "Epoch 230/500\n",
            "2/2 [==============================] - 0s 9ms/step - loss: 15.5958 - mae: 15.5958\n",
            "Epoch 231/500\n",
            "2/2 [==============================] - 0s 9ms/step - loss: 21.1593 - mae: 21.1593\n",
            "Epoch 232/500\n",
            "2/2 [==============================] - 0s 8ms/step - loss: 25.3896 - mae: 25.3896\n",
            "Epoch 233/500\n",
            "2/2 [==============================] - 0s 9ms/step - loss: 16.4110 - mae: 16.4110\n",
            "Epoch 234/500\n",
            "2/2 [==============================] - 0s 9ms/step - loss: 7.3103 - mae: 7.3103\n",
            "Epoch 235/500\n",
            "2/2 [==============================] - 0s 12ms/step - loss: 17.0587 - mae: 17.0587\n",
            "Epoch 236/500\n",
            "2/2 [==============================] - 0s 13ms/step - loss: 7.1667 - mae: 7.1667\n",
            "Epoch 237/500\n",
            "2/2 [==============================] - 0s 8ms/step - loss: 9.2593 - mae: 9.2593\n",
            "Epoch 238/500\n",
            "2/2 [==============================] - 0s 12ms/step - loss: 8.1321 - mae: 8.1321\n",
            "Epoch 239/500\n",
            "2/2 [==============================] - 0s 9ms/step - loss: 17.1217 - mae: 17.1217\n",
            "Epoch 240/500\n",
            "2/2 [==============================] - 0s 10ms/step - loss: 8.9043 - mae: 8.9043\n",
            "Epoch 241/500\n",
            "2/2 [==============================] - 0s 12ms/step - loss: 13.2239 - mae: 13.2239\n",
            "Epoch 242/500\n",
            "2/2 [==============================] - 0s 16ms/step - loss: 8.8221 - mae: 8.8221\n",
            "Epoch 243/500\n",
            "2/2 [==============================] - 0s 14ms/step - loss: 18.8792 - mae: 18.8792\n",
            "Epoch 244/500\n",
            "2/2 [==============================] - 0s 12ms/step - loss: 14.0428 - mae: 14.0428\n",
            "Epoch 245/500\n",
            "2/2 [==============================] - 0s 12ms/step - loss: 14.6733 - mae: 14.6733\n",
            "Epoch 246/500\n",
            "2/2 [==============================] - 0s 11ms/step - loss: 15.7995 - mae: 15.7995\n",
            "Epoch 247/500\n",
            "2/2 [==============================] - 0s 12ms/step - loss: 17.6739 - mae: 17.6739\n",
            "Epoch 248/500\n",
            "2/2 [==============================] - 0s 11ms/step - loss: 13.2305 - mae: 13.2305\n",
            "Epoch 249/500\n",
            "2/2 [==============================] - 0s 11ms/step - loss: 14.5067 - mae: 14.5067\n",
            "Epoch 250/500\n",
            "2/2 [==============================] - 0s 11ms/step - loss: 23.2253 - mae: 23.2253\n",
            "Epoch 251/500\n",
            "2/2 [==============================] - 0s 10ms/step - loss: 9.3194 - mae: 9.3194\n",
            "Epoch 252/500\n",
            "2/2 [==============================] - 0s 12ms/step - loss: 36.6832 - mae: 36.6832\n",
            "Epoch 253/500\n",
            "2/2 [==============================] - 0s 13ms/step - loss: 21.8450 - mae: 21.8450\n",
            "Epoch 254/500\n",
            "2/2 [==============================] - 0s 9ms/step - loss: 7.2971 - mae: 7.2971\n",
            "Epoch 255/500\n",
            "2/2 [==============================] - 0s 11ms/step - loss: 24.7287 - mae: 24.7287\n",
            "Epoch 256/500\n",
            "2/2 [==============================] - 0s 10ms/step - loss: 12.4414 - mae: 12.4414\n",
            "Epoch 257/500\n",
            "2/2 [==============================] - 0s 11ms/step - loss: 10.5991 - mae: 10.5991\n",
            "Epoch 258/500\n",
            "2/2 [==============================] - 0s 10ms/step - loss: 14.4925 - mae: 14.4925\n",
            "Epoch 259/500\n",
            "2/2 [==============================] - 0s 11ms/step - loss: 8.6296 - mae: 8.6296\n",
            "Epoch 260/500\n",
            "2/2 [==============================] - 0s 10ms/step - loss: 43.0395 - mae: 43.0395\n",
            "Epoch 261/500\n",
            "2/2 [==============================] - 0s 12ms/step - loss: 18.4617 - mae: 18.4617\n",
            "Epoch 262/500\n",
            "2/2 [==============================] - 0s 16ms/step - loss: 6.8924 - mae: 6.8924\n",
            "Epoch 263/500\n",
            "2/2 [==============================] - 0s 14ms/step - loss: 13.7271 - mae: 13.7271\n",
            "Epoch 264/500\n",
            "2/2 [==============================] - 0s 13ms/step - loss: 21.0251 - mae: 21.0251\n",
            "Epoch 265/500\n",
            "2/2 [==============================] - 0s 12ms/step - loss: 19.3583 - mae: 19.3583\n",
            "Epoch 266/500\n",
            "2/2 [==============================] - 0s 7ms/step - loss: 11.4875 - mae: 11.4875\n",
            "Epoch 267/500\n",
            "2/2 [==============================] - 0s 7ms/step - loss: 7.5429 - mae: 7.5429\n",
            "Epoch 268/500\n",
            "2/2 [==============================] - 0s 7ms/step - loss: 21.6578 - mae: 21.6578\n",
            "Epoch 269/500\n",
            "2/2 [==============================] - 0s 7ms/step - loss: 33.1382 - mae: 33.1382\n",
            "Epoch 270/500\n",
            "2/2 [==============================] - 0s 8ms/step - loss: 9.8263 - mae: 9.8263\n",
            "Epoch 271/500\n",
            "2/2 [==============================] - 0s 7ms/step - loss: 7.7226 - mae: 7.7226\n",
            "Epoch 272/500\n",
            "2/2 [==============================] - 0s 7ms/step - loss: 28.4710 - mae: 28.4710\n",
            "Epoch 273/500\n",
            "2/2 [==============================] - 0s 7ms/step - loss: 7.4413 - mae: 7.4413\n",
            "Epoch 274/500\n",
            "2/2 [==============================] - 0s 7ms/step - loss: 6.3429 - mae: 6.3429\n",
            "Epoch 275/500\n",
            "2/2 [==============================] - 0s 7ms/step - loss: 31.8507 - mae: 31.8507\n",
            "Epoch 276/500\n",
            "2/2 [==============================] - 0s 7ms/step - loss: 4.6801 - mae: 4.6801\n",
            "Epoch 277/500\n",
            "2/2 [==============================] - 0s 7ms/step - loss: 19.7850 - mae: 19.7850\n",
            "Epoch 278/500\n",
            "2/2 [==============================] - 0s 9ms/step - loss: 6.5009 - mae: 6.5009\n",
            "Epoch 279/500\n",
            "2/2 [==============================] - 0s 9ms/step - loss: 18.7152 - mae: 18.7152\n",
            "Epoch 280/500\n",
            "2/2 [==============================] - 0s 7ms/step - loss: 29.3621 - mae: 29.3621\n",
            "Epoch 281/500\n",
            "2/2 [==============================] - 0s 10ms/step - loss: 7.4240 - mae: 7.4240\n",
            "Epoch 282/500\n",
            "2/2 [==============================] - 0s 9ms/step - loss: 14.3271 - mae: 14.3271\n",
            "Epoch 283/500\n",
            "2/2 [==============================] - 0s 7ms/step - loss: 10.4323 - mae: 10.4323\n",
            "Epoch 284/500\n",
            "2/2 [==============================] - 0s 8ms/step - loss: 25.2600 - mae: 25.2600\n",
            "Epoch 285/500\n",
            "2/2 [==============================] - 0s 7ms/step - loss: 16.1170 - mae: 16.1170\n",
            "Epoch 286/500\n",
            "2/2 [==============================] - 0s 10ms/step - loss: 5.2529 - mae: 5.2529\n",
            "Epoch 287/500\n",
            "2/2 [==============================] - 0s 7ms/step - loss: 20.7807 - mae: 20.7807\n",
            "Epoch 288/500\n",
            "2/2 [==============================] - 0s 7ms/step - loss: 27.7643 - mae: 27.7643\n",
            "Epoch 289/500\n",
            "2/2 [==============================] - 0s 11ms/step - loss: 10.9861 - mae: 10.9861\n",
            "Epoch 290/500\n",
            "2/2 [==============================] - 0s 12ms/step - loss: 16.1791 - mae: 16.1791\n",
            "Epoch 291/500\n",
            "2/2 [==============================] - 0s 8ms/step - loss: 16.3438 - mae: 16.3438\n",
            "Epoch 292/500\n",
            "2/2 [==============================] - 0s 7ms/step - loss: 14.6105 - mae: 14.6105\n",
            "Epoch 293/500\n",
            "2/2 [==============================] - 0s 9ms/step - loss: 15.9293 - mae: 15.9293\n",
            "Epoch 294/500\n",
            "2/2 [==============================] - 0s 7ms/step - loss: 24.0587 - mae: 24.0587\n",
            "Epoch 295/500\n",
            "2/2 [==============================] - 0s 13ms/step - loss: 14.7661 - mae: 14.7661\n",
            "Epoch 296/500\n",
            "2/2 [==============================] - 0s 10ms/step - loss: 4.3599 - mae: 4.3599\n",
            "Epoch 297/500\n",
            "2/2 [==============================] - 0s 7ms/step - loss: 11.8668 - mae: 11.8668\n",
            "Epoch 298/500\n",
            "2/2 [==============================] - 0s 10ms/step - loss: 23.7643 - mae: 23.7643\n",
            "Epoch 299/500\n",
            "2/2 [==============================] - 0s 8ms/step - loss: 19.0084 - mae: 19.0084\n",
            "Epoch 300/500\n",
            "2/2 [==============================] - 0s 8ms/step - loss: 8.8100 - mae: 8.8100\n",
            "Epoch 301/500\n",
            "2/2 [==============================] - 0s 7ms/step - loss: 15.8734 - mae: 15.8734\n",
            "Epoch 302/500\n",
            "2/2 [==============================] - 0s 10ms/step - loss: 5.7427 - mae: 5.7427\n",
            "Epoch 303/500\n",
            "2/2 [==============================] - 0s 7ms/step - loss: 22.9895 - mae: 22.9895\n",
            "Epoch 304/500\n",
            "2/2 [==============================] - 0s 7ms/step - loss: 26.0409 - mae: 26.0409\n",
            "Epoch 305/500\n",
            "2/2 [==============================] - 0s 10ms/step - loss: 9.5823 - mae: 9.5823\n",
            "Epoch 306/500\n",
            "2/2 [==============================] - 0s 10ms/step - loss: 17.8034 - mae: 17.8034\n",
            "Epoch 307/500\n",
            "2/2 [==============================] - 0s 7ms/step - loss: 9.7965 - mae: 9.7965\n",
            "Epoch 308/500\n",
            "2/2 [==============================] - 0s 7ms/step - loss: 20.5493 - mae: 20.5493\n",
            "Epoch 309/500\n",
            "2/2 [==============================] - 0s 8ms/step - loss: 13.6604 - mae: 13.6604\n",
            "Epoch 310/500\n",
            "2/2 [==============================] - 0s 8ms/step - loss: 6.6497 - mae: 6.6497\n",
            "Epoch 311/500\n",
            "2/2 [==============================] - 0s 10ms/step - loss: 13.3874 - mae: 13.3874\n",
            "Epoch 312/500\n",
            "2/2 [==============================] - 0s 13ms/step - loss: 30.1882 - mae: 30.1882\n",
            "Epoch 313/500\n",
            "2/2 [==============================] - 0s 8ms/step - loss: 7.2595 - mae: 7.2595\n",
            "Epoch 314/500\n",
            "2/2 [==============================] - 0s 8ms/step - loss: 10.5509 - mae: 10.5509\n",
            "Epoch 315/500\n",
            "2/2 [==============================] - 0s 8ms/step - loss: 23.5556 - mae: 23.5556\n",
            "Epoch 316/500\n",
            "2/2 [==============================] - 0s 11ms/step - loss: 14.4452 - mae: 14.4452\n",
            "Epoch 317/500\n",
            "2/2 [==============================] - 0s 7ms/step - loss: 20.0006 - mae: 20.0006\n",
            "Epoch 318/500\n",
            "2/2 [==============================] - 0s 7ms/step - loss: 8.0091 - mae: 8.0091\n",
            "Epoch 319/500\n",
            "2/2 [==============================] - 0s 11ms/step - loss: 18.1322 - mae: 18.1322\n",
            "Epoch 320/500\n",
            "2/2 [==============================] - 0s 8ms/step - loss: 10.6571 - mae: 10.6571\n",
            "Epoch 321/500\n",
            "2/2 [==============================] - 0s 13ms/step - loss: 7.0379 - mae: 7.0379\n",
            "Epoch 322/500\n",
            "2/2 [==============================] - 0s 10ms/step - loss: 8.6708 - mae: 8.6708\n",
            "Epoch 323/500\n",
            "2/2 [==============================] - 0s 8ms/step - loss: 18.3321 - mae: 18.3321\n",
            "Epoch 324/500\n",
            "2/2 [==============================] - 0s 11ms/step - loss: 6.3135 - mae: 6.3135\n",
            "Epoch 325/500\n",
            "2/2 [==============================] - 0s 7ms/step - loss: 14.6267 - mae: 14.6267\n",
            "Epoch 326/500\n",
            "2/2 [==============================] - 0s 7ms/step - loss: 6.9957 - mae: 6.9957\n",
            "Epoch 327/500\n",
            "2/2 [==============================] - 0s 7ms/step - loss: 17.6413 - mae: 17.6413\n",
            "Epoch 328/500\n",
            "2/2 [==============================] - 0s 6ms/step - loss: 14.3705 - mae: 14.3705\n",
            "Epoch 329/500\n",
            "2/2 [==============================] - 0s 7ms/step - loss: 17.6814 - mae: 17.6814\n",
            "Epoch 330/500\n",
            "2/2 [==============================] - 0s 10ms/step - loss: 6.7859 - mae: 6.7859\n",
            "Epoch 331/500\n",
            "2/2 [==============================] - 0s 9ms/step - loss: 19.7531 - mae: 19.7531\n",
            "Epoch 332/500\n",
            "2/2 [==============================] - 0s 9ms/step - loss: 10.5573 - mae: 10.5573\n",
            "Epoch 333/500\n",
            "2/2 [==============================] - 0s 7ms/step - loss: 16.3513 - mae: 16.3513\n",
            "Epoch 334/500\n",
            "2/2 [==============================] - 0s 8ms/step - loss: 9.7145 - mae: 9.7145\n",
            "Epoch 335/500\n",
            "2/2 [==============================] - 0s 7ms/step - loss: 13.0561 - mae: 13.0561\n",
            "Epoch 336/500\n",
            "2/2 [==============================] - 0s 9ms/step - loss: 32.4913 - mae: 32.4913\n",
            "Epoch 337/500\n",
            "2/2 [==============================] - 0s 11ms/step - loss: 11.0356 - mae: 11.0356\n",
            "Epoch 338/500\n",
            "2/2 [==============================] - 0s 7ms/step - loss: 19.9467 - mae: 19.9467\n",
            "Epoch 339/500\n",
            "2/2 [==============================] - 0s 7ms/step - loss: 34.3362 - mae: 34.3362\n",
            "Epoch 340/500\n",
            "2/2 [==============================] - 0s 7ms/step - loss: 9.2855 - mae: 9.2855\n",
            "Epoch 341/500\n",
            "2/2 [==============================] - 0s 8ms/step - loss: 17.3005 - mae: 17.3005\n",
            "Epoch 342/500\n",
            "2/2 [==============================] - 0s 8ms/step - loss: 14.9123 - mae: 14.9123\n",
            "Epoch 343/500\n",
            "2/2 [==============================] - 0s 7ms/step - loss: 10.3182 - mae: 10.3182\n",
            "Epoch 344/500\n",
            "2/2 [==============================] - 0s 7ms/step - loss: 9.9384 - mae: 9.9384\n",
            "Epoch 345/500\n",
            "2/2 [==============================] - 0s 7ms/step - loss: 30.9005 - mae: 30.9005\n",
            "Epoch 346/500\n",
            "2/2 [==============================] - 0s 7ms/step - loss: 10.6278 - mae: 10.6278\n",
            "Epoch 347/500\n",
            "2/2 [==============================] - 0s 7ms/step - loss: 25.5385 - mae: 25.5385\n",
            "Epoch 348/500\n",
            "2/2 [==============================] - 0s 7ms/step - loss: 13.3494 - mae: 13.3494\n",
            "Epoch 349/500\n",
            "2/2 [==============================] - 0s 7ms/step - loss: 13.0113 - mae: 13.0113\n",
            "Epoch 350/500\n",
            "2/2 [==============================] - 0s 8ms/step - loss: 15.3915 - mae: 15.3915\n",
            "Epoch 351/500\n",
            "2/2 [==============================] - 0s 7ms/step - loss: 32.8614 - mae: 32.8614\n",
            "Epoch 352/500\n",
            "2/2 [==============================] - 0s 7ms/step - loss: 13.9443 - mae: 13.9443\n",
            "Epoch 353/500\n",
            "2/2 [==============================] - 0s 7ms/step - loss: 15.9327 - mae: 15.9327\n",
            "Epoch 354/500\n",
            "2/2 [==============================] - 0s 7ms/step - loss: 19.1129 - mae: 19.1129\n",
            "Epoch 355/500\n",
            "2/2 [==============================] - 0s 7ms/step - loss: 34.0553 - mae: 34.0553\n",
            "Epoch 356/500\n",
            "2/2 [==============================] - 0s 7ms/step - loss: 7.6878 - mae: 7.6878\n",
            "Epoch 357/500\n",
            "2/2 [==============================] - 0s 8ms/step - loss: 25.1692 - mae: 25.1692\n",
            "Epoch 358/500\n",
            "2/2 [==============================] - 0s 7ms/step - loss: 22.6208 - mae: 22.6208\n",
            "Epoch 359/500\n",
            "2/2 [==============================] - 0s 6ms/step - loss: 9.5157 - mae: 9.5157\n",
            "Epoch 360/500\n",
            "2/2 [==============================] - 0s 9ms/step - loss: 20.6730 - mae: 20.6730\n",
            "Epoch 361/500\n",
            "2/2 [==============================] - 0s 7ms/step - loss: 10.0982 - mae: 10.0982\n",
            "Epoch 362/500\n",
            "2/2 [==============================] - 0s 7ms/step - loss: 7.0853 - mae: 7.0853\n",
            "Epoch 363/500\n",
            "2/2 [==============================] - 0s 7ms/step - loss: 25.9832 - mae: 25.9832\n",
            "Epoch 364/500\n",
            "2/2 [==============================] - 0s 7ms/step - loss: 32.4590 - mae: 32.4590\n",
            "Epoch 365/500\n",
            "2/2 [==============================] - 0s 8ms/step - loss: 10.4263 - mae: 10.4263\n",
            "Epoch 366/500\n",
            "2/2 [==============================] - 0s 7ms/step - loss: 11.8540 - mae: 11.8540\n",
            "Epoch 367/500\n",
            "2/2 [==============================] - 0s 7ms/step - loss: 30.1354 - mae: 30.1354\n",
            "Epoch 368/500\n",
            "2/2 [==============================] - 0s 7ms/step - loss: 9.8327 - mae: 9.8327\n",
            "Epoch 369/500\n",
            "2/2 [==============================] - 0s 7ms/step - loss: 15.0348 - mae: 15.0348\n",
            "Epoch 370/500\n",
            "2/2 [==============================] - 0s 8ms/step - loss: 14.6889 - mae: 14.6889\n",
            "Epoch 371/500\n",
            "2/2 [==============================] - 0s 7ms/step - loss: 23.4261 - mae: 23.4261\n",
            "Epoch 372/500\n",
            "2/2 [==============================] - 0s 7ms/step - loss: 13.0042 - mae: 13.0042\n",
            "Epoch 373/500\n",
            "2/2 [==============================] - 0s 7ms/step - loss: 8.9049 - mae: 8.9049\n",
            "Epoch 374/500\n",
            "2/2 [==============================] - 0s 7ms/step - loss: 5.8603 - mae: 5.8603\n",
            "Epoch 375/500\n",
            "2/2 [==============================] - 0s 6ms/step - loss: 14.7770 - mae: 14.7770\n",
            "Epoch 376/500\n",
            "2/2 [==============================] - 0s 7ms/step - loss: 16.5468 - mae: 16.5468\n",
            "Epoch 377/500\n",
            "2/2 [==============================] - 0s 7ms/step - loss: 13.6987 - mae: 13.6987\n",
            "Epoch 378/500\n",
            "2/2 [==============================] - 0s 7ms/step - loss: 15.5077 - mae: 15.5077\n",
            "Epoch 379/500\n",
            "2/2 [==============================] - 0s 7ms/step - loss: 19.0328 - mae: 19.0328\n",
            "Epoch 380/500\n",
            "2/2 [==============================] - 0s 7ms/step - loss: 38.8715 - mae: 38.8715\n",
            "Epoch 381/500\n",
            "2/2 [==============================] - 0s 6ms/step - loss: 11.7097 - mae: 11.7097\n",
            "Epoch 382/500\n",
            "2/2 [==============================] - 0s 7ms/step - loss: 9.6238 - mae: 9.6238\n",
            "Epoch 383/500\n",
            "2/2 [==============================] - 0s 7ms/step - loss: 17.0754 - mae: 17.0754\n",
            "Epoch 384/500\n",
            "2/2 [==============================] - 0s 9ms/step - loss: 9.2624 - mae: 9.2624\n",
            "Epoch 385/500\n",
            "2/2 [==============================] - 0s 10ms/step - loss: 4.2481 - mae: 4.2481\n",
            "Epoch 386/500\n",
            "2/2 [==============================] - 0s 9ms/step - loss: 13.7528 - mae: 13.7528\n",
            "Epoch 387/500\n",
            "2/2 [==============================] - 0s 7ms/step - loss: 17.1898 - mae: 17.1898\n",
            "Epoch 388/500\n",
            "2/2 [==============================] - 0s 6ms/step - loss: 16.9400 - mae: 16.9400\n",
            "Epoch 389/500\n",
            "2/2 [==============================] - 0s 6ms/step - loss: 13.2684 - mae: 13.2684\n",
            "Epoch 390/500\n",
            "2/2 [==============================] - 0s 7ms/step - loss: 18.0476 - mae: 18.0476\n",
            "Epoch 391/500\n",
            "2/2 [==============================] - 0s 6ms/step - loss: 14.0611 - mae: 14.0611\n",
            "Epoch 392/500\n",
            "2/2 [==============================] - 0s 7ms/step - loss: 16.9257 - mae: 16.9257\n",
            "Epoch 393/500\n",
            "2/2 [==============================] - 0s 7ms/step - loss: 9.9875 - mae: 9.9875\n",
            "Epoch 394/500\n",
            "2/2 [==============================] - 0s 9ms/step - loss: 14.1208 - mae: 14.1208\n",
            "Epoch 395/500\n",
            "2/2 [==============================] - 0s 7ms/step - loss: 28.5228 - mae: 28.5228\n",
            "Epoch 396/500\n",
            "2/2 [==============================] - 0s 7ms/step - loss: 8.4238 - mae: 8.4238\n",
            "Epoch 397/500\n",
            "2/2 [==============================] - 0s 9ms/step - loss: 11.1589 - mae: 11.1589\n",
            "Epoch 398/500\n",
            "2/2 [==============================] - 0s 12ms/step - loss: 6.8483 - mae: 6.8483\n",
            "Epoch 399/500\n",
            "2/2 [==============================] - 0s 7ms/step - loss: 13.9976 - mae: 13.9976\n",
            "Epoch 400/500\n",
            "2/2 [==============================] - 0s 8ms/step - loss: 6.6385 - mae: 6.6385\n",
            "Epoch 401/500\n",
            "2/2 [==============================] - 0s 8ms/step - loss: 7.9160 - mae: 7.9160\n",
            "Epoch 402/500\n",
            "2/2 [==============================] - 0s 8ms/step - loss: 16.2668 - mae: 16.2668\n",
            "Epoch 403/500\n",
            "2/2 [==============================] - 0s 6ms/step - loss: 12.3797 - mae: 12.3797\n",
            "Epoch 404/500\n",
            "2/2 [==============================] - 0s 6ms/step - loss: 22.9994 - mae: 22.9994\n",
            "Epoch 405/500\n",
            "2/2 [==============================] - 0s 12ms/step - loss: 17.9516 - mae: 17.9516\n",
            "Epoch 406/500\n",
            "2/2 [==============================] - 0s 8ms/step - loss: 6.9835 - mae: 6.9835\n",
            "Epoch 407/500\n",
            "2/2 [==============================] - 0s 8ms/step - loss: 12.5326 - mae: 12.5326\n",
            "Epoch 408/500\n",
            "2/2 [==============================] - 0s 8ms/step - loss: 5.6347 - mae: 5.6347\n",
            "Epoch 409/500\n",
            "2/2 [==============================] - 0s 10ms/step - loss: 31.0286 - mae: 31.0286\n",
            "Epoch 410/500\n",
            "2/2 [==============================] - 0s 10ms/step - loss: 9.2850 - mae: 9.2850\n",
            "Epoch 411/500\n",
            "2/2 [==============================] - 0s 7ms/step - loss: 14.8971 - mae: 14.8971\n",
            "Epoch 412/500\n",
            "2/2 [==============================] - 0s 8ms/step - loss: 21.7993 - mae: 21.7993\n",
            "Epoch 413/500\n",
            "2/2 [==============================] - 0s 8ms/step - loss: 12.4971 - mae: 12.4971\n",
            "Epoch 414/500\n",
            "2/2 [==============================] - 0s 9ms/step - loss: 6.5621 - mae: 6.5621\n",
            "Epoch 415/500\n",
            "2/2 [==============================] - 0s 11ms/step - loss: 12.6839 - mae: 12.6839\n",
            "Epoch 416/500\n",
            "2/2 [==============================] - 0s 10ms/step - loss: 26.9011 - mae: 26.9011\n",
            "Epoch 417/500\n",
            "2/2 [==============================] - 0s 10ms/step - loss: 12.1477 - mae: 12.1477\n",
            "Epoch 418/500\n",
            "2/2 [==============================] - 0s 7ms/step - loss: 13.0291 - mae: 13.0291\n",
            "Epoch 419/500\n",
            "2/2 [==============================] - 0s 8ms/step - loss: 16.0018 - mae: 16.0018\n",
            "Epoch 420/500\n",
            "2/2 [==============================] - 0s 8ms/step - loss: 25.0212 - mae: 25.0212\n",
            "Epoch 421/500\n",
            "2/2 [==============================] - 0s 9ms/step - loss: 16.7119 - mae: 16.7119\n",
            "Epoch 422/500\n",
            "2/2 [==============================] - 0s 8ms/step - loss: 8.6512 - mae: 8.6512\n",
            "Epoch 423/500\n",
            "2/2 [==============================] - 0s 7ms/step - loss: 24.7374 - mae: 24.7374\n",
            "Epoch 424/500\n",
            "2/2 [==============================] - 0s 8ms/step - loss: 16.6561 - mae: 16.6561\n",
            "Epoch 425/500\n",
            "2/2 [==============================] - 0s 7ms/step - loss: 7.2444 - mae: 7.2444\n",
            "Epoch 426/500\n",
            "2/2 [==============================] - 0s 7ms/step - loss: 20.8181 - mae: 20.8181\n",
            "Epoch 427/500\n",
            "2/2 [==============================] - 0s 7ms/step - loss: 6.4251 - mae: 6.4251\n",
            "Epoch 428/500\n",
            "2/2 [==============================] - 0s 7ms/step - loss: 13.3415 - mae: 13.3415\n",
            "Epoch 429/500\n",
            "2/2 [==============================] - 0s 7ms/step - loss: 11.0840 - mae: 11.0840\n",
            "Epoch 430/500\n",
            "2/2 [==============================] - 0s 7ms/step - loss: 11.9752 - mae: 11.9752\n",
            "Epoch 431/500\n",
            "2/2 [==============================] - 0s 7ms/step - loss: 8.5480 - mae: 8.5480\n",
            "Epoch 432/500\n",
            "2/2 [==============================] - 0s 7ms/step - loss: 18.7477 - mae: 18.7477\n",
            "Epoch 433/500\n",
            "2/2 [==============================] - 0s 7ms/step - loss: 10.1139 - mae: 10.1139\n",
            "Epoch 434/500\n",
            "2/2 [==============================] - 0s 7ms/step - loss: 30.6214 - mae: 30.6214\n",
            "Epoch 435/500\n",
            "2/2 [==============================] - 0s 7ms/step - loss: 11.1362 - mae: 11.1362\n",
            "Epoch 436/500\n",
            "2/2 [==============================] - 0s 7ms/step - loss: 28.7104 - mae: 28.7104\n",
            "Epoch 437/500\n",
            "2/2 [==============================] - 0s 8ms/step - loss: 7.5011 - mae: 7.5011\n",
            "Epoch 438/500\n",
            "2/2 [==============================] - 0s 7ms/step - loss: 13.1297 - mae: 13.1297\n",
            "Epoch 439/500\n",
            "2/2 [==============================] - 0s 7ms/step - loss: 34.0922 - mae: 34.0922\n",
            "Epoch 440/500\n",
            "2/2 [==============================] - 0s 8ms/step - loss: 15.6919 - mae: 15.6919\n",
            "Epoch 441/500\n",
            "2/2 [==============================] - 0s 7ms/step - loss: 18.2449 - mae: 18.2449\n",
            "Epoch 442/500\n",
            "2/2 [==============================] - 0s 8ms/step - loss: 27.2715 - mae: 27.2715\n",
            "Epoch 443/500\n",
            "2/2 [==============================] - 0s 11ms/step - loss: 10.3862 - mae: 10.3862\n",
            "Epoch 444/500\n",
            "2/2 [==============================] - 0s 12ms/step - loss: 6.2497 - mae: 6.2497\n",
            "Epoch 445/500\n",
            "2/2 [==============================] - 0s 12ms/step - loss: 7.8528 - mae: 7.8528\n",
            "Epoch 446/500\n",
            "2/2 [==============================] - 0s 13ms/step - loss: 15.9468 - mae: 15.9468\n",
            "Epoch 447/500\n",
            "2/2 [==============================] - 0s 11ms/step - loss: 9.2303 - mae: 9.2303\n",
            "Epoch 448/500\n",
            "2/2 [==============================] - 0s 13ms/step - loss: 3.2463 - mae: 3.2463\n",
            "Epoch 449/500\n",
            "2/2 [==============================] - 0s 13ms/step - loss: 14.3234 - mae: 14.3234\n",
            "Epoch 450/500\n",
            "2/2 [==============================] - 0s 9ms/step - loss: 17.0674 - mae: 17.0674\n",
            "Epoch 451/500\n",
            "2/2 [==============================] - 0s 10ms/step - loss: 14.4037 - mae: 14.4037\n",
            "Epoch 452/500\n",
            "2/2 [==============================] - 0s 10ms/step - loss: 30.9025 - mae: 30.9025\n",
            "Epoch 453/500\n",
            "2/2 [==============================] - 0s 10ms/step - loss: 9.0991 - mae: 9.0991\n",
            "Epoch 454/500\n",
            "2/2 [==============================] - 0s 11ms/step - loss: 27.2093 - mae: 27.2093\n",
            "Epoch 455/500\n",
            "2/2 [==============================] - 0s 10ms/step - loss: 11.3785 - mae: 11.3785\n",
            "Epoch 456/500\n",
            "2/2 [==============================] - 0s 11ms/step - loss: 15.6394 - mae: 15.6394\n",
            "Epoch 457/500\n",
            "2/2 [==============================] - 0s 10ms/step - loss: 19.2934 - mae: 19.2934\n",
            "Epoch 458/500\n",
            "2/2 [==============================] - 0s 9ms/step - loss: 23.0002 - mae: 23.0002\n",
            "Epoch 459/500\n",
            "2/2 [==============================] - 0s 11ms/step - loss: 16.4473 - mae: 16.4473\n",
            "Epoch 460/500\n",
            "2/2 [==============================] - 0s 13ms/step - loss: 7.4308 - mae: 7.4308\n",
            "Epoch 461/500\n",
            "2/2 [==============================] - 0s 11ms/step - loss: 15.6880 - mae: 15.6880\n",
            "Epoch 462/500\n",
            "2/2 [==============================] - 0s 14ms/step - loss: 15.1840 - mae: 15.1840\n",
            "Epoch 463/500\n",
            "2/2 [==============================] - 0s 14ms/step - loss: 16.8250 - mae: 16.8250\n",
            "Epoch 464/500\n",
            "2/2 [==============================] - 0s 10ms/step - loss: 11.2334 - mae: 11.2334\n",
            "Epoch 465/500\n",
            "2/2 [==============================] - 0s 10ms/step - loss: 21.5640 - mae: 21.5640\n",
            "Epoch 466/500\n",
            "2/2 [==============================] - 0s 11ms/step - loss: 24.9589 - mae: 24.9589\n",
            "Epoch 467/500\n",
            "2/2 [==============================] - 0s 12ms/step - loss: 14.7980 - mae: 14.7980\n",
            "Epoch 468/500\n",
            "2/2 [==============================] - 0s 11ms/step - loss: 10.3707 - mae: 10.3707\n",
            "Epoch 469/500\n",
            "2/2 [==============================] - 0s 10ms/step - loss: 27.3829 - mae: 27.3829\n",
            "Epoch 470/500\n",
            "2/2 [==============================] - 0s 9ms/step - loss: 12.3930 - mae: 12.3930\n",
            "Epoch 471/500\n",
            "2/2 [==============================] - 0s 10ms/step - loss: 12.0320 - mae: 12.0320\n",
            "Epoch 472/500\n",
            "2/2 [==============================] - 0s 14ms/step - loss: 15.5221 - mae: 15.5221\n",
            "Epoch 473/500\n",
            "2/2 [==============================] - 0s 12ms/step - loss: 15.5402 - mae: 15.5402\n",
            "Epoch 474/500\n",
            "2/2 [==============================] - 0s 9ms/step - loss: 20.1887 - mae: 20.1887\n",
            "Epoch 475/500\n",
            "2/2 [==============================] - 0s 13ms/step - loss: 5.0633 - mae: 5.0633\n",
            "Epoch 476/500\n",
            "2/2 [==============================] - 0s 15ms/step - loss: 13.3498 - mae: 13.3498\n",
            "Epoch 477/500\n",
            "2/2 [==============================] - 0s 10ms/step - loss: 29.5879 - mae: 29.5879\n",
            "Epoch 478/500\n",
            "2/2 [==============================] - 0s 11ms/step - loss: 3.2393 - mae: 3.2393\n",
            "Epoch 479/500\n",
            "2/2 [==============================] - 0s 13ms/step - loss: 16.4333 - mae: 16.4333\n",
            "Epoch 480/500\n",
            "2/2 [==============================] - 0s 12ms/step - loss: 3.3382 - mae: 3.3382\n",
            "Epoch 481/500\n",
            "2/2 [==============================] - 0s 9ms/step - loss: 15.8135 - mae: 15.8135\n",
            "Epoch 482/500\n",
            "2/2 [==============================] - 0s 10ms/step - loss: 21.2803 - mae: 21.2803\n",
            "Epoch 483/500\n",
            "2/2 [==============================] - 0s 11ms/step - loss: 25.6457 - mae: 25.6457\n",
            "Epoch 484/500\n",
            "2/2 [==============================] - 0s 11ms/step - loss: 24.2374 - mae: 24.2374\n",
            "Epoch 485/500\n",
            "2/2 [==============================] - 0s 14ms/step - loss: 5.7721 - mae: 5.7721\n",
            "Epoch 486/500\n",
            "2/2 [==============================] - 0s 13ms/step - loss: 20.3026 - mae: 20.3026\n",
            "Epoch 487/500\n",
            "2/2 [==============================] - 0s 14ms/step - loss: 14.0090 - mae: 14.0090\n",
            "Epoch 488/500\n",
            "2/2 [==============================] - 0s 12ms/step - loss: 30.5544 - mae: 30.5544\n",
            "Epoch 489/500\n",
            "2/2 [==============================] - 0s 11ms/step - loss: 11.8308 - mae: 11.8308\n",
            "Epoch 490/500\n",
            "2/2 [==============================] - 0s 11ms/step - loss: 12.4938 - mae: 12.4938\n",
            "Epoch 491/500\n",
            "2/2 [==============================] - 0s 13ms/step - loss: 23.7301 - mae: 23.7301\n",
            "Epoch 492/500\n",
            "2/2 [==============================] - 0s 14ms/step - loss: 20.2581 - mae: 20.2581\n",
            "Epoch 493/500\n",
            "2/2 [==============================] - 0s 12ms/step - loss: 4.8934 - mae: 4.8934\n",
            "Epoch 494/500\n",
            "2/2 [==============================] - 0s 9ms/step - loss: 12.5598 - mae: 12.5598\n",
            "Epoch 495/500\n",
            "2/2 [==============================] - 0s 9ms/step - loss: 13.4607 - mae: 13.4607\n",
            "Epoch 496/500\n",
            "2/2 [==============================] - 0s 9ms/step - loss: 12.7295 - mae: 12.7295\n",
            "Epoch 497/500\n",
            "2/2 [==============================] - 0s 10ms/step - loss: 17.7157 - mae: 17.7157\n",
            "Epoch 498/500\n",
            "2/2 [==============================] - 0s 13ms/step - loss: 23.3286 - mae: 23.3286\n",
            "Epoch 499/500\n",
            "2/2 [==============================] - 0s 13ms/step - loss: 9.0809 - mae: 9.0809\n",
            "Epoch 500/500\n",
            "2/2 [==============================] - 0s 10ms/step - loss: 14.3721 - mae: 14.3721\n"
          ]
        },
        {
          "output_type": "execute_result",
          "data": {
            "text/plain": [
              "<keras.src.callbacks.History at 0x7e39d8503e20>"
            ]
          },
          "metadata": {},
          "execution_count": 60
        }
      ]
    },
    {
      "cell_type": "code",
      "source": [
        "y_pred_3 = model_3.predict(X_test)\n",
        "plot_predictions(predictions=y_pred_3)"
      ],
      "metadata": {
        "colab": {
          "base_uri": "https://localhost:8080/",
          "height": 616
        },
        "id": "R2bSCWQRArmX",
        "outputId": "55f02722-7d51-4dab-a84d-1154d0bcad63"
      },
      "execution_count": 61,
      "outputs": [
        {
          "output_type": "stream",
          "name": "stdout",
          "text": [
            "1/1 [==============================] - 0s 145ms/step\n"
          ]
        },
        {
          "output_type": "display_data",
          "data": {
            "text/plain": [
              "<Figure size 1000x700 with 1 Axes>"
            ],
            "image/png": "[encoded data removed]"
          },
          "metadata": {}
        }
      ]
    },
    {
      "cell_type": "code",
      "source": [
        "mae_3 = MAE(y_test, y_pred_3)\n",
        "mse_3 = MSE(y_test, y_pred_3)"
      ],
      "metadata": {
        "id": "Ut6KMo9LA9La"
      },
      "execution_count": 62,
      "outputs": []
    },
    {
      "cell_type": "markdown",
      "source": [
        "## COmpanring the results of experiments"
      ],
      "metadata": {
        "id": "hWr0XFe6Bf9S"
      }
    },
    {
      "cell_type": "code",
      "source": [
        "import pandas as pd\n",
        "\n",
        "model_list = [['model_1', mae_1.numpy(), mse_1.numpy()],\n",
        "              ['model_2', mae_2.numpy(), mse_2.numpy()],\n",
        "              ['model_3', mae_3.numpy(), mse_3.numpy()]]"
      ],
      "metadata": {
        "id": "iUkcPFkPdkN6"
      },
      "execution_count": 63,
      "outputs": []
    },
    {
      "cell_type": "code",
      "source": [
        "pd.DataFrame(model_list, columns=['model_name', 'mae', 'mse'])"
      ],
      "metadata": {
        "colab": {
          "base_uri": "https://localhost:8080/",
          "height": 143
        },
        "id": "ihKg3VWnegxz",
        "outputId": "958b1c99-67b7-42f7-dd88-85ba00b4736d"
      },
      "execution_count": 64,
      "outputs": [
        {
          "output_type": "execute_result",
          "data": {
            "text/plain": [
              "  model_name        mae          mse\n",
              "0    model_1  14.926847   223.652832\n",
              "1    model_2  10.277840   113.073059\n",
              "2    model_3  67.858864  4689.199219"
            ],
            "text/html": [
              "\n",
              "  <div id=\"df-5e3fe8fd-d184-4f0c-8f52-ea948eb48c85\" class=\"colab-df-container\">\n",
              "    <div>\n",
              "<style scoped>\n",
              "    .dataframe tbody tr th:only-of-type {\n",
              "        vertical-align: middle;\n",
              "    }\n",
              "\n",
              "    .dataframe tbody tr th {\n",
              "        vertical-align: top;\n",
              "    }\n",
              "\n",
              "    .dataframe thead th {\n",
              "        text-align: right;\n",
              "    }\n",
              "</style>\n",
              "<table border=\"1\" class=\"dataframe\">\n",
              "  <thead>\n",
              "    <tr style=\"text-align: right;\">\n",
              "      <th></th>\n",
              "      <th>model_name</th>\n",
              "      <th>mae</th>\n",
              "      <th>mse</th>\n",
              "    </tr>\n",
              "  </thead>\n",
              "  <tbody>\n",
              "    <tr>\n",
              "      <th>0</th>\n",
              "      <td>model_1</td>\n",
              "      <td>14.926847</td>\n",
              "      <td>223.652832</td>\n",
              "    </tr>\n",
              "    <tr>\n",
              "      <th>1</th>\n",
              "      <td>model_2</td>\n",
              "      <td>10.277840</td>\n",
              "      <td>113.073059</td>\n",
              "    </tr>\n",
              "    <tr>\n",
              "      <th>2</th>\n",
              "      <td>model_3</td>\n",
              "      <td>67.858864</td>\n",
              "      <td>4689.199219</td>\n",
              "    </tr>\n",
              "  </tbody>\n",
              "</table>\n",
              "</div>\n",
              "    <div class=\"colab-df-buttons\">\n",
              "\n",
              "  <div class=\"colab-df-container\">\n",
              "    <button class=\"colab-df-convert\" onclick=\"convertToInteractive('df-5e3fe8fd-d184-4f0c-8f52-ea948eb48c85')\"\n",
              "            title=\"Convert this dataframe to an interactive table.\"\n",
              "            style=\"display:none;\">\n",
              "\n",
              "  <svg xmlns=\"http://www.w3.org/2000/svg\" height=\"24px\" viewBox=\"0 -960 960 960\">\n",
              "    <path d=\"M120-120v-720h720v720H120Zm60-500h600v-160H180v160Zm220 220h160v-160H400v160Zm0 220h160v-160H400v160ZM180-400h160v-160H180v160Zm440 0h160v-160H620v160ZM180-180h160v-160H180v160Zm440 0h160v-160H620v160Z\"/>\n",
              "  </svg>\n",
              "    </button>\n",
              "\n",
              "  <style>\n",
              "    .colab-df-container {\n",
              "      display:flex;\n",
              "      gap: 12px;\n",
              "    }\n",
              "\n",
              "    .colab-df-convert {\n",
              "      background-color: #E8F0FE;\n",
              "      border: none;\n",
              "      border-radius: 50%;\n",
              "      cursor: pointer;\n",
              "      display: none;\n",
              "      fill: #1967D2;\n",
              "      height: 32px;\n",
              "      padding: 0 0 0 0;\n",
              "      width: 32px;\n",
              "    }\n",
              "\n",
              "    .colab-df-convert:hover {\n",
              "      background-color: #E2EBFA;\n",
              "      box-shadow: 0px 1px 2px rgba(60, 64, 67, 0.3), 0px 1px 3px 1px rgba(60, 64, 67, 0.15);\n",
              "      fill: #174EA6;\n",
              "    }\n",
              "\n",
              "    .colab-df-buttons div {\n",
              "      margin-bottom: 4px;\n",
              "    }\n",
              "\n",
              "    [theme=dark] .colab-df-convert {\n",
              "      background-color: #3B4455;\n",
              "      fill: #D2E3FC;\n",
              "    }\n",
              "\n",
              "    [theme=dark] .colab-df-convert:hover {\n",
              "      background-color: #434B5C;\n",
              "      box-shadow: 0px 1px 3px 1px rgba(0, 0, 0, 0.15);\n",
              "      filter: drop-shadow(0px 1px 2px rgba(0, 0, 0, 0.3));\n",
              "      fill: #FFFFFF;\n",
              "    }\n",
              "  </style>\n",
              "\n",
              "    <script>\n",
              "      const buttonEl =\n",
              "        document.querySelector('#df-5e3fe8fd-d184-4f0c-8f52-ea948eb48c85 button.colab-df-convert');\n",
              "      buttonEl.style.display =\n",
              "        google.colab.kernel.accessAllowed ? 'block' : 'none';\n",
              "\n",
              "      async function convertToInteractive(key) {\n",
              "        const element = document.querySelector('#df-5e3fe8fd-d184-4f0c-8f52-ea948eb48c85');\n",
              "        const dataTable =\n",
              "          await google.colab.kernel.invokeFunction('convertToInteractive',\n",
              "                                                    [key], {});\n",
              "        if (!dataTable) return;\n",
              "\n",
              "        const docLinkHtml = 'Like what you see? Visit the ' +\n",
              "          '<a target=\"_blank\" href=https://colab.research.google.com/notebooks/data_table.ipynb>data table notebook</a>'\n",
              "          + ' to learn more about interactive tables.';\n",
              "        element.innerHTML = '';\n",
              "        dataTable['output_type'] = 'display_data';\n",
              "        await google.colab.output.renderOutput(dataTable, element);\n",
              "        const docLink = document.createElement('div');\n",
              "        docLink.innerHTML = docLinkHtml;\n",
              "        element.appendChild(docLink);\n",
              "      }\n",
              "    </script>\n",
              "  </div>\n",
              "\n",
              "\n",
              "<div id=\"df-cbe7a1a9-c05f-4e0c-b2f6-30d4414bf8d4\">\n",
              "  <button class=\"colab-df-quickchart\" onclick=\"quickchart('df-cbe7a1a9-c05f-4e0c-b2f6-30d4414bf8d4')\"\n",
              "            title=\"Suggest charts\"\n",
              "            style=\"display:none;\">\n",
              "\n",
              "<svg xmlns=\"http://www.w3.org/2000/svg\" height=\"24px\"viewBox=\"0 0 24 24\"\n",
              "     width=\"24px\">\n",
              "    <g>\n",
              "        <path d=\"M19 3H5c-1.1 0-2 .9-2 2v14c0 1.1.9 2 2 2h14c1.1 0 2-.9 2-2V5c0-1.1-.9-2-2-2zM9 17H7v-7h2v7zm4 0h-2V7h2v10zm4 0h-2v-4h2v4z\"/>\n",
              "    </g>\n",
              "</svg>\n",
              "  </button>\n",
              "\n",
              "<style>\n",
              "  .colab-df-quickchart {\n",
              "      --bg-color: #E8F0FE;\n",
              "      --fill-color: #1967D2;\n",
              "      --hover-bg-color: #E2EBFA;\n",
              "      --hover-fill-color: #174EA6;\n",
              "      --disabled-fill-color: #AAA;\n",
              "      --disabled-bg-color: #DDD;\n",
              "  }\n",
              "\n",
              "  [theme=dark] .colab-df-quickchart {\n",
              "      --bg-color: #3B4455;\n",
              "      --fill-color: #D2E3FC;\n",
              "      --hover-bg-color: #434B5C;\n",
              "      --hover-fill-color: #FFFFFF;\n",
              "      --disabled-bg-color: #3B4455;\n",
              "      --disabled-fill-color: #666;\n",
              "  }\n",
              "\n",
              "  .colab-df-quickchart {\n",
              "    background-color: var(--bg-color);\n",
              "    border: none;\n",
              "    border-radius: 50%;\n",
              "    cursor: pointer;\n",
              "    display: none;\n",
              "    fill: var(--fill-color);\n",
              "    height: 32px;\n",
              "    padding: 0;\n",
              "    width: 32px;\n",
              "  }\n",
              "\n",
              "  .colab-df-quickchart:hover {\n",
              "    background-color: var(--hover-bg-color);\n",
              "    box-shadow: 0 1px 2px rgba(60, 64, 67, 0.3), 0 1px 3px 1px rgba(60, 64, 67, 0.15);\n",
              "    fill: var(--button-hover-fill-color);\n",
              "  }\n",
              "\n",
              "  .colab-df-quickchart-complete:disabled,\n",
              "  .colab-df-quickchart-complete:disabled:hover {\n",
              "    background-color: var(--disabled-bg-color);\n",
              "    fill: var(--disabled-fill-color);\n",
              "    box-shadow: none;\n",
              "  }\n",
              "\n",
              "  .colab-df-spinner {\n",
              "    border: 2px solid var(--fill-color);\n",
              "    border-color: transparent;\n",
              "    border-bottom-color: var(--fill-color);\n",
              "    animation:\n",
              "      spin 1s steps(1) infinite;\n",
              "  }\n",
              "\n",
              "  @keyframes spin {\n",
              "    0% {\n",
              "      border-color: transparent;\n",
              "      border-bottom-color: var(--fill-color);\n",
              "      border-left-color: var(--fill-color);\n",
              "    }\n",
              "    20% {\n",
              "      border-color: transparent;\n",
              "      border-left-color: var(--fill-color);\n",
              "      border-top-color: var(--fill-color);\n",
              "    }\n",
              "    30% {\n",
              "      border-color: transparent;\n",
              "      border-left-color: var(--fill-color);\n",
              "      border-top-color: var(--fill-color);\n",
              "      border-right-color: var(--fill-color);\n",
              "    }\n",
              "    40% {\n",
              "      border-color: transparent;\n",
              "      border-right-color: var(--fill-color);\n",
              "      border-top-color: var(--fill-color);\n",
              "    }\n",
              "    60% {\n",
              "      border-color: transparent;\n",
              "      border-right-color: var(--fill-color);\n",
              "    }\n",
              "    80% {\n",
              "      border-color: transparent;\n",
              "      border-right-color: var(--fill-color);\n",
              "      border-bottom-color: var(--fill-color);\n",
              "    }\n",
              "    90% {\n",
              "      border-color: transparent;\n",
              "      border-bottom-color: var(--fill-color);\n",
              "    }\n",
              "  }\n",
              "</style>\n",
              "\n",
              "  <script>\n",
              "    async function quickchart(key) {\n",
              "      const quickchartButtonEl =\n",
              "        document.querySelector('#' + key + ' button');\n",
              "      quickchartButtonEl.disabled = true;  // To prevent multiple clicks.\n",
              "      quickchartButtonEl.classList.add('colab-df-spinner');\n",
              "      try {\n",
              "        const charts = await google.colab.kernel.invokeFunction(\n",
              "            'suggestCharts', [key], {});\n",
              "      } catch (error) {\n",
              "        console.error('Error during call to suggestCharts:', error);\n",
              "      }\n",
              "      quickchartButtonEl.classList.remove('colab-df-spinner');\n",
              "      quickchartButtonEl.classList.add('colab-df-quickchart-complete');\n",
              "    }\n",
              "    (() => {\n",
              "      let quickchartButtonEl =\n",
              "        document.querySelector('#df-cbe7a1a9-c05f-4e0c-b2f6-30d4414bf8d4 button');\n",
              "      quickchartButtonEl.style.display =\n",
              "        google.colab.kernel.accessAllowed ? 'block' : 'none';\n",
              "    })();\n",
              "  </script>\n",
              "</div>\n",
              "    </div>\n",
              "  </div>\n"
            ]
          },
          "metadata": {},
          "execution_count": 64
        }
      ]
    },
    {
      "cell_type": "code",
      "source": [
        "model_2.summary()"
      ],
      "metadata": {
        "colab": {
          "base_uri": "https://localhost:8080/"
        },
        "id": "9d58096meqj3",
        "outputId": "2df20b5e-ff68-4899-b6eb-a75cd5fd1291"
      },
      "execution_count": 65,
      "outputs": [
        {
          "output_type": "stream",
          "name": "stdout",
          "text": [
            "Model: \"sequential_9\"\n",
            "_________________________________________________________________\n",
            " Layer (type)                Output Shape              Param #   \n",
            "=================================================================\n",
            " dense_18 (Dense)            (None, 10)                20        \n",
            "                                                                 \n",
            " dense_19 (Dense)            (None, 1)                 11        \n",
            "                                                                 \n",
            "=================================================================\n",
            "Total params: 31 (124.00 Byte)\n",
            "Trainable params: 31 (124.00 Byte)\n",
            "Non-trainable params: 0 (0.00 Byte)\n",
            "_________________________________________________________________\n"
          ]
        }
      ]
    },
    {
      "cell_type": "markdown",
      "source": [
        "## Tracking our experiments\n",
        "\n",
        "One really good habit in machine Learning modelling is to track the result of your experiments.\n",
        "\n",
        "**Resources:** As you build more models. you'll want to look into using.\n",
        "* Tensorboarrd\n",
        "* Weights and Biases"
      ],
      "metadata": {
        "id": "Hp5Mwj9ke0RE"
      }
    },
    {
      "cell_type": "markdown",
      "source": [
        "## Save our model\n",
        "\n",
        "There are two formats we can save our model's too:\n",
        "\n",
        "1. The SavedModel format\n",
        "2. The HDF5 format"
      ],
      "metadata": {
        "id": "w8UYxRH7fmkN"
      }
    },
    {
      "cell_type": "code",
      "source": [
        "model_2.save(\"Best_model_SavedModel_format\")"
      ],
      "metadata": {
        "id": "u8X1nNO7rLlX"
      },
      "execution_count": 66,
      "outputs": []
    },
    {
      "cell_type": "code",
      "source": [
        "model_2.save(\"Best_model_HDF5_format.h5\")"
      ],
      "metadata": {
        "colab": {
          "base_uri": "https://localhost:8080/"
        },
        "id": "83RkUb7xruyo",
        "outputId": "e265c50b-3bcc-457d-ad35-e824c0a34273"
      },
      "execution_count": 67,
      "outputs": [
        {
          "output_type": "stream",
          "name": "stderr",
          "text": [
            "/usr/local/lib/python3.10/dist-packages/keras/src/engine/training.py:3103: UserWarning: You are saving your model as an HDF5 file via `model.save()`. This file format is considered legacy. We recommend using instead the native Keras format, e.g. `model.save('my_model.keras')`.\n",
            "  saving_api.save_model(\n"
          ]
        }
      ]
    },
    {
      "cell_type": "code",
      "source": [
        "# Load model\n",
        "loaded_SavedModel_format = tf.keras.models.load_model('/content/Best_model_SavedModel_format')\n",
        "loaded_SavedModel_format.summary()"
      ],
      "metadata": {
        "colab": {
          "base_uri": "https://localhost:8080/"
        },
        "id": "gTRTSyERsY0d",
        "outputId": "933cade8-40eb-4320-cb7d-e0f2bbe9348e"
      },
      "execution_count": 68,
      "outputs": [
        {
          "output_type": "stream",
          "name": "stdout",
          "text": [
            "Model: \"sequential_9\"\n",
            "_________________________________________________________________\n",
            " Layer (type)                Output Shape              Param #   \n",
            "=================================================================\n",
            " dense_18 (Dense)            (None, 10)                20        \n",
            "                                                                 \n",
            " dense_19 (Dense)            (None, 1)                 11        \n",
            "                                                                 \n",
            "=================================================================\n",
            "Total params: 31 (124.00 Byte)\n",
            "Trainable params: 31 (124.00 Byte)\n",
            "Non-trainable params: 0 (0.00 Byte)\n",
            "_________________________________________________________________\n"
          ]
        }
      ]
    },
    {
      "cell_type": "code",
      "source": [
        "model_2.summary()"
      ],
      "metadata": {
        "colab": {
          "base_uri": "https://localhost:8080/"
        },
        "id": "5o0JdLuDtwG9",
        "outputId": "a1785163-65be-4f6b-b35f-a047227661ba"
      },
      "execution_count": 69,
      "outputs": [
        {
          "output_type": "stream",
          "name": "stdout",
          "text": [
            "Model: \"sequential_9\"\n",
            "_________________________________________________________________\n",
            " Layer (type)                Output Shape              Param #   \n",
            "=================================================================\n",
            " dense_18 (Dense)            (None, 10)                20        \n",
            "                                                                 \n",
            " dense_19 (Dense)            (None, 1)                 11        \n",
            "                                                                 \n",
            "=================================================================\n",
            "Total params: 31 (124.00 Byte)\n",
            "Trainable params: 31 (124.00 Byte)\n",
            "Non-trainable params: 0 (0.00 Byte)\n",
            "_________________________________________________________________\n"
          ]
        }
      ]
    },
    {
      "cell_type": "code",
      "source": [
        "# Comparing predictions\n",
        "model_2_pred = model_2.predict(X_test)\n",
        "loaded_SavedModel_format_pred = loaded_SavedModel_format.predict(X_test)\n",
        "model_2_pred == loaded_SavedModel_format_pred"
      ],
      "metadata": {
        "colab": {
          "base_uri": "https://localhost:8080/"
        },
        "id": "ldOZdd2Itzsm",
        "outputId": "97d73c0b-eb7f-4f2a-bae8-e9cfc067c6ea"
      },
      "execution_count": 70,
      "outputs": [
        {
          "output_type": "stream",
          "name": "stdout",
          "text": [
            "1/1 [==============================] - 0s 75ms/step\n",
            "1/1 [==============================] - 0s 102ms/step\n"
          ]
        },
        {
          "output_type": "execute_result",
          "data": {
            "text/plain": [
              "array([[ True],\n",
              "       [ True],\n",
              "       [ True],\n",
              "       [ True],\n",
              "       [ True],\n",
              "       [ True],\n",
              "       [ True],\n",
              "       [ True],\n",
              "       [ True],\n",
              "       [ True]])"
            ]
          },
          "metadata": {},
          "execution_count": 70
        }
      ]
    },
    {
      "cell_type": "code",
      "source": [
        "model_2_pred, loaded_SavedModel_format_pred"
      ],
      "metadata": {
        "colab": {
          "base_uri": "https://localhost:8080/"
        },
        "id": "VSnNkZOcuSI1",
        "outputId": "3a3830d2-c184-4b7f-c2d9-07a57917c261"
      },
      "execution_count": 71,
      "outputs": [
        {
          "output_type": "execute_result",
          "data": {
            "text/plain": [
              "(array([[ 76.00472 ],\n",
              "        [ 80.9543  ],\n",
              "        [ 85.903885],\n",
              "        [ 90.85347 ],\n",
              "        [ 95.803055],\n",
              "        [100.75263 ],\n",
              "        [105.70221 ],\n",
              "        [110.651794],\n",
              "        [115.60138 ],\n",
              "        [120.55095 ]], dtype=float32),\n",
              " array([[ 76.00472 ],\n",
              "        [ 80.9543  ],\n",
              "        [ 85.903885],\n",
              "        [ 90.85347 ],\n",
              "        [ 95.803055],\n",
              "        [100.75263 ],\n",
              "        [105.70221 ],\n",
              "        [110.651794],\n",
              "        [115.60138 ],\n",
              "        [120.55095 ]], dtype=float32))"
            ]
          },
          "metadata": {},
          "execution_count": 71
        }
      ]
    },
    {
      "cell_type": "code",
      "source": [
        "loaded_h5_model = tf.keras.models.load_model('/content/Best_model_HDF5_format.h5')\n",
        "loaded_h5_model.summary()"
      ],
      "metadata": {
        "colab": {
          "base_uri": "https://localhost:8080/"
        },
        "id": "DCdiVM7junHF",
        "outputId": "9e0335ba-a6af-4b0c-8f80-a12d87f733ad"
      },
      "execution_count": 72,
      "outputs": [
        {
          "output_type": "stream",
          "name": "stdout",
          "text": [
            "Model: \"sequential_9\"\n",
            "_________________________________________________________________\n",
            " Layer (type)                Output Shape              Param #   \n",
            "=================================================================\n",
            " dense_18 (Dense)            (None, 10)                20        \n",
            "                                                                 \n",
            " dense_19 (Dense)            (None, 1)                 11        \n",
            "                                                                 \n",
            "=================================================================\n",
            "Total params: 31 (124.00 Byte)\n",
            "Trainable params: 31 (124.00 Byte)\n",
            "Non-trainable params: 0 (0.00 Byte)\n",
            "_________________________________________________________________\n"
          ]
        }
      ]
    },
    {
      "cell_type": "code",
      "source": [
        "loaded_h5_model_pred = loaded_h5_model.predict(X_test)\n",
        "model_2_pred == loaded_h5_model_pred"
      ],
      "metadata": {
        "colab": {
          "base_uri": "https://localhost:8080/"
        },
        "id": "jGPEqeFdvNqy",
        "outputId": "b75a1637-63e1-45bd-f1ba-49c9284ac7c5"
      },
      "execution_count": 73,
      "outputs": [
        {
          "output_type": "stream",
          "name": "stdout",
          "text": [
            "1/1 [==============================] - 0s 74ms/step\n"
          ]
        },
        {
          "output_type": "execute_result",
          "data": {
            "text/plain": [
              "array([[ True],\n",
              "       [ True],\n",
              "       [ True],\n",
              "       [ True],\n",
              "       [ True],\n",
              "       [ True],\n",
              "       [ True],\n",
              "       [ True],\n",
              "       [ True],\n",
              "       [ True]])"
            ]
          },
          "metadata": {},
          "execution_count": 73
        }
      ]
    },
    {
      "cell_type": "markdown",
      "source": [
        "# A larger Example"
      ],
      "metadata": {
        "id": "AN_9ejPsvd2V"
      }
    },
    {
      "cell_type": "code",
      "source": [
        "import pandas as pd"
      ],
      "metadata": {
        "id": "GVlvoMnNCXez"
      },
      "execution_count": 74,
      "outputs": []
    },
    {
      "cell_type": "code",
      "source": [
        "insurance = pd.read_csv(\"https://raw.githubusercontent.com/stedy/Machine-Learning-with-R-datasets/master/insurance.csv\")\n",
        "insurance"
      ],
      "metadata": {
        "colab": {
          "base_uri": "https://localhost:8080/",
          "height": 424
        },
        "id": "XCE9mLg6EsXx",
        "outputId": "d3119617-86b3-424a-e7f3-520146388b92"
      },
      "execution_count": 75,
      "outputs": [
        {
          "output_type": "execute_result",
          "data": {
            "text/plain": [
              "      age     sex     bmi  children smoker     region      charges\n",
              "0      19  female  27.900         0    yes  southwest  16884.92400\n",
              "1      18    male  33.770         1     no  southeast   1725.55230\n",
              "2      28    male  33.000         3     no  southeast   4449.46200\n",
              "3      33    male  22.705         0     no  northwest  21984.47061\n",
              "4      32    male  28.880         0     no  northwest   3866.85520\n",
              "...   ...     ...     ...       ...    ...        ...          ...\n",
              "1333   50    male  30.970         3     no  northwest  10600.54830\n",
              "1334   18  female  31.920         0     no  northeast   2205.98080\n",
              "1335   18  female  36.850         0     no  southeast   1629.83350\n",
              "1336   21  female  25.800         0     no  southwest   2007.94500\n",
              "1337   61  female  29.070         0    yes  northwest  29141.36030\n",
              "\n",
              "[1338 rows x 7 columns]"
            ],
            "text/html": [
              "\n",
              "  <div id=\"df-3ed68310-a387-4d43-802a-3e9122e86395\" class=\"colab-df-container\">\n",
              "    <div>\n",
              "<style scoped>\n",
              "    .dataframe tbody tr th:only-of-type {\n",
              "        vertical-align: middle;\n",
              "    }\n",
              "\n",
              "    .dataframe tbody tr th {\n",
              "        vertical-align: top;\n",
              "    }\n",
              "\n",
              "    .dataframe thead th {\n",
              "        text-align: right;\n",
              "    }\n",
              "</style>\n",
              "<table border=\"1\" class=\"dataframe\">\n",
              "  <thead>\n",
              "    <tr style=\"text-align: right;\">\n",
              "      <th></th>\n",
              "      <th>age</th>\n",
              "      <th>sex</th>\n",
              "      <th>bmi</th>\n",
              "      <th>children</th>\n",
              "      <th>smoker</th>\n",
              "      <th>region</th>\n",
              "      <th>charges</th>\n",
              "    </tr>\n",
              "  </thead>\n",
              "  <tbody>\n",
              "    <tr>\n",
              "      <th>0</th>\n",
              "      <td>19</td>\n",
              "      <td>female</td>\n",
              "      <td>27.900</td>\n",
              "      <td>0</td>\n",
              "      <td>yes</td>\n",
              "      <td>southwest</td>\n",
              "      <td>16884.92400</td>\n",
              "    </tr>\n",
              "    <tr>\n",
              "      <th>1</th>\n",
              "      <td>18</td>\n",
              "      <td>male</td>\n",
              "      <td>33.770</td>\n",
              "      <td>1</td>\n",
              "      <td>no</td>\n",
              "      <td>southeast</td>\n",
              "      <td>1725.55230</td>\n",
              "    </tr>\n",
              "    <tr>\n",
              "      <th>2</th>\n",
              "      <td>28</td>\n",
              "      <td>male</td>\n",
              "      <td>33.000</td>\n",
              "      <td>3</td>\n",
              "      <td>no</td>\n",
              "      <td>southeast</td>\n",
              "      <td>4449.46200</td>\n",
              "    </tr>\n",
              "    <tr>\n",
              "      <th>3</th>\n",
              "      <td>33</td>\n",
              "      <td>male</td>\n",
              "      <td>22.705</td>\n",
              "      <td>0</td>\n",
              "      <td>no</td>\n",
              "      <td>northwest</td>\n",
              "      <td>21984.47061</td>\n",
              "    </tr>\n",
              "    <tr>\n",
              "      <th>4</th>\n",
              "      <td>32</td>\n",
              "      <td>male</td>\n",
              "      <td>28.880</td>\n",
              "      <td>0</td>\n",
              "      <td>no</td>\n",
              "      <td>northwest</td>\n",
              "      <td>3866.85520</td>\n",
              "    </tr>\n",
              "    <tr>\n",
              "      <th>...</th>\n",
              "      <td>...</td>\n",
              "      <td>...</td>\n",
              "      <td>...</td>\n",
              "      <td>...</td>\n",
              "      <td>...</td>\n",
              "      <td>...</td>\n",
              "      <td>...</td>\n",
              "    </tr>\n",
              "    <tr>\n",
              "      <th>1333</th>\n",
              "      <td>50</td>\n",
              "      <td>male</td>\n",
              "      <td>30.970</td>\n",
              "      <td>3</td>\n",
              "      <td>no</td>\n",
              "      <td>northwest</td>\n",
              "      <td>10600.54830</td>\n",
              "    </tr>\n",
              "    <tr>\n",
              "      <th>1334</th>\n",
              "      <td>18</td>\n",
              "      <td>female</td>\n",
              "      <td>31.920</td>\n",
              "      <td>0</td>\n",
              "      <td>no</td>\n",
              "      <td>northeast</td>\n",
              "      <td>2205.98080</td>\n",
              "    </tr>\n",
              "    <tr>\n",
              "      <th>1335</th>\n",
              "      <td>18</td>\n",
              "      <td>female</td>\n",
              "      <td>36.850</td>\n",
              "      <td>0</td>\n",
              "      <td>no</td>\n",
              "      <td>southeast</td>\n",
              "      <td>1629.83350</td>\n",
              "    </tr>\n",
              "    <tr>\n",
              "      <th>1336</th>\n",
              "      <td>21</td>\n",
              "      <td>female</td>\n",
              "      <td>25.800</td>\n",
              "      <td>0</td>\n",
              "      <td>no</td>\n",
              "      <td>southwest</td>\n",
              "      <td>2007.94500</td>\n",
              "    </tr>\n",
              "    <tr>\n",
              "      <th>1337</th>\n",
              "      <td>61</td>\n",
              "      <td>female</td>\n",
              "      <td>29.070</td>\n",
              "      <td>0</td>\n",
              "      <td>yes</td>\n",
              "      <td>northwest</td>\n",
              "      <td>29141.36030</td>\n",
              "    </tr>\n",
              "  </tbody>\n",
              "</table>\n",
              "<p>1338 rows × 7 columns</p>\n",
              "</div>\n",
              "    <div class=\"colab-df-buttons\">\n",
              "\n",
              "  <div class=\"colab-df-container\">\n",
              "    <button class=\"colab-df-convert\" onclick=\"convertToInteractive('df-3ed68310-a387-4d43-802a-3e9122e86395')\"\n",
              "            title=\"Convert this dataframe to an interactive table.\"\n",
              "            style=\"display:none;\">\n",
              "\n",
              "  <svg xmlns=\"http://www.w3.org/2000/svg\" height=\"24px\" viewBox=\"0 -960 960 960\">\n",
              "    <path d=\"M120-120v-720h720v720H120Zm60-500h600v-160H180v160Zm220 220h160v-160H400v160Zm0 220h160v-160H400v160ZM180-400h160v-160H180v160Zm440 0h160v-160H620v160ZM180-180h160v-160H180v160Zm440 0h160v-160H620v160Z\"/>\n",
              "  </svg>\n",
              "    </button>\n",
              "\n",
              "  <style>\n",
              "    .colab-df-container {\n",
              "      display:flex;\n",
              "      gap: 12px;\n",
              "    }\n",
              "\n",
              "    .colab-df-convert {\n",
              "      background-color: #E8F0FE;\n",
              "      border: none;\n",
              "      border-radius: 50%;\n",
              "      cursor: pointer;\n",
              "      display: none;\n",
              "      fill: #1967D2;\n",
              "      height: 32px;\n",
              "      padding: 0 0 0 0;\n",
              "      width: 32px;\n",
              "    }\n",
              "\n",
              "    .colab-df-convert:hover {\n",
              "      background-color: #E2EBFA;\n",
              "      box-shadow: 0px 1px 2px rgba(60, 64, 67, 0.3), 0px 1px 3px 1px rgba(60, 64, 67, 0.15);\n",
              "      fill: #174EA6;\n",
              "    }\n",
              "\n",
              "    .colab-df-buttons div {\n",
              "      margin-bottom: 4px;\n",
              "    }\n",
              "\n",
              "    [theme=dark] .colab-df-convert {\n",
              "      background-color: #3B4455;\n",
              "      fill: #D2E3FC;\n",
              "    }\n",
              "\n",
              "    [theme=dark] .colab-df-convert:hover {\n",
              "      background-color: #434B5C;\n",
              "      box-shadow: 0px 1px 3px 1px rgba(0, 0, 0, 0.15);\n",
              "      filter: drop-shadow(0px 1px 2px rgba(0, 0, 0, 0.3));\n",
              "      fill: #FFFFFF;\n",
              "    }\n",
              "  </style>\n",
              "\n",
              "    <script>\n",
              "      const buttonEl =\n",
              "        document.querySelector('#df-3ed68310-a387-4d43-802a-3e9122e86395 button.colab-df-convert');\n",
              "      buttonEl.style.display =\n",
              "        google.colab.kernel.accessAllowed ? 'block' : 'none';\n",
              "\n",
              "      async function convertToInteractive(key) {\n",
              "        const element = document.querySelector('#df-3ed68310-a387-4d43-802a-3e9122e86395');\n",
              "        const dataTable =\n",
              "          await google.colab.kernel.invokeFunction('convertToInteractive',\n",
              "                                                    [key], {});\n",
              "        if (!dataTable) return;\n",
              "\n",
              "        const docLinkHtml = 'Like what you see? Visit the ' +\n",
              "          '<a target=\"_blank\" href=https://colab.research.google.com/notebooks/data_table.ipynb>data table notebook</a>'\n",
              "          + ' to learn more about interactive tables.';\n",
              "        element.innerHTML = '';\n",
              "        dataTable['output_type'] = 'display_data';\n",
              "        await google.colab.output.renderOutput(dataTable, element);\n",
              "        const docLink = document.createElement('div');\n",
              "        docLink.innerHTML = docLinkHtml;\n",
              "        element.appendChild(docLink);\n",
              "      }\n",
              "    </script>\n",
              "  </div>\n",
              "\n",
              "\n",
              "<div id=\"df-1a89f069-8605-499e-b72d-a90d331d32ef\">\n",
              "  <button class=\"colab-df-quickchart\" onclick=\"quickchart('df-1a89f069-8605-499e-b72d-a90d331d32ef')\"\n",
              "            title=\"Suggest charts\"\n",
              "            style=\"display:none;\">\n",
              "\n",
              "<svg xmlns=\"http://www.w3.org/2000/svg\" height=\"24px\"viewBox=\"0 0 24 24\"\n",
              "     width=\"24px\">\n",
              "    <g>\n",
              "        <path d=\"M19 3H5c-1.1 0-2 .9-2 2v14c0 1.1.9 2 2 2h14c1.1 0 2-.9 2-2V5c0-1.1-.9-2-2-2zM9 17H7v-7h2v7zm4 0h-2V7h2v10zm4 0h-2v-4h2v4z\"/>\n",
              "    </g>\n",
              "</svg>\n",
              "  </button>\n",
              "\n",
              "<style>\n",
              "  .colab-df-quickchart {\n",
              "      --bg-color: #E8F0FE;\n",
              "      --fill-color: #1967D2;\n",
              "      --hover-bg-color: #E2EBFA;\n",
              "      --hover-fill-color: #174EA6;\n",
              "      --disabled-fill-color: #AAA;\n",
              "      --disabled-bg-color: #DDD;\n",
              "  }\n",
              "\n",
              "  [theme=dark] .colab-df-quickchart {\n",
              "      --bg-color: #3B4455;\n",
              "      --fill-color: #D2E3FC;\n",
              "      --hover-bg-color: #434B5C;\n",
              "      --hover-fill-color: #FFFFFF;\n",
              "      --disabled-bg-color: #3B4455;\n",
              "      --disabled-fill-color: #666;\n",
              "  }\n",
              "\n",
              "  .colab-df-quickchart {\n",
              "    background-color: var(--bg-color);\n",
              "    border: none;\n",
              "    border-radius: 50%;\n",
              "    cursor: pointer;\n",
              "    display: none;\n",
              "    fill: var(--fill-color);\n",
              "    height: 32px;\n",
              "    padding: 0;\n",
              "    width: 32px;\n",
              "  }\n",
              "\n",
              "  .colab-df-quickchart:hover {\n",
              "    background-color: var(--hover-bg-color);\n",
              "    box-shadow: 0 1px 2px rgba(60, 64, 67, 0.3), 0 1px 3px 1px rgba(60, 64, 67, 0.15);\n",
              "    fill: var(--button-hover-fill-color);\n",
              "  }\n",
              "\n",
              "  .colab-df-quickchart-complete:disabled,\n",
              "  .colab-df-quickchart-complete:disabled:hover {\n",
              "    background-color: var(--disabled-bg-color);\n",
              "    fill: var(--disabled-fill-color);\n",
              "    box-shadow: none;\n",
              "  }\n",
              "\n",
              "  .colab-df-spinner {\n",
              "    border: 2px solid var(--fill-color);\n",
              "    border-color: transparent;\n",
              "    border-bottom-color: var(--fill-color);\n",
              "    animation:\n",
              "      spin 1s steps(1) infinite;\n",
              "  }\n",
              "\n",
              "  @keyframes spin {\n",
              "    0% {\n",
              "      border-color: transparent;\n",
              "      border-bottom-color: var(--fill-color);\n",
              "      border-left-color: var(--fill-color);\n",
              "    }\n",
              "    20% {\n",
              "      border-color: transparent;\n",
              "      border-left-color: var(--fill-color);\n",
              "      border-top-color: var(--fill-color);\n",
              "    }\n",
              "    30% {\n",
              "      border-color: transparent;\n",
              "      border-left-color: var(--fill-color);\n",
              "      border-top-color: var(--fill-color);\n",
              "      border-right-color: var(--fill-color);\n",
              "    }\n",
              "    40% {\n",
              "      border-color: transparent;\n",
              "      border-right-color: var(--fill-color);\n",
              "      border-top-color: var(--fill-color);\n",
              "    }\n",
              "    60% {\n",
              "      border-color: transparent;\n",
              "      border-right-color: var(--fill-color);\n",
              "    }\n",
              "    80% {\n",
              "      border-color: transparent;\n",
              "      border-right-color: var(--fill-color);\n",
              "      border-bottom-color: var(--fill-color);\n",
              "    }\n",
              "    90% {\n",
              "      border-color: transparent;\n",
              "      border-bottom-color: var(--fill-color);\n",
              "    }\n",
              "  }\n",
              "</style>\n",
              "\n",
              "  <script>\n",
              "    async function quickchart(key) {\n",
              "      const quickchartButtonEl =\n",
              "        document.querySelector('#' + key + ' button');\n",
              "      quickchartButtonEl.disabled = true;  // To prevent multiple clicks.\n",
              "      quickchartButtonEl.classList.add('colab-df-spinner');\n",
              "      try {\n",
              "        const charts = await google.colab.kernel.invokeFunction(\n",
              "            'suggestCharts', [key], {});\n",
              "      } catch (error) {\n",
              "        console.error('Error during call to suggestCharts:', error);\n",
              "      }\n",
              "      quickchartButtonEl.classList.remove('colab-df-spinner');\n",
              "      quickchartButtonEl.classList.add('colab-df-quickchart-complete');\n",
              "    }\n",
              "    (() => {\n",
              "      let quickchartButtonEl =\n",
              "        document.querySelector('#df-1a89f069-8605-499e-b72d-a90d331d32ef button');\n",
              "      quickchartButtonEl.style.display =\n",
              "        google.colab.kernel.accessAllowed ? 'block' : 'none';\n",
              "    })();\n",
              "  </script>\n",
              "</div>\n",
              "    </div>\n",
              "  </div>\n"
            ]
          },
          "metadata": {},
          "execution_count": 75
        }
      ]
    },
    {
      "cell_type": "code",
      "source": [
        "insurance_one_hot = pd.get_dummies(insurance)\n",
        "insurance_one_hot"
      ],
      "metadata": {
        "colab": {
          "base_uri": "https://localhost:8080/",
          "height": 424
        },
        "id": "mieUIJ7HEyWv",
        "outputId": "7e20f04e-777a-44a9-e74b-cf3686deb47e"
      },
      "execution_count": 78,
      "outputs": [
        {
          "output_type": "execute_result",
          "data": {
            "text/plain": [
              "      age     bmi  children      charges  sex_female  sex_male  smoker_no  \\\n",
              "0      19  27.900         0  16884.92400           1         0          0   \n",
              "1      18  33.770         1   1725.55230           0         1          1   \n",
              "2      28  33.000         3   4449.46200           0         1          1   \n",
              "3      33  22.705         0  21984.47061           0         1          1   \n",
              "4      32  28.880         0   3866.85520           0         1          1   \n",
              "...   ...     ...       ...          ...         ...       ...        ...   \n",
              "1333   50  30.970         3  10600.54830           0         1          1   \n",
              "1334   18  31.920         0   2205.98080           1         0          1   \n",
              "1335   18  36.850         0   1629.83350           1         0          1   \n",
              "1336   21  25.800         0   2007.94500           1         0          1   \n",
              "1337   61  29.070         0  29141.36030           1         0          0   \n",
              "\n",
              "      smoker_yes  region_northeast  region_northwest  region_southeast  \\\n",
              "0              1                 0                 0                 0   \n",
              "1              0                 0                 0                 1   \n",
              "2              0                 0                 0                 1   \n",
              "3              0                 0                 1                 0   \n",
              "4              0                 0                 1                 0   \n",
              "...          ...               ...               ...               ...   \n",
              "1333           0                 0                 1                 0   \n",
              "1334           0                 1                 0                 0   \n",
              "1335           0                 0                 0                 1   \n",
              "1336           0                 0                 0                 0   \n",
              "1337           1                 0                 1                 0   \n",
              "\n",
              "      region_southwest  \n",
              "0                    1  \n",
              "1                    0  \n",
              "2                    0  \n",
              "3                    0  \n",
              "4                    0  \n",
              "...                ...  \n",
              "1333                 0  \n",
              "1334                 0  \n",
              "1335                 0  \n",
              "1336                 1  \n",
              "1337                 0  \n",
              "\n",
              "[1338 rows x 12 columns]"
            ],
            "text/html": [
              "\n",
              "  <div id=\"df-98600c77-7516-48ff-86b5-580925364670\" class=\"colab-df-container\">\n",
              "    <div>\n",
              "<style scoped>\n",
              "    .dataframe tbody tr th:only-of-type {\n",
              "        vertical-align: middle;\n",
              "    }\n",
              "\n",
              "    .dataframe tbody tr th {\n",
              "        vertical-align: top;\n",
              "    }\n",
              "\n",
              "    .dataframe thead th {\n",
              "        text-align: right;\n",
              "    }\n",
              "</style>\n",
              "<table border=\"1\" class=\"dataframe\">\n",
              "  <thead>\n",
              "    <tr style=\"text-align: right;\">\n",
              "      <th></th>\n",
              "      <th>age</th>\n",
              "      <th>bmi</th>\n",
              "      <th>children</th>\n",
              "      <th>charges</th>\n",
              "      <th>sex_female</th>\n",
              "      <th>sex_male</th>\n",
              "      <th>smoker_no</th>\n",
              "      <th>smoker_yes</th>\n",
              "      <th>region_northeast</th>\n",
              "      <th>region_northwest</th>\n",
              "      <th>region_southeast</th>\n",
              "      <th>region_southwest</th>\n",
              "    </tr>\n",
              "  </thead>\n",
              "  <tbody>\n",
              "    <tr>\n",
              "      <th>0</th>\n",
              "      <td>19</td>\n",
              "      <td>27.900</td>\n",
              "      <td>0</td>\n",
              "      <td>16884.92400</td>\n",
              "      <td>1</td>\n",
              "      <td>0</td>\n",
              "      <td>0</td>\n",
              "      <td>1</td>\n",
              "      <td>0</td>\n",
              "      <td>0</td>\n",
              "      <td>0</td>\n",
              "      <td>1</td>\n",
              "    </tr>\n",
              "    <tr>\n",
              "      <th>1</th>\n",
              "      <td>18</td>\n",
              "      <td>33.770</td>\n",
              "      <td>1</td>\n",
              "      <td>1725.55230</td>\n",
              "      <td>0</td>\n",
              "      <td>1</td>\n",
              "      <td>1</td>\n",
              "      <td>0</td>\n",
              "      <td>0</td>\n",
              "      <td>0</td>\n",
              "      <td>1</td>\n",
              "      <td>0</td>\n",
              "    </tr>\n",
              "    <tr>\n",
              "      <th>2</th>\n",
              "      <td>28</td>\n",
              "      <td>33.000</td>\n",
              "      <td>3</td>\n",
              "      <td>4449.46200</td>\n",
              "      <td>0</td>\n",
              "      <td>1</td>\n",
              "      <td>1</td>\n",
              "      <td>0</td>\n",
              "      <td>0</td>\n",
              "      <td>0</td>\n",
              "      <td>1</td>\n",
              "      <td>0</td>\n",
              "    </tr>\n",
              "    <tr>\n",
              "      <th>3</th>\n",
              "      <td>33</td>\n",
              "      <td>22.705</td>\n",
              "      <td>0</td>\n",
              "      <td>21984.47061</td>\n",
              "      <td>0</td>\n",
              "      <td>1</td>\n",
              "      <td>1</td>\n",
              "      <td>0</td>\n",
              "      <td>0</td>\n",
              "      <td>1</td>\n",
              "      <td>0</td>\n",
              "      <td>0</td>\n",
              "    </tr>\n",
              "    <tr>\n",
              "      <th>4</th>\n",
              "      <td>32</td>\n",
              "      <td>28.880</td>\n",
              "      <td>0</td>\n",
              "      <td>3866.85520</td>\n",
              "      <td>0</td>\n",
              "      <td>1</td>\n",
              "      <td>1</td>\n",
              "      <td>0</td>\n",
              "      <td>0</td>\n",
              "      <td>1</td>\n",
              "      <td>0</td>\n",
              "      <td>0</td>\n",
              "    </tr>\n",
              "    <tr>\n",
              "      <th>...</th>\n",
              "      <td>...</td>\n",
              "      <td>...</td>\n",
              "      <td>...</td>\n",
              "      <td>...</td>\n",
              "      <td>...</td>\n",
              "      <td>...</td>\n",
              "      <td>...</td>\n",
              "      <td>...</td>\n",
              "      <td>...</td>\n",
              "      <td>...</td>\n",
              "      <td>...</td>\n",
              "      <td>...</td>\n",
              "    </tr>\n",
              "    <tr>\n",
              "      <th>1333</th>\n",
              "      <td>50</td>\n",
              "      <td>30.970</td>\n",
              "      <td>3</td>\n",
              "      <td>10600.54830</td>\n",
              "      <td>0</td>\n",
              "      <td>1</td>\n",
              "      <td>1</td>\n",
              "      <td>0</td>\n",
              "      <td>0</td>\n",
              "      <td>1</td>\n",
              "      <td>0</td>\n",
              "      <td>0</td>\n",
              "    </tr>\n",
              "    <tr>\n",
              "      <th>1334</th>\n",
              "      <td>18</td>\n",
              "      <td>31.920</td>\n",
              "      <td>0</td>\n",
              "      <td>2205.98080</td>\n",
              "      <td>1</td>\n",
              "      <td>0</td>\n",
              "      <td>1</td>\n",
              "      <td>0</td>\n",
              "      <td>1</td>\n",
              "      <td>0</td>\n",
              "      <td>0</td>\n",
              "      <td>0</td>\n",
              "    </tr>\n",
              "    <tr>\n",
              "      <th>1335</th>\n",
              "      <td>18</td>\n",
              "      <td>36.850</td>\n",
              "      <td>0</td>\n",
              "      <td>1629.83350</td>\n",
              "      <td>1</td>\n",
              "      <td>0</td>\n",
              "      <td>1</td>\n",
              "      <td>0</td>\n",
              "      <td>0</td>\n",
              "      <td>0</td>\n",
              "      <td>1</td>\n",
              "      <td>0</td>\n",
              "    </tr>\n",
              "    <tr>\n",
              "      <th>1336</th>\n",
              "      <td>21</td>\n",
              "      <td>25.800</td>\n",
              "      <td>0</td>\n",
              "      <td>2007.94500</td>\n",
              "      <td>1</td>\n",
              "      <td>0</td>\n",
              "      <td>1</td>\n",
              "      <td>0</td>\n",
              "      <td>0</td>\n",
              "      <td>0</td>\n",
              "      <td>0</td>\n",
              "      <td>1</td>\n",
              "    </tr>\n",
              "    <tr>\n",
              "      <th>1337</th>\n",
              "      <td>61</td>\n",
              "      <td>29.070</td>\n",
              "      <td>0</td>\n",
              "      <td>29141.36030</td>\n",
              "      <td>1</td>\n",
              "      <td>0</td>\n",
              "      <td>0</td>\n",
              "      <td>1</td>\n",
              "      <td>0</td>\n",
              "      <td>1</td>\n",
              "      <td>0</td>\n",
              "      <td>0</td>\n",
              "    </tr>\n",
              "  </tbody>\n",
              "</table>\n",
              "<p>1338 rows × 12 columns</p>\n",
              "</div>\n",
              "    <div class=\"colab-df-buttons\">\n",
              "\n",
              "  <div class=\"colab-df-container\">\n",
              "    <button class=\"colab-df-convert\" onclick=\"convertToInteractive('df-98600c77-7516-48ff-86b5-580925364670')\"\n",
              "            title=\"Convert this dataframe to an interactive table.\"\n",
              "            style=\"display:none;\">\n",
              "\n",
              "  <svg xmlns=\"http://www.w3.org/2000/svg\" height=\"24px\" viewBox=\"0 -960 960 960\">\n",
              "    <path d=\"M120-120v-720h720v720H120Zm60-500h600v-160H180v160Zm220 220h160v-160H400v160Zm0 220h160v-160H400v160ZM180-400h160v-160H180v160Zm440 0h160v-160H620v160ZM180-180h160v-160H180v160Zm440 0h160v-160H620v160Z\"/>\n",
              "  </svg>\n",
              "    </button>\n",
              "\n",
              "  <style>\n",
              "    .colab-df-container {\n",
              "      display:flex;\n",
              "      gap: 12px;\n",
              "    }\n",
              "\n",
              "    .colab-df-convert {\n",
              "      background-color: #E8F0FE;\n",
              "      border: none;\n",
              "      border-radius: 50%;\n",
              "      cursor: pointer;\n",
              "      display: none;\n",
              "      fill: #1967D2;\n",
              "      height: 32px;\n",
              "      padding: 0 0 0 0;\n",
              "      width: 32px;\n",
              "    }\n",
              "\n",
              "    .colab-df-convert:hover {\n",
              "      background-color: #E2EBFA;\n",
              "      box-shadow: 0px 1px 2px rgba(60, 64, 67, 0.3), 0px 1px 3px 1px rgba(60, 64, 67, 0.15);\n",
              "      fill: #174EA6;\n",
              "    }\n",
              "\n",
              "    .colab-df-buttons div {\n",
              "      margin-bottom: 4px;\n",
              "    }\n",
              "\n",
              "    [theme=dark] .colab-df-convert {\n",
              "      background-color: #3B4455;\n",
              "      fill: #D2E3FC;\n",
              "    }\n",
              "\n",
              "    [theme=dark] .colab-df-convert:hover {\n",
              "      background-color: #434B5C;\n",
              "      box-shadow: 0px 1px 3px 1px rgba(0, 0, 0, 0.15);\n",
              "      filter: drop-shadow(0px 1px 2px rgba(0, 0, 0, 0.3));\n",
              "      fill: #FFFFFF;\n",
              "    }\n",
              "  </style>\n",
              "\n",
              "    <script>\n",
              "      const buttonEl =\n",
              "        document.querySelector('#df-98600c77-7516-48ff-86b5-580925364670 button.colab-df-convert');\n",
              "      buttonEl.style.display =\n",
              "        google.colab.kernel.accessAllowed ? 'block' : 'none';\n",
              "\n",
              "      async function convertToInteractive(key) {\n",
              "        const element = document.querySelector('#df-98600c77-7516-48ff-86b5-580925364670');\n",
              "        const dataTable =\n",
              "          await google.colab.kernel.invokeFunction('convertToInteractive',\n",
              "                                                    [key], {});\n",
              "        if (!dataTable) return;\n",
              "\n",
              "        const docLinkHtml = 'Like what you see? Visit the ' +\n",
              "          '<a target=\"_blank\" href=https://colab.research.google.com/notebooks/data_table.ipynb>data table notebook</a>'\n",
              "          + ' to learn more about interactive tables.';\n",
              "        element.innerHTML = '';\n",
              "        dataTable['output_type'] = 'display_data';\n",
              "        await google.colab.output.renderOutput(dataTable, element);\n",
              "        const docLink = document.createElement('div');\n",
              "        docLink.innerHTML = docLinkHtml;\n",
              "        element.appendChild(docLink);\n",
              "      }\n",
              "    </script>\n",
              "  </div>\n",
              "\n",
              "\n",
              "<div id=\"df-5500a451-c071-40d3-b898-aadfe97284b0\">\n",
              "  <button class=\"colab-df-quickchart\" onclick=\"quickchart('df-5500a451-c071-40d3-b898-aadfe97284b0')\"\n",
              "            title=\"Suggest charts\"\n",
              "            style=\"display:none;\">\n",
              "\n",
              "<svg xmlns=\"http://www.w3.org/2000/svg\" height=\"24px\"viewBox=\"0 0 24 24\"\n",
              "     width=\"24px\">\n",
              "    <g>\n",
              "        <path d=\"M19 3H5c-1.1 0-2 .9-2 2v14c0 1.1.9 2 2 2h14c1.1 0 2-.9 2-2V5c0-1.1-.9-2-2-2zM9 17H7v-7h2v7zm4 0h-2V7h2v10zm4 0h-2v-4h2v4z\"/>\n",
              "    </g>\n",
              "</svg>\n",
              "  </button>\n",
              "\n",
              "<style>\n",
              "  .colab-df-quickchart {\n",
              "      --bg-color: #E8F0FE;\n",
              "      --fill-color: #1967D2;\n",
              "      --hover-bg-color: #E2EBFA;\n",
              "      --hover-fill-color: #174EA6;\n",
              "      --disabled-fill-color: #AAA;\n",
              "      --disabled-bg-color: #DDD;\n",
              "  }\n",
              "\n",
              "  [theme=dark] .colab-df-quickchart {\n",
              "      --bg-color: #3B4455;\n",
              "      --fill-color: #D2E3FC;\n",
              "      --hover-bg-color: #434B5C;\n",
              "      --hover-fill-color: #FFFFFF;\n",
              "      --disabled-bg-color: #3B4455;\n",
              "      --disabled-fill-color: #666;\n",
              "  }\n",
              "\n",
              "  .colab-df-quickchart {\n",
              "    background-color: var(--bg-color);\n",
              "    border: none;\n",
              "    border-radius: 50%;\n",
              "    cursor: pointer;\n",
              "    display: none;\n",
              "    fill: var(--fill-color);\n",
              "    height: 32px;\n",
              "    padding: 0;\n",
              "    width: 32px;\n",
              "  }\n",
              "\n",
              "  .colab-df-quickchart:hover {\n",
              "    background-color: var(--hover-bg-color);\n",
              "    box-shadow: 0 1px 2px rgba(60, 64, 67, 0.3), 0 1px 3px 1px rgba(60, 64, 67, 0.15);\n",
              "    fill: var(--button-hover-fill-color);\n",
              "  }\n",
              "\n",
              "  .colab-df-quickchart-complete:disabled,\n",
              "  .colab-df-quickchart-complete:disabled:hover {\n",
              "    background-color: var(--disabled-bg-color);\n",
              "    fill: var(--disabled-fill-color);\n",
              "    box-shadow: none;\n",
              "  }\n",
              "\n",
              "  .colab-df-spinner {\n",
              "    border: 2px solid var(--fill-color);\n",
              "    border-color: transparent;\n",
              "    border-bottom-color: var(--fill-color);\n",
              "    animation:\n",
              "      spin 1s steps(1) infinite;\n",
              "  }\n",
              "\n",
              "  @keyframes spin {\n",
              "    0% {\n",
              "      border-color: transparent;\n",
              "      border-bottom-color: var(--fill-color);\n",
              "      border-left-color: var(--fill-color);\n",
              "    }\n",
              "    20% {\n",
              "      border-color: transparent;\n",
              "      border-left-color: var(--fill-color);\n",
              "      border-top-color: var(--fill-color);\n",
              "    }\n",
              "    30% {\n",
              "      border-color: transparent;\n",
              "      border-left-color: var(--fill-color);\n",
              "      border-top-color: var(--fill-color);\n",
              "      border-right-color: var(--fill-color);\n",
              "    }\n",
              "    40% {\n",
              "      border-color: transparent;\n",
              "      border-right-color: var(--fill-color);\n",
              "      border-top-color: var(--fill-color);\n",
              "    }\n",
              "    60% {\n",
              "      border-color: transparent;\n",
              "      border-right-color: var(--fill-color);\n",
              "    }\n",
              "    80% {\n",
              "      border-color: transparent;\n",
              "      border-right-color: var(--fill-color);\n",
              "      border-bottom-color: var(--fill-color);\n",
              "    }\n",
              "    90% {\n",
              "      border-color: transparent;\n",
              "      border-bottom-color: var(--fill-color);\n",
              "    }\n",
              "  }\n",
              "</style>\n",
              "\n",
              "  <script>\n",
              "    async function quickchart(key) {\n",
              "      const quickchartButtonEl =\n",
              "        document.querySelector('#' + key + ' button');\n",
              "      quickchartButtonEl.disabled = true;  // To prevent multiple clicks.\n",
              "      quickchartButtonEl.classList.add('colab-df-spinner');\n",
              "      try {\n",
              "        const charts = await google.colab.kernel.invokeFunction(\n",
              "            'suggestCharts', [key], {});\n",
              "      } catch (error) {\n",
              "        console.error('Error during call to suggestCharts:', error);\n",
              "      }\n",
              "      quickchartButtonEl.classList.remove('colab-df-spinner');\n",
              "      quickchartButtonEl.classList.add('colab-df-quickchart-complete');\n",
              "    }\n",
              "    (() => {\n",
              "      let quickchartButtonEl =\n",
              "        document.querySelector('#df-5500a451-c071-40d3-b898-aadfe97284b0 button');\n",
              "      quickchartButtonEl.style.display =\n",
              "        google.colab.kernel.accessAllowed ? 'block' : 'none';\n",
              "    })();\n",
              "  </script>\n",
              "</div>\n",
              "    </div>\n",
              "  </div>\n"
            ]
          },
          "metadata": {},
          "execution_count": 78
        }
      ]
    },
    {
      "cell_type": "code",
      "source": [
        "# Create X and y\n",
        "y = insurance_one_hot['charges']\n",
        "X = insurance_one_hot.drop('charges', axis = 1)"
      ],
      "metadata": {
        "id": "xrCQKDv8E4yv"
      },
      "execution_count": 81,
      "outputs": []
    },
    {
      "cell_type": "code",
      "source": [
        "X,y"
      ],
      "metadata": {
        "colab": {
          "base_uri": "https://localhost:8080/"
        },
        "id": "NHJMzYgYFhxQ",
        "outputId": "760ed30b-f2a1-4d97-86cd-e8e75d8af00b"
      },
      "execution_count": 82,
      "outputs": [
        {
          "output_type": "execute_result",
          "data": {
            "text/plain": [
              "(      age     bmi  children  sex_female  sex_male  smoker_no  smoker_yes  \\\n",
              " 0      19  27.900         0           1         0          0           1   \n",
              " 1      18  33.770         1           0         1          1           0   \n",
              " 2      28  33.000         3           0         1          1           0   \n",
              " 3      33  22.705         0           0         1          1           0   \n",
              " 4      32  28.880         0           0         1          1           0   \n",
              " ...   ...     ...       ...         ...       ...        ...         ...   \n",
              " 1333   50  30.970         3           0         1          1           0   \n",
              " 1334   18  31.920         0           1         0          1           0   \n",
              " 1335   18  36.850         0           1         0          1           0   \n",
              " 1336   21  25.800         0           1         0          1           0   \n",
              " 1337   61  29.070         0           1         0          0           1   \n",
              " \n",
              "       region_northeast  region_northwest  region_southeast  region_southwest  \n",
              " 0                    0                 0                 0                 1  \n",
              " 1                    0                 0                 1                 0  \n",
              " 2                    0                 0                 1                 0  \n",
              " 3                    0                 1                 0                 0  \n",
              " 4                    0                 1                 0                 0  \n",
              " ...                ...               ...               ...               ...  \n",
              " 1333                 0                 1                 0                 0  \n",
              " 1334                 1                 0                 0                 0  \n",
              " 1335                 0                 0                 1                 0  \n",
              " 1336                 0                 0                 0                 1  \n",
              " 1337                 0                 1                 0                 0  \n",
              " \n",
              " [1338 rows x 11 columns],\n",
              " 0       16884.92400\n",
              " 1        1725.55230\n",
              " 2        4449.46200\n",
              " 3       21984.47061\n",
              " 4        3866.85520\n",
              "            ...     \n",
              " 1333    10600.54830\n",
              " 1334     2205.98080\n",
              " 1335     1629.83350\n",
              " 1336     2007.94500\n",
              " 1337    29141.36030\n",
              " Name: charges, Length: 1338, dtype: float64)"
            ]
          },
          "metadata": {},
          "execution_count": 82
        }
      ]
    },
    {
      "cell_type": "code",
      "source": [
        "# Creating training and testing sets\n",
        "from sklearn.model_selection import train_test_split\n",
        "X_train, X_test, y_train, y_test = train_test_split(X, y, test_size = 0.2, random_state = 42)"
      ],
      "metadata": {
        "id": "yxIiH-QZFijI"
      },
      "execution_count": 85,
      "outputs": []
    },
    {
      "cell_type": "code",
      "source": [
        "# BUild neural Network\n",
        "tf.random.set_seed(42)\n",
        "\n",
        "\n",
        "insurance_model = tf.keras.Sequential([\n",
        "    tf.keras.layers.Dense(10),\n",
        "    tf.keras.layers.Dense(1)\n",
        "])\n",
        "\n",
        "insurance_model.compile(loss = tf.keras.losses.mae,\n",
        "                        optimizer = tf.keras.optimizers.SGD(),\n",
        "                        metrics=[\"mae\"])\n",
        "\n",
        "insurance_model.fit(X_train, y_train, epochs = 100)"
      ],
      "metadata": {
        "colab": {
          "base_uri": "https://localhost:8080/"
        },
        "id": "GKrEJEXrGvat",
        "outputId": "50fbeaee-3955-4388-bfc0-bd91ac212a4b"
      },
      "execution_count": 86,
      "outputs": [
        {
          "output_type": "stream",
          "name": "stdout",
          "text": [
            "Epoch 1/100\n",
            "34/34 [==============================] - 1s 3ms/step - loss: 8565.3516 - mae: 8565.3516\n",
            "Epoch 2/100\n",
            "34/34 [==============================] - 0s 2ms/step - loss: 7811.6777 - mae: 7811.6777\n",
            "Epoch 3/100\n",
            "34/34 [==============================] - 0s 2ms/step - loss: 7596.1899 - mae: 7596.1899\n",
            "Epoch 4/100\n",
            "34/34 [==============================] - 0s 2ms/step - loss: 7576.4077 - mae: 7576.4077\n",
            "Epoch 5/100\n",
            "34/34 [==============================] - 0s 2ms/step - loss: 7650.3784 - mae: 7650.3784\n",
            "Epoch 6/100\n",
            "34/34 [==============================] - 0s 2ms/step - loss: 7537.7544 - mae: 7537.7544\n",
            "Epoch 7/100\n",
            "34/34 [==============================] - 0s 2ms/step - loss: 7585.0654 - mae: 7585.0654\n",
            "Epoch 8/100\n",
            "34/34 [==============================] - 0s 2ms/step - loss: 7792.3833 - mae: 7792.3833\n",
            "Epoch 9/100\n",
            "34/34 [==============================] - 0s 2ms/step - loss: 7611.4951 - mae: 7611.4951\n",
            "Epoch 10/100\n",
            "34/34 [==============================] - 0s 2ms/step - loss: 7730.0493 - mae: 7730.0493\n",
            "Epoch 11/100\n",
            "34/34 [==============================] - 0s 2ms/step - loss: 7705.9941 - mae: 7705.9941\n",
            "Epoch 12/100\n",
            "34/34 [==============================] - 0s 2ms/step - loss: 7535.0684 - mae: 7535.0684\n",
            "Epoch 13/100\n",
            "34/34 [==============================] - 0s 2ms/step - loss: 7709.1055 - mae: 7709.1055\n",
            "Epoch 14/100\n",
            "34/34 [==============================] - 0s 2ms/step - loss: 7662.0000 - mae: 7662.0000\n",
            "Epoch 15/100\n",
            "34/34 [==============================] - 0s 2ms/step - loss: 7566.6582 - mae: 7566.6582\n",
            "Epoch 16/100\n",
            "34/34 [==============================] - 0s 2ms/step - loss: 7744.1509 - mae: 7744.1509\n",
            "Epoch 17/100\n",
            "34/34 [==============================] - 0s 2ms/step - loss: 7690.4248 - mae: 7690.4248\n",
            "Epoch 18/100\n",
            "34/34 [==============================] - 0s 2ms/step - loss: 7763.8257 - mae: 7763.8257\n",
            "Epoch 19/100\n",
            "34/34 [==============================] - 0s 2ms/step - loss: 7767.2256 - mae: 7767.2256\n",
            "Epoch 20/100\n",
            "34/34 [==============================] - 0s 2ms/step - loss: 7937.9365 - mae: 7937.9365\n",
            "Epoch 21/100\n",
            "34/34 [==============================] - 0s 2ms/step - loss: 7592.6943 - mae: 7592.6943\n",
            "Epoch 22/100\n",
            "34/34 [==============================] - 0s 2ms/step - loss: 7661.0830 - mae: 7661.0830\n",
            "Epoch 23/100\n",
            "34/34 [==============================] - 0s 2ms/step - loss: 7665.1045 - mae: 7665.1045\n",
            "Epoch 24/100\n",
            "34/34 [==============================] - 0s 2ms/step - loss: 7351.8057 - mae: 7351.8057\n",
            "Epoch 25/100\n",
            "34/34 [==============================] - 0s 2ms/step - loss: 7638.7349 - mae: 7638.7349\n",
            "Epoch 26/100\n",
            "34/34 [==============================] - 0s 3ms/step - loss: 7646.3921 - mae: 7646.3921\n",
            "Epoch 27/100\n",
            "34/34 [==============================] - 0s 4ms/step - loss: 7572.1294 - mae: 7572.1294\n",
            "Epoch 28/100\n",
            "34/34 [==============================] - 0s 4ms/step - loss: 7312.3633 - mae: 7312.3633\n",
            "Epoch 29/100\n",
            "34/34 [==============================] - 0s 4ms/step - loss: 7654.4268 - mae: 7654.4268\n",
            "Epoch 30/100\n",
            "34/34 [==============================] - 0s 3ms/step - loss: 7562.9160 - mae: 7562.9160\n",
            "Epoch 31/100\n",
            "34/34 [==============================] - 0s 4ms/step - loss: 7582.2783 - mae: 7582.2783\n",
            "Epoch 32/100\n",
            "34/34 [==============================] - 0s 4ms/step - loss: 7576.7935 - mae: 7576.7935\n",
            "Epoch 33/100\n",
            "34/34 [==============================] - 0s 3ms/step - loss: 7370.6133 - mae: 7370.6133\n",
            "Epoch 34/100\n",
            "34/34 [==============================] - 0s 3ms/step - loss: 7444.7896 - mae: 7444.7896\n",
            "Epoch 35/100\n",
            "34/34 [==============================] - 0s 3ms/step - loss: 7613.4155 - mae: 7613.4155\n",
            "Epoch 36/100\n",
            "34/34 [==============================] - 0s 4ms/step - loss: 7570.8286 - mae: 7570.8286\n",
            "Epoch 37/100\n",
            "34/34 [==============================] - 0s 4ms/step - loss: 7501.6802 - mae: 7501.6802\n",
            "Epoch 38/100\n",
            "34/34 [==============================] - 0s 4ms/step - loss: 7397.8970 - mae: 7397.8970\n",
            "Epoch 39/100\n",
            "34/34 [==============================] - 0s 4ms/step - loss: 7487.4219 - mae: 7487.4219\n",
            "Epoch 40/100\n",
            "34/34 [==============================] - 0s 4ms/step - loss: 7309.8213 - mae: 7309.8213\n",
            "Epoch 41/100\n",
            "34/34 [==============================] - 0s 3ms/step - loss: 7690.1284 - mae: 7690.1284\n",
            "Epoch 42/100\n",
            "34/34 [==============================] - 0s 4ms/step - loss: 7360.0083 - mae: 7360.0083\n",
            "Epoch 43/100\n",
            "34/34 [==============================] - 0s 4ms/step - loss: 7694.5337 - mae: 7694.5337\n",
            "Epoch 44/100\n",
            "34/34 [==============================] - 0s 4ms/step - loss: 7506.9175 - mae: 7506.9175\n",
            "Epoch 45/100\n",
            "34/34 [==============================] - 0s 3ms/step - loss: 7280.5469 - mae: 7280.5469\n",
            "Epoch 46/100\n",
            "34/34 [==============================] - 0s 2ms/step - loss: 7374.6978 - mae: 7374.6978\n",
            "Epoch 47/100\n",
            "34/34 [==============================] - 0s 3ms/step - loss: 7461.4683 - mae: 7461.4683\n",
            "Epoch 48/100\n",
            "34/34 [==============================] - 0s 2ms/step - loss: 7441.9126 - mae: 7441.9126\n",
            "Epoch 49/100\n",
            "34/34 [==============================] - 0s 3ms/step - loss: 7525.9727 - mae: 7525.9727\n",
            "Epoch 50/100\n",
            "34/34 [==============================] - 0s 3ms/step - loss: 7526.8887 - mae: 7526.8887\n",
            "Epoch 51/100\n",
            "34/34 [==============================] - 0s 2ms/step - loss: 7311.6143 - mae: 7311.6143\n",
            "Epoch 52/100\n",
            "34/34 [==============================] - 0s 2ms/step - loss: 7589.2109 - mae: 7589.2109\n",
            "Epoch 53/100\n",
            "34/34 [==============================] - 0s 2ms/step - loss: 7502.7944 - mae: 7502.7944\n",
            "Epoch 54/100\n",
            "34/34 [==============================] - 0s 3ms/step - loss: 7361.1235 - mae: 7361.1235\n",
            "Epoch 55/100\n",
            "34/34 [==============================] - 0s 2ms/step - loss: 7424.3652 - mae: 7424.3652\n",
            "Epoch 56/100\n",
            "34/34 [==============================] - 0s 2ms/step - loss: 7286.8032 - mae: 7286.8032\n",
            "Epoch 57/100\n",
            "34/34 [==============================] - 0s 3ms/step - loss: 7496.7007 - mae: 7496.7007\n",
            "Epoch 58/100\n",
            "34/34 [==============================] - 0s 2ms/step - loss: 7469.7915 - mae: 7469.7915\n",
            "Epoch 59/100\n",
            "34/34 [==============================] - 0s 2ms/step - loss: 7660.7417 - mae: 7660.7417\n",
            "Epoch 60/100\n",
            "34/34 [==============================] - 0s 2ms/step - loss: 7328.4487 - mae: 7328.4487\n",
            "Epoch 61/100\n",
            "34/34 [==============================] - 0s 2ms/step - loss: 7235.1294 - mae: 7235.1294\n",
            "Epoch 62/100\n",
            "34/34 [==============================] - 0s 2ms/step - loss: 7312.3115 - mae: 7312.3115\n",
            "Epoch 63/100\n",
            "34/34 [==============================] - 0s 2ms/step - loss: 7300.2603 - mae: 7300.2603\n",
            "Epoch 64/100\n",
            "34/34 [==============================] - 0s 2ms/step - loss: 7438.0166 - mae: 7438.0166\n",
            "Epoch 65/100\n",
            "34/34 [==============================] - 0s 2ms/step - loss: 7495.1685 - mae: 7495.1685\n",
            "Epoch 66/100\n",
            "34/34 [==============================] - 0s 2ms/step - loss: 7480.8252 - mae: 7480.8252\n",
            "Epoch 67/100\n",
            "34/34 [==============================] - 0s 2ms/step - loss: 7272.2837 - mae: 7272.2837\n",
            "Epoch 68/100\n",
            "34/34 [==============================] - 0s 2ms/step - loss: 7444.0576 - mae: 7444.0576\n",
            "Epoch 69/100\n",
            "34/34 [==============================] - 0s 2ms/step - loss: 7561.6636 - mae: 7561.6636\n",
            "Epoch 70/100\n",
            "34/34 [==============================] - 0s 2ms/step - loss: 7678.4819 - mae: 7678.4819\n",
            "Epoch 71/100\n",
            "34/34 [==============================] - 0s 2ms/step - loss: 7308.0312 - mae: 7308.0312\n",
            "Epoch 72/100\n",
            "34/34 [==============================] - 0s 2ms/step - loss: 7238.6846 - mae: 7238.6846\n",
            "Epoch 73/100\n",
            "34/34 [==============================] - 0s 2ms/step - loss: 7125.0796 - mae: 7125.0796\n",
            "Epoch 74/100\n",
            "34/34 [==============================] - 0s 2ms/step - loss: 7204.7329 - mae: 7204.7329\n",
            "Epoch 75/100\n",
            "34/34 [==============================] - 0s 3ms/step - loss: 7261.9238 - mae: 7261.9238\n",
            "Epoch 76/100\n",
            "34/34 [==============================] - 0s 2ms/step - loss: 7238.7793 - mae: 7238.7793\n",
            "Epoch 77/100\n",
            "34/34 [==============================] - 0s 2ms/step - loss: 7276.8140 - mae: 7276.8140\n",
            "Epoch 78/100\n",
            "34/34 [==============================] - 0s 2ms/step - loss: 7113.7104 - mae: 7113.7104\n",
            "Epoch 79/100\n",
            "34/34 [==============================] - 0s 2ms/step - loss: 7612.8750 - mae: 7612.8750\n",
            "Epoch 80/100\n",
            "34/34 [==============================] - 0s 2ms/step - loss: 7111.2837 - mae: 7111.2837\n",
            "Epoch 81/100\n",
            "34/34 [==============================] - 0s 2ms/step - loss: 7324.2212 - mae: 7324.2212\n",
            "Epoch 82/100\n",
            "34/34 [==============================] - 0s 2ms/step - loss: 7141.7939 - mae: 7141.7939\n",
            "Epoch 83/100\n",
            "34/34 [==============================] - 0s 2ms/step - loss: 7454.0068 - mae: 7454.0068\n",
            "Epoch 84/100\n",
            "34/34 [==============================] - 0s 3ms/step - loss: 7176.6562 - mae: 7176.6562\n",
            "Epoch 85/100\n",
            "34/34 [==============================] - 0s 2ms/step - loss: 7506.6582 - mae: 7506.6582\n",
            "Epoch 86/100\n",
            "34/34 [==============================] - 0s 2ms/step - loss: 7498.7822 - mae: 7498.7822\n",
            "Epoch 87/100\n",
            "34/34 [==============================] - 0s 2ms/step - loss: 7297.3276 - mae: 7297.3276\n",
            "Epoch 88/100\n",
            "34/34 [==============================] - 0s 2ms/step - loss: 7240.1992 - mae: 7240.1992\n",
            "Epoch 89/100\n",
            "34/34 [==============================] - 0s 2ms/step - loss: 7086.4429 - mae: 7086.4429\n",
            "Epoch 90/100\n",
            "34/34 [==============================] - 0s 2ms/step - loss: 7196.0708 - mae: 7196.0708\n",
            "Epoch 91/100\n",
            "34/34 [==============================] - 0s 2ms/step - loss: 7296.7661 - mae: 7296.7661\n",
            "Epoch 92/100\n",
            "34/34 [==============================] - 0s 2ms/step - loss: 7237.3408 - mae: 7237.3408\n",
            "Epoch 93/100\n",
            "34/34 [==============================] - 0s 2ms/step - loss: 7529.7158 - mae: 7529.7158\n",
            "Epoch 94/100\n",
            "34/34 [==============================] - 0s 2ms/step - loss: 7285.9785 - mae: 7285.9785\n",
            "Epoch 95/100\n",
            "34/34 [==============================] - 0s 2ms/step - loss: 7273.2642 - mae: 7273.2642\n",
            "Epoch 96/100\n",
            "34/34 [==============================] - 0s 2ms/step - loss: 7238.6074 - mae: 7238.6074\n",
            "Epoch 97/100\n",
            "34/34 [==============================] - 0s 2ms/step - loss: 7121.6689 - mae: 7121.6689\n",
            "Epoch 98/100\n",
            "34/34 [==============================] - 0s 2ms/step - loss: 7379.3428 - mae: 7379.3428\n",
            "Epoch 99/100\n",
            "34/34 [==============================] - 0s 2ms/step - loss: 7396.7529 - mae: 7396.7529\n",
            "Epoch 100/100\n",
            "34/34 [==============================] - 0s 2ms/step - loss: 7420.2124 - mae: 7420.2124\n"
          ]
        },
        {
          "output_type": "execute_result",
          "data": {
            "text/plain": [
              "<keras.src.callbacks.History at 0x7e39c2d3ad40>"
            ]
          },
          "metadata": {},
          "execution_count": 86
        }
      ]
    },
    {
      "cell_type": "code",
      "source": [
        "insurance_model.evaluate(X_test, y_test)"
      ],
      "metadata": {
        "colab": {
          "base_uri": "https://localhost:8080/"
        },
        "id": "_OOiDq95Hoal",
        "outputId": "9f8cec59-82c3-464e-8879-ebe1d849a975"
      },
      "execution_count": 87,
      "outputs": [
        {
          "output_type": "stream",
          "name": "stdout",
          "text": [
            "9/9 [==============================] - 0s 3ms/step - loss: 8358.4863 - mae: 8358.4863\n"
          ]
        },
        {
          "output_type": "execute_result",
          "data": {
            "text/plain": [
              "[8358.486328125, 8358.486328125]"
            ]
          },
          "metadata": {},
          "execution_count": 87
        }
      ]
    },
    {
      "cell_type": "code",
      "source": [
        "y_train.median(), y_train.mean()"
      ],
      "metadata": {
        "colab": {
          "base_uri": "https://localhost:8080/"
        },
        "id": "P63_drVnIJOy",
        "outputId": "56547b20-b5d8-43ad-f164-8a3c19167769"
      },
      "execution_count": 88,
      "outputs": [
        {
          "output_type": "execute_result",
          "data": {
            "text/plain": [
              "(9575.4421, 13346.089736364485)"
            ]
          },
          "metadata": {},
          "execution_count": 88
        }
      ]
    },
    {
      "cell_type": "code",
      "source": [
        "# Improving The model by increasing layer and changing optimizer\n",
        "insurance_model_2 = tf.keras.Sequential([\n",
        "    tf.keras.layers.Dense(100),\n",
        "    tf.keras.layers.Dense(10),\n",
        "    tf.keras.layers.Dense(1)\n",
        "])\n",
        "\n",
        "insurance_model_2.compile(loss = tf.keras.losses.mae,\n",
        "                          optimizer = tf.keras.optimizers.Adam(),\n",
        "                          metrics = ['mae'])\n",
        "\n",
        "insurance_model_2.fit(X_train, y_train, epochs = 100)"
      ],
      "metadata": {
        "colab": {
          "base_uri": "https://localhost:8080/"
        },
        "id": "5QQQ_Bq2IWvb",
        "outputId": "47b723cd-616c-4043-b2a8-047f621d2e3d"
      },
      "execution_count": 91,
      "outputs": [
        {
          "output_type": "stream",
          "name": "stdout",
          "text": [
            "Epoch 1/100\n",
            "34/34 [==============================] - 1s 3ms/step - loss: 13247.5439 - mae: 13247.5439\n",
            "Epoch 2/100\n",
            "34/34 [==============================] - 0s 3ms/step - loss: 13021.7695 - mae: 13021.7695\n",
            "Epoch 3/100\n",
            "34/34 [==============================] - 0s 3ms/step - loss: 12580.9717 - mae: 12580.9717\n",
            "Epoch 4/100\n",
            "34/34 [==============================] - 0s 2ms/step - loss: 11775.6260 - mae: 11775.6260\n",
            "Epoch 5/100\n",
            "34/34 [==============================] - 0s 2ms/step - loss: 10538.8779 - mae: 10538.8779\n",
            "Epoch 6/100\n",
            "34/34 [==============================] - 0s 2ms/step - loss: 9107.9307 - mae: 9107.9307\n",
            "Epoch 7/100\n",
            "34/34 [==============================] - 0s 3ms/step - loss: 7942.3662 - mae: 7942.3662\n",
            "Epoch 8/100\n",
            "34/34 [==============================] - 0s 3ms/step - loss: 7507.8022 - mae: 7507.8022\n",
            "Epoch 9/100\n",
            "34/34 [==============================] - 0s 3ms/step - loss: 7445.8398 - mae: 7445.8398\n",
            "Epoch 10/100\n",
            "34/34 [==============================] - 0s 2ms/step - loss: 7426.7861 - mae: 7426.7861\n",
            "Epoch 11/100\n",
            "34/34 [==============================] - 0s 2ms/step - loss: 7408.3306 - mae: 7408.3306\n",
            "Epoch 12/100\n",
            "34/34 [==============================] - 0s 3ms/step - loss: 7386.2925 - mae: 7386.2925\n",
            "Epoch 13/100\n",
            "34/34 [==============================] - 0s 2ms/step - loss: 7366.0078 - mae: 7366.0078\n",
            "Epoch 14/100\n",
            "34/34 [==============================] - 0s 3ms/step - loss: 7343.7695 - mae: 7343.7695\n",
            "Epoch 15/100\n",
            "34/34 [==============================] - 0s 3ms/step - loss: 7324.4048 - mae: 7324.4048\n",
            "Epoch 16/100\n",
            "34/34 [==============================] - 0s 3ms/step - loss: 7301.5215 - mae: 7301.5215\n",
            "Epoch 17/100\n",
            "34/34 [==============================] - 0s 3ms/step - loss: 7280.8369 - mae: 7280.8369\n",
            "Epoch 18/100\n",
            "34/34 [==============================] - 0s 3ms/step - loss: 7256.9819 - mae: 7256.9819\n",
            "Epoch 19/100\n",
            "34/34 [==============================] - 0s 3ms/step - loss: 7233.8530 - mae: 7233.8530\n",
            "Epoch 20/100\n",
            "34/34 [==============================] - 0s 3ms/step - loss: 7209.8472 - mae: 7209.8472\n",
            "Epoch 21/100\n",
            "34/34 [==============================] - 0s 2ms/step - loss: 7189.6196 - mae: 7189.6196\n",
            "Epoch 22/100\n",
            "34/34 [==============================] - 0s 3ms/step - loss: 7161.6030 - mae: 7161.6030\n",
            "Epoch 23/100\n",
            "34/34 [==============================] - 0s 3ms/step - loss: 7135.4561 - mae: 7135.4561\n",
            "Epoch 24/100\n",
            "34/34 [==============================] - 0s 3ms/step - loss: 7109.2256 - mae: 7109.2256\n",
            "Epoch 25/100\n",
            "34/34 [==============================] - 0s 3ms/step - loss: 7089.9878 - mae: 7089.9878\n",
            "Epoch 26/100\n",
            "34/34 [==============================] - 0s 5ms/step - loss: 7055.9219 - mae: 7055.9219\n",
            "Epoch 27/100\n",
            "34/34 [==============================] - 0s 5ms/step - loss: 7025.4551 - mae: 7025.4551\n",
            "Epoch 28/100\n",
            "34/34 [==============================] - 0s 4ms/step - loss: 6995.3018 - mae: 6995.3018\n",
            "Epoch 29/100\n",
            "34/34 [==============================] - 0s 3ms/step - loss: 6964.4746 - mae: 6964.4746\n",
            "Epoch 30/100\n",
            "34/34 [==============================] - 0s 3ms/step - loss: 6935.5835 - mae: 6935.5835\n",
            "Epoch 31/100\n",
            "34/34 [==============================] - 0s 3ms/step - loss: 6901.3950 - mae: 6901.3950\n",
            "Epoch 32/100\n",
            "34/34 [==============================] - 0s 3ms/step - loss: 6871.1753 - mae: 6871.1753\n",
            "Epoch 33/100\n",
            "34/34 [==============================] - 0s 3ms/step - loss: 6836.2231 - mae: 6836.2231\n",
            "Epoch 34/100\n",
            "34/34 [==============================] - 0s 3ms/step - loss: 6801.9971 - mae: 6801.9971\n",
            "Epoch 35/100\n",
            "34/34 [==============================] - 0s 3ms/step - loss: 6764.4902 - mae: 6764.4902\n",
            "Epoch 36/100\n",
            "34/34 [==============================] - 0s 3ms/step - loss: 6727.2642 - mae: 6727.2642\n",
            "Epoch 37/100\n",
            "34/34 [==============================] - 0s 3ms/step - loss: 6688.2695 - mae: 6688.2695\n",
            "Epoch 38/100\n",
            "34/34 [==============================] - 0s 3ms/step - loss: 6655.7422 - mae: 6655.7422\n",
            "Epoch 39/100\n",
            "34/34 [==============================] - 0s 3ms/step - loss: 6615.3457 - mae: 6615.3457\n",
            "Epoch 40/100\n",
            "34/34 [==============================] - 0s 3ms/step - loss: 6579.8398 - mae: 6579.8398\n",
            "Epoch 41/100\n",
            "34/34 [==============================] - 0s 3ms/step - loss: 6549.9331 - mae: 6549.9331\n",
            "Epoch 42/100\n",
            "34/34 [==============================] - 0s 3ms/step - loss: 6524.4878 - mae: 6524.4878\n",
            "Epoch 43/100\n",
            "34/34 [==============================] - 0s 3ms/step - loss: 6497.4839 - mae: 6497.4839\n",
            "Epoch 44/100\n",
            "34/34 [==============================] - 0s 3ms/step - loss: 6477.8857 - mae: 6477.8857\n",
            "Epoch 45/100\n",
            "34/34 [==============================] - 0s 3ms/step - loss: 6464.0005 - mae: 6464.0005\n",
            "Epoch 46/100\n",
            "34/34 [==============================] - 0s 3ms/step - loss: 6448.8042 - mae: 6448.8042\n",
            "Epoch 47/100\n",
            "34/34 [==============================] - 0s 3ms/step - loss: 6431.2090 - mae: 6431.2090\n",
            "Epoch 48/100\n",
            "34/34 [==============================] - 0s 3ms/step - loss: 6415.9307 - mae: 6415.9307\n",
            "Epoch 49/100\n",
            "34/34 [==============================] - 0s 2ms/step - loss: 6403.6265 - mae: 6403.6265\n",
            "Epoch 50/100\n",
            "34/34 [==============================] - 0s 2ms/step - loss: 6388.8691 - mae: 6388.8691\n",
            "Epoch 51/100\n",
            "34/34 [==============================] - 0s 2ms/step - loss: 6374.9019 - mae: 6374.9019\n",
            "Epoch 52/100\n",
            "34/34 [==============================] - 0s 2ms/step - loss: 6361.7397 - mae: 6361.7397\n",
            "Epoch 53/100\n",
            "34/34 [==============================] - 0s 2ms/step - loss: 6347.1709 - mae: 6347.1709\n",
            "Epoch 54/100\n",
            "34/34 [==============================] - 0s 2ms/step - loss: 6332.5845 - mae: 6332.5845\n",
            "Epoch 55/100\n",
            "34/34 [==============================] - 0s 2ms/step - loss: 6318.2490 - mae: 6318.2490\n",
            "Epoch 56/100\n",
            "34/34 [==============================] - 0s 2ms/step - loss: 6302.9214 - mae: 6302.9214\n",
            "Epoch 57/100\n",
            "34/34 [==============================] - 0s 2ms/step - loss: 6289.7275 - mae: 6289.7275\n",
            "Epoch 58/100\n",
            "34/34 [==============================] - 0s 2ms/step - loss: 6274.7422 - mae: 6274.7422\n",
            "Epoch 59/100\n",
            "34/34 [==============================] - 0s 2ms/step - loss: 6258.2041 - mae: 6258.2041\n",
            "Epoch 60/100\n",
            "34/34 [==============================] - 0s 2ms/step - loss: 6246.8682 - mae: 6246.8682\n",
            "Epoch 61/100\n",
            "34/34 [==============================] - 0s 2ms/step - loss: 6225.1865 - mae: 6225.1865\n",
            "Epoch 62/100\n",
            "34/34 [==============================] - 0s 2ms/step - loss: 6212.2153 - mae: 6212.2153\n",
            "Epoch 63/100\n",
            "34/34 [==============================] - 0s 2ms/step - loss: 6192.8315 - mae: 6192.8315\n",
            "Epoch 64/100\n",
            "34/34 [==============================] - 0s 2ms/step - loss: 6174.7300 - mae: 6174.7300\n",
            "Epoch 65/100\n",
            "34/34 [==============================] - 0s 2ms/step - loss: 6156.0640 - mae: 6156.0640\n",
            "Epoch 66/100\n",
            "34/34 [==============================] - 0s 2ms/step - loss: 6137.7661 - mae: 6137.7661\n",
            "Epoch 67/100\n",
            "34/34 [==============================] - 0s 2ms/step - loss: 6124.5991 - mae: 6124.5991\n",
            "Epoch 68/100\n",
            "34/34 [==============================] - 0s 2ms/step - loss: 6100.5947 - mae: 6100.5947\n",
            "Epoch 69/100\n",
            "34/34 [==============================] - 0s 2ms/step - loss: 6082.1807 - mae: 6082.1807\n",
            "Epoch 70/100\n",
            "34/34 [==============================] - 0s 2ms/step - loss: 6060.6772 - mae: 6060.6772\n",
            "Epoch 71/100\n",
            "34/34 [==============================] - 0s 2ms/step - loss: 6040.2129 - mae: 6040.2129\n",
            "Epoch 72/100\n",
            "34/34 [==============================] - 0s 2ms/step - loss: 6019.2446 - mae: 6019.2446\n",
            "Epoch 73/100\n",
            "34/34 [==============================] - 0s 2ms/step - loss: 6003.2290 - mae: 6003.2290\n",
            "Epoch 74/100\n",
            "34/34 [==============================] - 0s 2ms/step - loss: 5972.5464 - mae: 5972.5464\n",
            "Epoch 75/100\n",
            "34/34 [==============================] - 0s 2ms/step - loss: 5950.2988 - mae: 5950.2988\n",
            "Epoch 76/100\n",
            "34/34 [==============================] - 0s 2ms/step - loss: 5931.1167 - mae: 5931.1167\n",
            "Epoch 77/100\n",
            "34/34 [==============================] - 0s 2ms/step - loss: 5899.6411 - mae: 5899.6411\n",
            "Epoch 78/100\n",
            "34/34 [==============================] - 0s 2ms/step - loss: 5873.4414 - mae: 5873.4414\n",
            "Epoch 79/100\n",
            "34/34 [==============================] - 0s 2ms/step - loss: 5847.0625 - mae: 5847.0625\n",
            "Epoch 80/100\n",
            "34/34 [==============================] - 0s 2ms/step - loss: 5816.7896 - mae: 5816.7896\n",
            "Epoch 81/100\n",
            "34/34 [==============================] - 0s 2ms/step - loss: 5789.5308 - mae: 5789.5308\n",
            "Epoch 82/100\n",
            "34/34 [==============================] - 0s 2ms/step - loss: 5757.1533 - mae: 5757.1533\n",
            "Epoch 83/100\n",
            "34/34 [==============================] - 0s 2ms/step - loss: 5727.4834 - mae: 5727.4834\n",
            "Epoch 84/100\n",
            "34/34 [==============================] - 0s 2ms/step - loss: 5691.4644 - mae: 5691.4644\n",
            "Epoch 85/100\n",
            "34/34 [==============================] - 0s 2ms/step - loss: 5662.0361 - mae: 5662.0361\n",
            "Epoch 86/100\n",
            "34/34 [==============================] - 0s 2ms/step - loss: 5626.0146 - mae: 5626.0146\n",
            "Epoch 87/100\n",
            "34/34 [==============================] - 0s 2ms/step - loss: 5586.1611 - mae: 5586.1611\n",
            "Epoch 88/100\n",
            "34/34 [==============================] - 0s 2ms/step - loss: 5548.7026 - mae: 5548.7026\n",
            "Epoch 89/100\n",
            "34/34 [==============================] - 0s 2ms/step - loss: 5505.2065 - mae: 5505.2065\n",
            "Epoch 90/100\n",
            "34/34 [==============================] - 0s 2ms/step - loss: 5459.8389 - mae: 5459.8389\n",
            "Epoch 91/100\n",
            "34/34 [==============================] - 0s 2ms/step - loss: 5420.0698 - mae: 5420.0698\n",
            "Epoch 92/100\n",
            "34/34 [==============================] - 0s 2ms/step - loss: 5369.5522 - mae: 5369.5522\n",
            "Epoch 93/100\n",
            "34/34 [==============================] - 0s 2ms/step - loss: 5322.9575 - mae: 5322.9575\n",
            "Epoch 94/100\n",
            "34/34 [==============================] - 0s 2ms/step - loss: 5273.1870 - mae: 5273.1870\n",
            "Epoch 95/100\n",
            "34/34 [==============================] - 0s 2ms/step - loss: 5217.2808 - mae: 5217.2808\n",
            "Epoch 96/100\n",
            "34/34 [==============================] - 0s 2ms/step - loss: 5169.1245 - mae: 5169.1245\n",
            "Epoch 97/100\n",
            "34/34 [==============================] - 0s 2ms/step - loss: 5111.4897 - mae: 5111.4897\n",
            "Epoch 98/100\n",
            "34/34 [==============================] - 0s 2ms/step - loss: 5044.8721 - mae: 5044.8721\n",
            "Epoch 99/100\n",
            "34/34 [==============================] - 0s 2ms/step - loss: 4980.8247 - mae: 4980.8247\n",
            "Epoch 100/100\n",
            "34/34 [==============================] - 0s 2ms/step - loss: 4925.0679 - mae: 4925.0679\n"
          ]
        },
        {
          "output_type": "execute_result",
          "data": {
            "text/plain": [
              "<keras.src.callbacks.History at 0x7e39c31d5ed0>"
            ]
          },
          "metadata": {},
          "execution_count": 91
        }
      ]
    },
    {
      "cell_type": "code",
      "source": [
        "insurance_model_2.evaluate(X_test, y_test)"
      ],
      "metadata": {
        "colab": {
          "base_uri": "https://localhost:8080/"
        },
        "id": "0Bel2ILALBdH",
        "outputId": "df90392f-5c57-4743-84b4-41d663e92e3b"
      },
      "execution_count": 92,
      "outputs": [
        {
          "output_type": "stream",
          "name": "stdout",
          "text": [
            "9/9 [==============================] - 0s 3ms/step - loss: 4796.8335 - mae: 4796.8335\n"
          ]
        },
        {
          "output_type": "execute_result",
          "data": {
            "text/plain": [
              "[4796.83349609375, 4796.83349609375]"
            ]
          },
          "metadata": {},
          "execution_count": 92
        }
      ]
    },
    {
      "cell_type": "code",
      "source": [
        "insurance_model.evaluate(X_test, y_test)"
      ],
      "metadata": {
        "colab": {
          "base_uri": "https://localhost:8080/"
        },
        "id": "xDRCNLNTLQ1u",
        "outputId": "76b7960b-aef7-47ef-f3bf-60b14ba1aa91"
      },
      "execution_count": 93,
      "outputs": [
        {
          "output_type": "stream",
          "name": "stdout",
          "text": [
            "9/9 [==============================] - 0s 4ms/step - loss: 8358.4863 - mae: 8358.4863\n"
          ]
        },
        {
          "output_type": "execute_result",
          "data": {
            "text/plain": [
              "[8358.486328125, 8358.486328125]"
            ]
          },
          "metadata": {},
          "execution_count": 93
        }
      ]
    },
    {
      "cell_type": "code",
      "source": [
        "# Model improvement by training for longer time\n",
        "tf.random.set_seed(42)\n",
        "\n",
        "\n",
        "insurance_model_3 = tf.keras.Sequential([\n",
        "    tf.keras.layers.Dense(100),\n",
        "    tf.keras.layers.Dense(10),\n",
        "    tf.keras.layers.Dense(1)\n",
        "])\n",
        "\n",
        "insurance_model_3.compile(loss = tf.keras.losses.mae,\n",
        "                          optimizer = tf.keras.optimizers.Adam(),\n",
        "                          metrics = ['mae'])\n",
        "\n",
        "history = insurance_model_3.fit(X_train, y_train, epochs = 200)"
      ],
      "metadata": {
        "colab": {
          "base_uri": "https://localhost:8080/"
        },
        "id": "G7ozHQQdLX6f",
        "outputId": "d1943ae1-54f1-48e9-b176-1be1a68901ca"
      },
      "execution_count": 94,
      "outputs": [
        {
          "output_type": "stream",
          "name": "stdout",
          "text": [
            "Epoch 1/200\n",
            "34/34 [==============================] - 1s 2ms/step - loss: 13298.9590 - mae: 13298.9590\n",
            "Epoch 2/200\n",
            "34/34 [==============================] - 0s 2ms/step - loss: 13142.1631 - mae: 13142.1631\n",
            "Epoch 3/200\n",
            "34/34 [==============================] - 0s 2ms/step - loss: 12819.5322 - mae: 12819.5322\n",
            "Epoch 4/200\n",
            "34/34 [==============================] - 0s 2ms/step - loss: 12181.0576 - mae: 12181.0576\n",
            "Epoch 5/200\n",
            "34/34 [==============================] - 0s 2ms/step - loss: 11092.9131 - mae: 11092.9131\n",
            "Epoch 6/200\n",
            "34/34 [==============================] - 0s 2ms/step - loss: 9663.2988 - mae: 9663.2988\n",
            "Epoch 7/200\n",
            "34/34 [==============================] - 0s 2ms/step - loss: 8304.5674 - mae: 8304.5674\n",
            "Epoch 8/200\n",
            "34/34 [==============================] - 0s 2ms/step - loss: 7586.8472 - mae: 7586.8472\n",
            "Epoch 9/200\n",
            "34/34 [==============================] - 0s 2ms/step - loss: 7452.3818 - mae: 7452.3818\n",
            "Epoch 10/200\n",
            "34/34 [==============================] - 0s 2ms/step - loss: 7430.8433 - mae: 7430.8433\n",
            "Epoch 11/200\n",
            "34/34 [==============================] - 0s 2ms/step - loss: 7412.1328 - mae: 7412.1328\n",
            "Epoch 12/200\n",
            "34/34 [==============================] - 0s 2ms/step - loss: 7390.3071 - mae: 7390.3071\n",
            "Epoch 13/200\n",
            "34/34 [==============================] - 0s 2ms/step - loss: 7370.0591 - mae: 7370.0591\n",
            "Epoch 14/200\n",
            "34/34 [==============================] - 0s 2ms/step - loss: 7347.9399 - mae: 7347.9399\n",
            "Epoch 15/200\n",
            "34/34 [==============================] - 0s 3ms/step - loss: 7328.7642 - mae: 7328.7642\n",
            "Epoch 16/200\n",
            "34/34 [==============================] - 0s 3ms/step - loss: 7306.3237 - mae: 7306.3237\n",
            "Epoch 17/200\n",
            "34/34 [==============================] - 0s 3ms/step - loss: 7286.6938 - mae: 7286.6938\n",
            "Epoch 18/200\n",
            "34/34 [==============================] - 0s 3ms/step - loss: 7263.1250 - mae: 7263.1250\n",
            "Epoch 19/200\n",
            "34/34 [==============================] - 0s 3ms/step - loss: 7241.0000 - mae: 7241.0000\n",
            "Epoch 20/200\n",
            "34/34 [==============================] - 0s 2ms/step - loss: 7218.1948 - mae: 7218.1948\n",
            "Epoch 21/200\n",
            "34/34 [==============================] - 0s 3ms/step - loss: 7198.9897 - mae: 7198.9897\n",
            "Epoch 22/200\n",
            "34/34 [==============================] - 0s 3ms/step - loss: 7172.2935 - mae: 7172.2935\n",
            "Epoch 23/200\n",
            "34/34 [==============================] - 0s 3ms/step - loss: 7147.9004 - mae: 7147.9004\n",
            "Epoch 24/200\n",
            "34/34 [==============================] - 0s 2ms/step - loss: 7123.1924 - mae: 7123.1924\n",
            "Epoch 25/200\n",
            "34/34 [==============================] - 0s 3ms/step - loss: 7105.6382 - mae: 7105.6382\n",
            "Epoch 26/200\n",
            "34/34 [==============================] - 0s 3ms/step - loss: 7073.6704 - mae: 7073.6704\n",
            "Epoch 27/200\n",
            "34/34 [==============================] - 0s 3ms/step - loss: 7045.4395 - mae: 7045.4395\n",
            "Epoch 28/200\n",
            "34/34 [==============================] - 0s 3ms/step - loss: 7017.5415 - mae: 7017.5415\n",
            "Epoch 29/200\n",
            "34/34 [==============================] - 0s 3ms/step - loss: 6989.6812 - mae: 6989.6812\n",
            "Epoch 30/200\n",
            "34/34 [==============================] - 0s 2ms/step - loss: 6962.6870 - mae: 6962.6870\n",
            "Epoch 31/200\n",
            "34/34 [==============================] - 0s 3ms/step - loss: 6931.5015 - mae: 6931.5015\n",
            "Epoch 32/200\n",
            "34/34 [==============================] - 0s 4ms/step - loss: 6903.8730 - mae: 6903.8730\n",
            "Epoch 33/200\n",
            "34/34 [==============================] - 0s 3ms/step - loss: 6872.2744 - mae: 6872.2744\n",
            "Epoch 34/200\n",
            "34/34 [==============================] - 0s 3ms/step - loss: 6839.6284 - mae: 6839.6284\n",
            "Epoch 35/200\n",
            "34/34 [==============================] - 0s 3ms/step - loss: 6806.6460 - mae: 6806.6460\n",
            "Epoch 36/200\n",
            "34/34 [==============================] - 0s 2ms/step - loss: 6772.0298 - mae: 6772.0298\n",
            "Epoch 37/200\n",
            "34/34 [==============================] - 0s 3ms/step - loss: 6735.8486 - mae: 6735.8486\n",
            "Epoch 38/200\n",
            "34/34 [==============================] - 0s 3ms/step - loss: 6702.1865 - mae: 6702.1865\n",
            "Epoch 39/200\n",
            "34/34 [==============================] - 0s 2ms/step - loss: 6663.1279 - mae: 6663.1279\n",
            "Epoch 40/200\n",
            "34/34 [==============================] - 0s 2ms/step - loss: 6626.6948 - mae: 6626.6948\n",
            "Epoch 41/200\n",
            "34/34 [==============================] - 0s 3ms/step - loss: 6592.1230 - mae: 6592.1230\n",
            "Epoch 42/200\n",
            "34/34 [==============================] - 0s 3ms/step - loss: 6560.2715 - mae: 6560.2715\n",
            "Epoch 43/200\n",
            "34/34 [==============================] - 0s 3ms/step - loss: 6529.5605 - mae: 6529.5605\n",
            "Epoch 44/200\n",
            "34/34 [==============================] - 0s 2ms/step - loss: 6503.5024 - mae: 6503.5024\n",
            "Epoch 45/200\n",
            "34/34 [==============================] - 0s 2ms/step - loss: 6485.8833 - mae: 6485.8833\n",
            "Epoch 46/200\n",
            "34/34 [==============================] - 0s 2ms/step - loss: 6468.1230 - mae: 6468.1230\n",
            "Epoch 47/200\n",
            "34/34 [==============================] - 0s 2ms/step - loss: 6450.4224 - mae: 6450.4224\n",
            "Epoch 48/200\n",
            "34/34 [==============================] - 0s 2ms/step - loss: 6435.0234 - mae: 6435.0234\n",
            "Epoch 49/200\n",
            "34/34 [==============================] - 0s 2ms/step - loss: 6421.6445 - mae: 6421.6445\n",
            "Epoch 50/200\n",
            "34/34 [==============================] - 0s 2ms/step - loss: 6406.9922 - mae: 6406.9922\n",
            "Epoch 51/200\n",
            "34/34 [==============================] - 0s 2ms/step - loss: 6392.9292 - mae: 6392.9292\n",
            "Epoch 52/200\n",
            "34/34 [==============================] - 0s 2ms/step - loss: 6380.4932 - mae: 6380.4932\n",
            "Epoch 53/200\n",
            "34/34 [==============================] - 0s 2ms/step - loss: 6366.3716 - mae: 6366.3716\n",
            "Epoch 54/200\n",
            "34/34 [==============================] - 0s 2ms/step - loss: 6352.2441 - mae: 6352.2441\n",
            "Epoch 55/200\n",
            "34/34 [==============================] - 0s 2ms/step - loss: 6338.2402 - mae: 6338.2402\n",
            "Epoch 56/200\n",
            "34/34 [==============================] - 0s 2ms/step - loss: 6324.3892 - mae: 6324.3892\n",
            "Epoch 57/200\n",
            "34/34 [==============================] - 0s 2ms/step - loss: 6310.9009 - mae: 6310.9009\n",
            "Epoch 58/200\n",
            "34/34 [==============================] - 0s 2ms/step - loss: 6295.9600 - mae: 6295.9600\n",
            "Epoch 59/200\n",
            "34/34 [==============================] - 0s 2ms/step - loss: 6281.4712 - mae: 6281.4712\n",
            "Epoch 60/200\n",
            "34/34 [==============================] - 0s 2ms/step - loss: 6269.9312 - mae: 6269.9312\n",
            "Epoch 61/200\n",
            "34/34 [==============================] - 0s 2ms/step - loss: 6250.2881 - mae: 6250.2881\n",
            "Epoch 62/200\n",
            "34/34 [==============================] - 0s 2ms/step - loss: 6237.2749 - mae: 6237.2749\n",
            "Epoch 63/200\n",
            "34/34 [==============================] - 0s 2ms/step - loss: 6218.7017 - mae: 6218.7017\n",
            "Epoch 64/200\n",
            "34/34 [==============================] - 0s 2ms/step - loss: 6201.6860 - mae: 6201.6860\n",
            "Epoch 65/200\n",
            "34/34 [==============================] - 0s 2ms/step - loss: 6183.7695 - mae: 6183.7695\n",
            "Epoch 66/200\n",
            "34/34 [==============================] - 0s 2ms/step - loss: 6166.1606 - mae: 6166.1606\n",
            "Epoch 67/200\n",
            "34/34 [==============================] - 0s 2ms/step - loss: 6153.0635 - mae: 6153.0635\n",
            "Epoch 68/200\n",
            "34/34 [==============================] - 0s 2ms/step - loss: 6130.1309 - mae: 6130.1309\n",
            "Epoch 69/200\n",
            "34/34 [==============================] - 0s 2ms/step - loss: 6113.2759 - mae: 6113.2759\n",
            "Epoch 70/200\n",
            "34/34 [==============================] - 0s 3ms/step - loss: 6092.5112 - mae: 6092.5112\n",
            "Epoch 71/200\n",
            "34/34 [==============================] - 0s 2ms/step - loss: 6072.6680 - mae: 6072.6680\n",
            "Epoch 72/200\n",
            "34/34 [==============================] - 0s 3ms/step - loss: 6051.9492 - mae: 6051.9492\n",
            "Epoch 73/200\n",
            "34/34 [==============================] - 0s 3ms/step - loss: 6038.5254 - mae: 6038.5254\n",
            "Epoch 74/200\n",
            "34/34 [==============================] - 0s 3ms/step - loss: 6008.6611 - mae: 6008.6611\n",
            "Epoch 75/200\n",
            "34/34 [==============================] - 0s 3ms/step - loss: 5986.5845 - mae: 5986.5845\n",
            "Epoch 76/200\n",
            "34/34 [==============================] - 0s 3ms/step - loss: 5972.2871 - mae: 5972.2871\n",
            "Epoch 77/200\n",
            "34/34 [==============================] - 0s 3ms/step - loss: 5939.3721 - mae: 5939.3721\n",
            "Epoch 78/200\n",
            "34/34 [==============================] - 0s 3ms/step - loss: 5914.3945 - mae: 5914.3945\n",
            "Epoch 79/200\n",
            "34/34 [==============================] - 0s 4ms/step - loss: 5888.9697 - mae: 5888.9697\n",
            "Epoch 80/200\n",
            "34/34 [==============================] - 0s 3ms/step - loss: 5860.3481 - mae: 5860.3481\n",
            "Epoch 81/200\n",
            "34/34 [==============================] - 0s 3ms/step - loss: 5833.8638 - mae: 5833.8638\n",
            "Epoch 82/200\n",
            "34/34 [==============================] - 0s 3ms/step - loss: 5804.8105 - mae: 5804.8105\n",
            "Epoch 83/200\n",
            "34/34 [==============================] - 0s 3ms/step - loss: 5775.6851 - mae: 5775.6851\n",
            "Epoch 84/200\n",
            "34/34 [==============================] - 0s 3ms/step - loss: 5740.7461 - mae: 5740.7461\n",
            "Epoch 85/200\n",
            "34/34 [==============================] - 0s 3ms/step - loss: 5714.0361 - mae: 5714.0361\n",
            "Epoch 86/200\n",
            "34/34 [==============================] - 0s 3ms/step - loss: 5678.8394 - mae: 5678.8394\n",
            "Epoch 87/200\n",
            "34/34 [==============================] - 0s 3ms/step - loss: 5640.0747 - mae: 5640.0747\n",
            "Epoch 88/200\n",
            "34/34 [==============================] - 0s 3ms/step - loss: 5604.2627 - mae: 5604.2627\n",
            "Epoch 89/200\n",
            "34/34 [==============================] - 0s 4ms/step - loss: 5563.3442 - mae: 5563.3442\n",
            "Epoch 90/200\n",
            "34/34 [==============================] - 0s 5ms/step - loss: 5520.7319 - mae: 5520.7319\n",
            "Epoch 91/200\n",
            "34/34 [==============================] - 0s 4ms/step - loss: 5481.9595 - mae: 5481.9595\n",
            "Epoch 92/200\n",
            "34/34 [==============================] - 0s 6ms/step - loss: 5432.4165 - mae: 5432.4165\n",
            "Epoch 93/200\n",
            "34/34 [==============================] - 0s 4ms/step - loss: 5387.9111 - mae: 5387.9111\n",
            "Epoch 94/200\n",
            "34/34 [==============================] - 0s 4ms/step - loss: 5339.2510 - mae: 5339.2510\n",
            "Epoch 95/200\n",
            "34/34 [==============================] - 0s 5ms/step - loss: 5286.8340 - mae: 5286.8340\n",
            "Epoch 96/200\n",
            "34/34 [==============================] - 0s 4ms/step - loss: 5239.7554 - mae: 5239.7554\n",
            "Epoch 97/200\n",
            "34/34 [==============================] - 0s 5ms/step - loss: 5183.7314 - mae: 5183.7314\n",
            "Epoch 98/200\n",
            "34/34 [==============================] - 0s 5ms/step - loss: 5119.4702 - mae: 5119.4702\n",
            "Epoch 99/200\n",
            "34/34 [==============================] - 0s 6ms/step - loss: 5059.0020 - mae: 5059.0020\n",
            "Epoch 100/200\n",
            "34/34 [==============================] - 0s 5ms/step - loss: 5003.5571 - mae: 5003.5571\n",
            "Epoch 101/200\n",
            "34/34 [==============================] - 0s 4ms/step - loss: 4928.6763 - mae: 4928.6763\n",
            "Epoch 102/200\n",
            "34/34 [==============================] - 0s 5ms/step - loss: 4853.8965 - mae: 4853.8965\n",
            "Epoch 103/200\n",
            "34/34 [==============================] - 0s 5ms/step - loss: 4786.1099 - mae: 4786.1099\n",
            "Epoch 104/200\n",
            "34/34 [==============================] - 0s 6ms/step - loss: 4704.3291 - mae: 4704.3291\n",
            "Epoch 105/200\n",
            "34/34 [==============================] - 0s 3ms/step - loss: 4616.2969 - mae: 4616.2969\n",
            "Epoch 106/200\n",
            "34/34 [==============================] - 0s 3ms/step - loss: 4531.8843 - mae: 4531.8843\n",
            "Epoch 107/200\n",
            "34/34 [==============================] - 0s 3ms/step - loss: 4445.7881 - mae: 4445.7881\n",
            "Epoch 108/200\n",
            "34/34 [==============================] - 0s 3ms/step - loss: 4361.8462 - mae: 4361.8462\n",
            "Epoch 109/200\n",
            "34/34 [==============================] - 0s 2ms/step - loss: 4278.8950 - mae: 4278.8950\n",
            "Epoch 110/200\n",
            "34/34 [==============================] - 0s 3ms/step - loss: 4197.4180 - mae: 4197.4180\n",
            "Epoch 111/200\n",
            "34/34 [==============================] - 0s 3ms/step - loss: 4123.6479 - mae: 4123.6479\n",
            "Epoch 112/200\n",
            "34/34 [==============================] - 0s 3ms/step - loss: 4058.1875 - mae: 4058.1875\n",
            "Epoch 113/200\n",
            "34/34 [==============================] - 0s 3ms/step - loss: 3997.4402 - mae: 3997.4402\n",
            "Epoch 114/200\n",
            "34/34 [==============================] - 0s 3ms/step - loss: 3966.0803 - mae: 3966.0803\n",
            "Epoch 115/200\n",
            "34/34 [==============================] - 0s 3ms/step - loss: 3925.5112 - mae: 3925.5112\n",
            "Epoch 116/200\n",
            "34/34 [==============================] - 0s 3ms/step - loss: 3906.6536 - mae: 3906.6536\n",
            "Epoch 117/200\n",
            "34/34 [==============================] - 0s 2ms/step - loss: 3885.0398 - mae: 3885.0398\n",
            "Epoch 118/200\n",
            "34/34 [==============================] - 0s 2ms/step - loss: 3865.2292 - mae: 3865.2292\n",
            "Epoch 119/200\n",
            "34/34 [==============================] - 0s 2ms/step - loss: 3847.6926 - mae: 3847.6926\n",
            "Epoch 120/200\n",
            "34/34 [==============================] - 0s 2ms/step - loss: 3833.4585 - mae: 3833.4585\n",
            "Epoch 121/200\n",
            "34/34 [==============================] - 0s 2ms/step - loss: 3824.3171 - mae: 3824.3171\n",
            "Epoch 122/200\n",
            "34/34 [==============================] - 0s 2ms/step - loss: 3818.0012 - mae: 3818.0012\n",
            "Epoch 123/200\n",
            "34/34 [==============================] - 0s 2ms/step - loss: 3811.4839 - mae: 3811.4839\n",
            "Epoch 124/200\n",
            "34/34 [==============================] - 0s 2ms/step - loss: 3805.6328 - mae: 3805.6328\n",
            "Epoch 125/200\n",
            "34/34 [==============================] - 0s 2ms/step - loss: 3795.6755 - mae: 3795.6755\n",
            "Epoch 126/200\n",
            "34/34 [==============================] - 0s 2ms/step - loss: 3808.3235 - mae: 3808.3235\n",
            "Epoch 127/200\n",
            "34/34 [==============================] - 0s 2ms/step - loss: 3797.8782 - mae: 3797.8782\n",
            "Epoch 128/200\n",
            "34/34 [==============================] - 0s 2ms/step - loss: 3791.4009 - mae: 3791.4009\n",
            "Epoch 129/200\n",
            "34/34 [==============================] - 0s 2ms/step - loss: 3802.6184 - mae: 3802.6184\n",
            "Epoch 130/200\n",
            "34/34 [==============================] - 0s 2ms/step - loss: 3789.9473 - mae: 3789.9473\n",
            "Epoch 131/200\n",
            "34/34 [==============================] - 0s 2ms/step - loss: 3781.7034 - mae: 3781.7034\n",
            "Epoch 132/200\n",
            "34/34 [==============================] - 0s 2ms/step - loss: 3775.7393 - mae: 3775.7393\n",
            "Epoch 133/200\n",
            "34/34 [==============================] - 0s 2ms/step - loss: 3771.2224 - mae: 3771.2224\n",
            "Epoch 134/200\n",
            "34/34 [==============================] - 0s 2ms/step - loss: 3770.6863 - mae: 3770.6863\n",
            "Epoch 135/200\n",
            "34/34 [==============================] - 0s 2ms/step - loss: 3767.6367 - mae: 3767.6367\n",
            "Epoch 136/200\n",
            "34/34 [==============================] - 0s 2ms/step - loss: 3766.8982 - mae: 3766.8982\n",
            "Epoch 137/200\n",
            "34/34 [==============================] - 0s 2ms/step - loss: 3774.4231 - mae: 3774.4231\n",
            "Epoch 138/200\n",
            "34/34 [==============================] - 0s 3ms/step - loss: 3784.8665 - mae: 3784.8665\n",
            "Epoch 139/200\n",
            "34/34 [==============================] - 0s 2ms/step - loss: 3761.9258 - mae: 3761.9258\n",
            "Epoch 140/200\n",
            "34/34 [==============================] - 0s 2ms/step - loss: 3763.4412 - mae: 3763.4412\n",
            "Epoch 141/200\n",
            "34/34 [==============================] - 0s 2ms/step - loss: 3763.8599 - mae: 3763.8599\n",
            "Epoch 142/200\n",
            "34/34 [==============================] - 0s 2ms/step - loss: 3767.3315 - mae: 3767.3315\n",
            "Epoch 143/200\n",
            "34/34 [==============================] - 0s 3ms/step - loss: 3754.3342 - mae: 3754.3342\n",
            "Epoch 144/200\n",
            "34/34 [==============================] - 0s 2ms/step - loss: 3751.1914 - mae: 3751.1914\n",
            "Epoch 145/200\n",
            "34/34 [==============================] - 0s 2ms/step - loss: 3751.4622 - mae: 3751.4622\n",
            "Epoch 146/200\n",
            "34/34 [==============================] - 0s 2ms/step - loss: 3755.1814 - mae: 3755.1814\n",
            "Epoch 147/200\n",
            "34/34 [==============================] - 0s 2ms/step - loss: 3752.2656 - mae: 3752.2656\n",
            "Epoch 148/200\n",
            "34/34 [==============================] - 0s 2ms/step - loss: 3756.6201 - mae: 3756.6201\n",
            "Epoch 149/200\n",
            "34/34 [==============================] - 0s 2ms/step - loss: 3744.4399 - mae: 3744.4399\n",
            "Epoch 150/200\n",
            "34/34 [==============================] - 0s 2ms/step - loss: 3739.2642 - mae: 3739.2642\n",
            "Epoch 151/200\n",
            "34/34 [==============================] - 0s 2ms/step - loss: 3742.1121 - mae: 3742.1121\n",
            "Epoch 152/200\n",
            "34/34 [==============================] - 0s 2ms/step - loss: 3742.8994 - mae: 3742.8994\n",
            "Epoch 153/200\n",
            "34/34 [==============================] - 0s 2ms/step - loss: 3745.5430 - mae: 3745.5430\n",
            "Epoch 154/200\n",
            "34/34 [==============================] - 0s 2ms/step - loss: 3738.1138 - mae: 3738.1138\n",
            "Epoch 155/200\n",
            "34/34 [==============================] - 0s 2ms/step - loss: 3739.0862 - mae: 3739.0862\n",
            "Epoch 156/200\n",
            "34/34 [==============================] - 0s 2ms/step - loss: 3737.5920 - mae: 3737.5920\n",
            "Epoch 157/200\n",
            "34/34 [==============================] - 0s 3ms/step - loss: 3733.9036 - mae: 3733.9036\n",
            "Epoch 158/200\n",
            "34/34 [==============================] - 0s 2ms/step - loss: 3729.7327 - mae: 3729.7327\n",
            "Epoch 159/200\n",
            "34/34 [==============================] - 0s 2ms/step - loss: 3728.2229 - mae: 3728.2229\n",
            "Epoch 160/200\n",
            "34/34 [==============================] - 0s 2ms/step - loss: 3734.0886 - mae: 3734.0886\n",
            "Epoch 161/200\n",
            "34/34 [==============================] - 0s 2ms/step - loss: 3729.5444 - mae: 3729.5444\n",
            "Epoch 162/200\n",
            "34/34 [==============================] - 0s 2ms/step - loss: 3726.9038 - mae: 3726.9038\n",
            "Epoch 163/200\n",
            "34/34 [==============================] - 0s 2ms/step - loss: 3723.2405 - mae: 3723.2405\n",
            "Epoch 164/200\n",
            "34/34 [==============================] - 0s 2ms/step - loss: 3727.6021 - mae: 3727.6021\n",
            "Epoch 165/200\n",
            "34/34 [==============================] - 0s 2ms/step - loss: 3716.5891 - mae: 3716.5891\n",
            "Epoch 166/200\n",
            "34/34 [==============================] - 0s 2ms/step - loss: 3720.7024 - mae: 3720.7024\n",
            "Epoch 167/200\n",
            "34/34 [==============================] - 0s 2ms/step - loss: 3721.7839 - mae: 3721.7839\n",
            "Epoch 168/200\n",
            "34/34 [==============================] - 0s 2ms/step - loss: 3716.1936 - mae: 3716.1936\n",
            "Epoch 169/200\n",
            "34/34 [==============================] - 0s 2ms/step - loss: 3714.8386 - mae: 3714.8386\n",
            "Epoch 170/200\n",
            "34/34 [==============================] - 0s 2ms/step - loss: 3709.3145 - mae: 3709.3145\n",
            "Epoch 171/200\n",
            "34/34 [==============================] - 0s 2ms/step - loss: 3708.7129 - mae: 3708.7129\n",
            "Epoch 172/200\n",
            "34/34 [==============================] - 0s 2ms/step - loss: 3710.8728 - mae: 3710.8728\n",
            "Epoch 173/200\n",
            "34/34 [==============================] - 0s 2ms/step - loss: 3706.2947 - mae: 3706.2947\n",
            "Epoch 174/200\n",
            "34/34 [==============================] - 0s 2ms/step - loss: 3710.7961 - mae: 3710.7961\n",
            "Epoch 175/200\n",
            "34/34 [==============================] - 0s 2ms/step - loss: 3712.6711 - mae: 3712.6711\n",
            "Epoch 176/200\n",
            "34/34 [==============================] - 0s 2ms/step - loss: 3706.8904 - mae: 3706.8904\n",
            "Epoch 177/200\n",
            "34/34 [==============================] - 0s 2ms/step - loss: 3700.8479 - mae: 3700.8479\n",
            "Epoch 178/200\n",
            "34/34 [==============================] - 0s 2ms/step - loss: 3696.7551 - mae: 3696.7551\n",
            "Epoch 179/200\n",
            "34/34 [==============================] - 0s 2ms/step - loss: 3706.8760 - mae: 3706.8760\n",
            "Epoch 180/200\n",
            "34/34 [==============================] - 0s 2ms/step - loss: 3712.9963 - mae: 3712.9963\n",
            "Epoch 181/200\n",
            "34/34 [==============================] - 0s 2ms/step - loss: 3698.1013 - mae: 3698.1013\n",
            "Epoch 182/200\n",
            "34/34 [==============================] - 0s 2ms/step - loss: 3694.9048 - mae: 3694.9048\n",
            "Epoch 183/200\n",
            "34/34 [==============================] - 0s 2ms/step - loss: 3693.0945 - mae: 3693.0945\n",
            "Epoch 184/200\n",
            "34/34 [==============================] - 0s 2ms/step - loss: 3701.0630 - mae: 3701.0630\n",
            "Epoch 185/200\n",
            "34/34 [==============================] - 0s 2ms/step - loss: 3695.0122 - mae: 3695.0122\n",
            "Epoch 186/200\n",
            "34/34 [==============================] - 0s 2ms/step - loss: 3698.7537 - mae: 3698.7537\n",
            "Epoch 187/200\n",
            "34/34 [==============================] - 0s 2ms/step - loss: 3690.1899 - mae: 3690.1899\n",
            "Epoch 188/200\n",
            "34/34 [==============================] - 0s 2ms/step - loss: 3694.6841 - mae: 3694.6841\n",
            "Epoch 189/200\n",
            "34/34 [==============================] - 0s 2ms/step - loss: 3684.5127 - mae: 3684.5127\n",
            "Epoch 190/200\n",
            "34/34 [==============================] - 0s 2ms/step - loss: 3685.5342 - mae: 3685.5342\n",
            "Epoch 191/200\n",
            "34/34 [==============================] - 0s 2ms/step - loss: 3697.1956 - mae: 3697.1956\n",
            "Epoch 192/200\n",
            "34/34 [==============================] - 0s 2ms/step - loss: 3685.9492 - mae: 3685.9492\n",
            "Epoch 193/200\n",
            "34/34 [==============================] - 0s 2ms/step - loss: 3675.9973 - mae: 3675.9973\n",
            "Epoch 194/200\n",
            "34/34 [==============================] - 0s 2ms/step - loss: 3675.7935 - mae: 3675.7935\n",
            "Epoch 195/200\n",
            "34/34 [==============================] - 0s 2ms/step - loss: 3675.1763 - mae: 3675.1763\n",
            "Epoch 196/200\n",
            "34/34 [==============================] - 0s 3ms/step - loss: 3683.4558 - mae: 3683.4558\n",
            "Epoch 197/200\n",
            "34/34 [==============================] - 0s 2ms/step - loss: 3668.1387 - mae: 3668.1387\n",
            "Epoch 198/200\n",
            "34/34 [==============================] - 0s 2ms/step - loss: 3674.0071 - mae: 3674.0071\n",
            "Epoch 199/200\n",
            "34/34 [==============================] - 0s 2ms/step - loss: 3682.6997 - mae: 3682.6997\n",
            "Epoch 200/200\n",
            "34/34 [==============================] - 0s 2ms/step - loss: 3667.9226 - mae: 3667.9226\n"
          ]
        }
      ]
    },
    {
      "cell_type": "code",
      "source": [
        "insurance_model_3.evaluate(X_test, y_test)"
      ],
      "metadata": {
        "colab": {
          "base_uri": "https://localhost:8080/"
        },
        "id": "HEkGf4gvMg7B",
        "outputId": "cad94907-8c9e-4f7c-bac5-e5177318f029"
      },
      "execution_count": 95,
      "outputs": [
        {
          "output_type": "stream",
          "name": "stdout",
          "text": [
            "9/9 [==============================] - 0s 3ms/step - loss: 3490.1711 - mae: 3490.1711\n"
          ]
        },
        {
          "output_type": "execute_result",
          "data": {
            "text/plain": [
              "[3490.171142578125, 3490.171142578125]"
            ]
          },
          "metadata": {},
          "execution_count": 95
        }
      ]
    },
    {
      "cell_type": "code",
      "source": [
        "insurance_model.evaluate(X_test, y_test)"
      ],
      "metadata": {
        "colab": {
          "base_uri": "https://localhost:8080/"
        },
        "id": "xlygOgSxMs-H",
        "outputId": "b976c29d-2200-4751-d910-35c4408d15c1"
      },
      "execution_count": 96,
      "outputs": [
        {
          "output_type": "stream",
          "name": "stdout",
          "text": [
            "9/9 [==============================] - 0s 5ms/step - loss: 8358.4863 - mae: 8358.4863\n"
          ]
        },
        {
          "output_type": "execute_result",
          "data": {
            "text/plain": [
              "[8358.486328125, 8358.486328125]"
            ]
          },
          "metadata": {},
          "execution_count": 96
        }
      ]
    },
    {
      "cell_type": "code",
      "source": [
        "pd.DataFrame(history.history).plot()\n",
        "plt.ylabel('loss')\n",
        "plt.xlabel('epochs')"
      ],
      "metadata": {
        "colab": {
          "base_uri": "https://localhost:8080/",
          "height": 466
        },
        "id": "VCUF7BaAM0OI",
        "outputId": "4558626d-4b6b-42c6-b22a-d9bcdfbe30e7"
      },
      "execution_count": 98,
      "outputs": [
        {
          "output_type": "execute_result",
          "data": {
            "text/plain": [
              "Text(0.5, 0, 'epochs')"
            ]
          },
          "metadata": {},
          "execution_count": 98
        },
        {
          "output_type": "display_data",
          "data": {
            "text/plain": [
              "<Figure size 640x480 with 1 Axes>"
            ],
            "image/png": "[encoded data removed]"
          },
          "metadata": {}
        }
      ]
    },
    {
      "cell_type": "code",
      "source": [],
      "metadata": {
        "id": "WFsUmkaDNMTg"
      },
      "execution_count": null,
      "outputs": []
    }
  ]
}