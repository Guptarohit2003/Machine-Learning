{
  "nbformat": 4,
  "nbformat_minor": 0,
  "metadata": {
    "colab": {
      "provenance": [],
      "authorship_tag": "ABX9TyMfQsM4zkPW3kGa2fwhqpz+",
      "include_colab_link": true
    },
    "kernelspec": {
      "name": "python3",
      "display_name": "Python 3"
    },
    "language_info": {
      "name": "python"
    }
  },
  "cells": [
    {
      "cell_type": "markdown",
      "metadata": {
        "id": "view-in-github",
        "colab_type": "text"
      },
      "source": [
        "<a href=\"https://colab.research.google.com/github/Guptarohit2003/Machine-Learning/blob/main/Tensorflow/01_neural_network_regression_using_tensorflow.ipynb\" target=\"_parent\"><img src=\"https://colab.research.google.com/assets/colab-badge.svg\" alt=\"Open In Colab\"/></a>"
      ]
    },
    {
      "cell_type": "markdown",
      "source": [
        "# Introduction to Regression with Neural networks in TensorFlow"
      ],
      "metadata": {
        "id": "pOc-WspS3GzW"
      }
    },
    {
      "cell_type": "code",
      "source": [
        "import tensorflow as tf\n",
        "tf.__version__"
      ],
      "metadata": {
        "colab": {
          "base_uri": "https://localhost:8080/",
          "height": 35
        },
        "id": "TyzLl9Gd3n0b",
        "outputId": "b20cd72b-a173-4dab-a2c6-5afa69ae44cb"
      },
      "execution_count": 1,
      "outputs": [
        {
          "output_type": "execute_result",
          "data": {
            "text/plain": [
              "'2.15.0'"
            ],
            "application/vnd.google.colaboratory.intrinsic+json": {
              "type": "string"
            }
          },
          "metadata": {},
          "execution_count": 1
        }
      ]
    },
    {
      "cell_type": "markdown",
      "source": [
        "# Create Data view and fit"
      ],
      "metadata": {
        "id": "5iTXtgl83vcR"
      }
    },
    {
      "cell_type": "code",
      "source": [
        "import numpy as np\n",
        "import pandas as pd\n",
        "import matplotlib.pyplot as plt\n",
        "\n",
        "#Create Feature\n",
        "X = np.array([-7.0, -4.0, -1.0, 2.0, 5.0, 8.0, 11.0, 14.0])\n",
        "\n",
        "# Create Label\n",
        "y = np.array([3.0, 6.0, 9.0, 12.0, 15.0, 18.0, 21.0, 24.0])\n",
        "\n",
        "plt.scatter(X, y)"
      ],
      "metadata": {
        "colab": {
          "base_uri": "https://localhost:8080/",
          "height": 452
        },
        "id": "fQfZ6C8832cF",
        "outputId": "d6d4c724-96e8-4dee-f73d-b13a877ce6d2"
      },
      "execution_count": 2,
      "outputs": [
        {
          "output_type": "execute_result",
          "data": {
            "text/plain": [
              "<matplotlib.collections.PathCollection at 0x79525d19d900>"
            ]
          },
          "metadata": {},
          "execution_count": 2
        },
        {
          "output_type": "display_data",
          "data": {
            "text/plain": [
              "<Figure size 640x480 with 1 Axes>"
            ],
            "image/png": "[encoded data removed]"
          },
          "metadata": {}
        }
      ]
    },
    {
      "cell_type": "code",
      "source": [
        "y == X + 10"
      ],
      "metadata": {
        "colab": {
          "base_uri": "https://localhost:8080/"
        },
        "id": "tz05Mf9T4qEc",
        "outputId": "b934d83b-49e4-49e5-c032-eb984d1e1153"
      },
      "execution_count": 3,
      "outputs": [
        {
          "output_type": "execute_result",
          "data": {
            "text/plain": [
              "array([ True,  True,  True,  True,  True,  True,  True,  True])"
            ]
          },
          "metadata": {},
          "execution_count": 3
        }
      ]
    },
    {
      "cell_type": "markdown",
      "source": [
        "# Input Output Shapes"
      ],
      "metadata": {
        "id": "_OeSk2yW5Bm8"
      }
    },
    {
      "cell_type": "code",
      "source": [
        "#create demo tensor for house prediction\n",
        "house_info = tf.constant([\"bedroom\", \"bathroom\", 'garage'])\n",
        "house_price = tf.constant([939700])\n",
        "house_info, house_price\n"
      ],
      "metadata": {
        "colab": {
          "base_uri": "https://localhost:8080/"
        },
        "id": "w-agQfvP5Mye",
        "outputId": "599b5fff-b8b4-48b5-d701-40b278871349"
      },
      "execution_count": 4,
      "outputs": [
        {
          "output_type": "execute_result",
          "data": {
            "text/plain": [
              "(<tf.Tensor: shape=(3,), dtype=string, numpy=array([b'bedroom', b'bathroom', b'garage'], dtype=object)>,\n",
              " <tf.Tensor: shape=(1,), dtype=int32, numpy=array([939700], dtype=int32)>)"
            ]
          },
          "metadata": {},
          "execution_count": 4
        }
      ]
    },
    {
      "cell_type": "code",
      "source": [
        "X[0], y[0]"
      ],
      "metadata": {
        "colab": {
          "base_uri": "https://localhost:8080/"
        },
        "id": "ltZIka8A5oWL",
        "outputId": "c38c9dff-91fc-4520-dfb8-5bc454833889"
      },
      "execution_count": 5,
      "outputs": [
        {
          "output_type": "execute_result",
          "data": {
            "text/plain": [
              "(-7.0, 3.0)"
            ]
          },
          "metadata": {},
          "execution_count": 5
        }
      ]
    },
    {
      "cell_type": "code",
      "source": [
        "X = tf.constant(X)\n",
        "y = tf.constant(y)\n",
        "\n",
        "X,y"
      ],
      "metadata": {
        "colab": {
          "base_uri": "https://localhost:8080/"
        },
        "id": "XgaEyJ8966fJ",
        "outputId": "a558dd5d-c293-4c37-b2aa-e44c229746c6"
      },
      "execution_count": 6,
      "outputs": [
        {
          "output_type": "execute_result",
          "data": {
            "text/plain": [
              "(<tf.Tensor: shape=(8,), dtype=float64, numpy=array([-7., -4., -1.,  2.,  5.,  8., 11., 14.])>,\n",
              " <tf.Tensor: shape=(8,), dtype=float64, numpy=array([ 3.,  6.,  9., 12., 15., 18., 21., 24.])>)"
            ]
          },
          "metadata": {},
          "execution_count": 6
        }
      ]
    },
    {
      "cell_type": "markdown",
      "source": [
        "## Steps in modelling with TensorFlow\n",
        "\n",
        "1. Create a model\n",
        "2. Compile a model\n",
        "3. Fitting a model"
      ],
      "metadata": {
        "id": "946qw_ea7byY"
      }
    },
    {
      "cell_type": "code",
      "source": [
        " tf.random.set_seed(42)\n",
        "\n",
        " # Create a model\n",
        " model = tf.keras.Sequential()\n",
        "\n",
        " model.add(tf.keras.layers.Dense(1))\n",
        "\n",
        " # Compile the model\n",
        " model.compile(loss = tf.keras.losses.mae,\n",
        "               optimizer = tf.keras.optimizers.SGD(),\n",
        "               metrics=['mae'])\n",
        "\n",
        " # Fit the model\n",
        " model.fit(tf.expand_dims(X, axis = -1), y, epochs=5)"
      ],
      "metadata": {
        "colab": {
          "base_uri": "https://localhost:8080/"
        },
        "id": "7d6VtNid7mKX",
        "outputId": "027d901b-cef3-4e53-e03f-4d3192ceb5bf"
      },
      "execution_count": 7,
      "outputs": [
        {
          "output_type": "stream",
          "name": "stdout",
          "text": [
            "Epoch 1/5\n",
            "1/1 [==============================] - 0s 433ms/step - loss: 8.5968 - mae: 8.5968\n",
            "Epoch 2/5\n",
            "1/1 [==============================] - 0s 10ms/step - loss: 8.4643 - mae: 8.4643\n",
            "Epoch 3/5\n",
            "1/1 [==============================] - 0s 9ms/step - loss: 8.3318 - mae: 8.3318\n",
            "Epoch 4/5\n",
            "1/1 [==============================] - 0s 11ms/step - loss: 8.1993 - mae: 8.1993\n",
            "Epoch 5/5\n",
            "1/1 [==============================] - 0s 12ms/step - loss: 8.0668 - mae: 8.0668\n"
          ]
        },
        {
          "output_type": "execute_result",
          "data": {
            "text/plain": [
              "<keras.src.callbacks.History at 0x79524bf5bd00>"
            ]
          },
          "metadata": {},
          "execution_count": 7
        }
      ]
    },
    {
      "cell_type": "code",
      "source": [
        "# Check X and y\n",
        "X, y"
      ],
      "metadata": {
        "colab": {
          "base_uri": "https://localhost:8080/"
        },
        "id": "q6Jwdk039QPd",
        "outputId": "90b2ee9e-defb-4dcc-9d42-c440d12f28df"
      },
      "execution_count": 8,
      "outputs": [
        {
          "output_type": "execute_result",
          "data": {
            "text/plain": [
              "(<tf.Tensor: shape=(8,), dtype=float64, numpy=array([-7., -4., -1.,  2.,  5.,  8., 11., 14.])>,\n",
              " <tf.Tensor: shape=(8,), dtype=float64, numpy=array([ 3.,  6.,  9., 12., 15., 18., 21., 24.])>)"
            ]
          },
          "metadata": {},
          "execution_count": 8
        }
      ]
    },
    {
      "cell_type": "code",
      "source": [
        "model.predict([17.0])"
      ],
      "metadata": {
        "colab": {
          "base_uri": "https://localhost:8080/"
        },
        "id": "1cU83J7D-VLf",
        "outputId": "57f544a2-360d-4cb0-b995-f9d51818b96a"
      },
      "execution_count": 9,
      "outputs": [
        {
          "output_type": "stream",
          "name": "stdout",
          "text": [
            "1/1 [==============================] - 0s 101ms/step\n"
          ]
        },
        {
          "output_type": "execute_result",
          "data": {
            "text/plain": [
              "array([[26.840626]], dtype=float32)"
            ]
          },
          "metadata": {},
          "execution_count": 9
        }
      ]
    },
    {
      "cell_type": "markdown",
      "source": [
        "## Improve our model\n",
        "\n",
        "We can improve our model, by altering the steps we took to create a model\n",
        "\n",
        "**Creating a model** : here we might add more layers, increase # hidden units (neurons) within each of the hidden layers, change the activation function of each layer.\n",
        "\n",
        "**Compiling a model** : here we might change the optimization function or perhaps the **learning rate** of the optimization function.\n",
        "\n",
        "**Fitting a model** : here we might fit a model for more **epochs** or on more data."
      ],
      "metadata": {
        "id": "0gmmIb9--YZx"
      }
    },
    {
      "cell_type": "code",
      "source": [
        "# Let's rebuild the model for improvement\n",
        "model = tf.keras.Sequential([\n",
        "    tf.keras.layers.Dense(1)\n",
        "\n",
        "])\n",
        "\n",
        "model.compile(loss = \"mae\",\n",
        "              optimizer = \"sgd\",\n",
        "              metrics = [\"mae\"])\n",
        "\n",
        "# Fit the model (modified)\n",
        "model.fit(tf.expand_dims(X, axis = -1), y, epochs=100)"
      ],
      "metadata": {
        "colab": {
          "base_uri": "https://localhost:8080/"
        },
        "id": "fzKbrCvKAOp9",
        "outputId": "8fc3a895-b1c4-4f9b-806b-0dc63ea18c00"
      },
      "execution_count": 10,
      "outputs": [
        {
          "output_type": "stream",
          "name": "stdout",
          "text": [
            "Epoch 1/100\n",
            "1/1 [==============================] - 0s 378ms/step - loss: 8.5820 - mae: 8.5820\n",
            "Epoch 2/100\n",
            "1/1 [==============================] - 0s 12ms/step - loss: 8.4495 - mae: 8.4495\n",
            "Epoch 3/100\n",
            "1/1 [==============================] - 0s 11ms/step - loss: 8.3170 - mae: 8.3170\n",
            "Epoch 4/100\n",
            "1/1 [==============================] - 0s 10ms/step - loss: 8.1845 - mae: 8.1845\n",
            "Epoch 5/100\n",
            "1/1 [==============================] - 0s 12ms/step - loss: 8.0520 - mae: 8.0520\n",
            "Epoch 6/100\n",
            "1/1 [==============================] - 0s 10ms/step - loss: 7.9195 - mae: 7.9195\n",
            "Epoch 7/100\n",
            "1/1 [==============================] - 0s 12ms/step - loss: 7.7870 - mae: 7.7870\n",
            "Epoch 8/100\n",
            "1/1 [==============================] - 0s 11ms/step - loss: 7.6545 - mae: 7.6545\n",
            "Epoch 9/100\n",
            "1/1 [==============================] - 0s 10ms/step - loss: 7.5220 - mae: 7.5220\n",
            "Epoch 10/100\n",
            "1/1 [==============================] - 0s 10ms/step - loss: 7.4325 - mae: 7.4325\n",
            "Epoch 11/100\n",
            "1/1 [==============================] - 0s 10ms/step - loss: 7.4269 - mae: 7.4269\n",
            "Epoch 12/100\n",
            "1/1 [==============================] - 0s 13ms/step - loss: 7.4213 - mae: 7.4213\n",
            "Epoch 13/100\n",
            "1/1 [==============================] - 0s 11ms/step - loss: 7.4156 - mae: 7.4156\n",
            "Epoch 14/100\n",
            "1/1 [==============================] - 0s 10ms/step - loss: 7.4100 - mae: 7.4100\n",
            "Epoch 15/100\n",
            "1/1 [==============================] - 0s 11ms/step - loss: 7.4044 - mae: 7.4044\n",
            "Epoch 16/100\n",
            "1/1 [==============================] - 0s 11ms/step - loss: 7.3988 - mae: 7.3988\n",
            "Epoch 17/100\n",
            "1/1 [==============================] - 0s 10ms/step - loss: 7.3931 - mae: 7.3931\n",
            "Epoch 18/100\n",
            "1/1 [==============================] - 0s 11ms/step - loss: 7.3875 - mae: 7.3875\n",
            "Epoch 19/100\n",
            "1/1 [==============================] - 0s 9ms/step - loss: 7.3819 - mae: 7.3819\n",
            "Epoch 20/100\n",
            "1/1 [==============================] - 0s 9ms/step - loss: 7.3763 - mae: 7.3763\n",
            "Epoch 21/100\n",
            "1/1 [==============================] - 0s 13ms/step - loss: 7.3706 - mae: 7.3706\n",
            "Epoch 22/100\n",
            "1/1 [==============================] - 0s 11ms/step - loss: 7.3650 - mae: 7.3650\n",
            "Epoch 23/100\n",
            "1/1 [==============================] - 0s 11ms/step - loss: 7.3594 - mae: 7.3594\n",
            "Epoch 24/100\n",
            "1/1 [==============================] - 0s 10ms/step - loss: 7.3538 - mae: 7.3538\n",
            "Epoch 25/100\n",
            "1/1 [==============================] - 0s 15ms/step - loss: 7.3481 - mae: 7.3481\n",
            "Epoch 26/100\n",
            "1/1 [==============================] - 0s 12ms/step - loss: 7.3425 - mae: 7.3425\n",
            "Epoch 27/100\n",
            "1/1 [==============================] - 0s 11ms/step - loss: 7.3369 - mae: 7.3369\n",
            "Epoch 28/100\n",
            "1/1 [==============================] - 0s 10ms/step - loss: 7.3313 - mae: 7.3313\n",
            "Epoch 29/100\n",
            "1/1 [==============================] - 0s 11ms/step - loss: 7.3256 - mae: 7.3256\n",
            "Epoch 30/100\n",
            "1/1 [==============================] - 0s 14ms/step - loss: 7.3200 - mae: 7.3200\n",
            "Epoch 31/100\n",
            "1/1 [==============================] - 0s 10ms/step - loss: 7.3144 - mae: 7.3144\n",
            "Epoch 32/100\n",
            "1/1 [==============================] - 0s 10ms/step - loss: 7.3088 - mae: 7.3088\n",
            "Epoch 33/100\n",
            "1/1 [==============================] - 0s 12ms/step - loss: 7.3031 - mae: 7.3031\n",
            "Epoch 34/100\n",
            "1/1 [==============================] - 0s 12ms/step - loss: 7.2975 - mae: 7.2975\n",
            "Epoch 35/100\n",
            "1/1 [==============================] - 0s 10ms/step - loss: 7.2919 - mae: 7.2919\n",
            "Epoch 36/100\n",
            "1/1 [==============================] - 0s 10ms/step - loss: 7.2863 - mae: 7.2863\n",
            "Epoch 37/100\n",
            "1/1 [==============================] - 0s 10ms/step - loss: 7.2806 - mae: 7.2806\n",
            "Epoch 38/100\n",
            "1/1 [==============================] - 0s 10ms/step - loss: 7.2750 - mae: 7.2750\n",
            "Epoch 39/100\n",
            "1/1 [==============================] - 0s 11ms/step - loss: 7.2694 - mae: 7.2694\n",
            "Epoch 40/100\n",
            "1/1 [==============================] - 0s 10ms/step - loss: 7.2638 - mae: 7.2638\n",
            "Epoch 41/100\n",
            "1/1 [==============================] - 0s 10ms/step - loss: 7.2581 - mae: 7.2581\n",
            "Epoch 42/100\n",
            "1/1 [==============================] - 0s 12ms/step - loss: 7.2525 - mae: 7.2525\n",
            "Epoch 43/100\n",
            "1/1 [==============================] - 0s 11ms/step - loss: 7.2469 - mae: 7.2469\n",
            "Epoch 44/100\n",
            "1/1 [==============================] - 0s 10ms/step - loss: 7.2413 - mae: 7.2413\n",
            "Epoch 45/100\n",
            "1/1 [==============================] - 0s 13ms/step - loss: 7.2356 - mae: 7.2356\n",
            "Epoch 46/100\n",
            "1/1 [==============================] - 0s 10ms/step - loss: 7.2300 - mae: 7.2300\n",
            "Epoch 47/100\n",
            "1/1 [==============================] - 0s 9ms/step - loss: 7.2244 - mae: 7.2244\n",
            "Epoch 48/100\n",
            "1/1 [==============================] - 0s 11ms/step - loss: 7.2188 - mae: 7.2188\n",
            "Epoch 49/100\n",
            "1/1 [==============================] - 0s 9ms/step - loss: 7.2131 - mae: 7.2131\n",
            "Epoch 50/100\n",
            "1/1 [==============================] - 0s 11ms/step - loss: 7.2075 - mae: 7.2075\n",
            "Epoch 51/100\n",
            "1/1 [==============================] - 0s 11ms/step - loss: 7.2019 - mae: 7.2019\n",
            "Epoch 52/100\n",
            "1/1 [==============================] - 0s 10ms/step - loss: 7.1962 - mae: 7.1962\n",
            "Epoch 53/100\n",
            "1/1 [==============================] - 0s 10ms/step - loss: 7.1906 - mae: 7.1906\n",
            "Epoch 54/100\n",
            "1/1 [==============================] - 0s 16ms/step - loss: 7.1850 - mae: 7.1850\n",
            "Epoch 55/100\n",
            "1/1 [==============================] - 0s 10ms/step - loss: 7.1794 - mae: 7.1794\n",
            "Epoch 56/100\n",
            "1/1 [==============================] - 0s 10ms/step - loss: 7.1738 - mae: 7.1738\n",
            "Epoch 57/100\n",
            "1/1 [==============================] - 0s 12ms/step - loss: 7.1681 - mae: 7.1681\n",
            "Epoch 58/100\n",
            "1/1 [==============================] - 0s 10ms/step - loss: 7.1625 - mae: 7.1625\n",
            "Epoch 59/100\n",
            "1/1 [==============================] - 0s 20ms/step - loss: 7.1569 - mae: 7.1569\n",
            "Epoch 60/100\n",
            "1/1 [==============================] - 0s 13ms/step - loss: 7.1513 - mae: 7.1513\n",
            "Epoch 61/100\n",
            "1/1 [==============================] - 0s 10ms/step - loss: 7.1456 - mae: 7.1456\n",
            "Epoch 62/100\n",
            "1/1 [==============================] - 0s 10ms/step - loss: 7.1400 - mae: 7.1400\n",
            "Epoch 63/100\n",
            "1/1 [==============================] - 0s 10ms/step - loss: 7.1344 - mae: 7.1344\n",
            "Epoch 64/100\n",
            "1/1 [==============================] - 0s 14ms/step - loss: 7.1288 - mae: 7.1288\n",
            "Epoch 65/100\n",
            "1/1 [==============================] - 0s 10ms/step - loss: 7.1231 - mae: 7.1231\n",
            "Epoch 66/100\n",
            "1/1 [==============================] - 0s 12ms/step - loss: 7.1175 - mae: 7.1175\n",
            "Epoch 67/100\n",
            "1/1 [==============================] - 0s 11ms/step - loss: 7.1119 - mae: 7.1119\n",
            "Epoch 68/100\n",
            "1/1 [==============================] - 0s 10ms/step - loss: 7.1063 - mae: 7.1063\n",
            "Epoch 69/100\n",
            "1/1 [==============================] - 0s 11ms/step - loss: 7.1006 - mae: 7.1006\n",
            "Epoch 70/100\n",
            "1/1 [==============================] - 0s 12ms/step - loss: 7.0950 - mae: 7.0950\n",
            "Epoch 71/100\n",
            "1/1 [==============================] - 0s 11ms/step - loss: 7.0894 - mae: 7.0894\n",
            "Epoch 72/100\n",
            "1/1 [==============================] - 0s 10ms/step - loss: 7.0838 - mae: 7.0838\n",
            "Epoch 73/100\n",
            "1/1 [==============================] - 0s 11ms/step - loss: 7.0781 - mae: 7.0781\n",
            "Epoch 74/100\n",
            "1/1 [==============================] - 0s 10ms/step - loss: 7.0725 - mae: 7.0725\n",
            "Epoch 75/100\n",
            "1/1 [==============================] - 0s 11ms/step - loss: 7.0669 - mae: 7.0669\n",
            "Epoch 76/100\n",
            "1/1 [==============================] - 0s 10ms/step - loss: 7.0613 - mae: 7.0613\n",
            "Epoch 77/100\n",
            "1/1 [==============================] - 0s 10ms/step - loss: 7.0556 - mae: 7.0556\n",
            "Epoch 78/100\n",
            "1/1 [==============================] - 0s 10ms/step - loss: 7.0500 - mae: 7.0500\n",
            "Epoch 79/100\n",
            "1/1 [==============================] - 0s 10ms/step - loss: 7.0444 - mae: 7.0444\n",
            "Epoch 80/100\n",
            "1/1 [==============================] - 0s 10ms/step - loss: 7.0388 - mae: 7.0388\n",
            "Epoch 81/100\n",
            "1/1 [==============================] - 0s 10ms/step - loss: 7.0331 - mae: 7.0331\n",
            "Epoch 82/100\n",
            "1/1 [==============================] - 0s 10ms/step - loss: 7.0275 - mae: 7.0275\n",
            "Epoch 83/100\n",
            "1/1 [==============================] - 0s 11ms/step - loss: 7.0219 - mae: 7.0219\n",
            "Epoch 84/100\n",
            "1/1 [==============================] - 0s 10ms/step - loss: 7.0163 - mae: 7.0163\n",
            "Epoch 85/100\n",
            "1/1 [==============================] - 0s 10ms/step - loss: 7.0106 - mae: 7.0106\n",
            "Epoch 86/100\n",
            "1/1 [==============================] - 0s 10ms/step - loss: 7.0050 - mae: 7.0050\n",
            "Epoch 87/100\n",
            "1/1 [==============================] - 0s 10ms/step - loss: 6.9994 - mae: 6.9994\n",
            "Epoch 88/100\n",
            "1/1 [==============================] - 0s 10ms/step - loss: 6.9938 - mae: 6.9938\n",
            "Epoch 89/100\n",
            "1/1 [==============================] - 0s 10ms/step - loss: 6.9881 - mae: 6.9881\n",
            "Epoch 90/100\n",
            "1/1 [==============================] - 0s 10ms/step - loss: 6.9825 - mae: 6.9825\n",
            "Epoch 91/100\n",
            "1/1 [==============================] - 0s 11ms/step - loss: 6.9769 - mae: 6.9769\n",
            "Epoch 92/100\n",
            "1/1 [==============================] - 0s 11ms/step - loss: 6.9713 - mae: 6.9713\n",
            "Epoch 93/100\n",
            "1/1 [==============================] - 0s 11ms/step - loss: 6.9656 - mae: 6.9656\n",
            "Epoch 94/100\n",
            "1/1 [==============================] - 0s 10ms/step - loss: 6.9600 - mae: 6.9600\n",
            "Epoch 95/100\n",
            "1/1 [==============================] - 0s 10ms/step - loss: 6.9544 - mae: 6.9544\n",
            "Epoch 96/100\n",
            "1/1 [==============================] - 0s 10ms/step - loss: 6.9488 - mae: 6.9488\n",
            "Epoch 97/100\n",
            "1/1 [==============================] - 0s 10ms/step - loss: 6.9431 - mae: 6.9431\n",
            "Epoch 98/100\n",
            "1/1 [==============================] - 0s 9ms/step - loss: 6.9375 - mae: 6.9375\n",
            "Epoch 99/100\n",
            "1/1 [==============================] - 0s 9ms/step - loss: 6.9319 - mae: 6.9319\n",
            "Epoch 100/100\n",
            "1/1 [==============================] - 0s 9ms/step - loss: 6.9263 - mae: 6.9263\n"
          ]
        },
        {
          "output_type": "execute_result",
          "data": {
            "text/plain": [
              "<keras.src.callbacks.History at 0x79524b40f700>"
            ]
          },
          "metadata": {},
          "execution_count": 10
        }
      ]
    },
    {
      "cell_type": "code",
      "source": [
        "X, y"
      ],
      "metadata": {
        "colab": {
          "base_uri": "https://localhost:8080/"
        },
        "id": "yfZalF_HBK7S",
        "outputId": "603f785f-81f2-4d54-ff37-64a33e9ff7f7"
      },
      "execution_count": 11,
      "outputs": [
        {
          "output_type": "execute_result",
          "data": {
            "text/plain": [
              "(<tf.Tensor: shape=(8,), dtype=float64, numpy=array([-7., -4., -1.,  2.,  5.,  8., 11., 14.])>,\n",
              " <tf.Tensor: shape=(8,), dtype=float64, numpy=array([ 3.,  6.,  9., 12., 15., 18., 21., 24.])>)"
            ]
          },
          "metadata": {},
          "execution_count": 11
        }
      ]
    },
    {
      "cell_type": "code",
      "source": [
        "model.predict([17.0])"
      ],
      "metadata": {
        "colab": {
          "base_uri": "https://localhost:8080/"
        },
        "id": "wtCKLilZBRVM",
        "outputId": "b38311d2-a513-47f5-c24a-64504d7387d8"
      },
      "execution_count": 12,
      "outputs": [
        {
          "output_type": "stream",
          "name": "stdout",
          "text": [
            "1/1 [==============================] - 0s 70ms/step\n"
          ]
        },
        {
          "output_type": "execute_result",
          "data": {
            "text/plain": [
              "array([[30.014729]], dtype=float32)"
            ]
          },
          "metadata": {},
          "execution_count": 12
        }
      ]
    },
    {
      "cell_type": "code",
      "source": [
        "model = tf.keras.Sequential([\n",
        "     tf.keras.layers.Dense(100, activation = 'relu'),\n",
        "     tf.keras.layers.Dense(100, activation = 'relu'),\n",
        "     tf.keras.layers.Dense(100, activation = 'relu'),\n",
        "     tf.keras.layers.Dense(1)\n",
        " ])\n",
        "\n",
        "\n",
        "model.compile(loss= 'mae',\n",
        "               optimizer = 'sgd',\n",
        "               metrics=[\"mae\"])\n",
        "\n",
        "model.fit(tf.expand_dims(X, axis = -1), y, epochs=100)"
      ],
      "metadata": {
        "colab": {
          "base_uri": "https://localhost:8080/"
        },
        "id": "ozZzNZ3i9sCC",
        "outputId": "9da64acd-d32f-4e4f-8f89-7999322ece50"
      },
      "execution_count": 13,
      "outputs": [
        {
          "output_type": "stream",
          "name": "stdout",
          "text": [
            "Epoch 1/100\n",
            "1/1 [==============================] - 1s 640ms/step - loss: 13.6500 - mae: 13.6500\n",
            "Epoch 2/100\n",
            "1/1 [==============================] - 0s 13ms/step - loss: 13.2090 - mae: 13.2090\n",
            "Epoch 3/100\n",
            "1/1 [==============================] - 0s 13ms/step - loss: 12.7789 - mae: 12.7789\n",
            "Epoch 4/100\n",
            "1/1 [==============================] - 0s 13ms/step - loss: 12.3505 - mae: 12.3505\n",
            "Epoch 5/100\n",
            "1/1 [==============================] - 0s 12ms/step - loss: 11.9056 - mae: 11.9056\n",
            "Epoch 6/100\n",
            "1/1 [==============================] - 0s 20ms/step - loss: 11.4109 - mae: 11.4109\n",
            "Epoch 7/100\n",
            "1/1 [==============================] - 0s 17ms/step - loss: 10.7993 - mae: 10.7993\n",
            "Epoch 8/100\n",
            "1/1 [==============================] - 0s 10ms/step - loss: 10.0821 - mae: 10.0821\n",
            "Epoch 9/100\n",
            "1/1 [==============================] - 0s 12ms/step - loss: 9.1863 - mae: 9.1863\n",
            "Epoch 10/100\n",
            "1/1 [==============================] - 0s 11ms/step - loss: 8.0237 - mae: 8.0237\n",
            "Epoch 11/100\n",
            "1/1 [==============================] - 0s 10ms/step - loss: 6.4850 - mae: 6.4850\n",
            "Epoch 12/100\n",
            "1/1 [==============================] - 0s 10ms/step - loss: 4.3924 - mae: 4.3924\n",
            "Epoch 13/100\n",
            "1/1 [==============================] - 0s 10ms/step - loss: 4.2445 - mae: 4.2445\n",
            "Epoch 14/100\n",
            "1/1 [==============================] - 0s 10ms/step - loss: 4.0097 - mae: 4.0097\n",
            "Epoch 15/100\n",
            "1/1 [==============================] - 0s 11ms/step - loss: 3.8637 - mae: 3.8637\n",
            "Epoch 16/100\n",
            "1/1 [==============================] - 0s 11ms/step - loss: 4.0238 - mae: 4.0238\n",
            "Epoch 17/100\n",
            "1/1 [==============================] - 0s 12ms/step - loss: 3.8133 - mae: 3.8133\n",
            "Epoch 18/100\n",
            "1/1 [==============================] - 0s 10ms/step - loss: 4.0397 - mae: 4.0397\n",
            "Epoch 19/100\n",
            "1/1 [==============================] - 0s 10ms/step - loss: 3.8604 - mae: 3.8604\n",
            "Epoch 20/100\n",
            "1/1 [==============================] - 0s 10ms/step - loss: 3.9500 - mae: 3.9500\n",
            "Epoch 21/100\n",
            "1/1 [==============================] - 0s 10ms/step - loss: 3.8751 - mae: 3.8751\n",
            "Epoch 22/100\n",
            "1/1 [==============================] - 0s 10ms/step - loss: 3.8944 - mae: 3.8944\n",
            "Epoch 23/100\n",
            "1/1 [==============================] - 0s 11ms/step - loss: 3.8907 - mae: 3.8907\n",
            "Epoch 24/100\n",
            "1/1 [==============================] - 0s 10ms/step - loss: 3.8365 - mae: 3.8365\n",
            "Epoch 25/100\n",
            "1/1 [==============================] - 0s 11ms/step - loss: 3.9095 - mae: 3.9095\n",
            "Epoch 26/100\n",
            "1/1 [==============================] - 0s 10ms/step - loss: 3.7772 - mae: 3.7772\n",
            "Epoch 27/100\n",
            "1/1 [==============================] - 0s 10ms/step - loss: 3.9287 - mae: 3.9287\n",
            "Epoch 28/100\n",
            "1/1 [==============================] - 0s 11ms/step - loss: 3.7237 - mae: 3.7237\n",
            "Epoch 29/100\n",
            "1/1 [==============================] - 0s 11ms/step - loss: 3.9514 - mae: 3.9514\n",
            "Epoch 30/100\n",
            "1/1 [==============================] - 0s 16ms/step - loss: 3.7740 - mae: 3.7740\n",
            "Epoch 31/100\n",
            "1/1 [==============================] - 0s 9ms/step - loss: 3.8498 - mae: 3.8498\n",
            "Epoch 32/100\n",
            "1/1 [==============================] - 0s 9ms/step - loss: 3.7916 - mae: 3.7916\n",
            "Epoch 33/100\n",
            "1/1 [==============================] - 0s 14ms/step - loss: 3.7882 - mae: 3.7882\n",
            "Epoch 34/100\n",
            "1/1 [==============================] - 0s 14ms/step - loss: 3.8115 - mae: 3.8115\n",
            "Epoch 35/100\n",
            "1/1 [==============================] - 0s 13ms/step - loss: 3.7238 - mae: 3.7238\n",
            "Epoch 36/100\n",
            "1/1 [==============================] - 0s 11ms/step - loss: 3.8347 - mae: 3.8347\n",
            "Epoch 37/100\n",
            "1/1 [==============================] - 0s 10ms/step - loss: 3.6573 - mae: 3.6573\n",
            "Epoch 38/100\n",
            "1/1 [==============================] - 0s 10ms/step - loss: 3.8576 - mae: 3.8576\n",
            "Epoch 39/100\n",
            "1/1 [==============================] - 0s 11ms/step - loss: 3.6560 - mae: 3.6560\n",
            "Epoch 40/100\n",
            "1/1 [==============================] - 0s 12ms/step - loss: 3.8222 - mae: 3.8222\n",
            "Epoch 41/100\n",
            "1/1 [==============================] - 0s 12ms/step - loss: 3.7123 - mae: 3.7123\n",
            "Epoch 42/100\n",
            "1/1 [==============================] - 0s 14ms/step - loss: 3.7165 - mae: 3.7165\n",
            "Epoch 43/100\n",
            "1/1 [==============================] - 0s 10ms/step - loss: 3.7347 - mae: 3.7347\n",
            "Epoch 44/100\n",
            "1/1 [==============================] - 0s 10ms/step - loss: 3.6476 - mae: 3.6476\n",
            "Epoch 45/100\n",
            "1/1 [==============================] - 0s 12ms/step - loss: 3.7588 - mae: 3.7588\n",
            "Epoch 46/100\n",
            "1/1 [==============================] - 0s 10ms/step - loss: 3.5739 - mae: 3.5739\n",
            "Epoch 47/100\n",
            "1/1 [==============================] - 0s 10ms/step - loss: 3.7875 - mae: 3.7875\n",
            "Epoch 48/100\n",
            "1/1 [==============================] - 0s 10ms/step - loss: 3.5888 - mae: 3.5888\n",
            "Epoch 49/100\n",
            "1/1 [==============================] - 0s 10ms/step - loss: 3.7155 - mae: 3.7155\n",
            "Epoch 50/100\n",
            "1/1 [==============================] - 0s 11ms/step - loss: 3.6472 - mae: 3.6472\n",
            "Epoch 51/100\n",
            "1/1 [==============================] - 0s 10ms/step - loss: 3.6218 - mae: 3.6218\n",
            "Epoch 52/100\n",
            "1/1 [==============================] - 0s 10ms/step - loss: 3.6725 - mae: 3.6725\n",
            "Epoch 53/100\n",
            "1/1 [==============================] - 0s 11ms/step - loss: 3.5471 - mae: 3.5471\n",
            "Epoch 54/100\n",
            "1/1 [==============================] - 0s 11ms/step - loss: 3.7007 - mae: 3.7007\n",
            "Epoch 55/100\n",
            "1/1 [==============================] - 0s 10ms/step - loss: 3.5104 - mae: 3.5104\n",
            "Epoch 56/100\n",
            "1/1 [==============================] - 0s 10ms/step - loss: 3.6762 - mae: 3.6762\n",
            "Epoch 57/100\n",
            "1/1 [==============================] - 0s 10ms/step - loss: 3.5388 - mae: 3.5388\n",
            "Epoch 58/100\n",
            "1/1 [==============================] - 0s 11ms/step - loss: 3.5975 - mae: 3.5975\n",
            "Epoch 59/100\n",
            "1/1 [==============================] - 0s 11ms/step - loss: 3.5691 - mae: 3.5691\n",
            "Epoch 60/100\n",
            "1/1 [==============================] - 0s 10ms/step - loss: 3.5184 - mae: 3.5184\n",
            "Epoch 61/100\n",
            "1/1 [==============================] - 0s 11ms/step - loss: 3.6004 - mae: 3.6004\n",
            "Epoch 62/100\n",
            "1/1 [==============================] - 0s 10ms/step - loss: 3.4356 - mae: 3.4356\n",
            "Epoch 63/100\n",
            "1/1 [==============================] - 0s 10ms/step - loss: 3.6323 - mae: 3.6323\n",
            "Epoch 64/100\n",
            "1/1 [==============================] - 0s 10ms/step - loss: 3.4467 - mae: 3.4467\n",
            "Epoch 65/100\n",
            "1/1 [==============================] - 0s 10ms/step - loss: 3.5403 - mae: 3.5403\n",
            "Epoch 66/100\n",
            "1/1 [==============================] - 0s 11ms/step - loss: 3.5077 - mae: 3.5077\n",
            "Epoch 67/100\n",
            "1/1 [==============================] - 0s 11ms/step - loss: 3.4561 - mae: 3.4561\n",
            "Epoch 68/100\n",
            "1/1 [==============================] - 0s 11ms/step - loss: 3.5395 - mae: 3.5395\n",
            "Epoch 69/100\n",
            "1/1 [==============================] - 0s 10ms/step - loss: 3.3691 - mae: 3.3691\n",
            "Epoch 70/100\n",
            "1/1 [==============================] - 0s 12ms/step - loss: 3.5733 - mae: 3.5733\n",
            "Epoch 71/100\n",
            "1/1 [==============================] - 0s 11ms/step - loss: 3.3856 - mae: 3.3856\n",
            "Epoch 72/100\n",
            "1/1 [==============================] - 0s 10ms/step - loss: 3.4891 - mae: 3.4891\n",
            "Epoch 73/100\n",
            "1/1 [==============================] - 0s 9ms/step - loss: 3.4182 - mae: 3.4182\n",
            "Epoch 74/100\n",
            "1/1 [==============================] - 0s 12ms/step - loss: 3.4041 - mae: 3.4041\n",
            "Epoch 75/100\n",
            "1/1 [==============================] - 0s 13ms/step - loss: 3.4856 - mae: 3.4856\n",
            "Epoch 76/100\n",
            "1/1 [==============================] - 0s 11ms/step - loss: 3.3045 - mae: 3.3045\n",
            "Epoch 77/100\n",
            "1/1 [==============================] - 0s 11ms/step - loss: 3.4931 - mae: 3.4931\n",
            "Epoch 78/100\n",
            "1/1 [==============================] - 0s 10ms/step - loss: 3.3385 - mae: 3.3385\n",
            "Epoch 79/100\n",
            "1/1 [==============================] - 0s 10ms/step - loss: 3.4003 - mae: 3.4003\n",
            "Epoch 80/100\n",
            "1/1 [==============================] - 0s 10ms/step - loss: 3.3729 - mae: 3.3729\n",
            "Epoch 81/100\n",
            "1/1 [==============================] - 0s 10ms/step - loss: 3.3060 - mae: 3.3060\n",
            "Epoch 82/100\n",
            "1/1 [==============================] - 0s 11ms/step - loss: 3.4093 - mae: 3.4093\n",
            "Epoch 83/100\n",
            "1/1 [==============================] - 0s 10ms/step - loss: 3.2317 - mae: 3.2317\n",
            "Epoch 84/100\n",
            "1/1 [==============================] - 0s 10ms/step - loss: 3.4108 - mae: 3.4108\n",
            "Epoch 85/100\n",
            "1/1 [==============================] - 0s 10ms/step - loss: 3.2680 - mae: 3.2680\n",
            "Epoch 86/100\n",
            "1/1 [==============================] - 0s 10ms/step - loss: 3.3181 - mae: 3.3181\n",
            "Epoch 87/100\n",
            "1/1 [==============================] - 0s 14ms/step - loss: 3.3376 - mae: 3.3376\n",
            "Epoch 88/100\n",
            "1/1 [==============================] - 0s 10ms/step - loss: 3.1930 - mae: 3.1930\n",
            "Epoch 89/100\n",
            "1/1 [==============================] - 0s 11ms/step - loss: 3.3749 - mae: 3.3749\n",
            "Epoch 90/100\n",
            "1/1 [==============================] - 0s 15ms/step - loss: 3.1951 - mae: 3.1951\n",
            "Epoch 91/100\n",
            "1/1 [==============================] - 0s 10ms/step - loss: 3.2927 - mae: 3.2927\n",
            "Epoch 92/100\n",
            "1/1 [==============================] - 0s 10ms/step - loss: 3.2310 - mae: 3.2310\n",
            "Epoch 93/100\n",
            "1/1 [==============================] - 0s 10ms/step - loss: 3.1881 - mae: 3.1881\n",
            "Epoch 94/100\n",
            "1/1 [==============================] - 0s 12ms/step - loss: 3.2688 - mae: 3.2688\n",
            "Epoch 95/100\n",
            "1/1 [==============================] - 0s 10ms/step - loss: 3.0959 - mae: 3.0959\n",
            "Epoch 96/100\n",
            "1/1 [==============================] - 0s 10ms/step - loss: 3.2790 - mae: 3.2790\n",
            "Epoch 97/100\n",
            "1/1 [==============================] - 0s 10ms/step - loss: 3.1639 - mae: 3.1639\n",
            "Epoch 98/100\n",
            "1/1 [==============================] - 0s 10ms/step - loss: 3.1527 - mae: 3.1527\n",
            "Epoch 99/100\n",
            "1/1 [==============================] - 0s 10ms/step - loss: 3.2014 - mae: 3.2014\n",
            "Epoch 100/100\n",
            "1/1 [==============================] - 0s 10ms/step - loss: 3.0389 - mae: 3.0389\n"
          ]
        },
        {
          "output_type": "execute_result",
          "data": {
            "text/plain": [
              "<keras.src.callbacks.History at 0x795247ae5120>"
            ]
          },
          "metadata": {},
          "execution_count": 13
        }
      ]
    },
    {
      "cell_type": "code",
      "source": [
        "model.predict([17.0])"
      ],
      "metadata": {
        "colab": {
          "base_uri": "https://localhost:8080/"
        },
        "id": "OeSJ1ESACV5S",
        "outputId": "426f1f5d-4dbf-4373-c0b8-0aec37ea0e6b"
      },
      "execution_count": 14,
      "outputs": [
        {
          "output_type": "stream",
          "name": "stdout",
          "text": [
            "1/1 [==============================] - 0s 88ms/step\n"
          ]
        },
        {
          "output_type": "execute_result",
          "data": {
            "text/plain": [
              "array([[34.342968]], dtype=float32)"
            ]
          },
          "metadata": {},
          "execution_count": 14
        }
      ]
    },
    {
      "cell_type": "code",
      "source": [
        "model = tf.keras.Sequential([\n",
        "     tf.keras.layers.Dense(100, activation = 'relu'),\n",
        "     tf.keras.layers.Dense(100, activation = 'relu'),\n",
        "     tf.keras.layers.Dense(100, activation = 'relu'),\n",
        "     tf.keras.layers.Dense(1)\n",
        " ])\n",
        "\n",
        "\n",
        "model.compile(loss= tf.keras.losses.mae,\n",
        "               optimizer = tf.keras.optimizers.Adam(learning_rate= 0.0001),\n",
        "               metrics=[\"mae\"])\n",
        "\n",
        "model.fit(tf.expand_dims(X, axis = -1), y, epochs=100)"
      ],
      "metadata": {
        "colab": {
          "base_uri": "https://localhost:8080/"
        },
        "id": "dL1kSFQ0CiZn",
        "outputId": "be879f68-f678-4c7b-8a30-311115e7550f"
      },
      "execution_count": 15,
      "outputs": [
        {
          "output_type": "stream",
          "name": "stdout",
          "text": [
            "Epoch 1/100\n",
            "1/1 [==============================] - 1s 975ms/step - loss: 14.0673 - mae: 14.0673\n",
            "Epoch 2/100\n",
            "1/1 [==============================] - 0s 13ms/step - loss: 14.0284 - mae: 14.0284\n",
            "Epoch 3/100\n",
            "1/1 [==============================] - 0s 11ms/step - loss: 13.9913 - mae: 13.9913\n",
            "Epoch 4/100\n",
            "1/1 [==============================] - 0s 14ms/step - loss: 13.9543 - mae: 13.9543\n",
            "Epoch 5/100\n",
            "1/1 [==============================] - 0s 14ms/step - loss: 13.9173 - mae: 13.9173\n",
            "Epoch 6/100\n",
            "1/1 [==============================] - 0s 12ms/step - loss: 13.8806 - mae: 13.8806\n",
            "Epoch 7/100\n",
            "1/1 [==============================] - 0s 11ms/step - loss: 13.8443 - mae: 13.8443\n",
            "Epoch 8/100\n",
            "1/1 [==============================] - 0s 11ms/step - loss: 13.8080 - mae: 13.8080\n",
            "Epoch 9/100\n",
            "1/1 [==============================] - 0s 13ms/step - loss: 13.7717 - mae: 13.7717\n",
            "Epoch 10/100\n",
            "1/1 [==============================] - 0s 12ms/step - loss: 13.7354 - mae: 13.7354\n",
            "Epoch 11/100\n",
            "1/1 [==============================] - 0s 13ms/step - loss: 13.6995 - mae: 13.6995\n",
            "Epoch 12/100\n",
            "1/1 [==============================] - 0s 11ms/step - loss: 13.6638 - mae: 13.6638\n",
            "Epoch 13/100\n",
            "1/1 [==============================] - 0s 12ms/step - loss: 13.6280 - mae: 13.6280\n",
            "Epoch 14/100\n",
            "1/1 [==============================] - 0s 12ms/step - loss: 13.5920 - mae: 13.5920\n",
            "Epoch 15/100\n",
            "1/1 [==============================] - 0s 14ms/step - loss: 13.5564 - mae: 13.5564\n",
            "Epoch 16/100\n",
            "1/1 [==============================] - 0s 11ms/step - loss: 13.5215 - mae: 13.5215\n",
            "Epoch 17/100\n",
            "1/1 [==============================] - 0s 11ms/step - loss: 13.4869 - mae: 13.4869\n",
            "Epoch 18/100\n",
            "1/1 [==============================] - 0s 11ms/step - loss: 13.4521 - mae: 13.4521\n",
            "Epoch 19/100\n",
            "1/1 [==============================] - 0s 10ms/step - loss: 13.4172 - mae: 13.4172\n",
            "Epoch 20/100\n",
            "1/1 [==============================] - 0s 10ms/step - loss: 13.3822 - mae: 13.3822\n",
            "Epoch 21/100\n",
            "1/1 [==============================] - 0s 10ms/step - loss: 13.3471 - mae: 13.3471\n",
            "Epoch 22/100\n",
            "1/1 [==============================] - 0s 12ms/step - loss: 13.3120 - mae: 13.3120\n",
            "Epoch 23/100\n",
            "1/1 [==============================] - 0s 9ms/step - loss: 13.2770 - mae: 13.2770\n",
            "Epoch 24/100\n",
            "1/1 [==============================] - 0s 14ms/step - loss: 13.2420 - mae: 13.2420\n",
            "Epoch 25/100\n",
            "1/1 [==============================] - 0s 16ms/step - loss: 13.2076 - mae: 13.2076\n",
            "Epoch 26/100\n",
            "1/1 [==============================] - 0s 17ms/step - loss: 13.1732 - mae: 13.1732\n",
            "Epoch 27/100\n",
            "1/1 [==============================] - 0s 14ms/step - loss: 13.1390 - mae: 13.1390\n",
            "Epoch 28/100\n",
            "1/1 [==============================] - 0s 13ms/step - loss: 13.1047 - mae: 13.1047\n",
            "Epoch 29/100\n",
            "1/1 [==============================] - 0s 13ms/step - loss: 13.0703 - mae: 13.0703\n",
            "Epoch 30/100\n",
            "1/1 [==============================] - 0s 11ms/step - loss: 13.0357 - mae: 13.0357\n",
            "Epoch 31/100\n",
            "1/1 [==============================] - 0s 11ms/step - loss: 13.0009 - mae: 13.0009\n",
            "Epoch 32/100\n",
            "1/1 [==============================] - 0s 14ms/step - loss: 12.9660 - mae: 12.9660\n",
            "Epoch 33/100\n",
            "1/1 [==============================] - 0s 13ms/step - loss: 12.9315 - mae: 12.9315\n",
            "Epoch 34/100\n",
            "1/1 [==============================] - 0s 14ms/step - loss: 12.8962 - mae: 12.8962\n",
            "Epoch 35/100\n",
            "1/1 [==============================] - 0s 12ms/step - loss: 12.8604 - mae: 12.8604\n",
            "Epoch 36/100\n",
            "1/1 [==============================] - 0s 11ms/step - loss: 12.8244 - mae: 12.8244\n",
            "Epoch 37/100\n",
            "1/1 [==============================] - 0s 13ms/step - loss: 12.7880 - mae: 12.7880\n",
            "Epoch 38/100\n",
            "1/1 [==============================] - 0s 13ms/step - loss: 12.7514 - mae: 12.7514\n",
            "Epoch 39/100\n",
            "1/1 [==============================] - 0s 12ms/step - loss: 12.7146 - mae: 12.7146\n",
            "Epoch 40/100\n",
            "1/1 [==============================] - 0s 11ms/step - loss: 12.6776 - mae: 12.6776\n",
            "Epoch 41/100\n",
            "1/1 [==============================] - 0s 12ms/step - loss: 12.6405 - mae: 12.6405\n",
            "Epoch 42/100\n",
            "1/1 [==============================] - 0s 15ms/step - loss: 12.6033 - mae: 12.6033\n",
            "Epoch 43/100\n",
            "1/1 [==============================] - 0s 12ms/step - loss: 12.5659 - mae: 12.5659\n",
            "Epoch 44/100\n",
            "1/1 [==============================] - 0s 11ms/step - loss: 12.5283 - mae: 12.5283\n",
            "Epoch 45/100\n",
            "1/1 [==============================] - 0s 14ms/step - loss: 12.4905 - mae: 12.4905\n",
            "Epoch 46/100\n",
            "1/1 [==============================] - 0s 13ms/step - loss: 12.4524 - mae: 12.4524\n",
            "Epoch 47/100\n",
            "1/1 [==============================] - 0s 11ms/step - loss: 12.4143 - mae: 12.4143\n",
            "Epoch 48/100\n",
            "1/1 [==============================] - 0s 18ms/step - loss: 12.3760 - mae: 12.3760\n",
            "Epoch 49/100\n",
            "1/1 [==============================] - 0s 14ms/step - loss: 12.3375 - mae: 12.3375\n",
            "Epoch 50/100\n",
            "1/1 [==============================] - 0s 11ms/step - loss: 12.2989 - mae: 12.2989\n",
            "Epoch 51/100\n",
            "1/1 [==============================] - 0s 12ms/step - loss: 12.2604 - mae: 12.2604\n",
            "Epoch 52/100\n",
            "1/1 [==============================] - 0s 13ms/step - loss: 12.2219 - mae: 12.2219\n",
            "Epoch 53/100\n",
            "1/1 [==============================] - 0s 12ms/step - loss: 12.1830 - mae: 12.1830\n",
            "Epoch 54/100\n",
            "1/1 [==============================] - 0s 13ms/step - loss: 12.1437 - mae: 12.1437\n",
            "Epoch 55/100\n",
            "1/1 [==============================] - 0s 14ms/step - loss: 12.1041 - mae: 12.1041\n",
            "Epoch 56/100\n",
            "1/1 [==============================] - 0s 12ms/step - loss: 12.0644 - mae: 12.0644\n",
            "Epoch 57/100\n",
            "1/1 [==============================] - 0s 10ms/step - loss: 12.0246 - mae: 12.0246\n",
            "Epoch 58/100\n",
            "1/1 [==============================] - 0s 11ms/step - loss: 11.9846 - mae: 11.9846\n",
            "Epoch 59/100\n",
            "1/1 [==============================] - 0s 14ms/step - loss: 11.9443 - mae: 11.9443\n",
            "Epoch 60/100\n",
            "1/1 [==============================] - 0s 11ms/step - loss: 11.9036 - mae: 11.9036\n",
            "Epoch 61/100\n",
            "1/1 [==============================] - 0s 14ms/step - loss: 11.8626 - mae: 11.8626\n",
            "Epoch 62/100\n",
            "1/1 [==============================] - 0s 12ms/step - loss: 11.8212 - mae: 11.8212\n",
            "Epoch 63/100\n",
            "1/1 [==============================] - 0s 10ms/step - loss: 11.7795 - mae: 11.7795\n",
            "Epoch 64/100\n",
            "1/1 [==============================] - 0s 10ms/step - loss: 11.7374 - mae: 11.7374\n",
            "Epoch 65/100\n",
            "1/1 [==============================] - 0s 12ms/step - loss: 11.6947 - mae: 11.6947\n",
            "Epoch 66/100\n",
            "1/1 [==============================] - 0s 16ms/step - loss: 11.6518 - mae: 11.6518\n",
            "Epoch 67/100\n",
            "1/1 [==============================] - 0s 12ms/step - loss: 11.6086 - mae: 11.6086\n",
            "Epoch 68/100\n",
            "1/1 [==============================] - 0s 11ms/step - loss: 11.5651 - mae: 11.5651\n",
            "Epoch 69/100\n",
            "1/1 [==============================] - 0s 12ms/step - loss: 11.5218 - mae: 11.5218\n",
            "Epoch 70/100\n",
            "1/1 [==============================] - 0s 13ms/step - loss: 11.4782 - mae: 11.4782\n",
            "Epoch 71/100\n",
            "1/1 [==============================] - 0s 14ms/step - loss: 11.4342 - mae: 11.4342\n",
            "Epoch 72/100\n",
            "1/1 [==============================] - 0s 11ms/step - loss: 11.3897 - mae: 11.3897\n",
            "Epoch 73/100\n",
            "1/1 [==============================] - 0s 12ms/step - loss: 11.3451 - mae: 11.3451\n",
            "Epoch 74/100\n",
            "1/1 [==============================] - 0s 10ms/step - loss: 11.3001 - mae: 11.3001\n",
            "Epoch 75/100\n",
            "1/1 [==============================] - 0s 14ms/step - loss: 11.2547 - mae: 11.2547\n",
            "Epoch 76/100\n",
            "1/1 [==============================] - 0s 13ms/step - loss: 11.2089 - mae: 11.2089\n",
            "Epoch 77/100\n",
            "1/1 [==============================] - 0s 13ms/step - loss: 11.1629 - mae: 11.1629\n",
            "Epoch 78/100\n",
            "1/1 [==============================] - 0s 14ms/step - loss: 11.1165 - mae: 11.1165\n",
            "Epoch 79/100\n",
            "1/1 [==============================] - 0s 12ms/step - loss: 11.0697 - mae: 11.0697\n",
            "Epoch 80/100\n",
            "1/1 [==============================] - 0s 15ms/step - loss: 11.0225 - mae: 11.0225\n",
            "Epoch 81/100\n",
            "1/1 [==============================] - 0s 11ms/step - loss: 10.9752 - mae: 10.9752\n",
            "Epoch 82/100\n",
            "1/1 [==============================] - 0s 13ms/step - loss: 10.9279 - mae: 10.9279\n",
            "Epoch 83/100\n",
            "1/1 [==============================] - 0s 11ms/step - loss: 10.8804 - mae: 10.8804\n",
            "Epoch 84/100\n",
            "1/1 [==============================] - 0s 12ms/step - loss: 10.8329 - mae: 10.8329\n",
            "Epoch 85/100\n",
            "1/1 [==============================] - 0s 13ms/step - loss: 10.7856 - mae: 10.7856\n",
            "Epoch 86/100\n",
            "1/1 [==============================] - 0s 13ms/step - loss: 10.7384 - mae: 10.7384\n",
            "Epoch 87/100\n",
            "1/1 [==============================] - 0s 13ms/step - loss: 10.6908 - mae: 10.6908\n",
            "Epoch 88/100\n",
            "1/1 [==============================] - 0s 11ms/step - loss: 10.6429 - mae: 10.6429\n",
            "Epoch 89/100\n",
            "1/1 [==============================] - 0s 11ms/step - loss: 10.6019 - mae: 10.6019\n",
            "Epoch 90/100\n",
            "1/1 [==============================] - 0s 12ms/step - loss: 10.5686 - mae: 10.5686\n",
            "Epoch 91/100\n",
            "1/1 [==============================] - 0s 15ms/step - loss: 10.5352 - mae: 10.5352\n",
            "Epoch 92/100\n",
            "1/1 [==============================] - 0s 12ms/step - loss: 10.5015 - mae: 10.5015\n",
            "Epoch 93/100\n",
            "1/1 [==============================] - 0s 15ms/step - loss: 10.4676 - mae: 10.4676\n",
            "Epoch 94/100\n",
            "1/1 [==============================] - 0s 14ms/step - loss: 10.4335 - mae: 10.4335\n",
            "Epoch 95/100\n",
            "1/1 [==============================] - 0s 13ms/step - loss: 10.3992 - mae: 10.3992\n",
            "Epoch 96/100\n",
            "1/1 [==============================] - 0s 14ms/step - loss: 10.3644 - mae: 10.3644\n",
            "Epoch 97/100\n",
            "1/1 [==============================] - 0s 14ms/step - loss: 10.3291 - mae: 10.3291\n",
            "Epoch 98/100\n",
            "1/1 [==============================] - 0s 13ms/step - loss: 10.2936 - mae: 10.2936\n",
            "Epoch 99/100\n",
            "1/1 [==============================] - 0s 12ms/step - loss: 10.2577 - mae: 10.2577\n",
            "Epoch 100/100\n",
            "1/1 [==============================] - 0s 10ms/step - loss: 10.2215 - mae: 10.2215\n"
          ]
        },
        {
          "output_type": "execute_result",
          "data": {
            "text/plain": [
              "<keras.src.callbacks.History at 0x7952464d8370>"
            ]
          },
          "metadata": {},
          "execution_count": 15
        }
      ]
    },
    {
      "cell_type": "code",
      "source": [
        "model.predict([17.0])"
      ],
      "metadata": {
        "colab": {
          "base_uri": "https://localhost:8080/"
        },
        "id": "WiDiAXd2DAp5",
        "outputId": "b079ac3a-388e-49cb-fba0-b9297b301419"
      },
      "execution_count": 16,
      "outputs": [
        {
          "output_type": "stream",
          "name": "stdout",
          "text": [
            "1/1 [==============================] - 0s 131ms/step\n"
          ]
        },
        {
          "output_type": "execute_result",
          "data": {
            "text/plain": [
              "array([[8.893619]], dtype=float32)"
            ]
          },
          "metadata": {},
          "execution_count": 16
        }
      ]
    },
    {
      "cell_type": "code",
      "source": [
        "model = tf.keras.Sequential([\n",
        "     tf.keras.layers.Dense(50, activation = None),\n",
        "     tf.keras.layers.Dense(1)\n",
        " ])\n",
        "\n",
        "\n",
        "model.compile(loss= tf.keras.losses.mae,\n",
        "               optimizer = tf.keras.optimizers.Adam(learning_rate= 0.01),\n",
        "               metrics=[\"mae\"])\n",
        "\n",
        "model.fit(tf.expand_dims(X, axis = -1), y, epochs=100)"
      ],
      "metadata": {
        "colab": {
          "base_uri": "https://localhost:8080/"
        },
        "id": "TeotYLnsDJv2",
        "outputId": "53edb93a-4039-4db6-d238-2e3b0d9e7330"
      },
      "execution_count": 43,
      "outputs": [
        {
          "output_type": "stream",
          "name": "stdout",
          "text": [
            "Epoch 1/100\n",
            "2/2 [==============================] - 1s 9ms/step - loss: 43.8012 - mae: 43.8012\n",
            "Epoch 2/100\n",
            "2/2 [==============================] - 0s 8ms/step - loss: 25.3794 - mae: 25.3794\n",
            "Epoch 3/100\n",
            "2/2 [==============================] - 0s 8ms/step - loss: 12.4624 - mae: 12.4624\n",
            "Epoch 4/100\n",
            "2/2 [==============================] - 0s 9ms/step - loss: 11.4317 - mae: 11.4317\n",
            "Epoch 5/100\n",
            "2/2 [==============================] - 0s 8ms/step - loss: 16.8937 - mae: 16.8937\n",
            "Epoch 6/100\n",
            "2/2 [==============================] - 0s 8ms/step - loss: 15.7841 - mae: 15.7841\n",
            "Epoch 7/100\n",
            "2/2 [==============================] - 0s 7ms/step - loss: 10.7293 - mae: 10.7293\n",
            "Epoch 8/100\n",
            "2/2 [==============================] - 0s 7ms/step - loss: 9.2571 - mae: 9.2571\n",
            "Epoch 9/100\n",
            "2/2 [==============================] - 0s 10ms/step - loss: 8.6483 - mae: 8.6483\n",
            "Epoch 10/100\n",
            "2/2 [==============================] - 0s 8ms/step - loss: 10.8043 - mae: 10.8043\n",
            "Epoch 11/100\n",
            "2/2 [==============================] - 0s 8ms/step - loss: 10.2701 - mae: 10.2701\n",
            "Epoch 12/100\n",
            "2/2 [==============================] - 0s 8ms/step - loss: 8.2183 - mae: 8.2183\n",
            "Epoch 13/100\n",
            "2/2 [==============================] - 0s 7ms/step - loss: 8.0577 - mae: 8.0577\n",
            "Epoch 14/100\n",
            "2/2 [==============================] - 0s 7ms/step - loss: 8.2503 - mae: 8.2503\n",
            "Epoch 15/100\n",
            "2/2 [==============================] - 0s 8ms/step - loss: 8.4852 - mae: 8.4852\n",
            "Epoch 16/100\n",
            "2/2 [==============================] - 0s 7ms/step - loss: 8.1792 - mae: 8.1792\n",
            "Epoch 17/100\n",
            "2/2 [==============================] - 0s 8ms/step - loss: 7.2097 - mae: 7.2097\n",
            "Epoch 18/100\n",
            "2/2 [==============================] - 0s 7ms/step - loss: 6.9685 - mae: 6.9685\n",
            "Epoch 19/100\n",
            "2/2 [==============================] - 0s 8ms/step - loss: 6.6370 - mae: 6.6370\n",
            "Epoch 20/100\n",
            "2/2 [==============================] - 0s 9ms/step - loss: 6.7766 - mae: 6.7766\n",
            "Epoch 21/100\n",
            "2/2 [==============================] - 0s 8ms/step - loss: 6.5873 - mae: 6.5873\n",
            "Epoch 22/100\n",
            "2/2 [==============================] - 0s 9ms/step - loss: 6.1344 - mae: 6.1344\n",
            "Epoch 23/100\n",
            "2/2 [==============================] - 0s 11ms/step - loss: 5.8612 - mae: 5.8612\n",
            "Epoch 24/100\n",
            "2/2 [==============================] - 0s 12ms/step - loss: 5.7024 - mae: 5.7024\n",
            "Epoch 25/100\n",
            "2/2 [==============================] - 0s 8ms/step - loss: 5.6147 - mae: 5.6147\n",
            "Epoch 26/100\n",
            "2/2 [==============================] - 0s 9ms/step - loss: 5.3476 - mae: 5.3476\n",
            "Epoch 27/100\n",
            "2/2 [==============================] - 0s 7ms/step - loss: 4.9517 - mae: 4.9517\n",
            "Epoch 28/100\n",
            "2/2 [==============================] - 0s 8ms/step - loss: 4.6434 - mae: 4.6434\n",
            "Epoch 29/100\n",
            "2/2 [==============================] - 0s 8ms/step - loss: 4.3214 - mae: 4.3214\n",
            "Epoch 30/100\n",
            "2/2 [==============================] - 0s 8ms/step - loss: 4.0278 - mae: 4.0278\n",
            "Epoch 31/100\n",
            "2/2 [==============================] - 0s 9ms/step - loss: 3.7445 - mae: 3.7445\n",
            "Epoch 32/100\n",
            "2/2 [==============================] - 0s 8ms/step - loss: 3.3985 - mae: 3.3985\n",
            "Epoch 33/100\n",
            "2/2 [==============================] - 0s 8ms/step - loss: 3.0311 - mae: 3.0311\n",
            "Epoch 34/100\n",
            "2/2 [==============================] - 0s 8ms/step - loss: 2.7994 - mae: 2.7994\n",
            "Epoch 35/100\n",
            "2/2 [==============================] - 0s 9ms/step - loss: 2.3074 - mae: 2.3074\n",
            "Epoch 36/100\n",
            "2/2 [==============================] - 0s 7ms/step - loss: 1.8749 - mae: 1.8749\n",
            "Epoch 37/100\n",
            "2/2 [==============================] - 0s 8ms/step - loss: 1.6184 - mae: 1.6184\n",
            "Epoch 38/100\n",
            "2/2 [==============================] - 0s 7ms/step - loss: 1.0366 - mae: 1.0366\n",
            "Epoch 39/100\n",
            "2/2 [==============================] - 0s 7ms/step - loss: 1.0220 - mae: 1.0220\n",
            "Epoch 40/100\n",
            "2/2 [==============================] - 0s 8ms/step - loss: 2.2569 - mae: 2.2569\n",
            "Epoch 41/100\n",
            "2/2 [==============================] - 0s 7ms/step - loss: 0.2002 - mae: 0.2002\n",
            "Epoch 42/100\n",
            "2/2 [==============================] - 0s 7ms/step - loss: 0.7692 - mae: 0.7692\n",
            "Epoch 43/100\n",
            "2/2 [==============================] - 0s 8ms/step - loss: 0.9554 - mae: 0.9554\n",
            "Epoch 44/100\n",
            "2/2 [==============================] - 0s 8ms/step - loss: 0.7541 - mae: 0.7541\n",
            "Epoch 45/100\n",
            "2/2 [==============================] - 0s 8ms/step - loss: 0.7798 - mae: 0.7798\n",
            "Epoch 46/100\n",
            "2/2 [==============================] - 0s 8ms/step - loss: 0.5626 - mae: 0.5626\n",
            "Epoch 47/100\n",
            "2/2 [==============================] - 0s 8ms/step - loss: 0.2560 - mae: 0.2560\n",
            "Epoch 48/100\n",
            "2/2 [==============================] - 0s 8ms/step - loss: 0.6454 - mae: 0.6454\n",
            "Epoch 49/100\n",
            "2/2 [==============================] - 0s 8ms/step - loss: 2.6393 - mae: 2.6393\n",
            "Epoch 50/100\n",
            "2/2 [==============================] - 0s 8ms/step - loss: 1.5442 - mae: 1.5442\n",
            "Epoch 51/100\n",
            "2/2 [==============================] - 0s 9ms/step - loss: 2.2691 - mae: 2.2691\n",
            "Epoch 52/100\n",
            "2/2 [==============================] - 0s 7ms/step - loss: 0.9122 - mae: 0.9122\n",
            "Epoch 53/100\n",
            "2/2 [==============================] - 0s 8ms/step - loss: 1.7373 - mae: 1.7373\n",
            "Epoch 54/100\n",
            "2/2 [==============================] - 0s 8ms/step - loss: 2.0879 - mae: 2.0879\n",
            "Epoch 55/100\n",
            "2/2 [==============================] - 0s 7ms/step - loss: 1.5124 - mae: 1.5124\n",
            "Epoch 56/100\n",
            "2/2 [==============================] - 0s 8ms/step - loss: 2.1245 - mae: 2.1245\n",
            "Epoch 57/100\n",
            "2/2 [==============================] - 0s 8ms/step - loss: 1.1492 - mae: 1.1492\n",
            "Epoch 58/100\n",
            "2/2 [==============================] - 0s 9ms/step - loss: 1.4227 - mae: 1.4227\n",
            "Epoch 59/100\n",
            "2/2 [==============================] - 0s 8ms/step - loss: 1.3762 - mae: 1.3762\n",
            "Epoch 60/100\n",
            "2/2 [==============================] - 0s 9ms/step - loss: 0.9825 - mae: 0.9825\n",
            "Epoch 61/100\n",
            "2/2 [==============================] - 0s 9ms/step - loss: 1.4500 - mae: 1.4500\n",
            "Epoch 62/100\n",
            "2/2 [==============================] - 0s 10ms/step - loss: 1.7922 - mae: 1.7922\n",
            "Epoch 63/100\n",
            "2/2 [==============================] - 0s 9ms/step - loss: 1.2272 - mae: 1.2272\n",
            "Epoch 64/100\n",
            "2/2 [==============================] - 0s 9ms/step - loss: 1.0450 - mae: 1.0450\n",
            "Epoch 65/100\n",
            "2/2 [==============================] - 0s 8ms/step - loss: 1.4909 - mae: 1.4909\n",
            "Epoch 66/100\n",
            "2/2 [==============================] - 0s 9ms/step - loss: 1.0225 - mae: 1.0225\n",
            "Epoch 67/100\n",
            "2/2 [==============================] - 0s 9ms/step - loss: 1.6433 - mae: 1.6433\n",
            "Epoch 68/100\n",
            "2/2 [==============================] - 0s 9ms/step - loss: 0.7404 - mae: 0.7404\n",
            "Epoch 69/100\n",
            "2/2 [==============================] - 0s 8ms/step - loss: 0.1651 - mae: 0.1651\n",
            "Epoch 70/100\n",
            "2/2 [==============================] - 0s 8ms/step - loss: 0.5815 - mae: 0.5815\n",
            "Epoch 71/100\n",
            "2/2 [==============================] - 0s 8ms/step - loss: 1.4356 - mae: 1.4356\n",
            "Epoch 72/100\n",
            "2/2 [==============================] - 0s 8ms/step - loss: 0.9588 - mae: 0.9588\n",
            "Epoch 73/100\n",
            "2/2 [==============================] - 0s 9ms/step - loss: 2.2908 - mae: 2.2908\n",
            "Epoch 74/100\n",
            "2/2 [==============================] - 0s 8ms/step - loss: 1.0568 - mae: 1.0568\n",
            "Epoch 75/100\n",
            "2/2 [==============================] - 0s 8ms/step - loss: 3.0055 - mae: 3.0055\n",
            "Epoch 76/100\n",
            "2/2 [==============================] - 0s 8ms/step - loss: 1.2601 - mae: 1.2601\n",
            "Epoch 77/100\n",
            "2/2 [==============================] - 0s 9ms/step - loss: 3.2264 - mae: 3.2264\n",
            "Epoch 78/100\n",
            "2/2 [==============================] - 0s 8ms/step - loss: 1.5173 - mae: 1.5173\n",
            "Epoch 79/100\n",
            "2/2 [==============================] - 0s 13ms/step - loss: 1.2158 - mae: 1.2158\n",
            "Epoch 80/100\n",
            "2/2 [==============================] - 0s 10ms/step - loss: 0.2953 - mae: 0.2953\n",
            "Epoch 81/100\n",
            "2/2 [==============================] - 0s 8ms/step - loss: 0.6692 - mae: 0.6692\n",
            "Epoch 82/100\n",
            "2/2 [==============================] - 0s 8ms/step - loss: 0.7427 - mae: 0.7427\n",
            "Epoch 83/100\n",
            "2/2 [==============================] - 0s 8ms/step - loss: 0.2095 - mae: 0.2095\n",
            "Epoch 84/100\n",
            "2/2 [==============================] - 0s 9ms/step - loss: 1.2692 - mae: 1.2692\n",
            "Epoch 85/100\n",
            "2/2 [==============================] - 0s 9ms/step - loss: 0.8404 - mae: 0.8404\n",
            "Epoch 86/100\n",
            "2/2 [==============================] - 0s 8ms/step - loss: 2.4054 - mae: 2.4054\n",
            "Epoch 87/100\n",
            "2/2 [==============================] - 0s 8ms/step - loss: 1.0095 - mae: 1.0095\n",
            "Epoch 88/100\n",
            "2/2 [==============================] - 0s 8ms/step - loss: 3.5179 - mae: 3.5179\n",
            "Epoch 89/100\n",
            "2/2 [==============================] - 0s 9ms/step - loss: 1.8278 - mae: 1.8278\n",
            "Epoch 90/100\n",
            "2/2 [==============================] - 0s 8ms/step - loss: 2.6834 - mae: 2.6834\n",
            "Epoch 91/100\n",
            "2/2 [==============================] - 0s 8ms/step - loss: 3.7781 - mae: 3.7781\n",
            "Epoch 92/100\n",
            "2/2 [==============================] - 0s 8ms/step - loss: 1.3833 - mae: 1.3833\n",
            "Epoch 93/100\n",
            "2/2 [==============================] - 0s 8ms/step - loss: 2.6591 - mae: 2.6591\n",
            "Epoch 94/100\n",
            "2/2 [==============================] - 0s 8ms/step - loss: 1.2180 - mae: 1.2180\n",
            "Epoch 95/100\n",
            "2/2 [==============================] - 0s 8ms/step - loss: 1.8559 - mae: 1.8559\n",
            "Epoch 96/100\n",
            "2/2 [==============================] - 0s 8ms/step - loss: 0.9927 - mae: 0.9927\n",
            "Epoch 97/100\n",
            "2/2 [==============================] - 0s 8ms/step - loss: 0.3950 - mae: 0.3950\n",
            "Epoch 98/100\n",
            "2/2 [==============================] - 0s 8ms/step - loss: 0.3154 - mae: 0.3154\n",
            "Epoch 99/100\n",
            "2/2 [==============================] - 0s 8ms/step - loss: 0.0812 - mae: 0.0812\n",
            "Epoch 100/100\n",
            "2/2 [==============================] - 0s 8ms/step - loss: 0.7751 - mae: 0.7751\n"
          ]
        },
        {
          "output_type": "execute_result",
          "data": {
            "text/plain": [
              "<keras.src.callbacks.History at 0x79524b909780>"
            ]
          },
          "metadata": {},
          "execution_count": 43
        }
      ]
    },
    {
      "cell_type": "code",
      "source": [
        "model.predict([17.0])"
      ],
      "metadata": {
        "id": "COql0qpoEmqw",
        "outputId": "10b38a66-31f5-44f8-ff4d-9cd2ff731d84",
        "colab": {
          "base_uri": "https://localhost:8080/"
        }
      },
      "execution_count": 44,
      "outputs": [
        {
          "output_type": "stream",
          "name": "stdout",
          "text": [
            "1/1 [==============================] - 0s 74ms/step\n"
          ]
        },
        {
          "output_type": "execute_result",
          "data": {
            "text/plain": [
              "array([[26.791862]], dtype=float32)"
            ]
          },
          "metadata": {},
          "execution_count": 44
        }
      ]
    },
    {
      "cell_type": "markdown",
      "source": [
        "## Evaluating a model"
      ],
      "metadata": {
        "id": "IHlhIUEREqLW"
      }
    },
    {
      "cell_type": "markdown",
      "source": [
        "```\n",
        "Build a model -> fit it -> evaluate it -> tweak a model -> fit it -> evaluate it.......\n",
        "```\n",
        "\n"
      ],
      "metadata": {
        "id": "RfxoGpII8nWU"
      }
    },
    {
      "cell_type": "markdown",
      "source": [
        "When it comes to evaluation. we have to do\n",
        "\n",
        "> Visualization\n",
        "\n",
        "It's a good idea to visualize:\n",
        "\n",
        "* The data - what data are we working with ? what does it looks like?\n",
        "* The model itself - what does our model looks like?\n",
        "* The training of model - how does a model perform while it learns?\n",
        "* The prediction of the model - how do the predictions of a model line up against the ground truth."
      ],
      "metadata": {
        "id": "Y3wK9J089RLB"
      }
    },
    {
      "cell_type": "code",
      "source": [
        "# Make a bigger dataset\n",
        "\n",
        "X = tf.range(-100, 100, 4)\n",
        "X"
      ],
      "metadata": {
        "colab": {
          "base_uri": "https://localhost:8080/"
        },
        "id": "Trie4RVl-P6n",
        "outputId": "77c12817-7d01-4a51-c000-45a0bbd1b8dd"
      },
      "execution_count": 19,
      "outputs": [
        {
          "output_type": "execute_result",
          "data": {
            "text/plain": [
              "<tf.Tensor: shape=(50,), dtype=int32, numpy=\n",
              "array([-100,  -96,  -92,  -88,  -84,  -80,  -76,  -72,  -68,  -64,  -60,\n",
              "        -56,  -52,  -48,  -44,  -40,  -36,  -32,  -28,  -24,  -20,  -16,\n",
              "        -12,   -8,   -4,    0,    4,    8,   12,   16,   20,   24,   28,\n",
              "         32,   36,   40,   44,   48,   52,   56,   60,   64,   68,   72,\n",
              "         76,   80,   84,   88,   92,   96], dtype=int32)>"
            ]
          },
          "metadata": {},
          "execution_count": 19
        }
      ]
    },
    {
      "cell_type": "code",
      "source": [
        "y = X +10\n",
        "y"
      ],
      "metadata": {
        "colab": {
          "base_uri": "https://localhost:8080/"
        },
        "id": "el6mh5YV-c3l",
        "outputId": "8ae08235-accc-494c-fe72-064630fc218d"
      },
      "execution_count": 20,
      "outputs": [
        {
          "output_type": "execute_result",
          "data": {
            "text/plain": [
              "<tf.Tensor: shape=(50,), dtype=int32, numpy=\n",
              "array([-90, -86, -82, -78, -74, -70, -66, -62, -58, -54, -50, -46, -42,\n",
              "       -38, -34, -30, -26, -22, -18, -14, -10,  -6,  -2,   2,   6,  10,\n",
              "        14,  18,  22,  26,  30,  34,  38,  42,  46,  50,  54,  58,  62,\n",
              "        66,  70,  74,  78,  82,  86,  90,  94,  98, 102, 106], dtype=int32)>"
            ]
          },
          "metadata": {},
          "execution_count": 20
        }
      ]
    },
    {
      "cell_type": "code",
      "source": [
        "# visualize the data\n",
        "import matplotlib.pyplot as plt\n",
        "plt.scatter(X,y)"
      ],
      "metadata": {
        "colab": {
          "base_uri": "https://localhost:8080/",
          "height": 447
        },
        "id": "vbhN48Ep-geM",
        "outputId": "37ffcf31-9ed9-442b-a7f4-7fd824da5256"
      },
      "execution_count": 21,
      "outputs": [
        {
          "output_type": "execute_result",
          "data": {
            "text/plain": [
              "<matplotlib.collections.PathCollection at 0x79524aae6b60>"
            ]
          },
          "metadata": {},
          "execution_count": 21
        },
        {
          "output_type": "display_data",
          "data": {
            "text/plain": [
              "<Figure size 640x480 with 1 Axes>"
            ],
            "image/png": "[encoded data removed]"
          },
          "metadata": {}
        }
      ]
    },
    {
      "cell_type": "markdown",
      "source": [
        "### 3 sets\n",
        "\n",
        "* Training set - the model learns from this data, which is around 79-80% of total data\n",
        "* Valdation set - the model gets tuned on this data, which is around 10-15% of total data\n",
        "* Test set - the model gets evaluated on this data, which is typically 10- 15% of total data\n"
      ],
      "metadata": {
        "id": "RUf8fCskADV1"
      }
    },
    {
      "cell_type": "code",
      "source": [
        "X_train = X[:40]\n",
        "X_test = X[40:]"
      ],
      "metadata": {
        "id": "aRCcdgb8_QL5"
      },
      "execution_count": 22,
      "outputs": []
    },
    {
      "cell_type": "code",
      "source": [
        "y_train = y[:40]\n",
        "y_test = y[40:]"
      ],
      "metadata": {
        "id": "_SxUELfs-mpq"
      },
      "execution_count": 23,
      "outputs": []
    },
    {
      "cell_type": "code",
      "source": [
        "len(X_train), len(X_test), len(y_train), len(y_test)"
      ],
      "metadata": {
        "colab": {
          "base_uri": "https://localhost:8080/"
        },
        "id": "c4Sthq3w_GbD",
        "outputId": "186b28d3-3752-478c-ae15-bdca0b4673e1"
      },
      "execution_count": 24,
      "outputs": [
        {
          "output_type": "execute_result",
          "data": {
            "text/plain": [
              "(40, 10, 40, 10)"
            ]
          },
          "metadata": {},
          "execution_count": 24
        }
      ]
    },
    {
      "cell_type": "markdown",
      "source": [
        "### visualizing the data"
      ],
      "metadata": {
        "id": "KHDHZM9wB1MK"
      }
    },
    {
      "cell_type": "code",
      "source": [
        "plt.figure(figsize = (10, 7))\n",
        "\n",
        "plt.scatter(X_train, y_train, c = 'b', label = 'Training data')\n",
        "\n",
        "plt.scatter(X_test, y_test, c = 'g', label = 'Testing data')\n",
        "\n",
        "plt.legend()"
      ],
      "metadata": {
        "colab": {
          "base_uri": "https://localhost:8080/",
          "height": 616
        },
        "id": "B3pf4eFUCK5I",
        "outputId": "d3d34b36-9ba6-4ad0-f839-a67307c2a103"
      },
      "execution_count": 25,
      "outputs": [
        {
          "output_type": "execute_result",
          "data": {
            "text/plain": [
              "<matplotlib.legend.Legend at 0x79524a98dc00>"
            ]
          },
          "metadata": {},
          "execution_count": 25
        },
        {
          "output_type": "display_data",
          "data": {
            "text/plain": [
              "<Figure size 1000x700 with 1 Axes>"
            ],
            "image/png": "[encoded data removed]"
          },
          "metadata": {}
        }
      ]
    },
    {
      "cell_type": "code",
      "source": [
        "model = tf.keras.Sequential([\n",
        "    tf.keras.layers.Dense(1)\n",
        "])\n",
        "\n",
        "model.compile(loss = tf.losses.mae,\n",
        "              optimizer = tf.optimizers.SGD(),\n",
        "              metrics = ['mae'])\n",
        "\n",
        "# model.fit(X_train, y_train, epochs = 100)"
      ],
      "metadata": {
        "id": "TbbMrwNfCihh"
      },
      "execution_count": 26,
      "outputs": []
    },
    {
      "cell_type": "code",
      "source": [
        "model.summary()"
      ],
      "metadata": {
        "colab": {
          "base_uri": "https://localhost:8080/",
          "height": 298
        },
        "id": "vV4aj5iJU_hG",
        "outputId": "0e638996-b934-4bb1-f0b9-4f00fa738ff9"
      },
      "execution_count": 27,
      "outputs": [
        {
          "output_type": "error",
          "ename": "ValueError",
          "evalue": "This model has not yet been built. Build the model first by calling `build()` or by calling the model on a batch of data.",
          "traceback": [
            "\u001b[0;31m---------------------------------------------------------------------------\u001b[0m",
            "\u001b[0;31mValueError\u001b[0m                                Traceback (most recent call last)",
            "\u001b[0;32m<ipython-input-27-5f15418b3570>\u001b[0m in \u001b[0;36m<cell line: 1>\u001b[0;34m()\u001b[0m\n\u001b[0;32m----> 1\u001b[0;31m \u001b[0mmodel\u001b[0m\u001b[0;34m.\u001b[0m\u001b[0msummary\u001b[0m\u001b[0;34m(\u001b[0m\u001b[0;34m)\u001b[0m\u001b[0;34m\u001b[0m\u001b[0;34m\u001b[0m\u001b[0m\n\u001b[0m",
            "\u001b[0;32m/usr/local/lib/python3.10/dist-packages/keras/src/engine/training.py\u001b[0m in \u001b[0;36msummary\u001b[0;34m(self, line_length, positions, print_fn, expand_nested, show_trainable, layer_range)\u001b[0m\n\u001b[1;32m   3504\u001b[0m         \"\"\"\n\u001b[1;32m   3505\u001b[0m         \u001b[0;32mif\u001b[0m \u001b[0;32mnot\u001b[0m \u001b[0mself\u001b[0m\u001b[0;34m.\u001b[0m\u001b[0mbuilt\u001b[0m\u001b[0;34m:\u001b[0m\u001b[0;34m\u001b[0m\u001b[0;34m\u001b[0m\u001b[0m\n\u001b[0;32m-> 3506\u001b[0;31m             raise ValueError(\n\u001b[0m\u001b[1;32m   3507\u001b[0m                 \u001b[0;34m\"This model has not yet been built. \"\u001b[0m\u001b[0;34m\u001b[0m\u001b[0;34m\u001b[0m\u001b[0m\n\u001b[1;32m   3508\u001b[0m                 \u001b[0;34m\"Build the model first by calling `build()` or by calling \"\u001b[0m\u001b[0;34m\u001b[0m\u001b[0;34m\u001b[0m\u001b[0m\n",
            "\u001b[0;31mValueError\u001b[0m: This model has not yet been built. Build the model first by calling `build()` or by calling the model on a batch of data."
          ]
        }
      ]
    },
    {
      "cell_type": "code",
      "source": [
        " tf.random.set_seed(42)\n",
        "\n",
        " model = tf.keras.Sequential([\n",
        "     tf.keras.layers.Dense(10, input_shape = [1],name='input_layer'),\n",
        "     tf.keras.layers.Dense(1, name = 'output_layer')\n",
        " ], name = \"Model_1\")\n",
        "\n",
        " model.compile(loss=tf.keras.losses.mae,\n",
        "               optimizer = tf.keras.optimizers.SGD(),\n",
        "               metrics = ['mae'])"
      ],
      "metadata": {
        "id": "9CMXOISnVDvO"
      },
      "execution_count": 28,
      "outputs": []
    },
    {
      "cell_type": "code",
      "source": [
        "model.summary()"
      ],
      "metadata": {
        "colab": {
          "base_uri": "https://localhost:8080/"
        },
        "id": "4Uxs1ShgWO46",
        "outputId": "2b94dd37-d5e2-40a2-f871-b329d94eb927"
      },
      "execution_count": 29,
      "outputs": [
        {
          "output_type": "stream",
          "name": "stdout",
          "text": [
            "Model: \"Model_1\"\n",
            "_________________________________________________________________\n",
            " Layer (type)                Output Shape              Param #   \n",
            "=================================================================\n",
            " input_layer (Dense)         (None, 10)                20        \n",
            "                                                                 \n",
            " output_layer (Dense)        (None, 1)                 11        \n",
            "                                                                 \n",
            "=================================================================\n",
            "Total params: 31 (124.00 Byte)\n",
            "Trainable params: 31 (124.00 Byte)\n",
            "Non-trainable params: 0 (0.00 Byte)\n",
            "_________________________________________________________________\n"
          ]
        }
      ]
    },
    {
      "cell_type": "code",
      "source": [
        "model.fit(X_train, y_train, epochs = 100, verbose=0)"
      ],
      "metadata": {
        "colab": {
          "base_uri": "https://localhost:8080/"
        },
        "id": "dSaXMn9vWSQE",
        "outputId": "bcb6cafb-c60c-4973-fd75-1b0173d60a58"
      },
      "execution_count": 30,
      "outputs": [
        {
          "output_type": "execute_result",
          "data": {
            "text/plain": [
              "<keras.src.callbacks.History at 0x79524a570f70>"
            ]
          },
          "metadata": {},
          "execution_count": 30
        }
      ]
    },
    {
      "cell_type": "code",
      "source": [
        "model.summary()"
      ],
      "metadata": {
        "id": "X_BS8v57Xhyy",
        "colab": {
          "base_uri": "https://localhost:8080/"
        },
        "outputId": "95091994-8743-40cf-b92a-eeca6b690c8d"
      },
      "execution_count": 31,
      "outputs": [
        {
          "output_type": "stream",
          "name": "stdout",
          "text": [
            "Model: \"Model_1\"\n",
            "_________________________________________________________________\n",
            " Layer (type)                Output Shape              Param #   \n",
            "=================================================================\n",
            " input_layer (Dense)         (None, 10)                20        \n",
            "                                                                 \n",
            " output_layer (Dense)        (None, 1)                 11        \n",
            "                                                                 \n",
            "=================================================================\n",
            "Total params: 31 (124.00 Byte)\n",
            "Trainable params: 31 (124.00 Byte)\n",
            "Non-trainable params: 0 (0.00 Byte)\n",
            "_________________________________________________________________\n"
          ]
        }
      ]
    },
    {
      "cell_type": "code",
      "source": [
        "from tensorflow.keras.utils import plot_model\n",
        "\n",
        "plot_model(model,show_shapes=True)"
      ],
      "metadata": {
        "colab": {
          "base_uri": "https://localhost:8080/",
          "height": 312
        },
        "id": "w2pFLNoaZZCX",
        "outputId": "6a50fa93-a51c-45e2-e48c-48fe6366e07f"
      },
      "execution_count": 32,
      "outputs": [
        {
          "output_type": "execute_result",
          "data": {
            "image/png": "[encoded data removed]",
            "text/plain": [
              "<IPython.core.display.Image object>"
            ]
          },
          "metadata": {},
          "execution_count": 32
        }
      ]
    },
    {
      "cell_type": "markdown",
      "source": [
        "## Visualize our Model's prediction"
      ],
      "metadata": {
        "id": "QOfrhKlXZ3TD"
      }
    },
    {
      "cell_type": "code",
      "source": [
        "y_pred = model.predict(X_test)\n",
        "y_pred"
      ],
      "metadata": {
        "colab": {
          "base_uri": "https://localhost:8080/"
        },
        "id": "XhPdCIXzcIuQ",
        "outputId": "40c5be57-3bfa-4fab-e7d0-b00e639fc33c"
      },
      "execution_count": 49,
      "outputs": [
        {
          "output_type": "stream",
          "name": "stdout",
          "text": [
            "1/1 [==============================] - 0s 21ms/step\n"
          ]
        },
        {
          "output_type": "execute_result",
          "data": {
            "text/plain": [
              "array([[ 69.38169 ],\n",
              "       [ 73.34353 ],\n",
              "       [ 77.305374],\n",
              "       [ 81.26722 ],\n",
              "       [ 85.22906 ],\n",
              "       [ 89.19091 ],\n",
              "       [ 93.15274 ],\n",
              "       [ 97.114586],\n",
              "       [101.07645 ],\n",
              "       [105.038284]], dtype=float32)"
            ]
          },
          "metadata": {},
          "execution_count": 49
        }
      ]
    },
    {
      "cell_type": "code",
      "source": [
        "y_test"
      ],
      "metadata": {
        "colab": {
          "base_uri": "https://localhost:8080/"
        },
        "id": "foXoJMz6ceBl",
        "outputId": "19eac9ed-5c8b-4d26-df94-ff98b76467b1"
      },
      "execution_count": 50,
      "outputs": [
        {
          "output_type": "execute_result",
          "data": {
            "text/plain": [
              "<tf.Tensor: shape=(10,), dtype=int32, numpy=array([ 70,  74,  78,  82,  86,  90,  94,  98, 102, 106], dtype=int32)>"
            ]
          },
          "metadata": {},
          "execution_count": 50
        }
      ]
    },
    {
      "cell_type": "code",
      "source": [
        "model.predict([17.0])"
      ],
      "metadata": {
        "colab": {
          "base_uri": "https://localhost:8080/"
        },
        "id": "zqscbJJ1cjGs",
        "outputId": "9b87bf8f-9e6d-442b-fcc6-ed8c51c49363"
      },
      "execution_count": 51,
      "outputs": [
        {
          "output_type": "stream",
          "name": "stdout",
          "text": [
            "1/1 [==============================] - 0s 40ms/step\n"
          ]
        },
        {
          "output_type": "execute_result",
          "data": {
            "text/plain": [
              "array([[26.791862]], dtype=float32)"
            ]
          },
          "metadata": {},
          "execution_count": 51
        }
      ]
    },
    {
      "cell_type": "code",
      "source": [
        "def plot_predictions(train_data = X_train,\n",
        "                     train_labels = y_train,\n",
        "                     test_data = X_test,\n",
        "                     test_labels = y_test,\n",
        "                     predictions = y_pred):\n",
        "  plt.figure(figsize=(10,7))\n",
        "\n",
        "  plt.scatter(train_data, train_labels, c= \"b\", label = \"training Data\")\n",
        "\n",
        "  plt.scatter(test_data, test_labels, c = 'g', label = \"testing Data\")\n",
        "\n",
        "  plt.scatter(test_data, predictions, c = 'r', label = \"Predictions\")\n",
        "\n",
        "  plt.legend"
      ],
      "metadata": {
        "id": "TgTy5o6zdLCc"
      },
      "execution_count": 52,
      "outputs": []
    },
    {
      "cell_type": "code",
      "source": [
        "plot_predictions()"
      ],
      "metadata": {
        "colab": {
          "base_uri": "https://localhost:8080/",
          "height": 599
        },
        "id": "HcYzUSdceFOQ",
        "outputId": "3c6b8911-dad6-4cfb-b249-6c510d97afb7"
      },
      "execution_count": 53,
      "outputs": [
        {
          "output_type": "display_data",
          "data": {
            "text/plain": [
              "<Figure size 1000x700 with 1 Axes>"
            ],
            "image/png": "[encoded data removed]"
          },
          "metadata": {}
        }
      ]
    },
    {
      "cell_type": "markdown",
      "source": [
        "### Evaluating using regression evaluation metrics"
      ],
      "metadata": {
        "id": "Zb1r38p5eTgs"
      }
    },
    {
      "cell_type": "code",
      "source": [
        "model.evaluate(X_test,y_test)"
      ],
      "metadata": {
        "colab": {
          "base_uri": "https://localhost:8080/"
        },
        "id": "3sFdPnIWe4gq",
        "outputId": "228d2f35-12b4-4ed8-ed76-a74393609fa4"
      },
      "execution_count": 55,
      "outputs": [
        {
          "output_type": "stream",
          "name": "stdout",
          "text": [
            "1/1 [==============================] - 0s 151ms/step - loss: 0.7900 - mae: 0.7900\n"
          ]
        },
        {
          "output_type": "execute_result",
          "data": {
            "text/plain": [
              "[0.7900153994560242, 0.7900153994560242]"
            ]
          },
          "metadata": {},
          "execution_count": 55
        }
      ]
    },
    {
      "cell_type": "code",
      "source": [],
      "metadata": {
        "id": "05XUVNR7f1xi"
      },
      "execution_count": null,
      "outputs": []
    }
  ]
}