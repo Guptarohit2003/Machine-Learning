{
  "nbformat": 4,
  "nbformat_minor": 0,
  "metadata": {
    "colab": {
      "provenance": [],
      "authorship_tag": "ABX9TyPOV2MPonvKfWmJ+MvTVfoc",
      "include_colab_link": true
    },
    "kernelspec": {
      "name": "python3",
      "display_name": "Python 3"
    },
    "language_info": {
      "name": "python"
    }
  },
  "cells": [
    {
      "cell_type": "markdown",
      "metadata": {
        "id": "view-in-github",
        "colab_type": "text"
      },
      "source": [
        "<a href=\"https://colab.research.google.com/github/Guptarohit2003/Machine-Learning/blob/main/Tensorflow/01_neural_network_regression_using_tensorflow.ipynb\" target=\"_parent\"><img src=\"https://colab.research.google.com/assets/colab-badge.svg\" alt=\"Open In Colab\"/></a>"
      ]
    },
    {
      "cell_type": "markdown",
      "source": [
        "# Introduction to Regression with Neural networks in TensorFlow"
      ],
      "metadata": {
        "id": "pOc-WspS3GzW"
      }
    },
    {
      "cell_type": "code",
      "source": [
        "import tensorflow as tf\n",
        "tf.__version__"
      ],
      "metadata": {
        "colab": {
          "base_uri": "https://localhost:8080/",
          "height": 35
        },
        "id": "TyzLl9Gd3n0b",
        "outputId": "f48156a2-0c38-411b-e17d-6c9ac39116f5"
      },
      "execution_count": 2,
      "outputs": [
        {
          "output_type": "execute_result",
          "data": {
            "text/plain": [
              "'2.15.0'"
            ],
            "application/vnd.google.colaboratory.intrinsic+json": {
              "type": "string"
            }
          },
          "metadata": {},
          "execution_count": 2
        }
      ]
    },
    {
      "cell_type": "markdown",
      "source": [
        "# Create Data view and fit"
      ],
      "metadata": {
        "id": "5iTXtgl83vcR"
      }
    },
    {
      "cell_type": "code",
      "source": [
        "import numpy as np\n",
        "import pandas as pd\n",
        "import matplotlib.pyplot as plt\n",
        "\n",
        "#Create Feature\n",
        "X = np.array([-7.0, -4.0, -1.0, 2.0, 5.0, 8.0, 11.0, 14.0])\n",
        "\n",
        "# Create Label\n",
        "y = np.array([3.0, 6.0, 9.0, 12.0, 15.0, 18.0, 21.0, 24.0])\n",
        "\n",
        "plt.scatter(X, y)"
      ],
      "metadata": {
        "colab": {
          "base_uri": "https://localhost:8080/",
          "height": 452
        },
        "id": "fQfZ6C8832cF",
        "outputId": "def1a630-2fc9-4b06-c4fd-c5cd9daa0dc3"
      },
      "execution_count": 3,
      "outputs": [
        {
          "output_type": "execute_result",
          "data": {
            "text/plain": [
              "<matplotlib.collections.PathCollection at 0x789232d2e050>"
            ]
          },
          "metadata": {},
          "execution_count": 3
        },
        {
          "output_type": "display_data",
          "data": {
            "text/plain": [
              "<Figure size 640x480 with 1 Axes>"
            ],
            "image/png": "[encoded data removed]"
          },
          "metadata": {}
        }
      ]
    },
    {
      "cell_type": "code",
      "source": [
        "y == X + 10"
      ],
      "metadata": {
        "colab": {
          "base_uri": "https://localhost:8080/"
        },
        "id": "tz05Mf9T4qEc",
        "outputId": "1072d250-f959-452d-a58a-ba74d9219626"
      },
      "execution_count": 4,
      "outputs": [
        {
          "output_type": "execute_result",
          "data": {
            "text/plain": [
              "array([ True,  True,  True,  True,  True,  True,  True,  True])"
            ]
          },
          "metadata": {},
          "execution_count": 4
        }
      ]
    },
    {
      "cell_type": "markdown",
      "source": [
        "# Input Output Shapes"
      ],
      "metadata": {
        "id": "_OeSk2yW5Bm8"
      }
    },
    {
      "cell_type": "code",
      "source": [
        "#create demo tensor for house prediction\n",
        "house_info = tf.constant([\"bedroom\", \"bathroom\", 'garage'])\n",
        "house_price = tf.constant([939700])\n",
        "house_info, house_price\n"
      ],
      "metadata": {
        "colab": {
          "base_uri": "https://localhost:8080/"
        },
        "id": "w-agQfvP5Mye",
        "outputId": "f57c43ab-9199-4681-b2a4-576451227f68"
      },
      "execution_count": 5,
      "outputs": [
        {
          "output_type": "execute_result",
          "data": {
            "text/plain": [
              "(<tf.Tensor: shape=(3,), dtype=string, numpy=array([b'bedroom', b'bathroom', b'garage'], dtype=object)>,\n",
              " <tf.Tensor: shape=(1,), dtype=int32, numpy=array([939700], dtype=int32)>)"
            ]
          },
          "metadata": {},
          "execution_count": 5
        }
      ]
    },
    {
      "cell_type": "code",
      "source": [
        "X[0], y[0]"
      ],
      "metadata": {
        "colab": {
          "base_uri": "https://localhost:8080/"
        },
        "id": "ltZIka8A5oWL",
        "outputId": "faae52ad-0ab3-4573-fc1a-753a2684c14f"
      },
      "execution_count": 6,
      "outputs": [
        {
          "output_type": "execute_result",
          "data": {
            "text/plain": [
              "(-7.0, 3.0)"
            ]
          },
          "metadata": {},
          "execution_count": 6
        }
      ]
    },
    {
      "cell_type": "code",
      "source": [
        "X = tf.constant(X)\n",
        "y = tf.constant(y)\n",
        "\n",
        "X,y"
      ],
      "metadata": {
        "colab": {
          "base_uri": "https://localhost:8080/"
        },
        "id": "XgaEyJ8966fJ",
        "outputId": "abd4d989-5fe6-49a9-a5a3-2b6d84b160a1"
      },
      "execution_count": 7,
      "outputs": [
        {
          "output_type": "execute_result",
          "data": {
            "text/plain": [
              "(<tf.Tensor: shape=(8,), dtype=float64, numpy=array([-7., -4., -1.,  2.,  5.,  8., 11., 14.])>,\n",
              " <tf.Tensor: shape=(8,), dtype=float64, numpy=array([ 3.,  6.,  9., 12., 15., 18., 21., 24.])>)"
            ]
          },
          "metadata": {},
          "execution_count": 7
        }
      ]
    },
    {
      "cell_type": "markdown",
      "source": [
        "## Steps in modelling with TensorFlow\n",
        "\n",
        "1. Create a model\n",
        "2. Compile a model\n",
        "3. Fitting a model"
      ],
      "metadata": {
        "id": "946qw_ea7byY"
      }
    },
    {
      "cell_type": "code",
      "source": [
        " tf.random.set_seed(42)\n",
        "\n",
        " # Create a model\n",
        " model = tf.keras.Sequential()\n",
        "\n",
        " model.add(tf.keras.layers.Dense(1))\n",
        "\n",
        " # Compile the model\n",
        " model.compile(loss = tf.keras.losses.mae,\n",
        "               optimizer = tf.keras.optimizers.SGD(),\n",
        "               metrics=['mae'])\n",
        "\n",
        " # Fit the model\n",
        " model.fit(tf.expand_dims(X, axis = -1), y, epochs=5)"
      ],
      "metadata": {
        "colab": {
          "base_uri": "https://localhost:8080/"
        },
        "id": "7d6VtNid7mKX",
        "outputId": "3b386c5d-41e3-42cc-f72d-d0b800619c30"
      },
      "execution_count": 8,
      "outputs": [
        {
          "output_type": "stream",
          "name": "stdout",
          "text": [
            "Epoch 1/5\n",
            "1/1 [==============================] - 1s 578ms/step - loss: 21.2895 - mae: 21.2895\n",
            "Epoch 2/5\n",
            "1/1 [==============================] - 0s 14ms/step - loss: 20.8964 - mae: 20.8964\n",
            "Epoch 3/5\n",
            "1/1 [==============================] - 0s 17ms/step - loss: 20.5194 - mae: 20.5194\n",
            "Epoch 4/5\n",
            "1/1 [==============================] - 0s 14ms/step - loss: 20.2382 - mae: 20.2382\n",
            "Epoch 5/5\n",
            "1/1 [==============================] - 0s 13ms/step - loss: 19.9569 - mae: 19.9569\n"
          ]
        },
        {
          "output_type": "execute_result",
          "data": {
            "text/plain": [
              "<keras.src.callbacks.History at 0x78922d97a9e0>"
            ]
          },
          "metadata": {},
          "execution_count": 8
        }
      ]
    },
    {
      "cell_type": "code",
      "source": [
        "# Check X and y\n",
        "X, y"
      ],
      "metadata": {
        "colab": {
          "base_uri": "https://localhost:8080/"
        },
        "id": "q6Jwdk039QPd",
        "outputId": "3768bda1-e5b8-4562-e8cc-e682ddb7a271"
      },
      "execution_count": 9,
      "outputs": [
        {
          "output_type": "execute_result",
          "data": {
            "text/plain": [
              "(<tf.Tensor: shape=(8,), dtype=float64, numpy=array([-7., -4., -1.,  2.,  5.,  8., 11., 14.])>,\n",
              " <tf.Tensor: shape=(8,), dtype=float64, numpy=array([ 3.,  6.,  9., 12., 15., 18., 21., 24.])>)"
            ]
          },
          "metadata": {},
          "execution_count": 9
        }
      ]
    },
    {
      "cell_type": "code",
      "source": [
        "model.predict([17.0])"
      ],
      "metadata": {
        "colab": {
          "base_uri": "https://localhost:8080/"
        },
        "id": "1cU83J7D-VLf",
        "outputId": "95dc42ea-9cec-4810-f34d-c6c7b05b0c86"
      },
      "execution_count": 10,
      "outputs": [
        {
          "output_type": "stream",
          "name": "stdout",
          "text": [
            "1/1 [==============================] - 0s 115ms/step\n"
          ]
        },
        {
          "output_type": "execute_result",
          "data": {
            "text/plain": [
              "array([[-22.472422]], dtype=float32)"
            ]
          },
          "metadata": {},
          "execution_count": 10
        }
      ]
    },
    {
      "cell_type": "markdown",
      "source": [
        "## Improve our model\n",
        "\n",
        "We can improve our model, by altering the steps we took to create a model\n",
        "\n",
        "**Creating a model** : here we might add more layers, increase # hidden units (neurons) within each of the hidden layers, change the activation function of each layer.\n",
        "\n",
        "**Compiling a model** : here we might change the optimization function or perhaps the **learning rate** of the optimization function.\n",
        "\n",
        "**Fitting a model** : here we might fit a model for more **epochs** or on more data."
      ],
      "metadata": {
        "id": "0gmmIb9--YZx"
      }
    },
    {
      "cell_type": "code",
      "source": [
        "# Let's rebuild the model for improvement\n",
        "model = tf.keras.Sequential([\n",
        "    tf.keras.layers.Dense(1)\n",
        "\n",
        "])\n",
        "\n",
        "model.compile(loss = \"mae\",\n",
        "              optimizer = \"sgd\",\n",
        "              metrics = [\"mae\"])\n",
        "\n",
        "# Fit the model (modified)\n",
        "model.fit(tf.expand_dims(X, axis = -1), y, epochs=100)"
      ],
      "metadata": {
        "colab": {
          "base_uri": "https://localhost:8080/"
        },
        "id": "fzKbrCvKAOp9",
        "outputId": "36f44e24-059c-477b-97f3-10465ad81009"
      },
      "execution_count": 11,
      "outputs": [
        {
          "output_type": "stream",
          "name": "stdout",
          "text": [
            "Epoch 1/100\n",
            "1/1 [==============================] - 0s 408ms/step - loss: 11.1702 - mae: 11.1702\n",
            "Epoch 2/100\n",
            "1/1 [==============================] - 0s 14ms/step - loss: 11.0377 - mae: 11.0377\n",
            "Epoch 3/100\n",
            "1/1 [==============================] - 0s 11ms/step - loss: 10.9052 - mae: 10.9052\n",
            "Epoch 4/100\n",
            "1/1 [==============================] - 0s 13ms/step - loss: 10.7727 - mae: 10.7727\n",
            "Epoch 5/100\n",
            "1/1 [==============================] - 0s 12ms/step - loss: 10.6402 - mae: 10.6402\n",
            "Epoch 6/100\n",
            "1/1 [==============================] - 0s 13ms/step - loss: 10.5077 - mae: 10.5077\n",
            "Epoch 7/100\n",
            "1/1 [==============================] - 0s 12ms/step - loss: 10.3752 - mae: 10.3752\n",
            "Epoch 8/100\n",
            "1/1 [==============================] - 0s 12ms/step - loss: 10.2427 - mae: 10.2427\n",
            "Epoch 9/100\n",
            "1/1 [==============================] - 0s 12ms/step - loss: 10.1102 - mae: 10.1102\n",
            "Epoch 10/100\n",
            "1/1 [==============================] - 0s 11ms/step - loss: 9.9777 - mae: 9.9777\n",
            "Epoch 11/100\n",
            "1/1 [==============================] - 0s 12ms/step - loss: 9.8452 - mae: 9.8452\n",
            "Epoch 12/100\n",
            "1/1 [==============================] - 0s 14ms/step - loss: 9.7127 - mae: 9.7127\n",
            "Epoch 13/100\n",
            "1/1 [==============================] - 0s 13ms/step - loss: 9.5802 - mae: 9.5802\n",
            "Epoch 14/100\n",
            "1/1 [==============================] - 0s 14ms/step - loss: 9.4477 - mae: 9.4477\n",
            "Epoch 15/100\n",
            "1/1 [==============================] - 0s 12ms/step - loss: 9.3152 - mae: 9.3152\n",
            "Epoch 16/100\n",
            "1/1 [==============================] - 0s 12ms/step - loss: 9.1827 - mae: 9.1827\n",
            "Epoch 17/100\n",
            "1/1 [==============================] - 0s 13ms/step - loss: 9.0502 - mae: 9.0502\n",
            "Epoch 18/100\n",
            "1/1 [==============================] - 0s 17ms/step - loss: 8.9177 - mae: 8.9177\n",
            "Epoch 19/100\n",
            "1/1 [==============================] - 0s 12ms/step - loss: 8.7852 - mae: 8.7852\n",
            "Epoch 20/100\n",
            "1/1 [==============================] - 0s 11ms/step - loss: 8.6527 - mae: 8.6527\n",
            "Epoch 21/100\n",
            "1/1 [==============================] - 0s 11ms/step - loss: 8.5202 - mae: 8.5202\n",
            "Epoch 22/100\n",
            "1/1 [==============================] - 0s 13ms/step - loss: 8.3877 - mae: 8.3877\n",
            "Epoch 23/100\n",
            "1/1 [==============================] - 0s 14ms/step - loss: 8.2552 - mae: 8.2552\n",
            "Epoch 24/100\n",
            "1/1 [==============================] - 0s 15ms/step - loss: 8.1227 - mae: 8.1227\n",
            "Epoch 25/100\n",
            "1/1 [==============================] - 0s 20ms/step - loss: 7.9902 - mae: 7.9902\n",
            "Epoch 26/100\n",
            "1/1 [==============================] - 0s 12ms/step - loss: 7.8577 - mae: 7.8577\n",
            "Epoch 27/100\n",
            "1/1 [==============================] - 0s 12ms/step - loss: 7.7252 - mae: 7.7252\n",
            "Epoch 28/100\n",
            "1/1 [==============================] - 0s 12ms/step - loss: 7.5927 - mae: 7.5927\n",
            "Epoch 29/100\n",
            "1/1 [==============================] - 0s 14ms/step - loss: 7.4602 - mae: 7.4602\n",
            "Epoch 30/100\n",
            "1/1 [==============================] - 0s 12ms/step - loss: 7.3277 - mae: 7.3277\n",
            "Epoch 31/100\n",
            "1/1 [==============================] - 0s 14ms/step - loss: 7.2750 - mae: 7.2750\n",
            "Epoch 32/100\n",
            "1/1 [==============================] - 0s 14ms/step - loss: 7.2694 - mae: 7.2694\n",
            "Epoch 33/100\n",
            "1/1 [==============================] - 0s 13ms/step - loss: 7.2638 - mae: 7.2638\n",
            "Epoch 34/100\n",
            "1/1 [==============================] - 0s 17ms/step - loss: 7.2581 - mae: 7.2581\n",
            "Epoch 35/100\n",
            "1/1 [==============================] - 0s 12ms/step - loss: 7.2525 - mae: 7.2525\n",
            "Epoch 36/100\n",
            "1/1 [==============================] - 0s 21ms/step - loss: 7.2469 - mae: 7.2469\n",
            "Epoch 37/100\n",
            "1/1 [==============================] - 0s 19ms/step - loss: 7.2413 - mae: 7.2413\n",
            "Epoch 38/100\n",
            "1/1 [==============================] - 0s 14ms/step - loss: 7.2356 - mae: 7.2356\n",
            "Epoch 39/100\n",
            "1/1 [==============================] - 0s 17ms/step - loss: 7.2300 - mae: 7.2300\n",
            "Epoch 40/100\n",
            "1/1 [==============================] - 0s 13ms/step - loss: 7.2244 - mae: 7.2244\n",
            "Epoch 41/100\n",
            "1/1 [==============================] - 0s 13ms/step - loss: 7.2188 - mae: 7.2188\n",
            "Epoch 42/100\n",
            "1/1 [==============================] - 0s 16ms/step - loss: 7.2131 - mae: 7.2131\n",
            "Epoch 43/100\n",
            "1/1 [==============================] - 0s 13ms/step - loss: 7.2075 - mae: 7.2075\n",
            "Epoch 44/100\n",
            "1/1 [==============================] - 0s 19ms/step - loss: 7.2019 - mae: 7.2019\n",
            "Epoch 45/100\n",
            "1/1 [==============================] - 0s 12ms/step - loss: 7.1963 - mae: 7.1963\n",
            "Epoch 46/100\n",
            "1/1 [==============================] - 0s 16ms/step - loss: 7.1906 - mae: 7.1906\n",
            "Epoch 47/100\n",
            "1/1 [==============================] - 0s 12ms/step - loss: 7.1850 - mae: 7.1850\n",
            "Epoch 48/100\n",
            "1/1 [==============================] - 0s 14ms/step - loss: 7.1794 - mae: 7.1794\n",
            "Epoch 49/100\n",
            "1/1 [==============================] - 0s 13ms/step - loss: 7.1738 - mae: 7.1738\n",
            "Epoch 50/100\n",
            "1/1 [==============================] - 0s 12ms/step - loss: 7.1681 - mae: 7.1681\n",
            "Epoch 51/100\n",
            "1/1 [==============================] - 0s 14ms/step - loss: 7.1625 - mae: 7.1625\n",
            "Epoch 52/100\n",
            "1/1 [==============================] - 0s 14ms/step - loss: 7.1569 - mae: 7.1569\n",
            "Epoch 53/100\n",
            "1/1 [==============================] - 0s 15ms/step - loss: 7.1513 - mae: 7.1513\n",
            "Epoch 54/100\n",
            "1/1 [==============================] - 0s 14ms/step - loss: 7.1456 - mae: 7.1456\n",
            "Epoch 55/100\n",
            "1/1 [==============================] - 0s 13ms/step - loss: 7.1400 - mae: 7.1400\n",
            "Epoch 56/100\n",
            "1/1 [==============================] - 0s 13ms/step - loss: 7.1344 - mae: 7.1344\n",
            "Epoch 57/100\n",
            "1/1 [==============================] - 0s 14ms/step - loss: 7.1287 - mae: 7.1287\n",
            "Epoch 58/100\n",
            "1/1 [==============================] - 0s 13ms/step - loss: 7.1231 - mae: 7.1231\n",
            "Epoch 59/100\n",
            "1/1 [==============================] - 0s 13ms/step - loss: 7.1175 - mae: 7.1175\n",
            "Epoch 60/100\n",
            "1/1 [==============================] - 0s 14ms/step - loss: 7.1119 - mae: 7.1119\n",
            "Epoch 61/100\n",
            "1/1 [==============================] - 0s 11ms/step - loss: 7.1063 - mae: 7.1063\n",
            "Epoch 62/100\n",
            "1/1 [==============================] - 0s 14ms/step - loss: 7.1006 - mae: 7.1006\n",
            "Epoch 63/100\n",
            "1/1 [==============================] - 0s 13ms/step - loss: 7.0950 - mae: 7.0950\n",
            "Epoch 64/100\n",
            "1/1 [==============================] - 0s 14ms/step - loss: 7.0894 - mae: 7.0894\n",
            "Epoch 65/100\n",
            "1/1 [==============================] - 0s 13ms/step - loss: 7.0838 - mae: 7.0838\n",
            "Epoch 66/100\n",
            "1/1 [==============================] - 0s 18ms/step - loss: 7.0781 - mae: 7.0781\n",
            "Epoch 67/100\n",
            "1/1 [==============================] - 0s 14ms/step - loss: 7.0725 - mae: 7.0725\n",
            "Epoch 68/100\n",
            "1/1 [==============================] - 0s 11ms/step - loss: 7.0669 - mae: 7.0669\n",
            "Epoch 69/100\n",
            "1/1 [==============================] - 0s 12ms/step - loss: 7.0613 - mae: 7.0613\n",
            "Epoch 70/100\n",
            "1/1 [==============================] - 0s 13ms/step - loss: 7.0556 - mae: 7.0556\n",
            "Epoch 71/100\n",
            "1/1 [==============================] - 0s 17ms/step - loss: 7.0500 - mae: 7.0500\n",
            "Epoch 72/100\n",
            "1/1 [==============================] - 0s 15ms/step - loss: 7.0444 - mae: 7.0444\n",
            "Epoch 73/100\n",
            "1/1 [==============================] - 0s 16ms/step - loss: 7.0388 - mae: 7.0388\n",
            "Epoch 74/100\n",
            "1/1 [==============================] - 0s 16ms/step - loss: 7.0331 - mae: 7.0331\n",
            "Epoch 75/100\n",
            "1/1 [==============================] - 0s 12ms/step - loss: 7.0275 - mae: 7.0275\n",
            "Epoch 76/100\n",
            "1/1 [==============================] - 0s 13ms/step - loss: 7.0219 - mae: 7.0219\n",
            "Epoch 77/100\n",
            "1/1 [==============================] - 0s 17ms/step - loss: 7.0163 - mae: 7.0163\n",
            "Epoch 78/100\n",
            "1/1 [==============================] - 0s 14ms/step - loss: 7.0106 - mae: 7.0106\n",
            "Epoch 79/100\n",
            "1/1 [==============================] - 0s 14ms/step - loss: 7.0050 - mae: 7.0050\n",
            "Epoch 80/100\n",
            "1/1 [==============================] - 0s 19ms/step - loss: 6.9994 - mae: 6.9994\n",
            "Epoch 81/100\n",
            "1/1 [==============================] - 0s 14ms/step - loss: 6.9938 - mae: 6.9938\n",
            "Epoch 82/100\n",
            "1/1 [==============================] - 0s 13ms/step - loss: 6.9881 - mae: 6.9881\n",
            "Epoch 83/100\n",
            "1/1 [==============================] - 0s 13ms/step - loss: 6.9825 - mae: 6.9825\n",
            "Epoch 84/100\n",
            "1/1 [==============================] - 0s 16ms/step - loss: 6.9769 - mae: 6.9769\n",
            "Epoch 85/100\n",
            "1/1 [==============================] - 0s 14ms/step - loss: 6.9713 - mae: 6.9713\n",
            "Epoch 86/100\n",
            "1/1 [==============================] - 0s 15ms/step - loss: 6.9656 - mae: 6.9656\n",
            "Epoch 87/100\n",
            "1/1 [==============================] - 0s 15ms/step - loss: 6.9600 - mae: 6.9600\n",
            "Epoch 88/100\n",
            "1/1 [==============================] - 0s 16ms/step - loss: 6.9544 - mae: 6.9544\n",
            "Epoch 89/100\n",
            "1/1 [==============================] - 0s 14ms/step - loss: 6.9488 - mae: 6.9488\n",
            "Epoch 90/100\n",
            "1/1 [==============================] - 0s 13ms/step - loss: 6.9431 - mae: 6.9431\n",
            "Epoch 91/100\n",
            "1/1 [==============================] - 0s 15ms/step - loss: 6.9375 - mae: 6.9375\n",
            "Epoch 92/100\n",
            "1/1 [==============================] - 0s 12ms/step - loss: 6.9319 - mae: 6.9319\n",
            "Epoch 93/100\n",
            "1/1 [==============================] - 0s 14ms/step - loss: 6.9263 - mae: 6.9263\n",
            "Epoch 94/100\n",
            "1/1 [==============================] - 0s 17ms/step - loss: 6.9206 - mae: 6.9206\n",
            "Epoch 95/100\n",
            "1/1 [==============================] - 0s 14ms/step - loss: 6.9150 - mae: 6.9150\n",
            "Epoch 96/100\n",
            "1/1 [==============================] - 0s 15ms/step - loss: 6.9094 - mae: 6.9094\n",
            "Epoch 97/100\n",
            "1/1 [==============================] - 0s 15ms/step - loss: 6.9038 - mae: 6.9038\n",
            "Epoch 98/100\n",
            "1/1 [==============================] - 0s 16ms/step - loss: 6.8981 - mae: 6.8981\n",
            "Epoch 99/100\n",
            "1/1 [==============================] - 0s 12ms/step - loss: 6.8925 - mae: 6.8925\n",
            "Epoch 100/100\n",
            "1/1 [==============================] - 0s 16ms/step - loss: 6.8869 - mae: 6.8869\n"
          ]
        },
        {
          "output_type": "execute_result",
          "data": {
            "text/plain": [
              "<keras.src.callbacks.History at 0x78922cffc940>"
            ]
          },
          "metadata": {},
          "execution_count": 11
        }
      ]
    },
    {
      "cell_type": "code",
      "source": [
        "X, y"
      ],
      "metadata": {
        "colab": {
          "base_uri": "https://localhost:8080/"
        },
        "id": "yfZalF_HBK7S",
        "outputId": "448a38f0-a36b-48be-c7d3-ba33d50cf012"
      },
      "execution_count": 12,
      "outputs": [
        {
          "output_type": "execute_result",
          "data": {
            "text/plain": [
              "(<tf.Tensor: shape=(8,), dtype=float64, numpy=array([-7., -4., -1.,  2.,  5.,  8., 11., 14.])>,\n",
              " <tf.Tensor: shape=(8,), dtype=float64, numpy=array([ 3.,  6.,  9., 12., 15., 18., 21., 24.])>)"
            ]
          },
          "metadata": {},
          "execution_count": 12
        }
      ]
    },
    {
      "cell_type": "code",
      "source": [
        "model.predict([17.0])"
      ],
      "metadata": {
        "colab": {
          "base_uri": "https://localhost:8080/"
        },
        "id": "wtCKLilZBRVM",
        "outputId": "2594e4f6-6f5b-4560-9bf8-0e5b2f3ecc6f"
      },
      "execution_count": 13,
      "outputs": [
        {
          "output_type": "stream",
          "name": "stdout",
          "text": [
            "1/1 [==============================] - 0s 192ms/step\n"
          ]
        },
        {
          "output_type": "execute_result",
          "data": {
            "text/plain": [
              "array([[29.990997]], dtype=float32)"
            ]
          },
          "metadata": {},
          "execution_count": 13
        }
      ]
    },
    {
      "cell_type": "code",
      "source": [
        "model = tf.keras.Sequential([\n",
        "     tf.keras.layers.Dense(100, activation = 'relu'),\n",
        "     tf.keras.layers.Dense(100, activation = 'relu'),\n",
        "     tf.keras.layers.Dense(100, activation = 'relu'),\n",
        "     tf.keras.layers.Dense(1)\n",
        " ])\n",
        "\n",
        "\n",
        "model.compile(loss= 'mae',\n",
        "               optimizer = 'sgd',\n",
        "               metrics=[\"mae\"])\n",
        "\n",
        "model.fit(tf.expand_dims(X, axis = -1), y, epochs=100)"
      ],
      "metadata": {
        "colab": {
          "base_uri": "https://localhost:8080/"
        },
        "id": "ozZzNZ3i9sCC",
        "outputId": "b55332f6-a337-4ec2-c5ac-06669f2bf2a8"
      },
      "execution_count": 14,
      "outputs": [
        {
          "output_type": "stream",
          "name": "stdout",
          "text": [
            "Epoch 1/100\n",
            "1/1 [==============================] - 1s 1s/step - loss: 13.0842 - mae: 13.0842\n",
            "Epoch 2/100\n",
            "1/1 [==============================] - 0s 24ms/step - loss: 12.5478 - mae: 12.5478\n",
            "Epoch 3/100\n",
            "1/1 [==============================] - 0s 22ms/step - loss: 12.0129 - mae: 12.0129\n",
            "Epoch 4/100\n",
            "1/1 [==============================] - 0s 21ms/step - loss: 11.4391 - mae: 11.4391\n",
            "Epoch 5/100\n",
            "1/1 [==============================] - 0s 17ms/step - loss: 10.7964 - mae: 10.7964\n",
            "Epoch 6/100\n",
            "1/1 [==============================] - 0s 17ms/step - loss: 10.0392 - mae: 10.0392\n",
            "Epoch 7/100\n",
            "1/1 [==============================] - 0s 16ms/step - loss: 9.1239 - mae: 9.1239\n",
            "Epoch 8/100\n",
            "1/1 [==============================] - 0s 15ms/step - loss: 8.1430 - mae: 8.1430\n",
            "Epoch 9/100\n",
            "1/1 [==============================] - 0s 13ms/step - loss: 6.8312 - mae: 6.8312\n",
            "Epoch 10/100\n",
            "1/1 [==============================] - 0s 15ms/step - loss: 5.0167 - mae: 5.0167\n",
            "Epoch 11/100\n",
            "1/1 [==============================] - 0s 13ms/step - loss: 4.1224 - mae: 4.1224\n",
            "Epoch 12/100\n",
            "1/1 [==============================] - 0s 14ms/step - loss: 3.9181 - mae: 3.9181\n",
            "Epoch 13/100\n",
            "1/1 [==============================] - 0s 17ms/step - loss: 4.1334 - mae: 4.1334\n",
            "Epoch 14/100\n",
            "1/1 [==============================] - 0s 14ms/step - loss: 3.9127 - mae: 3.9127\n",
            "Epoch 15/100\n",
            "1/1 [==============================] - 0s 13ms/step - loss: 4.0865 - mae: 4.0865\n",
            "Epoch 16/100\n",
            "1/1 [==============================] - 0s 17ms/step - loss: 3.9240 - mae: 3.9240\n",
            "Epoch 17/100\n",
            "1/1 [==============================] - 0s 14ms/step - loss: 4.0373 - mae: 4.0373\n",
            "Epoch 18/100\n",
            "1/1 [==============================] - 0s 15ms/step - loss: 3.9366 - mae: 3.9366\n",
            "Epoch 19/100\n",
            "1/1 [==============================] - 0s 15ms/step - loss: 3.9865 - mae: 3.9865\n",
            "Epoch 20/100\n",
            "1/1 [==============================] - 0s 14ms/step - loss: 3.9494 - mae: 3.9494\n",
            "Epoch 21/100\n",
            "1/1 [==============================] - 0s 13ms/step - loss: 3.9329 - mae: 3.9329\n",
            "Epoch 22/100\n",
            "1/1 [==============================] - 0s 14ms/step - loss: 3.9636 - mae: 3.9636\n",
            "Epoch 23/100\n",
            "1/1 [==============================] - 0s 13ms/step - loss: 3.8773 - mae: 3.8773\n",
            "Epoch 24/100\n",
            "1/1 [==============================] - 0s 13ms/step - loss: 3.9793 - mae: 3.9793\n",
            "Epoch 25/100\n",
            "1/1 [==============================] - 0s 16ms/step - loss: 3.8204 - mae: 3.8204\n",
            "Epoch 26/100\n",
            "1/1 [==============================] - 0s 20ms/step - loss: 3.9961 - mae: 3.9961\n",
            "Epoch 27/100\n",
            "1/1 [==============================] - 0s 16ms/step - loss: 3.7852 - mae: 3.7852\n",
            "Epoch 28/100\n",
            "1/1 [==============================] - 0s 24ms/step - loss: 3.9784 - mae: 3.9784\n",
            "Epoch 29/100\n",
            "1/1 [==============================] - 0s 24ms/step - loss: 3.8029 - mae: 3.8029\n",
            "Epoch 30/100\n",
            "1/1 [==============================] - 0s 14ms/step - loss: 3.9220 - mae: 3.9220\n",
            "Epoch 31/100\n",
            "1/1 [==============================] - 0s 15ms/step - loss: 3.8206 - mae: 3.8206\n",
            "Epoch 32/100\n",
            "1/1 [==============================] - 0s 13ms/step - loss: 3.8642 - mae: 3.8642\n",
            "Epoch 33/100\n",
            "1/1 [==============================] - 0s 16ms/step - loss: 3.8398 - mae: 3.8398\n",
            "Epoch 34/100\n",
            "1/1 [==============================] - 0s 13ms/step - loss: 3.8092 - mae: 3.8092\n",
            "Epoch 35/100\n",
            "1/1 [==============================] - 0s 14ms/step - loss: 3.8986 - mae: 3.8986\n",
            "Epoch 36/100\n",
            "1/1 [==============================] - 0s 18ms/step - loss: 3.7233 - mae: 3.7233\n",
            "Epoch 37/100\n",
            "1/1 [==============================] - 0s 17ms/step - loss: 3.9194 - mae: 3.9194\n",
            "Epoch 38/100\n",
            "1/1 [==============================] - 0s 12ms/step - loss: 3.7127 - mae: 3.7127\n",
            "Epoch 39/100\n",
            "1/1 [==============================] - 0s 12ms/step - loss: 3.8745 - mae: 3.8745\n",
            "Epoch 40/100\n",
            "1/1 [==============================] - 0s 13ms/step - loss: 3.7340 - mae: 3.7340\n",
            "Epoch 41/100\n",
            "1/1 [==============================] - 0s 12ms/step - loss: 3.8105 - mae: 3.8105\n",
            "Epoch 42/100\n",
            "1/1 [==============================] - 0s 14ms/step - loss: 3.7567 - mae: 3.7567\n",
            "Epoch 43/100\n",
            "1/1 [==============================] - 0s 14ms/step - loss: 3.7450 - mae: 3.7450\n",
            "Epoch 44/100\n",
            "1/1 [==============================] - 0s 13ms/step - loss: 3.7802 - mae: 3.7802\n",
            "Epoch 45/100\n",
            "1/1 [==============================] - 0s 13ms/step - loss: 3.6898 - mae: 3.6898\n",
            "Epoch 46/100\n",
            "1/1 [==============================] - 0s 13ms/step - loss: 3.8424 - mae: 3.8424\n",
            "Epoch 47/100\n",
            "1/1 [==============================] - 0s 12ms/step - loss: 3.6403 - mae: 3.6403\n",
            "Epoch 48/100\n",
            "1/1 [==============================] - 0s 12ms/step - loss: 3.8020 - mae: 3.8020\n",
            "Epoch 49/100\n",
            "1/1 [==============================] - 0s 13ms/step - loss: 3.6637 - mae: 3.6637\n",
            "Epoch 50/100\n",
            "1/1 [==============================] - 0s 13ms/step - loss: 3.7336 - mae: 3.7336\n",
            "Epoch 51/100\n",
            "1/1 [==============================] - 0s 12ms/step - loss: 3.6896 - mae: 3.6896\n",
            "Epoch 52/100\n",
            "1/1 [==============================] - 0s 14ms/step - loss: 3.6627 - mae: 3.6627\n",
            "Epoch 53/100\n",
            "1/1 [==============================] - 0s 14ms/step - loss: 3.7167 - mae: 3.7167\n",
            "Epoch 54/100\n",
            "1/1 [==============================] - 0s 16ms/step - loss: 3.5899 - mae: 3.5899\n",
            "Epoch 55/100\n",
            "1/1 [==============================] - 0s 12ms/step - loss: 3.7454 - mae: 3.7454\n",
            "Epoch 56/100\n",
            "1/1 [==============================] - 0s 12ms/step - loss: 3.5645 - mae: 3.5645\n",
            "Epoch 57/100\n",
            "1/1 [==============================] - 0s 12ms/step - loss: 3.7065 - mae: 3.7065\n",
            "Epoch 58/100\n",
            "1/1 [==============================] - 0s 12ms/step - loss: 3.6144 - mae: 3.6144\n",
            "Epoch 59/100\n",
            "1/1 [==============================] - 0s 15ms/step - loss: 3.6321 - mae: 3.6321\n",
            "Epoch 60/100\n",
            "1/1 [==============================] - 0s 14ms/step - loss: 3.6426 - mae: 3.6426\n",
            "Epoch 61/100\n",
            "1/1 [==============================] - 0s 16ms/step - loss: 3.5558 - mae: 3.5558\n",
            "Epoch 62/100\n",
            "1/1 [==============================] - 0s 13ms/step - loss: 3.6733 - mae: 3.6733\n",
            "Epoch 63/100\n",
            "1/1 [==============================] - 0s 13ms/step - loss: 3.4836 - mae: 3.4836\n",
            "Epoch 64/100\n",
            "1/1 [==============================] - 0s 12ms/step - loss: 3.6996 - mae: 3.6996\n",
            "Epoch 65/100\n",
            "1/1 [==============================] - 0s 12ms/step - loss: 3.5477 - mae: 3.5477\n",
            "Epoch 66/100\n",
            "1/1 [==============================] - 0s 12ms/step - loss: 3.5884 - mae: 3.5884\n",
            "Epoch 67/100\n",
            "1/1 [==============================] - 0s 12ms/step - loss: 3.5774 - mae: 3.5774\n",
            "Epoch 68/100\n",
            "1/1 [==============================] - 0s 11ms/step - loss: 3.5066 - mae: 3.5066\n",
            "Epoch 69/100\n",
            "1/1 [==============================] - 0s 12ms/step - loss: 3.6085 - mae: 3.6085\n",
            "Epoch 70/100\n",
            "1/1 [==============================] - 0s 11ms/step - loss: 3.4236 - mae: 3.4236\n",
            "Epoch 71/100\n",
            "1/1 [==============================] - 0s 15ms/step - loss: 3.6278 - mae: 3.6278\n",
            "Epoch 72/100\n",
            "1/1 [==============================] - 0s 15ms/step - loss: 3.4546 - mae: 3.4546\n",
            "Epoch 73/100\n",
            "1/1 [==============================] - 0s 16ms/step - loss: 3.5451 - mae: 3.5451\n",
            "Epoch 74/100\n",
            "1/1 [==============================] - 0s 22ms/step - loss: 3.4873 - mae: 3.4873\n",
            "Epoch 75/100\n",
            "1/1 [==============================] - 0s 14ms/step - loss: 3.4630 - mae: 3.4630\n",
            "Epoch 76/100\n",
            "1/1 [==============================] - 0s 12ms/step - loss: 3.5576 - mae: 3.5576\n",
            "Epoch 77/100\n",
            "1/1 [==============================] - 0s 12ms/step - loss: 3.3728 - mae: 3.3728\n",
            "Epoch 78/100\n",
            "1/1 [==============================] - 0s 12ms/step - loss: 3.5563 - mae: 3.5563\n",
            "Epoch 79/100\n",
            "1/1 [==============================] - 0s 13ms/step - loss: 3.4043 - mae: 3.4043\n",
            "Epoch 80/100\n",
            "1/1 [==============================] - 0s 12ms/step - loss: 3.4650 - mae: 3.4650\n",
            "Epoch 81/100\n",
            "1/1 [==============================] - 0s 11ms/step - loss: 3.4375 - mae: 3.4375\n",
            "Epoch 82/100\n",
            "1/1 [==============================] - 0s 11ms/step - loss: 3.3730 - mae: 3.3730\n",
            "Epoch 83/100\n",
            "1/1 [==============================] - 0s 11ms/step - loss: 3.4735 - mae: 3.4735\n",
            "Epoch 84/100\n",
            "1/1 [==============================] - 0s 11ms/step - loss: 3.2926 - mae: 3.2926\n",
            "Epoch 85/100\n",
            "1/1 [==============================] - 0s 11ms/step - loss: 3.4911 - mae: 3.4911\n",
            "Epoch 86/100\n",
            "1/1 [==============================] - 0s 11ms/step - loss: 3.3635 - mae: 3.3635\n",
            "Epoch 87/100\n",
            "1/1 [==============================] - 0s 12ms/step - loss: 3.3707 - mae: 3.3707\n",
            "Epoch 88/100\n",
            "1/1 [==============================] - 0s 16ms/step - loss: 3.3974 - mae: 3.3974\n",
            "Epoch 89/100\n",
            "1/1 [==============================] - 0s 13ms/step - loss: 3.2708 - mae: 3.2708\n",
            "Epoch 90/100\n",
            "1/1 [==============================] - 0s 13ms/step - loss: 3.4336 - mae: 3.4336\n",
            "Epoch 91/100\n",
            "1/1 [==============================] - 0s 15ms/step - loss: 3.2518 - mae: 3.2518\n",
            "Epoch 92/100\n",
            "1/1 [==============================] - 0s 18ms/step - loss: 3.3743 - mae: 3.3743\n",
            "Epoch 93/100\n",
            "1/1 [==============================] - 0s 14ms/step - loss: 3.2876 - mae: 3.2876\n",
            "Epoch 94/100\n",
            "1/1 [==============================] - 0s 13ms/step - loss: 3.2711 - mae: 3.2711\n",
            "Epoch 95/100\n",
            "1/1 [==============================] - 0s 14ms/step - loss: 3.3253 - mae: 3.3253\n",
            "Epoch 96/100\n",
            "1/1 [==============================] - 0s 13ms/step - loss: 3.1660 - mae: 3.1660\n",
            "Epoch 97/100\n",
            "1/1 [==============================] - 0s 14ms/step - loss: 3.3647 - mae: 3.3647\n",
            "Epoch 98/100\n",
            "1/1 [==============================] - 0s 13ms/step - loss: 3.1866 - mae: 3.1866\n",
            "Epoch 99/100\n",
            "1/1 [==============================] - 0s 12ms/step - loss: 3.2484 - mae: 3.2484\n",
            "Epoch 100/100\n",
            "1/1 [==============================] - 0s 11ms/step - loss: 3.2577 - mae: 3.2577\n"
          ]
        },
        {
          "output_type": "execute_result",
          "data": {
            "text/plain": [
              "<keras.src.callbacks.History at 0x78922c6575b0>"
            ]
          },
          "metadata": {},
          "execution_count": 14
        }
      ]
    },
    {
      "cell_type": "code",
      "source": [
        "model.predict([17.0])"
      ],
      "metadata": {
        "colab": {
          "base_uri": "https://localhost:8080/"
        },
        "id": "OeSJ1ESACV5S",
        "outputId": "a38a695d-0ca6-45fd-fa46-b96af38cfb8c"
      },
      "execution_count": 15,
      "outputs": [
        {
          "output_type": "stream",
          "name": "stdout",
          "text": [
            "1/1 [==============================] - 0s 94ms/step\n"
          ]
        },
        {
          "output_type": "execute_result",
          "data": {
            "text/plain": [
              "array([[30.800386]], dtype=float32)"
            ]
          },
          "metadata": {},
          "execution_count": 15
        }
      ]
    },
    {
      "cell_type": "code",
      "source": [
        "model = tf.keras.Sequential([\n",
        "     tf.keras.layers.Dense(100, activation = 'relu'),\n",
        "     tf.keras.layers.Dense(100, activation = 'relu'),\n",
        "     tf.keras.layers.Dense(100, activation = 'relu'),\n",
        "     tf.keras.layers.Dense(1)\n",
        " ])\n",
        "\n",
        "\n",
        "model.compile(loss= tf.keras.losses.mae,\n",
        "               optimizer = tf.keras.optimizers.Adam(learning_rate= 0.0001),\n",
        "               metrics=[\"mae\"])\n",
        "\n",
        "model.fit(tf.expand_dims(X, axis = -1), y, epochs=100)"
      ],
      "metadata": {
        "colab": {
          "base_uri": "https://localhost:8080/"
        },
        "id": "dL1kSFQ0CiZn",
        "outputId": "47bf39d0-636f-46c3-dfa9-c8d14ea9fe9b"
      },
      "execution_count": 16,
      "outputs": [
        {
          "output_type": "stream",
          "name": "stdout",
          "text": [
            "Epoch 1/100\n",
            "1/1 [==============================] - 1s 1s/step - loss: 12.2778 - mae: 12.2778\n",
            "Epoch 2/100\n",
            "1/1 [==============================] - 0s 14ms/step - loss: 12.2345 - mae: 12.2345\n",
            "Epoch 3/100\n",
            "1/1 [==============================] - 0s 14ms/step - loss: 12.1911 - mae: 12.1911\n",
            "Epoch 4/100\n",
            "1/1 [==============================] - 0s 15ms/step - loss: 12.1481 - mae: 12.1481\n",
            "Epoch 5/100\n",
            "1/1 [==============================] - 0s 13ms/step - loss: 12.1064 - mae: 12.1064\n",
            "Epoch 6/100\n",
            "1/1 [==============================] - 0s 12ms/step - loss: 12.0646 - mae: 12.0646\n",
            "Epoch 7/100\n",
            "1/1 [==============================] - 0s 14ms/step - loss: 12.0224 - mae: 12.0224\n",
            "Epoch 8/100\n",
            "1/1 [==============================] - 0s 12ms/step - loss: 11.9795 - mae: 11.9795\n",
            "Epoch 9/100\n",
            "1/1 [==============================] - 0s 12ms/step - loss: 11.9363 - mae: 11.9363\n",
            "Epoch 10/100\n",
            "1/1 [==============================] - 0s 15ms/step - loss: 11.8930 - mae: 11.8930\n",
            "Epoch 11/100\n",
            "1/1 [==============================] - 0s 16ms/step - loss: 11.8494 - mae: 11.8494\n",
            "Epoch 12/100\n",
            "1/1 [==============================] - 0s 13ms/step - loss: 11.8065 - mae: 11.8065\n",
            "Epoch 13/100\n",
            "1/1 [==============================] - 0s 15ms/step - loss: 11.7635 - mae: 11.7635\n",
            "Epoch 14/100\n",
            "1/1 [==============================] - 0s 13ms/step - loss: 11.7195 - mae: 11.7195\n",
            "Epoch 15/100\n",
            "1/1 [==============================] - 0s 14ms/step - loss: 11.6751 - mae: 11.6751\n",
            "Epoch 16/100\n",
            "1/1 [==============================] - 0s 13ms/step - loss: 11.6304 - mae: 11.6304\n",
            "Epoch 17/100\n",
            "1/1 [==============================] - 0s 13ms/step - loss: 11.5853 - mae: 11.5853\n",
            "Epoch 18/100\n",
            "1/1 [==============================] - 0s 13ms/step - loss: 11.5400 - mae: 11.5400\n",
            "Epoch 19/100\n",
            "1/1 [==============================] - 0s 13ms/step - loss: 11.4946 - mae: 11.4946\n",
            "Epoch 20/100\n",
            "1/1 [==============================] - 0s 12ms/step - loss: 11.4489 - mae: 11.4489\n",
            "Epoch 21/100\n",
            "1/1 [==============================] - 0s 12ms/step - loss: 11.4030 - mae: 11.4030\n",
            "Epoch 22/100\n",
            "1/1 [==============================] - 0s 13ms/step - loss: 11.3569 - mae: 11.3569\n",
            "Epoch 23/100\n",
            "1/1 [==============================] - 0s 12ms/step - loss: 11.3104 - mae: 11.3104\n",
            "Epoch 24/100\n",
            "1/1 [==============================] - 0s 13ms/step - loss: 11.2636 - mae: 11.2636\n",
            "Epoch 25/100\n",
            "1/1 [==============================] - 0s 14ms/step - loss: 11.2167 - mae: 11.2167\n",
            "Epoch 26/100\n",
            "1/1 [==============================] - 0s 14ms/step - loss: 11.1705 - mae: 11.1705\n",
            "Epoch 27/100\n",
            "1/1 [==============================] - 0s 21ms/step - loss: 11.1242 - mae: 11.1242\n",
            "Epoch 28/100\n",
            "1/1 [==============================] - 0s 13ms/step - loss: 11.0778 - mae: 11.0778\n",
            "Epoch 29/100\n",
            "1/1 [==============================] - 0s 12ms/step - loss: 11.0312 - mae: 11.0312\n",
            "Epoch 30/100\n",
            "1/1 [==============================] - 0s 13ms/step - loss: 10.9842 - mae: 10.9842\n",
            "Epoch 31/100\n",
            "1/1 [==============================] - 0s 12ms/step - loss: 10.9369 - mae: 10.9369\n",
            "Epoch 32/100\n",
            "1/1 [==============================] - 0s 13ms/step - loss: 10.8893 - mae: 10.8893\n",
            "Epoch 33/100\n",
            "1/1 [==============================] - 0s 13ms/step - loss: 10.8413 - mae: 10.8413\n",
            "Epoch 34/100\n",
            "1/1 [==============================] - 0s 12ms/step - loss: 10.7930 - mae: 10.7930\n",
            "Epoch 35/100\n",
            "1/1 [==============================] - 0s 12ms/step - loss: 10.7444 - mae: 10.7444\n",
            "Epoch 36/100\n",
            "1/1 [==============================] - 0s 12ms/step - loss: 10.6954 - mae: 10.6954\n",
            "Epoch 37/100\n",
            "1/1 [==============================] - 0s 12ms/step - loss: 10.6461 - mae: 10.6461\n",
            "Epoch 38/100\n",
            "1/1 [==============================] - 0s 11ms/step - loss: 10.5964 - mae: 10.5964\n",
            "Epoch 39/100\n",
            "1/1 [==============================] - 0s 14ms/step - loss: 10.5464 - mae: 10.5464\n",
            "Epoch 40/100\n",
            "1/1 [==============================] - 0s 18ms/step - loss: 10.4959 - mae: 10.4959\n",
            "Epoch 41/100\n",
            "1/1 [==============================] - 0s 21ms/step - loss: 10.4449 - mae: 10.4449\n",
            "Epoch 42/100\n",
            "1/1 [==============================] - 0s 14ms/step - loss: 10.3932 - mae: 10.3932\n",
            "Epoch 43/100\n",
            "1/1 [==============================] - 0s 11ms/step - loss: 10.3411 - mae: 10.3411\n",
            "Epoch 44/100\n",
            "1/1 [==============================] - 0s 11ms/step - loss: 10.2885 - mae: 10.2885\n",
            "Epoch 45/100\n",
            "1/1 [==============================] - 0s 15ms/step - loss: 10.2355 - mae: 10.2355\n",
            "Epoch 46/100\n",
            "1/1 [==============================] - 0s 17ms/step - loss: 10.1821 - mae: 10.1821\n",
            "Epoch 47/100\n",
            "1/1 [==============================] - 0s 13ms/step - loss: 10.1284 - mae: 10.1284\n",
            "Epoch 48/100\n",
            "1/1 [==============================] - 0s 13ms/step - loss: 10.0740 - mae: 10.0740\n",
            "Epoch 49/100\n",
            "1/1 [==============================] - 0s 14ms/step - loss: 10.0190 - mae: 10.0190\n",
            "Epoch 50/100\n",
            "1/1 [==============================] - 0s 15ms/step - loss: 9.9635 - mae: 9.9635\n",
            "Epoch 51/100\n",
            "1/1 [==============================] - 0s 14ms/step - loss: 9.9073 - mae: 9.9073\n",
            "Epoch 52/100\n",
            "1/1 [==============================] - 0s 16ms/step - loss: 9.8507 - mae: 9.8507\n",
            "Epoch 53/100\n",
            "1/1 [==============================] - 0s 13ms/step - loss: 9.7936 - mae: 9.7936\n",
            "Epoch 54/100\n",
            "1/1 [==============================] - 0s 16ms/step - loss: 9.7356 - mae: 9.7356\n",
            "Epoch 55/100\n",
            "1/1 [==============================] - 0s 13ms/step - loss: 9.6770 - mae: 9.6770\n",
            "Epoch 56/100\n",
            "1/1 [==============================] - 0s 14ms/step - loss: 9.6179 - mae: 9.6179\n",
            "Epoch 57/100\n",
            "1/1 [==============================] - 0s 16ms/step - loss: 9.5583 - mae: 9.5583\n",
            "Epoch 58/100\n",
            "1/1 [==============================] - 0s 15ms/step - loss: 9.4980 - mae: 9.4980\n",
            "Epoch 59/100\n",
            "1/1 [==============================] - 0s 16ms/step - loss: 9.4371 - mae: 9.4371\n",
            "Epoch 60/100\n",
            "1/1 [==============================] - 0s 11ms/step - loss: 9.3755 - mae: 9.3755\n",
            "Epoch 61/100\n",
            "1/1 [==============================] - 0s 11ms/step - loss: 9.3133 - mae: 9.3133\n",
            "Epoch 62/100\n",
            "1/1 [==============================] - 0s 12ms/step - loss: 9.2505 - mae: 9.2505\n",
            "Epoch 63/100\n",
            "1/1 [==============================] - 0s 12ms/step - loss: 9.1871 - mae: 9.1871\n",
            "Epoch 64/100\n",
            "1/1 [==============================] - 0s 14ms/step - loss: 9.1229 - mae: 9.1229\n",
            "Epoch 65/100\n",
            "1/1 [==============================] - 0s 13ms/step - loss: 9.0577 - mae: 9.0577\n",
            "Epoch 66/100\n",
            "1/1 [==============================] - 0s 12ms/step - loss: 8.9914 - mae: 8.9914\n",
            "Epoch 67/100\n",
            "1/1 [==============================] - 0s 12ms/step - loss: 8.9260 - mae: 8.9260\n",
            "Epoch 68/100\n",
            "1/1 [==============================] - 0s 12ms/step - loss: 8.8707 - mae: 8.8707\n",
            "Epoch 69/100\n",
            "1/1 [==============================] - 0s 12ms/step - loss: 8.8147 - mae: 8.8147\n",
            "Epoch 70/100\n",
            "1/1 [==============================] - 0s 13ms/step - loss: 8.7582 - mae: 8.7582\n",
            "Epoch 71/100\n",
            "1/1 [==============================] - 0s 13ms/step - loss: 8.7010 - mae: 8.7010\n",
            "Epoch 72/100\n",
            "1/1 [==============================] - 0s 13ms/step - loss: 8.6434 - mae: 8.6434\n",
            "Epoch 73/100\n",
            "1/1 [==============================] - 0s 15ms/step - loss: 8.5849 - mae: 8.5849\n",
            "Epoch 74/100\n",
            "1/1 [==============================] - 0s 17ms/step - loss: 8.5259 - mae: 8.5259\n",
            "Epoch 75/100\n",
            "1/1 [==============================] - 0s 20ms/step - loss: 8.4663 - mae: 8.4663\n",
            "Epoch 76/100\n",
            "1/1 [==============================] - 0s 15ms/step - loss: 8.4060 - mae: 8.4060\n",
            "Epoch 77/100\n",
            "1/1 [==============================] - 0s 14ms/step - loss: 8.3451 - mae: 8.3451\n",
            "Epoch 78/100\n",
            "1/1 [==============================] - 0s 13ms/step - loss: 8.2835 - mae: 8.2835\n",
            "Epoch 79/100\n",
            "1/1 [==============================] - 0s 13ms/step - loss: 8.2211 - mae: 8.2211\n",
            "Epoch 80/100\n",
            "1/1 [==============================] - 0s 14ms/step - loss: 8.1583 - mae: 8.1583\n",
            "Epoch 81/100\n",
            "1/1 [==============================] - 0s 12ms/step - loss: 8.0945 - mae: 8.0945\n",
            "Epoch 82/100\n",
            "1/1 [==============================] - 0s 12ms/step - loss: 8.0301 - mae: 8.0301\n",
            "Epoch 83/100\n",
            "1/1 [==============================] - 0s 12ms/step - loss: 7.9652 - mae: 7.9652\n",
            "Epoch 84/100\n",
            "1/1 [==============================] - 0s 13ms/step - loss: 7.8995 - mae: 7.8995\n",
            "Epoch 85/100\n",
            "1/1 [==============================] - 0s 12ms/step - loss: 7.8330 - mae: 7.8330\n",
            "Epoch 86/100\n",
            "1/1 [==============================] - 0s 12ms/step - loss: 7.7658 - mae: 7.7658\n",
            "Epoch 87/100\n",
            "1/1 [==============================] - 0s 16ms/step - loss: 7.6979 - mae: 7.6979\n",
            "Epoch 88/100\n",
            "1/1 [==============================] - 0s 12ms/step - loss: 7.6292 - mae: 7.6292\n",
            "Epoch 89/100\n",
            "1/1 [==============================] - 0s 12ms/step - loss: 7.5597 - mae: 7.5597\n",
            "Epoch 90/100\n",
            "1/1 [==============================] - 0s 12ms/step - loss: 7.4895 - mae: 7.4895\n",
            "Epoch 91/100\n",
            "1/1 [==============================] - 0s 12ms/step - loss: 7.4185 - mae: 7.4185\n",
            "Epoch 92/100\n",
            "1/1 [==============================] - 0s 13ms/step - loss: 7.3468 - mae: 7.3468\n",
            "Epoch 93/100\n",
            "1/1 [==============================] - 0s 12ms/step - loss: 7.2742 - mae: 7.2742\n",
            "Epoch 94/100\n",
            "1/1 [==============================] - 0s 12ms/step - loss: 7.2010 - mae: 7.2010\n",
            "Epoch 95/100\n",
            "1/1 [==============================] - 0s 17ms/step - loss: 7.1270 - mae: 7.1270\n",
            "Epoch 96/100\n",
            "1/1 [==============================] - 0s 20ms/step - loss: 7.0522 - mae: 7.0522\n",
            "Epoch 97/100\n",
            "1/1 [==============================] - 0s 16ms/step - loss: 6.9767 - mae: 6.9767\n",
            "Epoch 98/100\n",
            "1/1 [==============================] - 0s 15ms/step - loss: 6.9004 - mae: 6.9004\n",
            "Epoch 99/100\n",
            "1/1 [==============================] - 0s 13ms/step - loss: 6.8230 - mae: 6.8230\n",
            "Epoch 100/100\n",
            "1/1 [==============================] - 0s 12ms/step - loss: 6.7445 - mae: 6.7445\n"
          ]
        },
        {
          "output_type": "execute_result",
          "data": {
            "text/plain": [
              "<keras.src.callbacks.History at 0x78922c571f90>"
            ]
          },
          "metadata": {},
          "execution_count": 16
        }
      ]
    },
    {
      "cell_type": "code",
      "source": [
        "model.predict([17.0])"
      ],
      "metadata": {
        "colab": {
          "base_uri": "https://localhost:8080/"
        },
        "id": "WiDiAXd2DAp5",
        "outputId": "f49963bd-26a4-4401-8b4b-8a82799535a4"
      },
      "execution_count": 17,
      "outputs": [
        {
          "output_type": "stream",
          "name": "stdout",
          "text": [
            "1/1 [==============================] - 0s 102ms/step\n"
          ]
        },
        {
          "output_type": "execute_result",
          "data": {
            "text/plain": [
              "array([[20.777197]], dtype=float32)"
            ]
          },
          "metadata": {},
          "execution_count": 17
        }
      ]
    },
    {
      "cell_type": "code",
      "source": [
        "model = tf.keras.Sequential([\n",
        "     tf.keras.layers.Dense(50, activation = None),\n",
        "     tf.keras.layers.Dense(1)\n",
        " ])\n",
        "\n",
        "\n",
        "model.compile(loss= tf.keras.losses.mae,\n",
        "               optimizer = tf.keras.optimizers.Adam(learning_rate= 0.01),\n",
        "               metrics=[\"mae\"])\n",
        "\n",
        "model.fit(tf.expand_dims(X, axis = -1), y, epochs=100)"
      ],
      "metadata": {
        "colab": {
          "base_uri": "https://localhost:8080/"
        },
        "id": "TeotYLnsDJv2",
        "outputId": "215eabfa-723f-42ea-9a10-f062ff8452be"
      },
      "execution_count": 65,
      "outputs": [
        {
          "output_type": "stream",
          "name": "stdout",
          "text": [
            "Epoch 1/100\n",
            "2/2 [==============================] - 1s 10ms/step - loss: 43.4931 - mae: 43.4931\n",
            "Epoch 2/100\n",
            "2/2 [==============================] - 0s 9ms/step - loss: 25.3862 - mae: 25.3862\n",
            "Epoch 3/100\n",
            "2/2 [==============================] - 0s 11ms/step - loss: 12.5587 - mae: 12.5587\n",
            "Epoch 4/100\n",
            "2/2 [==============================] - 0s 9ms/step - loss: 11.4190 - mae: 11.4190\n",
            "Epoch 5/100\n",
            "2/2 [==============================] - 0s 8ms/step - loss: 17.0710 - mae: 17.0710\n",
            "Epoch 6/100\n",
            "2/2 [==============================] - 0s 8ms/step - loss: 16.0471 - mae: 16.0471\n",
            "Epoch 7/100\n",
            "2/2 [==============================] - 0s 8ms/step - loss: 10.8540 - mae: 10.8540\n",
            "Epoch 8/100\n",
            "2/2 [==============================] - 0s 8ms/step - loss: 9.2880 - mae: 9.2880\n",
            "Epoch 9/100\n",
            "2/2 [==============================] - 0s 8ms/step - loss: 8.8102 - mae: 8.8102\n",
            "Epoch 10/100\n",
            "2/2 [==============================] - 0s 11ms/step - loss: 10.7856 - mae: 10.7856\n",
            "Epoch 11/100\n",
            "2/2 [==============================] - 0s 9ms/step - loss: 10.1048 - mae: 10.1048\n",
            "Epoch 12/100\n",
            "2/2 [==============================] - 0s 9ms/step - loss: 8.1821 - mae: 8.1821\n",
            "Epoch 13/100\n",
            "2/2 [==============================] - 0s 8ms/step - loss: 8.1129 - mae: 8.1129\n",
            "Epoch 14/100\n",
            "2/2 [==============================] - 0s 9ms/step - loss: 8.2843 - mae: 8.2843\n",
            "Epoch 15/100\n",
            "2/2 [==============================] - 0s 11ms/step - loss: 8.3924 - mae: 8.3924\n",
            "Epoch 16/100\n",
            "2/2 [==============================] - 0s 10ms/step - loss: 8.0935 - mae: 8.0935\n",
            "Epoch 17/100\n",
            "2/2 [==============================] - 0s 9ms/step - loss: 7.2760 - mae: 7.2760\n",
            "Epoch 18/100\n",
            "2/2 [==============================] - 0s 10ms/step - loss: 7.0412 - mae: 7.0412\n",
            "Epoch 19/100\n",
            "2/2 [==============================] - 0s 9ms/step - loss: 6.7277 - mae: 6.7277\n",
            "Epoch 20/100\n",
            "2/2 [==============================] - 0s 9ms/step - loss: 6.6281 - mae: 6.6281\n",
            "Epoch 21/100\n",
            "2/2 [==============================] - 0s 8ms/step - loss: 6.7121 - mae: 6.7121\n",
            "Epoch 22/100\n",
            "2/2 [==============================] - 0s 9ms/step - loss: 6.1884 - mae: 6.1884\n",
            "Epoch 23/100\n",
            "2/2 [==============================] - 0s 9ms/step - loss: 5.8928 - mae: 5.8928\n",
            "Epoch 24/100\n",
            "2/2 [==============================] - 0s 9ms/step - loss: 5.7296 - mae: 5.7296\n",
            "Epoch 25/100\n",
            "2/2 [==============================] - 0s 10ms/step - loss: 5.6087 - mae: 5.6087\n",
            "Epoch 26/100\n",
            "2/2 [==============================] - 0s 9ms/step - loss: 5.4606 - mae: 5.4606\n",
            "Epoch 27/100\n",
            "2/2 [==============================] - 0s 8ms/step - loss: 4.9971 - mae: 4.9971\n",
            "Epoch 28/100\n",
            "2/2 [==============================] - 0s 9ms/step - loss: 4.6857 - mae: 4.6857\n",
            "Epoch 29/100\n",
            "2/2 [==============================] - 0s 9ms/step - loss: 4.3649 - mae: 4.3649\n",
            "Epoch 30/100\n",
            "2/2 [==============================] - 0s 9ms/step - loss: 4.1958 - mae: 4.1958\n",
            "Epoch 31/100\n",
            "2/2 [==============================] - 0s 10ms/step - loss: 3.9555 - mae: 3.9555\n",
            "Epoch 32/100\n",
            "2/2 [==============================] - 0s 9ms/step - loss: 3.4470 - mae: 3.4470\n",
            "Epoch 33/100\n",
            "2/2 [==============================] - 0s 9ms/step - loss: 3.1217 - mae: 3.1217\n",
            "Epoch 34/100\n",
            "2/2 [==============================] - 0s 10ms/step - loss: 2.7873 - mae: 2.7873\n",
            "Epoch 35/100\n",
            "2/2 [==============================] - 0s 9ms/step - loss: 2.3529 - mae: 2.3529\n",
            "Epoch 36/100\n",
            "2/2 [==============================] - 0s 8ms/step - loss: 1.9867 - mae: 1.9867\n",
            "Epoch 37/100\n",
            "2/2 [==============================] - 0s 9ms/step - loss: 1.5540 - mae: 1.5540\n",
            "Epoch 38/100\n",
            "2/2 [==============================] - 0s 9ms/step - loss: 1.2829 - mae: 1.2829\n",
            "Epoch 39/100\n",
            "2/2 [==============================] - 0s 9ms/step - loss: 0.7820 - mae: 0.7820\n",
            "Epoch 40/100\n",
            "2/2 [==============================] - 0s 9ms/step - loss: 0.7123 - mae: 0.7123\n",
            "Epoch 41/100\n",
            "2/2 [==============================] - 0s 9ms/step - loss: 0.5038 - mae: 0.5038\n",
            "Epoch 42/100\n",
            "2/2 [==============================] - 0s 9ms/step - loss: 0.5388 - mae: 0.5388\n",
            "Epoch 43/100\n",
            "2/2 [==============================] - 0s 8ms/step - loss: 0.6173 - mae: 0.6173\n",
            "Epoch 44/100\n",
            "2/2 [==============================] - 0s 9ms/step - loss: 0.6055 - mae: 0.6055\n",
            "Epoch 45/100\n",
            "2/2 [==============================] - 0s 11ms/step - loss: 0.4928 - mae: 0.4928\n",
            "Epoch 46/100\n",
            "2/2 [==============================] - 0s 13ms/step - loss: 1.0285 - mae: 1.0285\n",
            "Epoch 47/100\n",
            "2/2 [==============================] - 0s 8ms/step - loss: 2.1619 - mae: 2.1619\n",
            "Epoch 48/100\n",
            "2/2 [==============================] - 0s 9ms/step - loss: 1.3855 - mae: 1.3855\n",
            "Epoch 49/100\n",
            "2/2 [==============================] - 0s 10ms/step - loss: 2.5179 - mae: 2.5179\n",
            "Epoch 50/100\n",
            "2/2 [==============================] - 0s 10ms/step - loss: 1.1811 - mae: 1.1811\n",
            "Epoch 51/100\n",
            "2/2 [==============================] - 0s 10ms/step - loss: 1.0579 - mae: 1.0579\n",
            "Epoch 52/100\n",
            "2/2 [==============================] - 0s 10ms/step - loss: 0.9106 - mae: 0.9106\n",
            "Epoch 53/100\n",
            "2/2 [==============================] - 0s 10ms/step - loss: 0.7172 - mae: 0.7172\n",
            "Epoch 54/100\n",
            "2/2 [==============================] - 0s 11ms/step - loss: 1.4555 - mae: 1.4555\n",
            "Epoch 55/100\n",
            "2/2 [==============================] - 0s 9ms/step - loss: 0.6439 - mae: 0.6439\n",
            "Epoch 56/100\n",
            "2/2 [==============================] - 0s 9ms/step - loss: 0.6716 - mae: 0.6716\n",
            "Epoch 57/100\n",
            "2/2 [==============================] - 0s 9ms/step - loss: 1.1186 - mae: 1.1186\n",
            "Epoch 58/100\n",
            "2/2 [==============================] - 0s 10ms/step - loss: 0.3645 - mae: 0.3645\n",
            "Epoch 59/100\n",
            "2/2 [==============================] - 0s 9ms/step - loss: 1.1090 - mae: 1.1090\n",
            "Epoch 60/100\n",
            "2/2 [==============================] - 0s 9ms/step - loss: 0.5462 - mae: 0.5462\n",
            "Epoch 61/100\n",
            "2/2 [==============================] - 0s 9ms/step - loss: 0.9454 - mae: 0.9454\n",
            "Epoch 62/100\n",
            "2/2 [==============================] - 0s 9ms/step - loss: 0.4626 - mae: 0.4626\n",
            "Epoch 63/100\n",
            "2/2 [==============================] - 0s 10ms/step - loss: 1.0870 - mae: 1.0870\n",
            "Epoch 64/100\n",
            "2/2 [==============================] - 0s 10ms/step - loss: 0.2959 - mae: 0.2959\n",
            "Epoch 65/100\n",
            "2/2 [==============================] - 0s 13ms/step - loss: 1.2038 - mae: 1.2038\n",
            "Epoch 66/100\n",
            "2/2 [==============================] - 0s 9ms/step - loss: 0.1244 - mae: 0.1244\n",
            "Epoch 67/100\n",
            "2/2 [==============================] - 0s 9ms/step - loss: 0.5103 - mae: 0.5103\n",
            "Epoch 68/100\n",
            "2/2 [==============================] - 0s 9ms/step - loss: 0.4161 - mae: 0.4161\n",
            "Epoch 69/100\n",
            "2/2 [==============================] - 0s 9ms/step - loss: 0.6469 - mae: 0.6469\n",
            "Epoch 70/100\n",
            "2/2 [==============================] - 0s 9ms/step - loss: 1.8695 - mae: 1.8695\n",
            "Epoch 71/100\n",
            "2/2 [==============================] - 0s 9ms/step - loss: 1.0844 - mae: 1.0844\n",
            "Epoch 72/100\n",
            "2/2 [==============================] - 0s 9ms/step - loss: 0.8878 - mae: 0.8878\n",
            "Epoch 73/100\n",
            "2/2 [==============================] - 0s 9ms/step - loss: 1.4168 - mae: 1.4168\n",
            "Epoch 74/100\n",
            "2/2 [==============================] - 0s 9ms/step - loss: 1.6145 - mae: 1.6145\n",
            "Epoch 75/100\n",
            "2/2 [==============================] - 0s 9ms/step - loss: 1.0089 - mae: 1.0089\n",
            "Epoch 76/100\n",
            "2/2 [==============================] - 0s 11ms/step - loss: 0.7294 - mae: 0.7294\n",
            "Epoch 77/100\n",
            "2/2 [==============================] - 0s 9ms/step - loss: 1.7787 - mae: 1.7787\n",
            "Epoch 78/100\n",
            "2/2 [==============================] - 0s 9ms/step - loss: 1.0792 - mae: 1.0792\n",
            "Epoch 79/100\n",
            "2/2 [==============================] - 0s 10ms/step - loss: 1.5858 - mae: 1.5858\n",
            "Epoch 80/100\n",
            "2/2 [==============================] - 0s 8ms/step - loss: 0.4541 - mae: 0.4541\n",
            "Epoch 81/100\n",
            "2/2 [==============================] - 0s 10ms/step - loss: 0.1953 - mae: 0.1953\n",
            "Epoch 82/100\n",
            "2/2 [==============================] - 0s 9ms/step - loss: 0.6960 - mae: 0.6960\n",
            "Epoch 83/100\n",
            "2/2 [==============================] - 0s 9ms/step - loss: 1.0989 - mae: 1.0989\n",
            "Epoch 84/100\n",
            "2/2 [==============================] - 0s 9ms/step - loss: 0.7793 - mae: 0.7793\n",
            "Epoch 85/100\n",
            "2/2 [==============================] - 0s 8ms/step - loss: 2.4850 - mae: 2.4850\n",
            "Epoch 86/100\n",
            "2/2 [==============================] - 0s 9ms/step - loss: 1.0905 - mae: 1.0905\n",
            "Epoch 87/100\n",
            "2/2 [==============================] - 0s 8ms/step - loss: 3.4128 - mae: 3.4128\n",
            "Epoch 88/100\n",
            "2/2 [==============================] - 0s 9ms/step - loss: 1.6004 - mae: 1.6004\n",
            "Epoch 89/100\n",
            "2/2 [==============================] - 0s 10ms/step - loss: 3.4145 - mae: 3.4145\n",
            "Epoch 90/100\n",
            "2/2 [==============================] - 0s 9ms/step - loss: 4.1745 - mae: 4.1745\n",
            "Epoch 91/100\n",
            "2/2 [==============================] - 0s 9ms/step - loss: 1.4585 - mae: 1.4585\n",
            "Epoch 92/100\n",
            "2/2 [==============================] - 0s 9ms/step - loss: 3.0871 - mae: 3.0871\n",
            "Epoch 93/100\n",
            "2/2 [==============================] - 0s 9ms/step - loss: 1.8446 - mae: 1.8446\n",
            "Epoch 94/100\n",
            "2/2 [==============================] - 0s 11ms/step - loss: 2.4517 - mae: 2.4517\n",
            "Epoch 95/100\n",
            "2/2 [==============================] - 0s 9ms/step - loss: 3.0711 - mae: 3.0711\n",
            "Epoch 96/100\n",
            "2/2 [==============================] - 0s 9ms/step - loss: 1.1240 - mae: 1.1240\n",
            "Epoch 97/100\n",
            "2/2 [==============================] - 0s 8ms/step - loss: 3.7987 - mae: 3.7987\n",
            "Epoch 98/100\n",
            "2/2 [==============================] - 0s 9ms/step - loss: 2.4656 - mae: 2.4656\n",
            "Epoch 99/100\n",
            "2/2 [==============================] - 0s 11ms/step - loss: 1.9162 - mae: 1.9162\n",
            "Epoch 100/100\n",
            "2/2 [==============================] - 0s 11ms/step - loss: 2.5270 - mae: 2.5270\n"
          ]
        },
        {
          "output_type": "execute_result",
          "data": {
            "text/plain": [
              "<keras.src.callbacks.History at 0x78922e155e40>"
            ]
          },
          "metadata": {},
          "execution_count": 65
        }
      ]
    },
    {
      "cell_type": "code",
      "source": [
        "model.predict([17.0])"
      ],
      "metadata": {
        "id": "COql0qpoEmqw",
        "outputId": "7ec4da1c-2303-45a8-9bf8-a899a3a35f70",
        "colab": {
          "base_uri": "https://localhost:8080/"
        }
      },
      "execution_count": 66,
      "outputs": [
        {
          "output_type": "stream",
          "name": "stdout",
          "text": [
            "1/1 [==============================] - 0s 105ms/step\n"
          ]
        },
        {
          "output_type": "execute_result",
          "data": {
            "text/plain": [
              "array([[26.737745]], dtype=float32)"
            ]
          },
          "metadata": {},
          "execution_count": 66
        }
      ]
    },
    {
      "cell_type": "markdown",
      "source": [
        "## Evaluating a model"
      ],
      "metadata": {
        "id": "IHlhIUEREqLW"
      }
    },
    {
      "cell_type": "markdown",
      "source": [
        "```\n",
        "Build a model -> fit it -> evaluate it -> tweak a model -> fit it -> evaluate it.......\n",
        "```\n",
        "\n"
      ],
      "metadata": {
        "id": "RfxoGpII8nWU"
      }
    },
    {
      "cell_type": "markdown",
      "source": [
        "When it comes to evaluation. we have to do\n",
        "\n",
        "> Visualization\n",
        "\n",
        "It's a good idea to visualize:\n",
        "\n",
        "* The data - what data are we working with ? what does it looks like?\n",
        "* The model itself - what does our model looks like?\n",
        "* The training of model - how does a model perform while it learns?\n",
        "* The prediction of the model - how do the predictions of a model line up against the ground truth."
      ],
      "metadata": {
        "id": "Y3wK9J089RLB"
      }
    },
    {
      "cell_type": "code",
      "source": [
        "# Make a bigger dataset\n",
        "\n",
        "X = tf.range(-100, 100, 4)\n",
        "X"
      ],
      "metadata": {
        "colab": {
          "base_uri": "https://localhost:8080/"
        },
        "id": "Trie4RVl-P6n",
        "outputId": "612376ec-0952-445f-e2f8-ca8f125fd07f"
      },
      "execution_count": 20,
      "outputs": [
        {
          "output_type": "execute_result",
          "data": {
            "text/plain": [
              "<tf.Tensor: shape=(50,), dtype=int32, numpy=\n",
              "array([-100,  -96,  -92,  -88,  -84,  -80,  -76,  -72,  -68,  -64,  -60,\n",
              "        -56,  -52,  -48,  -44,  -40,  -36,  -32,  -28,  -24,  -20,  -16,\n",
              "        -12,   -8,   -4,    0,    4,    8,   12,   16,   20,   24,   28,\n",
              "         32,   36,   40,   44,   48,   52,   56,   60,   64,   68,   72,\n",
              "         76,   80,   84,   88,   92,   96], dtype=int32)>"
            ]
          },
          "metadata": {},
          "execution_count": 20
        }
      ]
    },
    {
      "cell_type": "code",
      "source": [
        "y = X +10\n",
        "y"
      ],
      "metadata": {
        "colab": {
          "base_uri": "https://localhost:8080/"
        },
        "id": "el6mh5YV-c3l",
        "outputId": "b5a04a0d-88b7-4c65-f1d3-4f94bee420d8"
      },
      "execution_count": 21,
      "outputs": [
        {
          "output_type": "execute_result",
          "data": {
            "text/plain": [
              "<tf.Tensor: shape=(50,), dtype=int32, numpy=\n",
              "array([-90, -86, -82, -78, -74, -70, -66, -62, -58, -54, -50, -46, -42,\n",
              "       -38, -34, -30, -26, -22, -18, -14, -10,  -6,  -2,   2,   6,  10,\n",
              "        14,  18,  22,  26,  30,  34,  38,  42,  46,  50,  54,  58,  62,\n",
              "        66,  70,  74,  78,  82,  86,  90,  94,  98, 102, 106], dtype=int32)>"
            ]
          },
          "metadata": {},
          "execution_count": 21
        }
      ]
    },
    {
      "cell_type": "code",
      "source": [
        "# visualize the data\n",
        "import matplotlib.pyplot as plt\n",
        "plt.scatter(X,y)"
      ],
      "metadata": {
        "colab": {
          "base_uri": "https://localhost:8080/",
          "height": 447
        },
        "id": "vbhN48Ep-geM",
        "outputId": "37b14144-97a5-4503-c616-13f5eb61880e"
      },
      "execution_count": 22,
      "outputs": [
        {
          "output_type": "execute_result",
          "data": {
            "text/plain": [
              "<matplotlib.collections.PathCollection at 0x78921fe10b80>"
            ]
          },
          "metadata": {},
          "execution_count": 22
        },
        {
          "output_type": "display_data",
          "data": {
            "text/plain": [
              "<Figure size 640x480 with 1 Axes>"
            ],
            "image/png": "[encoded data removed]"
          },
          "metadata": {}
        }
      ]
    },
    {
      "cell_type": "markdown",
      "source": [
        "### 3 sets\n",
        "\n",
        "* Training set - the model learns from this data, which is around 79-80% of total data\n",
        "* Valdation set - the model gets tuned on this data, which is around 10-15% of total data\n",
        "* Test set - the model gets evaluated on this data, which is typically 10- 15% of total data\n"
      ],
      "metadata": {
        "id": "RUf8fCskADV1"
      }
    },
    {
      "cell_type": "code",
      "source": [
        "X_train = X[:40]\n",
        "X_test = X[40:]"
      ],
      "metadata": {
        "id": "aRCcdgb8_QL5"
      },
      "execution_count": 23,
      "outputs": []
    },
    {
      "cell_type": "code",
      "source": [
        "y_train = y[:40]\n",
        "y_test = y[40:]"
      ],
      "metadata": {
        "id": "_SxUELfs-mpq"
      },
      "execution_count": 24,
      "outputs": []
    },
    {
      "cell_type": "code",
      "source": [
        "len(X_train), len(X_test), len(y_train), len(y_test)"
      ],
      "metadata": {
        "colab": {
          "base_uri": "https://localhost:8080/"
        },
        "id": "c4Sthq3w_GbD",
        "outputId": "ecd9b745-d1d5-40a3-f676-8500c3c3ac7b"
      },
      "execution_count": 25,
      "outputs": [
        {
          "output_type": "execute_result",
          "data": {
            "text/plain": [
              "(40, 10, 40, 10)"
            ]
          },
          "metadata": {},
          "execution_count": 25
        }
      ]
    },
    {
      "cell_type": "markdown",
      "source": [
        "### visualizing the data"
      ],
      "metadata": {
        "id": "KHDHZM9wB1MK"
      }
    },
    {
      "cell_type": "code",
      "source": [
        "plt.figure(figsize = (10, 7))\n",
        "\n",
        "plt.scatter(X_train, y_train, c = 'b', label = 'Training data')\n",
        "\n",
        "plt.scatter(X_test, y_test, c = 'g', label = 'Testing data')\n",
        "\n",
        "plt.legend()"
      ],
      "metadata": {
        "colab": {
          "base_uri": "https://localhost:8080/",
          "height": 616
        },
        "id": "B3pf4eFUCK5I",
        "outputId": "72246138-7022-4827-b875-4dc93a968089"
      },
      "execution_count": 26,
      "outputs": [
        {
          "output_type": "execute_result",
          "data": {
            "text/plain": [
              "<matplotlib.legend.Legend at 0x78921fdc1480>"
            ]
          },
          "metadata": {},
          "execution_count": 26
        },
        {
          "output_type": "display_data",
          "data": {
            "text/plain": [
              "<Figure size 1000x700 with 1 Axes>"
            ],
            "image/png": "[encoded data removed]"
          },
          "metadata": {}
        }
      ]
    },
    {
      "cell_type": "code",
      "source": [
        "model = tf.keras.Sequential([\n",
        "    tf.keras.layers.Dense(1)\n",
        "])\n",
        "\n",
        "model.compile(loss = tf.losses.mae,\n",
        "              optimizer = tf.optimizers.SGD(),\n",
        "              metrics = ['mae'])\n",
        "\n",
        "# model.fit(X_train, y_train, epochs = 100)"
      ],
      "metadata": {
        "id": "TbbMrwNfCihh"
      },
      "execution_count": 27,
      "outputs": []
    },
    {
      "cell_type": "code",
      "source": [
        "model.summary()"
      ],
      "metadata": {
        "colab": {
          "base_uri": "https://localhost:8080/",
          "height": 332
        },
        "id": "vV4aj5iJU_hG",
        "outputId": "44592245-ab2e-4454-f24e-e02ada5afd8e"
      },
      "execution_count": 28,
      "outputs": [
        {
          "output_type": "error",
          "ename": "ValueError",
          "evalue": "This model has not yet been built. Build the model first by calling `build()` or by calling the model on a batch of data.",
          "traceback": [
            "\u001b[0;31m---------------------------------------------------------------------------\u001b[0m",
            "\u001b[0;31mValueError\u001b[0m                                Traceback (most recent call last)",
            "\u001b[0;32m<ipython-input-28-5f15418b3570>\u001b[0m in \u001b[0;36m<cell line: 1>\u001b[0;34m()\u001b[0m\n\u001b[0;32m----> 1\u001b[0;31m \u001b[0mmodel\u001b[0m\u001b[0;34m.\u001b[0m\u001b[0msummary\u001b[0m\u001b[0;34m(\u001b[0m\u001b[0;34m)\u001b[0m\u001b[0;34m\u001b[0m\u001b[0;34m\u001b[0m\u001b[0m\n\u001b[0m",
            "\u001b[0;32m/usr/local/lib/python3.10/dist-packages/keras/src/engine/training.py\u001b[0m in \u001b[0;36msummary\u001b[0;34m(self, line_length, positions, print_fn, expand_nested, show_trainable, layer_range)\u001b[0m\n\u001b[1;32m   3504\u001b[0m         \"\"\"\n\u001b[1;32m   3505\u001b[0m         \u001b[0;32mif\u001b[0m \u001b[0;32mnot\u001b[0m \u001b[0mself\u001b[0m\u001b[0;34m.\u001b[0m\u001b[0mbuilt\u001b[0m\u001b[0;34m:\u001b[0m\u001b[0;34m\u001b[0m\u001b[0;34m\u001b[0m\u001b[0m\n\u001b[0;32m-> 3506\u001b[0;31m             raise ValueError(\n\u001b[0m\u001b[1;32m   3507\u001b[0m                 \u001b[0;34m\"This model has not yet been built. \"\u001b[0m\u001b[0;34m\u001b[0m\u001b[0;34m\u001b[0m\u001b[0m\n\u001b[1;32m   3508\u001b[0m                 \u001b[0;34m\"Build the model first by calling `build()` or by calling \"\u001b[0m\u001b[0;34m\u001b[0m\u001b[0;34m\u001b[0m\u001b[0m\n",
            "\u001b[0;31mValueError\u001b[0m: This model has not yet been built. Build the model first by calling `build()` or by calling the model on a batch of data."
          ]
        }
      ]
    },
    {
      "cell_type": "code",
      "source": [
        " tf.random.set_seed(42)\n",
        "\n",
        " model = tf.keras.Sequential([\n",
        "     tf.keras.layers.Dense(10, input_shape = [1],name='input_layer'),\n",
        "     tf.keras.layers.Dense(1, name = 'output_layer')\n",
        " ], name = \"Model_1\")\n",
        "\n",
        " model.compile(loss=tf.keras.losses.mae,\n",
        "               optimizer = tf.keras.optimizers.SGD(),\n",
        "               metrics = ['mae'])"
      ],
      "metadata": {
        "id": "9CMXOISnVDvO"
      },
      "execution_count": 29,
      "outputs": []
    },
    {
      "cell_type": "code",
      "source": [
        "model.summary()"
      ],
      "metadata": {
        "colab": {
          "base_uri": "https://localhost:8080/"
        },
        "id": "4Uxs1ShgWO46",
        "outputId": "5d9f24c9-b773-44c3-b404-2156eb02e655"
      },
      "execution_count": 67,
      "outputs": [
        {
          "output_type": "stream",
          "name": "stdout",
          "text": [
            "Model: \"sequential_9\"\n",
            "_________________________________________________________________\n",
            " Layer (type)                Output Shape              Param #   \n",
            "=================================================================\n",
            " dense_18 (Dense)            (None, 50)                100       \n",
            "                                                                 \n",
            " dense_19 (Dense)            (None, 1)                 51        \n",
            "                                                                 \n",
            "=================================================================\n",
            "Total params: 151 (604.00 Byte)\n",
            "Trainable params: 151 (604.00 Byte)\n",
            "Non-trainable params: 0 (0.00 Byte)\n",
            "_________________________________________________________________\n"
          ]
        }
      ]
    },
    {
      "cell_type": "code",
      "source": [
        "model.fit(X_train, y_train, epochs = 100, verbose=0)"
      ],
      "metadata": {
        "colab": {
          "base_uri": "https://localhost:8080/"
        },
        "id": "dSaXMn9vWSQE",
        "outputId": "9ab0a435-659e-47a7-849c-ea2a5d48ba3b"
      },
      "execution_count": 31,
      "outputs": [
        {
          "output_type": "execute_result",
          "data": {
            "text/plain": [
              "<keras.src.callbacks.History at 0x78921f9f2e30>"
            ]
          },
          "metadata": {},
          "execution_count": 31
        }
      ]
    },
    {
      "cell_type": "code",
      "source": [
        "model.summary()"
      ],
      "metadata": {
        "id": "X_BS8v57Xhyy",
        "colab": {
          "base_uri": "https://localhost:8080/"
        },
        "outputId": "aefcdff4-f648-4247-ed4e-a9e125ef4e97"
      },
      "execution_count": 32,
      "outputs": [
        {
          "output_type": "stream",
          "name": "stdout",
          "text": [
            "Model: \"Model_1\"\n",
            "_________________________________________________________________\n",
            " Layer (type)                Output Shape              Param #   \n",
            "=================================================================\n",
            " input_layer (Dense)         (None, 10)                20        \n",
            "                                                                 \n",
            " output_layer (Dense)        (None, 1)                 11        \n",
            "                                                                 \n",
            "=================================================================\n",
            "Total params: 31 (124.00 Byte)\n",
            "Trainable params: 31 (124.00 Byte)\n",
            "Non-trainable params: 0 (0.00 Byte)\n",
            "_________________________________________________________________\n"
          ]
        }
      ]
    },
    {
      "cell_type": "code",
      "source": [
        "from tensorflow.keras.utils import plot_model\n",
        "\n",
        "plot_model(model,show_shapes=True)"
      ],
      "metadata": {
        "colab": {
          "base_uri": "https://localhost:8080/",
          "height": 312
        },
        "id": "w2pFLNoaZZCX",
        "outputId": "d4425f6c-66a8-4f9f-f358-ced44bbd12f9"
      },
      "execution_count": 68,
      "outputs": [
        {
          "output_type": "execute_result",
          "data": {
            "image/png": "[encoded data removed]",
            "text/plain": [
              "<IPython.core.display.Image object>"
            ]
          },
          "metadata": {},
          "execution_count": 68
        }
      ]
    },
    {
      "cell_type": "markdown",
      "source": [
        "## Visualize our Model's prediction"
      ],
      "metadata": {
        "id": "QOfrhKlXZ3TD"
      }
    },
    {
      "cell_type": "code",
      "source": [
        "y_pred = model.predict(X_test)\n",
        "y_pred"
      ],
      "metadata": {
        "colab": {
          "base_uri": "https://localhost:8080/"
        },
        "id": "XhPdCIXzcIuQ",
        "outputId": "42fc3ef9-2b86-4087-e6c9-d5820451d52d"
      },
      "execution_count": 69,
      "outputs": [
        {
          "output_type": "stream",
          "name": "stdout",
          "text": [
            "1/1 [==============================] - 0s 60ms/step\n"
          ]
        },
        {
          "output_type": "execute_result",
          "data": {
            "text/plain": [
              "array([[ 69.72752 ],\n",
              "       [ 73.72657 ],\n",
              "       [ 77.72563 ],\n",
              "       [ 81.72468 ],\n",
              "       [ 85.72372 ],\n",
              "       [ 89.72278 ],\n",
              "       [ 93.72182 ],\n",
              "       [ 97.72088 ],\n",
              "       [101.719925],\n",
              "       [105.71897 ]], dtype=float32)"
            ]
          },
          "metadata": {},
          "execution_count": 69
        }
      ]
    },
    {
      "cell_type": "code",
      "source": [
        "y_test"
      ],
      "metadata": {
        "colab": {
          "base_uri": "https://localhost:8080/"
        },
        "id": "foXoJMz6ceBl",
        "outputId": "6e66eb56-aa00-4fdf-fd28-93b4a1376c1e"
      },
      "execution_count": 70,
      "outputs": [
        {
          "output_type": "execute_result",
          "data": {
            "text/plain": [
              "<tf.Tensor: shape=(10,), dtype=int32, numpy=array([ 70,  74,  78,  82,  86,  90,  94,  98, 102, 106], dtype=int32)>"
            ]
          },
          "metadata": {},
          "execution_count": 70
        }
      ]
    },
    {
      "cell_type": "code",
      "source": [
        "model.predict([17.0])"
      ],
      "metadata": {
        "colab": {
          "base_uri": "https://localhost:8080/"
        },
        "id": "zqscbJJ1cjGs",
        "outputId": "b431fadf-2933-4923-92bd-8962844e530a"
      },
      "execution_count": 71,
      "outputs": [
        {
          "output_type": "stream",
          "name": "stdout",
          "text": [
            "1/1 [==============================] - 0s 44ms/step\n"
          ]
        },
        {
          "output_type": "execute_result",
          "data": {
            "text/plain": [
              "array([[26.737745]], dtype=float32)"
            ]
          },
          "metadata": {},
          "execution_count": 71
        }
      ]
    },
    {
      "cell_type": "code",
      "source": [
        "def plot_predictions(train_data = X_train,\n",
        "                     train_labels = y_train,\n",
        "                     test_data = X_test,\n",
        "                     test_labels = y_test,\n",
        "                     predictions = y_pred):\n",
        "  plt.figure(figsize=(10,7))\n",
        "\n",
        "  plt.scatter(train_data, train_labels, c= \"b\", label = \"training Data\")\n",
        "\n",
        "  plt.scatter(test_data, test_labels, c = 'g', label = \"testing Data\")\n",
        "\n",
        "  plt.scatter(test_data, predictions, c = 'r', label = \"Predictions\")\n",
        "\n",
        "  plt.legend"
      ],
      "metadata": {
        "id": "TgTy5o6zdLCc"
      },
      "execution_count": 72,
      "outputs": []
    },
    {
      "cell_type": "code",
      "source": [
        "plot_predictions()"
      ],
      "metadata": {
        "colab": {
          "base_uri": "https://localhost:8080/",
          "height": 599
        },
        "id": "HcYzUSdceFOQ",
        "outputId": "c42fff40-6908-44ce-d9d0-21ee1fc3c8f0"
      },
      "execution_count": 74,
      "outputs": [
        {
          "output_type": "display_data",
          "data": {
            "text/plain": [
              "<Figure size 1000x700 with 1 Axes>"
            ],
            "image/png": "[encoded data removed]"
          },
          "metadata": {}
        }
      ]
    },
    {
      "cell_type": "markdown",
      "source": [
        "### Evaluating using regression evaluation metrics"
      ],
      "metadata": {
        "id": "Zb1r38p5eTgs"
      }
    },
    {
      "cell_type": "code",
      "source": [
        "model.evaluate(X_test,y_test)"
      ],
      "metadata": {
        "colab": {
          "base_uri": "https://localhost:8080/"
        },
        "id": "3sFdPnIWe4gq",
        "outputId": "8b6b85a4-6b2f-472b-fb3b-4f43f803f28a"
      },
      "execution_count": 75,
      "outputs": [
        {
          "output_type": "stream",
          "name": "stdout",
          "text": [
            "1/1 [==============================] - 0s 125ms/step - loss: 0.2768 - mae: 0.2768\n"
          ]
        },
        {
          "output_type": "execute_result",
          "data": {
            "text/plain": [
              "[0.276754766702652, 0.276754766702652]"
            ]
          },
          "metadata": {},
          "execution_count": 75
        }
      ]
    },
    {
      "cell_type": "code",
      "source": [
        "# Ca;culate the mean absolute error\n",
        "\n",
        "mae = tf.metrics.mean_absolute_error(y_true= y_test,\n",
        "                                     y_pred = y_pred)\n",
        "mae"
      ],
      "metadata": {
        "id": "05XUVNR7f1xi",
        "colab": {
          "base_uri": "https://localhost:8080/"
        },
        "outputId": "c37cb74e-c9c6-4020-ad1c-1409f9c6ae55"
      },
      "execution_count": 76,
      "outputs": [
        {
          "output_type": "execute_result",
          "data": {
            "text/plain": [
              "<tf.Tensor: shape=(10,), dtype=float32, numpy=\n",
              "array([18.272476 , 15.0187435, 12.564621 , 10.910129 , 10.055257 ,\n",
              "       10.       , 10.744364 , 12.288351 , 14.631955 , 17.775177 ],\n",
              "      dtype=float32)>"
            ]
          },
          "metadata": {},
          "execution_count": 76
        }
      ]
    },
    {
      "cell_type": "code",
      "source": [
        "tf.constant(y_pred)"
      ],
      "metadata": {
        "colab": {
          "base_uri": "https://localhost:8080/"
        },
        "id": "7QjlPas9gRnT",
        "outputId": "4a00b194-4cb0-4c77-d32f-5b426ae463d2"
      },
      "execution_count": 77,
      "outputs": [
        {
          "output_type": "execute_result",
          "data": {
            "text/plain": [
              "<tf.Tensor: shape=(10, 1), dtype=float32, numpy=\n",
              "array([[ 69.72752 ],\n",
              "       [ 73.72657 ],\n",
              "       [ 77.72563 ],\n",
              "       [ 81.72468 ],\n",
              "       [ 85.72372 ],\n",
              "       [ 89.72278 ],\n",
              "       [ 93.72182 ],\n",
              "       [ 97.72088 ],\n",
              "       [101.719925],\n",
              "       [105.71897 ]], dtype=float32)>"
            ]
          },
          "metadata": {},
          "execution_count": 77
        }
      ]
    },
    {
      "cell_type": "code",
      "source": [
        "y_test"
      ],
      "metadata": {
        "colab": {
          "base_uri": "https://localhost:8080/"
        },
        "id": "tAo6idKrgoM9",
        "outputId": "fcb0f344-32af-4cc0-c567-44425898837d"
      },
      "execution_count": 78,
      "outputs": [
        {
          "output_type": "execute_result",
          "data": {
            "text/plain": [
              "<tf.Tensor: shape=(10,), dtype=int32, numpy=array([ 70,  74,  78,  82,  86,  90,  94,  98, 102, 106], dtype=int32)>"
            ]
          },
          "metadata": {},
          "execution_count": 78
        }
      ]
    },
    {
      "cell_type": "code",
      "source": [
        "tf.squeeze(y_pred)"
      ],
      "metadata": {
        "colab": {
          "base_uri": "https://localhost:8080/"
        },
        "id": "pdowTaW-g2VD",
        "outputId": "d2468321-963a-4a1a-cfd5-3e29fc5f7ebc"
      },
      "execution_count": 79,
      "outputs": [
        {
          "output_type": "execute_result",
          "data": {
            "text/plain": [
              "<tf.Tensor: shape=(10,), dtype=float32, numpy=\n",
              "array([ 69.72752 ,  73.72657 ,  77.72563 ,  81.72468 ,  85.72372 ,\n",
              "        89.72278 ,  93.72182 ,  97.72088 , 101.719925, 105.71897 ],\n",
              "      dtype=float32)>"
            ]
          },
          "metadata": {},
          "execution_count": 79
        }
      ]
    },
    {
      "cell_type": "code",
      "source": [
        "mae = tf.metrics.mean_absolute_error(y_true=y_test,\n",
        "                                     y_pred=tf.squeeze(y_pred))\n",
        "mae"
      ],
      "metadata": {
        "colab": {
          "base_uri": "https://localhost:8080/"
        },
        "id": "1gNXLeiug7rv",
        "outputId": "5f504077-58a3-4267-fd5a-429692e9e8b0"
      },
      "execution_count": 80,
      "outputs": [
        {
          "output_type": "execute_result",
          "data": {
            "text/plain": [
              "<tf.Tensor: shape=(), dtype=float32, numpy=0.27675095>"
            ]
          },
          "metadata": {},
          "execution_count": 80
        }
      ]
    },
    {
      "cell_type": "code",
      "source": [
        "mse = tf.metrics.mean_squared_error(y_true=y_test,\n",
        "                                     y_pred=tf.squeeze(y_pred))\n",
        "mse"
      ],
      "metadata": {
        "colab": {
          "base_uri": "https://localhost:8080/"
        },
        "id": "K4GPrHEnhOvj",
        "outputId": "d4a8ba93-775b-41c2-c087-552ee9af1599"
      },
      "execution_count": 81,
      "outputs": [
        {
          "output_type": "execute_result",
          "data": {
            "text/plain": [
              "<tf.Tensor: shape=(), dtype=float32, numpy=0.07659854>"
            ]
          },
          "metadata": {},
          "execution_count": 81
        }
      ]
    },
    {
      "cell_type": "code",
      "source": [
        "def MAE(y_true, y_pred):\n",
        "  return tf.metrics.mean_absolute_error(y_true=y_true,\n",
        "                                        y_pred=tf.squeeze(y_pred))\n",
        "\n",
        "def MSE(y_true, y_pred):\n",
        "  return tf.metrics.mean_squared_error(y_true=y_true,\n",
        "                                       y_pred=tf.squeeze(y_pred))"
      ],
      "metadata": {
        "id": "rcsMKkVohb2n"
      },
      "execution_count": 82,
      "outputs": []
    },
    {
      "cell_type": "markdown",
      "source": [
        "### Model Improvement\n",
        "\n",
        "1. Get more Data\n",
        "2. Make model Larger.\n",
        "3. Train for Longer"
      ],
      "metadata": {
        "id": "HuNMTWWNiE6j"
      }
    },
    {
      "cell_type": "code",
      "source": [
        "X_train, y_train"
      ],
      "metadata": {
        "colab": {
          "base_uri": "https://localhost:8080/"
        },
        "id": "iZMRmTGr3I0J",
        "outputId": "0d469516-b288-4d9a-b99f-0fdfa34508df"
      },
      "execution_count": 47,
      "outputs": [
        {
          "output_type": "execute_result",
          "data": {
            "text/plain": [
              "(<tf.Tensor: shape=(40,), dtype=int32, numpy=\n",
              " array([-100,  -96,  -92,  -88,  -84,  -80,  -76,  -72,  -68,  -64,  -60,\n",
              "         -56,  -52,  -48,  -44,  -40,  -36,  -32,  -28,  -24,  -20,  -16,\n",
              "         -12,   -8,   -4,    0,    4,    8,   12,   16,   20,   24,   28,\n",
              "          32,   36,   40,   44,   48,   52,   56], dtype=int32)>,\n",
              " <tf.Tensor: shape=(40,), dtype=int32, numpy=\n",
              " array([-90, -86, -82, -78, -74, -70, -66, -62, -58, -54, -50, -46, -42,\n",
              "        -38, -34, -30, -26, -22, -18, -14, -10,  -6,  -2,   2,   6,  10,\n",
              "         14,  18,  22,  26,  30,  34,  38,  42,  46,  50,  54,  58,  62,\n",
              "         66], dtype=int32)>)"
            ]
          },
          "metadata": {},
          "execution_count": 47
        }
      ]
    },
    {
      "cell_type": "markdown",
      "source": [
        "3 modelling Experiments\n",
        "\n",
        "1. `model_1` = same as the original model, 1 layer, trained for 100 epochs.\n",
        "2. `model_2` = 2 layers, trained for 100 epochs.\n",
        "3. `model_3` = 2 layers, trained for 500 epochs"
      ],
      "metadata": {
        "id": "TAt80pwE3dIP"
      }
    },
    {
      "cell_type": "code",
      "source": [
        "tf.random.set_seed(42)\n",
        "\n",
        "model_1 = tf.keras.Sequential([\n",
        "    tf.keras.layers.Dense(1)\n",
        "])\n",
        "\n",
        "model_1.compile(loss = tf.keras.losses.mae,\n",
        "                optimizer = tf.keras.optimizers.SGD(),\n",
        "                metrics=['mae'])\n",
        "\n",
        "model_1.fit(tf.expand_dims(X_train, axis = -1), y_train, epochs = 100)"
      ],
      "metadata": {
        "colab": {
          "base_uri": "https://localhost:8080/"
        },
        "id": "vUdrsntH4AhB",
        "outputId": "1f9731fe-c7e9-4b43-f8c5-118fdc3ddd01"
      },
      "execution_count": 83,
      "outputs": [
        {
          "output_type": "stream",
          "name": "stdout",
          "text": [
            "Epoch 1/100\n",
            "2/2 [==============================] - 0s 14ms/step - loss: 9.5784 - mae: 9.5784\n",
            "Epoch 2/100\n",
            "2/2 [==============================] - 0s 10ms/step - loss: 10.2339 - mae: 10.2339\n",
            "Epoch 3/100\n",
            "2/2 [==============================] - 0s 13ms/step - loss: 10.0892 - mae: 10.0892\n",
            "Epoch 4/100\n",
            "2/2 [==============================] - 0s 11ms/step - loss: 9.5157 - mae: 9.5157\n",
            "Epoch 5/100\n",
            "2/2 [==============================] - 0s 9ms/step - loss: 10.4186 - mae: 10.4186\n",
            "Epoch 6/100\n",
            "2/2 [==============================] - 0s 9ms/step - loss: 9.6501 - mae: 9.6501\n",
            "Epoch 7/100\n",
            "2/2 [==============================] - 0s 8ms/step - loss: 8.7532 - mae: 8.7532\n",
            "Epoch 8/100\n",
            "2/2 [==============================] - 0s 10ms/step - loss: 9.0536 - mae: 9.0536\n",
            "Epoch 9/100\n",
            "2/2 [==============================] - 0s 10ms/step - loss: 19.2212 - mae: 19.2212\n",
            "Epoch 10/100\n",
            "2/2 [==============================] - 0s 10ms/step - loss: 10.3709 - mae: 10.3709\n",
            "Epoch 11/100\n",
            "2/2 [==============================] - 0s 12ms/step - loss: 8.4942 - mae: 8.4942\n",
            "Epoch 12/100\n",
            "2/2 [==============================] - 0s 11ms/step - loss: 10.8681 - mae: 10.8681\n",
            "Epoch 13/100\n",
            "2/2 [==============================] - 0s 9ms/step - loss: 9.9092 - mae: 9.9092\n",
            "Epoch 14/100\n",
            "2/2 [==============================] - 0s 9ms/step - loss: 9.4697 - mae: 9.4697\n",
            "Epoch 15/100\n",
            "2/2 [==============================] - 0s 9ms/step - loss: 13.6819 - mae: 13.6819\n",
            "Epoch 16/100\n",
            "2/2 [==============================] - 0s 9ms/step - loss: 8.9335 - mae: 8.9335\n",
            "Epoch 17/100\n",
            "2/2 [==============================] - 0s 9ms/step - loss: 12.8401 - mae: 12.8401\n",
            "Epoch 18/100\n",
            "2/2 [==============================] - 0s 7ms/step - loss: 10.4720 - mae: 10.4720\n",
            "Epoch 19/100\n",
            "2/2 [==============================] - 0s 8ms/step - loss: 19.2255 - mae: 19.2255\n",
            "Epoch 20/100\n",
            "2/2 [==============================] - 0s 8ms/step - loss: 15.8903 - mae: 15.8903\n",
            "Epoch 21/100\n",
            "2/2 [==============================] - 0s 8ms/step - loss: 11.7200 - mae: 11.7200\n",
            "Epoch 22/100\n",
            "2/2 [==============================] - 0s 10ms/step - loss: 8.9212 - mae: 8.9212\n",
            "Epoch 23/100\n",
            "2/2 [==============================] - 0s 10ms/step - loss: 10.0539 - mae: 10.0539\n",
            "Epoch 24/100\n",
            "2/2 [==============================] - 0s 13ms/step - loss: 15.6177 - mae: 15.6177\n",
            "Epoch 25/100\n",
            "2/2 [==============================] - 0s 10ms/step - loss: 12.0867 - mae: 12.0867\n",
            "Epoch 26/100\n",
            "2/2 [==============================] - 0s 8ms/step - loss: 13.1976 - mae: 13.1976\n",
            "Epoch 27/100\n",
            "2/2 [==============================] - 0s 8ms/step - loss: 10.6645 - mae: 10.6645\n",
            "Epoch 28/100\n",
            "2/2 [==============================] - 0s 9ms/step - loss: 12.8891 - mae: 12.8891\n",
            "Epoch 29/100\n",
            "2/2 [==============================] - 0s 9ms/step - loss: 9.5037 - mae: 9.5037\n",
            "Epoch 30/100\n",
            "2/2 [==============================] - 0s 11ms/step - loss: 16.4215 - mae: 16.4215\n",
            "Epoch 31/100\n",
            "2/2 [==============================] - 0s 9ms/step - loss: 23.5633 - mae: 23.5633\n",
            "Epoch 32/100\n",
            "2/2 [==============================] - 0s 9ms/step - loss: 7.5991 - mae: 7.5991\n",
            "Epoch 33/100\n",
            "2/2 [==============================] - 0s 8ms/step - loss: 9.2958 - mae: 9.2958\n",
            "Epoch 34/100\n",
            "2/2 [==============================] - 0s 10ms/step - loss: 13.6654 - mae: 13.6654\n",
            "Epoch 35/100\n",
            "2/2 [==============================] - 0s 10ms/step - loss: 11.1524 - mae: 11.1524\n",
            "Epoch 36/100\n",
            "2/2 [==============================] - 0s 9ms/step - loss: 13.3823 - mae: 13.3823\n",
            "Epoch 37/100\n",
            "2/2 [==============================] - 0s 9ms/step - loss: 9.4407 - mae: 9.4407\n",
            "Epoch 38/100\n",
            "2/2 [==============================] - 0s 9ms/step - loss: 10.0907 - mae: 10.0907\n",
            "Epoch 39/100\n",
            "2/2 [==============================] - 0s 10ms/step - loss: 8.9673 - mae: 8.9673\n",
            "Epoch 40/100\n",
            "2/2 [==============================] - 0s 10ms/step - loss: 9.5955 - mae: 9.5955\n",
            "Epoch 41/100\n",
            "2/2 [==============================] - 0s 10ms/step - loss: 10.5575 - mae: 10.5575\n",
            "Epoch 42/100\n",
            "2/2 [==============================] - 0s 10ms/step - loss: 10.6114 - mae: 10.6114\n",
            "Epoch 43/100\n",
            "2/2 [==============================] - 0s 9ms/step - loss: 7.1984 - mae: 7.1984\n",
            "Epoch 44/100\n",
            "2/2 [==============================] - 0s 9ms/step - loss: 8.0091 - mae: 8.0091\n",
            "Epoch 45/100\n",
            "2/2 [==============================] - 0s 9ms/step - loss: 9.8119 - mae: 9.8119\n",
            "Epoch 46/100\n",
            "2/2 [==============================] - 0s 10ms/step - loss: 8.8930 - mae: 8.8930\n",
            "Epoch 47/100\n",
            "2/2 [==============================] - 0s 11ms/step - loss: 7.5525 - mae: 7.5525\n",
            "Epoch 48/100\n",
            "2/2 [==============================] - 0s 11ms/step - loss: 8.5145 - mae: 8.5145\n",
            "Epoch 49/100\n",
            "2/2 [==============================] - 0s 10ms/step - loss: 10.0242 - mae: 10.0242\n",
            "Epoch 50/100\n",
            "2/2 [==============================] - 0s 11ms/step - loss: 8.9602 - mae: 8.9602\n",
            "Epoch 51/100\n",
            "2/2 [==============================] - 0s 11ms/step - loss: 10.7021 - mae: 10.7021\n",
            "Epoch 52/100\n",
            "2/2 [==============================] - 0s 9ms/step - loss: 15.2431 - mae: 15.2431\n",
            "Epoch 53/100\n",
            "2/2 [==============================] - 0s 12ms/step - loss: 14.2764 - mae: 14.2764\n",
            "Epoch 54/100\n",
            "2/2 [==============================] - 0s 15ms/step - loss: 21.5225 - mae: 21.5225\n",
            "Epoch 55/100\n",
            "2/2 [==============================] - 0s 8ms/step - loss: 16.0548 - mae: 16.0548\n",
            "Epoch 56/100\n",
            "2/2 [==============================] - 0s 9ms/step - loss: 10.2264 - mae: 10.2264\n",
            "Epoch 57/100\n",
            "2/2 [==============================] - 0s 8ms/step - loss: 9.7887 - mae: 9.7887\n",
            "Epoch 58/100\n",
            "2/2 [==============================] - 0s 9ms/step - loss: 9.0697 - mae: 9.0697\n",
            "Epoch 59/100\n",
            "2/2 [==============================] - 0s 10ms/step - loss: 8.2757 - mae: 8.2757\n",
            "Epoch 60/100\n",
            "2/2 [==============================] - 0s 9ms/step - loss: 9.3656 - mae: 9.3656\n",
            "Epoch 61/100\n",
            "2/2 [==============================] - 0s 11ms/step - loss: 11.1983 - mae: 11.1983\n",
            "Epoch 62/100\n",
            "2/2 [==============================] - 0s 12ms/step - loss: 12.0125 - mae: 12.0125\n",
            "Epoch 63/100\n",
            "2/2 [==============================] - 0s 9ms/step - loss: 7.2616 - mae: 7.2616\n",
            "Epoch 64/100\n",
            "2/2 [==============================] - 0s 9ms/step - loss: 12.4642 - mae: 12.4642\n",
            "Epoch 65/100\n",
            "2/2 [==============================] - 0s 9ms/step - loss: 10.5341 - mae: 10.5341\n",
            "Epoch 66/100\n",
            "2/2 [==============================] - 0s 10ms/step - loss: 15.5456 - mae: 15.5456\n",
            "Epoch 67/100\n",
            "2/2 [==============================] - 0s 9ms/step - loss: 9.9605 - mae: 9.9605\n",
            "Epoch 68/100\n",
            "2/2 [==============================] - 0s 8ms/step - loss: 8.6927 - mae: 8.6927\n",
            "Epoch 69/100\n",
            "2/2 [==============================] - 0s 9ms/step - loss: 13.4203 - mae: 13.4203\n",
            "Epoch 70/100\n",
            "2/2 [==============================] - 0s 8ms/step - loss: 7.4561 - mae: 7.4561\n",
            "Epoch 71/100\n",
            "2/2 [==============================] - 0s 9ms/step - loss: 12.2610 - mae: 12.2610\n",
            "Epoch 72/100\n",
            "2/2 [==============================] - 0s 9ms/step - loss: 8.4900 - mae: 8.4900\n",
            "Epoch 73/100\n",
            "2/2 [==============================] - 0s 10ms/step - loss: 6.8565 - mae: 6.8565\n",
            "Epoch 74/100\n",
            "2/2 [==============================] - 0s 10ms/step - loss: 11.1328 - mae: 11.1328\n",
            "Epoch 75/100\n",
            "2/2 [==============================] - 0s 10ms/step - loss: 9.3579 - mae: 9.3579\n",
            "Epoch 76/100\n",
            "2/2 [==============================] - 0s 8ms/step - loss: 10.8188 - mae: 10.8188\n",
            "Epoch 77/100\n",
            "2/2 [==============================] - 0s 9ms/step - loss: 14.6986 - mae: 14.6986\n",
            "Epoch 78/100\n",
            "2/2 [==============================] - 0s 9ms/step - loss: 11.1482 - mae: 11.1482\n",
            "Epoch 79/100\n",
            "2/2 [==============================] - 0s 10ms/step - loss: 14.7084 - mae: 14.7084\n",
            "Epoch 80/100\n",
            "2/2 [==============================] - 0s 9ms/step - loss: 8.9126 - mae: 8.9126\n",
            "Epoch 81/100\n",
            "2/2 [==============================] - 0s 9ms/step - loss: 10.7514 - mae: 10.7514\n",
            "Epoch 82/100\n",
            "2/2 [==============================] - 0s 8ms/step - loss: 8.3914 - mae: 8.3914\n",
            "Epoch 83/100\n",
            "2/2 [==============================] - 0s 9ms/step - loss: 9.2103 - mae: 9.2103\n",
            "Epoch 84/100\n",
            "2/2 [==============================] - 0s 9ms/step - loss: 8.9322 - mae: 8.9322\n",
            "Epoch 85/100\n",
            "2/2 [==============================] - 0s 11ms/step - loss: 13.1809 - mae: 13.1809\n",
            "Epoch 86/100\n",
            "2/2 [==============================] - 0s 10ms/step - loss: 13.7088 - mae: 13.7088\n",
            "Epoch 87/100\n",
            "2/2 [==============================] - 0s 10ms/step - loss: 13.1933 - mae: 13.1933\n",
            "Epoch 88/100\n",
            "2/2 [==============================] - 0s 8ms/step - loss: 11.5190 - mae: 11.5190\n",
            "Epoch 89/100\n",
            "2/2 [==============================] - 0s 10ms/step - loss: 7.7998 - mae: 7.7998\n",
            "Epoch 90/100\n",
            "2/2 [==============================] - 0s 9ms/step - loss: 10.9322 - mae: 10.9322\n",
            "Epoch 91/100\n",
            "2/2 [==============================] - 0s 9ms/step - loss: 6.7416 - mae: 6.7416\n",
            "Epoch 92/100\n",
            "2/2 [==============================] - 0s 10ms/step - loss: 10.1249 - mae: 10.1249\n",
            "Epoch 93/100\n",
            "2/2 [==============================] - 0s 9ms/step - loss: 7.5964 - mae: 7.5964\n",
            "Epoch 94/100\n",
            "2/2 [==============================] - 0s 9ms/step - loss: 9.2279 - mae: 9.2279\n",
            "Epoch 95/100\n",
            "2/2 [==============================] - 0s 10ms/step - loss: 10.8129 - mae: 10.8129\n",
            "Epoch 96/100\n",
            "2/2 [==============================] - 0s 9ms/step - loss: 10.2988 - mae: 10.2988\n",
            "Epoch 97/100\n",
            "2/2 [==============================] - 0s 10ms/step - loss: 7.6666 - mae: 7.6666\n",
            "Epoch 98/100\n",
            "2/2 [==============================] - 0s 11ms/step - loss: 8.6025 - mae: 8.6025\n",
            "Epoch 99/100\n",
            "2/2 [==============================] - 0s 10ms/step - loss: 9.3799 - mae: 9.3799\n",
            "Epoch 100/100\n",
            "2/2 [==============================] - 0s 10ms/step - loss: 8.8283 - mae: 8.8283\n"
          ]
        },
        {
          "output_type": "execute_result",
          "data": {
            "text/plain": [
              "<keras.src.callbacks.History at 0x78922db99e40>"
            ]
          },
          "metadata": {},
          "execution_count": 83
        }
      ]
    },
    {
      "cell_type": "code",
      "source": [
        "from tensorflow.keras.utils import plot_model\n",
        "plot_model(model_1,show_shapes=True)"
      ],
      "metadata": {
        "colab": {
          "base_uri": "https://localhost:8080/",
          "height": 201
        },
        "id": "e877YSDJ6p3f",
        "outputId": "42b3cd98-1ffe-42f2-e3d5-bd15b80dddb3"
      },
      "execution_count": 84,
      "outputs": [
        {
          "output_type": "execute_result",
          "data": {
            "image/png": "[encoded data removed]",
            "text/plain": [
              "<IPython.core.display.Image object>"
            ]
          },
          "metadata": {},
          "execution_count": 84
        }
      ]
    },
    {
      "cell_type": "code",
      "source": [
        "y_pred_1 = model_1.predict(X_test)\n",
        "y_pred_1"
      ],
      "metadata": {
        "colab": {
          "base_uri": "https://localhost:8080/"
        },
        "id": "WfMEBSs_7KXO",
        "outputId": "b22fe1c4-91dc-48a9-f5cc-a9246194ca3c"
      },
      "execution_count": 85,
      "outputs": [
        {
          "output_type": "stream",
          "name": "stdout",
          "text": [
            "1/1 [==============================] - 0s 52ms/step\n"
          ]
        },
        {
          "output_type": "execute_result",
          "data": {
            "text/plain": [
              "array([[ 74.623726],\n",
              "       [ 79.511185],\n",
              "       [ 84.39864 ],\n",
              "       [ 89.2861  ],\n",
              "       [ 94.17355 ],\n",
              "       [ 99.06101 ],\n",
              "       [103.94847 ],\n",
              "       [108.83592 ],\n",
              "       [113.72338 ],\n",
              "       [118.61084 ]], dtype=float32)"
            ]
          },
          "metadata": {},
          "execution_count": 85
        }
      ]
    },
    {
      "cell_type": "code",
      "source": [
        "plot_predictions(predictions=y_pred_1)"
      ],
      "metadata": {
        "colab": {
          "base_uri": "https://localhost:8080/",
          "height": 599
        },
        "id": "FeQs11407uG_",
        "outputId": "982efd02-bd62-4a08-a407-f78f4d862e13"
      },
      "execution_count": 86,
      "outputs": [
        {
          "output_type": "display_data",
          "data": {
            "text/plain": [
              "<Figure size 1000x700 with 1 Axes>"
            ],
            "image/png": "[encoded data removed]"
          },
          "metadata": {}
        }
      ]
    },
    {
      "cell_type": "code",
      "source": [
        "mae_1 = MAE(y_true=y_test, y_pred=y_pred_1)\n",
        "mse_1 = MSE(y_true = y_test, y_pred=y_pred_1)"
      ],
      "metadata": {
        "id": "23HNBvit71wV"
      },
      "execution_count": 87,
      "outputs": []
    },
    {
      "cell_type": "markdown",
      "source": [
        "### `model_2`"
      ],
      "metadata": {
        "id": "0DhGHfXs8C0-"
      }
    },
    {
      "cell_type": "code",
      "source": [
        "tf.random.set_seed(42)\n",
        "\n",
        "model_2 = tf.keras.Sequential([\n",
        "    tf.keras.layers.Dense(10,input_shape = [1]),\n",
        "    tf.keras.layers.Dense(1)\n",
        "])\n",
        "\n",
        "model_2.compile(loss = tf.keras.losses.mae,\n",
        "                optimizer = tf.keras.optimizers.SGD(),\n",
        "                metrics = ['mae'])\n",
        "\n",
        "model_2.fit(X_train, y_train, epochs = 100)"
      ],
      "metadata": {
        "colab": {
          "base_uri": "https://localhost:8080/"
        },
        "id": "PtOyu9Iq82e9",
        "outputId": "98b31e79-71a4-4af2-cbf4-16a2793a278b"
      },
      "execution_count": 88,
      "outputs": [
        {
          "output_type": "stream",
          "name": "stdout",
          "text": [
            "Epoch 1/100\n",
            "2/2 [==============================] - 0s 12ms/step - loss: 34.0319 - mae: 34.0319\n",
            "Epoch 2/100\n",
            "2/2 [==============================] - 0s 8ms/step - loss: 28.2777 - mae: 28.2777\n",
            "Epoch 3/100\n",
            "2/2 [==============================] - 0s 8ms/step - loss: 33.2306 - mae: 33.2306\n",
            "Epoch 4/100\n",
            "2/2 [==============================] - 0s 9ms/step - loss: 28.2331 - mae: 28.2331\n",
            "Epoch 5/100\n",
            "2/2 [==============================] - 0s 10ms/step - loss: 15.3458 - mae: 15.3458\n",
            "Epoch 6/100\n",
            "2/2 [==============================] - 0s 11ms/step - loss: 12.1828 - mae: 12.1828\n",
            "Epoch 7/100\n",
            "2/2 [==============================] - 0s 7ms/step - loss: 11.4767 - mae: 11.4767\n",
            "Epoch 8/100\n",
            "2/2 [==============================] - 0s 7ms/step - loss: 11.2020 - mae: 11.2020\n",
            "Epoch 9/100\n",
            "2/2 [==============================] - 0s 8ms/step - loss: 41.7731 - mae: 41.7731\n",
            "Epoch 10/100\n",
            "2/2 [==============================] - 0s 7ms/step - loss: 28.9997 - mae: 28.9997\n",
            "Epoch 11/100\n",
            "2/2 [==============================] - 0s 8ms/step - loss: 8.5495 - mae: 8.5495\n",
            "Epoch 12/100\n",
            "2/2 [==============================] - 0s 7ms/step - loss: 27.4119 - mae: 27.4119\n",
            "Epoch 13/100\n",
            "2/2 [==============================] - 0s 12ms/step - loss: 12.1337 - mae: 12.1337\n",
            "Epoch 14/100\n",
            "2/2 [==============================] - 0s 9ms/step - loss: 34.9360 - mae: 34.9360\n",
            "Epoch 15/100\n",
            "2/2 [==============================] - 0s 9ms/step - loss: 22.7479 - mae: 22.7479\n",
            "Epoch 16/100\n",
            "2/2 [==============================] - 0s 8ms/step - loss: 9.9607 - mae: 9.9607\n",
            "Epoch 17/100\n",
            "2/2 [==============================] - 0s 12ms/step - loss: 17.9518 - mae: 17.9518\n",
            "Epoch 18/100\n",
            "2/2 [==============================] - 0s 10ms/step - loss: 14.7646 - mae: 14.7646\n",
            "Epoch 19/100\n",
            "2/2 [==============================] - 0s 9ms/step - loss: 11.5938 - mae: 11.5938\n",
            "Epoch 20/100\n",
            "2/2 [==============================] - 0s 9ms/step - loss: 10.5405 - mae: 10.5405\n",
            "Epoch 21/100\n",
            "2/2 [==============================] - 0s 10ms/step - loss: 15.4018 - mae: 15.4018\n",
            "Epoch 22/100\n",
            "2/2 [==============================] - 0s 10ms/step - loss: 16.0751 - mae: 16.0751\n",
            "Epoch 23/100\n",
            "2/2 [==============================] - 0s 11ms/step - loss: 9.2536 - mae: 9.2536\n",
            "Epoch 24/100\n",
            "2/2 [==============================] - 0s 8ms/step - loss: 17.3417 - mae: 17.3417\n",
            "Epoch 25/100\n",
            "2/2 [==============================] - 0s 9ms/step - loss: 15.9930 - mae: 15.9930\n",
            "Epoch 26/100\n",
            "2/2 [==============================] - 0s 10ms/step - loss: 21.0586 - mae: 21.0586\n",
            "Epoch 27/100\n",
            "2/2 [==============================] - 0s 9ms/step - loss: 25.6777 - mae: 25.6777\n",
            "Epoch 28/100\n",
            "2/2 [==============================] - 0s 8ms/step - loss: 18.2133 - mae: 18.2133\n",
            "Epoch 29/100\n",
            "2/2 [==============================] - 0s 9ms/step - loss: 9.2348 - mae: 9.2348\n",
            "Epoch 30/100\n",
            "2/2 [==============================] - 0s 8ms/step - loss: 28.8114 - mae: 28.8114\n",
            "Epoch 31/100\n",
            "2/2 [==============================] - 0s 9ms/step - loss: 52.1524 - mae: 52.1524\n",
            "Epoch 32/100\n",
            "2/2 [==============================] - 0s 9ms/step - loss: 11.4584 - mae: 11.4584\n",
            "Epoch 33/100\n",
            "2/2 [==============================] - 0s 8ms/step - loss: 12.2010 - mae: 12.2010\n",
            "Epoch 34/100\n",
            "2/2 [==============================] - 0s 15ms/step - loss: 24.0450 - mae: 24.0450\n",
            "Epoch 35/100\n",
            "2/2 [==============================] - 0s 12ms/step - loss: 12.0017 - mae: 12.0017\n",
            "Epoch 36/100\n",
            "2/2 [==============================] - 0s 8ms/step - loss: 22.3517 - mae: 22.3517\n",
            "Epoch 37/100\n",
            "2/2 [==============================] - 0s 10ms/step - loss: 17.1414 - mae: 17.1414\n",
            "Epoch 38/100\n",
            "2/2 [==============================] - 0s 10ms/step - loss: 10.5751 - mae: 10.5751\n",
            "Epoch 39/100\n",
            "2/2 [==============================] - 0s 10ms/step - loss: 11.0932 - mae: 11.0932\n",
            "Epoch 40/100\n",
            "2/2 [==============================] - 0s 10ms/step - loss: 17.7126 - mae: 17.7126\n",
            "Epoch 41/100\n",
            "2/2 [==============================] - 0s 9ms/step - loss: 10.2804 - mae: 10.2804\n",
            "Epoch 42/100\n",
            "2/2 [==============================] - 0s 10ms/step - loss: 7.2829 - mae: 7.2829\n",
            "Epoch 43/100\n",
            "2/2 [==============================] - 0s 9ms/step - loss: 18.4036 - mae: 18.4036\n",
            "Epoch 44/100\n",
            "2/2 [==============================] - 0s 10ms/step - loss: 21.9306 - mae: 21.9306\n",
            "Epoch 45/100\n",
            "2/2 [==============================] - 0s 10ms/step - loss: 10.0797 - mae: 10.0797\n",
            "Epoch 46/100\n",
            "2/2 [==============================] - 0s 10ms/step - loss: 11.3210 - mae: 11.3210\n",
            "Epoch 47/100\n",
            "2/2 [==============================] - 0s 10ms/step - loss: 9.8421 - mae: 9.8421\n",
            "Epoch 48/100\n",
            "2/2 [==============================] - 0s 9ms/step - loss: 17.6602 - mae: 17.6602\n",
            "Epoch 49/100\n",
            "2/2 [==============================] - 0s 14ms/step - loss: 9.2979 - mae: 9.2979\n",
            "Epoch 50/100\n",
            "2/2 [==============================] - 0s 9ms/step - loss: 13.3196 - mae: 13.3196\n",
            "Epoch 51/100\n",
            "2/2 [==============================] - 0s 11ms/step - loss: 11.4114 - mae: 11.4114\n",
            "Epoch 52/100\n",
            "2/2 [==============================] - 0s 9ms/step - loss: 29.2637 - mae: 29.2637\n",
            "Epoch 53/100\n",
            "2/2 [==============================] - 0s 10ms/step - loss: 16.6707 - mae: 16.6707\n",
            "Epoch 54/100\n",
            "2/2 [==============================] - 0s 10ms/step - loss: 21.6282 - mae: 21.6282\n",
            "Epoch 55/100\n",
            "2/2 [==============================] - 0s 8ms/step - loss: 22.0623 - mae: 22.0623\n",
            "Epoch 56/100\n",
            "2/2 [==============================] - 0s 10ms/step - loss: 11.2023 - mae: 11.2023\n",
            "Epoch 57/100\n",
            "2/2 [==============================] - 0s 9ms/step - loss: 13.1678 - mae: 13.1678\n",
            "Epoch 58/100\n",
            "2/2 [==============================] - 0s 11ms/step - loss: 9.8426 - mae: 9.8426\n",
            "Epoch 59/100\n",
            "2/2 [==============================] - 0s 8ms/step - loss: 13.3549 - mae: 13.3549\n",
            "Epoch 60/100\n",
            "2/2 [==============================] - 0s 9ms/step - loss: 10.9039 - mae: 10.9039\n",
            "Epoch 61/100\n",
            "2/2 [==============================] - 0s 9ms/step - loss: 13.5133 - mae: 13.5133\n",
            "Epoch 62/100\n",
            "2/2 [==============================] - 0s 8ms/step - loss: 17.5640 - mae: 17.5640\n",
            "Epoch 63/100\n",
            "2/2 [==============================] - 0s 8ms/step - loss: 9.1818 - mae: 9.1818\n",
            "Epoch 64/100\n",
            "2/2 [==============================] - 0s 9ms/step - loss: 18.4328 - mae: 18.4328\n",
            "Epoch 65/100\n",
            "2/2 [==============================] - 0s 9ms/step - loss: 10.1370 - mae: 10.1370\n",
            "Epoch 66/100\n",
            "2/2 [==============================] - 0s 9ms/step - loss: 24.3038 - mae: 24.3038\n",
            "Epoch 67/100\n",
            "2/2 [==============================] - 0s 10ms/step - loss: 10.9126 - mae: 10.9126\n",
            "Epoch 68/100\n",
            "2/2 [==============================] - 0s 9ms/step - loss: 10.7901 - mae: 10.7901\n",
            "Epoch 69/100\n",
            "2/2 [==============================] - 0s 9ms/step - loss: 23.2872 - mae: 23.2872\n",
            "Epoch 70/100\n",
            "2/2 [==============================] - 0s 9ms/step - loss: 8.8143 - mae: 8.8143\n",
            "Epoch 71/100\n",
            "2/2 [==============================] - 0s 10ms/step - loss: 15.9744 - mae: 15.9744\n",
            "Epoch 72/100\n",
            "2/2 [==============================] - 0s 10ms/step - loss: 8.1452 - mae: 8.1452\n",
            "Epoch 73/100\n",
            "2/2 [==============================] - 0s 9ms/step - loss: 9.4672 - mae: 9.4672\n",
            "Epoch 74/100\n",
            "2/2 [==============================] - 0s 10ms/step - loss: 28.1500 - mae: 28.1500\n",
            "Epoch 75/100\n",
            "2/2 [==============================] - 0s 9ms/step - loss: 10.2131 - mae: 10.2131\n",
            "Epoch 76/100\n",
            "2/2 [==============================] - 0s 8ms/step - loss: 13.1641 - mae: 13.1641\n",
            "Epoch 77/100\n",
            "2/2 [==============================] - 0s 9ms/step - loss: 18.4044 - mae: 18.4044\n",
            "Epoch 78/100\n",
            "2/2 [==============================] - 0s 9ms/step - loss: 9.0266 - mae: 9.0266\n",
            "Epoch 79/100\n",
            "2/2 [==============================] - 0s 9ms/step - loss: 23.4497 - mae: 23.4497\n",
            "Epoch 80/100\n",
            "2/2 [==============================] - 0s 9ms/step - loss: 26.1234 - mae: 26.1234\n",
            "Epoch 81/100\n",
            "2/2 [==============================] - 0s 11ms/step - loss: 11.4036 - mae: 11.4036\n",
            "Epoch 82/100\n",
            "2/2 [==============================] - 0s 10ms/step - loss: 12.4952 - mae: 12.4952\n",
            "Epoch 83/100\n",
            "2/2 [==============================] - 0s 11ms/step - loss: 17.1843 - mae: 17.1843\n",
            "Epoch 84/100\n",
            "2/2 [==============================] - 0s 9ms/step - loss: 6.6028 - mae: 6.6028\n",
            "Epoch 85/100\n",
            "2/2 [==============================] - 0s 13ms/step - loss: 20.2972 - mae: 20.2972\n",
            "Epoch 86/100\n",
            "2/2 [==============================] - 0s 9ms/step - loss: 10.1770 - mae: 10.1770\n",
            "Epoch 87/100\n",
            "2/2 [==============================] - 0s 11ms/step - loss: 24.3364 - mae: 24.3364\n",
            "Epoch 88/100\n",
            "2/2 [==============================] - 0s 10ms/step - loss: 19.0015 - mae: 19.0015\n",
            "Epoch 89/100\n",
            "2/2 [==============================] - 0s 9ms/step - loss: 7.1724 - mae: 7.1724\n",
            "Epoch 90/100\n",
            "2/2 [==============================] - 0s 9ms/step - loss: 18.2641 - mae: 18.2641\n",
            "Epoch 91/100\n",
            "2/2 [==============================] - 0s 9ms/step - loss: 13.3152 - mae: 13.3152\n",
            "Epoch 92/100\n",
            "2/2 [==============================] - 0s 9ms/step - loss: 8.7261 - mae: 8.7261\n",
            "Epoch 93/100\n",
            "2/2 [==============================] - 0s 10ms/step - loss: 14.1780 - mae: 14.1780\n",
            "Epoch 94/100\n",
            "2/2 [==============================] - 0s 10ms/step - loss: 17.1785 - mae: 17.1785\n",
            "Epoch 95/100\n",
            "2/2 [==============================] - 0s 10ms/step - loss: 16.7546 - mae: 16.7546\n",
            "Epoch 96/100\n",
            "2/2 [==============================] - 0s 9ms/step - loss: 11.1221 - mae: 11.1221\n",
            "Epoch 97/100\n",
            "2/2 [==============================] - 0s 9ms/step - loss: 21.1714 - mae: 21.1714\n",
            "Epoch 98/100\n",
            "2/2 [==============================] - 0s 10ms/step - loss: 10.5062 - mae: 10.5062\n",
            "Epoch 99/100\n",
            "2/2 [==============================] - 0s 9ms/step - loss: 14.6035 - mae: 14.6035\n",
            "Epoch 100/100\n",
            "2/2 [==============================] - 0s 9ms/step - loss: 17.7771 - mae: 17.7771\n"
          ]
        },
        {
          "output_type": "execute_result",
          "data": {
            "text/plain": [
              "<keras.src.callbacks.History at 0x78922cdb5030>"
            ]
          },
          "metadata": {},
          "execution_count": 88
        }
      ]
    },
    {
      "cell_type": "code",
      "source": [
        "y_pred_2 = model_2.predict(X_test)\n",
        "plot_predictions(predictions=y_pred_2)"
      ],
      "metadata": {
        "colab": {
          "base_uri": "https://localhost:8080/",
          "height": 616
        },
        "id": "D2NbiFH890TG",
        "outputId": "62c4d92e-8424-436e-adc9-ea75a74bae38"
      },
      "execution_count": 89,
      "outputs": [
        {
          "output_type": "stream",
          "name": "stdout",
          "text": [
            "1/1 [==============================] - 0s 64ms/step\n"
          ]
        },
        {
          "output_type": "display_data",
          "data": {
            "text/plain": [
              "<Figure size 1000x700 with 1 Axes>"
            ],
            "image/png": "[encoded data removed]"
          },
          "metadata": {}
        }
      ]
    },
    {
      "cell_type": "code",
      "source": [
        "mae_2 = MAE(y_test, y_pred_2)"
      ],
      "metadata": {
        "id": "fxNGMfV1ACAi"
      },
      "execution_count": 90,
      "outputs": []
    },
    {
      "cell_type": "code",
      "source": [
        "mse_2 = MSE(y_test, y_pred_2)"
      ],
      "metadata": {
        "id": "AKkn2Aj5AVA0"
      },
      "execution_count": 91,
      "outputs": []
    },
    {
      "cell_type": "markdown",
      "source": [
        "### `model_3`"
      ],
      "metadata": {
        "id": "SB_7t9FpAXyy"
      }
    },
    {
      "cell_type": "code",
      "source": [
        "tf.random.set_seed(42)\n",
        "\n",
        "model_3 = tf.keras.Sequential([\n",
        "    tf.keras.layers.Dense(10,input_shape = [1]),\n",
        "    tf.keras.layers.Dense(1)\n",
        "])\n",
        "\n",
        "model_3.compile(loss = tf.keras.losses.mae,\n",
        "                optimizer = tf.keras.optimizers.SGD(),\n",
        "                metrics = ['mae'])\n",
        "\n",
        "model_3.fit(X_train, y_train, epochs = 500)"
      ],
      "metadata": {
        "colab": {
          "base_uri": "https://localhost:8080/"
        },
        "id": "8fCF4YnCAc4B",
        "outputId": "df9b4b99-be55-489e-cec0-616585481e80"
      },
      "execution_count": 92,
      "outputs": [
        {
          "output_type": "stream",
          "name": "stdout",
          "text": [
            "Epoch 1/500\n",
            "2/2 [==============================] - 0s 12ms/step - loss: 40.7843 - mae: 40.7843\n",
            "Epoch 2/500\n",
            "2/2 [==============================] - 0s 8ms/step - loss: 31.2010 - mae: 31.2010\n",
            "Epoch 3/500\n",
            "2/2 [==============================] - 0s 8ms/step - loss: 35.5460 - mae: 35.5460\n",
            "Epoch 4/500\n",
            "2/2 [==============================] - 0s 7ms/step - loss: 30.7150 - mae: 30.7150\n",
            "Epoch 5/500\n",
            "2/2 [==============================] - 0s 10ms/step - loss: 15.6350 - mae: 15.6350\n",
            "Epoch 6/500\n",
            "2/2 [==============================] - 0s 8ms/step - loss: 12.4047 - mae: 12.4047\n",
            "Epoch 7/500\n",
            "2/2 [==============================] - 0s 7ms/step - loss: 11.6857 - mae: 11.6857\n",
            "Epoch 8/500\n",
            "2/2 [==============================] - 0s 8ms/step - loss: 12.0875 - mae: 12.0875\n",
            "Epoch 9/500\n",
            "2/2 [==============================] - 0s 8ms/step - loss: 37.8336 - mae: 37.8336\n",
            "Epoch 10/500\n",
            "2/2 [==============================] - 0s 9ms/step - loss: 25.4476 - mae: 25.4476\n",
            "Epoch 11/500\n",
            "2/2 [==============================] - 0s 9ms/step - loss: 10.2574 - mae: 10.2574\n",
            "Epoch 12/500\n",
            "2/2 [==============================] - 0s 9ms/step - loss: 25.3573 - mae: 25.3573\n",
            "Epoch 13/500\n",
            "2/2 [==============================] - 0s 9ms/step - loss: 16.9510 - mae: 16.9510\n",
            "Epoch 14/500\n",
            "2/2 [==============================] - 0s 8ms/step - loss: 25.8451 - mae: 25.8451\n",
            "Epoch 15/500\n",
            "2/2 [==============================] - 0s 9ms/step - loss: 17.6757 - mae: 17.6757\n",
            "Epoch 16/500\n",
            "2/2 [==============================] - 0s 8ms/step - loss: 10.0819 - mae: 10.0819\n",
            "Epoch 17/500\n",
            "2/2 [==============================] - 0s 6ms/step - loss: 18.6760 - mae: 18.6760\n",
            "Epoch 18/500\n",
            "2/2 [==============================] - 0s 8ms/step - loss: 11.7963 - mae: 11.7963\n",
            "Epoch 19/500\n",
            "2/2 [==============================] - 0s 10ms/step - loss: 16.5085 - mae: 16.5085\n",
            "Epoch 20/500\n",
            "2/2 [==============================] - 0s 10ms/step - loss: 8.2429 - mae: 8.2429\n",
            "Epoch 21/500\n",
            "2/2 [==============================] - 0s 8ms/step - loss: 14.4153 - mae: 14.4153\n",
            "Epoch 22/500\n",
            "2/2 [==============================] - 0s 8ms/step - loss: 12.8285 - mae: 12.8285\n",
            "Epoch 23/500\n",
            "2/2 [==============================] - 0s 9ms/step - loss: 15.4678 - mae: 15.4678\n",
            "Epoch 24/500\n",
            "2/2 [==============================] - 0s 9ms/step - loss: 15.2572 - mae: 15.2572\n",
            "Epoch 25/500\n",
            "2/2 [==============================] - 0s 10ms/step - loss: 14.3355 - mae: 14.3355\n",
            "Epoch 26/500\n",
            "2/2 [==============================] - 0s 9ms/step - loss: 19.3344 - mae: 19.3344\n",
            "Epoch 27/500\n",
            "2/2 [==============================] - 0s 11ms/step - loss: 11.4626 - mae: 11.4626\n",
            "Epoch 28/500\n",
            "2/2 [==============================] - 0s 11ms/step - loss: 29.1315 - mae: 29.1315\n",
            "Epoch 29/500\n",
            "2/2 [==============================] - 0s 10ms/step - loss: 9.2554 - mae: 9.2554\n",
            "Epoch 30/500\n",
            "2/2 [==============================] - 0s 9ms/step - loss: 29.8567 - mae: 29.8567\n",
            "Epoch 31/500\n",
            "2/2 [==============================] - 0s 9ms/step - loss: 54.1803 - mae: 54.1803\n",
            "Epoch 32/500\n",
            "2/2 [==============================] - 0s 8ms/step - loss: 9.5790 - mae: 9.5790\n",
            "Epoch 33/500\n",
            "2/2 [==============================] - 0s 10ms/step - loss: 12.1710 - mae: 12.1710\n",
            "Epoch 34/500\n",
            "2/2 [==============================] - 0s 8ms/step - loss: 23.9151 - mae: 23.9151\n",
            "Epoch 35/500\n",
            "2/2 [==============================] - 0s 10ms/step - loss: 12.6243 - mae: 12.6243\n",
            "Epoch 36/500\n",
            "2/2 [==============================] - 0s 10ms/step - loss: 21.5329 - mae: 21.5329\n",
            "Epoch 37/500\n",
            "2/2 [==============================] - 0s 9ms/step - loss: 11.3805 - mae: 11.3805\n",
            "Epoch 38/500\n",
            "2/2 [==============================] - 0s 9ms/step - loss: 13.4605 - mae: 13.4605\n",
            "Epoch 39/500\n",
            "2/2 [==============================] - 0s 9ms/step - loss: 10.7907 - mae: 10.7907\n",
            "Epoch 40/500\n",
            "2/2 [==============================] - 0s 11ms/step - loss: 16.5877 - mae: 16.5877\n",
            "Epoch 41/500\n",
            "2/2 [==============================] - 0s 9ms/step - loss: 10.9703 - mae: 10.9703\n",
            "Epoch 42/500\n",
            "2/2 [==============================] - 0s 9ms/step - loss: 9.2982 - mae: 9.2982\n",
            "Epoch 43/500\n",
            "2/2 [==============================] - 0s 9ms/step - loss: 9.5945 - mae: 9.5945\n",
            "Epoch 44/500\n",
            "2/2 [==============================] - 0s 9ms/step - loss: 27.9658 - mae: 27.9658\n",
            "Epoch 45/500\n",
            "2/2 [==============================] - 0s 10ms/step - loss: 11.2809 - mae: 11.2809\n",
            "Epoch 46/500\n",
            "2/2 [==============================] - 0s 10ms/step - loss: 14.0516 - mae: 14.0516\n",
            "Epoch 47/500\n",
            "2/2 [==============================] - 0s 9ms/step - loss: 13.5111 - mae: 13.5111\n",
            "Epoch 48/500\n",
            "2/2 [==============================] - 0s 9ms/step - loss: 17.3524 - mae: 17.3524\n",
            "Epoch 49/500\n",
            "2/2 [==============================] - 0s 10ms/step - loss: 9.5112 - mae: 9.5112\n",
            "Epoch 50/500\n",
            "2/2 [==============================] - 0s 11ms/step - loss: 13.6942 - mae: 13.6942\n",
            "Epoch 51/500\n",
            "2/2 [==============================] - 0s 11ms/step - loss: 11.5577 - mae: 11.5577\n",
            "Epoch 52/500\n",
            "2/2 [==============================] - 0s 10ms/step - loss: 30.1773 - mae: 30.1773\n",
            "Epoch 53/500\n",
            "2/2 [==============================] - 0s 12ms/step - loss: 13.7156 - mae: 13.7156\n",
            "Epoch 54/500\n",
            "2/2 [==============================] - 0s 9ms/step - loss: 26.4056 - mae: 26.4056\n",
            "Epoch 55/500\n",
            "2/2 [==============================] - 0s 8ms/step - loss: 25.9914 - mae: 25.9914\n",
            "Epoch 56/500\n",
            "2/2 [==============================] - 0s 12ms/step - loss: 11.2303 - mae: 11.2303\n",
            "Epoch 57/500\n",
            "2/2 [==============================] - 0s 11ms/step - loss: 13.2042 - mae: 13.2042\n",
            "Epoch 58/500\n",
            "2/2 [==============================] - 0s 9ms/step - loss: 9.8629 - mae: 9.8629\n",
            "Epoch 59/500\n",
            "2/2 [==============================] - 0s 13ms/step - loss: 13.3924 - mae: 13.3924\n",
            "Epoch 60/500\n",
            "2/2 [==============================] - 0s 10ms/step - loss: 10.9261 - mae: 10.9261\n",
            "Epoch 61/500\n",
            "2/2 [==============================] - 0s 9ms/step - loss: 13.5435 - mae: 13.5435\n",
            "Epoch 62/500\n",
            "2/2 [==============================] - 0s 9ms/step - loss: 17.6179 - mae: 17.6179\n",
            "Epoch 63/500\n",
            "2/2 [==============================] - 0s 10ms/step - loss: 9.1951 - mae: 9.1951\n",
            "Epoch 64/500\n",
            "2/2 [==============================] - 0s 10ms/step - loss: 18.4837 - mae: 18.4837\n",
            "Epoch 65/500\n",
            "2/2 [==============================] - 0s 9ms/step - loss: 10.1500 - mae: 10.1500\n",
            "Epoch 66/500\n",
            "2/2 [==============================] - 0s 9ms/step - loss: 24.3636 - mae: 24.3636\n",
            "Epoch 67/500\n",
            "2/2 [==============================] - 0s 9ms/step - loss: 10.9323 - mae: 10.9323\n",
            "Epoch 68/500\n",
            "2/2 [==============================] - 0s 9ms/step - loss: 10.8046 - mae: 10.8046\n",
            "Epoch 69/500\n",
            "2/2 [==============================] - 0s 10ms/step - loss: 23.3464 - mae: 23.3464\n",
            "Epoch 70/500\n",
            "2/2 [==============================] - 0s 10ms/step - loss: 8.8055 - mae: 8.8055\n",
            "Epoch 71/500\n",
            "2/2 [==============================] - 0s 9ms/step - loss: 15.9574 - mae: 15.9574\n",
            "Epoch 72/500\n",
            "2/2 [==============================] - 0s 10ms/step - loss: 8.1370 - mae: 8.1370\n",
            "Epoch 73/500\n",
            "2/2 [==============================] - 0s 11ms/step - loss: 9.4648 - mae: 9.4648\n",
            "Epoch 74/500\n",
            "2/2 [==============================] - 0s 8ms/step - loss: 28.1367 - mae: 28.1367\n",
            "Epoch 75/500\n",
            "2/2 [==============================] - 0s 9ms/step - loss: 10.2286 - mae: 10.2286\n",
            "Epoch 76/500\n",
            "2/2 [==============================] - 0s 10ms/step - loss: 13.1817 - mae: 13.1817\n",
            "Epoch 77/500\n",
            "2/2 [==============================] - 0s 10ms/step - loss: 18.4391 - mae: 18.4391\n",
            "Epoch 78/500\n",
            "2/2 [==============================] - 0s 15ms/step - loss: 9.0330 - mae: 9.0330\n",
            "Epoch 79/500\n",
            "2/2 [==============================] - 0s 9ms/step - loss: 23.4847 - mae: 23.4847\n",
            "Epoch 80/500\n",
            "2/2 [==============================] - 0s 9ms/step - loss: 26.1654 - mae: 26.1654\n",
            "Epoch 81/500\n",
            "2/2 [==============================] - 0s 8ms/step - loss: 11.4242 - mae: 11.4242\n",
            "Epoch 82/500\n",
            "2/2 [==============================] - 0s 11ms/step - loss: 12.4854 - mae: 12.4854\n",
            "Epoch 83/500\n",
            "2/2 [==============================] - 0s 9ms/step - loss: 17.1716 - mae: 17.1716\n",
            "Epoch 84/500\n",
            "2/2 [==============================] - 0s 9ms/step - loss: 6.6005 - mae: 6.6005\n",
            "Epoch 85/500\n",
            "2/2 [==============================] - 0s 9ms/step - loss: 20.3244 - mae: 20.3244\n",
            "Epoch 86/500\n",
            "2/2 [==============================] - 0s 10ms/step - loss: 10.1839 - mae: 10.1839\n",
            "Epoch 87/500\n",
            "2/2 [==============================] - 0s 12ms/step - loss: 24.3626 - mae: 24.3626\n",
            "Epoch 88/500\n",
            "2/2 [==============================] - 0s 9ms/step - loss: 19.0258 - mae: 19.0258\n",
            "Epoch 89/500\n",
            "2/2 [==============================] - 0s 12ms/step - loss: 7.1739 - mae: 7.1739\n",
            "Epoch 90/500\n",
            "2/2 [==============================] - 0s 13ms/step - loss: 18.2585 - mae: 18.2585\n",
            "Epoch 91/500\n",
            "2/2 [==============================] - 0s 12ms/step - loss: 13.3094 - mae: 13.3094\n",
            "Epoch 92/500\n",
            "2/2 [==============================] - 0s 14ms/step - loss: 14.8614 - mae: 14.8614\n",
            "Epoch 93/500\n",
            "2/2 [==============================] - 0s 9ms/step - loss: 11.6565 - mae: 11.6565\n",
            "Epoch 94/500\n",
            "2/2 [==============================] - 0s 10ms/step - loss: 16.2123 - mae: 16.2123\n",
            "Epoch 95/500\n",
            "2/2 [==============================] - 0s 9ms/step - loss: 15.5558 - mae: 15.5558\n",
            "Epoch 96/500\n",
            "2/2 [==============================] - 0s 10ms/step - loss: 15.0913 - mae: 15.0913\n",
            "Epoch 97/500\n",
            "2/2 [==============================] - 0s 10ms/step - loss: 10.9220 - mae: 10.9220\n",
            "Epoch 98/500\n",
            "2/2 [==============================] - 0s 12ms/step - loss: 14.3829 - mae: 14.3829\n",
            "Epoch 99/500\n",
            "2/2 [==============================] - 0s 11ms/step - loss: 13.3973 - mae: 13.3973\n",
            "Epoch 100/500\n",
            "2/2 [==============================] - 0s 11ms/step - loss: 20.0273 - mae: 20.0273\n",
            "Epoch 101/500\n",
            "2/2 [==============================] - 0s 11ms/step - loss: 22.4566 - mae: 22.4566\n",
            "Epoch 102/500\n",
            "2/2 [==============================] - 0s 10ms/step - loss: 11.2626 - mae: 11.2626\n",
            "Epoch 103/500\n",
            "2/2 [==============================] - 0s 9ms/step - loss: 9.3612 - mae: 9.3612\n",
            "Epoch 104/500\n",
            "2/2 [==============================] - 0s 10ms/step - loss: 25.0665 - mae: 25.0665\n",
            "Epoch 105/500\n",
            "2/2 [==============================] - 0s 10ms/step - loss: 12.0474 - mae: 12.0474\n",
            "Epoch 106/500\n",
            "2/2 [==============================] - 0s 9ms/step - loss: 10.1256 - mae: 10.1256\n",
            "Epoch 107/500\n",
            "2/2 [==============================] - 0s 9ms/step - loss: 22.6079 - mae: 22.6079\n",
            "Epoch 108/500\n",
            "2/2 [==============================] - 0s 9ms/step - loss: 8.1651 - mae: 8.1651\n",
            "Epoch 109/500\n",
            "2/2 [==============================] - 0s 11ms/step - loss: 13.3996 - mae: 13.3996\n",
            "Epoch 110/500\n",
            "2/2 [==============================] - 0s 10ms/step - loss: 7.9909 - mae: 7.9909\n",
            "Epoch 111/500\n",
            "2/2 [==============================] - 0s 10ms/step - loss: 15.7415 - mae: 15.7415\n",
            "Epoch 112/500\n",
            "2/2 [==============================] - 0s 11ms/step - loss: 8.7790 - mae: 8.7790\n",
            "Epoch 113/500\n",
            "2/2 [==============================] - 0s 10ms/step - loss: 22.7162 - mae: 22.7162\n",
            "Epoch 114/500\n",
            "2/2 [==============================] - 0s 10ms/step - loss: 19.0690 - mae: 19.0690\n",
            "Epoch 115/500\n",
            "2/2 [==============================] - 0s 10ms/step - loss: 11.1250 - mae: 11.1250\n",
            "Epoch 116/500\n",
            "2/2 [==============================] - 0s 10ms/step - loss: 23.1634 - mae: 23.1634\n",
            "Epoch 117/500\n",
            "2/2 [==============================] - 0s 11ms/step - loss: 9.6049 - mae: 9.6049\n",
            "Epoch 118/500\n",
            "2/2 [==============================] - 0s 10ms/step - loss: 10.6648 - mae: 10.6648\n",
            "Epoch 119/500\n",
            "2/2 [==============================] - 0s 12ms/step - loss: 8.0683 - mae: 8.0683\n",
            "Epoch 120/500\n",
            "2/2 [==============================] - 0s 11ms/step - loss: 29.4259 - mae: 29.4259\n",
            "Epoch 121/500\n",
            "2/2 [==============================] - 0s 10ms/step - loss: 8.1027 - mae: 8.1027\n",
            "Epoch 122/500\n",
            "2/2 [==============================] - 0s 11ms/step - loss: 28.0770 - mae: 28.0770\n",
            "Epoch 123/500\n",
            "2/2 [==============================] - 0s 11ms/step - loss: 32.6122 - mae: 32.6122\n",
            "Epoch 124/500\n",
            "2/2 [==============================] - 0s 9ms/step - loss: 19.4220 - mae: 19.4220\n",
            "Epoch 125/500\n",
            "2/2 [==============================] - 0s 11ms/step - loss: 6.4299 - mae: 6.4299\n",
            "Epoch 126/500\n",
            "2/2 [==============================] - 0s 9ms/step - loss: 26.6749 - mae: 26.6749\n",
            "Epoch 127/500\n",
            "2/2 [==============================] - 0s 10ms/step - loss: 8.5816 - mae: 8.5816\n",
            "Epoch 128/500\n",
            "2/2 [==============================] - 0s 12ms/step - loss: 13.7718 - mae: 13.7718\n",
            "Epoch 129/500\n",
            "2/2 [==============================] - 0s 10ms/step - loss: 10.8979 - mae: 10.8979\n",
            "Epoch 130/500\n",
            "2/2 [==============================] - 0s 10ms/step - loss: 15.4214 - mae: 15.4214\n",
            "Epoch 131/500\n",
            "2/2 [==============================] - 0s 13ms/step - loss: 8.8669 - mae: 8.8669\n",
            "Epoch 132/500\n",
            "2/2 [==============================] - 0s 10ms/step - loss: 14.9293 - mae: 14.9293\n",
            "Epoch 133/500\n",
            "2/2 [==============================] - 0s 13ms/step - loss: 7.9371 - mae: 7.9371\n",
            "Epoch 134/500\n",
            "2/2 [==============================] - 0s 12ms/step - loss: 22.4013 - mae: 22.4013\n",
            "Epoch 135/500\n",
            "2/2 [==============================] - 0s 10ms/step - loss: 20.0799 - mae: 20.0799\n",
            "Epoch 136/500\n",
            "2/2 [==============================] - 0s 12ms/step - loss: 13.9087 - mae: 13.9087\n",
            "Epoch 137/500\n",
            "2/2 [==============================] - 0s 15ms/step - loss: 25.5440 - mae: 25.5440\n",
            "Epoch 138/500\n",
            "2/2 [==============================] - 0s 13ms/step - loss: 10.0789 - mae: 10.0789\n",
            "Epoch 139/500\n",
            "2/2 [==============================] - 0s 18ms/step - loss: 9.5140 - mae: 9.5140\n",
            "Epoch 140/500\n",
            "2/2 [==============================] - 0s 12ms/step - loss: 18.7509 - mae: 18.7509\n",
            "Epoch 141/500\n",
            "2/2 [==============================] - 0s 15ms/step - loss: 8.3124 - mae: 8.3124\n",
            "Epoch 142/500\n",
            "2/2 [==============================] - 0s 16ms/step - loss: 33.5507 - mae: 33.5507\n",
            "Epoch 143/500\n",
            "2/2 [==============================] - 0s 15ms/step - loss: 23.6075 - mae: 23.6075\n",
            "Epoch 144/500\n",
            "2/2 [==============================] - 0s 12ms/step - loss: 9.5638 - mae: 9.5638\n",
            "Epoch 145/500\n",
            "2/2 [==============================] - 0s 13ms/step - loss: 26.6544 - mae: 26.6544\n",
            "Epoch 146/500\n",
            "2/2 [==============================] - 0s 11ms/step - loss: 8.6829 - mae: 8.6829\n",
            "Epoch 147/500\n",
            "2/2 [==============================] - 0s 13ms/step - loss: 15.6743 - mae: 15.6743\n",
            "Epoch 148/500\n",
            "2/2 [==============================] - 0s 13ms/step - loss: 18.3778 - mae: 18.3778\n",
            "Epoch 149/500\n",
            "2/2 [==============================] - 0s 10ms/step - loss: 8.1655 - mae: 8.1655\n",
            "Epoch 150/500\n",
            "2/2 [==============================] - 0s 10ms/step - loss: 7.4981 - mae: 7.4981\n",
            "Epoch 151/500\n",
            "2/2 [==============================] - 0s 9ms/step - loss: 18.1871 - mae: 18.1871\n",
            "Epoch 152/500\n",
            "2/2 [==============================] - 0s 9ms/step - loss: 10.2719 - mae: 10.2719\n",
            "Epoch 153/500\n",
            "2/2 [==============================] - 0s 9ms/step - loss: 29.3897 - mae: 29.3897\n",
            "Epoch 154/500\n",
            "2/2 [==============================] - 0s 10ms/step - loss: 10.6178 - mae: 10.6178\n",
            "Epoch 155/500\n",
            "2/2 [==============================] - 0s 11ms/step - loss: 15.5101 - mae: 15.5101\n",
            "Epoch 156/500\n",
            "2/2 [==============================] - 0s 10ms/step - loss: 17.1344 - mae: 17.1344\n",
            "Epoch 157/500\n",
            "2/2 [==============================] - 0s 9ms/step - loss: 32.5218 - mae: 32.5218\n",
            "Epoch 158/500\n",
            "2/2 [==============================] - 0s 10ms/step - loss: 10.6396 - mae: 10.6396\n",
            "Epoch 159/500\n",
            "2/2 [==============================] - 0s 9ms/step - loss: 8.8858 - mae: 8.8858\n",
            "Epoch 160/500\n",
            "2/2 [==============================] - 0s 9ms/step - loss: 21.9051 - mae: 21.9051\n",
            "Epoch 161/500\n",
            "2/2 [==============================] - 0s 10ms/step - loss: 11.1066 - mae: 11.1066\n",
            "Epoch 162/500\n",
            "2/2 [==============================] - 0s 13ms/step - loss: 21.4340 - mae: 21.4340\n",
            "Epoch 163/500\n",
            "2/2 [==============================] - 0s 13ms/step - loss: 18.9095 - mae: 18.9095\n",
            "Epoch 164/500\n",
            "2/2 [==============================] - 0s 15ms/step - loss: 12.7483 - mae: 12.7483\n",
            "Epoch 165/500\n",
            "2/2 [==============================] - 0s 13ms/step - loss: 12.7162 - mae: 12.7162\n",
            "Epoch 166/500\n",
            "2/2 [==============================] - 0s 9ms/step - loss: 18.8778 - mae: 18.8778\n",
            "Epoch 167/500\n",
            "2/2 [==============================] - 0s 9ms/step - loss: 26.8823 - mae: 26.8823\n",
            "Epoch 168/500\n",
            "2/2 [==============================] - 0s 12ms/step - loss: 9.9971 - mae: 9.9971\n",
            "Epoch 169/500\n",
            "2/2 [==============================] - 0s 10ms/step - loss: 23.1345 - mae: 23.1345\n",
            "Epoch 170/500\n",
            "2/2 [==============================] - 0s 16ms/step - loss: 9.5878 - mae: 9.5878\n",
            "Epoch 171/500\n",
            "2/2 [==============================] - 0s 12ms/step - loss: 15.8547 - mae: 15.8547\n",
            "Epoch 172/500\n",
            "2/2 [==============================] - 0s 15ms/step - loss: 13.8859 - mae: 13.8859\n",
            "Epoch 173/500\n",
            "2/2 [==============================] - 0s 10ms/step - loss: 22.5781 - mae: 22.5781\n",
            "Epoch 174/500\n",
            "2/2 [==============================] - 0s 13ms/step - loss: 11.3525 - mae: 11.3525\n",
            "Epoch 175/500\n",
            "2/2 [==============================] - 0s 15ms/step - loss: 20.0986 - mae: 20.0986\n",
            "Epoch 176/500\n",
            "2/2 [==============================] - 0s 12ms/step - loss: 7.4102 - mae: 7.4102\n",
            "Epoch 177/500\n",
            "2/2 [==============================] - 0s 10ms/step - loss: 8.5972 - mae: 8.5972\n",
            "Epoch 178/500\n",
            "2/2 [==============================] - 0s 10ms/step - loss: 15.4996 - mae: 15.4996\n",
            "Epoch 179/500\n",
            "2/2 [==============================] - 0s 15ms/step - loss: 9.2882 - mae: 9.2882\n",
            "Epoch 180/500\n",
            "2/2 [==============================] - 0s 14ms/step - loss: 8.1319 - mae: 8.1319\n",
            "Epoch 181/500\n",
            "2/2 [==============================] - 0s 12ms/step - loss: 18.7434 - mae: 18.7434\n",
            "Epoch 182/500\n",
            "2/2 [==============================] - 0s 15ms/step - loss: 10.7855 - mae: 10.7855\n",
            "Epoch 183/500\n",
            "2/2 [==============================] - 0s 10ms/step - loss: 10.9143 - mae: 10.9143\n",
            "Epoch 184/500\n",
            "2/2 [==============================] - 0s 8ms/step - loss: 33.7627 - mae: 33.7627\n",
            "Epoch 185/500\n",
            "2/2 [==============================] - 0s 9ms/step - loss: 7.6289 - mae: 7.6289\n",
            "Epoch 186/500\n",
            "2/2 [==============================] - 0s 9ms/step - loss: 16.8068 - mae: 16.8068\n",
            "Epoch 187/500\n",
            "2/2 [==============================] - 0s 8ms/step - loss: 10.1783 - mae: 10.1783\n",
            "Epoch 188/500\n",
            "2/2 [==============================] - 0s 8ms/step - loss: 23.0169 - mae: 23.0169\n",
            "Epoch 189/500\n",
            "2/2 [==============================] - 0s 10ms/step - loss: 9.8902 - mae: 9.8902\n",
            "Epoch 190/500\n",
            "2/2 [==============================] - 0s 11ms/step - loss: 15.3482 - mae: 15.3482\n",
            "Epoch 191/500\n",
            "2/2 [==============================] - 0s 8ms/step - loss: 9.9352 - mae: 9.9352\n",
            "Epoch 192/500\n",
            "2/2 [==============================] - 0s 11ms/step - loss: 14.9810 - mae: 14.9810\n",
            "Epoch 193/500\n",
            "2/2 [==============================] - 0s 9ms/step - loss: 29.6529 - mae: 29.6529\n",
            "Epoch 194/500\n",
            "2/2 [==============================] - 0s 9ms/step - loss: 8.3494 - mae: 8.3494\n",
            "Epoch 195/500\n",
            "2/2 [==============================] - 0s 8ms/step - loss: 12.8885 - mae: 12.8885\n",
            "Epoch 196/500\n",
            "2/2 [==============================] - 0s 9ms/step - loss: 23.9126 - mae: 23.9126\n",
            "Epoch 197/500\n",
            "2/2 [==============================] - 0s 9ms/step - loss: 16.8355 - mae: 16.8355\n",
            "Epoch 198/500\n",
            "2/2 [==============================] - 0s 8ms/step - loss: 11.4983 - mae: 11.4983\n",
            "Epoch 199/500\n",
            "2/2 [==============================] - 0s 10ms/step - loss: 19.6468 - mae: 19.6468\n",
            "Epoch 200/500\n",
            "2/2 [==============================] - 0s 8ms/step - loss: 15.8175 - mae: 15.8175\n",
            "Epoch 201/500\n",
            "2/2 [==============================] - 0s 8ms/step - loss: 10.5668 - mae: 10.5668\n",
            "Epoch 202/500\n",
            "2/2 [==============================] - 0s 11ms/step - loss: 22.3988 - mae: 22.3988\n",
            "Epoch 203/500\n",
            "2/2 [==============================] - 0s 9ms/step - loss: 21.7636 - mae: 21.7636\n",
            "Epoch 204/500\n",
            "2/2 [==============================] - 0s 12ms/step - loss: 17.3717 - mae: 17.3717\n",
            "Epoch 205/500\n",
            "2/2 [==============================] - 0s 9ms/step - loss: 9.5136 - mae: 9.5136\n",
            "Epoch 206/500\n",
            "2/2 [==============================] - 0s 8ms/step - loss: 11.1539 - mae: 11.1539\n",
            "Epoch 207/500\n",
            "2/2 [==============================] - 0s 10ms/step - loss: 17.7106 - mae: 17.7106\n",
            "Epoch 208/500\n",
            "2/2 [==============================] - 0s 8ms/step - loss: 14.4017 - mae: 14.4017\n",
            "Epoch 209/500\n",
            "2/2 [==============================] - 0s 9ms/step - loss: 16.7380 - mae: 16.7380\n",
            "Epoch 210/500\n",
            "2/2 [==============================] - 0s 10ms/step - loss: 18.2585 - mae: 18.2585\n",
            "Epoch 211/500\n",
            "2/2 [==============================] - 0s 10ms/step - loss: 9.9613 - mae: 9.9613\n",
            "Epoch 212/500\n",
            "2/2 [==============================] - 0s 8ms/step - loss: 18.7492 - mae: 18.7492\n",
            "Epoch 213/500\n",
            "2/2 [==============================] - 0s 11ms/step - loss: 14.9341 - mae: 14.9341\n",
            "Epoch 214/500\n",
            "2/2 [==============================] - 0s 9ms/step - loss: 14.5220 - mae: 14.5220\n",
            "Epoch 215/500\n",
            "2/2 [==============================] - 0s 9ms/step - loss: 23.1623 - mae: 23.1623\n",
            "Epoch 216/500\n",
            "2/2 [==============================] - 0s 9ms/step - loss: 13.6080 - mae: 13.6080\n",
            "Epoch 217/500\n",
            "2/2 [==============================] - 0s 10ms/step - loss: 10.0641 - mae: 10.0641\n",
            "Epoch 218/500\n",
            "2/2 [==============================] - 0s 10ms/step - loss: 12.4028 - mae: 12.4028\n",
            "Epoch 219/500\n",
            "2/2 [==============================] - 0s 9ms/step - loss: 5.8608 - mae: 5.8608\n",
            "Epoch 220/500\n",
            "2/2 [==============================] - 0s 12ms/step - loss: 10.2056 - mae: 10.2056\n",
            "Epoch 221/500\n",
            "2/2 [==============================] - 0s 8ms/step - loss: 28.9179 - mae: 28.9179\n",
            "Epoch 222/500\n",
            "2/2 [==============================] - 0s 10ms/step - loss: 28.1189 - mae: 28.1189\n",
            "Epoch 223/500\n",
            "2/2 [==============================] - 0s 8ms/step - loss: 10.0667 - mae: 10.0667\n",
            "Epoch 224/500\n",
            "2/2 [==============================] - 0s 9ms/step - loss: 14.6129 - mae: 14.6129\n",
            "Epoch 225/500\n",
            "2/2 [==============================] - 0s 9ms/step - loss: 16.6257 - mae: 16.6257\n",
            "Epoch 226/500\n",
            "2/2 [==============================] - 0s 8ms/step - loss: 15.8482 - mae: 15.8482\n",
            "Epoch 227/500\n",
            "2/2 [==============================] - 0s 9ms/step - loss: 16.0663 - mae: 16.0663\n",
            "Epoch 228/500\n",
            "2/2 [==============================] - 0s 8ms/step - loss: 13.8480 - mae: 13.8480\n",
            "Epoch 229/500\n",
            "2/2 [==============================] - 0s 8ms/step - loss: 17.9615 - mae: 17.9615\n",
            "Epoch 230/500\n",
            "2/2 [==============================] - 0s 9ms/step - loss: 15.5569 - mae: 15.5569\n",
            "Epoch 231/500\n",
            "2/2 [==============================] - 0s 9ms/step - loss: 21.0684 - mae: 21.0684\n",
            "Epoch 232/500\n",
            "2/2 [==============================] - 0s 8ms/step - loss: 25.5790 - mae: 25.5790\n",
            "Epoch 233/500\n",
            "2/2 [==============================] - 0s 12ms/step - loss: 16.5608 - mae: 16.5608\n",
            "Epoch 234/500\n",
            "2/2 [==============================] - 0s 9ms/step - loss: 7.3620 - mae: 7.3620\n",
            "Epoch 235/500\n",
            "2/2 [==============================] - 0s 8ms/step - loss: 17.2045 - mae: 17.2045\n",
            "Epoch 236/500\n",
            "2/2 [==============================] - 0s 8ms/step - loss: 7.2305 - mae: 7.2305\n",
            "Epoch 237/500\n",
            "2/2 [==============================] - 0s 13ms/step - loss: 9.3397 - mae: 9.3397\n",
            "Epoch 238/500\n",
            "2/2 [==============================] - 0s 9ms/step - loss: 8.1825 - mae: 8.1825\n",
            "Epoch 239/500\n",
            "2/2 [==============================] - 0s 9ms/step - loss: 17.2454 - mae: 17.2454\n",
            "Epoch 240/500\n",
            "2/2 [==============================] - 0s 12ms/step - loss: 8.9673 - mae: 8.9673\n",
            "Epoch 241/500\n",
            "2/2 [==============================] - 0s 8ms/step - loss: 13.3168 - mae: 13.3168\n",
            "Epoch 242/500\n",
            "2/2 [==============================] - 0s 8ms/step - loss: 8.8709 - mae: 8.8709\n",
            "Epoch 243/500\n",
            "2/2 [==============================] - 0s 9ms/step - loss: 19.0080 - mae: 19.0080\n",
            "Epoch 244/500\n",
            "2/2 [==============================] - 0s 9ms/step - loss: 14.0126 - mae: 14.0126\n",
            "Epoch 245/500\n",
            "2/2 [==============================] - 0s 8ms/step - loss: 14.6461 - mae: 14.6461\n",
            "Epoch 246/500\n",
            "2/2 [==============================] - 0s 8ms/step - loss: 15.7785 - mae: 15.7785\n",
            "Epoch 247/500\n",
            "2/2 [==============================] - 0s 9ms/step - loss: 17.6459 - mae: 17.6459\n",
            "Epoch 248/500\n",
            "2/2 [==============================] - 0s 8ms/step - loss: 13.2047 - mae: 13.2047\n",
            "Epoch 249/500\n",
            "2/2 [==============================] - 0s 9ms/step - loss: 14.4944 - mae: 14.4944\n",
            "Epoch 250/500\n",
            "2/2 [==============================] - 0s 8ms/step - loss: 23.1961 - mae: 23.1961\n",
            "Epoch 251/500\n",
            "2/2 [==============================] - 0s 8ms/step - loss: 9.3481 - mae: 9.3481\n",
            "Epoch 252/500\n",
            "2/2 [==============================] - 0s 8ms/step - loss: 36.7881 - mae: 36.7881\n",
            "Epoch 253/500\n",
            "2/2 [==============================] - 0s 8ms/step - loss: 21.9284 - mae: 21.9284\n",
            "Epoch 254/500\n",
            "2/2 [==============================] - 0s 8ms/step - loss: 7.3211 - mae: 7.3211\n",
            "Epoch 255/500\n",
            "2/2 [==============================] - 0s 8ms/step - loss: 24.8046 - mae: 24.8046\n",
            "Epoch 256/500\n",
            "2/2 [==============================] - 0s 9ms/step - loss: 12.4908 - mae: 12.4908\n",
            "Epoch 257/500\n",
            "2/2 [==============================] - 0s 8ms/step - loss: 10.6382 - mae: 10.6382\n",
            "Epoch 258/500\n",
            "2/2 [==============================] - 0s 8ms/step - loss: 14.5363 - mae: 14.5363\n",
            "Epoch 259/500\n",
            "2/2 [==============================] - 0s 8ms/step - loss: 8.6500 - mae: 8.6500\n",
            "Epoch 260/500\n",
            "2/2 [==============================] - 0s 8ms/step - loss: 43.1086 - mae: 43.1086\n",
            "Epoch 261/500\n",
            "2/2 [==============================] - 0s 7ms/step - loss: 18.5125 - mae: 18.5125\n",
            "Epoch 262/500\n",
            "2/2 [==============================] - 0s 8ms/step - loss: 6.8906 - mae: 6.8906\n",
            "Epoch 263/500\n",
            "2/2 [==============================] - 0s 8ms/step - loss: 13.7207 - mae: 13.7207\n",
            "Epoch 264/500\n",
            "2/2 [==============================] - 0s 7ms/step - loss: 21.0108 - mae: 21.0108\n",
            "Epoch 265/500\n",
            "2/2 [==============================] - 0s 8ms/step - loss: 19.3982 - mae: 19.3982\n",
            "Epoch 266/500\n",
            "2/2 [==============================] - 0s 9ms/step - loss: 11.4781 - mae: 11.4781\n",
            "Epoch 267/500\n",
            "2/2 [==============================] - 0s 8ms/step - loss: 7.5514 - mae: 7.5514\n",
            "Epoch 268/500\n",
            "2/2 [==============================] - 0s 8ms/step - loss: 21.6470 - mae: 21.6470\n",
            "Epoch 269/500\n",
            "2/2 [==============================] - 0s 13ms/step - loss: 33.1690 - mae: 33.1690\n",
            "Epoch 270/500\n",
            "2/2 [==============================] - 0s 14ms/step - loss: 9.8548 - mae: 9.8548\n",
            "Epoch 271/500\n",
            "2/2 [==============================] - 0s 9ms/step - loss: 7.7346 - mae: 7.7346\n",
            "Epoch 272/500\n",
            "2/2 [==============================] - 0s 9ms/step - loss: 28.4685 - mae: 28.4685\n",
            "Epoch 273/500\n",
            "2/2 [==============================] - 0s 15ms/step - loss: 7.4596 - mae: 7.4596\n",
            "Epoch 274/500\n",
            "2/2 [==============================] - 0s 15ms/step - loss: 6.3582 - mae: 6.3582\n",
            "Epoch 275/500\n",
            "2/2 [==============================] - 0s 12ms/step - loss: 31.8471 - mae: 31.8471\n",
            "Epoch 276/500\n",
            "2/2 [==============================] - 0s 10ms/step - loss: 4.6951 - mae: 4.6951\n",
            "Epoch 277/500\n",
            "2/2 [==============================] - 0s 8ms/step - loss: 19.7908 - mae: 19.7908\n",
            "Epoch 278/500\n",
            "2/2 [==============================] - 0s 8ms/step - loss: 6.5131 - mae: 6.5131\n",
            "Epoch 279/500\n",
            "2/2 [==============================] - 0s 9ms/step - loss: 18.7253 - mae: 18.7253\n",
            "Epoch 280/500\n",
            "2/2 [==============================] - 0s 9ms/step - loss: 29.3354 - mae: 29.3354\n",
            "Epoch 281/500\n",
            "2/2 [==============================] - 0s 9ms/step - loss: 7.4329 - mae: 7.4329\n",
            "Epoch 282/500\n",
            "2/2 [==============================] - 0s 12ms/step - loss: 14.3102 - mae: 14.3102\n",
            "Epoch 283/500\n",
            "2/2 [==============================] - 0s 13ms/step - loss: 10.4432 - mae: 10.4432\n",
            "Epoch 284/500\n",
            "2/2 [==============================] - 0s 14ms/step - loss: 25.2716 - mae: 25.2716\n",
            "Epoch 285/500\n",
            "2/2 [==============================] - 0s 11ms/step - loss: 16.0894 - mae: 16.0894\n",
            "Epoch 286/500\n",
            "2/2 [==============================] - 0s 11ms/step - loss: 5.2656 - mae: 5.2656\n",
            "Epoch 287/500\n",
            "2/2 [==============================] - 0s 13ms/step - loss: 20.7990 - mae: 20.7990\n",
            "Epoch 288/500\n",
            "2/2 [==============================] - 0s 12ms/step - loss: 27.6575 - mae: 27.6575\n",
            "Epoch 289/500\n",
            "2/2 [==============================] - 0s 15ms/step - loss: 10.4225 - mae: 10.4225\n",
            "Epoch 290/500\n",
            "2/2 [==============================] - 0s 16ms/step - loss: 16.2948 - mae: 16.2948\n",
            "Epoch 291/500\n",
            "2/2 [==============================] - 0s 16ms/step - loss: 16.4779 - mae: 16.4779\n",
            "Epoch 292/500\n",
            "2/2 [==============================] - 0s 12ms/step - loss: 7.4219 - mae: 7.4219\n",
            "Epoch 293/500\n",
            "2/2 [==============================] - 0s 13ms/step - loss: 16.5363 - mae: 16.5363\n",
            "Epoch 294/500\n",
            "2/2 [==============================] - 0s 13ms/step - loss: 25.3132 - mae: 25.3132\n",
            "Epoch 295/500\n",
            "2/2 [==============================] - 0s 12ms/step - loss: 14.6231 - mae: 14.6231\n",
            "Epoch 296/500\n",
            "2/2 [==============================] - 0s 13ms/step - loss: 4.5150 - mae: 4.5150\n",
            "Epoch 297/500\n",
            "2/2 [==============================] - 0s 13ms/step - loss: 9.6852 - mae: 9.6852\n",
            "Epoch 298/500\n",
            "2/2 [==============================] - 0s 14ms/step - loss: 23.8180 - mae: 23.8180\n",
            "Epoch 299/500\n",
            "2/2 [==============================] - 0s 12ms/step - loss: 18.9294 - mae: 18.9294\n",
            "Epoch 300/500\n",
            "2/2 [==============================] - 0s 13ms/step - loss: 8.7766 - mae: 8.7766\n",
            "Epoch 301/500\n",
            "2/2 [==============================] - 0s 13ms/step - loss: 15.8042 - mae: 15.8042\n",
            "Epoch 302/500\n",
            "2/2 [==============================] - 0s 12ms/step - loss: 6.5898 - mae: 6.5898\n",
            "Epoch 303/500\n",
            "2/2 [==============================] - 0s 12ms/step - loss: 21.5708 - mae: 21.5708\n",
            "Epoch 304/500\n",
            "2/2 [==============================] - 0s 12ms/step - loss: 25.8969 - mae: 25.8969\n",
            "Epoch 305/500\n",
            "2/2 [==============================] - 0s 13ms/step - loss: 9.5298 - mae: 9.5298\n",
            "Epoch 306/500\n",
            "2/2 [==============================] - 0s 12ms/step - loss: 17.6795 - mae: 17.6795\n",
            "Epoch 307/500\n",
            "2/2 [==============================] - 0s 12ms/step - loss: 9.8217 - mae: 9.8217\n",
            "Epoch 308/500\n",
            "2/2 [==============================] - 0s 10ms/step - loss: 20.6028 - mae: 20.6028\n",
            "Epoch 309/500\n",
            "2/2 [==============================] - 0s 10ms/step - loss: 13.5618 - mae: 13.5618\n",
            "Epoch 310/500\n",
            "2/2 [==============================] - 0s 10ms/step - loss: 6.6790 - mae: 6.6790\n",
            "Epoch 311/500\n",
            "2/2 [==============================] - 0s 10ms/step - loss: 13.6680 - mae: 13.6680\n",
            "Epoch 312/500\n",
            "2/2 [==============================] - 0s 10ms/step - loss: 30.0268 - mae: 30.0268\n",
            "Epoch 313/500\n",
            "2/2 [==============================] - 0s 14ms/step - loss: 7.5370 - mae: 7.5370\n",
            "Epoch 314/500\n",
            "2/2 [==============================] - 0s 17ms/step - loss: 9.9651 - mae: 9.9651\n",
            "Epoch 315/500\n",
            "2/2 [==============================] - 0s 12ms/step - loss: 23.8807 - mae: 23.8807\n",
            "Epoch 316/500\n",
            "2/2 [==============================] - 0s 10ms/step - loss: 16.1706 - mae: 16.1706\n",
            "Epoch 317/500\n",
            "2/2 [==============================] - 0s 10ms/step - loss: 20.6651 - mae: 20.6651\n",
            "Epoch 318/500\n",
            "2/2 [==============================] - 0s 9ms/step - loss: 8.7278 - mae: 8.7278\n",
            "Epoch 319/500\n",
            "2/2 [==============================] - 0s 12ms/step - loss: 15.2676 - mae: 15.2676\n",
            "Epoch 320/500\n",
            "2/2 [==============================] - 0s 11ms/step - loss: 8.3553 - mae: 8.3553\n",
            "Epoch 321/500\n",
            "2/2 [==============================] - 0s 15ms/step - loss: 14.6836 - mae: 14.6836\n",
            "Epoch 322/500\n",
            "2/2 [==============================] - 0s 15ms/step - loss: 12.8133 - mae: 12.8133\n",
            "Epoch 323/500\n",
            "2/2 [==============================] - 0s 13ms/step - loss: 19.0874 - mae: 19.0874\n",
            "Epoch 324/500\n",
            "2/2 [==============================] - 0s 13ms/step - loss: 17.0315 - mae: 17.0315\n",
            "Epoch 325/500\n",
            "2/2 [==============================] - 0s 14ms/step - loss: 9.2942 - mae: 9.2942\n",
            "Epoch 326/500\n",
            "2/2 [==============================] - 0s 13ms/step - loss: 19.9224 - mae: 19.9224\n",
            "Epoch 327/500\n",
            "2/2 [==============================] - 0s 11ms/step - loss: 28.1273 - mae: 28.1273\n",
            "Epoch 328/500\n",
            "2/2 [==============================] - 0s 13ms/step - loss: 11.7051 - mae: 11.7051\n",
            "Epoch 329/500\n",
            "2/2 [==============================] - 0s 12ms/step - loss: 16.3825 - mae: 16.3825\n",
            "Epoch 330/500\n",
            "2/2 [==============================] - 0s 12ms/step - loss: 7.3252 - mae: 7.3252\n",
            "Epoch 331/500\n",
            "2/2 [==============================] - 0s 10ms/step - loss: 22.5708 - mae: 22.5708\n",
            "Epoch 332/500\n",
            "2/2 [==============================] - 0s 14ms/step - loss: 13.3531 - mae: 13.3531\n",
            "Epoch 333/500\n",
            "2/2 [==============================] - 0s 13ms/step - loss: 10.1719 - mae: 10.1719\n",
            "Epoch 334/500\n",
            "2/2 [==============================] - 0s 14ms/step - loss: 6.6264 - mae: 6.6264\n",
            "Epoch 335/500\n",
            "2/2 [==============================] - 0s 14ms/step - loss: 6.2705 - mae: 6.2705\n",
            "Epoch 336/500\n",
            "2/2 [==============================] - 0s 9ms/step - loss: 34.5236 - mae: 34.5236\n",
            "Epoch 337/500\n",
            "2/2 [==============================] - 0s 12ms/step - loss: 26.9561 - mae: 26.9561\n",
            "Epoch 338/500\n",
            "2/2 [==============================] - 0s 9ms/step - loss: 14.0037 - mae: 14.0037\n",
            "Epoch 339/500\n",
            "2/2 [==============================] - 0s 12ms/step - loss: 11.5499 - mae: 11.5499\n",
            "Epoch 340/500\n",
            "2/2 [==============================] - 0s 13ms/step - loss: 8.8280 - mae: 8.8280\n",
            "Epoch 341/500\n",
            "2/2 [==============================] - 0s 9ms/step - loss: 23.4612 - mae: 23.4612\n",
            "Epoch 342/500\n",
            "2/2 [==============================] - 0s 9ms/step - loss: 13.9023 - mae: 13.9023\n",
            "Epoch 343/500\n",
            "2/2 [==============================] - 0s 16ms/step - loss: 14.8277 - mae: 14.8277\n",
            "Epoch 344/500\n",
            "2/2 [==============================] - 0s 13ms/step - loss: 13.3924 - mae: 13.3924\n",
            "Epoch 345/500\n",
            "2/2 [==============================] - 0s 13ms/step - loss: 31.0252 - mae: 31.0252\n",
            "Epoch 346/500\n",
            "2/2 [==============================] - 0s 10ms/step - loss: 10.7053 - mae: 10.7053\n",
            "Epoch 347/500\n",
            "2/2 [==============================] - 0s 13ms/step - loss: 25.7286 - mae: 25.7286\n",
            "Epoch 348/500\n",
            "2/2 [==============================] - 0s 13ms/step - loss: 12.8886 - mae: 12.8886\n",
            "Epoch 349/500\n",
            "2/2 [==============================] - 0s 11ms/step - loss: 13.1642 - mae: 13.1642\n",
            "Epoch 350/500\n",
            "2/2 [==============================] - 0s 12ms/step - loss: 15.4417 - mae: 15.4417\n",
            "Epoch 351/500\n",
            "2/2 [==============================] - 0s 10ms/step - loss: 32.9601 - mae: 32.9601\n",
            "Epoch 352/500\n",
            "2/2 [==============================] - 0s 11ms/step - loss: 14.2058 - mae: 14.2058\n",
            "Epoch 353/500\n",
            "2/2 [==============================] - 0s 10ms/step - loss: 15.9214 - mae: 15.9214\n",
            "Epoch 354/500\n",
            "2/2 [==============================] - 0s 12ms/step - loss: 19.0898 - mae: 19.0898\n",
            "Epoch 355/500\n",
            "2/2 [==============================] - 0s 11ms/step - loss: 34.1168 - mae: 34.1168\n",
            "Epoch 356/500\n",
            "2/2 [==============================] - 0s 13ms/step - loss: 7.6980 - mae: 7.6980\n",
            "Epoch 357/500\n",
            "2/2 [==============================] - 0s 13ms/step - loss: 25.2149 - mae: 25.2149\n",
            "Epoch 358/500\n",
            "2/2 [==============================] - 0s 11ms/step - loss: 22.6704 - mae: 22.6704\n",
            "Epoch 359/500\n",
            "2/2 [==============================] - 0s 13ms/step - loss: 8.8953 - mae: 8.8953\n",
            "Epoch 360/500\n",
            "2/2 [==============================] - 0s 10ms/step - loss: 21.4830 - mae: 21.4830\n",
            "Epoch 361/500\n",
            "2/2 [==============================] - 0s 10ms/step - loss: 20.5840 - mae: 20.5840\n",
            "Epoch 362/500\n",
            "2/2 [==============================] - 0s 11ms/step - loss: 7.0819 - mae: 7.0819\n",
            "Epoch 363/500\n",
            "2/2 [==============================] - 0s 10ms/step - loss: 25.7783 - mae: 25.7783\n",
            "Epoch 364/500\n",
            "2/2 [==============================] - 0s 10ms/step - loss: 32.1828 - mae: 32.1828\n",
            "Epoch 365/500\n",
            "2/2 [==============================] - 0s 12ms/step - loss: 10.0152 - mae: 10.0152\n",
            "Epoch 366/500\n",
            "2/2 [==============================] - 0s 9ms/step - loss: 9.6889 - mae: 9.6889\n",
            "Epoch 367/500\n",
            "2/2 [==============================] - 0s 11ms/step - loss: 30.4301 - mae: 30.4301\n",
            "Epoch 368/500\n",
            "2/2 [==============================] - 0s 10ms/step - loss: 10.5238 - mae: 10.5238\n",
            "Epoch 369/500\n",
            "2/2 [==============================] - 0s 10ms/step - loss: 15.0128 - mae: 15.0128\n",
            "Epoch 370/500\n",
            "2/2 [==============================] - 0s 15ms/step - loss: 14.6735 - mae: 14.6735\n",
            "Epoch 371/500\n",
            "2/2 [==============================] - 0s 11ms/step - loss: 23.3966 - mae: 23.3966\n",
            "Epoch 372/500\n",
            "2/2 [==============================] - 0s 12ms/step - loss: 13.0596 - mae: 13.0596\n",
            "Epoch 373/500\n",
            "2/2 [==============================] - 0s 9ms/step - loss: 9.2274 - mae: 9.2274\n",
            "Epoch 374/500\n",
            "2/2 [==============================] - 0s 10ms/step - loss: 9.6990 - mae: 9.6990\n",
            "Epoch 375/500\n",
            "2/2 [==============================] - 0s 10ms/step - loss: 13.0321 - mae: 13.0321\n",
            "Epoch 376/500\n",
            "2/2 [==============================] - 0s 9ms/step - loss: 14.9140 - mae: 14.9140\n",
            "Epoch 377/500\n",
            "2/2 [==============================] - 0s 11ms/step - loss: 14.8257 - mae: 14.8257\n",
            "Epoch 378/500\n",
            "2/2 [==============================] - 0s 10ms/step - loss: 16.3002 - mae: 16.3002\n",
            "Epoch 379/500\n",
            "2/2 [==============================] - 0s 9ms/step - loss: 20.8789 - mae: 20.8789\n",
            "Epoch 380/500\n",
            "2/2 [==============================] - 0s 9ms/step - loss: 33.3927 - mae: 33.3927\n",
            "Epoch 381/500\n",
            "2/2 [==============================] - 0s 9ms/step - loss: 8.2039 - mae: 8.2039\n",
            "Epoch 382/500\n",
            "2/2 [==============================] - 0s 11ms/step - loss: 13.0054 - mae: 13.0054\n",
            "Epoch 383/500\n",
            "2/2 [==============================] - 0s 9ms/step - loss: 8.4582 - mae: 8.4582\n",
            "Epoch 384/500\n",
            "2/2 [==============================] - 0s 9ms/step - loss: 7.1013 - mae: 7.1013\n",
            "Epoch 385/500\n",
            "2/2 [==============================] - 0s 10ms/step - loss: 10.9746 - mae: 10.9746\n",
            "Epoch 386/500\n",
            "2/2 [==============================] - 0s 9ms/step - loss: 19.8284 - mae: 19.8284\n",
            "Epoch 387/500\n",
            "2/2 [==============================] - 0s 9ms/step - loss: 24.7166 - mae: 24.7166\n",
            "Epoch 388/500\n",
            "2/2 [==============================] - 0s 9ms/step - loss: 8.6980 - mae: 8.6980\n",
            "Epoch 389/500\n",
            "2/2 [==============================] - 0s 9ms/step - loss: 5.9491 - mae: 5.9491\n",
            "Epoch 390/500\n",
            "2/2 [==============================] - 0s 9ms/step - loss: 24.2782 - mae: 24.2782\n",
            "Epoch 391/500\n",
            "2/2 [==============================] - 0s 9ms/step - loss: 5.9708 - mae: 5.9708\n",
            "Epoch 392/500\n",
            "2/2 [==============================] - 0s 9ms/step - loss: 16.0654 - mae: 16.0654\n",
            "Epoch 393/500\n",
            "2/2 [==============================] - 0s 18ms/step - loss: 6.4851 - mae: 6.4851\n",
            "Epoch 394/500\n",
            "2/2 [==============================] - 0s 9ms/step - loss: 12.5013 - mae: 12.5013\n",
            "Epoch 395/500\n",
            "2/2 [==============================] - 0s 10ms/step - loss: 12.3748 - mae: 12.3748\n",
            "Epoch 396/500\n",
            "2/2 [==============================] - 0s 10ms/step - loss: 7.3376 - mae: 7.3376\n",
            "Epoch 397/500\n",
            "2/2 [==============================] - 0s 9ms/step - loss: 7.5950 - mae: 7.5950\n",
            "Epoch 398/500\n",
            "2/2 [==============================] - 0s 9ms/step - loss: 20.2714 - mae: 20.2714\n",
            "Epoch 399/500\n",
            "2/2 [==============================] - 0s 9ms/step - loss: 5.9129 - mae: 5.9129\n",
            "Epoch 400/500\n",
            "2/2 [==============================] - 0s 9ms/step - loss: 24.6437 - mae: 24.6437\n",
            "Epoch 401/500\n",
            "2/2 [==============================] - 0s 8ms/step - loss: 13.1199 - mae: 13.1199\n",
            "Epoch 402/500\n",
            "2/2 [==============================] - 0s 9ms/step - loss: 8.3481 - mae: 8.3481\n",
            "Epoch 403/500\n",
            "2/2 [==============================] - 0s 9ms/step - loss: 9.8366 - mae: 9.8366\n",
            "Epoch 404/500\n",
            "2/2 [==============================] - 0s 9ms/step - loss: 12.5749 - mae: 12.5749\n",
            "Epoch 405/500\n",
            "2/2 [==============================] - 0s 12ms/step - loss: 8.7707 - mae: 8.7707\n",
            "Epoch 406/500\n",
            "2/2 [==============================] - 0s 10ms/step - loss: 21.6333 - mae: 21.6333\n",
            "Epoch 407/500\n",
            "2/2 [==============================] - 0s 9ms/step - loss: 20.3719 - mae: 20.3719\n",
            "Epoch 408/500\n",
            "2/2 [==============================] - 0s 9ms/step - loss: 10.3705 - mae: 10.3705\n",
            "Epoch 409/500\n",
            "2/2 [==============================] - 0s 13ms/step - loss: 9.3715 - mae: 9.3715\n",
            "Epoch 410/500\n",
            "2/2 [==============================] - 0s 9ms/step - loss: 13.3876 - mae: 13.3876\n",
            "Epoch 411/500\n",
            "2/2 [==============================] - 0s 9ms/step - loss: 15.8486 - mae: 15.8486\n",
            "Epoch 412/500\n",
            "2/2 [==============================] - 0s 9ms/step - loss: 23.5487 - mae: 23.5487\n",
            "Epoch 413/500\n",
            "2/2 [==============================] - 0s 10ms/step - loss: 16.4241 - mae: 16.4241\n",
            "Epoch 414/500\n",
            "2/2 [==============================] - 0s 15ms/step - loss: 4.9267 - mae: 4.9267\n",
            "Epoch 415/500\n",
            "2/2 [==============================] - 0s 9ms/step - loss: 13.9694 - mae: 13.9694\n",
            "Epoch 416/500\n",
            "2/2 [==============================] - 0s 9ms/step - loss: 28.9558 - mae: 28.9558\n",
            "Epoch 417/500\n",
            "2/2 [==============================] - 0s 9ms/step - loss: 5.9731 - mae: 5.9731\n",
            "Epoch 418/500\n",
            "2/2 [==============================] - 0s 9ms/step - loss: 12.4828 - mae: 12.4828\n",
            "Epoch 419/500\n",
            "2/2 [==============================] - 0s 8ms/step - loss: 11.4733 - mae: 11.4733\n",
            "Epoch 420/500\n",
            "2/2 [==============================] - 0s 9ms/step - loss: 23.8416 - mae: 23.8416\n",
            "Epoch 421/500\n",
            "2/2 [==============================] - 0s 9ms/step - loss: 19.7812 - mae: 19.7812\n",
            "Epoch 422/500\n",
            "2/2 [==============================] - 0s 9ms/step - loss: 4.0215 - mae: 4.0215\n",
            "Epoch 423/500\n",
            "2/2 [==============================] - 0s 16ms/step - loss: 34.5173 - mae: 34.5173\n",
            "Epoch 424/500\n",
            "2/2 [==============================] - 0s 12ms/step - loss: 13.0208 - mae: 13.0208\n",
            "Epoch 425/500\n",
            "2/2 [==============================] - 0s 13ms/step - loss: 6.9434 - mae: 6.9434\n",
            "Epoch 426/500\n",
            "2/2 [==============================] - 0s 10ms/step - loss: 19.4480 - mae: 19.4480\n",
            "Epoch 427/500\n",
            "2/2 [==============================] - 0s 9ms/step - loss: 4.4544 - mae: 4.4544\n",
            "Epoch 428/500\n",
            "2/2 [==============================] - 0s 9ms/step - loss: 20.6183 - mae: 20.6183\n",
            "Epoch 429/500\n",
            "2/2 [==============================] - 0s 10ms/step - loss: 15.2168 - mae: 15.2168\n",
            "Epoch 430/500\n",
            "2/2 [==============================] - 0s 10ms/step - loss: 11.2950 - mae: 11.2950\n",
            "Epoch 431/500\n",
            "2/2 [==============================] - 0s 10ms/step - loss: 10.1932 - mae: 10.1932\n",
            "Epoch 432/500\n",
            "2/2 [==============================] - 0s 9ms/step - loss: 13.7806 - mae: 13.7806\n",
            "Epoch 433/500\n",
            "2/2 [==============================] - 0s 10ms/step - loss: 12.0019 - mae: 12.0019\n",
            "Epoch 434/500\n",
            "2/2 [==============================] - 0s 9ms/step - loss: 30.5550 - mae: 30.5550\n",
            "Epoch 435/500\n",
            "2/2 [==============================] - 0s 8ms/step - loss: 11.1530 - mae: 11.1530\n",
            "Epoch 436/500\n",
            "2/2 [==============================] - 0s 9ms/step - loss: 28.6504 - mae: 28.6504\n",
            "Epoch 437/500\n",
            "2/2 [==============================] - 0s 12ms/step - loss: 7.4960 - mae: 7.4960\n",
            "Epoch 438/500\n",
            "2/2 [==============================] - 0s 9ms/step - loss: 12.9153 - mae: 12.9153\n",
            "Epoch 439/500\n",
            "2/2 [==============================] - 0s 11ms/step - loss: 34.1618 - mae: 34.1618\n",
            "Epoch 440/500\n",
            "2/2 [==============================] - 0s 10ms/step - loss: 15.8259 - mae: 15.8259\n",
            "Epoch 441/500\n",
            "2/2 [==============================] - 0s 10ms/step - loss: 18.4742 - mae: 18.4742\n",
            "Epoch 442/500\n",
            "2/2 [==============================] - 0s 10ms/step - loss: 26.7516 - mae: 26.7516\n",
            "Epoch 443/500\n",
            "2/2 [==============================] - 0s 10ms/step - loss: 9.7953 - mae: 9.7953\n",
            "Epoch 444/500\n",
            "2/2 [==============================] - 0s 9ms/step - loss: 8.6688 - mae: 8.6688\n",
            "Epoch 445/500\n",
            "2/2 [==============================] - 0s 12ms/step - loss: 14.1019 - mae: 14.1019\n",
            "Epoch 446/500\n",
            "2/2 [==============================] - 0s 9ms/step - loss: 16.8123 - mae: 16.8123\n",
            "Epoch 447/500\n",
            "2/2 [==============================] - 0s 9ms/step - loss: 6.7246 - mae: 6.7246\n",
            "Epoch 448/500\n",
            "2/2 [==============================] - 0s 8ms/step - loss: 6.7659 - mae: 6.7659\n",
            "Epoch 449/500\n",
            "2/2 [==============================] - 0s 8ms/step - loss: 15.6509 - mae: 15.6509\n",
            "Epoch 450/500\n",
            "2/2 [==============================] - 0s 9ms/step - loss: 16.6105 - mae: 16.6105\n",
            "Epoch 451/500\n",
            "2/2 [==============================] - 0s 10ms/step - loss: 14.2287 - mae: 14.2287\n",
            "Epoch 452/500\n",
            "2/2 [==============================] - 0s 11ms/step - loss: 30.4879 - mae: 30.4879\n",
            "Epoch 453/500\n",
            "2/2 [==============================] - 0s 10ms/step - loss: 5.1650 - mae: 5.1650\n",
            "Epoch 454/500\n",
            "2/2 [==============================] - 0s 14ms/step - loss: 30.0905 - mae: 30.0905\n",
            "Epoch 455/500\n",
            "2/2 [==============================] - 0s 16ms/step - loss: 4.8478 - mae: 4.8478\n",
            "Epoch 456/500\n",
            "2/2 [==============================] - 0s 12ms/step - loss: 13.8925 - mae: 13.8925\n",
            "Epoch 457/500\n",
            "2/2 [==============================] - 0s 9ms/step - loss: 16.9662 - mae: 16.9662\n",
            "Epoch 458/500\n",
            "2/2 [==============================] - 0s 12ms/step - loss: 13.5875 - mae: 13.5875\n",
            "Epoch 459/500\n",
            "2/2 [==============================] - 0s 11ms/step - loss: 25.0554 - mae: 25.0554\n",
            "Epoch 460/500\n",
            "2/2 [==============================] - 0s 11ms/step - loss: 17.2945 - mae: 17.2945\n",
            "Epoch 461/500\n",
            "2/2 [==============================] - 0s 11ms/step - loss: 11.0979 - mae: 11.0979\n",
            "Epoch 462/500\n",
            "2/2 [==============================] - 0s 12ms/step - loss: 12.9521 - mae: 12.9521\n",
            "Epoch 463/500\n",
            "2/2 [==============================] - 0s 9ms/step - loss: 28.8057 - mae: 28.8057\n",
            "Epoch 464/500\n",
            "2/2 [==============================] - 0s 15ms/step - loss: 7.5838 - mae: 7.5838\n",
            "Epoch 465/500\n",
            "2/2 [==============================] - 0s 11ms/step - loss: 15.8148 - mae: 15.8148\n",
            "Epoch 466/500\n",
            "2/2 [==============================] - 0s 9ms/step - loss: 8.7902 - mae: 8.7902\n",
            "Epoch 467/500\n",
            "2/2 [==============================] - 0s 13ms/step - loss: 22.1820 - mae: 22.1820\n",
            "Epoch 468/500\n",
            "2/2 [==============================] - 0s 12ms/step - loss: 22.4646 - mae: 22.4646\n",
            "Epoch 469/500\n",
            "2/2 [==============================] - 0s 9ms/step - loss: 19.8427 - mae: 19.8427\n",
            "Epoch 470/500\n",
            "2/2 [==============================] - 0s 12ms/step - loss: 7.5112 - mae: 7.5112\n",
            "Epoch 471/500\n",
            "2/2 [==============================] - 0s 12ms/step - loss: 27.6466 - mae: 27.6466\n",
            "Epoch 472/500\n",
            "2/2 [==============================] - 0s 11ms/step - loss: 12.1330 - mae: 12.1330\n",
            "Epoch 473/500\n",
            "2/2 [==============================] - 0s 13ms/step - loss: 14.5624 - mae: 14.5624\n",
            "Epoch 474/500\n",
            "2/2 [==============================] - 0s 10ms/step - loss: 18.3145 - mae: 18.3145\n",
            "Epoch 475/500\n",
            "2/2 [==============================] - 0s 10ms/step - loss: 13.0953 - mae: 13.0953\n",
            "Epoch 476/500\n",
            "2/2 [==============================] - 0s 13ms/step - loss: 13.6034 - mae: 13.6034\n",
            "Epoch 477/500\n",
            "2/2 [==============================] - 0s 12ms/step - loss: 30.1158 - mae: 30.1158\n",
            "Epoch 478/500\n",
            "2/2 [==============================] - 0s 9ms/step - loss: 6.3877 - mae: 6.3877\n",
            "Epoch 479/500\n",
            "2/2 [==============================] - 0s 10ms/step - loss: 12.1512 - mae: 12.1512\n",
            "Epoch 480/500\n",
            "2/2 [==============================] - 0s 8ms/step - loss: 18.4174 - mae: 18.4174\n",
            "Epoch 481/500\n",
            "2/2 [==============================] - 0s 9ms/step - loss: 16.2689 - mae: 16.2689\n",
            "Epoch 482/500\n",
            "2/2 [==============================] - 0s 9ms/step - loss: 15.0586 - mae: 15.0586\n",
            "Epoch 483/500\n",
            "2/2 [==============================] - 0s 9ms/step - loss: 20.5607 - mae: 20.5607\n",
            "Epoch 484/500\n",
            "2/2 [==============================] - 0s 11ms/step - loss: 35.0251 - mae: 35.0251\n",
            "Epoch 485/500\n",
            "2/2 [==============================] - 0s 10ms/step - loss: 13.7629 - mae: 13.7629\n",
            "Epoch 486/500\n",
            "2/2 [==============================] - 0s 10ms/step - loss: 7.3166 - mae: 7.3166\n",
            "Epoch 487/500\n",
            "2/2 [==============================] - 0s 9ms/step - loss: 6.4365 - mae: 6.4365\n",
            "Epoch 488/500\n",
            "2/2 [==============================] - 0s 10ms/step - loss: 31.3634 - mae: 31.3634\n",
            "Epoch 489/500\n",
            "2/2 [==============================] - 0s 11ms/step - loss: 12.2562 - mae: 12.2562\n",
            "Epoch 490/500\n",
            "2/2 [==============================] - 0s 12ms/step - loss: 12.8975 - mae: 12.8975\n",
            "Epoch 491/500\n",
            "2/2 [==============================] - 0s 10ms/step - loss: 23.9432 - mae: 23.9432\n",
            "Epoch 492/500\n",
            "2/2 [==============================] - 0s 12ms/step - loss: 19.7244 - mae: 19.7244\n",
            "Epoch 493/500\n",
            "2/2 [==============================] - 0s 10ms/step - loss: 4.8191 - mae: 4.8191\n",
            "Epoch 494/500\n",
            "2/2 [==============================] - 0s 13ms/step - loss: 12.1165 - mae: 12.1165\n",
            "Epoch 495/500\n",
            "2/2 [==============================] - 0s 11ms/step - loss: 13.6607 - mae: 13.6607\n",
            "Epoch 496/500\n",
            "2/2 [==============================] - 0s 9ms/step - loss: 12.8716 - mae: 12.8716\n",
            "Epoch 497/500\n",
            "2/2 [==============================] - 0s 10ms/step - loss: 17.9763 - mae: 17.9763\n",
            "Epoch 498/500\n",
            "2/2 [==============================] - 0s 14ms/step - loss: 22.7584 - mae: 22.7584\n",
            "Epoch 499/500\n",
            "2/2 [==============================] - 0s 13ms/step - loss: 8.6340 - mae: 8.6340\n",
            "Epoch 500/500\n",
            "2/2 [==============================] - 0s 9ms/step - loss: 14.4463 - mae: 14.4463\n"
          ]
        },
        {
          "output_type": "execute_result",
          "data": {
            "text/plain": [
              "<keras.src.callbacks.History at 0x78922ccdc250>"
            ]
          },
          "metadata": {},
          "execution_count": 92
        }
      ]
    },
    {
      "cell_type": "code",
      "source": [
        "y_pred_3 = model_3.predict(X_test)\n",
        "plot_predictions(predictions=y_pred_3)"
      ],
      "metadata": {
        "colab": {
          "base_uri": "https://localhost:8080/",
          "height": 616
        },
        "id": "R2bSCWQRArmX",
        "outputId": "db7dc93d-f88e-4072-80e4-655f7244896f"
      },
      "execution_count": 93,
      "outputs": [
        {
          "output_type": "stream",
          "name": "stdout",
          "text": [
            "1/1 [==============================] - 0s 117ms/step\n"
          ]
        },
        {
          "output_type": "display_data",
          "data": {
            "text/plain": [
              "<Figure size 1000x700 with 1 Axes>"
            ],
            "image/png": "[encoded data removed]"
          },
          "metadata": {}
        }
      ]
    },
    {
      "cell_type": "code",
      "source": [
        "mae_3 = MAE(y_test, y_pred_3)\n",
        "mse_3 = MSE(y_test, y_pred_3)"
      ],
      "metadata": {
        "id": "Ut6KMo9LA9La"
      },
      "execution_count": 94,
      "outputs": []
    },
    {
      "cell_type": "markdown",
      "source": [
        "## COmpanring the results of experiments"
      ],
      "metadata": {
        "id": "hWr0XFe6Bf9S"
      }
    },
    {
      "cell_type": "code",
      "source": [
        "import pandas as pd\n",
        "\n",
        "model_list = [['model_1', mae_1.numpy(), mse_1.numpy()],\n",
        "              ['model_2', mae_2.numpy(), mse_2.numpy()],\n",
        "              ['model_3', mae_3.numpy(), mse_3.numpy()]]"
      ],
      "metadata": {
        "id": "iUkcPFkPdkN6"
      },
      "execution_count": 95,
      "outputs": []
    },
    {
      "cell_type": "code",
      "source": [
        "pd.DataFrame(model_list, columns=['model_name', 'mae', 'mse'])"
      ],
      "metadata": {
        "colab": {
          "base_uri": "https://localhost:8080/",
          "height": 143
        },
        "id": "ihKg3VWnegxz",
        "outputId": "7c19da8f-f8eb-40c1-89d7-3a47984ad7e8"
      },
      "execution_count": 96,
      "outputs": [
        {
          "output_type": "execute_result",
          "data": {
            "text/plain": [
              "  model_name        mae          mse\n",
              "0    model_1   8.617284    80.755112\n",
              "1    model_2   2.054909     6.195335\n",
              "2    model_3  68.113647  4724.387695"
            ],
            "text/html": [
              "\n",
              "  <div id=\"df-13bfe900-ecb6-4b40-9e5d-d4a0cd159c1d\" class=\"colab-df-container\">\n",
              "    <div>\n",
              "<style scoped>\n",
              "    .dataframe tbody tr th:only-of-type {\n",
              "        vertical-align: middle;\n",
              "    }\n",
              "\n",
              "    .dataframe tbody tr th {\n",
              "        vertical-align: top;\n",
              "    }\n",
              "\n",
              "    .dataframe thead th {\n",
              "        text-align: right;\n",
              "    }\n",
              "</style>\n",
              "<table border=\"1\" class=\"dataframe\">\n",
              "  <thead>\n",
              "    <tr style=\"text-align: right;\">\n",
              "      <th></th>\n",
              "      <th>model_name</th>\n",
              "      <th>mae</th>\n",
              "      <th>mse</th>\n",
              "    </tr>\n",
              "  </thead>\n",
              "  <tbody>\n",
              "    <tr>\n",
              "      <th>0</th>\n",
              "      <td>model_1</td>\n",
              "      <td>8.617284</td>\n",
              "      <td>80.755112</td>\n",
              "    </tr>\n",
              "    <tr>\n",
              "      <th>1</th>\n",
              "      <td>model_2</td>\n",
              "      <td>2.054909</td>\n",
              "      <td>6.195335</td>\n",
              "    </tr>\n",
              "    <tr>\n",
              "      <th>2</th>\n",
              "      <td>model_3</td>\n",
              "      <td>68.113647</td>\n",
              "      <td>4724.387695</td>\n",
              "    </tr>\n",
              "  </tbody>\n",
              "</table>\n",
              "</div>\n",
              "    <div class=\"colab-df-buttons\">\n",
              "\n",
              "  <div class=\"colab-df-container\">\n",
              "    <button class=\"colab-df-convert\" onclick=\"convertToInteractive('df-13bfe900-ecb6-4b40-9e5d-d4a0cd159c1d')\"\n",
              "            title=\"Convert this dataframe to an interactive table.\"\n",
              "            style=\"display:none;\">\n",
              "\n",
              "  <svg xmlns=\"http://www.w3.org/2000/svg\" height=\"24px\" viewBox=\"0 -960 960 960\">\n",
              "    <path d=\"M120-120v-720h720v720H120Zm60-500h600v-160H180v160Zm220 220h160v-160H400v160Zm0 220h160v-160H400v160ZM180-400h160v-160H180v160Zm440 0h160v-160H620v160ZM180-180h160v-160H180v160Zm440 0h160v-160H620v160Z\"/>\n",
              "  </svg>\n",
              "    </button>\n",
              "\n",
              "  <style>\n",
              "    .colab-df-container {\n",
              "      display:flex;\n",
              "      gap: 12px;\n",
              "    }\n",
              "\n",
              "    .colab-df-convert {\n",
              "      background-color: #E8F0FE;\n",
              "      border: none;\n",
              "      border-radius: 50%;\n",
              "      cursor: pointer;\n",
              "      display: none;\n",
              "      fill: #1967D2;\n",
              "      height: 32px;\n",
              "      padding: 0 0 0 0;\n",
              "      width: 32px;\n",
              "    }\n",
              "\n",
              "    .colab-df-convert:hover {\n",
              "      background-color: #E2EBFA;\n",
              "      box-shadow: 0px 1px 2px rgba(60, 64, 67, 0.3), 0px 1px 3px 1px rgba(60, 64, 67, 0.15);\n",
              "      fill: #174EA6;\n",
              "    }\n",
              "\n",
              "    .colab-df-buttons div {\n",
              "      margin-bottom: 4px;\n",
              "    }\n",
              "\n",
              "    [theme=dark] .colab-df-convert {\n",
              "      background-color: #3B4455;\n",
              "      fill: #D2E3FC;\n",
              "    }\n",
              "\n",
              "    [theme=dark] .colab-df-convert:hover {\n",
              "      background-color: #434B5C;\n",
              "      box-shadow: 0px 1px 3px 1px rgba(0, 0, 0, 0.15);\n",
              "      filter: drop-shadow(0px 1px 2px rgba(0, 0, 0, 0.3));\n",
              "      fill: #FFFFFF;\n",
              "    }\n",
              "  </style>\n",
              "\n",
              "    <script>\n",
              "      const buttonEl =\n",
              "        document.querySelector('#df-13bfe900-ecb6-4b40-9e5d-d4a0cd159c1d button.colab-df-convert');\n",
              "      buttonEl.style.display =\n",
              "        google.colab.kernel.accessAllowed ? 'block' : 'none';\n",
              "\n",
              "      async function convertToInteractive(key) {\n",
              "        const element = document.querySelector('#df-13bfe900-ecb6-4b40-9e5d-d4a0cd159c1d');\n",
              "        const dataTable =\n",
              "          await google.colab.kernel.invokeFunction('convertToInteractive',\n",
              "                                                    [key], {});\n",
              "        if (!dataTable) return;\n",
              "\n",
              "        const docLinkHtml = 'Like what you see? Visit the ' +\n",
              "          '<a target=\"_blank\" href=https://colab.research.google.com/notebooks/data_table.ipynb>data table notebook</a>'\n",
              "          + ' to learn more about interactive tables.';\n",
              "        element.innerHTML = '';\n",
              "        dataTable['output_type'] = 'display_data';\n",
              "        await google.colab.output.renderOutput(dataTable, element);\n",
              "        const docLink = document.createElement('div');\n",
              "        docLink.innerHTML = docLinkHtml;\n",
              "        element.appendChild(docLink);\n",
              "      }\n",
              "    </script>\n",
              "  </div>\n",
              "\n",
              "\n",
              "<div id=\"df-c38a0000-2110-4881-8cef-40515d45c39a\">\n",
              "  <button class=\"colab-df-quickchart\" onclick=\"quickchart('df-c38a0000-2110-4881-8cef-40515d45c39a')\"\n",
              "            title=\"Suggest charts\"\n",
              "            style=\"display:none;\">\n",
              "\n",
              "<svg xmlns=\"http://www.w3.org/2000/svg\" height=\"24px\"viewBox=\"0 0 24 24\"\n",
              "     width=\"24px\">\n",
              "    <g>\n",
              "        <path d=\"M19 3H5c-1.1 0-2 .9-2 2v14c0 1.1.9 2 2 2h14c1.1 0 2-.9 2-2V5c0-1.1-.9-2-2-2zM9 17H7v-7h2v7zm4 0h-2V7h2v10zm4 0h-2v-4h2v4z\"/>\n",
              "    </g>\n",
              "</svg>\n",
              "  </button>\n",
              "\n",
              "<style>\n",
              "  .colab-df-quickchart {\n",
              "      --bg-color: #E8F0FE;\n",
              "      --fill-color: #1967D2;\n",
              "      --hover-bg-color: #E2EBFA;\n",
              "      --hover-fill-color: #174EA6;\n",
              "      --disabled-fill-color: #AAA;\n",
              "      --disabled-bg-color: #DDD;\n",
              "  }\n",
              "\n",
              "  [theme=dark] .colab-df-quickchart {\n",
              "      --bg-color: #3B4455;\n",
              "      --fill-color: #D2E3FC;\n",
              "      --hover-bg-color: #434B5C;\n",
              "      --hover-fill-color: #FFFFFF;\n",
              "      --disabled-bg-color: #3B4455;\n",
              "      --disabled-fill-color: #666;\n",
              "  }\n",
              "\n",
              "  .colab-df-quickchart {\n",
              "    background-color: var(--bg-color);\n",
              "    border: none;\n",
              "    border-radius: 50%;\n",
              "    cursor: pointer;\n",
              "    display: none;\n",
              "    fill: var(--fill-color);\n",
              "    height: 32px;\n",
              "    padding: 0;\n",
              "    width: 32px;\n",
              "  }\n",
              "\n",
              "  .colab-df-quickchart:hover {\n",
              "    background-color: var(--hover-bg-color);\n",
              "    box-shadow: 0 1px 2px rgba(60, 64, 67, 0.3), 0 1px 3px 1px rgba(60, 64, 67, 0.15);\n",
              "    fill: var(--button-hover-fill-color);\n",
              "  }\n",
              "\n",
              "  .colab-df-quickchart-complete:disabled,\n",
              "  .colab-df-quickchart-complete:disabled:hover {\n",
              "    background-color: var(--disabled-bg-color);\n",
              "    fill: var(--disabled-fill-color);\n",
              "    box-shadow: none;\n",
              "  }\n",
              "\n",
              "  .colab-df-spinner {\n",
              "    border: 2px solid var(--fill-color);\n",
              "    border-color: transparent;\n",
              "    border-bottom-color: var(--fill-color);\n",
              "    animation:\n",
              "      spin 1s steps(1) infinite;\n",
              "  }\n",
              "\n",
              "  @keyframes spin {\n",
              "    0% {\n",
              "      border-color: transparent;\n",
              "      border-bottom-color: var(--fill-color);\n",
              "      border-left-color: var(--fill-color);\n",
              "    }\n",
              "    20% {\n",
              "      border-color: transparent;\n",
              "      border-left-color: var(--fill-color);\n",
              "      border-top-color: var(--fill-color);\n",
              "    }\n",
              "    30% {\n",
              "      border-color: transparent;\n",
              "      border-left-color: var(--fill-color);\n",
              "      border-top-color: var(--fill-color);\n",
              "      border-right-color: var(--fill-color);\n",
              "    }\n",
              "    40% {\n",
              "      border-color: transparent;\n",
              "      border-right-color: var(--fill-color);\n",
              "      border-top-color: var(--fill-color);\n",
              "    }\n",
              "    60% {\n",
              "      border-color: transparent;\n",
              "      border-right-color: var(--fill-color);\n",
              "    }\n",
              "    80% {\n",
              "      border-color: transparent;\n",
              "      border-right-color: var(--fill-color);\n",
              "      border-bottom-color: var(--fill-color);\n",
              "    }\n",
              "    90% {\n",
              "      border-color: transparent;\n",
              "      border-bottom-color: var(--fill-color);\n",
              "    }\n",
              "  }\n",
              "</style>\n",
              "\n",
              "  <script>\n",
              "    async function quickchart(key) {\n",
              "      const quickchartButtonEl =\n",
              "        document.querySelector('#' + key + ' button');\n",
              "      quickchartButtonEl.disabled = true;  // To prevent multiple clicks.\n",
              "      quickchartButtonEl.classList.add('colab-df-spinner');\n",
              "      try {\n",
              "        const charts = await google.colab.kernel.invokeFunction(\n",
              "            'suggestCharts', [key], {});\n",
              "      } catch (error) {\n",
              "        console.error('Error during call to suggestCharts:', error);\n",
              "      }\n",
              "      quickchartButtonEl.classList.remove('colab-df-spinner');\n",
              "      quickchartButtonEl.classList.add('colab-df-quickchart-complete');\n",
              "    }\n",
              "    (() => {\n",
              "      let quickchartButtonEl =\n",
              "        document.querySelector('#df-c38a0000-2110-4881-8cef-40515d45c39a button');\n",
              "      quickchartButtonEl.style.display =\n",
              "        google.colab.kernel.accessAllowed ? 'block' : 'none';\n",
              "    })();\n",
              "  </script>\n",
              "</div>\n",
              "    </div>\n",
              "  </div>\n"
            ]
          },
          "metadata": {},
          "execution_count": 96
        }
      ]
    },
    {
      "cell_type": "code",
      "source": [
        "model_2.summary()"
      ],
      "metadata": {
        "colab": {
          "base_uri": "https://localhost:8080/"
        },
        "id": "9d58096meqj3",
        "outputId": "0f1b1907-a3a1-4604-b3d0-471ae7ab2559"
      },
      "execution_count": 97,
      "outputs": [
        {
          "output_type": "stream",
          "name": "stdout",
          "text": [
            "Model: \"sequential_11\"\n",
            "_________________________________________________________________\n",
            " Layer (type)                Output Shape              Param #   \n",
            "=================================================================\n",
            " dense_21 (Dense)            (None, 10)                20        \n",
            "                                                                 \n",
            " dense_22 (Dense)            (None, 1)                 11        \n",
            "                                                                 \n",
            "=================================================================\n",
            "Total params: 31 (124.00 Byte)\n",
            "Trainable params: 31 (124.00 Byte)\n",
            "Non-trainable params: 0 (0.00 Byte)\n",
            "_________________________________________________________________\n"
          ]
        }
      ]
    },
    {
      "cell_type": "markdown",
      "source": [
        "## Tracking our experiments\n",
        "\n",
        "One really good habit in machine Learning modelling is to track the result of your experiments.\n",
        "\n",
        "**Resources:** As you build more models. you'll want to look into using.\n",
        "* Tensorboarrd\n",
        "* Weights and Biases"
      ],
      "metadata": {
        "id": "Hp5Mwj9ke0RE"
      }
    },
    {
      "cell_type": "markdown",
      "source": [
        "## Save our model\n",
        "\n",
        "There are two formats we can save our model's too:\n",
        "\n",
        "1. The SavedModel format\n",
        "2. The HDF5 format"
      ],
      "metadata": {
        "id": "w8UYxRH7fmkN"
      }
    },
    {
      "cell_type": "code",
      "source": [
        "model_2.save(\"Best_model_SavedModel_format\")"
      ],
      "metadata": {
        "id": "u8X1nNO7rLlX"
      },
      "execution_count": 98,
      "outputs": []
    },
    {
      "cell_type": "code",
      "source": [
        "model_2.save(\"Best_model_HDF5_format.h5\")"
      ],
      "metadata": {
        "colab": {
          "base_uri": "https://localhost:8080/"
        },
        "id": "83RkUb7xruyo",
        "outputId": "aa01bf8d-aa43-41fc-a448-d51372c5c1a9"
      },
      "execution_count": 99,
      "outputs": [
        {
          "output_type": "stream",
          "name": "stderr",
          "text": [
            "/usr/local/lib/python3.10/dist-packages/keras/src/engine/training.py:3103: UserWarning: You are saving your model as an HDF5 file via `model.save()`. This file format is considered legacy. We recommend using instead the native Keras format, e.g. `model.save('my_model.keras')`.\n",
            "  saving_api.save_model(\n"
          ]
        }
      ]
    },
    {
      "cell_type": "code",
      "source": [
        "# Load model\n",
        "loaded_SavedModel_format = tf.keras.models.load_model('/content/Best_model_SavedModel_format')\n",
        "loaded_SavedModel_format.summary()"
      ],
      "metadata": {
        "colab": {
          "base_uri": "https://localhost:8080/"
        },
        "id": "gTRTSyERsY0d",
        "outputId": "687e9566-d627-4b43-f1c5-ba12d1e99e18"
      },
      "execution_count": 100,
      "outputs": [
        {
          "output_type": "stream",
          "name": "stdout",
          "text": [
            "Model: \"sequential_11\"\n",
            "_________________________________________________________________\n",
            " Layer (type)                Output Shape              Param #   \n",
            "=================================================================\n",
            " dense_21 (Dense)            (None, 10)                20        \n",
            "                                                                 \n",
            " dense_22 (Dense)            (None, 1)                 11        \n",
            "                                                                 \n",
            "=================================================================\n",
            "Total params: 31 (124.00 Byte)\n",
            "Trainable params: 31 (124.00 Byte)\n",
            "Non-trainable params: 0 (0.00 Byte)\n",
            "_________________________________________________________________\n"
          ]
        }
      ]
    },
    {
      "cell_type": "code",
      "source": [
        "model_2.summary()"
      ],
      "metadata": {
        "colab": {
          "base_uri": "https://localhost:8080/"
        },
        "id": "5o0JdLuDtwG9",
        "outputId": "239a7647-9800-4f8a-be19-384fa242d9c8"
      },
      "execution_count": 101,
      "outputs": [
        {
          "output_type": "stream",
          "name": "stdout",
          "text": [
            "Model: \"sequential_11\"\n",
            "_________________________________________________________________\n",
            " Layer (type)                Output Shape              Param #   \n",
            "=================================================================\n",
            " dense_21 (Dense)            (None, 10)                20        \n",
            "                                                                 \n",
            " dense_22 (Dense)            (None, 1)                 11        \n",
            "                                                                 \n",
            "=================================================================\n",
            "Total params: 31 (124.00 Byte)\n",
            "Trainable params: 31 (124.00 Byte)\n",
            "Non-trainable params: 0 (0.00 Byte)\n",
            "_________________________________________________________________\n"
          ]
        }
      ]
    },
    {
      "cell_type": "code",
      "source": [
        "# Comparing predictions\n",
        "model_2_pred = model_2.predict(X_test)\n",
        "loaded_SavedModel_format_pred = loaded_SavedModel_format.predict(X_test)\n",
        "model_2_pred == loaded_SavedModel_format_pred"
      ],
      "metadata": {
        "colab": {
          "base_uri": "https://localhost:8080/"
        },
        "id": "ldOZdd2Itzsm",
        "outputId": "899da519-0d85-40a4-e661-d5bee0088df4"
      },
      "execution_count": 104,
      "outputs": [
        {
          "output_type": "stream",
          "name": "stdout",
          "text": [
            "1/1 [==============================] - 0s 23ms/step\n",
            "1/1 [==============================] - 0s 30ms/step\n"
          ]
        },
        {
          "output_type": "execute_result",
          "data": {
            "text/plain": [
              "array([[ True],\n",
              "       [ True],\n",
              "       [ True],\n",
              "       [ True],\n",
              "       [ True],\n",
              "       [ True],\n",
              "       [ True],\n",
              "       [ True],\n",
              "       [ True],\n",
              "       [ True]])"
            ]
          },
          "metadata": {},
          "execution_count": 104
        }
      ]
    },
    {
      "cell_type": "code",
      "source": [
        "model_2_pred, loaded_SavedModel_format_pred"
      ],
      "metadata": {
        "colab": {
          "base_uri": "https://localhost:8080/"
        },
        "id": "VSnNkZOcuSI1",
        "outputId": "f4db0e3c-b70b-4200-e737-133a7d54ac68"
      },
      "execution_count": 103,
      "outputs": [
        {
          "output_type": "execute_result",
          "data": {
            "text/plain": [
              "(array([[ 69.60366 ],\n",
              "        [ 74.130775],\n",
              "        [ 78.65788 ],\n",
              "        [ 83.18498 ],\n",
              "        [ 87.71209 ],\n",
              "        [ 92.2392  ],\n",
              "        [ 96.7663  ],\n",
              "        [101.2934  ],\n",
              "        [105.82051 ],\n",
              "        [110.34761 ]], dtype=float32),\n",
              " array([[ 69.60366 ],\n",
              "        [ 74.130775],\n",
              "        [ 78.65788 ],\n",
              "        [ 83.18498 ],\n",
              "        [ 87.71209 ],\n",
              "        [ 92.2392  ],\n",
              "        [ 96.7663  ],\n",
              "        [101.2934  ],\n",
              "        [105.82051 ],\n",
              "        [110.34761 ]], dtype=float32))"
            ]
          },
          "metadata": {},
          "execution_count": 103
        }
      ]
    },
    {
      "cell_type": "code",
      "source": [
        "loaded_h5_model = tf.keras.models.load_model('/content/Best_model_HDF5_format.h5')\n",
        "loaded_h5_model.summary()"
      ],
      "metadata": {
        "colab": {
          "base_uri": "https://localhost:8080/"
        },
        "id": "DCdiVM7junHF",
        "outputId": "db369250-08d8-4a8e-ff05-9a1dbe7ff21f"
      },
      "execution_count": 106,
      "outputs": [
        {
          "output_type": "stream",
          "name": "stdout",
          "text": [
            "Model: \"sequential_11\"\n",
            "_________________________________________________________________\n",
            " Layer (type)                Output Shape              Param #   \n",
            "=================================================================\n",
            " dense_21 (Dense)            (None, 10)                20        \n",
            "                                                                 \n",
            " dense_22 (Dense)            (None, 1)                 11        \n",
            "                                                                 \n",
            "=================================================================\n",
            "Total params: 31 (124.00 Byte)\n",
            "Trainable params: 31 (124.00 Byte)\n",
            "Non-trainable params: 0 (0.00 Byte)\n",
            "_________________________________________________________________\n"
          ]
        }
      ]
    },
    {
      "cell_type": "code",
      "source": [
        "loaded_h5_model_pred = loaded_h5_model.predict(X_test)\n",
        "model_2_pred == loaded_h5_model_pred"
      ],
      "metadata": {
        "colab": {
          "base_uri": "https://localhost:8080/"
        },
        "id": "jGPEqeFdvNqy",
        "outputId": "ba58d3f6-0d7e-4edc-b3a7-1c8138704c15"
      },
      "execution_count": 108,
      "outputs": [
        {
          "output_type": "stream",
          "name": "stdout",
          "text": [
            "1/1 [==============================] - 0s 24ms/step\n"
          ]
        },
        {
          "output_type": "execute_result",
          "data": {
            "text/plain": [
              "array([[ True],\n",
              "       [ True],\n",
              "       [ True],\n",
              "       [ True],\n",
              "       [ True],\n",
              "       [ True],\n",
              "       [ True],\n",
              "       [ True],\n",
              "       [ True],\n",
              "       [ True]])"
            ]
          },
          "metadata": {},
          "execution_count": 108
        }
      ]
    },
    {
      "cell_type": "code",
      "source": [],
      "metadata": {
        "id": "AN_9ejPsvd2V"
      },
      "execution_count": null,
      "outputs": []
    }
  ]
}