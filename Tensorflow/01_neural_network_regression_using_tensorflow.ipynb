{
  "nbformat": 4,
  "nbformat_minor": 0,
  "metadata": {
    "colab": {
      "provenance": [],
      "authorship_tag": "ABX9TyP/oKGfgt3lvpI+4pnTwrmz",
      "include_colab_link": true
    },
    "kernelspec": {
      "name": "python3",
      "display_name": "Python 3"
    },
    "language_info": {
      "name": "python"
    }
  },
  "cells": [
    {
      "cell_type": "markdown",
      "metadata": {
        "id": "view-in-github",
        "colab_type": "text"
      },
      "source": [
        "<a href=\"https://colab.research.google.com/github/Guptarohit2003/Machine-Learning/blob/main/Tensorflow/01_neural_network_regression_using_tensorflow.ipynb\" target=\"_parent\"><img src=\"https://colab.research.google.com/assets/colab-badge.svg\" alt=\"Open In Colab\"/></a>"
      ]
    },
    {
      "cell_type": "markdown",
      "source": [
        "# Introduction to Regression with Neural networks in TensorFlow"
      ],
      "metadata": {
        "id": "pOc-WspS3GzW"
      }
    },
    {
      "cell_type": "code",
      "source": [
        "import tensorflow as tf\n",
        "tf.__version__"
      ],
      "metadata": {
        "colab": {
          "base_uri": "https://localhost:8080/",
          "height": 35
        },
        "id": "TyzLl9Gd3n0b",
        "outputId": "e6ed6734-a92b-40d0-a924-2e893827a4a8"
      },
      "execution_count": 1,
      "outputs": [
        {
          "output_type": "execute_result",
          "data": {
            "text/plain": [
              "'2.15.0'"
            ],
            "application/vnd.google.colaboratory.intrinsic+json": {
              "type": "string"
            }
          },
          "metadata": {},
          "execution_count": 1
        }
      ]
    },
    {
      "cell_type": "markdown",
      "source": [
        "# Create Data view and fit"
      ],
      "metadata": {
        "id": "5iTXtgl83vcR"
      }
    },
    {
      "cell_type": "code",
      "source": [
        "import numpy as np\n",
        "import pandas as pd\n",
        "import matplotlib.pyplot as plt\n",
        "\n",
        "#Create Feature\n",
        "X = np.array([-7.0, -4.0, -1.0, 2.0, 5.0, 8.0, 11.0, 14.0])\n",
        "\n",
        "# Create Label\n",
        "y = np.array([3.0, 6.0, 9.0, 12.0, 15.0, 18.0, 21.0, 24.0])\n",
        "\n",
        "plt.scatter(X, y)"
      ],
      "metadata": {
        "colab": {
          "base_uri": "https://localhost:8080/",
          "height": 452
        },
        "id": "fQfZ6C8832cF",
        "outputId": "1a9e4ac7-d47c-4b37-ee2a-48011f8c6d39"
      },
      "execution_count": 2,
      "outputs": [
        {
          "output_type": "execute_result",
          "data": {
            "text/plain": [
              "<matplotlib.collections.PathCollection at 0x7e84412ce260>"
            ]
          },
          "metadata": {},
          "execution_count": 2
        },
        {
          "output_type": "display_data",
          "data": {
            "text/plain": [
              "<Figure size 640x480 with 1 Axes>"
            ],
            "image/png": "[encoded data removed]"
          },
          "metadata": {}
        }
      ]
    },
    {
      "cell_type": "code",
      "source": [
        "y == X + 10"
      ],
      "metadata": {
        "colab": {
          "base_uri": "https://localhost:8080/"
        },
        "id": "tz05Mf9T4qEc",
        "outputId": "3ef3f30b-0234-4ed2-f138-926ce60fd33c"
      },
      "execution_count": 3,
      "outputs": [
        {
          "output_type": "execute_result",
          "data": {
            "text/plain": [
              "array([ True,  True,  True,  True,  True,  True,  True,  True])"
            ]
          },
          "metadata": {},
          "execution_count": 3
        }
      ]
    },
    {
      "cell_type": "markdown",
      "source": [
        "# Input Output Shapes"
      ],
      "metadata": {
        "id": "_OeSk2yW5Bm8"
      }
    },
    {
      "cell_type": "code",
      "source": [
        "#create demo tensor for house prediction\n",
        "house_info = tf.constant([\"bedroom\", \"bathroom\", 'garage'])\n",
        "house_price = tf.constant([939700])\n",
        "house_info, house_price\n"
      ],
      "metadata": {
        "colab": {
          "base_uri": "https://localhost:8080/"
        },
        "id": "w-agQfvP5Mye",
        "outputId": "4b749e60-42ce-475c-f99c-e06753332969"
      },
      "execution_count": 4,
      "outputs": [
        {
          "output_type": "execute_result",
          "data": {
            "text/plain": [
              "(<tf.Tensor: shape=(3,), dtype=string, numpy=array([b'bedroom', b'bathroom', b'garage'], dtype=object)>,\n",
              " <tf.Tensor: shape=(1,), dtype=int32, numpy=array([939700], dtype=int32)>)"
            ]
          },
          "metadata": {},
          "execution_count": 4
        }
      ]
    },
    {
      "cell_type": "code",
      "source": [
        "X[0], y[0]"
      ],
      "metadata": {
        "colab": {
          "base_uri": "https://localhost:8080/"
        },
        "id": "ltZIka8A5oWL",
        "outputId": "c4aeadf8-22c7-4fec-f79b-e77c42ce4b43"
      },
      "execution_count": 5,
      "outputs": [
        {
          "output_type": "execute_result",
          "data": {
            "text/plain": [
              "(-7.0, 3.0)"
            ]
          },
          "metadata": {},
          "execution_count": 5
        }
      ]
    },
    {
      "cell_type": "code",
      "source": [
        "X = tf.constant(X)\n",
        "y = tf.constant(y)\n",
        "\n",
        "X,y"
      ],
      "metadata": {
        "colab": {
          "base_uri": "https://localhost:8080/"
        },
        "id": "XgaEyJ8966fJ",
        "outputId": "755a938b-e9ca-4c9a-aa7a-8268656b4d35"
      },
      "execution_count": 6,
      "outputs": [
        {
          "output_type": "execute_result",
          "data": {
            "text/plain": [
              "(<tf.Tensor: shape=(8,), dtype=float64, numpy=array([-7., -4., -1.,  2.,  5.,  8., 11., 14.])>,\n",
              " <tf.Tensor: shape=(8,), dtype=float64, numpy=array([ 3.,  6.,  9., 12., 15., 18., 21., 24.])>)"
            ]
          },
          "metadata": {},
          "execution_count": 6
        }
      ]
    },
    {
      "cell_type": "markdown",
      "source": [
        "## Steps in modelling with TensorFlow\n",
        "\n",
        "1. Create a model\n",
        "2. Compile a model\n",
        "3. Fitting a model"
      ],
      "metadata": {
        "id": "946qw_ea7byY"
      }
    },
    {
      "cell_type": "code",
      "source": [
        " tf.random.set_seed(42)\n",
        "\n",
        " # Create a model\n",
        " model = tf.keras.Sequential()\n",
        "\n",
        " model.add(tf.keras.layers.Dense(1))\n",
        "\n",
        " # Compile the model\n",
        " model.compile(loss = tf.keras.losses.mae,\n",
        "               optimizer = tf.keras.optimizers.SGD(),\n",
        "               metrics=['mae'])\n",
        "\n",
        " # Fit the model\n",
        " model.fit(tf.expand_dims(X, axis = -1), y, epochs=5)"
      ],
      "metadata": {
        "colab": {
          "base_uri": "https://localhost:8080/"
        },
        "id": "7d6VtNid7mKX",
        "outputId": "92da833d-f27c-4c38-920c-45c1cdb31d1e"
      },
      "execution_count": 7,
      "outputs": [
        {
          "output_type": "stream",
          "name": "stdout",
          "text": [
            "Epoch 1/5\n",
            "1/1 [==============================] - 0s 444ms/step - loss: 10.5224 - mae: 10.5224\n",
            "Epoch 2/5\n",
            "1/1 [==============================] - 0s 9ms/step - loss: 10.3899 - mae: 10.3899\n",
            "Epoch 3/5\n",
            "1/1 [==============================] - 0s 12ms/step - loss: 10.2574 - mae: 10.2574\n",
            "Epoch 4/5\n",
            "1/1 [==============================] - 0s 11ms/step - loss: 10.1249 - mae: 10.1249\n",
            "Epoch 5/5\n",
            "1/1 [==============================] - 0s 9ms/step - loss: 9.9924 - mae: 9.9924\n"
          ]
        },
        {
          "output_type": "execute_result",
          "data": {
            "text/plain": [
              "<keras.src.callbacks.History at 0x7e843c642ef0>"
            ]
          },
          "metadata": {},
          "execution_count": 7
        }
      ]
    },
    {
      "cell_type": "code",
      "source": [
        "# Check X and y\n",
        "X, y"
      ],
      "metadata": {
        "colab": {
          "base_uri": "https://localhost:8080/"
        },
        "id": "q6Jwdk039QPd",
        "outputId": "82375ab5-9abf-4c62-c21d-cd3366a559a7"
      },
      "execution_count": 8,
      "outputs": [
        {
          "output_type": "execute_result",
          "data": {
            "text/plain": [
              "(<tf.Tensor: shape=(8,), dtype=float64, numpy=array([-7., -4., -1.,  2.,  5.,  8., 11., 14.])>,\n",
              " <tf.Tensor: shape=(8,), dtype=float64, numpy=array([ 3.,  6.,  9., 12., 15., 18., 21., 24.])>)"
            ]
          },
          "metadata": {},
          "execution_count": 8
        }
      ]
    },
    {
      "cell_type": "code",
      "source": [
        "model.predict([17.0])"
      ],
      "metadata": {
        "colab": {
          "base_uri": "https://localhost:8080/"
        },
        "id": "1cU83J7D-VLf",
        "outputId": "b80035bc-6460-404e-ad3c-fc52984339e0"
      },
      "execution_count": 9,
      "outputs": [
        {
          "output_type": "stream",
          "name": "stdout",
          "text": [
            "1/1 [==============================] - 0s 90ms/step\n"
          ]
        },
        {
          "output_type": "execute_result",
          "data": {
            "text/plain": [
              "array([[17.487825]], dtype=float32)"
            ]
          },
          "metadata": {},
          "execution_count": 9
        }
      ]
    },
    {
      "cell_type": "markdown",
      "source": [
        "## Improve our model\n",
        "\n",
        "We can improve our model, by altering the steps we took to create a model\n",
        "\n",
        "**Creating a model** : here we might add more layers, increase # hidden units (neurons) within each of the hidden layers, change the activation function of each layer.\n",
        "\n",
        "**Compiling a model** : here we might change the optimization function or perhaps the **learning rate** of the optimization function.\n",
        "\n",
        "**Fitting a model** : here we might fit a model for more **epochs** or on more data."
      ],
      "metadata": {
        "id": "0gmmIb9--YZx"
      }
    },
    {
      "cell_type": "code",
      "source": [
        "# Let's rebuild the model for improvement\n",
        "model = tf.keras.Sequential([\n",
        "    tf.keras.layers.Dense(1)\n",
        "\n",
        "])\n",
        "\n",
        "model.compile(loss = \"mae\",\n",
        "              optimizer = \"sgd\",\n",
        "              metrics = [\"mae\"])\n",
        "\n",
        "# Fit the model (modified)\n",
        "model.fit(tf.expand_dims(X, axis = -1), y, epochs=100)"
      ],
      "metadata": {
        "colab": {
          "base_uri": "https://localhost:8080/"
        },
        "id": "fzKbrCvKAOp9",
        "outputId": "5792e50d-b666-46f0-f947-f8a81dffb12e"
      },
      "execution_count": 10,
      "outputs": [
        {
          "output_type": "stream",
          "name": "stdout",
          "text": [
            "Epoch 1/100\n",
            "1/1 [==============================] - 0s 312ms/step - loss: 19.6294 - mae: 19.6294\n",
            "Epoch 2/100\n",
            "1/1 [==============================] - 0s 10ms/step - loss: 19.3481 - mae: 19.3481\n",
            "Epoch 3/100\n",
            "1/1 [==============================] - 0s 8ms/step - loss: 19.0669 - mae: 19.0669\n",
            "Epoch 4/100\n",
            "1/1 [==============================] - 0s 9ms/step - loss: 18.7856 - mae: 18.7856\n",
            "Epoch 5/100\n",
            "1/1 [==============================] - 0s 9ms/step - loss: 18.5044 - mae: 18.5044\n",
            "Epoch 6/100\n",
            "1/1 [==============================] - 0s 9ms/step - loss: 18.2231 - mae: 18.2231\n",
            "Epoch 7/100\n",
            "1/1 [==============================] - 0s 10ms/step - loss: 17.9419 - mae: 17.9419\n",
            "Epoch 8/100\n",
            "1/1 [==============================] - 0s 9ms/step - loss: 17.6606 - mae: 17.6606\n",
            "Epoch 9/100\n",
            "1/1 [==============================] - 0s 9ms/step - loss: 17.3794 - mae: 17.3794\n",
            "Epoch 10/100\n",
            "1/1 [==============================] - 0s 9ms/step - loss: 17.0981 - mae: 17.0981\n",
            "Epoch 11/100\n",
            "1/1 [==============================] - 0s 9ms/step - loss: 16.8169 - mae: 16.8169\n",
            "Epoch 12/100\n",
            "1/1 [==============================] - 0s 9ms/step - loss: 16.5356 - mae: 16.5356\n",
            "Epoch 13/100\n",
            "1/1 [==============================] - 0s 9ms/step - loss: 16.2544 - mae: 16.2544\n",
            "Epoch 14/100\n",
            "1/1 [==============================] - 0s 9ms/step - loss: 15.9731 - mae: 15.9731\n",
            "Epoch 15/100\n",
            "1/1 [==============================] - 0s 9ms/step - loss: 15.6919 - mae: 15.6919\n",
            "Epoch 16/100\n",
            "1/1 [==============================] - 0s 10ms/step - loss: 15.4106 - mae: 15.4106\n",
            "Epoch 17/100\n",
            "1/1 [==============================] - 0s 10ms/step - loss: 15.1294 - mae: 15.1294\n",
            "Epoch 18/100\n",
            "1/1 [==============================] - 0s 9ms/step - loss: 14.8481 - mae: 14.8481\n",
            "Epoch 19/100\n",
            "1/1 [==============================] - 0s 8ms/step - loss: 14.6438 - mae: 14.6438\n",
            "Epoch 20/100\n",
            "1/1 [==============================] - 0s 10ms/step - loss: 14.5113 - mae: 14.5113\n",
            "Epoch 21/100\n",
            "1/1 [==============================] - 0s 10ms/step - loss: 14.3788 - mae: 14.3788\n",
            "Epoch 22/100\n",
            "1/1 [==============================] - 0s 12ms/step - loss: 14.2463 - mae: 14.2463\n",
            "Epoch 23/100\n",
            "1/1 [==============================] - 0s 9ms/step - loss: 14.1138 - mae: 14.1138\n",
            "Epoch 24/100\n",
            "1/1 [==============================] - 0s 10ms/step - loss: 13.9813 - mae: 13.9813\n",
            "Epoch 25/100\n",
            "1/1 [==============================] - 0s 10ms/step - loss: 13.8488 - mae: 13.8488\n",
            "Epoch 26/100\n",
            "1/1 [==============================] - 0s 12ms/step - loss: 13.7163 - mae: 13.7163\n",
            "Epoch 27/100\n",
            "1/1 [==============================] - 0s 10ms/step - loss: 13.5838 - mae: 13.5838\n",
            "Epoch 28/100\n",
            "1/1 [==============================] - 0s 11ms/step - loss: 13.4513 - mae: 13.4513\n",
            "Epoch 29/100\n",
            "1/1 [==============================] - 0s 10ms/step - loss: 13.3188 - mae: 13.3188\n",
            "Epoch 30/100\n",
            "1/1 [==============================] - 0s 8ms/step - loss: 13.1863 - mae: 13.1863\n",
            "Epoch 31/100\n",
            "1/1 [==============================] - 0s 9ms/step - loss: 13.0538 - mae: 13.0538\n",
            "Epoch 32/100\n",
            "1/1 [==============================] - 0s 15ms/step - loss: 12.9213 - mae: 12.9213\n",
            "Epoch 33/100\n",
            "1/1 [==============================] - 0s 9ms/step - loss: 12.7888 - mae: 12.7888\n",
            "Epoch 34/100\n",
            "1/1 [==============================] - 0s 8ms/step - loss: 12.6563 - mae: 12.6563\n",
            "Epoch 35/100\n",
            "1/1 [==============================] - 0s 10ms/step - loss: 12.5238 - mae: 12.5238\n",
            "Epoch 36/100\n",
            "1/1 [==============================] - 0s 9ms/step - loss: 12.3913 - mae: 12.3913\n",
            "Epoch 37/100\n",
            "1/1 [==============================] - 0s 9ms/step - loss: 12.2588 - mae: 12.2588\n",
            "Epoch 38/100\n",
            "1/1 [==============================] - 0s 9ms/step - loss: 12.1263 - mae: 12.1263\n",
            "Epoch 39/100\n",
            "1/1 [==============================] - 0s 11ms/step - loss: 11.9938 - mae: 11.9938\n",
            "Epoch 40/100\n",
            "1/1 [==============================] - 0s 9ms/step - loss: 11.8613 - mae: 11.8613\n",
            "Epoch 41/100\n",
            "1/1 [==============================] - 0s 9ms/step - loss: 11.7288 - mae: 11.7288\n",
            "Epoch 42/100\n",
            "1/1 [==============================] - 0s 9ms/step - loss: 11.5963 - mae: 11.5963\n",
            "Epoch 43/100\n",
            "1/1 [==============================] - 0s 10ms/step - loss: 11.4638 - mae: 11.4638\n",
            "Epoch 44/100\n",
            "1/1 [==============================] - 0s 9ms/step - loss: 11.3313 - mae: 11.3313\n",
            "Epoch 45/100\n",
            "1/1 [==============================] - 0s 11ms/step - loss: 11.1988 - mae: 11.1988\n",
            "Epoch 46/100\n",
            "1/1 [==============================] - 0s 10ms/step - loss: 11.0663 - mae: 11.0663\n",
            "Epoch 47/100\n",
            "1/1 [==============================] - 0s 9ms/step - loss: 10.9338 - mae: 10.9338\n",
            "Epoch 48/100\n",
            "1/1 [==============================] - 0s 9ms/step - loss: 10.8013 - mae: 10.8013\n",
            "Epoch 49/100\n",
            "1/1 [==============================] - 0s 9ms/step - loss: 10.6688 - mae: 10.6688\n",
            "Epoch 50/100\n",
            "1/1 [==============================] - 0s 8ms/step - loss: 10.5363 - mae: 10.5363\n",
            "Epoch 51/100\n",
            "1/1 [==============================] - 0s 8ms/step - loss: 10.4038 - mae: 10.4038\n",
            "Epoch 52/100\n",
            "1/1 [==============================] - 0s 9ms/step - loss: 10.2713 - mae: 10.2713\n",
            "Epoch 53/100\n",
            "1/1 [==============================] - 0s 9ms/step - loss: 10.1388 - mae: 10.1388\n",
            "Epoch 54/100\n",
            "1/1 [==============================] - 0s 9ms/step - loss: 10.0063 - mae: 10.0063\n",
            "Epoch 55/100\n",
            "1/1 [==============================] - 0s 11ms/step - loss: 9.8738 - mae: 9.8738\n",
            "Epoch 56/100\n",
            "1/1 [==============================] - 0s 9ms/step - loss: 9.7413 - mae: 9.7413\n",
            "Epoch 57/100\n",
            "1/1 [==============================] - 0s 8ms/step - loss: 9.6088 - mae: 9.6088\n",
            "Epoch 58/100\n",
            "1/1 [==============================] - 0s 8ms/step - loss: 9.4763 - mae: 9.4763\n",
            "Epoch 59/100\n",
            "1/1 [==============================] - 0s 8ms/step - loss: 9.3438 - mae: 9.3438\n",
            "Epoch 60/100\n",
            "1/1 [==============================] - 0s 9ms/step - loss: 9.2113 - mae: 9.2113\n",
            "Epoch 61/100\n",
            "1/1 [==============================] - 0s 9ms/step - loss: 9.0788 - mae: 9.0788\n",
            "Epoch 62/100\n",
            "1/1 [==============================] - 0s 9ms/step - loss: 8.9463 - mae: 8.9463\n",
            "Epoch 63/100\n",
            "1/1 [==============================] - 0s 9ms/step - loss: 8.8138 - mae: 8.8138\n",
            "Epoch 64/100\n",
            "1/1 [==============================] - 0s 9ms/step - loss: 8.6813 - mae: 8.6813\n",
            "Epoch 65/100\n",
            "1/1 [==============================] - 0s 9ms/step - loss: 8.5488 - mae: 8.5488\n",
            "Epoch 66/100\n",
            "1/1 [==============================] - 0s 9ms/step - loss: 8.4163 - mae: 8.4163\n",
            "Epoch 67/100\n",
            "1/1 [==============================] - 0s 10ms/step - loss: 8.2838 - mae: 8.2838\n",
            "Epoch 68/100\n",
            "1/1 [==============================] - 0s 9ms/step - loss: 8.1513 - mae: 8.1513\n",
            "Epoch 69/100\n",
            "1/1 [==============================] - 0s 9ms/step - loss: 8.0188 - mae: 8.0188\n",
            "Epoch 70/100\n",
            "1/1 [==============================] - 0s 8ms/step - loss: 7.8863 - mae: 7.8863\n",
            "Epoch 71/100\n",
            "1/1 [==============================] - 0s 8ms/step - loss: 7.7538 - mae: 7.7538\n",
            "Epoch 72/100\n",
            "1/1 [==============================] - 0s 10ms/step - loss: 7.6213 - mae: 7.6213\n",
            "Epoch 73/100\n",
            "1/1 [==============================] - 0s 9ms/step - loss: 7.4888 - mae: 7.4888\n",
            "Epoch 74/100\n",
            "1/1 [==============================] - 0s 8ms/step - loss: 7.3563 - mae: 7.3563\n",
            "Epoch 75/100\n",
            "1/1 [==============================] - 0s 9ms/step - loss: 7.2238 - mae: 7.2238\n",
            "Epoch 76/100\n",
            "1/1 [==============================] - 0s 13ms/step - loss: 7.0913 - mae: 7.0913\n",
            "Epoch 77/100\n",
            "1/1 [==============================] - 0s 11ms/step - loss: 6.9638 - mae: 6.9638\n",
            "Epoch 78/100\n",
            "1/1 [==============================] - 0s 8ms/step - loss: 6.9581 - mae: 6.9581\n",
            "Epoch 79/100\n",
            "1/1 [==============================] - 0s 11ms/step - loss: 6.9525 - mae: 6.9525\n",
            "Epoch 80/100\n",
            "1/1 [==============================] - 0s 13ms/step - loss: 6.9469 - mae: 6.9469\n",
            "Epoch 81/100\n",
            "1/1 [==============================] - 0s 9ms/step - loss: 6.9413 - mae: 6.9413\n",
            "Epoch 82/100\n",
            "1/1 [==============================] - 0s 8ms/step - loss: 6.9356 - mae: 6.9356\n",
            "Epoch 83/100\n",
            "1/1 [==============================] - 0s 9ms/step - loss: 6.9300 - mae: 6.9300\n",
            "Epoch 84/100\n",
            "1/1 [==============================] - 0s 16ms/step - loss: 6.9244 - mae: 6.9244\n",
            "Epoch 85/100\n",
            "1/1 [==============================] - 0s 10ms/step - loss: 6.9188 - mae: 6.9188\n",
            "Epoch 86/100\n",
            "1/1 [==============================] - 0s 11ms/step - loss: 6.9131 - mae: 6.9131\n",
            "Epoch 87/100\n",
            "1/1 [==============================] - 0s 8ms/step - loss: 6.9075 - mae: 6.9075\n",
            "Epoch 88/100\n",
            "1/1 [==============================] - 0s 9ms/step - loss: 6.9019 - mae: 6.9019\n",
            "Epoch 89/100\n",
            "1/1 [==============================] - 0s 10ms/step - loss: 6.8963 - mae: 6.8963\n",
            "Epoch 90/100\n",
            "1/1 [==============================] - 0s 9ms/step - loss: 6.8906 - mae: 6.8906\n",
            "Epoch 91/100\n",
            "1/1 [==============================] - 0s 10ms/step - loss: 6.8850 - mae: 6.8850\n",
            "Epoch 92/100\n",
            "1/1 [==============================] - 0s 9ms/step - loss: 6.8794 - mae: 6.8794\n",
            "Epoch 93/100\n",
            "1/1 [==============================] - 0s 10ms/step - loss: 6.8738 - mae: 6.8738\n",
            "Epoch 94/100\n",
            "1/1 [==============================] - 0s 14ms/step - loss: 6.8681 - mae: 6.8681\n",
            "Epoch 95/100\n",
            "1/1 [==============================] - 0s 11ms/step - loss: 6.8625 - mae: 6.8625\n",
            "Epoch 96/100\n",
            "1/1 [==============================] - 0s 10ms/step - loss: 6.8569 - mae: 6.8569\n",
            "Epoch 97/100\n",
            "1/1 [==============================] - 0s 10ms/step - loss: 6.8513 - mae: 6.8513\n",
            "Epoch 98/100\n",
            "1/1 [==============================] - 0s 11ms/step - loss: 6.8456 - mae: 6.8456\n",
            "Epoch 99/100\n",
            "1/1 [==============================] - 0s 10ms/step - loss: 6.8400 - mae: 6.8400\n",
            "Epoch 100/100\n",
            "1/1 [==============================] - 0s 11ms/step - loss: 6.8344 - mae: 6.8344\n"
          ]
        },
        {
          "output_type": "execute_result",
          "data": {
            "text/plain": [
              "<keras.src.callbacks.History at 0x7e843c4c8dc0>"
            ]
          },
          "metadata": {},
          "execution_count": 10
        }
      ]
    },
    {
      "cell_type": "code",
      "source": [
        "X, y"
      ],
      "metadata": {
        "colab": {
          "base_uri": "https://localhost:8080/"
        },
        "id": "yfZalF_HBK7S",
        "outputId": "3771d218-332e-43a2-8ef5-52ab7a628808"
      },
      "execution_count": 11,
      "outputs": [
        {
          "output_type": "execute_result",
          "data": {
            "text/plain": [
              "(<tf.Tensor: shape=(8,), dtype=float64, numpy=array([-7., -4., -1.,  2.,  5.,  8., 11., 14.])>,\n",
              " <tf.Tensor: shape=(8,), dtype=float64, numpy=array([ 3.,  6.,  9., 12., 15., 18., 21., 24.])>)"
            ]
          },
          "metadata": {},
          "execution_count": 11
        }
      ]
    },
    {
      "cell_type": "code",
      "source": [
        "model.predict([17.0])"
      ],
      "metadata": {
        "colab": {
          "base_uri": "https://localhost:8080/"
        },
        "id": "wtCKLilZBRVM",
        "outputId": "b05c6d05-1678-447b-dc7e-35041f3131ef"
      },
      "execution_count": 12,
      "outputs": [
        {
          "output_type": "stream",
          "name": "stdout",
          "text": [
            "1/1 [==============================] - 0s 94ms/step\n"
          ]
        },
        {
          "output_type": "execute_result",
          "data": {
            "text/plain": [
              "array([[29.193884]], dtype=float32)"
            ]
          },
          "metadata": {},
          "execution_count": 12
        }
      ]
    },
    {
      "cell_type": "code",
      "source": [
        "model = tf.keras.Sequential([\n",
        "     tf.keras.layers.Dense(100, activation = 'relu'),\n",
        "     tf.keras.layers.Dense(100, activation = 'relu'),\n",
        "     tf.keras.layers.Dense(100, activation = 'relu'),\n",
        "     tf.keras.layers.Dense(1)\n",
        " ])\n",
        "\n",
        "\n",
        "model.compile(loss= 'mae',\n",
        "               optimizer = 'sgd',\n",
        "               metrics=[\"mae\"])\n",
        "\n",
        "model.fit(tf.expand_dims(X, axis = -1), y, epochs=100)"
      ],
      "metadata": {
        "colab": {
          "base_uri": "https://localhost:8080/"
        },
        "id": "ozZzNZ3i9sCC",
        "outputId": "5a43ef00-d524-4e6a-a87f-c149153e8137"
      },
      "execution_count": 13,
      "outputs": [
        {
          "output_type": "stream",
          "name": "stdout",
          "text": [
            "Epoch 1/100\n",
            "1/1 [==============================] - 1s 768ms/step - loss: 13.3572 - mae: 13.3572\n",
            "Epoch 2/100\n",
            "1/1 [==============================] - 0s 10ms/step - loss: 12.8924 - mae: 12.8924\n",
            "Epoch 3/100\n",
            "1/1 [==============================] - 0s 12ms/step - loss: 12.4255 - mae: 12.4255\n",
            "Epoch 4/100\n",
            "1/1 [==============================] - 0s 9ms/step - loss: 11.9416 - mae: 11.9416\n",
            "Epoch 5/100\n",
            "1/1 [==============================] - 0s 9ms/step - loss: 11.4138 - mae: 11.4138\n",
            "Epoch 6/100\n",
            "1/1 [==============================] - 0s 9ms/step - loss: 10.8141 - mae: 10.8141\n",
            "Epoch 7/100\n",
            "1/1 [==============================] - 0s 10ms/step - loss: 10.1067 - mae: 10.1067\n",
            "Epoch 8/100\n",
            "1/1 [==============================] - 0s 9ms/step - loss: 9.2414 - mae: 9.2414\n",
            "Epoch 9/100\n",
            "1/1 [==============================] - 0s 10ms/step - loss: 8.1310 - mae: 8.1310\n",
            "Epoch 10/100\n",
            "1/1 [==============================] - 0s 9ms/step - loss: 6.6533 - mae: 6.6533\n",
            "Epoch 11/100\n",
            "1/1 [==============================] - 0s 9ms/step - loss: 4.6410 - mae: 4.6410\n",
            "Epoch 12/100\n",
            "1/1 [==============================] - 0s 10ms/step - loss: 4.2067 - mae: 4.2067\n",
            "Epoch 13/100\n",
            "1/1 [==============================] - 0s 12ms/step - loss: 3.9846 - mae: 3.9846\n",
            "Epoch 14/100\n",
            "1/1 [==============================] - 0s 14ms/step - loss: 3.9316 - mae: 3.9316\n",
            "Epoch 15/100\n",
            "1/1 [==============================] - 0s 11ms/step - loss: 4.0003 - mae: 4.0003\n",
            "Epoch 16/100\n",
            "1/1 [==============================] - 0s 12ms/step - loss: 3.8817 - mae: 3.8817\n",
            "Epoch 17/100\n",
            "1/1 [==============================] - 0s 9ms/step - loss: 4.0459 - mae: 4.0459\n",
            "Epoch 18/100\n",
            "1/1 [==============================] - 0s 10ms/step - loss: 3.8400 - mae: 3.8400\n",
            "Epoch 19/100\n",
            "1/1 [==============================] - 0s 10ms/step - loss: 4.0218 - mae: 4.0218\n",
            "Epoch 20/100\n",
            "1/1 [==============================] - 0s 9ms/step - loss: 3.8555 - mae: 3.8555\n",
            "Epoch 21/100\n",
            "1/1 [==============================] - 0s 9ms/step - loss: 3.9704 - mae: 3.9704\n",
            "Epoch 22/100\n",
            "1/1 [==============================] - 0s 10ms/step - loss: 3.8727 - mae: 3.8727\n",
            "Epoch 23/100\n",
            "1/1 [==============================] - 0s 9ms/step - loss: 3.9167 - mae: 3.9167\n",
            "Epoch 24/100\n",
            "1/1 [==============================] - 0s 10ms/step - loss: 3.8910 - mae: 3.8910\n",
            "Epoch 25/100\n",
            "1/1 [==============================] - 0s 10ms/step - loss: 3.8635 - mae: 3.8635\n",
            "Epoch 26/100\n",
            "1/1 [==============================] - 0s 12ms/step - loss: 3.9393 - mae: 3.9393\n",
            "Epoch 27/100\n",
            "1/1 [==============================] - 0s 13ms/step - loss: 3.7905 - mae: 3.7905\n",
            "Epoch 28/100\n",
            "1/1 [==============================] - 0s 14ms/step - loss: 3.9588 - mae: 3.9588\n",
            "Epoch 29/100\n",
            "1/1 [==============================] - 0s 12ms/step - loss: 3.7587 - mae: 3.7587\n",
            "Epoch 30/100\n",
            "1/1 [==============================] - 0s 12ms/step - loss: 3.9403 - mae: 3.9403\n",
            "Epoch 31/100\n",
            "1/1 [==============================] - 0s 12ms/step - loss: 3.7782 - mae: 3.7782\n",
            "Epoch 32/100\n",
            "1/1 [==============================] - 0s 12ms/step - loss: 3.8836 - mae: 3.8836\n",
            "Epoch 33/100\n",
            "1/1 [==============================] - 0s 12ms/step - loss: 3.7986 - mae: 3.7986\n",
            "Epoch 34/100\n",
            "1/1 [==============================] - 0s 11ms/step - loss: 3.8247 - mae: 3.8247\n",
            "Epoch 35/100\n",
            "1/1 [==============================] - 0s 11ms/step - loss: 3.8195 - mae: 3.8195\n",
            "Epoch 36/100\n",
            "1/1 [==============================] - 0s 15ms/step - loss: 3.7732 - mae: 3.7732\n",
            "Epoch 37/100\n",
            "1/1 [==============================] - 0s 12ms/step - loss: 3.8709 - mae: 3.8709\n",
            "Epoch 38/100\n",
            "1/1 [==============================] - 0s 12ms/step - loss: 3.6862 - mae: 3.6862\n",
            "Epoch 39/100\n",
            "1/1 [==============================] - 0s 11ms/step - loss: 3.8940 - mae: 3.8940\n",
            "Epoch 40/100\n",
            "1/1 [==============================] - 0s 11ms/step - loss: 3.6970 - mae: 3.6970\n",
            "Epoch 41/100\n",
            "1/1 [==============================] - 0s 12ms/step - loss: 3.8295 - mae: 3.8295\n",
            "Epoch 42/100\n",
            "1/1 [==============================] - 0s 15ms/step - loss: 3.7218 - mae: 3.7218\n",
            "Epoch 43/100\n",
            "1/1 [==============================] - 0s 12ms/step - loss: 3.7670 - mae: 3.7670\n",
            "Epoch 44/100\n",
            "1/1 [==============================] - 0s 9ms/step - loss: 3.7468 - mae: 3.7468\n",
            "Epoch 45/100\n",
            "1/1 [==============================] - 0s 14ms/step - loss: 3.7021 - mae: 3.7021\n",
            "Epoch 46/100\n",
            "1/1 [==============================] - 0s 14ms/step - loss: 3.7723 - mae: 3.7723\n",
            "Epoch 47/100\n",
            "1/1 [==============================] - 0s 12ms/step - loss: 3.6445 - mae: 3.6445\n",
            "Epoch 48/100\n",
            "1/1 [==============================] - 0s 12ms/step - loss: 3.8282 - mae: 3.8282\n",
            "Epoch 49/100\n",
            "1/1 [==============================] - 0s 11ms/step - loss: 3.6344 - mae: 3.6344\n",
            "Epoch 50/100\n",
            "1/1 [==============================] - 0s 13ms/step - loss: 3.7595 - mae: 3.7595\n",
            "Epoch 51/100\n",
            "1/1 [==============================] - 0s 10ms/step - loss: 3.6596 - mae: 3.6596\n",
            "Epoch 52/100\n",
            "1/1 [==============================] - 0s 12ms/step - loss: 3.6923 - mae: 3.6923\n",
            "Epoch 53/100\n",
            "1/1 [==============================] - 0s 12ms/step - loss: 3.6866 - mae: 3.6866\n",
            "Epoch 54/100\n",
            "1/1 [==============================] - 0s 11ms/step - loss: 3.6223 - mae: 3.6223\n",
            "Epoch 55/100\n",
            "1/1 [==============================] - 0s 14ms/step - loss: 3.7147 - mae: 3.7147\n",
            "Epoch 56/100\n",
            "1/1 [==============================] - 0s 12ms/step - loss: 3.5506 - mae: 3.5506\n",
            "Epoch 57/100\n",
            "1/1 [==============================] - 0s 11ms/step - loss: 3.7448 - mae: 3.7448\n",
            "Epoch 58/100\n",
            "1/1 [==============================] - 0s 10ms/step - loss: 3.5619 - mae: 3.5619\n",
            "Epoch 59/100\n",
            "1/1 [==============================] - 0s 12ms/step - loss: 3.6662 - mae: 3.6662\n",
            "Epoch 60/100\n",
            "1/1 [==============================] - 0s 14ms/step - loss: 3.6122 - mae: 3.6122\n",
            "Epoch 61/100\n",
            "1/1 [==============================] - 0s 12ms/step - loss: 3.5918 - mae: 3.5918\n",
            "Epoch 62/100\n",
            "1/1 [==============================] - 0s 11ms/step - loss: 3.6402 - mae: 3.6402\n",
            "Epoch 63/100\n",
            "1/1 [==============================] - 0s 12ms/step - loss: 3.5158 - mae: 3.5158\n",
            "Epoch 64/100\n",
            "1/1 [==============================] - 0s 12ms/step - loss: 3.6728 - mae: 3.6728\n",
            "Epoch 65/100\n",
            "1/1 [==============================] - 0s 15ms/step - loss: 3.4893 - mae: 3.4893\n",
            "Epoch 66/100\n",
            "1/1 [==============================] - 0s 10ms/step - loss: 3.6410 - mae: 3.6410\n",
            "Epoch 67/100\n",
            "1/1 [==============================] - 0s 14ms/step - loss: 3.5473 - mae: 3.5473\n",
            "Epoch 68/100\n",
            "1/1 [==============================] - 0s 12ms/step - loss: 3.5495 - mae: 3.5495\n",
            "Epoch 69/100\n",
            "1/1 [==============================] - 0s 12ms/step - loss: 3.5782 - mae: 3.5782\n",
            "Epoch 70/100\n",
            "1/1 [==============================] - 0s 12ms/step - loss: 3.4698 - mae: 3.4698\n",
            "Epoch 71/100\n",
            "1/1 [==============================] - 0s 13ms/step - loss: 3.6108 - mae: 3.6108\n",
            "Epoch 72/100\n",
            "1/1 [==============================] - 0s 11ms/step - loss: 3.4309 - mae: 3.4309\n",
            "Epoch 73/100\n",
            "1/1 [==============================] - 0s 11ms/step - loss: 3.5895 - mae: 3.5895\n",
            "Epoch 74/100\n",
            "1/1 [==============================] - 0s 12ms/step - loss: 3.4630 - mae: 3.4630\n",
            "Epoch 75/100\n",
            "1/1 [==============================] - 0s 13ms/step - loss: 3.5079 - mae: 3.5079\n",
            "Epoch 76/100\n",
            "1/1 [==============================] - 0s 14ms/step - loss: 3.4964 - mae: 3.4964\n",
            "Epoch 77/100\n",
            "1/1 [==============================] - 0s 13ms/step - loss: 3.4242 - mae: 3.4242\n",
            "Epoch 78/100\n",
            "1/1 [==============================] - 0s 13ms/step - loss: 3.5307 - mae: 3.5307\n",
            "Epoch 79/100\n",
            "1/1 [==============================] - 0s 12ms/step - loss: 3.3547 - mae: 3.3547\n",
            "Epoch 80/100\n",
            "1/1 [==============================] - 0s 13ms/step - loss: 3.5557 - mae: 3.5557\n",
            "Epoch 81/100\n",
            "1/1 [==============================] - 0s 13ms/step - loss: 3.4143 - mae: 3.4143\n",
            "Epoch 82/100\n",
            "1/1 [==============================] - 0s 11ms/step - loss: 3.4329 - mae: 3.4329\n",
            "Epoch 83/100\n",
            "1/1 [==============================] - 0s 12ms/step - loss: 3.4471 - mae: 3.4471\n",
            "Epoch 84/100\n",
            "1/1 [==============================] - 0s 11ms/step - loss: 3.3434 - mae: 3.3434\n",
            "Epoch 85/100\n",
            "1/1 [==============================] - 0s 12ms/step - loss: 3.4833 - mae: 3.4833\n",
            "Epoch 86/100\n",
            "1/1 [==============================] - 0s 11ms/step - loss: 3.3088 - mae: 3.3088\n",
            "Epoch 87/100\n",
            "1/1 [==============================] - 0s 14ms/step - loss: 3.4511 - mae: 3.4511\n",
            "Epoch 88/100\n",
            "1/1 [==============================] - 0s 10ms/step - loss: 3.3437 - mae: 3.3437\n",
            "Epoch 89/100\n",
            "1/1 [==============================] - 0s 14ms/step - loss: 3.3605 - mae: 3.3605\n",
            "Epoch 90/100\n",
            "1/1 [==============================] - 0s 16ms/step - loss: 3.3798 - mae: 3.3798\n",
            "Epoch 91/100\n",
            "1/1 [==============================] - 0s 8ms/step - loss: 3.2694 - mae: 3.2694\n",
            "Epoch 92/100\n",
            "1/1 [==============================] - 0s 11ms/step - loss: 3.4451 - mae: 3.4451\n",
            "Epoch 93/100\n",
            "1/1 [==============================] - 0s 9ms/step - loss: 3.2697 - mae: 3.2697\n",
            "Epoch 94/100\n",
            "1/1 [==============================] - 0s 9ms/step - loss: 3.3558 - mae: 3.3558\n",
            "Epoch 95/100\n",
            "1/1 [==============================] - 0s 12ms/step - loss: 3.3064 - mae: 3.3064\n",
            "Epoch 96/100\n",
            "1/1 [==============================] - 0s 10ms/step - loss: 3.2590 - mae: 3.2590\n",
            "Epoch 97/100\n",
            "1/1 [==============================] - 0s 14ms/step - loss: 3.3459 - mae: 3.3459\n",
            "Epoch 98/100\n",
            "1/1 [==============================] - 0s 12ms/step - loss: 3.1784 - mae: 3.1784\n",
            "Epoch 99/100\n",
            "1/1 [==============================] - 0s 10ms/step - loss: 3.3534 - mae: 3.3534\n",
            "Epoch 100/100\n",
            "1/1 [==============================] - 0s 13ms/step - loss: 3.2160 - mae: 3.2160\n"
          ]
        },
        {
          "output_type": "execute_result",
          "data": {
            "text/plain": [
              "<keras.src.callbacks.History at 0x7e843c32e5f0>"
            ]
          },
          "metadata": {},
          "execution_count": 13
        }
      ]
    },
    {
      "cell_type": "code",
      "source": [
        "model.predict([17.0])"
      ],
      "metadata": {
        "colab": {
          "base_uri": "https://localhost:8080/"
        },
        "id": "OeSJ1ESACV5S",
        "outputId": "911d03b7-2d77-40b0-a482-2b6b3338e730"
      },
      "execution_count": 14,
      "outputs": [
        {
          "output_type": "stream",
          "name": "stdout",
          "text": [
            "1/1 [==============================] - 0s 155ms/step\n"
          ]
        },
        {
          "output_type": "execute_result",
          "data": {
            "text/plain": [
              "array([[29.933788]], dtype=float32)"
            ]
          },
          "metadata": {},
          "execution_count": 14
        }
      ]
    },
    {
      "cell_type": "code",
      "source": [
        "model = tf.keras.Sequential([\n",
        "     tf.keras.layers.Dense(100, activation = 'relu'),\n",
        "     tf.keras.layers.Dense(100, activation = 'relu'),\n",
        "     tf.keras.layers.Dense(100, activation = 'relu'),\n",
        "     tf.keras.layers.Dense(1)\n",
        " ])\n",
        "\n",
        "\n",
        "model.compile(loss= tf.keras.losses.mae,\n",
        "               optimizer = tf.keras.optimizers.Adam(learning_rate= 0.0001),\n",
        "               metrics=[\"mae\"])\n",
        "\n",
        "model.fit(tf.expand_dims(X, axis = -1), y, epochs=100)"
      ],
      "metadata": {
        "colab": {
          "base_uri": "https://localhost:8080/"
        },
        "id": "dL1kSFQ0CiZn",
        "outputId": "cea8cdc3-d1b3-41b1-b504-f600a80508ae"
      },
      "execution_count": 15,
      "outputs": [
        {
          "output_type": "stream",
          "name": "stdout",
          "text": [
            "Epoch 1/100\n",
            "1/1 [==============================] - 1s 848ms/step - loss: 13.8624 - mae: 13.8624\n",
            "Epoch 2/100\n",
            "1/1 [==============================] - 0s 10ms/step - loss: 13.8298 - mae: 13.8298\n",
            "Epoch 3/100\n",
            "1/1 [==============================] - 0s 10ms/step - loss: 13.7977 - mae: 13.7977\n",
            "Epoch 4/100\n",
            "1/1 [==============================] - 0s 11ms/step - loss: 13.7659 - mae: 13.7659\n",
            "Epoch 5/100\n",
            "1/1 [==============================] - 0s 9ms/step - loss: 13.7341 - mae: 13.7341\n",
            "Epoch 6/100\n",
            "1/1 [==============================] - 0s 9ms/step - loss: 13.7031 - mae: 13.7031\n",
            "Epoch 7/100\n",
            "1/1 [==============================] - 0s 10ms/step - loss: 13.6731 - mae: 13.6731\n",
            "Epoch 8/100\n",
            "1/1 [==============================] - 0s 10ms/step - loss: 13.6435 - mae: 13.6435\n",
            "Epoch 9/100\n",
            "1/1 [==============================] - 0s 8ms/step - loss: 13.6140 - mae: 13.6140\n",
            "Epoch 10/100\n",
            "1/1 [==============================] - 0s 9ms/step - loss: 13.5845 - mae: 13.5845\n",
            "Epoch 11/100\n",
            "1/1 [==============================] - 0s 8ms/step - loss: 13.5550 - mae: 13.5550\n",
            "Epoch 12/100\n",
            "1/1 [==============================] - 0s 13ms/step - loss: 13.5258 - mae: 13.5258\n",
            "Epoch 13/100\n",
            "1/1 [==============================] - 0s 8ms/step - loss: 13.4974 - mae: 13.4974\n",
            "Epoch 14/100\n",
            "1/1 [==============================] - 0s 10ms/step - loss: 13.4692 - mae: 13.4692\n",
            "Epoch 15/100\n",
            "1/1 [==============================] - 0s 8ms/step - loss: 13.4410 - mae: 13.4410\n",
            "Epoch 16/100\n",
            "1/1 [==============================] - 0s 9ms/step - loss: 13.4127 - mae: 13.4127\n",
            "Epoch 17/100\n",
            "1/1 [==============================] - 0s 11ms/step - loss: 13.3846 - mae: 13.3846\n",
            "Epoch 18/100\n",
            "1/1 [==============================] - 0s 9ms/step - loss: 13.3565 - mae: 13.3565\n",
            "Epoch 19/100\n",
            "1/1 [==============================] - 0s 8ms/step - loss: 13.3289 - mae: 13.3289\n",
            "Epoch 20/100\n",
            "1/1 [==============================] - 0s 10ms/step - loss: 13.3012 - mae: 13.3012\n",
            "Epoch 21/100\n",
            "1/1 [==============================] - 0s 12ms/step - loss: 13.2733 - mae: 13.2733\n",
            "Epoch 22/100\n",
            "1/1 [==============================] - 0s 11ms/step - loss: 13.2454 - mae: 13.2454\n",
            "Epoch 23/100\n",
            "1/1 [==============================] - 0s 9ms/step - loss: 13.2185 - mae: 13.2185\n",
            "Epoch 24/100\n",
            "1/1 [==============================] - 0s 9ms/step - loss: 13.1923 - mae: 13.1923\n",
            "Epoch 25/100\n",
            "1/1 [==============================] - 0s 11ms/step - loss: 13.1656 - mae: 13.1656\n",
            "Epoch 26/100\n",
            "1/1 [==============================] - 0s 10ms/step - loss: 13.1388 - mae: 13.1388\n",
            "Epoch 27/100\n",
            "1/1 [==============================] - 0s 11ms/step - loss: 13.1118 - mae: 13.1118\n",
            "Epoch 28/100\n",
            "1/1 [==============================] - 0s 10ms/step - loss: 13.0847 - mae: 13.0847\n",
            "Epoch 29/100\n",
            "1/1 [==============================] - 0s 8ms/step - loss: 13.0575 - mae: 13.0575\n",
            "Epoch 30/100\n",
            "1/1 [==============================] - 0s 10ms/step - loss: 13.0303 - mae: 13.0303\n",
            "Epoch 31/100\n",
            "1/1 [==============================] - 0s 11ms/step - loss: 13.0031 - mae: 13.0031\n",
            "Epoch 32/100\n",
            "1/1 [==============================] - 0s 10ms/step - loss: 12.9756 - mae: 12.9756\n",
            "Epoch 33/100\n",
            "1/1 [==============================] - 0s 11ms/step - loss: 12.9479 - mae: 12.9479\n",
            "Epoch 34/100\n",
            "1/1 [==============================] - 0s 9ms/step - loss: 12.9199 - mae: 12.9199\n",
            "Epoch 35/100\n",
            "1/1 [==============================] - 0s 9ms/step - loss: 12.8920 - mae: 12.8920\n",
            "Epoch 36/100\n",
            "1/1 [==============================] - 0s 10ms/step - loss: 12.8640 - mae: 12.8640\n",
            "Epoch 37/100\n",
            "1/1 [==============================] - 0s 10ms/step - loss: 12.8361 - mae: 12.8361\n",
            "Epoch 38/100\n",
            "1/1 [==============================] - 0s 9ms/step - loss: 12.8083 - mae: 12.8083\n",
            "Epoch 39/100\n",
            "1/1 [==============================] - 0s 13ms/step - loss: 12.7803 - mae: 12.7803\n",
            "Epoch 40/100\n",
            "1/1 [==============================] - 0s 11ms/step - loss: 12.7521 - mae: 12.7521\n",
            "Epoch 41/100\n",
            "1/1 [==============================] - 0s 8ms/step - loss: 12.7240 - mae: 12.7240\n",
            "Epoch 42/100\n",
            "1/1 [==============================] - 0s 8ms/step - loss: 12.6961 - mae: 12.6961\n",
            "Epoch 43/100\n",
            "1/1 [==============================] - 0s 10ms/step - loss: 12.6680 - mae: 12.6680\n",
            "Epoch 44/100\n",
            "1/1 [==============================] - 0s 10ms/step - loss: 12.6397 - mae: 12.6397\n",
            "Epoch 45/100\n",
            "1/1 [==============================] - 0s 10ms/step - loss: 12.6111 - mae: 12.6111\n",
            "Epoch 46/100\n",
            "1/1 [==============================] - 0s 11ms/step - loss: 12.5824 - mae: 12.5824\n",
            "Epoch 47/100\n",
            "1/1 [==============================] - 0s 10ms/step - loss: 12.5536 - mae: 12.5536\n",
            "Epoch 48/100\n",
            "1/1 [==============================] - 0s 10ms/step - loss: 12.5246 - mae: 12.5246\n",
            "Epoch 49/100\n",
            "1/1 [==============================] - 0s 10ms/step - loss: 12.4954 - mae: 12.4954\n",
            "Epoch 50/100\n",
            "1/1 [==============================] - 0s 10ms/step - loss: 12.4660 - mae: 12.4660\n",
            "Epoch 51/100\n",
            "1/1 [==============================] - 0s 10ms/step - loss: 12.4368 - mae: 12.4368\n",
            "Epoch 52/100\n",
            "1/1 [==============================] - 0s 9ms/step - loss: 12.4075 - mae: 12.4075\n",
            "Epoch 53/100\n",
            "1/1 [==============================] - 0s 9ms/step - loss: 12.3778 - mae: 12.3778\n",
            "Epoch 54/100\n",
            "1/1 [==============================] - 0s 11ms/step - loss: 12.3479 - mae: 12.3479\n",
            "Epoch 55/100\n",
            "1/1 [==============================] - 0s 10ms/step - loss: 12.3178 - mae: 12.3178\n",
            "Epoch 56/100\n",
            "1/1 [==============================] - 0s 10ms/step - loss: 12.2876 - mae: 12.2876\n",
            "Epoch 57/100\n",
            "1/1 [==============================] - 0s 11ms/step - loss: 12.2574 - mae: 12.2574\n",
            "Epoch 58/100\n",
            "1/1 [==============================] - 0s 10ms/step - loss: 12.2271 - mae: 12.2271\n",
            "Epoch 59/100\n",
            "1/1 [==============================] - 0s 10ms/step - loss: 12.1965 - mae: 12.1965\n",
            "Epoch 60/100\n",
            "1/1 [==============================] - 0s 9ms/step - loss: 12.1654 - mae: 12.1654\n",
            "Epoch 61/100\n",
            "1/1 [==============================] - 0s 9ms/step - loss: 12.1340 - mae: 12.1340\n",
            "Epoch 62/100\n",
            "1/1 [==============================] - 0s 9ms/step - loss: 12.1021 - mae: 12.1021\n",
            "Epoch 63/100\n",
            "1/1 [==============================] - 0s 8ms/step - loss: 12.0687 - mae: 12.0687\n",
            "Epoch 64/100\n",
            "1/1 [==============================] - 0s 9ms/step - loss: 12.0348 - mae: 12.0348\n",
            "Epoch 65/100\n",
            "1/1 [==============================] - 0s 9ms/step - loss: 12.0007 - mae: 12.0007\n",
            "Epoch 66/100\n",
            "1/1 [==============================] - 0s 10ms/step - loss: 11.9661 - mae: 11.9661\n",
            "Epoch 67/100\n",
            "1/1 [==============================] - 0s 9ms/step - loss: 11.9312 - mae: 11.9312\n",
            "Epoch 68/100\n",
            "1/1 [==============================] - 0s 10ms/step - loss: 11.8957 - mae: 11.8957\n",
            "Epoch 69/100\n",
            "1/1 [==============================] - 0s 9ms/step - loss: 11.8599 - mae: 11.8599\n",
            "Epoch 70/100\n",
            "1/1 [==============================] - 0s 10ms/step - loss: 11.8238 - mae: 11.8238\n",
            "Epoch 71/100\n",
            "1/1 [==============================] - 0s 11ms/step - loss: 11.7873 - mae: 11.7873\n",
            "Epoch 72/100\n",
            "1/1 [==============================] - 0s 10ms/step - loss: 11.7507 - mae: 11.7507\n",
            "Epoch 73/100\n",
            "1/1 [==============================] - 0s 15ms/step - loss: 11.7142 - mae: 11.7142\n",
            "Epoch 74/100\n",
            "1/1 [==============================] - 0s 11ms/step - loss: 11.6774 - mae: 11.6774\n",
            "Epoch 75/100\n",
            "1/1 [==============================] - 0s 11ms/step - loss: 11.6402 - mae: 11.6402\n",
            "Epoch 76/100\n",
            "1/1 [==============================] - 0s 12ms/step - loss: 11.6025 - mae: 11.6025\n",
            "Epoch 77/100\n",
            "1/1 [==============================] - 0s 12ms/step - loss: 11.5642 - mae: 11.5642\n",
            "Epoch 78/100\n",
            "1/1 [==============================] - 0s 9ms/step - loss: 11.5248 - mae: 11.5248\n",
            "Epoch 79/100\n",
            "1/1 [==============================] - 0s 10ms/step - loss: 11.4850 - mae: 11.4850\n",
            "Epoch 80/100\n",
            "1/1 [==============================] - 0s 9ms/step - loss: 11.4448 - mae: 11.4448\n",
            "Epoch 81/100\n",
            "1/1 [==============================] - 0s 12ms/step - loss: 11.4041 - mae: 11.4041\n",
            "Epoch 82/100\n",
            "1/1 [==============================] - 0s 10ms/step - loss: 11.3631 - mae: 11.3631\n",
            "Epoch 83/100\n",
            "1/1 [==============================] - 0s 10ms/step - loss: 11.3276 - mae: 11.3276\n",
            "Epoch 84/100\n",
            "1/1 [==============================] - 0s 12ms/step - loss: 11.2965 - mae: 11.2965\n",
            "Epoch 85/100\n",
            "1/1 [==============================] - 0s 9ms/step - loss: 11.2645 - mae: 11.2645\n",
            "Epoch 86/100\n",
            "1/1 [==============================] - 0s 9ms/step - loss: 11.2320 - mae: 11.2320\n",
            "Epoch 87/100\n",
            "1/1 [==============================] - 0s 10ms/step - loss: 11.1989 - mae: 11.1989\n",
            "Epoch 88/100\n",
            "1/1 [==============================] - 0s 10ms/step - loss: 11.1654 - mae: 11.1654\n",
            "Epoch 89/100\n",
            "1/1 [==============================] - 0s 10ms/step - loss: 11.1315 - mae: 11.1315\n",
            "Epoch 90/100\n",
            "1/1 [==============================] - 0s 10ms/step - loss: 11.0972 - mae: 11.0972\n",
            "Epoch 91/100\n",
            "1/1 [==============================] - 0s 10ms/step - loss: 11.0625 - mae: 11.0625\n",
            "Epoch 92/100\n",
            "1/1 [==============================] - 0s 10ms/step - loss: 11.0272 - mae: 11.0272\n",
            "Epoch 93/100\n",
            "1/1 [==============================] - 0s 10ms/step - loss: 10.9915 - mae: 10.9915\n",
            "Epoch 94/100\n",
            "1/1 [==============================] - 0s 10ms/step - loss: 10.9554 - mae: 10.9554\n",
            "Epoch 95/100\n",
            "1/1 [==============================] - 0s 10ms/step - loss: 10.9189 - mae: 10.9189\n",
            "Epoch 96/100\n",
            "1/1 [==============================] - 0s 10ms/step - loss: 10.8821 - mae: 10.8821\n",
            "Epoch 97/100\n",
            "1/1 [==============================] - 0s 9ms/step - loss: 10.8449 - mae: 10.8449\n",
            "Epoch 98/100\n",
            "1/1 [==============================] - 0s 10ms/step - loss: 10.8069 - mae: 10.8069\n",
            "Epoch 99/100\n",
            "1/1 [==============================] - 0s 10ms/step - loss: 10.7679 - mae: 10.7679\n",
            "Epoch 100/100\n",
            "1/1 [==============================] - 0s 10ms/step - loss: 10.7283 - mae: 10.7283\n"
          ]
        },
        {
          "output_type": "execute_result",
          "data": {
            "text/plain": [
              "<keras.src.callbacks.History at 0x7e843c2843d0>"
            ]
          },
          "metadata": {},
          "execution_count": 15
        }
      ]
    },
    {
      "cell_type": "code",
      "source": [
        "model.predict([17.0])"
      ],
      "metadata": {
        "colab": {
          "base_uri": "https://localhost:8080/"
        },
        "id": "WiDiAXd2DAp5",
        "outputId": "994d14b0-02cd-4025-9008-6632a2fcc043"
      },
      "execution_count": 16,
      "outputs": [
        {
          "output_type": "stream",
          "name": "stdout",
          "text": [
            "1/1 [==============================] - 0s 79ms/step\n"
          ]
        },
        {
          "output_type": "execute_result",
          "data": {
            "text/plain": [
              "array([[7.2024426]], dtype=float32)"
            ]
          },
          "metadata": {},
          "execution_count": 16
        }
      ]
    },
    {
      "cell_type": "code",
      "source": [
        "model = tf.keras.Sequential([\n",
        "     tf.keras.layers.Dense(50, activation = None),\n",
        "     tf.keras.layers.Dense(1)\n",
        " ])\n",
        "\n",
        "\n",
        "model.compile(loss= tf.keras.losses.mae,\n",
        "               optimizer = tf.keras.optimizers.Adam(learning_rate= 0.01),\n",
        "               metrics=[\"mae\"])\n",
        "\n",
        "model.fit(tf.expand_dims(X, axis = -1), y, epochs=100)"
      ],
      "metadata": {
        "colab": {
          "base_uri": "https://localhost:8080/"
        },
        "id": "TeotYLnsDJv2",
        "outputId": "bb629e09-6ecf-4d45-d9d8-ee0e2bbe1e13"
      },
      "execution_count": 53,
      "outputs": [
        {
          "output_type": "stream",
          "name": "stdout",
          "text": [
            "Epoch 1/100\n",
            "2/2 [==============================] - 1s 11ms/step - loss: 27.3750 - mae: 27.3750\n",
            "Epoch 2/100\n",
            "2/2 [==============================] - 0s 8ms/step - loss: 12.4612 - mae: 12.4612\n",
            "Epoch 3/100\n",
            "2/2 [==============================] - 0s 7ms/step - loss: 10.2235 - mae: 10.2235\n",
            "Epoch 4/100\n",
            "2/2 [==============================] - 0s 6ms/step - loss: 12.5619 - mae: 12.5619\n",
            "Epoch 5/100\n",
            "2/2 [==============================] - 0s 6ms/step - loss: 10.0615 - mae: 10.0615\n",
            "Epoch 6/100\n",
            "2/2 [==============================] - 0s 8ms/step - loss: 9.2891 - mae: 9.2891\n",
            "Epoch 7/100\n",
            "2/2 [==============================] - 0s 8ms/step - loss: 9.2202 - mae: 9.2202\n",
            "Epoch 8/100\n",
            "2/2 [==============================] - 0s 7ms/step - loss: 10.4993 - mae: 10.4993\n",
            "Epoch 9/100\n",
            "2/2 [==============================] - 0s 8ms/step - loss: 9.3409 - mae: 9.3409\n",
            "Epoch 10/100\n",
            "2/2 [==============================] - 0s 7ms/step - loss: 8.1980 - mae: 8.1980\n",
            "Epoch 11/100\n",
            "2/2 [==============================] - 0s 7ms/step - loss: 8.1589 - mae: 8.1589\n",
            "Epoch 12/100\n",
            "2/2 [==============================] - 0s 7ms/step - loss: 8.2307 - mae: 8.2307\n",
            "Epoch 13/100\n",
            "2/2 [==============================] - 0s 7ms/step - loss: 8.1919 - mae: 8.1919\n",
            "Epoch 14/100\n",
            "2/2 [==============================] - 0s 7ms/step - loss: 7.5589 - mae: 7.5589\n",
            "Epoch 15/100\n",
            "2/2 [==============================] - 0s 8ms/step - loss: 7.2929 - mae: 7.2929\n",
            "Epoch 16/100\n",
            "2/2 [==============================] - 0s 8ms/step - loss: 7.2642 - mae: 7.2642\n",
            "Epoch 17/100\n",
            "2/2 [==============================] - 0s 8ms/step - loss: 7.2733 - mae: 7.2733\n",
            "Epoch 18/100\n",
            "2/2 [==============================] - 0s 7ms/step - loss: 6.8407 - mae: 6.8407\n",
            "Epoch 19/100\n",
            "2/2 [==============================] - 0s 9ms/step - loss: 6.5818 - mae: 6.5818\n",
            "Epoch 20/100\n",
            "2/2 [==============================] - 0s 8ms/step - loss: 6.4388 - mae: 6.4388\n",
            "Epoch 21/100\n",
            "2/2 [==============================] - 0s 8ms/step - loss: 6.1875 - mae: 6.1875\n",
            "Epoch 22/100\n",
            "2/2 [==============================] - 0s 8ms/step - loss: 5.7842 - mae: 5.7842\n",
            "Epoch 23/100\n",
            "2/2 [==============================] - 0s 7ms/step - loss: 5.5531 - mae: 5.5531\n",
            "Epoch 24/100\n",
            "2/2 [==============================] - 0s 8ms/step - loss: 5.2228 - mae: 5.2228\n",
            "Epoch 25/100\n",
            "2/2 [==============================] - 0s 8ms/step - loss: 4.9814 - mae: 4.9814\n",
            "Epoch 26/100\n",
            "2/2 [==============================] - 0s 7ms/step - loss: 4.6341 - mae: 4.6341\n",
            "Epoch 27/100\n",
            "2/2 [==============================] - 0s 7ms/step - loss: 4.3073 - mae: 4.3073\n",
            "Epoch 28/100\n",
            "2/2 [==============================] - 0s 7ms/step - loss: 3.9643 - mae: 3.9643\n",
            "Epoch 29/100\n",
            "2/2 [==============================] - 0s 7ms/step - loss: 3.6422 - mae: 3.6422\n",
            "Epoch 30/100\n",
            "2/2 [==============================] - 0s 9ms/step - loss: 3.2486 - mae: 3.2486\n",
            "Epoch 31/100\n",
            "2/2 [==============================] - 0s 7ms/step - loss: 3.0845 - mae: 3.0845\n",
            "Epoch 32/100\n",
            "2/2 [==============================] - 0s 10ms/step - loss: 2.4696 - mae: 2.4696\n",
            "Epoch 33/100\n",
            "2/2 [==============================] - 0s 9ms/step - loss: 1.9755 - mae: 1.9755\n",
            "Epoch 34/100\n",
            "2/2 [==============================] - 0s 8ms/step - loss: 1.9360 - mae: 1.9360\n",
            "Epoch 35/100\n",
            "2/2 [==============================] - 0s 10ms/step - loss: 1.2057 - mae: 1.2057\n",
            "Epoch 36/100\n",
            "2/2 [==============================] - 0s 10ms/step - loss: 0.9072 - mae: 0.9072\n",
            "Epoch 37/100\n",
            "2/2 [==============================] - 0s 9ms/step - loss: 2.2668 - mae: 2.2668\n",
            "Epoch 38/100\n",
            "2/2 [==============================] - 0s 9ms/step - loss: 0.5139 - mae: 0.5139\n",
            "Epoch 39/100\n",
            "2/2 [==============================] - 0s 13ms/step - loss: 0.9409 - mae: 0.9409\n",
            "Epoch 40/100\n",
            "2/2 [==============================] - 0s 12ms/step - loss: 0.5883 - mae: 0.5883\n",
            "Epoch 41/100\n",
            "2/2 [==============================] - 0s 7ms/step - loss: 0.6982 - mae: 0.6982\n",
            "Epoch 42/100\n",
            "2/2 [==============================] - 0s 10ms/step - loss: 0.3981 - mae: 0.3981\n",
            "Epoch 43/100\n",
            "2/2 [==============================] - 0s 8ms/step - loss: 0.7337 - mae: 0.7337\n",
            "Epoch 44/100\n",
            "2/2 [==============================] - 0s 7ms/step - loss: 1.1458 - mae: 1.1458\n",
            "Epoch 45/100\n",
            "2/2 [==============================] - 0s 10ms/step - loss: 1.1560 - mae: 1.1560\n",
            "Epoch 46/100\n",
            "2/2 [==============================] - 0s 9ms/step - loss: 0.7538 - mae: 0.7538\n",
            "Epoch 47/100\n",
            "2/2 [==============================] - 0s 12ms/step - loss: 0.4057 - mae: 0.4057\n",
            "Epoch 48/100\n",
            "2/2 [==============================] - 0s 13ms/step - loss: 0.4628 - mae: 0.4628\n",
            "Epoch 49/100\n",
            "2/2 [==============================] - 0s 10ms/step - loss: 0.6665 - mae: 0.6665\n",
            "Epoch 50/100\n",
            "2/2 [==============================] - 0s 8ms/step - loss: 2.4932 - mae: 2.4932\n",
            "Epoch 51/100\n",
            "2/2 [==============================] - 0s 7ms/step - loss: 1.3812 - mae: 1.3812\n",
            "Epoch 52/100\n",
            "2/2 [==============================] - 0s 7ms/step - loss: 0.9936 - mae: 0.9936\n",
            "Epoch 53/100\n",
            "2/2 [==============================] - 0s 8ms/step - loss: 0.7276 - mae: 0.7276\n",
            "Epoch 54/100\n",
            "2/2 [==============================] - 0s 9ms/step - loss: 1.0692 - mae: 1.0692\n",
            "Epoch 55/100\n",
            "2/2 [==============================] - 0s 9ms/step - loss: 0.9721 - mae: 0.9721\n",
            "Epoch 56/100\n",
            "2/2 [==============================] - 0s 8ms/step - loss: 3.0157 - mae: 3.0157\n",
            "Epoch 57/100\n",
            "2/2 [==============================] - 0s 10ms/step - loss: 1.9405 - mae: 1.9405\n",
            "Epoch 58/100\n",
            "2/2 [==============================] - 0s 11ms/step - loss: 3.8380 - mae: 3.8380\n",
            "Epoch 59/100\n",
            "2/2 [==============================] - 0s 18ms/step - loss: 4.3560 - mae: 4.3560\n",
            "Epoch 60/100\n",
            "2/2 [==============================] - 0s 14ms/step - loss: 1.7081 - mae: 1.7081\n",
            "Epoch 61/100\n",
            "2/2 [==============================] - 0s 11ms/step - loss: 5.3962 - mae: 5.3962\n",
            "Epoch 62/100\n",
            "2/2 [==============================] - 0s 8ms/step - loss: 3.1825 - mae: 3.1825\n",
            "Epoch 63/100\n",
            "2/2 [==============================] - 0s 8ms/step - loss: 2.9341 - mae: 2.9341\n",
            "Epoch 64/100\n",
            "2/2 [==============================] - 0s 9ms/step - loss: 4.2651 - mae: 4.2651\n",
            "Epoch 65/100\n",
            "2/2 [==============================] - 0s 7ms/step - loss: 1.6647 - mae: 1.6647\n",
            "Epoch 66/100\n",
            "2/2 [==============================] - 0s 7ms/step - loss: 4.4101 - mae: 4.4101\n",
            "Epoch 67/100\n",
            "2/2 [==============================] - 0s 8ms/step - loss: 3.1673 - mae: 3.1673\n",
            "Epoch 68/100\n",
            "2/2 [==============================] - 0s 7ms/step - loss: 2.0926 - mae: 2.0926\n",
            "Epoch 69/100\n",
            "2/2 [==============================] - 0s 9ms/step - loss: 2.4769 - mae: 2.4769\n",
            "Epoch 70/100\n",
            "2/2 [==============================] - 0s 10ms/step - loss: 1.1211 - mae: 1.1211\n",
            "Epoch 71/100\n",
            "2/2 [==============================] - 0s 9ms/step - loss: 0.9340 - mae: 0.9340\n",
            "Epoch 72/100\n",
            "2/2 [==============================] - 0s 7ms/step - loss: 1.5373 - mae: 1.5373\n",
            "Epoch 73/100\n",
            "2/2 [==============================] - 0s 7ms/step - loss: 0.8684 - mae: 0.8684\n",
            "Epoch 74/100\n",
            "2/2 [==============================] - 0s 7ms/step - loss: 3.2333 - mae: 3.2333\n",
            "Epoch 75/100\n",
            "2/2 [==============================] - 0s 7ms/step - loss: 1.3587 - mae: 1.3587\n",
            "Epoch 76/100\n",
            "2/2 [==============================] - 0s 7ms/step - loss: 2.0623 - mae: 2.0623\n",
            "Epoch 77/100\n",
            "2/2 [==============================] - 0s 7ms/step - loss: 1.0115 - mae: 1.0115\n",
            "Epoch 78/100\n",
            "2/2 [==============================] - 0s 7ms/step - loss: 3.1540 - mae: 3.1540\n",
            "Epoch 79/100\n",
            "2/2 [==============================] - 0s 7ms/step - loss: 1.2509 - mae: 1.2509\n",
            "Epoch 80/100\n",
            "2/2 [==============================] - 0s 7ms/step - loss: 1.4943 - mae: 1.4943\n",
            "Epoch 81/100\n",
            "2/2 [==============================] - 0s 11ms/step - loss: 0.4926 - mae: 0.4926\n",
            "Epoch 82/100\n",
            "2/2 [==============================] - 0s 10ms/step - loss: 0.2364 - mae: 0.2364\n",
            "Epoch 83/100\n",
            "2/2 [==============================] - 0s 7ms/step - loss: 0.3233 - mae: 0.3233\n",
            "Epoch 84/100\n",
            "2/2 [==============================] - 0s 8ms/step - loss: 0.6151 - mae: 0.6151\n",
            "Epoch 85/100\n",
            "2/2 [==============================] - 0s 7ms/step - loss: 1.4488 - mae: 1.4488\n",
            "Epoch 86/100\n",
            "2/2 [==============================] - 0s 10ms/step - loss: 1.3338 - mae: 1.3338\n",
            "Epoch 87/100\n",
            "2/2 [==============================] - 0s 7ms/step - loss: 0.9555 - mae: 0.9555\n",
            "Epoch 88/100\n",
            "2/2 [==============================] - 0s 8ms/step - loss: 1.0278 - mae: 1.0278\n",
            "Epoch 89/100\n",
            "2/2 [==============================] - 0s 7ms/step - loss: 1.2274 - mae: 1.2274\n",
            "Epoch 90/100\n",
            "2/2 [==============================] - 0s 6ms/step - loss: 0.8481 - mae: 0.8481\n",
            "Epoch 91/100\n",
            "2/2 [==============================] - 0s 7ms/step - loss: 2.1634 - mae: 2.1634\n",
            "Epoch 92/100\n",
            "2/2 [==============================] - 0s 9ms/step - loss: 0.9822 - mae: 0.9822\n",
            "Epoch 93/100\n",
            "2/2 [==============================] - 0s 11ms/step - loss: 3.0412 - mae: 3.0412\n",
            "Epoch 94/100\n",
            "2/2 [==============================] - 0s 8ms/step - loss: 1.2819 - mae: 1.2819\n",
            "Epoch 95/100\n",
            "2/2 [==============================] - 0s 9ms/step - loss: 1.3421 - mae: 1.3421\n",
            "Epoch 96/100\n",
            "2/2 [==============================] - 0s 8ms/step - loss: 0.2394 - mae: 0.2394\n",
            "Epoch 97/100\n",
            "2/2 [==============================] - 0s 7ms/step - loss: 0.6361 - mae: 0.6361\n",
            "Epoch 98/100\n",
            "2/2 [==============================] - 0s 7ms/step - loss: 0.7403 - mae: 0.7403\n",
            "Epoch 99/100\n",
            "2/2 [==============================] - 0s 6ms/step - loss: 0.2415 - mae: 0.2415\n",
            "Epoch 100/100\n",
            "2/2 [==============================] - 0s 7ms/step - loss: 1.0447 - mae: 1.0447\n"
          ]
        },
        {
          "output_type": "execute_result",
          "data": {
            "text/plain": [
              "<keras.src.callbacks.History at 0x7e843c4cd420>"
            ]
          },
          "metadata": {},
          "execution_count": 53
        }
      ]
    },
    {
      "cell_type": "code",
      "source": [
        "model.predict([17.0])"
      ],
      "metadata": {
        "id": "COql0qpoEmqw",
        "outputId": "85f049fc-8c3b-44e8-905e-21b5af7e1417",
        "colab": {
          "base_uri": "https://localhost:8080/"
        }
      },
      "execution_count": 54,
      "outputs": [
        {
          "output_type": "stream",
          "name": "stdout",
          "text": [
            "1/1 [==============================] - 0s 151ms/step\n"
          ]
        },
        {
          "output_type": "execute_result",
          "data": {
            "text/plain": [
              "array([[26.982191]], dtype=float32)"
            ]
          },
          "metadata": {},
          "execution_count": 54
        }
      ]
    },
    {
      "cell_type": "markdown",
      "source": [
        "## Evaluating a model"
      ],
      "metadata": {
        "id": "IHlhIUEREqLW"
      }
    },
    {
      "cell_type": "markdown",
      "source": [
        "```\n",
        "Build a model -> fit it -> evaluate it -> tweak a model -> fit it -> evaluate it.......\n",
        "```\n",
        "\n"
      ],
      "metadata": {
        "id": "RfxoGpII8nWU"
      }
    },
    {
      "cell_type": "markdown",
      "source": [
        "When it comes to evaluation. we have to do\n",
        "\n",
        "> Visualization\n",
        "\n",
        "It's a good idea to visualize:\n",
        "\n",
        "* The data - what data are we working with ? what does it looks like?\n",
        "* The model itself - what does our model looks like?\n",
        "* The training of model - how does a model perform while it learns?\n",
        "* The prediction of the model - how do the predictions of a model line up against the ground truth."
      ],
      "metadata": {
        "id": "Y3wK9J089RLB"
      }
    },
    {
      "cell_type": "code",
      "source": [
        "# Make a bigger dataset\n",
        "\n",
        "X = tf.range(-100, 100, 4)\n",
        "X"
      ],
      "metadata": {
        "colab": {
          "base_uri": "https://localhost:8080/"
        },
        "id": "Trie4RVl-P6n",
        "outputId": "6bf64c98-8680-4db2-e819-446a8d62310e"
      },
      "execution_count": 19,
      "outputs": [
        {
          "output_type": "execute_result",
          "data": {
            "text/plain": [
              "<tf.Tensor: shape=(50,), dtype=int32, numpy=\n",
              "array([-100,  -96,  -92,  -88,  -84,  -80,  -76,  -72,  -68,  -64,  -60,\n",
              "        -56,  -52,  -48,  -44,  -40,  -36,  -32,  -28,  -24,  -20,  -16,\n",
              "        -12,   -8,   -4,    0,    4,    8,   12,   16,   20,   24,   28,\n",
              "         32,   36,   40,   44,   48,   52,   56,   60,   64,   68,   72,\n",
              "         76,   80,   84,   88,   92,   96], dtype=int32)>"
            ]
          },
          "metadata": {},
          "execution_count": 19
        }
      ]
    },
    {
      "cell_type": "code",
      "source": [
        "y = X +10\n",
        "y"
      ],
      "metadata": {
        "colab": {
          "base_uri": "https://localhost:8080/"
        },
        "id": "el6mh5YV-c3l",
        "outputId": "e4a6d45f-db6b-40af-ce9c-32c96fa299cb"
      },
      "execution_count": 20,
      "outputs": [
        {
          "output_type": "execute_result",
          "data": {
            "text/plain": [
              "<tf.Tensor: shape=(50,), dtype=int32, numpy=\n",
              "array([-90, -86, -82, -78, -74, -70, -66, -62, -58, -54, -50, -46, -42,\n",
              "       -38, -34, -30, -26, -22, -18, -14, -10,  -6,  -2,   2,   6,  10,\n",
              "        14,  18,  22,  26,  30,  34,  38,  42,  46,  50,  54,  58,  62,\n",
              "        66,  70,  74,  78,  82,  86,  90,  94,  98, 102, 106], dtype=int32)>"
            ]
          },
          "metadata": {},
          "execution_count": 20
        }
      ]
    },
    {
      "cell_type": "code",
      "source": [
        "# visualize the data\n",
        "import matplotlib.pyplot as plt\n",
        "plt.scatter(X,y)"
      ],
      "metadata": {
        "colab": {
          "base_uri": "https://localhost:8080/",
          "height": 447
        },
        "id": "vbhN48Ep-geM",
        "outputId": "48b8b133-6f4d-4363-e000-19bf49c4bd1d"
      },
      "execution_count": 21,
      "outputs": [
        {
          "output_type": "execute_result",
          "data": {
            "text/plain": [
              "<matplotlib.collections.PathCollection at 0x7e842e57ecb0>"
            ]
          },
          "metadata": {},
          "execution_count": 21
        },
        {
          "output_type": "display_data",
          "data": {
            "text/plain": [
              "<Figure size 640x480 with 1 Axes>"
            ],
            "image/png": "[encoded data removed]"
          },
          "metadata": {}
        }
      ]
    },
    {
      "cell_type": "markdown",
      "source": [
        "### 3 sets\n",
        "\n",
        "* Training set - the model learns from this data, which is around 79-80% of total data\n",
        "* Valdation set - the model gets tuned on this data, which is around 10-15% of total data\n",
        "* Test set - the model gets evaluated on this data, which is typically 10- 15% of total data\n"
      ],
      "metadata": {
        "id": "RUf8fCskADV1"
      }
    },
    {
      "cell_type": "code",
      "source": [
        "X_train = X[:40]\n",
        "X_test = X[40:]"
      ],
      "metadata": {
        "id": "aRCcdgb8_QL5"
      },
      "execution_count": 22,
      "outputs": []
    },
    {
      "cell_type": "code",
      "source": [
        "y_train = y[:40]\n",
        "y_test = y[40:]"
      ],
      "metadata": {
        "id": "_SxUELfs-mpq"
      },
      "execution_count": 23,
      "outputs": []
    },
    {
      "cell_type": "code",
      "source": [
        "len(X_train), len(X_test), len(y_train), len(y_test)"
      ],
      "metadata": {
        "colab": {
          "base_uri": "https://localhost:8080/"
        },
        "id": "c4Sthq3w_GbD",
        "outputId": "09ba3ee2-6ab5-4551-d423-cde544c6294d"
      },
      "execution_count": 24,
      "outputs": [
        {
          "output_type": "execute_result",
          "data": {
            "text/plain": [
              "(40, 10, 40, 10)"
            ]
          },
          "metadata": {},
          "execution_count": 24
        }
      ]
    },
    {
      "cell_type": "markdown",
      "source": [
        "### visualizing the data"
      ],
      "metadata": {
        "id": "KHDHZM9wB1MK"
      }
    },
    {
      "cell_type": "code",
      "source": [
        "plt.figure(figsize = (10, 7))\n",
        "\n",
        "plt.scatter(X_train, y_train, c = 'b', label = 'Training data')\n",
        "\n",
        "plt.scatter(X_test, y_test, c = 'g', label = 'Testing data')\n",
        "\n",
        "plt.legend()"
      ],
      "metadata": {
        "colab": {
          "base_uri": "https://localhost:8080/",
          "height": 616
        },
        "id": "B3pf4eFUCK5I",
        "outputId": "d53decaf-d602-46f2-adfa-465945c557c4"
      },
      "execution_count": 25,
      "outputs": [
        {
          "output_type": "execute_result",
          "data": {
            "text/plain": [
              "<matplotlib.legend.Legend at 0x7e842e516260>"
            ]
          },
          "metadata": {},
          "execution_count": 25
        },
        {
          "output_type": "display_data",
          "data": {
            "text/plain": [
              "<Figure size 1000x700 with 1 Axes>"
            ],
            "image/png": "[encoded data removed]"
          },
          "metadata": {}
        }
      ]
    },
    {
      "cell_type": "code",
      "source": [
        "model = tf.keras.Sequential([\n",
        "    tf.keras.layers.Dense(1)\n",
        "])\n",
        "\n",
        "model.compile(loss = tf.losses.mae,\n",
        "              optimizer = tf.optimizers.SGD(),\n",
        "              metrics = ['mae'])\n",
        "\n",
        "# model.fit(X_train, y_train, epochs = 100)"
      ],
      "metadata": {
        "id": "TbbMrwNfCihh"
      },
      "execution_count": 26,
      "outputs": []
    },
    {
      "cell_type": "code",
      "source": [
        "model.summary()"
      ],
      "metadata": {
        "colab": {
          "base_uri": "https://localhost:8080/",
          "height": 298
        },
        "id": "vV4aj5iJU_hG",
        "outputId": "e3fe934f-c391-43c0-c222-f52c0772808c"
      },
      "execution_count": 28,
      "outputs": [
        {
          "output_type": "error",
          "ename": "ValueError",
          "evalue": "This model has not yet been built. Build the model first by calling `build()` or by calling the model on a batch of data.",
          "traceback": [
            "\u001b[0;31m---------------------------------------------------------------------------\u001b[0m",
            "\u001b[0;31mValueError\u001b[0m                                Traceback (most recent call last)",
            "\u001b[0;32m<ipython-input-28-5f15418b3570>\u001b[0m in \u001b[0;36m<cell line: 1>\u001b[0;34m()\u001b[0m\n\u001b[0;32m----> 1\u001b[0;31m \u001b[0mmodel\u001b[0m\u001b[0;34m.\u001b[0m\u001b[0msummary\u001b[0m\u001b[0;34m(\u001b[0m\u001b[0;34m)\u001b[0m\u001b[0;34m\u001b[0m\u001b[0;34m\u001b[0m\u001b[0m\n\u001b[0m",
            "\u001b[0;32m/usr/local/lib/python3.10/dist-packages/keras/src/engine/training.py\u001b[0m in \u001b[0;36msummary\u001b[0;34m(self, line_length, positions, print_fn, expand_nested, show_trainable, layer_range)\u001b[0m\n\u001b[1;32m   3504\u001b[0m         \"\"\"\n\u001b[1;32m   3505\u001b[0m         \u001b[0;32mif\u001b[0m \u001b[0;32mnot\u001b[0m \u001b[0mself\u001b[0m\u001b[0;34m.\u001b[0m\u001b[0mbuilt\u001b[0m\u001b[0;34m:\u001b[0m\u001b[0;34m\u001b[0m\u001b[0;34m\u001b[0m\u001b[0m\n\u001b[0;32m-> 3506\u001b[0;31m             raise ValueError(\n\u001b[0m\u001b[1;32m   3507\u001b[0m                 \u001b[0;34m\"This model has not yet been built. \"\u001b[0m\u001b[0;34m\u001b[0m\u001b[0;34m\u001b[0m\u001b[0m\n\u001b[1;32m   3508\u001b[0m                 \u001b[0;34m\"Build the model first by calling `build()` or by calling \"\u001b[0m\u001b[0;34m\u001b[0m\u001b[0;34m\u001b[0m\u001b[0m\n",
            "\u001b[0;31mValueError\u001b[0m: This model has not yet been built. Build the model first by calling `build()` or by calling the model on a batch of data."
          ]
        }
      ]
    },
    {
      "cell_type": "code",
      "source": [
        " tf.random.set_seed(42)\n",
        "\n",
        " model = tf.keras.Sequential([\n",
        "     tf.keras.layers.Dense(10, input_shape = [1],name='input_layer'),\n",
        "     tf.keras.layers.Dense(1, name = 'output_layer')\n",
        " ], name = \"Model_1\")\n",
        "\n",
        " model.compile(loss=tf.keras.losses.mae,\n",
        "               optimizer = tf.keras.optimizers.SGD(),\n",
        "               metrics = ['mae'])"
      ],
      "metadata": {
        "id": "9CMXOISnVDvO"
      },
      "execution_count": 51,
      "outputs": []
    },
    {
      "cell_type": "code",
      "source": [
        "model.summary()"
      ],
      "metadata": {
        "colab": {
          "base_uri": "https://localhost:8080/"
        },
        "id": "4Uxs1ShgWO46",
        "outputId": "6281f228-205b-4e92-f4a4-1fe1655b4ff9"
      },
      "execution_count": 52,
      "outputs": [
        {
          "output_type": "stream",
          "name": "stdout",
          "text": [
            "Model: \"Model_1\"\n",
            "_________________________________________________________________\n",
            " Layer (type)                Output Shape              Param #   \n",
            "=================================================================\n",
            " input_layer (Dense)         (None, 10)                20        \n",
            "                                                                 \n",
            " output_layer (Dense)        (None, 1)                 11        \n",
            "                                                                 \n",
            "=================================================================\n",
            "Total params: 31 (124.00 Byte)\n",
            "Trainable params: 31 (124.00 Byte)\n",
            "Non-trainable params: 0 (0.00 Byte)\n",
            "_________________________________________________________________\n"
          ]
        }
      ]
    },
    {
      "cell_type": "code",
      "source": [
        "model.fit(X_train, y_train, epochs = 100, verbose=0)"
      ],
      "metadata": {
        "colab": {
          "base_uri": "https://localhost:8080/"
        },
        "id": "dSaXMn9vWSQE",
        "outputId": "e4392787-f4a2-4a65-90cf-31a177fec3c5"
      },
      "execution_count": 31,
      "outputs": [
        {
          "output_type": "execute_result",
          "data": {
            "text/plain": [
              "<keras.src.callbacks.History at 0x7e842e3ac910>"
            ]
          },
          "metadata": {},
          "execution_count": 31
        }
      ]
    },
    {
      "cell_type": "code",
      "source": [
        "model.summary()"
      ],
      "metadata": {
        "id": "X_BS8v57Xhyy",
        "colab": {
          "base_uri": "https://localhost:8080/"
        },
        "outputId": "dec867f9-5c7a-44dc-9657-1991cfe116c7"
      },
      "execution_count": 42,
      "outputs": [
        {
          "output_type": "stream",
          "name": "stdout",
          "text": [
            "Model: \"sequential_6\"\n",
            "_________________________________________________________________\n",
            " Layer (type)                Output Shape              Param #   \n",
            "=================================================================\n",
            " dense_13 (Dense)            (None, 50)                100       \n",
            "                                                                 \n",
            " dense_14 (Dense)            (None, 1)                 51        \n",
            "                                                                 \n",
            "=================================================================\n",
            "Total params: 151 (604.00 Byte)\n",
            "Trainable params: 151 (604.00 Byte)\n",
            "Non-trainable params: 0 (0.00 Byte)\n",
            "_________________________________________________________________\n"
          ]
        }
      ]
    },
    {
      "cell_type": "code",
      "source": [
        "from tensorflow.keras.utils import plot_model\n",
        "\n",
        "plot_model(model,show_shapes=True)"
      ],
      "metadata": {
        "colab": {
          "base_uri": "https://localhost:8080/",
          "height": 312
        },
        "id": "w2pFLNoaZZCX",
        "outputId": "e2b102ff-6429-447d-a973-695f8293067a"
      },
      "execution_count": 63,
      "outputs": [
        {
          "output_type": "execute_result",
          "data": {
            "image/png": "[encoded data removed]",
            "text/plain": [
              "<IPython.core.display.Image object>"
            ]
          },
          "metadata": {},
          "execution_count": 63
        }
      ]
    },
    {
      "cell_type": "markdown",
      "source": [
        "## Visualize our Model's prediction"
      ],
      "metadata": {
        "id": "QOfrhKlXZ3TD"
      }
    },
    {
      "cell_type": "code",
      "source": [
        "y_pred = model.predict(X_test)\n",
        "y_pred"
      ],
      "metadata": {
        "colab": {
          "base_uri": "https://localhost:8080/"
        },
        "id": "XhPdCIXzcIuQ",
        "outputId": "74d221ea-cbc5-4248-c017-b4029e841dba"
      },
      "execution_count": 61,
      "outputs": [
        {
          "output_type": "stream",
          "name": "stdout",
          "text": [
            "1/1 [==============================] - 0s 50ms/step\n"
          ]
        },
        {
          "output_type": "execute_result",
          "data": {
            "text/plain": [
              "array([[ 70.01469],\n",
              "       [ 74.01772],\n",
              "       [ 78.02073],\n",
              "       [ 82.02376],\n",
              "       [ 86.02677],\n",
              "       [ 90.02981],\n",
              "       [ 94.03282],\n",
              "       [ 98.03586],\n",
              "       [102.03888],\n",
              "       [106.0419 ]], dtype=float32)"
            ]
          },
          "metadata": {},
          "execution_count": 61
        }
      ]
    },
    {
      "cell_type": "code",
      "source": [
        "y_test"
      ],
      "metadata": {
        "colab": {
          "base_uri": "https://localhost:8080/"
        },
        "id": "foXoJMz6ceBl",
        "outputId": "e2e160ee-3b1a-4c00-ccca-2e1015d46612"
      },
      "execution_count": 62,
      "outputs": [
        {
          "output_type": "execute_result",
          "data": {
            "text/plain": [
              "<tf.Tensor: shape=(10,), dtype=int32, numpy=array([ 70,  74,  78,  82,  86,  90,  94,  98, 102, 106], dtype=int32)>"
            ]
          },
          "metadata": {},
          "execution_count": 62
        }
      ]
    },
    {
      "cell_type": "code",
      "source": [
        "model.predict([17.0])"
      ],
      "metadata": {
        "colab": {
          "base_uri": "https://localhost:8080/"
        },
        "id": "zqscbJJ1cjGs",
        "outputId": "23d5705c-dbb0-4f1f-e37b-b20bf77ad7ce"
      },
      "execution_count": 64,
      "outputs": [
        {
          "output_type": "stream",
          "name": "stdout",
          "text": [
            "1/1 [==============================] - 0s 34ms/step\n"
          ]
        },
        {
          "output_type": "execute_result",
          "data": {
            "text/plain": [
              "array([[26.982191]], dtype=float32)"
            ]
          },
          "metadata": {},
          "execution_count": 64
        }
      ]
    },
    {
      "cell_type": "code",
      "source": [
        "def plot_predictions(train_data = X_train,\n",
        "                     train_labels = y_train,\n",
        "                     test_data = X_test,\n",
        "                     test_labels = y_test,\n",
        "                     predictions = y_pred):\n",
        "  plt.figure(figsize=(10,7))\n",
        "\n",
        "  plt.scatter(train_data, train_labels, c= \"b\", label = \"training Data\")\n",
        "\n",
        "  plt.scatter(test_data, test_labels, c = 'g', label = \"testing Data\")\n",
        "\n",
        "  plt.scatter(test_data, predictions, c = 'r', label = \"Predictions\")\n",
        "\n",
        "  plt.legend"
      ],
      "metadata": {
        "id": "TgTy5o6zdLCc"
      },
      "execution_count": 56,
      "outputs": []
    },
    {
      "cell_type": "code",
      "source": [
        "plot_predictions()"
      ],
      "metadata": {
        "colab": {
          "base_uri": "https://localhost:8080/",
          "height": 599
        },
        "id": "HcYzUSdceFOQ",
        "outputId": "eac58c4c-ac32-4ca3-8840-95621dfe1224"
      },
      "execution_count": 65,
      "outputs": [
        {
          "output_type": "display_data",
          "data": {
            "text/plain": [
              "<Figure size 1000x700 with 1 Axes>"
            ],
            "image/png": "[encoded data removed]"
          },
          "metadata": {}
        }
      ]
    },
    {
      "cell_type": "markdown",
      "source": [
        "### Evaluating using regression evaluation metrics"
      ],
      "metadata": {
        "id": "Zb1r38p5eTgs"
      }
    },
    {
      "cell_type": "code",
      "source": [
        "model.evaluate(X_test,y_test)"
      ],
      "metadata": {
        "colab": {
          "base_uri": "https://localhost:8080/"
        },
        "id": "3sFdPnIWe4gq",
        "outputId": "483f0953-e007-4bee-88d0-c5746c817b72"
      },
      "execution_count": 58,
      "outputs": [
        {
          "output_type": "stream",
          "name": "stdout",
          "text": [
            "1/1 [==============================] - 0s 109ms/step - loss: 0.0283 - mae: 0.0283\n"
          ]
        },
        {
          "output_type": "execute_result",
          "data": {
            "text/plain": [
              "[0.02829284593462944, 0.02829284593462944]"
            ]
          },
          "metadata": {},
          "execution_count": 58
        }
      ]
    },
    {
      "cell_type": "code",
      "source": [
        "# Ca;culate the mean absolute error\n",
        "\n",
        "mae = tf.metrics.mean_absolute_error(y_true= y_test,\n",
        "                                     y_pred = y_pred)\n",
        "mae"
      ],
      "metadata": {
        "id": "05XUVNR7f1xi",
        "colab": {
          "base_uri": "https://localhost:8080/"
        },
        "outputId": "91be3776-5fea-4acd-da64-e32cc0eb68cc"
      },
      "execution_count": 67,
      "outputs": [
        {
          "output_type": "execute_result",
          "data": {
            "text/plain": [
              "<tf.Tensor: shape=(10,), dtype=float32, numpy=\n",
              "array([17.98825  , 14.789366 , 12.391708 , 10.795248 , 10.       ,\n",
              "       10.005961 , 10.813128 , 12.4215145, 14.831103 , 18.0419   ],\n",
              "      dtype=float32)>"
            ]
          },
          "metadata": {},
          "execution_count": 67
        }
      ]
    },
    {
      "cell_type": "code",
      "source": [
        "tf.constant(y_pred)"
      ],
      "metadata": {
        "colab": {
          "base_uri": "https://localhost:8080/"
        },
        "id": "7QjlPas9gRnT",
        "outputId": "be93e859-1a13-4dbd-de02-11aa4ebca231"
      },
      "execution_count": 66,
      "outputs": [
        {
          "output_type": "execute_result",
          "data": {
            "text/plain": [
              "<tf.Tensor: shape=(10, 1), dtype=float32, numpy=\n",
              "array([[ 70.01469],\n",
              "       [ 74.01772],\n",
              "       [ 78.02073],\n",
              "       [ 82.02376],\n",
              "       [ 86.02677],\n",
              "       [ 90.02981],\n",
              "       [ 94.03282],\n",
              "       [ 98.03586],\n",
              "       [102.03888],\n",
              "       [106.0419 ]], dtype=float32)>"
            ]
          },
          "metadata": {},
          "execution_count": 66
        }
      ]
    },
    {
      "cell_type": "code",
      "source": [
        "y_test"
      ],
      "metadata": {
        "colab": {
          "base_uri": "https://localhost:8080/"
        },
        "id": "tAo6idKrgoM9",
        "outputId": "8b4998d2-04f0-4325-b54e-5c6aacdfd1c4"
      },
      "execution_count": 68,
      "outputs": [
        {
          "output_type": "execute_result",
          "data": {
            "text/plain": [
              "<tf.Tensor: shape=(10,), dtype=int32, numpy=array([ 70,  74,  78,  82,  86,  90,  94,  98, 102, 106], dtype=int32)>"
            ]
          },
          "metadata": {},
          "execution_count": 68
        }
      ]
    },
    {
      "cell_type": "code",
      "source": [
        "tf.squeeze(y_pred)"
      ],
      "metadata": {
        "colab": {
          "base_uri": "https://localhost:8080/"
        },
        "id": "pdowTaW-g2VD",
        "outputId": "d8b71594-e986-4baa-955d-7e0fd6478d6b"
      },
      "execution_count": 69,
      "outputs": [
        {
          "output_type": "execute_result",
          "data": {
            "text/plain": [
              "<tf.Tensor: shape=(10,), dtype=float32, numpy=\n",
              "array([ 70.01469,  74.01772,  78.02073,  82.02376,  86.02677,  90.02981,\n",
              "        94.03282,  98.03586, 102.03888, 106.0419 ], dtype=float32)>"
            ]
          },
          "metadata": {},
          "execution_count": 69
        }
      ]
    },
    {
      "cell_type": "code",
      "source": [
        "mae = tf.metrics.mean_absolute_error(y_true=y_test,\n",
        "                                     y_pred=tf.squeeze(y_pred))\n",
        "mae"
      ],
      "metadata": {
        "colab": {
          "base_uri": "https://localhost:8080/"
        },
        "id": "1gNXLeiug7rv",
        "outputId": "86fbfaf2-1cc6-488b-f440-89fdaeeacc2c"
      },
      "execution_count": 71,
      "outputs": [
        {
          "output_type": "execute_result",
          "data": {
            "text/plain": [
              "<tf.Tensor: shape=(), dtype=float32, numpy=0.02829361>"
            ]
          },
          "metadata": {},
          "execution_count": 71
        }
      ]
    },
    {
      "cell_type": "code",
      "source": [
        "mse = tf.metrics.mean_squared_error(y_true=y_test,\n",
        "                                     y_pred=tf.squeeze(y_pred))\n",
        "mse"
      ],
      "metadata": {
        "colab": {
          "base_uri": "https://localhost:8080/"
        },
        "id": "K4GPrHEnhOvj",
        "outputId": "ae8a96d7-8638-446c-8d6b-2c960640a717"
      },
      "execution_count": 72,
      "outputs": [
        {
          "output_type": "execute_result",
          "data": {
            "text/plain": [
              "<tf.Tensor: shape=(), dtype=float32, numpy=0.00087595114>"
            ]
          },
          "metadata": {},
          "execution_count": 72
        }
      ]
    },
    {
      "cell_type": "code",
      "source": [
        "def MAE(y_true, y_pred):\n",
        "  return tf.metrics.mean_absolute_error(y_true=y_true,\n",
        "                                        y_pred=y_pred)\n",
        "\n",
        "def MSE(y_true, y_pred):\n",
        "  return tf.metrics.mean_squared_error(y_true=y_true,\n",
        "                                       y_pred=y_pred)"
      ],
      "metadata": {
        "id": "rcsMKkVohb2n"
      },
      "execution_count": 73,
      "outputs": []
    },
    {
      "cell_type": "code",
      "source": [],
      "metadata": {
        "id": "HuNMTWWNiE6j"
      },
      "execution_count": null,
      "outputs": []
    }
  ]
}