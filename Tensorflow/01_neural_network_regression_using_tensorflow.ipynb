{
  "nbformat": 4,
  "nbformat_minor": 0,
  "metadata": {
    "colab": {
      "provenance": [],
      "authorship_tag": "ABX9TyMZMAcylVLxQ+1Ige46a31g",
      "include_colab_link": true
    },
    "kernelspec": {
      "name": "python3",
      "display_name": "Python 3"
    },
    "language_info": {
      "name": "python"
    }
  },
  "cells": [
    {
      "cell_type": "markdown",
      "metadata": {
        "id": "view-in-github",
        "colab_type": "text"
      },
      "source": [
        "<a href=\"https://colab.research.google.com/github/Guptarohit2003/Machine-Learning/blob/main/Tensorflow/01_neural_network_regression_using_tensorflow.ipynb\" target=\"_parent\"><img src=\"https://colab.research.google.com/assets/colab-badge.svg\" alt=\"Open In Colab\"/></a>"
      ]
    },
    {
      "cell_type": "markdown",
      "source": [
        "# Introduction to Regression with Neural networks in TensorFlow"
      ],
      "metadata": {
        "id": "pOc-WspS3GzW"
      }
    },
    {
      "cell_type": "code",
      "source": [
        "import tensorflow as tf\n",
        "tf.__version__"
      ],
      "metadata": {
        "colab": {
          "base_uri": "https://localhost:8080/",
          "height": 35
        },
        "id": "TyzLl9Gd3n0b",
        "outputId": "763ab034-d098-49a9-ea81-f1a7070ab09f"
      },
      "execution_count": 1,
      "outputs": [
        {
          "output_type": "execute_result",
          "data": {
            "text/plain": [
              "'2.15.0'"
            ],
            "application/vnd.google.colaboratory.intrinsic+json": {
              "type": "string"
            }
          },
          "metadata": {},
          "execution_count": 1
        }
      ]
    },
    {
      "cell_type": "markdown",
      "source": [
        "# Create Data view and fit"
      ],
      "metadata": {
        "id": "5iTXtgl83vcR"
      }
    },
    {
      "cell_type": "code",
      "source": [
        "import numpy as np\n",
        "import pandas as pd\n",
        "import matplotlib.pyplot as plt\n",
        "\n",
        "#Create Feature\n",
        "X = np.array([-7.0, -4.0, -1.0, 2.0, 5.0, 8.0, 11.0, 14.0])\n",
        "\n",
        "# Create Label\n",
        "y = np.array([3.0, 6.0, 9.0, 12.0, 15.0, 18.0, 21.0, 24.0])\n",
        "\n",
        "plt.scatter(X, y)"
      ],
      "metadata": {
        "colab": {
          "base_uri": "https://localhost:8080/",
          "height": 452
        },
        "id": "fQfZ6C8832cF",
        "outputId": "fe2ea998-58a9-4adc-f71b-66962de169c1"
      },
      "execution_count": 2,
      "outputs": [
        {
          "output_type": "execute_result",
          "data": {
            "text/plain": [
              "<matplotlib.collections.PathCollection at 0x790191bbb040>"
            ]
          },
          "metadata": {},
          "execution_count": 2
        },
        {
          "output_type": "display_data",
          "data": {
            "text/plain": [
              "<Figure size 640x480 with 1 Axes>"
            ],
            "image/png": "[encoded data removed]"
          },
          "metadata": {}
        }
      ]
    },
    {
      "cell_type": "code",
      "source": [
        "y == X + 10"
      ],
      "metadata": {
        "colab": {
          "base_uri": "https://localhost:8080/"
        },
        "id": "tz05Mf9T4qEc",
        "outputId": "5460f74f-8d28-4863-9404-e03a0742bba6"
      },
      "execution_count": 3,
      "outputs": [
        {
          "output_type": "execute_result",
          "data": {
            "text/plain": [
              "array([ True,  True,  True,  True,  True,  True,  True,  True])"
            ]
          },
          "metadata": {},
          "execution_count": 3
        }
      ]
    },
    {
      "cell_type": "markdown",
      "source": [
        "# Input Output Shapes"
      ],
      "metadata": {
        "id": "_OeSk2yW5Bm8"
      }
    },
    {
      "cell_type": "code",
      "source": [
        "#create demo tensor for house prediction\n",
        "house_info = tf.constant([\"bedroom\", \"bathroom\", 'garage'])\n",
        "house_price = tf.constant([939700])\n",
        "house_info, house_price\n"
      ],
      "metadata": {
        "colab": {
          "base_uri": "https://localhost:8080/"
        },
        "id": "w-agQfvP5Mye",
        "outputId": "39cd9d67-d065-4f20-c9a5-bbd1358824d0"
      },
      "execution_count": 4,
      "outputs": [
        {
          "output_type": "execute_result",
          "data": {
            "text/plain": [
              "(<tf.Tensor: shape=(3,), dtype=string, numpy=array([b'bedroom', b'bathroom', b'garage'], dtype=object)>,\n",
              " <tf.Tensor: shape=(1,), dtype=int32, numpy=array([939700], dtype=int32)>)"
            ]
          },
          "metadata": {},
          "execution_count": 4
        }
      ]
    },
    {
      "cell_type": "code",
      "source": [
        "X[0], y[0]"
      ],
      "metadata": {
        "colab": {
          "base_uri": "https://localhost:8080/"
        },
        "id": "ltZIka8A5oWL",
        "outputId": "8226ff86-7aeb-4a52-d8cc-b58483bfc052"
      },
      "execution_count": 5,
      "outputs": [
        {
          "output_type": "execute_result",
          "data": {
            "text/plain": [
              "(-7.0, 3.0)"
            ]
          },
          "metadata": {},
          "execution_count": 5
        }
      ]
    },
    {
      "cell_type": "code",
      "source": [
        "X = tf.constant(X)\n",
        "y = tf.constant(y)\n",
        "\n",
        "X,y"
      ],
      "metadata": {
        "colab": {
          "base_uri": "https://localhost:8080/"
        },
        "id": "XgaEyJ8966fJ",
        "outputId": "58e46121-615f-4d9d-fc40-c498658ce1d3"
      },
      "execution_count": 6,
      "outputs": [
        {
          "output_type": "execute_result",
          "data": {
            "text/plain": [
              "(<tf.Tensor: shape=(8,), dtype=float64, numpy=array([-7., -4., -1.,  2.,  5.,  8., 11., 14.])>,\n",
              " <tf.Tensor: shape=(8,), dtype=float64, numpy=array([ 3.,  6.,  9., 12., 15., 18., 21., 24.])>)"
            ]
          },
          "metadata": {},
          "execution_count": 6
        }
      ]
    },
    {
      "cell_type": "markdown",
      "source": [
        "## Steps in modelling with TensorFlow\n",
        "\n",
        "1. Create a model\n",
        "2. Compile a model\n",
        "3. Fitting a model"
      ],
      "metadata": {
        "id": "946qw_ea7byY"
      }
    },
    {
      "cell_type": "code",
      "source": [
        " tf.random.set_seed(42)\n",
        "\n",
        " # Create a model\n",
        " model = tf.keras.Sequential()\n",
        "\n",
        " model.add(tf.keras.layers.Dense(1))\n",
        "\n",
        " # Compile the model\n",
        " model.compile(loss = tf.keras.losses.mae,\n",
        "               optimizer = tf.keras.optimizers.SGD(),\n",
        "               metrics=['mae'])\n",
        "\n",
        " # Fit the model\n",
        " model.fit(tf.expand_dims(X, axis = -1), y, epochs=5)"
      ],
      "metadata": {
        "colab": {
          "base_uri": "https://localhost:8080/"
        },
        "id": "7d6VtNid7mKX",
        "outputId": "93cf92c6-2b18-41cb-fca0-5aff4aa805a4"
      },
      "execution_count": 7,
      "outputs": [
        {
          "output_type": "stream",
          "name": "stdout",
          "text": [
            "Epoch 1/5\n",
            "1/1 [==============================] - 1s 597ms/step - loss: 8.7275 - mae: 8.7275\n",
            "Epoch 2/5\n",
            "1/1 [==============================] - 0s 12ms/step - loss: 8.5949 - mae: 8.5949\n",
            "Epoch 3/5\n",
            "1/1 [==============================] - 0s 11ms/step - loss: 8.4625 - mae: 8.4625\n",
            "Epoch 4/5\n",
            "1/1 [==============================] - 0s 11ms/step - loss: 8.3300 - mae: 8.3300\n",
            "Epoch 5/5\n",
            "1/1 [==============================] - 0s 9ms/step - loss: 8.1975 - mae: 8.1975\n"
          ]
        },
        {
          "output_type": "execute_result",
          "data": {
            "text/plain": [
              "<keras.src.callbacks.History at 0x79018ca22b90>"
            ]
          },
          "metadata": {},
          "execution_count": 7
        }
      ]
    },
    {
      "cell_type": "code",
      "source": [
        "# Check X and y\n",
        "X, y"
      ],
      "metadata": {
        "colab": {
          "base_uri": "https://localhost:8080/"
        },
        "id": "q6Jwdk039QPd",
        "outputId": "49fe788c-d77e-4b3a-f57d-eaffa9e08b0e"
      },
      "execution_count": 8,
      "outputs": [
        {
          "output_type": "execute_result",
          "data": {
            "text/plain": [
              "(<tf.Tensor: shape=(8,), dtype=float64, numpy=array([-7., -4., -1.,  2.,  5.,  8., 11., 14.])>,\n",
              " <tf.Tensor: shape=(8,), dtype=float64, numpy=array([ 3.,  6.,  9., 12., 15., 18., 21., 24.])>)"
            ]
          },
          "metadata": {},
          "execution_count": 8
        }
      ]
    },
    {
      "cell_type": "code",
      "source": [
        "model.predict([17.0])"
      ],
      "metadata": {
        "colab": {
          "base_uri": "https://localhost:8080/"
        },
        "id": "1cU83J7D-VLf",
        "outputId": "5d9356d1-d99d-4576-abfc-89104b82c949"
      },
      "execution_count": 9,
      "outputs": [
        {
          "output_type": "stream",
          "name": "stdout",
          "text": [
            "1/1 [==============================] - 0s 178ms/step\n"
          ]
        },
        {
          "output_type": "execute_result",
          "data": {
            "text/plain": [
              "array([[26.205952]], dtype=float32)"
            ]
          },
          "metadata": {},
          "execution_count": 9
        }
      ]
    },
    {
      "cell_type": "markdown",
      "source": [
        "## Improve our model\n",
        "\n",
        "We can improve our model, by altering the steps we took to create a model\n",
        "\n",
        "**Creating a model** : here we might add more layers, increase # hidden units (neurons) within each of the hidden layers, change the activation function of each layer.\n",
        "\n",
        "**Compiling a model** : here we might change the optimization function or perhaps the **learning rate** of the optimization function.\n",
        "\n",
        "**Fitting a model** : here we might fit a model for more **epochs** or on more data."
      ],
      "metadata": {
        "id": "0gmmIb9--YZx"
      }
    },
    {
      "cell_type": "code",
      "source": [
        "# Let's rebuild the model for improvement\n",
        "model = tf.keras.Sequential([\n",
        "    tf.keras.layers.Dense(1)\n",
        "\n",
        "])\n",
        "\n",
        "model.compile(loss = \"mae\",\n",
        "              optimizer = \"sgd\",\n",
        "              metrics = [\"mae\"])\n",
        "\n",
        "# Fit the model (modified)\n",
        "model.fit(tf.expand_dims(X, axis = -1), y, epochs=100)"
      ],
      "metadata": {
        "colab": {
          "base_uri": "https://localhost:8080/"
        },
        "id": "fzKbrCvKAOp9",
        "outputId": "4e3a8081-4cb1-4deb-bdc0-316c008bd1ee"
      },
      "execution_count": 10,
      "outputs": [
        {
          "output_type": "stream",
          "name": "stdout",
          "text": [
            "Epoch 1/100\n",
            "1/1 [==============================] - 1s 523ms/step - loss: 17.5839 - mae: 17.5839\n",
            "Epoch 2/100\n",
            "1/1 [==============================] - 0s 12ms/step - loss: 17.3027 - mae: 17.3027\n",
            "Epoch 3/100\n",
            "1/1 [==============================] - 0s 23ms/step - loss: 17.0214 - mae: 17.0214\n",
            "Epoch 4/100\n",
            "1/1 [==============================] - 0s 10ms/step - loss: 16.7402 - mae: 16.7402\n",
            "Epoch 5/100\n",
            "1/1 [==============================] - 0s 10ms/step - loss: 16.4589 - mae: 16.4589\n",
            "Epoch 6/100\n",
            "1/1 [==============================] - 0s 10ms/step - loss: 16.1777 - mae: 16.1777\n",
            "Epoch 7/100\n",
            "1/1 [==============================] - 0s 10ms/step - loss: 15.8964 - mae: 15.8964\n",
            "Epoch 8/100\n",
            "1/1 [==============================] - 0s 9ms/step - loss: 15.6152 - mae: 15.6152\n",
            "Epoch 9/100\n",
            "1/1 [==============================] - 0s 22ms/step - loss: 15.3339 - mae: 15.3339\n",
            "Epoch 10/100\n",
            "1/1 [==============================] - 0s 15ms/step - loss: 15.0527 - mae: 15.0527\n",
            "Epoch 11/100\n",
            "1/1 [==============================] - 0s 13ms/step - loss: 14.8101 - mae: 14.8101\n",
            "Epoch 12/100\n",
            "1/1 [==============================] - 0s 12ms/step - loss: 14.6776 - mae: 14.6776\n",
            "Epoch 13/100\n",
            "1/1 [==============================] - 0s 10ms/step - loss: 14.5451 - mae: 14.5451\n",
            "Epoch 14/100\n",
            "1/1 [==============================] - 0s 14ms/step - loss: 14.4126 - mae: 14.4126\n",
            "Epoch 15/100\n",
            "1/1 [==============================] - 0s 13ms/step - loss: 14.2801 - mae: 14.2801\n",
            "Epoch 16/100\n",
            "1/1 [==============================] - 0s 11ms/step - loss: 14.1476 - mae: 14.1476\n",
            "Epoch 17/100\n",
            "1/1 [==============================] - 0s 14ms/step - loss: 14.0151 - mae: 14.0151\n",
            "Epoch 18/100\n",
            "1/1 [==============================] - 0s 13ms/step - loss: 13.8826 - mae: 13.8826\n",
            "Epoch 19/100\n",
            "1/1 [==============================] - 0s 11ms/step - loss: 13.7501 - mae: 13.7501\n",
            "Epoch 20/100\n",
            "1/1 [==============================] - 0s 11ms/step - loss: 13.6176 - mae: 13.6176\n",
            "Epoch 21/100\n",
            "1/1 [==============================] - 0s 10ms/step - loss: 13.4851 - mae: 13.4851\n",
            "Epoch 22/100\n",
            "1/1 [==============================] - 0s 11ms/step - loss: 13.3526 - mae: 13.3526\n",
            "Epoch 23/100\n",
            "1/1 [==============================] - 0s 14ms/step - loss: 13.2201 - mae: 13.2201\n",
            "Epoch 24/100\n",
            "1/1 [==============================] - 0s 11ms/step - loss: 13.0876 - mae: 13.0876\n",
            "Epoch 25/100\n",
            "1/1 [==============================] - 0s 11ms/step - loss: 12.9551 - mae: 12.9551\n",
            "Epoch 26/100\n",
            "1/1 [==============================] - 0s 10ms/step - loss: 12.8226 - mae: 12.8226\n",
            "Epoch 27/100\n",
            "1/1 [==============================] - 0s 8ms/step - loss: 12.6901 - mae: 12.6901\n",
            "Epoch 28/100\n",
            "1/1 [==============================] - 0s 11ms/step - loss: 12.5576 - mae: 12.5576\n",
            "Epoch 29/100\n",
            "1/1 [==============================] - 0s 10ms/step - loss: 12.4251 - mae: 12.4251\n",
            "Epoch 30/100\n",
            "1/1 [==============================] - 0s 9ms/step - loss: 12.2926 - mae: 12.2926\n",
            "Epoch 31/100\n",
            "1/1 [==============================] - 0s 8ms/step - loss: 12.1601 - mae: 12.1601\n",
            "Epoch 32/100\n",
            "1/1 [==============================] - 0s 9ms/step - loss: 12.0276 - mae: 12.0276\n",
            "Epoch 33/100\n",
            "1/1 [==============================] - 0s 12ms/step - loss: 11.8951 - mae: 11.8951\n",
            "Epoch 34/100\n",
            "1/1 [==============================] - 0s 11ms/step - loss: 11.7626 - mae: 11.7626\n",
            "Epoch 35/100\n",
            "1/1 [==============================] - 0s 13ms/step - loss: 11.6301 - mae: 11.6301\n",
            "Epoch 36/100\n",
            "1/1 [==============================] - 0s 12ms/step - loss: 11.4976 - mae: 11.4976\n",
            "Epoch 37/100\n",
            "1/1 [==============================] - 0s 12ms/step - loss: 11.3651 - mae: 11.3651\n",
            "Epoch 38/100\n",
            "1/1 [==============================] - 0s 11ms/step - loss: 11.2326 - mae: 11.2326\n",
            "Epoch 39/100\n",
            "1/1 [==============================] - 0s 9ms/step - loss: 11.1001 - mae: 11.1001\n",
            "Epoch 40/100\n",
            "1/1 [==============================] - 0s 10ms/step - loss: 10.9676 - mae: 10.9676\n",
            "Epoch 41/100\n",
            "1/1 [==============================] - 0s 10ms/step - loss: 10.8351 - mae: 10.8351\n",
            "Epoch 42/100\n",
            "1/1 [==============================] - 0s 9ms/step - loss: 10.7026 - mae: 10.7026\n",
            "Epoch 43/100\n",
            "1/1 [==============================] - 0s 10ms/step - loss: 10.5701 - mae: 10.5701\n",
            "Epoch 44/100\n",
            "1/1 [==============================] - 0s 10ms/step - loss: 10.4376 - mae: 10.4376\n",
            "Epoch 45/100\n",
            "1/1 [==============================] - 0s 10ms/step - loss: 10.3051 - mae: 10.3051\n",
            "Epoch 46/100\n",
            "1/1 [==============================] - 0s 10ms/step - loss: 10.1726 - mae: 10.1726\n",
            "Epoch 47/100\n",
            "1/1 [==============================] - 0s 11ms/step - loss: 10.0401 - mae: 10.0401\n",
            "Epoch 48/100\n",
            "1/1 [==============================] - 0s 11ms/step - loss: 9.9076 - mae: 9.9076\n",
            "Epoch 49/100\n",
            "1/1 [==============================] - 0s 12ms/step - loss: 9.7751 - mae: 9.7751\n",
            "Epoch 50/100\n",
            "1/1 [==============================] - 0s 15ms/step - loss: 9.6426 - mae: 9.6426\n",
            "Epoch 51/100\n",
            "1/1 [==============================] - 0s 13ms/step - loss: 9.5101 - mae: 9.5101\n",
            "Epoch 52/100\n",
            "1/1 [==============================] - 0s 16ms/step - loss: 9.3776 - mae: 9.3776\n",
            "Epoch 53/100\n",
            "1/1 [==============================] - 0s 13ms/step - loss: 9.2451 - mae: 9.2451\n",
            "Epoch 54/100\n",
            "1/1 [==============================] - 0s 14ms/step - loss: 9.1126 - mae: 9.1126\n",
            "Epoch 55/100\n",
            "1/1 [==============================] - 0s 11ms/step - loss: 8.9801 - mae: 8.9801\n",
            "Epoch 56/100\n",
            "1/1 [==============================] - 0s 11ms/step - loss: 8.8476 - mae: 8.8476\n",
            "Epoch 57/100\n",
            "1/1 [==============================] - 0s 13ms/step - loss: 8.7151 - mae: 8.7151\n",
            "Epoch 58/100\n",
            "1/1 [==============================] - 0s 13ms/step - loss: 8.5826 - mae: 8.5826\n",
            "Epoch 59/100\n",
            "1/1 [==============================] - 0s 9ms/step - loss: 8.4501 - mae: 8.4501\n",
            "Epoch 60/100\n",
            "1/1 [==============================] - 0s 12ms/step - loss: 8.3176 - mae: 8.3176\n",
            "Epoch 61/100\n",
            "1/1 [==============================] - 0s 11ms/step - loss: 8.1851 - mae: 8.1851\n",
            "Epoch 62/100\n",
            "1/1 [==============================] - 0s 9ms/step - loss: 8.0526 - mae: 8.0526\n",
            "Epoch 63/100\n",
            "1/1 [==============================] - 0s 10ms/step - loss: 7.9201 - mae: 7.9201\n",
            "Epoch 64/100\n",
            "1/1 [==============================] - 0s 9ms/step - loss: 7.7876 - mae: 7.7876\n",
            "Epoch 65/100\n",
            "1/1 [==============================] - 0s 10ms/step - loss: 7.6551 - mae: 7.6551\n",
            "Epoch 66/100\n",
            "1/1 [==============================] - 0s 11ms/step - loss: 7.5226 - mae: 7.5226\n",
            "Epoch 67/100\n",
            "1/1 [==============================] - 0s 10ms/step - loss: 7.3901 - mae: 7.3901\n",
            "Epoch 68/100\n",
            "1/1 [==============================] - 0s 10ms/step - loss: 7.2576 - mae: 7.2576\n",
            "Epoch 69/100\n",
            "1/1 [==============================] - 0s 10ms/step - loss: 7.1251 - mae: 7.1251\n",
            "Epoch 70/100\n",
            "1/1 [==============================] - 0s 11ms/step - loss: 7.0012 - mae: 7.0012\n",
            "Epoch 71/100\n",
            "1/1 [==============================] - 0s 10ms/step - loss: 6.9956 - mae: 6.9956\n",
            "Epoch 72/100\n",
            "1/1 [==============================] - 0s 16ms/step - loss: 6.9900 - mae: 6.9900\n",
            "Epoch 73/100\n",
            "1/1 [==============================] - 0s 14ms/step - loss: 6.9844 - mae: 6.9844\n",
            "Epoch 74/100\n",
            "1/1 [==============================] - 0s 12ms/step - loss: 6.9788 - mae: 6.9788\n",
            "Epoch 75/100\n",
            "1/1 [==============================] - 0s 15ms/step - loss: 6.9731 - mae: 6.9731\n",
            "Epoch 76/100\n",
            "1/1 [==============================] - 0s 13ms/step - loss: 6.9675 - mae: 6.9675\n",
            "Epoch 77/100\n",
            "1/1 [==============================] - 0s 14ms/step - loss: 6.9619 - mae: 6.9619\n",
            "Epoch 78/100\n",
            "1/1 [==============================] - 0s 19ms/step - loss: 6.9563 - mae: 6.9563\n",
            "Epoch 79/100\n",
            "1/1 [==============================] - 0s 16ms/step - loss: 6.9506 - mae: 6.9506\n",
            "Epoch 80/100\n",
            "1/1 [==============================] - 0s 12ms/step - loss: 6.9450 - mae: 6.9450\n",
            "Epoch 81/100\n",
            "1/1 [==============================] - 0s 15ms/step - loss: 6.9394 - mae: 6.9394\n",
            "Epoch 82/100\n",
            "1/1 [==============================] - 0s 11ms/step - loss: 6.9338 - mae: 6.9338\n",
            "Epoch 83/100\n",
            "1/1 [==============================] - 0s 16ms/step - loss: 6.9281 - mae: 6.9281\n",
            "Epoch 84/100\n",
            "1/1 [==============================] - 0s 15ms/step - loss: 6.9225 - mae: 6.9225\n",
            "Epoch 85/100\n",
            "1/1 [==============================] - 0s 11ms/step - loss: 6.9169 - mae: 6.9169\n",
            "Epoch 86/100\n",
            "1/1 [==============================] - 0s 13ms/step - loss: 6.9113 - mae: 6.9113\n",
            "Epoch 87/100\n",
            "1/1 [==============================] - 0s 16ms/step - loss: 6.9056 - mae: 6.9056\n",
            "Epoch 88/100\n",
            "1/1 [==============================] - 0s 12ms/step - loss: 6.9000 - mae: 6.9000\n",
            "Epoch 89/100\n",
            "1/1 [==============================] - 0s 13ms/step - loss: 6.8944 - mae: 6.8944\n",
            "Epoch 90/100\n",
            "1/1 [==============================] - 0s 14ms/step - loss: 6.8888 - mae: 6.8888\n",
            "Epoch 91/100\n",
            "1/1 [==============================] - 0s 15ms/step - loss: 6.8831 - mae: 6.8831\n",
            "Epoch 92/100\n",
            "1/1 [==============================] - 0s 12ms/step - loss: 6.8775 - mae: 6.8775\n",
            "Epoch 93/100\n",
            "1/1 [==============================] - 0s 11ms/step - loss: 6.8719 - mae: 6.8719\n",
            "Epoch 94/100\n",
            "1/1 [==============================] - 0s 10ms/step - loss: 6.8663 - mae: 6.8663\n",
            "Epoch 95/100\n",
            "1/1 [==============================] - 0s 11ms/step - loss: 6.8606 - mae: 6.8606\n",
            "Epoch 96/100\n",
            "1/1 [==============================] - 0s 15ms/step - loss: 6.8550 - mae: 6.8550\n",
            "Epoch 97/100\n",
            "1/1 [==============================] - 0s 12ms/step - loss: 6.8494 - mae: 6.8494\n",
            "Epoch 98/100\n",
            "1/1 [==============================] - 0s 14ms/step - loss: 6.8438 - mae: 6.8438\n",
            "Epoch 99/100\n",
            "1/1 [==============================] - 0s 14ms/step - loss: 6.8381 - mae: 6.8381\n",
            "Epoch 100/100\n",
            "1/1 [==============================] - 0s 11ms/step - loss: 6.8325 - mae: 6.8325\n"
          ]
        },
        {
          "output_type": "execute_result",
          "data": {
            "text/plain": [
              "<keras.src.callbacks.History at 0x79017fe44310>"
            ]
          },
          "metadata": {},
          "execution_count": 10
        }
      ]
    },
    {
      "cell_type": "code",
      "source": [
        "X, y"
      ],
      "metadata": {
        "colab": {
          "base_uri": "https://localhost:8080/"
        },
        "id": "yfZalF_HBK7S",
        "outputId": "ed54ed0b-b792-4204-a53d-314dd6db970c"
      },
      "execution_count": 11,
      "outputs": [
        {
          "output_type": "execute_result",
          "data": {
            "text/plain": [
              "(<tf.Tensor: shape=(8,), dtype=float64, numpy=array([-7., -4., -1.,  2.,  5.,  8., 11., 14.])>,\n",
              " <tf.Tensor: shape=(8,), dtype=float64, numpy=array([ 3.,  6.,  9., 12., 15., 18., 21., 24.])>)"
            ]
          },
          "metadata": {},
          "execution_count": 11
        }
      ]
    },
    {
      "cell_type": "code",
      "source": [
        "model.predict([17.0])"
      ],
      "metadata": {
        "colab": {
          "base_uri": "https://localhost:8080/"
        },
        "id": "wtCKLilZBRVM",
        "outputId": "fdafa96c-2967-4246-8e2a-3666f60fb231"
      },
      "execution_count": 12,
      "outputs": [
        {
          "output_type": "stream",
          "name": "stdout",
          "text": [
            "1/1 [==============================] - 0s 166ms/step\n"
          ]
        },
        {
          "output_type": "execute_result",
          "data": {
            "text/plain": [
              "array([[29.274754]], dtype=float32)"
            ]
          },
          "metadata": {},
          "execution_count": 12
        }
      ]
    },
    {
      "cell_type": "code",
      "source": [
        "model = tf.keras.Sequential([\n",
        "     tf.keras.layers.Dense(100, activation = 'relu'),\n",
        "     tf.keras.layers.Dense(100, activation = 'relu'),\n",
        "     tf.keras.layers.Dense(100, activation = 'relu'),\n",
        "     tf.keras.layers.Dense(1)\n",
        " ])\n",
        "\n",
        "\n",
        "model.compile(loss= 'mae',\n",
        "               optimizer = 'sgd',\n",
        "               metrics=[\"mae\"])\n",
        "\n",
        "model.fit(tf.expand_dims(X, axis = -1), y, epochs=100)"
      ],
      "metadata": {
        "colab": {
          "base_uri": "https://localhost:8080/"
        },
        "id": "ozZzNZ3i9sCC",
        "outputId": "9a0f623b-0135-4fdc-8158-5695f94bd253"
      },
      "execution_count": 13,
      "outputs": [
        {
          "output_type": "stream",
          "name": "stdout",
          "text": [
            "Epoch 1/100\n",
            "1/1 [==============================] - 1s 954ms/step - loss: 13.4361 - mae: 13.4361\n",
            "Epoch 2/100\n",
            "1/1 [==============================] - 0s 14ms/step - loss: 13.1710 - mae: 13.1710\n",
            "Epoch 3/100\n",
            "1/1 [==============================] - 0s 10ms/step - loss: 12.9120 - mae: 12.9120\n",
            "Epoch 4/100\n",
            "1/1 [==============================] - 0s 12ms/step - loss: 12.6654 - mae: 12.6654\n",
            "Epoch 5/100\n",
            "1/1 [==============================] - 0s 11ms/step - loss: 12.3986 - mae: 12.3986\n",
            "Epoch 6/100\n",
            "1/1 [==============================] - 0s 11ms/step - loss: 12.1087 - mae: 12.1087\n",
            "Epoch 7/100\n",
            "1/1 [==============================] - 0s 11ms/step - loss: 11.7830 - mae: 11.7830\n",
            "Epoch 8/100\n",
            "1/1 [==============================] - 0s 10ms/step - loss: 11.4073 - mae: 11.4073\n",
            "Epoch 9/100\n",
            "1/1 [==============================] - 0s 13ms/step - loss: 10.9595 - mae: 10.9595\n",
            "Epoch 10/100\n",
            "1/1 [==============================] - 0s 11ms/step - loss: 10.4258 - mae: 10.4258\n",
            "Epoch 11/100\n",
            "1/1 [==============================] - 0s 11ms/step - loss: 9.7617 - mae: 9.7617\n",
            "Epoch 12/100\n",
            "1/1 [==============================] - 0s 10ms/step - loss: 8.9847 - mae: 8.9847\n",
            "Epoch 13/100\n",
            "1/1 [==============================] - 0s 10ms/step - loss: 8.0854 - mae: 8.0854\n",
            "Epoch 14/100\n",
            "1/1 [==============================] - 0s 11ms/step - loss: 6.9010 - mae: 6.9010\n",
            "Epoch 15/100\n",
            "1/1 [==============================] - 0s 11ms/step - loss: 5.2913 - mae: 5.2913\n",
            "Epoch 16/100\n",
            "1/1 [==============================] - 0s 11ms/step - loss: 3.9136 - mae: 3.9136\n",
            "Epoch 17/100\n",
            "1/1 [==============================] - 0s 11ms/step - loss: 4.0267 - mae: 4.0267\n",
            "Epoch 18/100\n",
            "1/1 [==============================] - 0s 11ms/step - loss: 3.9247 - mae: 3.9247\n",
            "Epoch 19/100\n",
            "1/1 [==============================] - 0s 11ms/step - loss: 3.9771 - mae: 3.9771\n",
            "Epoch 20/100\n",
            "1/1 [==============================] - 0s 11ms/step - loss: 3.9363 - mae: 3.9363\n",
            "Epoch 21/100\n",
            "1/1 [==============================] - 0s 10ms/step - loss: 3.9260 - mae: 3.9260\n",
            "Epoch 22/100\n",
            "1/1 [==============================] - 0s 11ms/step - loss: 3.9505 - mae: 3.9505\n",
            "Epoch 23/100\n",
            "1/1 [==============================] - 0s 11ms/step - loss: 3.8736 - mae: 3.8736\n",
            "Epoch 24/100\n",
            "1/1 [==============================] - 0s 11ms/step - loss: 3.9649 - mae: 3.9649\n",
            "Epoch 25/100\n",
            "1/1 [==============================] - 0s 11ms/step - loss: 3.8196 - mae: 3.8196\n",
            "Epoch 26/100\n",
            "1/1 [==============================] - 0s 11ms/step - loss: 3.9810 - mae: 3.9810\n",
            "Epoch 27/100\n",
            "1/1 [==============================] - 0s 11ms/step - loss: 3.7815 - mae: 3.7815\n",
            "Epoch 28/100\n",
            "1/1 [==============================] - 0s 14ms/step - loss: 3.9680 - mae: 3.9680\n",
            "Epoch 29/100\n",
            "1/1 [==============================] - 0s 12ms/step - loss: 3.7992 - mae: 3.7992\n",
            "Epoch 30/100\n",
            "1/1 [==============================] - 0s 12ms/step - loss: 3.9113 - mae: 3.9113\n",
            "Epoch 31/100\n",
            "1/1 [==============================] - 0s 11ms/step - loss: 3.8174 - mae: 3.8174\n",
            "Epoch 32/100\n",
            "1/1 [==============================] - 0s 11ms/step - loss: 3.8547 - mae: 3.8547\n",
            "Epoch 33/100\n",
            "1/1 [==============================] - 0s 11ms/step - loss: 3.8357 - mae: 3.8357\n",
            "Epoch 34/100\n",
            "1/1 [==============================] - 0s 11ms/step - loss: 3.7966 - mae: 3.7966\n",
            "Epoch 35/100\n",
            "1/1 [==============================] - 0s 11ms/step - loss: 3.8549 - mae: 3.8549\n",
            "Epoch 36/100\n",
            "1/1 [==============================] - 0s 10ms/step - loss: 3.7370 - mae: 3.7370\n",
            "Epoch 37/100\n",
            "1/1 [==============================] - 0s 10ms/step - loss: 3.8762 - mae: 3.8762\n",
            "Epoch 38/100\n",
            "1/1 [==============================] - 0s 10ms/step - loss: 3.6847 - mae: 3.6847\n",
            "Epoch 39/100\n",
            "1/1 [==============================] - 0s 14ms/step - loss: 3.8758 - mae: 3.8758\n",
            "Epoch 40/100\n",
            "1/1 [==============================] - 0s 15ms/step - loss: 3.7062 - mae: 3.7062\n",
            "Epoch 41/100\n",
            "1/1 [==============================] - 0s 13ms/step - loss: 3.8155 - mae: 3.8155\n",
            "Epoch 42/100\n",
            "1/1 [==============================] - 0s 11ms/step - loss: 3.7283 - mae: 3.7283\n",
            "Epoch 43/100\n",
            "1/1 [==============================] - 0s 19ms/step - loss: 3.7526 - mae: 3.7526\n",
            "Epoch 44/100\n",
            "1/1 [==============================] - 0s 15ms/step - loss: 3.7516 - mae: 3.7516\n",
            "Epoch 45/100\n",
            "1/1 [==============================] - 0s 14ms/step - loss: 3.6871 - mae: 3.6871\n",
            "Epoch 46/100\n",
            "1/1 [==============================] - 0s 11ms/step - loss: 3.7763 - mae: 3.7763\n",
            "Epoch 47/100\n",
            "1/1 [==============================] - 0s 13ms/step - loss: 3.6201 - mae: 3.6201\n",
            "Epoch 48/100\n",
            "1/1 [==============================] - 0s 14ms/step - loss: 3.8013 - mae: 3.8013\n",
            "Epoch 49/100\n",
            "1/1 [==============================] - 0s 11ms/step - loss: 3.6113 - mae: 3.6113\n",
            "Epoch 50/100\n",
            "1/1 [==============================] - 0s 11ms/step - loss: 3.7695 - mae: 3.7695\n",
            "Epoch 51/100\n",
            "1/1 [==============================] - 0s 14ms/step - loss: 3.6643 - mae: 3.6643\n",
            "Epoch 52/100\n",
            "1/1 [==============================] - 0s 10ms/step - loss: 3.6698 - mae: 3.6698\n",
            "Epoch 53/100\n",
            "1/1 [==============================] - 0s 11ms/step - loss: 3.6900 - mae: 3.6900\n",
            "Epoch 54/100\n",
            "1/1 [==============================] - 0s 11ms/step - loss: 3.5986 - mae: 3.5986\n",
            "Epoch 55/100\n",
            "1/1 [==============================] - 0s 10ms/step - loss: 3.7174 - mae: 3.7174\n",
            "Epoch 56/100\n",
            "1/1 [==============================] - 0s 11ms/step - loss: 3.5361 - mae: 3.5361\n",
            "Epoch 57/100\n",
            "1/1 [==============================] - 0s 10ms/step - loss: 3.7236 - mae: 3.7236\n",
            "Epoch 58/100\n",
            "1/1 [==============================] - 0s 11ms/step - loss: 3.5629 - mae: 3.5629\n",
            "Epoch 59/100\n",
            "1/1 [==============================] - 0s 10ms/step - loss: 3.6503 - mae: 3.6503\n",
            "Epoch 60/100\n",
            "1/1 [==============================] - 0s 11ms/step - loss: 3.5901 - mae: 3.5901\n",
            "Epoch 61/100\n",
            "1/1 [==============================] - 0s 10ms/step - loss: 3.5820 - mae: 3.5820\n",
            "Epoch 62/100\n",
            "1/1 [==============================] - 0s 11ms/step - loss: 3.6484 - mae: 3.6484\n",
            "Epoch 63/100\n",
            "1/1 [==============================] - 0s 15ms/step - loss: 3.4802 - mae: 3.4802\n",
            "Epoch 64/100\n",
            "1/1 [==============================] - 0s 12ms/step - loss: 3.6781 - mae: 3.6781\n",
            "Epoch 65/100\n",
            "1/1 [==============================] - 0s 14ms/step - loss: 3.4966 - mae: 3.4966\n",
            "Epoch 66/100\n",
            "1/1 [==============================] - 0s 11ms/step - loss: 3.5987 - mae: 3.5987\n",
            "Epoch 67/100\n",
            "1/1 [==============================] - 0s 11ms/step - loss: 3.5252 - mae: 3.5252\n",
            "Epoch 68/100\n",
            "1/1 [==============================] - 0s 12ms/step - loss: 3.5172 - mae: 3.5172\n",
            "Epoch 69/100\n",
            "1/1 [==============================] - 0s 11ms/step - loss: 3.5548 - mae: 3.5548\n",
            "Epoch 70/100\n",
            "1/1 [==============================] - 0s 10ms/step - loss: 3.4333 - mae: 3.4333\n",
            "Epoch 71/100\n",
            "1/1 [==============================] - 0s 11ms/step - loss: 3.5878 - mae: 3.5878\n",
            "Epoch 72/100\n",
            "1/1 [==============================] - 0s 10ms/step - loss: 3.4117 - mae: 3.4117\n",
            "Epoch 73/100\n",
            "1/1 [==============================] - 0s 11ms/step - loss: 3.5606 - mae: 3.5606\n",
            "Epoch 74/100\n",
            "1/1 [==============================] - 0s 9ms/step - loss: 3.4723 - mae: 3.4723\n",
            "Epoch 75/100\n",
            "1/1 [==============================] - 0s 9ms/step - loss: 3.4463 - mae: 3.4463\n",
            "Epoch 76/100\n",
            "1/1 [==============================] - 0s 10ms/step - loss: 3.5048 - mae: 3.5048\n",
            "Epoch 77/100\n",
            "1/1 [==============================] - 0s 11ms/step - loss: 3.3576 - mae: 3.3576\n",
            "Epoch 78/100\n",
            "1/1 [==============================] - 0s 12ms/step - loss: 3.5395 - mae: 3.5395\n",
            "Epoch 79/100\n",
            "1/1 [==============================] - 0s 13ms/step - loss: 3.3650 - mae: 3.3650\n",
            "Epoch 80/100\n",
            "1/1 [==============================] - 0s 12ms/step - loss: 3.4652 - mae: 3.4652\n",
            "Epoch 81/100\n",
            "1/1 [==============================] - 0s 11ms/step - loss: 3.3987 - mae: 3.3987\n",
            "Epoch 82/100\n",
            "1/1 [==============================] - 0s 10ms/step - loss: 3.3759 - mae: 3.3759\n",
            "Epoch 83/100\n",
            "1/1 [==============================] - 0s 12ms/step - loss: 3.4344 - mae: 3.4344\n",
            "Epoch 84/100\n",
            "1/1 [==============================] - 0s 15ms/step - loss: 3.2844 - mae: 3.2844\n",
            "Epoch 85/100\n",
            "1/1 [==============================] - 0s 11ms/step - loss: 3.4704 - mae: 3.4704\n",
            "Epoch 86/100\n",
            "1/1 [==============================] - 0s 11ms/step - loss: 3.2992 - mae: 3.2992\n",
            "Epoch 87/100\n",
            "1/1 [==============================] - 0s 11ms/step - loss: 3.4084 - mae: 3.4084\n",
            "Epoch 88/100\n",
            "1/1 [==============================] - 0s 11ms/step - loss: 3.3627 - mae: 3.3627\n",
            "Epoch 89/100\n",
            "1/1 [==============================] - 0s 16ms/step - loss: 3.2754 - mae: 3.2754\n",
            "Epoch 90/100\n",
            "1/1 [==============================] - 0s 12ms/step - loss: 3.3995 - mae: 3.3995\n",
            "Epoch 91/100\n",
            "1/1 [==============================] - 0s 12ms/step - loss: 3.2330 - mae: 3.2330\n",
            "Epoch 92/100\n",
            "1/1 [==============================] - 0s 11ms/step - loss: 3.3680 - mae: 3.3680\n",
            "Epoch 93/100\n",
            "1/1 [==============================] - 0s 11ms/step - loss: 3.2686 - mae: 3.2686\n",
            "Epoch 94/100\n",
            "1/1 [==============================] - 0s 11ms/step - loss: 3.2692 - mae: 3.2692\n",
            "Epoch 95/100\n",
            "1/1 [==============================] - 0s 10ms/step - loss: 3.3062 - mae: 3.3062\n",
            "Epoch 96/100\n",
            "1/1 [==============================] - 0s 10ms/step - loss: 3.1667 - mae: 3.1667\n",
            "Epoch 97/100\n",
            "1/1 [==============================] - 0s 11ms/step - loss: 3.3462 - mae: 3.3462\n",
            "Epoch 98/100\n",
            "1/1 [==============================] - 0s 10ms/step - loss: 3.1800 - mae: 3.1800\n",
            "Epoch 99/100\n",
            "1/1 [==============================] - 0s 10ms/step - loss: 3.2679 - mae: 3.2679\n",
            "Epoch 100/100\n",
            "1/1 [==============================] - 0s 10ms/step - loss: 3.2465 - mae: 3.2465\n"
          ]
        },
        {
          "output_type": "execute_result",
          "data": {
            "text/plain": [
              "<keras.src.callbacks.History at 0x79017c519570>"
            ]
          },
          "metadata": {},
          "execution_count": 13
        }
      ]
    },
    {
      "cell_type": "code",
      "source": [
        "model.predict([17.0])"
      ],
      "metadata": {
        "colab": {
          "base_uri": "https://localhost:8080/"
        },
        "id": "OeSJ1ESACV5S",
        "outputId": "fe702c52-e507-4d20-9599-bb7595c33eab"
      },
      "execution_count": 14,
      "outputs": [
        {
          "output_type": "stream",
          "name": "stdout",
          "text": [
            "1/1 [==============================] - 0s 96ms/step\n"
          ]
        },
        {
          "output_type": "execute_result",
          "data": {
            "text/plain": [
              "array([[30.825077]], dtype=float32)"
            ]
          },
          "metadata": {},
          "execution_count": 14
        }
      ]
    },
    {
      "cell_type": "code",
      "source": [
        "model = tf.keras.Sequential([\n",
        "     tf.keras.layers.Dense(100, activation = 'relu'),\n",
        "     tf.keras.layers.Dense(100, activation = 'relu'),\n",
        "     tf.keras.layers.Dense(100, activation = 'relu'),\n",
        "     tf.keras.layers.Dense(1)\n",
        " ])\n",
        "\n",
        "\n",
        "model.compile(loss= tf.keras.losses.mae,\n",
        "               optimizer = tf.keras.optimizers.Adam(learning_rate= 0.0001),\n",
        "               metrics=[\"mae\"])\n",
        "\n",
        "model.fit(tf.expand_dims(X, axis = -1), y, epochs=100)"
      ],
      "metadata": {
        "colab": {
          "base_uri": "https://localhost:8080/"
        },
        "id": "dL1kSFQ0CiZn",
        "outputId": "0cbe6514-b298-46ac-ba84-273d547b3095"
      },
      "execution_count": 60,
      "outputs": [
        {
          "output_type": "stream",
          "name": "stdout",
          "text": [
            "Epoch 1/100\n",
            "2/2 [==============================] - 1s 9ms/step - loss: 51.6373 - mae: 51.6373\n",
            "Epoch 2/100\n",
            "2/2 [==============================] - 0s 9ms/step - loss: 51.1718 - mae: 51.1718\n",
            "Epoch 3/100\n",
            "2/2 [==============================] - 0s 8ms/step - loss: 50.7702 - mae: 50.7702\n",
            "Epoch 4/100\n",
            "2/2 [==============================] - 0s 8ms/step - loss: 50.3514 - mae: 50.3514\n",
            "Epoch 5/100\n",
            "2/2 [==============================] - 0s 10ms/step - loss: 49.9207 - mae: 49.9207\n",
            "Epoch 6/100\n",
            "2/2 [==============================] - 0s 10ms/step - loss: 49.4992 - mae: 49.4992\n",
            "Epoch 7/100\n",
            "2/2 [==============================] - 0s 8ms/step - loss: 49.0557 - mae: 49.0557\n",
            "Epoch 8/100\n",
            "2/2 [==============================] - 0s 12ms/step - loss: 48.6237 - mae: 48.6237\n",
            "Epoch 9/100\n",
            "2/2 [==============================] - 0s 8ms/step - loss: 48.2118 - mae: 48.2118\n",
            "Epoch 10/100\n",
            "2/2 [==============================] - 0s 8ms/step - loss: 47.7453 - mae: 47.7453\n",
            "Epoch 11/100\n",
            "2/2 [==============================] - 0s 8ms/step - loss: 47.2939 - mae: 47.2939\n",
            "Epoch 12/100\n",
            "2/2 [==============================] - 0s 8ms/step - loss: 46.8397 - mae: 46.8397\n",
            "Epoch 13/100\n",
            "2/2 [==============================] - 0s 8ms/step - loss: 46.3874 - mae: 46.3874\n",
            "Epoch 14/100\n",
            "2/2 [==============================] - 0s 9ms/step - loss: 45.9517 - mae: 45.9517\n",
            "Epoch 15/100\n",
            "2/2 [==============================] - 0s 8ms/step - loss: 45.5149 - mae: 45.5149\n",
            "Epoch 16/100\n",
            "2/2 [==============================] - 0s 10ms/step - loss: 45.1043 - mae: 45.1043\n",
            "Epoch 17/100\n",
            "2/2 [==============================] - 0s 8ms/step - loss: 44.6482 - mae: 44.6482\n",
            "Epoch 18/100\n",
            "2/2 [==============================] - 0s 9ms/step - loss: 44.2442 - mae: 44.2442\n",
            "Epoch 19/100\n",
            "2/2 [==============================] - 0s 8ms/step - loss: 43.8190 - mae: 43.8190\n",
            "Epoch 20/100\n",
            "2/2 [==============================] - 0s 8ms/step - loss: 43.3573 - mae: 43.3573\n",
            "Epoch 21/100\n",
            "2/2 [==============================] - 0s 8ms/step - loss: 42.9801 - mae: 42.9801\n",
            "Epoch 22/100\n",
            "2/2 [==============================] - 0s 8ms/step - loss: 42.5404 - mae: 42.5404\n",
            "Epoch 23/100\n",
            "2/2 [==============================] - 0s 9ms/step - loss: 42.1512 - mae: 42.1512\n",
            "Epoch 24/100\n",
            "2/2 [==============================] - 0s 9ms/step - loss: 41.7115 - mae: 41.7115\n",
            "Epoch 25/100\n",
            "2/2 [==============================] - 0s 8ms/step - loss: 41.2973 - mae: 41.2973\n",
            "Epoch 26/100\n",
            "2/2 [==============================] - 0s 8ms/step - loss: 40.8853 - mae: 40.8853\n",
            "Epoch 27/100\n",
            "2/2 [==============================] - 0s 9ms/step - loss: 40.4842 - mae: 40.4842\n",
            "Epoch 28/100\n",
            "2/2 [==============================] - 0s 8ms/step - loss: 40.0611 - mae: 40.0611\n",
            "Epoch 29/100\n",
            "2/2 [==============================] - 0s 8ms/step - loss: 39.6595 - mae: 39.6595\n",
            "Epoch 30/100\n",
            "2/2 [==============================] - 0s 9ms/step - loss: 39.2364 - mae: 39.2364\n",
            "Epoch 31/100\n",
            "2/2 [==============================] - 0s 10ms/step - loss: 38.8068 - mae: 38.8068\n",
            "Epoch 32/100\n",
            "2/2 [==============================] - 0s 9ms/step - loss: 38.3650 - mae: 38.3650\n",
            "Epoch 33/100\n",
            "2/2 [==============================] - 0s 9ms/step - loss: 37.9091 - mae: 37.9091\n",
            "Epoch 34/100\n",
            "2/2 [==============================] - 0s 9ms/step - loss: 37.4354 - mae: 37.4354\n",
            "Epoch 35/100\n",
            "2/2 [==============================] - 0s 8ms/step - loss: 36.9822 - mae: 36.9822\n",
            "Epoch 36/100\n",
            "2/2 [==============================] - 0s 8ms/step - loss: 36.5191 - mae: 36.5191\n",
            "Epoch 37/100\n",
            "2/2 [==============================] - 0s 10ms/step - loss: 36.0816 - mae: 36.0816\n",
            "Epoch 38/100\n",
            "2/2 [==============================] - 0s 8ms/step - loss: 35.6141 - mae: 35.6141\n",
            "Epoch 39/100\n",
            "2/2 [==============================] - 0s 8ms/step - loss: 35.1159 - mae: 35.1159\n",
            "Epoch 40/100\n",
            "2/2 [==============================] - 0s 10ms/step - loss: 34.6369 - mae: 34.6369\n",
            "Epoch 41/100\n",
            "2/2 [==============================] - 0s 9ms/step - loss: 34.1935 - mae: 34.1935\n",
            "Epoch 42/100\n",
            "2/2 [==============================] - 0s 8ms/step - loss: 33.6763 - mae: 33.6763\n",
            "Epoch 43/100\n",
            "2/2 [==============================] - 0s 8ms/step - loss: 33.2000 - mae: 33.2000\n",
            "Epoch 44/100\n",
            "2/2 [==============================] - 0s 9ms/step - loss: 32.7036 - mae: 32.7036\n",
            "Epoch 45/100\n",
            "2/2 [==============================] - 0s 8ms/step - loss: 32.1984 - mae: 32.1984\n",
            "Epoch 46/100\n",
            "2/2 [==============================] - 0s 9ms/step - loss: 31.7161 - mae: 31.7161\n",
            "Epoch 47/100\n",
            "2/2 [==============================] - 0s 9ms/step - loss: 31.2065 - mae: 31.2065\n",
            "Epoch 48/100\n",
            "2/2 [==============================] - 0s 10ms/step - loss: 30.6684 - mae: 30.6684\n",
            "Epoch 49/100\n",
            "2/2 [==============================] - 0s 10ms/step - loss: 30.1460 - mae: 30.1460\n",
            "Epoch 50/100\n",
            "2/2 [==============================] - 0s 13ms/step - loss: 29.6373 - mae: 29.6373\n",
            "Epoch 51/100\n",
            "2/2 [==============================] - 0s 10ms/step - loss: 29.0835 - mae: 29.0835\n",
            "Epoch 52/100\n",
            "2/2 [==============================] - 0s 11ms/step - loss: 28.5825 - mae: 28.5825\n",
            "Epoch 53/100\n",
            "2/2 [==============================] - 0s 10ms/step - loss: 28.0212 - mae: 28.0212\n",
            "Epoch 54/100\n",
            "2/2 [==============================] - 0s 8ms/step - loss: 27.5065 - mae: 27.5065\n",
            "Epoch 55/100\n",
            "2/2 [==============================] - 0s 8ms/step - loss: 26.9543 - mae: 26.9543\n",
            "Epoch 56/100\n",
            "2/2 [==============================] - 0s 8ms/step - loss: 26.4490 - mae: 26.4490\n",
            "Epoch 57/100\n",
            "2/2 [==============================] - 0s 10ms/step - loss: 25.8989 - mae: 25.8989\n",
            "Epoch 58/100\n",
            "2/2 [==============================] - 0s 8ms/step - loss: 25.3723 - mae: 25.3723\n",
            "Epoch 59/100\n",
            "2/2 [==============================] - 0s 8ms/step - loss: 24.8434 - mae: 24.8434\n",
            "Epoch 60/100\n",
            "2/2 [==============================] - 0s 8ms/step - loss: 24.3016 - mae: 24.3016\n",
            "Epoch 61/100\n",
            "2/2 [==============================] - 0s 10ms/step - loss: 23.8359 - mae: 23.8359\n",
            "Epoch 62/100\n",
            "2/2 [==============================] - 0s 8ms/step - loss: 23.3715 - mae: 23.3715\n",
            "Epoch 63/100\n",
            "2/2 [==============================] - 0s 9ms/step - loss: 22.9151 - mae: 22.9151\n",
            "Epoch 64/100\n",
            "2/2 [==============================] - 0s 8ms/step - loss: 22.4773 - mae: 22.4773\n",
            "Epoch 65/100\n",
            "2/2 [==============================] - 0s 8ms/step - loss: 22.1331 - mae: 22.1331\n",
            "Epoch 66/100\n",
            "2/2 [==============================] - 0s 9ms/step - loss: 21.7718 - mae: 21.7718\n",
            "Epoch 67/100\n",
            "2/2 [==============================] - 0s 10ms/step - loss: 21.4401 - mae: 21.4401\n",
            "Epoch 68/100\n",
            "2/2 [==============================] - 0s 8ms/step - loss: 21.1638 - mae: 21.1638\n",
            "Epoch 69/100\n",
            "2/2 [==============================] - 0s 12ms/step - loss: 20.9293 - mae: 20.9293\n",
            "Epoch 70/100\n",
            "2/2 [==============================] - 0s 10ms/step - loss: 20.7269 - mae: 20.7269\n",
            "Epoch 71/100\n",
            "2/2 [==============================] - 0s 9ms/step - loss: 20.4332 - mae: 20.4332\n",
            "Epoch 72/100\n",
            "2/2 [==============================] - 0s 9ms/step - loss: 20.1177 - mae: 20.1177\n",
            "Epoch 73/100\n",
            "2/2 [==============================] - 0s 11ms/step - loss: 19.8245 - mae: 19.8245\n",
            "Epoch 74/100\n",
            "2/2 [==============================] - 0s 9ms/step - loss: 19.5167 - mae: 19.5167\n",
            "Epoch 75/100\n",
            "2/2 [==============================] - 0s 9ms/step - loss: 19.2056 - mae: 19.2056\n",
            "Epoch 76/100\n",
            "2/2 [==============================] - 0s 9ms/step - loss: 18.9098 - mae: 18.9098\n",
            "Epoch 77/100\n",
            "2/2 [==============================] - 0s 8ms/step - loss: 18.5789 - mae: 18.5789\n",
            "Epoch 78/100\n",
            "2/2 [==============================] - 0s 9ms/step - loss: 18.2784 - mae: 18.2784\n",
            "Epoch 79/100\n",
            "2/2 [==============================] - 0s 8ms/step - loss: 17.9519 - mae: 17.9519\n",
            "Epoch 80/100\n",
            "2/2 [==============================] - 0s 9ms/step - loss: 17.6055 - mae: 17.6055\n",
            "Epoch 81/100\n",
            "2/2 [==============================] - 0s 10ms/step - loss: 17.2844 - mae: 17.2844\n",
            "Epoch 82/100\n",
            "2/2 [==============================] - 0s 8ms/step - loss: 16.9438 - mae: 16.9438\n",
            "Epoch 83/100\n",
            "2/2 [==============================] - 0s 8ms/step - loss: 16.5723 - mae: 16.5723\n",
            "Epoch 84/100\n",
            "2/2 [==============================] - 0s 12ms/step - loss: 16.1756 - mae: 16.1756\n",
            "Epoch 85/100\n",
            "2/2 [==============================] - 0s 9ms/step - loss: 15.7923 - mae: 15.7923\n",
            "Epoch 86/100\n",
            "2/2 [==============================] - 0s 9ms/step - loss: 15.3805 - mae: 15.3805\n",
            "Epoch 87/100\n",
            "2/2 [==============================] - 0s 8ms/step - loss: 14.9733 - mae: 14.9733\n",
            "Epoch 88/100\n",
            "2/2 [==============================] - 0s 8ms/step - loss: 14.5585 - mae: 14.5585\n",
            "Epoch 89/100\n",
            "2/2 [==============================] - 0s 8ms/step - loss: 14.1021 - mae: 14.1021\n",
            "Epoch 90/100\n",
            "2/2 [==============================] - 0s 11ms/step - loss: 13.6804 - mae: 13.6804\n",
            "Epoch 91/100\n",
            "2/2 [==============================] - 0s 9ms/step - loss: 13.2135 - mae: 13.2135\n",
            "Epoch 92/100\n",
            "2/2 [==============================] - 0s 9ms/step - loss: 12.7478 - mae: 12.7478\n",
            "Epoch 93/100\n",
            "2/2 [==============================] - 0s 9ms/step - loss: 12.3084 - mae: 12.3084\n",
            "Epoch 94/100\n",
            "2/2 [==============================] - 0s 9ms/step - loss: 11.7960 - mae: 11.7960\n",
            "Epoch 95/100\n",
            "2/2 [==============================] - 0s 8ms/step - loss: 11.3362 - mae: 11.3362\n",
            "Epoch 96/100\n",
            "2/2 [==============================] - 0s 9ms/step - loss: 10.8324 - mae: 10.8324\n",
            "Epoch 97/100\n",
            "2/2 [==============================] - 0s 9ms/step - loss: 10.3127 - mae: 10.3127\n",
            "Epoch 98/100\n",
            "2/2 [==============================] - 0s 8ms/step - loss: 9.8427 - mae: 9.8427\n",
            "Epoch 99/100\n",
            "2/2 [==============================] - 0s 9ms/step - loss: 9.2955 - mae: 9.2955\n",
            "Epoch 100/100\n",
            "2/2 [==============================] - 0s 9ms/step - loss: 8.7723 - mae: 8.7723\n"
          ]
        },
        {
          "output_type": "execute_result",
          "data": {
            "text/plain": [
              "<keras.src.callbacks.History at 0x79017b011330>"
            ]
          },
          "metadata": {},
          "execution_count": 60
        }
      ]
    },
    {
      "cell_type": "code",
      "source": [
        "model.predict([17.0])"
      ],
      "metadata": {
        "colab": {
          "base_uri": "https://localhost:8080/"
        },
        "id": "WiDiAXd2DAp5",
        "outputId": "a75c6fd5-8e65-4d45-d570-8000a4bff68e"
      },
      "execution_count": 61,
      "outputs": [
        {
          "output_type": "stream",
          "name": "stdout",
          "text": [
            "1/1 [==============================] - 0s 90ms/step\n"
          ]
        },
        {
          "output_type": "execute_result",
          "data": {
            "text/plain": [
              "array([[16.2626]], dtype=float32)"
            ]
          },
          "metadata": {},
          "execution_count": 61
        }
      ]
    },
    {
      "cell_type": "code",
      "source": [
        "model = tf.keras.Sequential([\n",
        "     tf.keras.layers.Dense(50, activation = None),\n",
        "     tf.keras.layers.Dense(1)\n",
        " ])\n",
        "\n",
        "\n",
        "model.compile(loss= tf.keras.losses.mae,\n",
        "               optimizer = tf.keras.optimizers.Adam(learning_rate= 0.01),\n",
        "               metrics=[\"mae\"])\n",
        "\n",
        "model.fit(tf.expand_dims(X, axis = -1), y, epochs=100)"
      ],
      "metadata": {
        "colab": {
          "base_uri": "https://localhost:8080/"
        },
        "id": "TeotYLnsDJv2",
        "outputId": "98663efb-4147-449b-db86-2f6f8fab83b2"
      },
      "execution_count": 62,
      "outputs": [
        {
          "output_type": "stream",
          "name": "stdout",
          "text": [
            "Epoch 1/100\n",
            "2/2 [==============================] - 1s 10ms/step - loss: 46.5833 - mae: 46.5833\n",
            "Epoch 2/100\n",
            "2/2 [==============================] - 0s 9ms/step - loss: 29.8130 - mae: 29.8130\n",
            "Epoch 3/100\n",
            "2/2 [==============================] - 0s 9ms/step - loss: 15.9187 - mae: 15.9187\n",
            "Epoch 4/100\n",
            "2/2 [==============================] - 0s 8ms/step - loss: 10.6167 - mae: 10.6167\n",
            "Epoch 5/100\n",
            "2/2 [==============================] - 0s 9ms/step - loss: 14.7510 - mae: 14.7510\n",
            "Epoch 6/100\n",
            "2/2 [==============================] - 0s 11ms/step - loss: 15.9212 - mae: 15.9212\n",
            "Epoch 7/100\n",
            "2/2 [==============================] - 0s 8ms/step - loss: 12.2056 - mae: 12.2056\n",
            "Epoch 8/100\n",
            "2/2 [==============================] - 0s 8ms/step - loss: 9.4554 - mae: 9.4554\n",
            "Epoch 9/100\n",
            "2/2 [==============================] - 0s 8ms/step - loss: 8.7349 - mae: 8.7349\n",
            "Epoch 10/100\n",
            "2/2 [==============================] - 0s 9ms/step - loss: 9.5165 - mae: 9.5165\n",
            "Epoch 11/100\n",
            "2/2 [==============================] - 0s 9ms/step - loss: 10.4462 - mae: 10.4462\n",
            "Epoch 12/100\n",
            "2/2 [==============================] - 0s 9ms/step - loss: 9.2334 - mae: 9.2334\n",
            "Epoch 13/100\n",
            "2/2 [==============================] - 0s 9ms/step - loss: 8.0899 - mae: 8.0899\n",
            "Epoch 14/100\n",
            "2/2 [==============================] - 0s 9ms/step - loss: 8.2210 - mae: 8.2210\n",
            "Epoch 15/100\n",
            "2/2 [==============================] - 0s 8ms/step - loss: 7.9379 - mae: 7.9379\n",
            "Epoch 16/100\n",
            "2/2 [==============================] - 0s 9ms/step - loss: 7.6713 - mae: 7.6713\n",
            "Epoch 17/100\n",
            "2/2 [==============================] - 0s 8ms/step - loss: 7.5954 - mae: 7.5954\n",
            "Epoch 18/100\n",
            "2/2 [==============================] - 0s 7ms/step - loss: 7.2929 - mae: 7.2929\n",
            "Epoch 19/100\n",
            "2/2 [==============================] - 0s 8ms/step - loss: 7.0302 - mae: 7.0302\n",
            "Epoch 20/100\n",
            "2/2 [==============================] - 0s 8ms/step - loss: 6.7652 - mae: 6.7652\n",
            "Epoch 21/100\n",
            "2/2 [==============================] - 0s 9ms/step - loss: 6.7260 - mae: 6.7260\n",
            "Epoch 22/100\n",
            "2/2 [==============================] - 0s 8ms/step - loss: 6.2450 - mae: 6.2450\n",
            "Epoch 23/100\n",
            "2/2 [==============================] - 0s 8ms/step - loss: 6.0616 - mae: 6.0616\n",
            "Epoch 24/100\n",
            "2/2 [==============================] - 0s 9ms/step - loss: 5.7493 - mae: 5.7493\n",
            "Epoch 25/100\n",
            "2/2 [==============================] - 0s 8ms/step - loss: 5.5781 - mae: 5.5781\n",
            "Epoch 26/100\n",
            "2/2 [==============================] - 0s 11ms/step - loss: 5.2328 - mae: 5.2328\n",
            "Epoch 27/100\n",
            "2/2 [==============================] - 0s 8ms/step - loss: 4.9881 - mae: 4.9881\n",
            "Epoch 28/100\n",
            "2/2 [==============================] - 0s 8ms/step - loss: 4.7215 - mae: 4.7215\n",
            "Epoch 29/100\n",
            "2/2 [==============================] - 0s 8ms/step - loss: 4.4387 - mae: 4.4387\n",
            "Epoch 30/100\n",
            "2/2 [==============================] - 0s 7ms/step - loss: 4.1690 - mae: 4.1690\n",
            "Epoch 31/100\n",
            "2/2 [==============================] - 0s 7ms/step - loss: 4.0382 - mae: 4.0382\n",
            "Epoch 32/100\n",
            "2/2 [==============================] - 0s 8ms/step - loss: 3.5607 - mae: 3.5607\n",
            "Epoch 33/100\n",
            "2/2 [==============================] - 0s 9ms/step - loss: 3.2320 - mae: 3.2320\n",
            "Epoch 34/100\n",
            "2/2 [==============================] - 0s 8ms/step - loss: 2.8963 - mae: 2.8963\n",
            "Epoch 35/100\n",
            "2/2 [==============================] - 0s 8ms/step - loss: 2.4946 - mae: 2.4946\n",
            "Epoch 36/100\n",
            "2/2 [==============================] - 0s 8ms/step - loss: 2.1958 - mae: 2.1958\n",
            "Epoch 37/100\n",
            "2/2 [==============================] - 0s 8ms/step - loss: 1.7535 - mae: 1.7535\n",
            "Epoch 38/100\n",
            "2/2 [==============================] - 0s 8ms/step - loss: 1.3486 - mae: 1.3486\n",
            "Epoch 39/100\n",
            "2/2 [==============================] - 0s 11ms/step - loss: 0.9862 - mae: 0.9862\n",
            "Epoch 40/100\n",
            "2/2 [==============================] - 0s 8ms/step - loss: 0.6186 - mae: 0.6186\n",
            "Epoch 41/100\n",
            "2/2 [==============================] - 0s 9ms/step - loss: 1.0925 - mae: 1.0925\n",
            "Epoch 42/100\n",
            "2/2 [==============================] - 0s 8ms/step - loss: 1.7518 - mae: 1.7518\n",
            "Epoch 43/100\n",
            "2/2 [==============================] - 0s 9ms/step - loss: 1.1032 - mae: 1.1032\n",
            "Epoch 44/100\n",
            "2/2 [==============================] - 0s 7ms/step - loss: 1.5044 - mae: 1.5044\n",
            "Epoch 45/100\n",
            "2/2 [==============================] - 0s 13ms/step - loss: 2.2409 - mae: 2.2409\n",
            "Epoch 46/100\n",
            "2/2 [==============================] - 0s 8ms/step - loss: 1.1461 - mae: 1.1461\n",
            "Epoch 47/100\n",
            "2/2 [==============================] - 0s 8ms/step - loss: 1.2554 - mae: 1.2554\n",
            "Epoch 48/100\n",
            "2/2 [==============================] - 0s 8ms/step - loss: 1.5121 - mae: 1.5121\n",
            "Epoch 49/100\n",
            "2/2 [==============================] - 0s 8ms/step - loss: 1.4223 - mae: 1.4223\n",
            "Epoch 50/100\n",
            "2/2 [==============================] - 0s 8ms/step - loss: 0.8414 - mae: 0.8414\n",
            "Epoch 51/100\n",
            "2/2 [==============================] - 0s 8ms/step - loss: 1.6118 - mae: 1.6118\n",
            "Epoch 52/100\n",
            "2/2 [==============================] - 0s 11ms/step - loss: 2.1501 - mae: 2.1501\n",
            "Epoch 53/100\n",
            "2/2 [==============================] - 0s 11ms/step - loss: 1.3618 - mae: 1.3618\n",
            "Epoch 54/100\n",
            "2/2 [==============================] - 0s 8ms/step - loss: 3.4085 - mae: 3.4085\n",
            "Epoch 55/100\n",
            "2/2 [==============================] - 0s 7ms/step - loss: 3.6245 - mae: 3.6245\n",
            "Epoch 56/100\n",
            "2/2 [==============================] - 0s 8ms/step - loss: 1.1550 - mae: 1.1550\n",
            "Epoch 57/100\n",
            "2/2 [==============================] - 0s 8ms/step - loss: 2.8867 - mae: 2.8867\n",
            "Epoch 58/100\n",
            "2/2 [==============================] - 0s 9ms/step - loss: 1.0767 - mae: 1.0767\n",
            "Epoch 59/100\n",
            "2/2 [==============================] - 0s 9ms/step - loss: 3.1012 - mae: 3.1012\n",
            "Epoch 60/100\n",
            "2/2 [==============================] - 0s 9ms/step - loss: 1.3795 - mae: 1.3795\n",
            "Epoch 61/100\n",
            "2/2 [==============================] - 0s 9ms/step - loss: 2.5036 - mae: 2.5036\n",
            "Epoch 62/100\n",
            "2/2 [==============================] - 0s 9ms/step - loss: 1.1938 - mae: 1.1938\n",
            "Epoch 63/100\n",
            "2/2 [==============================] - 0s 8ms/step - loss: 3.0439 - mae: 3.0439\n",
            "Epoch 64/100\n",
            "2/2 [==============================] - 0s 8ms/step - loss: 1.2570 - mae: 1.2570\n",
            "Epoch 65/100\n",
            "2/2 [==============================] - 0s 9ms/step - loss: 1.6982 - mae: 1.6982\n",
            "Epoch 66/100\n",
            "2/2 [==============================] - 0s 9ms/step - loss: 0.3500 - mae: 0.3500\n",
            "Epoch 67/100\n",
            "2/2 [==============================] - 0s 8ms/step - loss: 0.3468 - mae: 0.3468\n",
            "Epoch 68/100\n",
            "2/2 [==============================] - 0s 8ms/step - loss: 0.3540 - mae: 0.3540\n",
            "Epoch 69/100\n",
            "2/2 [==============================] - 0s 8ms/step - loss: 0.2770 - mae: 0.2770\n",
            "Epoch 70/100\n",
            "2/2 [==============================] - 0s 9ms/step - loss: 0.5872 - mae: 0.5872\n",
            "Epoch 71/100\n",
            "2/2 [==============================] - 0s 8ms/step - loss: 2.0039 - mae: 2.0039\n",
            "Epoch 72/100\n",
            "2/2 [==============================] - 0s 8ms/step - loss: 0.3280 - mae: 0.3280\n",
            "Epoch 73/100\n",
            "2/2 [==============================] - 0s 8ms/step - loss: 0.1891 - mae: 0.1891\n",
            "Epoch 74/100\n",
            "2/2 [==============================] - 0s 7ms/step - loss: 0.4597 - mae: 0.4597\n",
            "Epoch 75/100\n",
            "2/2 [==============================] - 0s 10ms/step - loss: 0.6996 - mae: 0.6996\n",
            "Epoch 76/100\n",
            "2/2 [==============================] - 0s 8ms/step - loss: 0.6858 - mae: 0.6858\n",
            "Epoch 77/100\n",
            "2/2 [==============================] - 0s 8ms/step - loss: 0.3951 - mae: 0.3951\n",
            "Epoch 78/100\n",
            "2/2 [==============================] - 0s 8ms/step - loss: 0.6867 - mae: 0.6867\n",
            "Epoch 79/100\n",
            "2/2 [==============================] - 0s 8ms/step - loss: 0.7081 - mae: 0.7081\n",
            "Epoch 80/100\n",
            "2/2 [==============================] - 0s 8ms/step - loss: 1.8862 - mae: 1.8862\n",
            "Epoch 81/100\n",
            "2/2 [==============================] - 0s 8ms/step - loss: 1.0600 - mae: 1.0600\n",
            "Epoch 82/100\n",
            "2/2 [==============================] - 0s 8ms/step - loss: 2.4417 - mae: 2.4417\n",
            "Epoch 83/100\n",
            "2/2 [==============================] - 0s 8ms/step - loss: 2.4458 - mae: 2.4458\n",
            "Epoch 84/100\n",
            "2/2 [==============================] - 0s 8ms/step - loss: 0.7878 - mae: 0.7878\n",
            "Epoch 85/100\n",
            "2/2 [==============================] - 0s 8ms/step - loss: 0.7486 - mae: 0.7486\n",
            "Epoch 86/100\n",
            "2/2 [==============================] - 0s 8ms/step - loss: 0.4714 - mae: 0.4714\n",
            "Epoch 87/100\n",
            "2/2 [==============================] - 0s 8ms/step - loss: 0.5794 - mae: 0.5794\n",
            "Epoch 88/100\n",
            "2/2 [==============================] - 0s 9ms/step - loss: 0.6376 - mae: 0.6376\n",
            "Epoch 89/100\n",
            "2/2 [==============================] - 0s 8ms/step - loss: 2.0525 - mae: 2.0525\n",
            "Epoch 90/100\n",
            "2/2 [==============================] - 0s 11ms/step - loss: 1.3059 - mae: 1.3059\n",
            "Epoch 91/100\n",
            "2/2 [==============================] - 0s 12ms/step - loss: 2.6067 - mae: 2.6067\n",
            "Epoch 92/100\n",
            "2/2 [==============================] - 0s 12ms/step - loss: 3.0036 - mae: 3.0036\n",
            "Epoch 93/100\n",
            "2/2 [==============================] - 0s 9ms/step - loss: 1.1305 - mae: 1.1305\n",
            "Epoch 94/100\n",
            "2/2 [==============================] - 0s 9ms/step - loss: 3.6577 - mae: 3.6577\n",
            "Epoch 95/100\n",
            "2/2 [==============================] - 0s 8ms/step - loss: 2.2935 - mae: 2.2935\n",
            "Epoch 96/100\n",
            "2/2 [==============================] - 0s 9ms/step - loss: 1.9876 - mae: 1.9876\n",
            "Epoch 97/100\n",
            "2/2 [==============================] - 0s 9ms/step - loss: 2.7116 - mae: 2.7116\n",
            "Epoch 98/100\n",
            "2/2 [==============================] - 0s 9ms/step - loss: 1.0406 - mae: 1.0406\n",
            "Epoch 99/100\n",
            "2/2 [==============================] - 0s 8ms/step - loss: 3.5169 - mae: 3.5169\n",
            "Epoch 100/100\n",
            "2/2 [==============================] - 0s 8ms/step - loss: 2.2316 - mae: 2.2316\n"
          ]
        },
        {
          "output_type": "execute_result",
          "data": {
            "text/plain": [
              "<keras.src.callbacks.History at 0x79017dd3cbb0>"
            ]
          },
          "metadata": {},
          "execution_count": 62
        }
      ]
    },
    {
      "cell_type": "code",
      "source": [
        "model.predict([17.0])"
      ],
      "metadata": {
        "id": "COql0qpoEmqw",
        "outputId": "64ee773e-9aa8-4223-c6e4-76d573c5cc1f",
        "colab": {
          "base_uri": "https://localhost:8080/"
        }
      },
      "execution_count": 63,
      "outputs": [
        {
          "output_type": "stream",
          "name": "stdout",
          "text": [
            "1/1 [==============================] - 0s 72ms/step\n"
          ]
        },
        {
          "output_type": "execute_result",
          "data": {
            "text/plain": [
              "array([[26.422806]], dtype=float32)"
            ]
          },
          "metadata": {},
          "execution_count": 63
        }
      ]
    },
    {
      "cell_type": "markdown",
      "source": [
        "## Evaluating a model"
      ],
      "metadata": {
        "id": "IHlhIUEREqLW"
      }
    },
    {
      "cell_type": "markdown",
      "source": [
        "```\n",
        "Build a model -> fit it -> evaluate it -> tweak a model -> fit it -> evaluate it.......\n",
        "```\n",
        "\n"
      ],
      "metadata": {
        "id": "RfxoGpII8nWU"
      }
    },
    {
      "cell_type": "markdown",
      "source": [
        "When it comes to evaluation. we have to do\n",
        "\n",
        "> Visualization\n",
        "\n",
        "It's a good idea to visualize:\n",
        "\n",
        "* The data - what data are we working with ? what does it looks like?\n",
        "* The model itself - what does our model looks like?\n",
        "* The training of model - how does a model perform while it learns?\n",
        "* The prediction of the model - how do the predictions of a model line up against the ground truth."
      ],
      "metadata": {
        "id": "Y3wK9J089RLB"
      }
    },
    {
      "cell_type": "code",
      "source": [
        "# Make a bigger dataset\n",
        "\n",
        "X = tf.range(-100, 100, 4)\n",
        "X"
      ],
      "metadata": {
        "colab": {
          "base_uri": "https://localhost:8080/"
        },
        "id": "Trie4RVl-P6n",
        "outputId": "d95c8b6b-fafc-4875-90ab-9a7de7c8cac1"
      },
      "execution_count": 19,
      "outputs": [
        {
          "output_type": "execute_result",
          "data": {
            "text/plain": [
              "<tf.Tensor: shape=(50,), dtype=int32, numpy=\n",
              "array([-100,  -96,  -92,  -88,  -84,  -80,  -76,  -72,  -68,  -64,  -60,\n",
              "        -56,  -52,  -48,  -44,  -40,  -36,  -32,  -28,  -24,  -20,  -16,\n",
              "        -12,   -8,   -4,    0,    4,    8,   12,   16,   20,   24,   28,\n",
              "         32,   36,   40,   44,   48,   52,   56,   60,   64,   68,   72,\n",
              "         76,   80,   84,   88,   92,   96], dtype=int32)>"
            ]
          },
          "metadata": {},
          "execution_count": 19
        }
      ]
    },
    {
      "cell_type": "code",
      "source": [
        "y = X +10\n",
        "y"
      ],
      "metadata": {
        "colab": {
          "base_uri": "https://localhost:8080/"
        },
        "id": "el6mh5YV-c3l",
        "outputId": "7eea0d32-fe42-4037-f1f7-bdf799ea9a48"
      },
      "execution_count": 20,
      "outputs": [
        {
          "output_type": "execute_result",
          "data": {
            "text/plain": [
              "<tf.Tensor: shape=(50,), dtype=int32, numpy=\n",
              "array([-90, -86, -82, -78, -74, -70, -66, -62, -58, -54, -50, -46, -42,\n",
              "       -38, -34, -30, -26, -22, -18, -14, -10,  -6,  -2,   2,   6,  10,\n",
              "        14,  18,  22,  26,  30,  34,  38,  42,  46,  50,  54,  58,  62,\n",
              "        66,  70,  74,  78,  82,  86,  90,  94,  98, 102, 106], dtype=int32)>"
            ]
          },
          "metadata": {},
          "execution_count": 20
        }
      ]
    },
    {
      "cell_type": "code",
      "source": [
        "# visualize the data\n",
        "import matplotlib.pyplot as plt\n",
        "plt.scatter(X,y)"
      ],
      "metadata": {
        "colab": {
          "base_uri": "https://localhost:8080/",
          "height": 447
        },
        "id": "vbhN48Ep-geM",
        "outputId": "754a3e88-5021-4856-c5ab-a97fc949cf83"
      },
      "execution_count": 21,
      "outputs": [
        {
          "output_type": "execute_result",
          "data": {
            "text/plain": [
              "<matplotlib.collections.PathCollection at 0x79017eeeffd0>"
            ]
          },
          "metadata": {},
          "execution_count": 21
        },
        {
          "output_type": "display_data",
          "data": {
            "text/plain": [
              "<Figure size 640x480 with 1 Axes>"
            ],
            "image/png": "[encoded data removed]"
          },
          "metadata": {}
        }
      ]
    },
    {
      "cell_type": "markdown",
      "source": [
        "### 3 sets\n",
        "\n",
        "* Training set - the model learns from this data, which is around 79-80% of total data\n",
        "* Valdation set - the model gets tuned on this data, which is around 10-15% of total data\n",
        "* Test set - the model gets evaluated on this data, which is typically 10- 15% of total data\n"
      ],
      "metadata": {
        "id": "RUf8fCskADV1"
      }
    },
    {
      "cell_type": "code",
      "source": [
        "X_train = X[:40]\n",
        "X_test = X[40:]"
      ],
      "metadata": {
        "id": "aRCcdgb8_QL5"
      },
      "execution_count": 22,
      "outputs": []
    },
    {
      "cell_type": "code",
      "source": [
        "y_train = y[:40]\n",
        "y_test = y[40:]"
      ],
      "metadata": {
        "id": "_SxUELfs-mpq"
      },
      "execution_count": 23,
      "outputs": []
    },
    {
      "cell_type": "code",
      "source": [
        "len(X_train), len(X_test), len(y_train), len(y_test)"
      ],
      "metadata": {
        "colab": {
          "base_uri": "https://localhost:8080/"
        },
        "id": "c4Sthq3w_GbD",
        "outputId": "95d748d6-ea2f-4f01-ec21-eeb969590210"
      },
      "execution_count": 24,
      "outputs": [
        {
          "output_type": "execute_result",
          "data": {
            "text/plain": [
              "(40, 10, 40, 10)"
            ]
          },
          "metadata": {},
          "execution_count": 24
        }
      ]
    },
    {
      "cell_type": "markdown",
      "source": [
        "### visualizing the data"
      ],
      "metadata": {
        "id": "KHDHZM9wB1MK"
      }
    },
    {
      "cell_type": "code",
      "source": [
        "plt.figure(figsize = (10, 7))\n",
        "\n",
        "plt.scatter(X_train, y_train, c = 'b', label = 'Training data')\n",
        "\n",
        "plt.scatter(X_test, y_test, c = 'g', label = 'Testing data')\n",
        "\n",
        "plt.legend()"
      ],
      "metadata": {
        "colab": {
          "base_uri": "https://localhost:8080/",
          "height": 616
        },
        "id": "B3pf4eFUCK5I",
        "outputId": "5f9c2dc0-ce06-4cef-ae8a-105e26ba7375"
      },
      "execution_count": 25,
      "outputs": [
        {
          "output_type": "execute_result",
          "data": {
            "text/plain": [
              "<matplotlib.legend.Legend at 0x79017dd7b760>"
            ]
          },
          "metadata": {},
          "execution_count": 25
        },
        {
          "output_type": "display_data",
          "data": {
            "text/plain": [
              "<Figure size 1000x700 with 1 Axes>"
            ],
            "image/png": "[encoded data removed]"
          },
          "metadata": {}
        }
      ]
    },
    {
      "cell_type": "code",
      "source": [
        "model = tf.keras.Sequential([\n",
        "    tf.keras.layers.Dense(1)\n",
        "])\n",
        "\n",
        "model.compile(loss = tf.losses.mae,\n",
        "              optimizer = tf.optimizers.SGD(),\n",
        "              metrics = ['mae'])\n",
        "\n",
        "# model.fit(X_train, y_train, epochs = 100)"
      ],
      "metadata": {
        "id": "TbbMrwNfCihh"
      },
      "execution_count": 26,
      "outputs": []
    },
    {
      "cell_type": "code",
      "source": [
        "model.summary()"
      ],
      "metadata": {
        "colab": {
          "base_uri": "https://localhost:8080/",
          "height": 298
        },
        "id": "vV4aj5iJU_hG",
        "outputId": "d0dbe87f-4179-4cfb-cf63-9d85e6e1283d"
      },
      "execution_count": 27,
      "outputs": [
        {
          "output_type": "error",
          "ename": "ValueError",
          "evalue": "This model has not yet been built. Build the model first by calling `build()` or by calling the model on a batch of data.",
          "traceback": [
            "\u001b[0;31m---------------------------------------------------------------------------\u001b[0m",
            "\u001b[0;31mValueError\u001b[0m                                Traceback (most recent call last)",
            "\u001b[0;32m<ipython-input-27-5f15418b3570>\u001b[0m in \u001b[0;36m<cell line: 1>\u001b[0;34m()\u001b[0m\n\u001b[0;32m----> 1\u001b[0;31m \u001b[0mmodel\u001b[0m\u001b[0;34m.\u001b[0m\u001b[0msummary\u001b[0m\u001b[0;34m(\u001b[0m\u001b[0;34m)\u001b[0m\u001b[0;34m\u001b[0m\u001b[0;34m\u001b[0m\u001b[0m\n\u001b[0m",
            "\u001b[0;32m/usr/local/lib/python3.10/dist-packages/keras/src/engine/training.py\u001b[0m in \u001b[0;36msummary\u001b[0;34m(self, line_length, positions, print_fn, expand_nested, show_trainable, layer_range)\u001b[0m\n\u001b[1;32m   3504\u001b[0m         \"\"\"\n\u001b[1;32m   3505\u001b[0m         \u001b[0;32mif\u001b[0m \u001b[0;32mnot\u001b[0m \u001b[0mself\u001b[0m\u001b[0;34m.\u001b[0m\u001b[0mbuilt\u001b[0m\u001b[0;34m:\u001b[0m\u001b[0;34m\u001b[0m\u001b[0;34m\u001b[0m\u001b[0m\n\u001b[0;32m-> 3506\u001b[0;31m             raise ValueError(\n\u001b[0m\u001b[1;32m   3507\u001b[0m                 \u001b[0;34m\"This model has not yet been built. \"\u001b[0m\u001b[0;34m\u001b[0m\u001b[0;34m\u001b[0m\u001b[0m\n\u001b[1;32m   3508\u001b[0m                 \u001b[0;34m\"Build the model first by calling `build()` or by calling \"\u001b[0m\u001b[0;34m\u001b[0m\u001b[0;34m\u001b[0m\u001b[0m\n",
            "\u001b[0;31mValueError\u001b[0m: This model has not yet been built. Build the model first by calling `build()` or by calling the model on a batch of data."
          ]
        }
      ]
    },
    {
      "cell_type": "code",
      "source": [
        " tf.random.set_seed(42)\n",
        "\n",
        " model = tf.keras.Sequential([\n",
        "     tf.keras.layers.Dense(10, input_shape = [1],name='input_layer'),\n",
        "     tf.keras.layers.Dense(1, name = 'output_layer')\n",
        " ], name = \"Model_1\")\n",
        "\n",
        " model.compile(loss=tf.keras.losses.mae,\n",
        "               optimizer = tf.keras.optimizers.SGD(),\n",
        "               metrics = ['mae'])"
      ],
      "metadata": {
        "id": "9CMXOISnVDvO"
      },
      "execution_count": 28,
      "outputs": []
    },
    {
      "cell_type": "code",
      "source": [
        "model.summary()"
      ],
      "metadata": {
        "colab": {
          "base_uri": "https://localhost:8080/"
        },
        "id": "4Uxs1ShgWO46",
        "outputId": "dc723620-064f-4860-c245-1ed486c9be8f"
      },
      "execution_count": 29,
      "outputs": [
        {
          "output_type": "stream",
          "name": "stdout",
          "text": [
            "Model: \"Model_1\"\n",
            "_________________________________________________________________\n",
            " Layer (type)                Output Shape              Param #   \n",
            "=================================================================\n",
            " input_layer (Dense)         (None, 10)                20        \n",
            "                                                                 \n",
            " output_layer (Dense)        (None, 1)                 11        \n",
            "                                                                 \n",
            "=================================================================\n",
            "Total params: 31 (124.00 Byte)\n",
            "Trainable params: 31 (124.00 Byte)\n",
            "Non-trainable params: 0 (0.00 Byte)\n",
            "_________________________________________________________________\n"
          ]
        }
      ]
    },
    {
      "cell_type": "code",
      "source": [
        "model.fit(X_train, y_train, epochs = 100, verbose=0)"
      ],
      "metadata": {
        "colab": {
          "base_uri": "https://localhost:8080/"
        },
        "id": "dSaXMn9vWSQE",
        "outputId": "da102ee8-63a4-4ab8-cdf5-1f5674b3fcec"
      },
      "execution_count": 30,
      "outputs": [
        {
          "output_type": "execute_result",
          "data": {
            "text/plain": [
              "<keras.src.callbacks.History at 0x79017ddf7940>"
            ]
          },
          "metadata": {},
          "execution_count": 30
        }
      ]
    },
    {
      "cell_type": "code",
      "source": [
        "model.summary()"
      ],
      "metadata": {
        "id": "X_BS8v57Xhyy",
        "colab": {
          "base_uri": "https://localhost:8080/"
        },
        "outputId": "76bc8627-3921-4b8e-9a1c-45db7a19fae7"
      },
      "execution_count": 31,
      "outputs": [
        {
          "output_type": "stream",
          "name": "stdout",
          "text": [
            "Model: \"Model_1\"\n",
            "_________________________________________________________________\n",
            " Layer (type)                Output Shape              Param #   \n",
            "=================================================================\n",
            " input_layer (Dense)         (None, 10)                20        \n",
            "                                                                 \n",
            " output_layer (Dense)        (None, 1)                 11        \n",
            "                                                                 \n",
            "=================================================================\n",
            "Total params: 31 (124.00 Byte)\n",
            "Trainable params: 31 (124.00 Byte)\n",
            "Non-trainable params: 0 (0.00 Byte)\n",
            "_________________________________________________________________\n"
          ]
        }
      ]
    },
    {
      "cell_type": "code",
      "source": [
        "from tensorflow.keras.utils import plot_model\n",
        "\n",
        "plot_model(model,show_shapes=True)"
      ],
      "metadata": {
        "colab": {
          "base_uri": "https://localhost:8080/",
          "height": 312
        },
        "id": "w2pFLNoaZZCX",
        "outputId": "2a9082b4-a078-4303-fc14-7c38e437a7b3"
      },
      "execution_count": 32,
      "outputs": [
        {
          "output_type": "execute_result",
          "data": {
            "image/png": "[encoded data removed]",
            "text/plain": [
              "<IPython.core.display.Image object>"
            ]
          },
          "metadata": {},
          "execution_count": 32
        }
      ]
    },
    {
      "cell_type": "markdown",
      "source": [
        "## Visualize our Model's prediction"
      ],
      "metadata": {
        "id": "QOfrhKlXZ3TD"
      }
    },
    {
      "cell_type": "code",
      "source": [
        "y_pred = model.predict(X_test)\n",
        "y_pred"
      ],
      "metadata": {
        "colab": {
          "base_uri": "https://localhost:8080/"
        },
        "id": "XhPdCIXzcIuQ",
        "outputId": "8aa14ecc-9c93-4054-e999-9f26d530e510"
      },
      "execution_count": 64,
      "outputs": [
        {
          "output_type": "stream",
          "name": "stdout",
          "text": [
            "1/1 [==============================] - 0s 55ms/step\n"
          ]
        },
        {
          "output_type": "execute_result",
          "data": {
            "text/plain": [
              "array([[ 68.141975],\n",
              "       [ 72.02283 ],\n",
              "       [ 75.90366 ],\n",
              "       [ 79.78452 ],\n",
              "       [ 83.66538 ],\n",
              "       [ 87.546234],\n",
              "       [ 91.42708 ],\n",
              "       [ 95.30794 ],\n",
              "       [ 99.18879 ],\n",
              "       [103.06963 ]], dtype=float32)"
            ]
          },
          "metadata": {},
          "execution_count": 64
        }
      ]
    },
    {
      "cell_type": "code",
      "source": [
        "y_test"
      ],
      "metadata": {
        "colab": {
          "base_uri": "https://localhost:8080/"
        },
        "id": "foXoJMz6ceBl",
        "outputId": "7976fc7c-9c63-432e-fa2c-6ff787786004"
      },
      "execution_count": 65,
      "outputs": [
        {
          "output_type": "execute_result",
          "data": {
            "text/plain": [
              "<tf.Tensor: shape=(10,), dtype=int32, numpy=array([ 70,  74,  78,  82,  86,  90,  94,  98, 102, 106], dtype=int32)>"
            ]
          },
          "metadata": {},
          "execution_count": 65
        }
      ]
    },
    {
      "cell_type": "code",
      "source": [
        "model.predict([17.0])"
      ],
      "metadata": {
        "colab": {
          "base_uri": "https://localhost:8080/"
        },
        "id": "zqscbJJ1cjGs",
        "outputId": "597b156e-f423-40d0-83f8-791b1d82c754"
      },
      "execution_count": 66,
      "outputs": [
        {
          "output_type": "stream",
          "name": "stdout",
          "text": [
            "1/1 [==============================] - 0s 44ms/step\n"
          ]
        },
        {
          "output_type": "execute_result",
          "data": {
            "text/plain": [
              "array([[26.422806]], dtype=float32)"
            ]
          },
          "metadata": {},
          "execution_count": 66
        }
      ]
    },
    {
      "cell_type": "code",
      "source": [
        "def plot_predictions(train_data = X_train,\n",
        "                     train_labels = y_train,\n",
        "                     test_data = X_test,\n",
        "                     test_labels = y_test,\n",
        "                     predictions = y_pred):\n",
        "  plt.figure(figsize=(10,7))\n",
        "\n",
        "  plt.scatter(train_data, train_labels, c= \"b\", label = \"training Data\")\n",
        "\n",
        "  plt.scatter(test_data, test_labels, c = 'g', label = \"testing Data\")\n",
        "\n",
        "  plt.scatter(test_data, predictions, c = 'r', label = \"Predictions\")\n",
        "\n",
        "  plt.legend"
      ],
      "metadata": {
        "id": "TgTy5o6zdLCc"
      },
      "execution_count": 67,
      "outputs": []
    },
    {
      "cell_type": "code",
      "source": [
        "plot_predictions()"
      ],
      "metadata": {
        "colab": {
          "base_uri": "https://localhost:8080/",
          "height": 599
        },
        "id": "HcYzUSdceFOQ",
        "outputId": "e714d5b3-4441-4adb-a1aa-8f1ad510fafc"
      },
      "execution_count": 68,
      "outputs": [
        {
          "output_type": "display_data",
          "data": {
            "text/plain": [
              "<Figure size 1000x700 with 1 Axes>"
            ],
            "image/png": "[encoded data removed]"
          },
          "metadata": {}
        }
      ]
    },
    {
      "cell_type": "markdown",
      "source": [
        "### Evaluating using regression evaluation metrics"
      ],
      "metadata": {
        "id": "Zb1r38p5eTgs"
      }
    },
    {
      "cell_type": "code",
      "source": [
        "model.evaluate(X_test,y_test)"
      ],
      "metadata": {
        "colab": {
          "base_uri": "https://localhost:8080/"
        },
        "id": "3sFdPnIWe4gq",
        "outputId": "f6e7e697-9473-42f9-e6c3-31595b1d7245"
      },
      "execution_count": 38,
      "outputs": [
        {
          "output_type": "stream",
          "name": "stdout",
          "text": [
            "1/1 [==============================] - 0s 149ms/step - loss: 10.2630 - mae: 10.2630\n"
          ]
        },
        {
          "output_type": "execute_result",
          "data": {
            "text/plain": [
              "[10.26298713684082, 10.26298713684082]"
            ]
          },
          "metadata": {},
          "execution_count": 38
        }
      ]
    },
    {
      "cell_type": "code",
      "source": [
        "# Ca;culate the mean absolute error\n",
        "\n",
        "mae = tf.metrics.mean_absolute_error(y_true= y_test,\n",
        "                                     y_pred = y_pred)\n",
        "mae"
      ],
      "metadata": {
        "id": "05XUVNR7f1xi",
        "colab": {
          "base_uri": "https://localhost:8080/"
        },
        "outputId": "dd374561-760e-4b3c-f2aa-a23eb1eb4d8a"
      },
      "execution_count": 39,
      "outputs": [
        {
          "output_type": "execute_result",
          "data": {
            "text/plain": [
              "<tf.Tensor: shape=(10,), dtype=float32, numpy=\n",
              "array([13.604431, 11.223368, 10.021889, 10.167905, 11.515399, 14.042488,\n",
              "       17.749157, 22.635422, 27.584387, 32.53337 ], dtype=float32)>"
            ]
          },
          "metadata": {},
          "execution_count": 39
        }
      ]
    },
    {
      "cell_type": "code",
      "source": [
        "tf.constant(y_pred)"
      ],
      "metadata": {
        "colab": {
          "base_uri": "https://localhost:8080/"
        },
        "id": "7QjlPas9gRnT",
        "outputId": "9577bb2b-a708-4f6b-c44d-add7cac09ec7"
      },
      "execution_count": 40,
      "outputs": [
        {
          "output_type": "execute_result",
          "data": {
            "text/plain": [
              "<tf.Tensor: shape=(10, 1), dtype=float32, numpy=\n",
              "array([[ 75.992615],\n",
              "       [ 80.94158 ],\n",
              "       [ 85.89056 ],\n",
              "       [ 90.83952 ],\n",
              "       [ 95.7885  ],\n",
              "       [100.73748 ],\n",
              "       [105.68645 ],\n",
              "       [110.63542 ],\n",
              "       [115.58439 ],\n",
              "       [120.53337 ]], dtype=float32)>"
            ]
          },
          "metadata": {},
          "execution_count": 40
        }
      ]
    },
    {
      "cell_type": "code",
      "source": [
        "y_test"
      ],
      "metadata": {
        "colab": {
          "base_uri": "https://localhost:8080/"
        },
        "id": "tAo6idKrgoM9",
        "outputId": "f074cd00-c071-4088-de95-b3a1686a3e9b"
      },
      "execution_count": 41,
      "outputs": [
        {
          "output_type": "execute_result",
          "data": {
            "text/plain": [
              "<tf.Tensor: shape=(10,), dtype=int32, numpy=array([ 70,  74,  78,  82,  86,  90,  94,  98, 102, 106], dtype=int32)>"
            ]
          },
          "metadata": {},
          "execution_count": 41
        }
      ]
    },
    {
      "cell_type": "code",
      "source": [
        "tf.squeeze(y_pred)"
      ],
      "metadata": {
        "colab": {
          "base_uri": "https://localhost:8080/"
        },
        "id": "pdowTaW-g2VD",
        "outputId": "6bdd758d-e10e-4256-ed41-f58f51db92d6"
      },
      "execution_count": 42,
      "outputs": [
        {
          "output_type": "execute_result",
          "data": {
            "text/plain": [
              "<tf.Tensor: shape=(10,), dtype=float32, numpy=\n",
              "array([ 75.992615,  80.94158 ,  85.89056 ,  90.83952 ,  95.7885  ,\n",
              "       100.73748 , 105.68645 , 110.63542 , 115.58439 , 120.53337 ],\n",
              "      dtype=float32)>"
            ]
          },
          "metadata": {},
          "execution_count": 42
        }
      ]
    },
    {
      "cell_type": "code",
      "source": [
        "mae = tf.metrics.mean_absolute_error(y_true=y_test,\n",
        "                                     y_pred=tf.squeeze(y_pred))\n",
        "mae"
      ],
      "metadata": {
        "colab": {
          "base_uri": "https://localhost:8080/"
        },
        "id": "1gNXLeiug7rv",
        "outputId": "d1289de6-8149-4036-9469-5773c1a03def"
      },
      "execution_count": 43,
      "outputs": [
        {
          "output_type": "execute_result",
          "data": {
            "text/plain": [
              "<tf.Tensor: shape=(), dtype=float32, numpy=10.262988>"
            ]
          },
          "metadata": {},
          "execution_count": 43
        }
      ]
    },
    {
      "cell_type": "code",
      "source": [
        "mse = tf.metrics.mean_squared_error(y_true=y_test,\n",
        "                                     y_pred=tf.squeeze(y_pred))\n",
        "mse"
      ],
      "metadata": {
        "colab": {
          "base_uri": "https://localhost:8080/"
        },
        "id": "K4GPrHEnhOvj",
        "outputId": "6925089f-0414-4e05-8f61-c2824a4f5a2b"
      },
      "execution_count": 44,
      "outputs": [
        {
          "output_type": "execute_result",
          "data": {
            "text/plain": [
              "<tf.Tensor: shape=(), dtype=float32, numpy=112.75846>"
            ]
          },
          "metadata": {},
          "execution_count": 44
        }
      ]
    },
    {
      "cell_type": "code",
      "source": [
        "def MAE(y_true, y_pred):\n",
        "  return tf.metrics.mean_absolute_error(y_true=y_true,\n",
        "                                        y_pred=tf.squeeze(y_pred))\n",
        "\n",
        "def MSE(y_true, y_pred):\n",
        "  return tf.metrics.mean_squared_error(y_true=y_true,\n",
        "                                       y_pred=tf.squeeze(y_pred))"
      ],
      "metadata": {
        "id": "rcsMKkVohb2n"
      },
      "execution_count": 49,
      "outputs": []
    },
    {
      "cell_type": "markdown",
      "source": [
        "### Model Improvement\n",
        "\n",
        "1. Get more Data\n",
        "2. Make model Larger.\n",
        "3. Train for Longer"
      ],
      "metadata": {
        "id": "HuNMTWWNiE6j"
      }
    },
    {
      "cell_type": "code",
      "source": [
        "X_train, y_train"
      ],
      "metadata": {
        "colab": {
          "base_uri": "https://localhost:8080/"
        },
        "id": "iZMRmTGr3I0J",
        "outputId": "fc273563-f0e5-4d2b-a0a5-68d8dfdfaa29"
      },
      "execution_count": 46,
      "outputs": [
        {
          "output_type": "execute_result",
          "data": {
            "text/plain": [
              "(<tf.Tensor: shape=(40,), dtype=int32, numpy=\n",
              " array([-100,  -96,  -92,  -88,  -84,  -80,  -76,  -72,  -68,  -64,  -60,\n",
              "         -56,  -52,  -48,  -44,  -40,  -36,  -32,  -28,  -24,  -20,  -16,\n",
              "         -12,   -8,   -4,    0,    4,    8,   12,   16,   20,   24,   28,\n",
              "          32,   36,   40,   44,   48,   52,   56], dtype=int32)>,\n",
              " <tf.Tensor: shape=(40,), dtype=int32, numpy=\n",
              " array([-90, -86, -82, -78, -74, -70, -66, -62, -58, -54, -50, -46, -42,\n",
              "        -38, -34, -30, -26, -22, -18, -14, -10,  -6,  -2,   2,   6,  10,\n",
              "         14,  18,  22,  26,  30,  34,  38,  42,  46,  50,  54,  58,  62,\n",
              "         66], dtype=int32)>)"
            ]
          },
          "metadata": {},
          "execution_count": 46
        }
      ]
    },
    {
      "cell_type": "markdown",
      "source": [
        "3 modelling Experiments\n",
        "\n",
        "1. `model_1` = same as the original model, 1 layer, trained for 100 epochs.\n",
        "2. `model_2` = 2 layers, trained for 100 epochs.\n",
        "3. `model_3` = 2 layers, trained for 500 epochs"
      ],
      "metadata": {
        "id": "TAt80pwE3dIP"
      }
    },
    {
      "cell_type": "code",
      "source": [
        "tf.random.set_seed(42)\n",
        "\n",
        "model_1 = tf.keras.Sequential([\n",
        "    tf.keras.layers.Dense(1)\n",
        "])\n",
        "\n",
        "model_1.compile(loss = tf.keras.losses.mae,\n",
        "                optimizer = tf.keras.optimizers.SGD(),\n",
        "                metrics=['mae'])\n",
        "\n",
        "model_1.fit(tf.expand_dims(X_train, axis = -1), y_train, epochs = 100)"
      ],
      "metadata": {
        "colab": {
          "base_uri": "https://localhost:8080/"
        },
        "id": "vUdrsntH4AhB",
        "outputId": "6f5823a9-7a86-430a-931c-e3dfc24c5c36"
      },
      "execution_count": 51,
      "outputs": [
        {
          "output_type": "stream",
          "name": "stdout",
          "text": [
            "Epoch 1/100\n",
            "2/2 [==============================] - 1s 16ms/step - loss: 54.3983 - mae: 54.3983\n",
            "Epoch 2/100\n",
            "2/2 [==============================] - 0s 7ms/step - loss: 20.4146 - mae: 20.4146\n",
            "Epoch 3/100\n",
            "2/2 [==============================] - 0s 8ms/step - loss: 7.9981 - mae: 7.9981\n",
            "Epoch 4/100\n",
            "2/2 [==============================] - 0s 7ms/step - loss: 7.9956 - mae: 7.9956\n",
            "Epoch 5/100\n",
            "2/2 [==============================] - 0s 8ms/step - loss: 10.1942 - mae: 10.1942\n",
            "Epoch 6/100\n",
            "2/2 [==============================] - 0s 16ms/step - loss: 9.4554 - mae: 9.4554\n",
            "Epoch 7/100\n",
            "2/2 [==============================] - 0s 12ms/step - loss: 8.5929 - mae: 8.5929\n",
            "Epoch 8/100\n",
            "2/2 [==============================] - 0s 9ms/step - loss: 9.0571 - mae: 9.0571\n",
            "Epoch 9/100\n",
            "2/2 [==============================] - 0s 10ms/step - loss: 18.7866 - mae: 18.7866\n",
            "Epoch 10/100\n",
            "2/2 [==============================] - 0s 10ms/step - loss: 10.1419 - mae: 10.1419\n",
            "Epoch 11/100\n",
            "2/2 [==============================] - 0s 9ms/step - loss: 8.4158 - mae: 8.4158\n",
            "Epoch 12/100\n",
            "2/2 [==============================] - 0s 10ms/step - loss: 10.6883 - mae: 10.6883\n",
            "Epoch 13/100\n",
            "2/2 [==============================] - 0s 9ms/step - loss: 9.8146 - mae: 9.8146\n",
            "Epoch 14/100\n",
            "2/2 [==============================] - 0s 9ms/step - loss: 16.0459 - mae: 16.0459\n",
            "Epoch 15/100\n",
            "2/2 [==============================] - 0s 9ms/step - loss: 11.3934 - mae: 11.3934\n",
            "Epoch 16/100\n",
            "2/2 [==============================] - 0s 7ms/step - loss: 8.5570 - mae: 8.5570\n",
            "Epoch 17/100\n",
            "2/2 [==============================] - 0s 8ms/step - loss: 13.6629 - mae: 13.6629\n",
            "Epoch 18/100\n",
            "2/2 [==============================] - 0s 7ms/step - loss: 11.4950 - mae: 11.4950\n",
            "Epoch 19/100\n",
            "2/2 [==============================] - 0s 8ms/step - loss: 17.8990 - mae: 17.8990\n",
            "Epoch 20/100\n",
            "2/2 [==============================] - 0s 8ms/step - loss: 15.0337 - mae: 15.0337\n",
            "Epoch 21/100\n",
            "2/2 [==============================] - 0s 9ms/step - loss: 10.9019 - mae: 10.9019\n",
            "Epoch 22/100\n",
            "2/2 [==============================] - 0s 8ms/step - loss: 8.6588 - mae: 8.6588\n",
            "Epoch 23/100\n",
            "2/2 [==============================] - 0s 10ms/step - loss: 9.6848 - mae: 9.6848\n",
            "Epoch 24/100\n",
            "2/2 [==============================] - 0s 9ms/step - loss: 8.5887 - mae: 8.5887\n",
            "Epoch 25/100\n",
            "2/2 [==============================] - 0s 8ms/step - loss: 11.5821 - mae: 11.5821\n",
            "Epoch 26/100\n",
            "2/2 [==============================] - 0s 9ms/step - loss: 15.1698 - mae: 15.1698\n",
            "Epoch 27/100\n",
            "2/2 [==============================] - 0s 9ms/step - loss: 12.0578 - mae: 12.0578\n",
            "Epoch 28/100\n",
            "2/2 [==============================] - 0s 9ms/step - loss: 13.3506 - mae: 13.3506\n",
            "Epoch 29/100\n",
            "2/2 [==============================] - 0s 9ms/step - loss: 9.6096 - mae: 9.6096\n",
            "Epoch 30/100\n",
            "2/2 [==============================] - 0s 15ms/step - loss: 17.1311 - mae: 17.1311\n",
            "Epoch 31/100\n",
            "2/2 [==============================] - 0s 10ms/step - loss: 22.9330 - mae: 22.9330\n",
            "Epoch 32/100\n",
            "2/2 [==============================] - 0s 9ms/step - loss: 7.9254 - mae: 7.9254\n",
            "Epoch 33/100\n",
            "2/2 [==============================] - 0s 9ms/step - loss: 14.1044 - mae: 14.1044\n",
            "Epoch 34/100\n",
            "2/2 [==============================] - 0s 9ms/step - loss: 12.3419 - mae: 12.3419\n",
            "Epoch 35/100\n",
            "2/2 [==============================] - 0s 10ms/step - loss: 8.2832 - mae: 8.2832\n",
            "Epoch 36/100\n",
            "2/2 [==============================] - 0s 9ms/step - loss: 10.5134 - mae: 10.5134\n",
            "Epoch 37/100\n",
            "2/2 [==============================] - 0s 9ms/step - loss: 10.1539 - mae: 10.1539\n",
            "Epoch 38/100\n",
            "2/2 [==============================] - 0s 9ms/step - loss: 11.3625 - mae: 11.3625\n",
            "Epoch 39/100\n",
            "2/2 [==============================] - 0s 10ms/step - loss: 14.7278 - mae: 14.7278\n",
            "Epoch 40/100\n",
            "2/2 [==============================] - 0s 10ms/step - loss: 12.8584 - mae: 12.8584\n",
            "Epoch 41/100\n",
            "2/2 [==============================] - 0s 9ms/step - loss: 9.2443 - mae: 9.2443\n",
            "Epoch 42/100\n",
            "2/2 [==============================] - 0s 10ms/step - loss: 11.0376 - mae: 11.0376\n",
            "Epoch 43/100\n",
            "2/2 [==============================] - 0s 9ms/step - loss: 8.3471 - mae: 8.3471\n",
            "Epoch 44/100\n",
            "2/2 [==============================] - 0s 10ms/step - loss: 13.0962 - mae: 13.0962\n",
            "Epoch 45/100\n",
            "2/2 [==============================] - 0s 10ms/step - loss: 13.6439 - mae: 13.6439\n",
            "Epoch 46/100\n",
            "2/2 [==============================] - 0s 12ms/step - loss: 8.2727 - mae: 8.2727\n",
            "Epoch 47/100\n",
            "2/2 [==============================] - 0s 9ms/step - loss: 8.7506 - mae: 8.7506\n",
            "Epoch 48/100\n",
            "2/2 [==============================] - 0s 9ms/step - loss: 10.0566 - mae: 10.0566\n",
            "Epoch 49/100\n",
            "2/2 [==============================] - 0s 9ms/step - loss: 8.5360 - mae: 8.5360\n",
            "Epoch 50/100\n",
            "2/2 [==============================] - 0s 9ms/step - loss: 9.0447 - mae: 9.0447\n",
            "Epoch 51/100\n",
            "2/2 [==============================] - 0s 10ms/step - loss: 9.3906 - mae: 9.3906\n",
            "Epoch 52/100\n",
            "2/2 [==============================] - 0s 9ms/step - loss: 14.0613 - mae: 14.0613\n",
            "Epoch 53/100\n",
            "2/2 [==============================] - 0s 9ms/step - loss: 15.4024 - mae: 15.4024\n",
            "Epoch 54/100\n",
            "2/2 [==============================] - 0s 11ms/step - loss: 10.9123 - mae: 10.9123\n",
            "Epoch 55/100\n",
            "2/2 [==============================] - 0s 12ms/step - loss: 15.4348 - mae: 15.4348\n",
            "Epoch 56/100\n",
            "2/2 [==============================] - 0s 10ms/step - loss: 9.1298 - mae: 9.1298\n",
            "Epoch 57/100\n",
            "2/2 [==============================] - 0s 7ms/step - loss: 9.7083 - mae: 9.7083\n",
            "Epoch 58/100\n",
            "2/2 [==============================] - 0s 15ms/step - loss: 9.0139 - mae: 9.0139\n",
            "Epoch 59/100\n",
            "2/2 [==============================] - 0s 10ms/step - loss: 10.2485 - mae: 10.2485\n",
            "Epoch 60/100\n",
            "2/2 [==============================] - 0s 11ms/step - loss: 8.1782 - mae: 8.1782\n",
            "Epoch 61/100\n",
            "2/2 [==============================] - 0s 12ms/step - loss: 10.0452 - mae: 10.0452\n",
            "Epoch 62/100\n",
            "2/2 [==============================] - 0s 9ms/step - loss: 7.0468 - mae: 7.0468\n",
            "Epoch 63/100\n",
            "2/2 [==============================] - 0s 13ms/step - loss: 12.6830 - mae: 12.6830\n",
            "Epoch 64/100\n",
            "2/2 [==============================] - 0s 10ms/step - loss: 12.6259 - mae: 12.6259\n",
            "Epoch 65/100\n",
            "2/2 [==============================] - 0s 10ms/step - loss: 9.4502 - mae: 9.4502\n",
            "Epoch 66/100\n",
            "2/2 [==============================] - 0s 10ms/step - loss: 11.5150 - mae: 11.5150\n",
            "Epoch 67/100\n",
            "2/2 [==============================] - 0s 10ms/step - loss: 8.0479 - mae: 8.0479\n",
            "Epoch 68/100\n",
            "2/2 [==============================] - 0s 9ms/step - loss: 8.5759 - mae: 8.5759\n",
            "Epoch 69/100\n",
            "2/2 [==============================] - 0s 9ms/step - loss: 12.2666 - mae: 12.2666\n",
            "Epoch 70/100\n",
            "2/2 [==============================] - 0s 9ms/step - loss: 8.9681 - mae: 8.9681\n",
            "Epoch 71/100\n",
            "2/2 [==============================] - 0s 9ms/step - loss: 9.9435 - mae: 9.9435\n",
            "Epoch 72/100\n",
            "2/2 [==============================] - 0s 9ms/step - loss: 9.9815 - mae: 9.9815\n",
            "Epoch 73/100\n",
            "2/2 [==============================] - 0s 10ms/step - loss: 12.4518 - mae: 12.4518\n",
            "Epoch 74/100\n",
            "2/2 [==============================] - 0s 10ms/step - loss: 10.5743 - mae: 10.5743\n",
            "Epoch 75/100\n",
            "2/2 [==============================] - 0s 9ms/step - loss: 9.6406 - mae: 9.6406\n",
            "Epoch 76/100\n",
            "2/2 [==============================] - 0s 9ms/step - loss: 11.1080 - mae: 11.1080\n",
            "Epoch 77/100\n",
            "2/2 [==============================] - 0s 9ms/step - loss: 8.2885 - mae: 8.2885\n",
            "Epoch 78/100\n",
            "2/2 [==============================] - 0s 10ms/step - loss: 8.9820 - mae: 8.9820\n",
            "Epoch 79/100\n",
            "2/2 [==============================] - 0s 9ms/step - loss: 19.7821 - mae: 19.7821\n",
            "Epoch 80/100\n",
            "2/2 [==============================] - 0s 10ms/step - loss: 17.8297 - mae: 17.8297\n",
            "Epoch 81/100\n",
            "2/2 [==============================] - 0s 10ms/step - loss: 7.0829 - mae: 7.0829\n",
            "Epoch 82/100\n",
            "2/2 [==============================] - 0s 9ms/step - loss: 10.4191 - mae: 10.4191\n",
            "Epoch 83/100\n",
            "2/2 [==============================] - 0s 10ms/step - loss: 9.8435 - mae: 9.8435\n",
            "Epoch 84/100\n",
            "2/2 [==============================] - 0s 10ms/step - loss: 7.9415 - mae: 7.9415\n",
            "Epoch 85/100\n",
            "2/2 [==============================] - 0s 9ms/step - loss: 9.4487 - mae: 9.4487\n",
            "Epoch 86/100\n",
            "2/2 [==============================] - 0s 9ms/step - loss: 9.4937 - mae: 9.4937\n",
            "Epoch 87/100\n",
            "2/2 [==============================] - 0s 8ms/step - loss: 11.4350 - mae: 11.4350\n",
            "Epoch 88/100\n",
            "2/2 [==============================] - 0s 8ms/step - loss: 9.9347 - mae: 9.9347\n",
            "Epoch 89/100\n",
            "2/2 [==============================] - 0s 8ms/step - loss: 7.2592 - mae: 7.2592\n",
            "Epoch 90/100\n",
            "2/2 [==============================] - 0s 9ms/step - loss: 12.6927 - mae: 12.6927\n",
            "Epoch 91/100\n",
            "2/2 [==============================] - 0s 9ms/step - loss: 7.3161 - mae: 7.3161\n",
            "Epoch 92/100\n",
            "2/2 [==============================] - 0s 9ms/step - loss: 7.6790 - mae: 7.6790\n",
            "Epoch 93/100\n",
            "2/2 [==============================] - 0s 9ms/step - loss: 7.1259 - mae: 7.1259\n",
            "Epoch 94/100\n",
            "2/2 [==============================] - 0s 9ms/step - loss: 12.5415 - mae: 12.5415\n",
            "Epoch 95/100\n",
            "2/2 [==============================] - 0s 9ms/step - loss: 9.9184 - mae: 9.9184\n",
            "Epoch 96/100\n",
            "2/2 [==============================] - 0s 10ms/step - loss: 9.1515 - mae: 9.1515\n",
            "Epoch 97/100\n",
            "2/2 [==============================] - 0s 11ms/step - loss: 12.1019 - mae: 12.1019\n",
            "Epoch 98/100\n",
            "2/2 [==============================] - 0s 9ms/step - loss: 9.0641 - mae: 9.0641\n",
            "Epoch 99/100\n",
            "2/2 [==============================] - 0s 10ms/step - loss: 8.5071 - mae: 8.5071\n",
            "Epoch 100/100\n",
            "2/2 [==============================] - 0s 8ms/step - loss: 14.4775 - mae: 14.4775\n"
          ]
        },
        {
          "output_type": "execute_result",
          "data": {
            "text/plain": [
              "<keras.src.callbacks.History at 0x79017c439b10>"
            ]
          },
          "metadata": {},
          "execution_count": 51
        }
      ]
    },
    {
      "cell_type": "code",
      "source": [
        "from tensorflow.keras.utils import plot_model\n",
        "plot_model(model_1,show_shapes=True)"
      ],
      "metadata": {
        "colab": {
          "base_uri": "https://localhost:8080/",
          "height": 201
        },
        "id": "e877YSDJ6p3f",
        "outputId": "1d1736ff-cea8-462b-d042-1c5822ff47c0"
      },
      "execution_count": 55,
      "outputs": [
        {
          "output_type": "execute_result",
          "data": {
            "image/png": "[encoded data removed]",
            "text/plain": [
              "<IPython.core.display.Image object>"
            ]
          },
          "metadata": {},
          "execution_count": 55
        }
      ]
    },
    {
      "cell_type": "code",
      "source": [
        "y_pred_1 = model_1.predict(X_test)\n",
        "y_pred_1"
      ],
      "metadata": {
        "colab": {
          "base_uri": "https://localhost:8080/"
        },
        "id": "WfMEBSs_7KXO",
        "outputId": "041291ee-4230-4afa-9575-16b2f0b4d42c"
      },
      "execution_count": 56,
      "outputs": [
        {
          "output_type": "stream",
          "name": "stdout",
          "text": [
            "1/1 [==============================] - 0s 53ms/step\n"
          ]
        },
        {
          "output_type": "execute_result",
          "data": {
            "text/plain": [
              "array([[44.460377],\n",
              "       [47.338486],\n",
              "       [50.216595],\n",
              "       [53.094704],\n",
              "       [55.972813],\n",
              "       [58.85092 ],\n",
              "       [61.729027],\n",
              "       [64.60713 ],\n",
              "       [67.485245],\n",
              "       [70.36335 ]], dtype=float32)"
            ]
          },
          "metadata": {},
          "execution_count": 56
        }
      ]
    },
    {
      "cell_type": "code",
      "source": [
        "plot_predictions(predictions=y_pred_1)"
      ],
      "metadata": {
        "colab": {
          "base_uri": "https://localhost:8080/",
          "height": 599
        },
        "id": "FeQs11407uG_",
        "outputId": "c353bd9a-146b-4bed-8d57-a31e1c9bdefc"
      },
      "execution_count": 57,
      "outputs": [
        {
          "output_type": "display_data",
          "data": {
            "text/plain": [
              "<Figure size 1000x700 with 1 Axes>"
            ],
            "image/png": "[encoded data removed]"
          },
          "metadata": {}
        }
      ]
    },
    {
      "cell_type": "code",
      "source": [
        "MAE(y_true=y_test, y_pred=y_pred_1), MSE(y_true = y_test, y_pred=y_pred_1)"
      ],
      "metadata": {
        "colab": {
          "base_uri": "https://localhost:8080/"
        },
        "id": "23HNBvit71wV",
        "outputId": "3dbfdc78-3d51-4978-ab8d-5d3a4bc04bc0"
      },
      "execution_count": 59,
      "outputs": [
        {
          "output_type": "execute_result",
          "data": {
            "text/plain": [
              "(<tf.Tensor: shape=(), dtype=float32, numpy=30.588135>,\n",
              " <tf.Tensor: shape=(), dtype=float32, numpy=946.01776>)"
            ]
          },
          "metadata": {},
          "execution_count": 59
        }
      ]
    },
    {
      "cell_type": "markdown",
      "source": [
        "### `model_2`"
      ],
      "metadata": {
        "id": "0DhGHfXs8C0-"
      }
    },
    {
      "cell_type": "code",
      "source": [
        "tf.random.set_seed(42)\n",
        "\n",
        "model_2 = tf.keras.Sequential([\n",
        "    tf.keras.layers.Dense(10,input_shape = [1]),\n",
        "    tf.keras.layers.Dense(1)\n",
        "])\n",
        "\n",
        "model_2.compile(loss = tf.keras.losses.mae,\n",
        "                optimizer = tf.keras.optimizers.SGD(),\n",
        "                metrics = ['mae'])\n",
        "\n",
        "model_2.fit(X_train, y_train, epochs = 100)"
      ],
      "metadata": {
        "colab": {
          "base_uri": "https://localhost:8080/"
        },
        "id": "PtOyu9Iq82e9",
        "outputId": "4949ec9d-adef-49e0-c205-8e3d05018cb7"
      },
      "execution_count": 73,
      "outputs": [
        {
          "output_type": "stream",
          "name": "stdout",
          "text": [
            "Epoch 1/100\n",
            "2/2 [==============================] - 0s 12ms/step - loss: 28.2458 - mae: 28.2458\n",
            "Epoch 2/100\n",
            "2/2 [==============================] - 0s 8ms/step - loss: 25.8165 - mae: 25.8165\n",
            "Epoch 3/100\n",
            "2/2 [==============================] - 0s 8ms/step - loss: 29.6964 - mae: 29.6964\n",
            "Epoch 4/100\n",
            "2/2 [==============================] - 0s 8ms/step - loss: 16.5382 - mae: 16.5382\n",
            "Epoch 5/100\n",
            "2/2 [==============================] - 0s 8ms/step - loss: 18.9823 - mae: 18.9823\n",
            "Epoch 6/100\n",
            "2/2 [==============================] - 0s 7ms/step - loss: 14.2770 - mae: 14.2770\n",
            "Epoch 7/100\n",
            "2/2 [==============================] - 0s 7ms/step - loss: 11.5435 - mae: 11.5435\n",
            "Epoch 8/100\n",
            "2/2 [==============================] - 0s 8ms/step - loss: 11.2599 - mae: 11.2599\n",
            "Epoch 9/100\n",
            "2/2 [==============================] - 0s 7ms/step - loss: 42.2384 - mae: 42.2384\n",
            "Epoch 10/100\n",
            "2/2 [==============================] - 0s 7ms/step - loss: 29.4046 - mae: 29.4046\n",
            "Epoch 11/100\n",
            "2/2 [==============================] - 0s 7ms/step - loss: 7.7104 - mae: 7.7104\n",
            "Epoch 12/100\n",
            "2/2 [==============================] - 0s 7ms/step - loss: 28.6092 - mae: 28.6092\n",
            "Epoch 13/100\n",
            "2/2 [==============================] - 0s 9ms/step - loss: 11.5046 - mae: 11.5046\n",
            "Epoch 14/100\n",
            "2/2 [==============================] - 0s 6ms/step - loss: 30.1923 - mae: 30.1923\n",
            "Epoch 15/100\n",
            "2/2 [==============================] - 0s 7ms/step - loss: 19.9721 - mae: 19.9721\n",
            "Epoch 16/100\n",
            "2/2 [==============================] - 0s 8ms/step - loss: 9.9133 - mae: 9.9133\n",
            "Epoch 17/100\n",
            "2/2 [==============================] - 0s 8ms/step - loss: 17.8245 - mae: 17.8245\n",
            "Epoch 18/100\n",
            "2/2 [==============================] - 0s 9ms/step - loss: 14.2954 - mae: 14.2954\n",
            "Epoch 19/100\n",
            "2/2 [==============================] - 0s 8ms/step - loss: 14.3938 - mae: 14.3938\n",
            "Epoch 20/100\n",
            "2/2 [==============================] - 0s 8ms/step - loss: 10.4539 - mae: 10.4539\n",
            "Epoch 21/100\n",
            "2/2 [==============================] - 0s 7ms/step - loss: 15.1806 - mae: 15.1806\n",
            "Epoch 22/100\n",
            "2/2 [==============================] - 0s 10ms/step - loss: 15.5124 - mae: 15.5124\n",
            "Epoch 23/100\n",
            "2/2 [==============================] - 0s 8ms/step - loss: 9.2476 - mae: 9.2476\n",
            "Epoch 24/100\n",
            "2/2 [==============================] - 0s 7ms/step - loss: 17.2733 - mae: 17.2733\n",
            "Epoch 25/100\n",
            "2/2 [==============================] - 0s 7ms/step - loss: 15.9475 - mae: 15.9475\n",
            "Epoch 26/100\n",
            "2/2 [==============================] - 0s 8ms/step - loss: 20.9451 - mae: 20.9451\n",
            "Epoch 27/100\n",
            "2/2 [==============================] - 0s 10ms/step - loss: 25.9333 - mae: 25.9333\n",
            "Epoch 28/100\n",
            "2/2 [==============================] - 0s 8ms/step - loss: 18.4358 - mae: 18.4358\n",
            "Epoch 29/100\n",
            "2/2 [==============================] - 0s 8ms/step - loss: 9.2493 - mae: 9.2493\n",
            "Epoch 30/100\n",
            "2/2 [==============================] - 0s 7ms/step - loss: 29.0432 - mae: 29.0432\n",
            "Epoch 31/100\n",
            "2/2 [==============================] - 0s 9ms/step - loss: 52.5989 - mae: 52.5989\n",
            "Epoch 32/100\n",
            "2/2 [==============================] - 0s 8ms/step - loss: 11.9170 - mae: 11.9170\n",
            "Epoch 33/100\n",
            "2/2 [==============================] - 0s 7ms/step - loss: 15.4944 - mae: 15.4944\n",
            "Epoch 34/100\n",
            "2/2 [==============================] - 0s 8ms/step - loss: 12.5982 - mae: 12.5982\n",
            "Epoch 35/100\n",
            "2/2 [==============================] - 0s 9ms/step - loss: 9.2008 - mae: 9.2008\n",
            "Epoch 36/100\n",
            "2/2 [==============================] - 0s 7ms/step - loss: 16.4667 - mae: 16.4667\n",
            "Epoch 37/100\n",
            "2/2 [==============================] - 0s 9ms/step - loss: 11.0940 - mae: 11.0940\n",
            "Epoch 38/100\n",
            "2/2 [==============================] - 0s 9ms/step - loss: 18.2237 - mae: 18.2237\n",
            "Epoch 39/100\n",
            "2/2 [==============================] - 0s 8ms/step - loss: 19.1557 - mae: 19.1557\n",
            "Epoch 40/100\n",
            "2/2 [==============================] - 0s 8ms/step - loss: 20.5295 - mae: 20.5295\n",
            "Epoch 41/100\n",
            "2/2 [==============================] - 0s 8ms/step - loss: 14.7978 - mae: 14.7978\n",
            "Epoch 42/100\n",
            "2/2 [==============================] - 0s 8ms/step - loss: 12.1964 - mae: 12.1964\n",
            "Epoch 43/100\n",
            "2/2 [==============================] - 0s 8ms/step - loss: 10.6963 - mae: 10.6963\n",
            "Epoch 44/100\n",
            "2/2 [==============================] - 0s 8ms/step - loss: 32.2137 - mae: 32.2137\n",
            "Epoch 45/100\n",
            "2/2 [==============================] - 0s 8ms/step - loss: 12.4611 - mae: 12.4611\n",
            "Epoch 46/100\n",
            "2/2 [==============================] - 0s 7ms/step - loss: 17.4735 - mae: 17.4735\n",
            "Epoch 47/100\n",
            "2/2 [==============================] - 0s 7ms/step - loss: 15.7763 - mae: 15.7763\n",
            "Epoch 48/100\n",
            "2/2 [==============================] - 0s 8ms/step - loss: 8.3911 - mae: 8.3911\n",
            "Epoch 49/100\n",
            "2/2 [==============================] - 0s 8ms/step - loss: 14.0071 - mae: 14.0071\n",
            "Epoch 50/100\n",
            "2/2 [==============================] - 0s 12ms/step - loss: 12.8444 - mae: 12.8444\n",
            "Epoch 51/100\n",
            "2/2 [==============================] - 0s 8ms/step - loss: 14.8525 - mae: 14.8525\n",
            "Epoch 52/100\n",
            "2/2 [==============================] - 0s 9ms/step - loss: 18.7365 - mae: 18.7365\n",
            "Epoch 53/100\n",
            "2/2 [==============================] - 0s 8ms/step - loss: 24.1969 - mae: 24.1969\n",
            "Epoch 54/100\n",
            "2/2 [==============================] - 0s 9ms/step - loss: 23.1145 - mae: 23.1145\n",
            "Epoch 55/100\n",
            "2/2 [==============================] - 0s 8ms/step - loss: 23.9559 - mae: 23.9559\n",
            "Epoch 56/100\n",
            "2/2 [==============================] - 0s 8ms/step - loss: 11.1431 - mae: 11.1431\n",
            "Epoch 57/100\n",
            "2/2 [==============================] - 0s 10ms/step - loss: 13.0871 - mae: 13.0871\n",
            "Epoch 58/100\n",
            "2/2 [==============================] - 0s 8ms/step - loss: 9.7964 - mae: 9.7964\n",
            "Epoch 59/100\n",
            "2/2 [==============================] - 0s 8ms/step - loss: 13.2643 - mae: 13.2643\n",
            "Epoch 60/100\n",
            "2/2 [==============================] - 0s 8ms/step - loss: 10.8498 - mae: 10.8498\n",
            "Epoch 61/100\n",
            "2/2 [==============================] - 0s 8ms/step - loss: 13.4356 - mae: 13.4356\n",
            "Epoch 62/100\n",
            "2/2 [==============================] - 0s 8ms/step - loss: 17.4165 - mae: 17.4165\n",
            "Epoch 63/100\n",
            "2/2 [==============================] - 0s 8ms/step - loss: 9.1475 - mae: 9.1475\n",
            "Epoch 64/100\n",
            "2/2 [==============================] - 0s 8ms/step - loss: 18.2866 - mae: 18.2866\n",
            "Epoch 65/100\n",
            "2/2 [==============================] - 0s 9ms/step - loss: 10.1018 - mae: 10.1018\n",
            "Epoch 66/100\n",
            "2/2 [==============================] - 0s 7ms/step - loss: 24.1209 - mae: 24.1209\n",
            "Epoch 67/100\n",
            "2/2 [==============================] - 0s 8ms/step - loss: 10.8542 - mae: 10.8542\n",
            "Epoch 68/100\n",
            "2/2 [==============================] - 0s 8ms/step - loss: 10.7468 - mae: 10.7468\n",
            "Epoch 69/100\n",
            "2/2 [==============================] - 0s 8ms/step - loss: 23.0845 - mae: 23.0845\n",
            "Epoch 70/100\n",
            "2/2 [==============================] - 0s 8ms/step - loss: 8.8471 - mae: 8.8471\n",
            "Epoch 71/100\n",
            "2/2 [==============================] - 0s 8ms/step - loss: 16.0778 - mae: 16.0778\n",
            "Epoch 72/100\n",
            "2/2 [==============================] - 0s 10ms/step - loss: 7.7650 - mae: 7.7650\n",
            "Epoch 73/100\n",
            "2/2 [==============================] - 0s 8ms/step - loss: 10.1638 - mae: 10.1638\n",
            "Epoch 74/100\n",
            "2/2 [==============================] - 0s 9ms/step - loss: 28.3493 - mae: 28.3493\n",
            "Epoch 75/100\n",
            "2/2 [==============================] - 0s 10ms/step - loss: 9.9982 - mae: 9.9982\n",
            "Epoch 76/100\n",
            "2/2 [==============================] - 0s 9ms/step - loss: 12.9101 - mae: 12.9101\n",
            "Epoch 77/100\n",
            "2/2 [==============================] - 0s 7ms/step - loss: 17.8384 - mae: 17.8384\n",
            "Epoch 78/100\n",
            "2/2 [==============================] - 0s 8ms/step - loss: 8.9643 - mae: 8.9643\n",
            "Epoch 79/100\n",
            "2/2 [==============================] - 0s 7ms/step - loss: 28.6442 - mae: 28.6442\n",
            "Epoch 80/100\n",
            "2/2 [==============================] - 0s 7ms/step - loss: 30.9698 - mae: 30.9698\n",
            "Epoch 81/100\n",
            "2/2 [==============================] - 0s 7ms/step - loss: 13.3709 - mae: 13.3709\n",
            "Epoch 82/100\n",
            "2/2 [==============================] - 0s 10ms/step - loss: 14.5370 - mae: 14.5370\n",
            "Epoch 83/100\n",
            "2/2 [==============================] - 0s 8ms/step - loss: 18.5641 - mae: 18.5641\n",
            "Epoch 84/100\n",
            "2/2 [==============================] - 0s 9ms/step - loss: 8.8251 - mae: 8.8251\n",
            "Epoch 85/100\n",
            "2/2 [==============================] - 0s 8ms/step - loss: 18.4453 - mae: 18.4453\n",
            "Epoch 86/100\n",
            "2/2 [==============================] - 0s 7ms/step - loss: 22.4911 - mae: 22.4911\n",
            "Epoch 87/100\n",
            "2/2 [==============================] - 0s 7ms/step - loss: 11.3619 - mae: 11.3619\n",
            "Epoch 88/100\n",
            "2/2 [==============================] - 0s 8ms/step - loss: 26.5009 - mae: 26.5009\n",
            "Epoch 89/100\n",
            "2/2 [==============================] - 0s 7ms/step - loss: 9.6482 - mae: 9.6482\n",
            "Epoch 90/100\n",
            "2/2 [==============================] - 0s 7ms/step - loss: 18.6668 - mae: 18.6668\n",
            "Epoch 91/100\n",
            "2/2 [==============================] - 0s 7ms/step - loss: 10.4757 - mae: 10.4757\n",
            "Epoch 92/100\n",
            "2/2 [==============================] - 0s 7ms/step - loss: 17.8905 - mae: 17.8905\n",
            "Epoch 93/100\n",
            "2/2 [==============================] - 0s 11ms/step - loss: 6.5973 - mae: 6.5973\n",
            "Epoch 94/100\n",
            "2/2 [==============================] - 0s 7ms/step - loss: 11.1203 - mae: 11.1203\n",
            "Epoch 95/100\n",
            "2/2 [==============================] - 0s 8ms/step - loss: 24.1974 - mae: 24.1974\n",
            "Epoch 96/100\n",
            "2/2 [==============================] - 0s 7ms/step - loss: 10.7224 - mae: 10.7224\n",
            "Epoch 97/100\n",
            "2/2 [==============================] - 0s 8ms/step - loss: 15.2486 - mae: 15.2486\n",
            "Epoch 98/100\n",
            "2/2 [==============================] - 0s 8ms/step - loss: 8.2505 - mae: 8.2505\n",
            "Epoch 99/100\n",
            "2/2 [==============================] - 0s 8ms/step - loss: 16.0561 - mae: 16.0561\n",
            "Epoch 100/100\n",
            "2/2 [==============================] - 0s 8ms/step - loss: 16.5633 - mae: 16.5633\n"
          ]
        },
        {
          "output_type": "execute_result",
          "data": {
            "text/plain": [
              "<keras.src.callbacks.History at 0x79018c474af0>"
            ]
          },
          "metadata": {},
          "execution_count": 73
        }
      ]
    },
    {
      "cell_type": "code",
      "source": [
        "y_pred_2 = model_2.predict(X_test)\n",
        "plot_predictions(predictions=y_pred_2)"
      ],
      "metadata": {
        "colab": {
          "base_uri": "https://localhost:8080/",
          "height": 616
        },
        "id": "D2NbiFH890TG",
        "outputId": "9a6c28e3-0442-48a8-fe12-5fedb3684d05"
      },
      "execution_count": 74,
      "outputs": [
        {
          "output_type": "stream",
          "name": "stdout",
          "text": [
            "1/1 [==============================] - 0s 60ms/step\n"
          ]
        },
        {
          "output_type": "display_data",
          "data": {
            "text/plain": [
              "<Figure size 1000x700 with 1 Axes>"
            ],
            "image/png": "[encoded data removed]"
          },
          "metadata": {}
        }
      ]
    },
    {
      "cell_type": "code",
      "source": [
        "MAE(y_test, y_pred_2)"
      ],
      "metadata": {
        "colab": {
          "base_uri": "https://localhost:8080/"
        },
        "id": "fxNGMfV1ACAi",
        "outputId": "96231d48-2d5a-48fc-b324-db2b4e026972"
      },
      "execution_count": 75,
      "outputs": [
        {
          "output_type": "execute_result",
          "data": {
            "text/plain": [
              "<tf.Tensor: shape=(), dtype=float32, numpy=4.130744>"
            ]
          },
          "metadata": {},
          "execution_count": 75
        }
      ]
    },
    {
      "cell_type": "code",
      "source": [
        "MSE(y_test, y_pred_2)"
      ],
      "metadata": {
        "colab": {
          "base_uri": "https://localhost:8080/"
        },
        "id": "AKkn2Aj5AVA0",
        "outputId": "863f6e02-6060-44fa-b47c-6332129093d6"
      },
      "execution_count": 76,
      "outputs": [
        {
          "output_type": "execute_result",
          "data": {
            "text/plain": [
              "<tf.Tensor: shape=(), dtype=float32, numpy=20.442411>"
            ]
          },
          "metadata": {},
          "execution_count": 76
        }
      ]
    },
    {
      "cell_type": "markdown",
      "source": [
        "### `model_3`"
      ],
      "metadata": {
        "id": "SB_7t9FpAXyy"
      }
    },
    {
      "cell_type": "code",
      "source": [
        "tf.random.set_seed(42)\n",
        "\n",
        "model_3 = tf.keras.Sequential([\n",
        "    tf.keras.layers.Dense(10,input_shape = [1]),\n",
        "    tf.keras.layers.Dense(1)\n",
        "])\n",
        "\n",
        "model_3.compile(loss = tf.keras.losses.mae,\n",
        "                optimizer = tf.keras.optimizers.SGD(),\n",
        "                metrics = ['mae'])\n",
        "\n",
        "model_3.fit(X_train, y_train, epochs = 500)"
      ],
      "metadata": {
        "colab": {
          "base_uri": "https://localhost:8080/"
        },
        "id": "8fCF4YnCAc4B",
        "outputId": "e9905dba-3578-4ebc-c254-5e6588f77ddb"
      },
      "execution_count": 83,
      "outputs": [
        {
          "output_type": "stream",
          "name": "stdout",
          "text": [
            "Epoch 1/500\n",
            "2/2 [==============================] - 0s 13ms/step - loss: 37.8452 - mae: 37.8452\n",
            "Epoch 2/500\n",
            "2/2 [==============================] - 0s 8ms/step - loss: 23.4083 - mae: 23.4083\n",
            "Epoch 3/500\n",
            "2/2 [==============================] - 0s 12ms/step - loss: 28.7172 - mae: 28.7172\n",
            "Epoch 4/500\n",
            "2/2 [==============================] - 0s 8ms/step - loss: 27.2424 - mae: 27.2424\n",
            "Epoch 5/500\n",
            "2/2 [==============================] - 0s 7ms/step - loss: 14.8671 - mae: 14.8671\n",
            "Epoch 6/500\n",
            "2/2 [==============================] - 0s 8ms/step - loss: 11.8236 - mae: 11.8236\n",
            "Epoch 7/500\n",
            "2/2 [==============================] - 0s 7ms/step - loss: 11.1455 - mae: 11.1455\n",
            "Epoch 8/500\n",
            "2/2 [==============================] - 0s 8ms/step - loss: 11.0704 - mae: 11.0704\n",
            "Epoch 9/500\n",
            "2/2 [==============================] - 0s 7ms/step - loss: 40.2067 - mae: 40.2067\n",
            "Epoch 10/500\n",
            "2/2 [==============================] - 0s 6ms/step - loss: 27.6315 - mae: 27.6315\n",
            "Epoch 11/500\n",
            "2/2 [==============================] - 0s 7ms/step - loss: 10.2477 - mae: 10.2477\n",
            "Epoch 12/500\n",
            "2/2 [==============================] - 0s 7ms/step - loss: 25.3474 - mae: 25.3474\n",
            "Epoch 13/500\n",
            "2/2 [==============================] - 0s 6ms/step - loss: 16.8734 - mae: 16.8734\n",
            "Epoch 14/500\n",
            "2/2 [==============================] - 0s 6ms/step - loss: 25.7049 - mae: 25.7049\n",
            "Epoch 15/500\n",
            "2/2 [==============================] - 0s 8ms/step - loss: 17.5677 - mae: 17.5677\n",
            "Epoch 16/500\n",
            "2/2 [==============================] - 0s 7ms/step - loss: 10.0454 - mae: 10.0454\n",
            "Epoch 17/500\n",
            "2/2 [==============================] - 0s 7ms/step - loss: 18.5791 - mae: 18.5791\n",
            "Epoch 18/500\n",
            "2/2 [==============================] - 0s 7ms/step - loss: 11.7403 - mae: 11.7403\n",
            "Epoch 19/500\n",
            "2/2 [==============================] - 0s 7ms/step - loss: 16.3897 - mae: 16.3897\n",
            "Epoch 20/500\n",
            "2/2 [==============================] - 0s 7ms/step - loss: 8.2479 - mae: 8.2479\n",
            "Epoch 21/500\n",
            "2/2 [==============================] - 0s 7ms/step - loss: 14.4564 - mae: 14.4564\n",
            "Epoch 22/500\n",
            "2/2 [==============================] - 0s 8ms/step - loss: 12.8761 - mae: 12.8761\n",
            "Epoch 23/500\n",
            "2/2 [==============================] - 0s 6ms/step - loss: 15.5084 - mae: 15.5084\n",
            "Epoch 24/500\n",
            "2/2 [==============================] - 0s 7ms/step - loss: 15.3006 - mae: 15.3006\n",
            "Epoch 25/500\n",
            "2/2 [==============================] - 0s 8ms/step - loss: 14.3618 - mae: 14.3618\n",
            "Epoch 26/500\n",
            "2/2 [==============================] - 0s 8ms/step - loss: 19.3891 - mae: 19.3891\n",
            "Epoch 27/500\n",
            "2/2 [==============================] - 0s 7ms/step - loss: 11.4292 - mae: 11.4292\n",
            "Epoch 28/500\n",
            "2/2 [==============================] - 0s 7ms/step - loss: 28.9497 - mae: 28.9497\n",
            "Epoch 29/500\n",
            "2/2 [==============================] - 0s 8ms/step - loss: 9.2499 - mae: 9.2499\n",
            "Epoch 30/500\n",
            "2/2 [==============================] - 0s 8ms/step - loss: 29.7146 - mae: 29.7146\n",
            "Epoch 31/500\n",
            "2/2 [==============================] - 0s 7ms/step - loss: 53.9006 - mae: 53.9006\n",
            "Epoch 32/500\n",
            "2/2 [==============================] - 0s 7ms/step - loss: 9.5401 - mae: 9.5401\n",
            "Epoch 33/500\n",
            "2/2 [==============================] - 0s 7ms/step - loss: 12.1267 - mae: 12.1267\n",
            "Epoch 34/500\n",
            "2/2 [==============================] - 0s 8ms/step - loss: 23.7485 - mae: 23.7485\n",
            "Epoch 35/500\n",
            "2/2 [==============================] - 0s 8ms/step - loss: 12.6443 - mae: 12.6443\n",
            "Epoch 36/500\n",
            "2/2 [==============================] - 0s 8ms/step - loss: 21.5892 - mae: 21.5892\n",
            "Epoch 37/500\n",
            "2/2 [==============================] - 0s 8ms/step - loss: 11.3278 - mae: 11.3278\n",
            "Epoch 38/500\n",
            "2/2 [==============================] - 0s 7ms/step - loss: 13.3764 - mae: 13.3764\n",
            "Epoch 39/500\n",
            "2/2 [==============================] - 0s 8ms/step - loss: 10.7459 - mae: 10.7459\n",
            "Epoch 40/500\n",
            "2/2 [==============================] - 0s 9ms/step - loss: 16.1856 - mae: 16.1856\n",
            "Epoch 41/500\n",
            "2/2 [==============================] - 0s 9ms/step - loss: 12.1844 - mae: 12.1844\n",
            "Epoch 42/500\n",
            "2/2 [==============================] - 0s 7ms/step - loss: 10.2161 - mae: 10.2161\n",
            "Epoch 43/500\n",
            "2/2 [==============================] - 0s 8ms/step - loss: 9.8943 - mae: 9.8943\n",
            "Epoch 44/500\n",
            "2/2 [==============================] - 0s 9ms/step - loss: 31.5655 - mae: 31.5655\n",
            "Epoch 45/500\n",
            "2/2 [==============================] - 0s 7ms/step - loss: 12.2700 - mae: 12.2700\n",
            "Epoch 46/500\n",
            "2/2 [==============================] - 0s 8ms/step - loss: 16.9668 - mae: 16.9668\n",
            "Epoch 47/500\n",
            "2/2 [==============================] - 0s 9ms/step - loss: 15.9551 - mae: 15.9551\n",
            "Epoch 48/500\n",
            "2/2 [==============================] - 0s 9ms/step - loss: 8.8900 - mae: 8.8900\n",
            "Epoch 49/500\n",
            "2/2 [==============================] - 0s 10ms/step - loss: 13.4146 - mae: 13.4146\n",
            "Epoch 50/500\n",
            "2/2 [==============================] - 0s 8ms/step - loss: 14.9619 - mae: 14.9619\n",
            "Epoch 51/500\n",
            "2/2 [==============================] - 0s 8ms/step - loss: 13.5361 - mae: 13.5361\n",
            "Epoch 52/500\n",
            "2/2 [==============================] - 0s 8ms/step - loss: 17.9775 - mae: 17.9775\n",
            "Epoch 53/500\n",
            "2/2 [==============================] - 0s 8ms/step - loss: 22.4792 - mae: 22.4792\n",
            "Epoch 54/500\n",
            "2/2 [==============================] - 0s 8ms/step - loss: 27.5150 - mae: 27.5150\n",
            "Epoch 55/500\n",
            "2/2 [==============================] - 0s 8ms/step - loss: 27.2351 - mae: 27.2351\n",
            "Epoch 56/500\n",
            "2/2 [==============================] - 0s 9ms/step - loss: 11.5954 - mae: 11.5954\n",
            "Epoch 57/500\n",
            "2/2 [==============================] - 0s 9ms/step - loss: 13.7029 - mae: 13.7029\n",
            "Epoch 58/500\n",
            "2/2 [==============================] - 0s 7ms/step - loss: 10.1394 - mae: 10.1394\n",
            "Epoch 59/500\n",
            "2/2 [==============================] - 0s 7ms/step - loss: 14.6631 - mae: 14.6631\n",
            "Epoch 60/500\n",
            "2/2 [==============================] - 0s 8ms/step - loss: 10.0808 - mae: 10.0808\n",
            "Epoch 61/500\n",
            "2/2 [==============================] - 0s 8ms/step - loss: 15.1685 - mae: 15.1685\n",
            "Epoch 62/500\n",
            "2/2 [==============================] - 0s 7ms/step - loss: 12.0524 - mae: 12.0524\n",
            "Epoch 63/500\n",
            "2/2 [==============================] - 0s 12ms/step - loss: 10.3588 - mae: 10.3588\n",
            "Epoch 64/500\n",
            "2/2 [==============================] - 0s 8ms/step - loss: 24.2043 - mae: 24.2043\n",
            "Epoch 65/500\n",
            "2/2 [==============================] - 0s 9ms/step - loss: 10.5376 - mae: 10.5376\n",
            "Epoch 66/500\n",
            "2/2 [==============================] - 0s 11ms/step - loss: 21.2096 - mae: 21.2096\n",
            "Epoch 67/500\n",
            "2/2 [==============================] - 0s 8ms/step - loss: 10.5317 - mae: 10.5317\n",
            "Epoch 68/500\n",
            "2/2 [==============================] - 0s 8ms/step - loss: 14.3698 - mae: 14.3698\n",
            "Epoch 69/500\n",
            "2/2 [==============================] - 0s 7ms/step - loss: 10.6187 - mae: 10.6187\n",
            "Epoch 70/500\n",
            "2/2 [==============================] - 0s 11ms/step - loss: 12.7017 - mae: 12.7017\n",
            "Epoch 71/500\n",
            "2/2 [==============================] - 0s 8ms/step - loss: 13.1275 - mae: 13.1275\n",
            "Epoch 72/500\n",
            "2/2 [==============================] - 0s 7ms/step - loss: 19.6078 - mae: 19.6078\n",
            "Epoch 73/500\n",
            "2/2 [==============================] - 0s 7ms/step - loss: 11.1961 - mae: 11.1961\n",
            "Epoch 74/500\n",
            "2/2 [==============================] - 0s 7ms/step - loss: 21.8746 - mae: 21.8746\n",
            "Epoch 75/500\n",
            "2/2 [==============================] - 0s 7ms/step - loss: 7.2054 - mae: 7.2054\n",
            "Epoch 76/500\n",
            "2/2 [==============================] - 0s 7ms/step - loss: 9.4276 - mae: 9.4276\n",
            "Epoch 77/500\n",
            "2/2 [==============================] - 0s 7ms/step - loss: 22.0695 - mae: 22.0695\n",
            "Epoch 78/500\n",
            "2/2 [==============================] - 0s 7ms/step - loss: 17.6620 - mae: 17.6620\n",
            "Epoch 79/500\n",
            "2/2 [==============================] - 0s 7ms/step - loss: 14.8402 - mae: 14.8402\n",
            "Epoch 80/500\n",
            "2/2 [==============================] - 0s 8ms/step - loss: 25.1304 - mae: 25.1304\n",
            "Epoch 81/500\n",
            "2/2 [==============================] - 0s 8ms/step - loss: 10.9110 - mae: 10.9110\n",
            "Epoch 82/500\n",
            "2/2 [==============================] - 0s 7ms/step - loss: 12.7615 - mae: 12.7615\n",
            "Epoch 83/500\n",
            "2/2 [==============================] - 0s 8ms/step - loss: 17.5394 - mae: 17.5394\n",
            "Epoch 84/500\n",
            "2/2 [==============================] - 0s 8ms/step - loss: 7.2953 - mae: 7.2953\n",
            "Epoch 85/500\n",
            "2/2 [==============================] - 0s 8ms/step - loss: 15.0587 - mae: 15.0587\n",
            "Epoch 86/500\n",
            "2/2 [==============================] - 0s 7ms/step - loss: 15.3630 - mae: 15.3630\n",
            "Epoch 87/500\n",
            "2/2 [==============================] - 0s 7ms/step - loss: 19.2598 - mae: 19.2598\n",
            "Epoch 88/500\n",
            "2/2 [==============================] - 0s 6ms/step - loss: 29.4307 - mae: 29.4307\n",
            "Epoch 89/500\n",
            "2/2 [==============================] - 0s 6ms/step - loss: 10.1277 - mae: 10.1277\n",
            "Epoch 90/500\n",
            "2/2 [==============================] - 0s 7ms/step - loss: 21.1947 - mae: 21.1947\n",
            "Epoch 91/500\n",
            "2/2 [==============================] - 0s 8ms/step - loss: 10.5021 - mae: 10.5021\n",
            "Epoch 92/500\n",
            "2/2 [==============================] - 0s 7ms/step - loss: 18.0965 - mae: 18.0965\n",
            "Epoch 93/500\n",
            "2/2 [==============================] - 0s 6ms/step - loss: 6.5528 - mae: 6.5528\n",
            "Epoch 94/500\n",
            "2/2 [==============================] - 0s 7ms/step - loss: 11.1572 - mae: 11.1572\n",
            "Epoch 95/500\n",
            "2/2 [==============================] - 0s 7ms/step - loss: 24.5087 - mae: 24.5087\n",
            "Epoch 96/500\n",
            "2/2 [==============================] - 0s 7ms/step - loss: 10.7641 - mae: 10.7641\n",
            "Epoch 97/500\n",
            "2/2 [==============================] - 0s 8ms/step - loss: 15.4473 - mae: 15.4473\n",
            "Epoch 98/500\n",
            "2/2 [==============================] - 0s 8ms/step - loss: 9.0303 - mae: 9.0303\n",
            "Epoch 99/500\n",
            "2/2 [==============================] - 0s 9ms/step - loss: 10.8524 - mae: 10.8524\n",
            "Epoch 100/500\n",
            "2/2 [==============================] - 0s 8ms/step - loss: 27.0100 - mae: 27.0100\n",
            "Epoch 101/500\n",
            "2/2 [==============================] - 0s 8ms/step - loss: 15.0082 - mae: 15.0082\n",
            "Epoch 102/500\n",
            "2/2 [==============================] - 0s 8ms/step - loss: 10.6068 - mae: 10.6068\n",
            "Epoch 103/500\n",
            "2/2 [==============================] - 0s 8ms/step - loss: 9.1175 - mae: 9.1175\n",
            "Epoch 104/500\n",
            "2/2 [==============================] - 0s 8ms/step - loss: 23.4421 - mae: 23.4421\n",
            "Epoch 105/500\n",
            "2/2 [==============================] - 0s 8ms/step - loss: 10.7119 - mae: 10.7119\n",
            "Epoch 106/500\n",
            "2/2 [==============================] - 0s 8ms/step - loss: 11.1764 - mae: 11.1764\n",
            "Epoch 107/500\n",
            "2/2 [==============================] - 0s 8ms/step - loss: 20.9954 - mae: 20.9954\n",
            "Epoch 108/500\n",
            "2/2 [==============================] - 0s 8ms/step - loss: 6.3220 - mae: 6.3220\n",
            "Epoch 109/500\n",
            "2/2 [==============================] - 0s 8ms/step - loss: 10.4868 - mae: 10.4868\n",
            "Epoch 110/500\n",
            "2/2 [==============================] - 0s 8ms/step - loss: 10.4485 - mae: 10.4485\n",
            "Epoch 111/500\n",
            "2/2 [==============================] - 0s 8ms/step - loss: 16.5201 - mae: 16.5201\n",
            "Epoch 112/500\n",
            "2/2 [==============================] - 0s 8ms/step - loss: 9.4526 - mae: 9.4526\n",
            "Epoch 113/500\n",
            "2/2 [==============================] - 0s 7ms/step - loss: 17.3909 - mae: 17.3909\n",
            "Epoch 114/500\n",
            "2/2 [==============================] - 0s 8ms/step - loss: 16.7586 - mae: 16.7586\n",
            "Epoch 115/500\n",
            "2/2 [==============================] - 0s 7ms/step - loss: 10.9766 - mae: 10.9766\n",
            "Epoch 116/500\n",
            "2/2 [==============================] - 0s 10ms/step - loss: 22.7437 - mae: 22.7437\n",
            "Epoch 117/500\n",
            "2/2 [==============================] - 0s 8ms/step - loss: 9.4416 - mae: 9.4416\n",
            "Epoch 118/500\n",
            "2/2 [==============================] - 0s 7ms/step - loss: 10.4860 - mae: 10.4860\n",
            "Epoch 119/500\n",
            "2/2 [==============================] - 0s 8ms/step - loss: 8.0165 - mae: 8.0165\n",
            "Epoch 120/500\n",
            "2/2 [==============================] - 0s 8ms/step - loss: 38.2984 - mae: 38.2984\n",
            "Epoch 121/500\n",
            "2/2 [==============================] - 0s 9ms/step - loss: 11.3753 - mae: 11.3753\n",
            "Epoch 122/500\n",
            "2/2 [==============================] - 0s 8ms/step - loss: 25.5417 - mae: 25.5417\n",
            "Epoch 123/500\n",
            "2/2 [==============================] - 0s 8ms/step - loss: 29.4839 - mae: 29.4839\n",
            "Epoch 124/500\n",
            "2/2 [==============================] - 0s 8ms/step - loss: 16.9260 - mae: 16.9260\n",
            "Epoch 125/500\n",
            "2/2 [==============================] - 0s 9ms/step - loss: 9.4217 - mae: 9.4217\n",
            "Epoch 126/500\n",
            "2/2 [==============================] - 0s 10ms/step - loss: 9.5129 - mae: 9.5129\n",
            "Epoch 127/500\n",
            "2/2 [==============================] - 0s 10ms/step - loss: 12.1957 - mae: 12.1957\n",
            "Epoch 128/500\n",
            "2/2 [==============================] - 0s 9ms/step - loss: 15.1902 - mae: 15.1902\n",
            "Epoch 129/500\n",
            "2/2 [==============================] - 0s 9ms/step - loss: 9.5957 - mae: 9.5957\n",
            "Epoch 130/500\n",
            "2/2 [==============================] - 0s 9ms/step - loss: 20.5648 - mae: 20.5648\n",
            "Epoch 131/500\n",
            "2/2 [==============================] - 0s 8ms/step - loss: 9.2990 - mae: 9.2990\n",
            "Epoch 132/500\n",
            "2/2 [==============================] - 0s 8ms/step - loss: 16.6322 - mae: 16.6322\n",
            "Epoch 133/500\n",
            "2/2 [==============================] - 0s 7ms/step - loss: 7.6807 - mae: 7.6807\n",
            "Epoch 134/500\n",
            "2/2 [==============================] - 0s 8ms/step - loss: 18.9989 - mae: 18.9989\n",
            "Epoch 135/500\n",
            "2/2 [==============================] - 0s 8ms/step - loss: 10.7029 - mae: 10.7029\n",
            "Epoch 136/500\n",
            "2/2 [==============================] - 0s 7ms/step - loss: 18.6068 - mae: 18.6068\n",
            "Epoch 137/500\n",
            "2/2 [==============================] - 0s 8ms/step - loss: 23.6305 - mae: 23.6305\n",
            "Epoch 138/500\n",
            "2/2 [==============================] - 0s 9ms/step - loss: 9.3332 - mae: 9.3332\n",
            "Epoch 139/500\n",
            "2/2 [==============================] - 0s 8ms/step - loss: 9.0462 - mae: 9.0462\n",
            "Epoch 140/500\n",
            "2/2 [==============================] - 0s 8ms/step - loss: 17.0522 - mae: 17.0522\n",
            "Epoch 141/500\n",
            "2/2 [==============================] - 0s 8ms/step - loss: 8.3322 - mae: 8.3322\n",
            "Epoch 142/500\n",
            "2/2 [==============================] - 0s 8ms/step - loss: 34.1622 - mae: 34.1622\n",
            "Epoch 143/500\n",
            "2/2 [==============================] - 0s 8ms/step - loss: 23.2002 - mae: 23.2002\n",
            "Epoch 144/500\n",
            "2/2 [==============================] - 0s 8ms/step - loss: 10.4786 - mae: 10.4786\n",
            "Epoch 145/500\n",
            "2/2 [==============================] - 0s 8ms/step - loss: 25.8749 - mae: 25.8749\n",
            "Epoch 146/500\n",
            "2/2 [==============================] - 0s 8ms/step - loss: 9.8731 - mae: 9.8731\n",
            "Epoch 147/500\n",
            "2/2 [==============================] - 0s 8ms/step - loss: 15.0267 - mae: 15.0267\n",
            "Epoch 148/500\n",
            "2/2 [==============================] - 0s 8ms/step - loss: 17.4709 - mae: 17.4709\n",
            "Epoch 149/500\n",
            "2/2 [==============================] - 0s 9ms/step - loss: 8.7715 - mae: 8.7715\n",
            "Epoch 150/500\n",
            "2/2 [==============================] - 0s 9ms/step - loss: 7.7395 - mae: 7.7395\n",
            "Epoch 151/500\n",
            "2/2 [==============================] - 0s 8ms/step - loss: 19.8770 - mae: 19.8770\n",
            "Epoch 152/500\n",
            "2/2 [==============================] - 0s 8ms/step - loss: 10.2443 - mae: 10.2443\n",
            "Epoch 153/500\n",
            "2/2 [==============================] - 0s 9ms/step - loss: 29.2381 - mae: 29.2381\n",
            "Epoch 154/500\n",
            "2/2 [==============================] - 0s 8ms/step - loss: 10.6452 - mae: 10.6452\n",
            "Epoch 155/500\n",
            "2/2 [==============================] - 0s 8ms/step - loss: 15.5359 - mae: 15.5359\n",
            "Epoch 156/500\n",
            "2/2 [==============================] - 0s 9ms/step - loss: 17.1952 - mae: 17.1952\n",
            "Epoch 157/500\n",
            "2/2 [==============================] - 0s 8ms/step - loss: 32.3608 - mae: 32.3608\n",
            "Epoch 158/500\n",
            "2/2 [==============================] - 0s 9ms/step - loss: 10.5878 - mae: 10.5878\n",
            "Epoch 159/500\n",
            "2/2 [==============================] - 0s 8ms/step - loss: 8.8605 - mae: 8.8605\n",
            "Epoch 160/500\n",
            "2/2 [==============================] - 0s 14ms/step - loss: 21.7861 - mae: 21.7861\n",
            "Epoch 161/500\n",
            "2/2 [==============================] - 0s 7ms/step - loss: 11.0650 - mae: 11.0650\n",
            "Epoch 162/500\n",
            "2/2 [==============================] - 0s 8ms/step - loss: 21.3226 - mae: 21.3226\n",
            "Epoch 163/500\n",
            "2/2 [==============================] - 0s 8ms/step - loss: 18.8071 - mae: 18.8071\n",
            "Epoch 164/500\n",
            "2/2 [==============================] - 0s 8ms/step - loss: 12.6501 - mae: 12.6501\n",
            "Epoch 165/500\n",
            "2/2 [==============================] - 0s 7ms/step - loss: 12.7451 - mae: 12.7451\n",
            "Epoch 166/500\n",
            "2/2 [==============================] - 0s 8ms/step - loss: 18.9390 - mae: 18.9390\n",
            "Epoch 167/500\n",
            "2/2 [==============================] - 0s 8ms/step - loss: 26.7343 - mae: 26.7343\n",
            "Epoch 168/500\n",
            "2/2 [==============================] - 0s 7ms/step - loss: 9.9660 - mae: 9.9660\n",
            "Epoch 169/500\n",
            "2/2 [==============================] - 0s 12ms/step - loss: 22.9851 - mae: 22.9851\n",
            "Epoch 170/500\n",
            "2/2 [==============================] - 0s 7ms/step - loss: 10.0964 - mae: 10.0964\n",
            "Epoch 171/500\n",
            "2/2 [==============================] - 0s 7ms/step - loss: 17.8759 - mae: 17.8759\n",
            "Epoch 172/500\n",
            "2/2 [==============================] - 0s 8ms/step - loss: 29.2544 - mae: 29.2544\n",
            "Epoch 173/500\n",
            "2/2 [==============================] - 0s 7ms/step - loss: 16.8662 - mae: 16.8662\n",
            "Epoch 174/500\n",
            "2/2 [==============================] - 0s 8ms/step - loss: 11.1880 - mae: 11.1880\n",
            "Epoch 175/500\n",
            "2/2 [==============================] - 0s 7ms/step - loss: 27.4810 - mae: 27.4810\n",
            "Epoch 176/500\n",
            "2/2 [==============================] - 0s 7ms/step - loss: 8.4077 - mae: 8.4077\n",
            "Epoch 177/500\n",
            "2/2 [==============================] - 0s 10ms/step - loss: 9.3705 - mae: 9.3705\n",
            "Epoch 178/500\n",
            "2/2 [==============================] - 0s 7ms/step - loss: 18.4673 - mae: 18.4673\n",
            "Epoch 179/500\n",
            "2/2 [==============================] - 0s 7ms/step - loss: 10.4628 - mae: 10.4628\n",
            "Epoch 180/500\n",
            "2/2 [==============================] - 0s 9ms/step - loss: 7.9789 - mae: 7.9789\n",
            "Epoch 181/500\n",
            "2/2 [==============================] - 0s 9ms/step - loss: 17.6582 - mae: 17.6582\n",
            "Epoch 182/500\n",
            "2/2 [==============================] - 0s 10ms/step - loss: 11.1492 - mae: 11.1492\n",
            "Epoch 183/500\n",
            "2/2 [==============================] - 0s 8ms/step - loss: 12.3356 - mae: 12.3356\n",
            "Epoch 184/500\n",
            "2/2 [==============================] - 0s 9ms/step - loss: 27.1982 - mae: 27.1982\n",
            "Epoch 185/500\n",
            "2/2 [==============================] - 0s 11ms/step - loss: 7.5831 - mae: 7.5831\n",
            "Epoch 186/500\n",
            "2/2 [==============================] - 0s 9ms/step - loss: 16.0094 - mae: 16.0094\n",
            "Epoch 187/500\n",
            "2/2 [==============================] - 0s 10ms/step - loss: 8.5810 - mae: 8.5810\n",
            "Epoch 188/500\n",
            "2/2 [==============================] - 0s 8ms/step - loss: 28.6727 - mae: 28.6727\n",
            "Epoch 189/500\n",
            "2/2 [==============================] - 0s 10ms/step - loss: 13.1915 - mae: 13.1915\n",
            "Epoch 190/500\n",
            "2/2 [==============================] - 0s 8ms/step - loss: 18.3367 - mae: 18.3367\n",
            "Epoch 191/500\n",
            "2/2 [==============================] - 0s 8ms/step - loss: 13.7705 - mae: 13.7705\n",
            "Epoch 192/500\n",
            "2/2 [==============================] - 0s 11ms/step - loss: 13.7330 - mae: 13.7330\n",
            "Epoch 193/500\n",
            "2/2 [==============================] - 0s 10ms/step - loss: 28.6103 - mae: 28.6103\n",
            "Epoch 194/500\n",
            "2/2 [==============================] - 0s 9ms/step - loss: 7.0631 - mae: 7.0631\n",
            "Epoch 195/500\n",
            "2/2 [==============================] - 0s 8ms/step - loss: 7.7948 - mae: 7.7948\n",
            "Epoch 196/500\n",
            "2/2 [==============================] - 0s 10ms/step - loss: 26.0361 - mae: 26.0361\n",
            "Epoch 197/500\n",
            "2/2 [==============================] - 0s 8ms/step - loss: 11.5870 - mae: 11.5870\n",
            "Epoch 198/500\n",
            "2/2 [==============================] - 0s 9ms/step - loss: 18.9189 - mae: 18.9189\n",
            "Epoch 199/500\n",
            "2/2 [==============================] - 0s 9ms/step - loss: 16.7123 - mae: 16.7123\n",
            "Epoch 200/500\n",
            "2/2 [==============================] - 0s 10ms/step - loss: 12.3981 - mae: 12.3981\n",
            "Epoch 201/500\n",
            "2/2 [==============================] - 0s 10ms/step - loss: 7.1150 - mae: 7.1150\n",
            "Epoch 202/500\n",
            "2/2 [==============================] - 0s 9ms/step - loss: 22.9532 - mae: 22.9532\n",
            "Epoch 203/500\n",
            "2/2 [==============================] - 0s 8ms/step - loss: 9.0008 - mae: 9.0008\n",
            "Epoch 204/500\n",
            "2/2 [==============================] - 0s 8ms/step - loss: 18.8992 - mae: 18.8992\n",
            "Epoch 205/500\n",
            "2/2 [==============================] - 0s 8ms/step - loss: 9.4081 - mae: 9.4081\n",
            "Epoch 206/500\n",
            "2/2 [==============================] - 0s 8ms/step - loss: 10.4684 - mae: 10.4684\n",
            "Epoch 207/500\n",
            "2/2 [==============================] - 0s 8ms/step - loss: 21.1385 - mae: 21.1385\n",
            "Epoch 208/500\n",
            "2/2 [==============================] - 0s 8ms/step - loss: 16.5102 - mae: 16.5102\n",
            "Epoch 209/500\n",
            "2/2 [==============================] - 0s 8ms/step - loss: 14.3943 - mae: 14.3943\n",
            "Epoch 210/500\n",
            "2/2 [==============================] - 0s 8ms/step - loss: 17.3733 - mae: 17.3733\n",
            "Epoch 211/500\n",
            "2/2 [==============================] - 0s 8ms/step - loss: 10.2824 - mae: 10.2824\n",
            "Epoch 212/500\n",
            "2/2 [==============================] - 0s 8ms/step - loss: 19.9692 - mae: 19.9692\n",
            "Epoch 213/500\n",
            "2/2 [==============================] - 0s 12ms/step - loss: 15.1297 - mae: 15.1297\n",
            "Epoch 214/500\n",
            "2/2 [==============================] - 0s 8ms/step - loss: 14.6509 - mae: 14.6509\n",
            "Epoch 215/500\n",
            "2/2 [==============================] - 0s 8ms/step - loss: 23.4143 - mae: 23.4143\n",
            "Epoch 216/500\n",
            "2/2 [==============================] - 0s 8ms/step - loss: 12.8840 - mae: 12.8840\n",
            "Epoch 217/500\n",
            "2/2 [==============================] - 0s 8ms/step - loss: 12.0354 - mae: 12.0354\n",
            "Epoch 218/500\n",
            "2/2 [==============================] - 0s 8ms/step - loss: 17.1053 - mae: 17.1053\n",
            "Epoch 219/500\n",
            "2/2 [==============================] - 0s 8ms/step - loss: 9.4999 - mae: 9.4999\n",
            "Epoch 220/500\n",
            "2/2 [==============================] - 0s 8ms/step - loss: 13.8699 - mae: 13.8699\n",
            "Epoch 221/500\n",
            "2/2 [==============================] - 0s 13ms/step - loss: 32.2694 - mae: 32.2694\n",
            "Epoch 222/500\n",
            "2/2 [==============================] - 0s 9ms/step - loss: 11.0691 - mae: 11.0691\n",
            "Epoch 223/500\n",
            "2/2 [==============================] - 0s 8ms/step - loss: 8.6550 - mae: 8.6550\n",
            "Epoch 224/500\n",
            "2/2 [==============================] - 0s 9ms/step - loss: 14.5801 - mae: 14.5801\n",
            "Epoch 225/500\n",
            "2/2 [==============================] - 0s 9ms/step - loss: 16.5935 - mae: 16.5935\n",
            "Epoch 226/500\n",
            "2/2 [==============================] - 0s 8ms/step - loss: 15.8211 - mae: 15.8211\n",
            "Epoch 227/500\n",
            "2/2 [==============================] - 0s 8ms/step - loss: 16.0361 - mae: 16.0361\n",
            "Epoch 228/500\n",
            "2/2 [==============================] - 0s 8ms/step - loss: 13.8215 - mae: 13.8215\n",
            "Epoch 229/500\n",
            "2/2 [==============================] - 0s 8ms/step - loss: 17.9333 - mae: 17.9333\n",
            "Epoch 230/500\n",
            "2/2 [==============================] - 0s 10ms/step - loss: 15.5406 - mae: 15.5406\n",
            "Epoch 231/500\n",
            "2/2 [==============================] - 0s 9ms/step - loss: 21.0275 - mae: 21.0275\n",
            "Epoch 232/500\n",
            "2/2 [==============================] - 0s 10ms/step - loss: 25.6771 - mae: 25.6771\n",
            "Epoch 233/500\n",
            "2/2 [==============================] - 0s 7ms/step - loss: 16.6386 - mae: 16.6386\n",
            "Epoch 234/500\n",
            "2/2 [==============================] - 0s 11ms/step - loss: 7.3932 - mae: 7.3932\n",
            "Epoch 235/500\n",
            "2/2 [==============================] - 0s 8ms/step - loss: 17.2754 - mae: 17.2754\n",
            "Epoch 236/500\n",
            "2/2 [==============================] - 0s 7ms/step - loss: 7.2652 - mae: 7.2652\n",
            "Epoch 237/500\n",
            "2/2 [==============================] - 0s 9ms/step - loss: 9.3798 - mae: 9.3798\n",
            "Epoch 238/500\n",
            "2/2 [==============================] - 0s 7ms/step - loss: 8.2094 - mae: 8.2094\n",
            "Epoch 239/500\n",
            "2/2 [==============================] - 0s 7ms/step - loss: 17.2862 - mae: 17.2862\n",
            "Epoch 240/500\n",
            "2/2 [==============================] - 0s 8ms/step - loss: 8.9953 - mae: 8.9953\n",
            "Epoch 241/500\n",
            "2/2 [==============================] - 0s 8ms/step - loss: 13.3462 - mae: 13.3462\n",
            "Epoch 242/500\n",
            "2/2 [==============================] - 0s 7ms/step - loss: 8.8924 - mae: 8.8924\n",
            "Epoch 243/500\n",
            "2/2 [==============================] - 0s 7ms/step - loss: 19.0299 - mae: 19.0299\n",
            "Epoch 244/500\n",
            "2/2 [==============================] - 0s 6ms/step - loss: 14.0140 - mae: 14.0140\n",
            "Epoch 245/500\n",
            "2/2 [==============================] - 0s 11ms/step - loss: 14.6474 - mae: 14.6474\n",
            "Epoch 246/500\n",
            "2/2 [==============================] - 0s 8ms/step - loss: 15.7833 - mae: 15.7833\n",
            "Epoch 247/500\n",
            "2/2 [==============================] - 0s 9ms/step - loss: 17.6531 - mae: 17.6531\n",
            "Epoch 248/500\n",
            "2/2 [==============================] - 0s 7ms/step - loss: 13.2129 - mae: 13.2129\n",
            "Epoch 249/500\n",
            "2/2 [==============================] - 0s 7ms/step - loss: 14.5025 - mae: 14.5025\n",
            "Epoch 250/500\n",
            "2/2 [==============================] - 0s 8ms/step - loss: 23.2074 - mae: 23.2074\n",
            "Epoch 251/500\n",
            "2/2 [==============================] - 0s 7ms/step - loss: 9.3552 - mae: 9.3552\n",
            "Epoch 252/500\n",
            "2/2 [==============================] - 0s 7ms/step - loss: 36.7462 - mae: 36.7462\n",
            "Epoch 253/500\n",
            "2/2 [==============================] - 0s 7ms/step - loss: 21.8997 - mae: 21.8997\n",
            "Epoch 254/500\n",
            "2/2 [==============================] - 0s 7ms/step - loss: 7.3296 - mae: 7.3296\n",
            "Epoch 255/500\n",
            "2/2 [==============================] - 0s 7ms/step - loss: 24.7634 - mae: 24.7634\n",
            "Epoch 256/500\n",
            "2/2 [==============================] - 0s 7ms/step - loss: 12.4774 - mae: 12.4774\n",
            "Epoch 257/500\n",
            "2/2 [==============================] - 0s 7ms/step - loss: 10.6284 - mae: 10.6284\n",
            "Epoch 258/500\n",
            "2/2 [==============================] - 0s 7ms/step - loss: 14.2573 - mae: 14.2573\n",
            "Epoch 259/500\n",
            "2/2 [==============================] - 0s 8ms/step - loss: 11.2954 - mae: 11.2954\n",
            "Epoch 260/500\n",
            "2/2 [==============================] - 0s 7ms/step - loss: 31.6955 - mae: 31.6955\n",
            "Epoch 261/500\n",
            "2/2 [==============================] - 0s 7ms/step - loss: 11.2291 - mae: 11.2291\n",
            "Epoch 262/500\n",
            "2/2 [==============================] - 0s 7ms/step - loss: 10.0766 - mae: 10.0766\n",
            "Epoch 263/500\n",
            "2/2 [==============================] - 0s 7ms/step - loss: 8.9769 - mae: 8.9769\n",
            "Epoch 264/500\n",
            "2/2 [==============================] - 0s 8ms/step - loss: 21.5499 - mae: 21.5499\n",
            "Epoch 265/500\n",
            "2/2 [==============================] - 0s 8ms/step - loss: 11.4372 - mae: 11.4372\n",
            "Epoch 266/500\n",
            "2/2 [==============================] - 0s 8ms/step - loss: 13.2745 - mae: 13.2745\n",
            "Epoch 267/500\n",
            "2/2 [==============================] - 0s 8ms/step - loss: 11.0769 - mae: 11.0769\n",
            "Epoch 268/500\n",
            "2/2 [==============================] - 0s 9ms/step - loss: 19.1373 - mae: 19.1373\n",
            "Epoch 269/500\n",
            "2/2 [==============================] - 0s 8ms/step - loss: 40.7698 - mae: 40.7698\n",
            "Epoch 270/500\n",
            "2/2 [==============================] - 0s 7ms/step - loss: 12.9668 - mae: 12.9668\n",
            "Epoch 271/500\n",
            "2/2 [==============================] - 0s 8ms/step - loss: 14.7602 - mae: 14.7602\n",
            "Epoch 272/500\n",
            "2/2 [==============================] - 0s 8ms/step - loss: 28.5005 - mae: 28.5005\n",
            "Epoch 273/500\n",
            "2/2 [==============================] - 0s 8ms/step - loss: 7.3894 - mae: 7.3894\n",
            "Epoch 274/500\n",
            "2/2 [==============================] - 0s 8ms/step - loss: 6.3635 - mae: 6.3635\n",
            "Epoch 275/500\n",
            "2/2 [==============================] - 0s 8ms/step - loss: 36.9530 - mae: 36.9530\n",
            "Epoch 276/500\n",
            "2/2 [==============================] - 0s 9ms/step - loss: 8.3023 - mae: 8.3023\n",
            "Epoch 277/500\n",
            "2/2 [==============================] - 0s 9ms/step - loss: 27.7604 - mae: 27.7604\n",
            "Epoch 278/500\n",
            "2/2 [==============================] - 0s 9ms/step - loss: 10.6732 - mae: 10.6732\n",
            "Epoch 279/500\n",
            "2/2 [==============================] - 0s 9ms/step - loss: 16.1047 - mae: 16.1047\n",
            "Epoch 280/500\n",
            "2/2 [==============================] - 0s 9ms/step - loss: 21.2234 - mae: 21.2234\n",
            "Epoch 281/500\n",
            "2/2 [==============================] - 0s 9ms/step - loss: 23.8235 - mae: 23.8235\n",
            "Epoch 282/500\n",
            "2/2 [==============================] - 0s 9ms/step - loss: 8.2785 - mae: 8.2785\n",
            "Epoch 283/500\n",
            "2/2 [==============================] - 0s 9ms/step - loss: 8.4548 - mae: 8.4548\n",
            "Epoch 284/500\n",
            "2/2 [==============================] - 0s 8ms/step - loss: 26.6562 - mae: 26.6562\n",
            "Epoch 285/500\n",
            "2/2 [==============================] - 0s 11ms/step - loss: 14.2525 - mae: 14.2525\n",
            "Epoch 286/500\n",
            "2/2 [==============================] - 0s 8ms/step - loss: 5.2672 - mae: 5.2672\n",
            "Epoch 287/500\n",
            "2/2 [==============================] - 0s 10ms/step - loss: 20.8084 - mae: 20.8084\n",
            "Epoch 288/500\n",
            "2/2 [==============================] - 0s 10ms/step - loss: 27.6445 - mae: 27.6445\n",
            "Epoch 289/500\n",
            "2/2 [==============================] - 0s 9ms/step - loss: 10.4281 - mae: 10.4281\n",
            "Epoch 290/500\n",
            "2/2 [==============================] - 0s 9ms/step - loss: 16.3013 - mae: 16.3013\n",
            "Epoch 291/500\n",
            "2/2 [==============================] - 0s 9ms/step - loss: 16.4873 - mae: 16.4873\n",
            "Epoch 292/500\n",
            "2/2 [==============================] - 0s 9ms/step - loss: 7.4286 - mae: 7.4286\n",
            "Epoch 293/500\n",
            "2/2 [==============================] - 0s 13ms/step - loss: 16.5435 - mae: 16.5435\n",
            "Epoch 294/500\n",
            "2/2 [==============================] - 0s 9ms/step - loss: 25.3268 - mae: 25.3268\n",
            "Epoch 295/500\n",
            "2/2 [==============================] - 0s 18ms/step - loss: 14.5977 - mae: 14.5977\n",
            "Epoch 296/500\n",
            "2/2 [==============================] - 0s 18ms/step - loss: 4.6689 - mae: 4.6689\n",
            "Epoch 297/500\n",
            "2/2 [==============================] - 0s 12ms/step - loss: 7.2882 - mae: 7.2882\n",
            "Epoch 298/500\n",
            "2/2 [==============================] - 0s 9ms/step - loss: 19.6353 - mae: 19.6353\n",
            "Epoch 299/500\n",
            "2/2 [==============================] - 0s 10ms/step - loss: 6.6225 - mae: 6.6225\n",
            "Epoch 300/500\n",
            "2/2 [==============================] - 0s 9ms/step - loss: 22.0859 - mae: 22.0859\n",
            "Epoch 301/500\n",
            "2/2 [==============================] - 0s 12ms/step - loss: 9.1448 - mae: 9.1448\n",
            "Epoch 302/500\n",
            "2/2 [==============================] - 0s 11ms/step - loss: 11.2074 - mae: 11.2074\n",
            "Epoch 303/500\n",
            "2/2 [==============================] - 0s 10ms/step - loss: 9.3459 - mae: 9.3459\n",
            "Epoch 304/500\n",
            "2/2 [==============================] - 0s 9ms/step - loss: 23.7308 - mae: 23.7308\n",
            "Epoch 305/500\n",
            "2/2 [==============================] - 0s 12ms/step - loss: 7.9270 - mae: 7.9270\n",
            "Epoch 306/500\n",
            "2/2 [==============================] - 0s 11ms/step - loss: 23.7857 - mae: 23.7857\n",
            "Epoch 307/500\n",
            "2/2 [==============================] - 0s 9ms/step - loss: 5.1204 - mae: 5.1204\n",
            "Epoch 308/500\n",
            "2/2 [==============================] - 0s 10ms/step - loss: 22.6465 - mae: 22.6465\n",
            "Epoch 309/500\n",
            "2/2 [==============================] - 0s 9ms/step - loss: 19.6927 - mae: 19.6927\n",
            "Epoch 310/500\n",
            "2/2 [==============================] - 0s 9ms/step - loss: 6.1440 - mae: 6.1440\n",
            "Epoch 311/500\n",
            "2/2 [==============================] - 0s 11ms/step - loss: 7.8808 - mae: 7.8808\n",
            "Epoch 312/500\n",
            "2/2 [==============================] - 0s 9ms/step - loss: 30.4515 - mae: 30.4515\n",
            "Epoch 313/500\n",
            "2/2 [==============================] - 0s 11ms/step - loss: 6.8226 - mae: 6.8226\n",
            "Epoch 314/500\n",
            "2/2 [==============================] - 0s 11ms/step - loss: 11.1313 - mae: 11.1313\n",
            "Epoch 315/500\n",
            "2/2 [==============================] - 0s 8ms/step - loss: 23.4297 - mae: 23.4297\n",
            "Epoch 316/500\n",
            "2/2 [==============================] - 0s 11ms/step - loss: 14.6631 - mae: 14.6631\n",
            "Epoch 317/500\n",
            "2/2 [==============================] - 0s 9ms/step - loss: 20.2979 - mae: 20.2979\n",
            "Epoch 318/500\n",
            "2/2 [==============================] - 0s 8ms/step - loss: 8.0858 - mae: 8.0858\n",
            "Epoch 319/500\n",
            "2/2 [==============================] - 0s 9ms/step - loss: 18.4079 - mae: 18.4079\n",
            "Epoch 320/500\n",
            "2/2 [==============================] - 0s 9ms/step - loss: 10.8449 - mae: 10.8449\n",
            "Epoch 321/500\n",
            "2/2 [==============================] - 0s 10ms/step - loss: 7.1527 - mae: 7.1527\n",
            "Epoch 322/500\n",
            "2/2 [==============================] - 0s 9ms/step - loss: 8.6059 - mae: 8.6059\n",
            "Epoch 323/500\n",
            "2/2 [==============================] - 0s 11ms/step - loss: 18.2413 - mae: 18.2413\n",
            "Epoch 324/500\n",
            "2/2 [==============================] - 0s 11ms/step - loss: 16.2983 - mae: 16.2983\n",
            "Epoch 325/500\n",
            "2/2 [==============================] - 0s 17ms/step - loss: 18.2568 - mae: 18.2568\n",
            "Epoch 326/500\n",
            "2/2 [==============================] - 0s 9ms/step - loss: 22.4878 - mae: 22.4878\n",
            "Epoch 327/500\n",
            "2/2 [==============================] - 0s 10ms/step - loss: 8.5239 - mae: 8.5239\n",
            "Epoch 328/500\n",
            "2/2 [==============================] - 0s 11ms/step - loss: 7.0496 - mae: 7.0496\n",
            "Epoch 329/500\n",
            "2/2 [==============================] - 0s 12ms/step - loss: 10.3188 - mae: 10.3188\n",
            "Epoch 330/500\n",
            "2/2 [==============================] - 0s 8ms/step - loss: 9.3751 - mae: 9.3751\n",
            "Epoch 331/500\n",
            "2/2 [==============================] - 0s 10ms/step - loss: 22.6820 - mae: 22.6820\n",
            "Epoch 332/500\n",
            "2/2 [==============================] - 0s 9ms/step - loss: 20.0106 - mae: 20.0106\n",
            "Epoch 333/500\n",
            "2/2 [==============================] - 0s 9ms/step - loss: 11.0889 - mae: 11.0889\n",
            "Epoch 334/500\n",
            "2/2 [==============================] - 0s 8ms/step - loss: 9.0288 - mae: 9.0288\n",
            "Epoch 335/500\n",
            "2/2 [==============================] - 0s 10ms/step - loss: 13.0538 - mae: 13.0538\n",
            "Epoch 336/500\n",
            "2/2 [==============================] - 0s 8ms/step - loss: 32.5193 - mae: 32.5193\n",
            "Epoch 337/500\n",
            "2/2 [==============================] - 0s 9ms/step - loss: 11.0551 - mae: 11.0551\n",
            "Epoch 338/500\n",
            "2/2 [==============================] - 0s 8ms/step - loss: 19.9873 - mae: 19.9873\n",
            "Epoch 339/500\n",
            "2/2 [==============================] - 0s 8ms/step - loss: 34.2213 - mae: 34.2213\n",
            "Epoch 340/500\n",
            "2/2 [==============================] - 0s 15ms/step - loss: 8.6774 - mae: 8.6774\n",
            "Epoch 341/500\n",
            "2/2 [==============================] - 0s 9ms/step - loss: 21.8901 - mae: 21.8901\n",
            "Epoch 342/500\n",
            "2/2 [==============================] - 0s 9ms/step - loss: 13.9559 - mae: 13.9559\n",
            "Epoch 343/500\n",
            "2/2 [==============================] - 0s 10ms/step - loss: 11.4771 - mae: 11.4771\n",
            "Epoch 344/500\n",
            "2/2 [==============================] - 0s 9ms/step - loss: 9.9363 - mae: 9.9363\n",
            "Epoch 345/500\n",
            "2/2 [==============================] - 0s 8ms/step - loss: 31.2222 - mae: 31.2222\n",
            "Epoch 346/500\n",
            "2/2 [==============================] - 0s 8ms/step - loss: 10.8213 - mae: 10.8213\n",
            "Epoch 347/500\n",
            "2/2 [==============================] - 0s 9ms/step - loss: 26.0263 - mae: 26.0263\n",
            "Epoch 348/500\n",
            "2/2 [==============================] - 0s 8ms/step - loss: 12.0418 - mae: 12.0418\n",
            "Epoch 349/500\n",
            "2/2 [==============================] - 0s 9ms/step - loss: 12.7330 - mae: 12.7330\n",
            "Epoch 350/500\n",
            "2/2 [==============================] - 0s 8ms/step - loss: 15.2941 - mae: 15.2941\n",
            "Epoch 351/500\n",
            "2/2 [==============================] - 0s 8ms/step - loss: 32.6870 - mae: 32.6870\n",
            "Epoch 352/500\n",
            "2/2 [==============================] - 0s 8ms/step - loss: 13.6977 - mae: 13.6977\n",
            "Epoch 353/500\n",
            "2/2 [==============================] - 0s 8ms/step - loss: 17.6347 - mae: 17.6347\n",
            "Epoch 354/500\n",
            "2/2 [==============================] - 0s 7ms/step - loss: 11.2770 - mae: 11.2770\n",
            "Epoch 355/500\n",
            "2/2 [==============================] - 0s 8ms/step - loss: 26.6305 - mae: 26.6305\n",
            "Epoch 356/500\n",
            "2/2 [==============================] - 0s 7ms/step - loss: 10.3530 - mae: 10.3530\n",
            "Epoch 357/500\n",
            "2/2 [==============================] - 0s 7ms/step - loss: 15.2136 - mae: 15.2136\n",
            "Epoch 358/500\n",
            "2/2 [==============================] - 0s 7ms/step - loss: 13.6415 - mae: 13.6415\n",
            "Epoch 359/500\n",
            "2/2 [==============================] - 0s 7ms/step - loss: 12.5767 - mae: 12.5767\n",
            "Epoch 360/500\n",
            "2/2 [==============================] - 0s 7ms/step - loss: 20.7700 - mae: 20.7700\n",
            "Epoch 361/500\n",
            "2/2 [==============================] - 0s 7ms/step - loss: 9.6117 - mae: 9.6117\n",
            "Epoch 362/500\n",
            "2/2 [==============================] - 0s 7ms/step - loss: 8.8292 - mae: 8.8292\n",
            "Epoch 363/500\n",
            "2/2 [==============================] - 0s 7ms/step - loss: 21.6921 - mae: 21.6921\n",
            "Epoch 364/500\n",
            "2/2 [==============================] - 0s 9ms/step - loss: 27.7609 - mae: 27.7609\n",
            "Epoch 365/500\n",
            "2/2 [==============================] - 0s 7ms/step - loss: 7.6589 - mae: 7.6589\n",
            "Epoch 366/500\n",
            "2/2 [==============================] - 0s 7ms/step - loss: 6.0390 - mae: 6.0390\n",
            "Epoch 367/500\n",
            "2/2 [==============================] - 0s 7ms/step - loss: 32.6867 - mae: 32.6867\n",
            "Epoch 368/500\n",
            "2/2 [==============================] - 0s 7ms/step - loss: 6.8814 - mae: 6.8814\n",
            "Epoch 369/500\n",
            "2/2 [==============================] - 0s 7ms/step - loss: 7.7840 - mae: 7.7840\n",
            "Epoch 370/500\n",
            "2/2 [==============================] - 0s 8ms/step - loss: 16.9308 - mae: 16.9308\n",
            "Epoch 371/500\n",
            "2/2 [==============================] - 0s 9ms/step - loss: 6.5757 - mae: 6.5757\n",
            "Epoch 372/500\n",
            "2/2 [==============================] - 0s 10ms/step - loss: 6.4477 - mae: 6.4477\n",
            "Epoch 373/500\n",
            "2/2 [==============================] - 0s 7ms/step - loss: 23.4440 - mae: 23.4440\n",
            "Epoch 374/500\n",
            "2/2 [==============================] - 0s 7ms/step - loss: 10.4438 - mae: 10.4438\n",
            "Epoch 375/500\n",
            "2/2 [==============================] - 0s 7ms/step - loss: 13.0440 - mae: 13.0440\n",
            "Epoch 376/500\n",
            "2/2 [==============================] - 0s 7ms/step - loss: 14.9307 - mae: 14.9307\n",
            "Epoch 377/500\n",
            "2/2 [==============================] - 0s 7ms/step - loss: 14.8117 - mae: 14.8117\n",
            "Epoch 378/500\n",
            "2/2 [==============================] - 0s 7ms/step - loss: 16.2882 - mae: 16.2882\n",
            "Epoch 379/500\n",
            "2/2 [==============================] - 0s 7ms/step - loss: 20.8785 - mae: 20.8785\n",
            "Epoch 380/500\n",
            "2/2 [==============================] - 0s 8ms/step - loss: 33.4066 - mae: 33.4066\n",
            "Epoch 381/500\n",
            "2/2 [==============================] - 0s 9ms/step - loss: 8.1532 - mae: 8.1532\n",
            "Epoch 382/500\n",
            "2/2 [==============================] - 0s 9ms/step - loss: 13.0258 - mae: 13.0258\n",
            "Epoch 383/500\n",
            "2/2 [==============================] - 0s 9ms/step - loss: 8.4333 - mae: 8.4333\n",
            "Epoch 384/500\n",
            "2/2 [==============================] - 0s 9ms/step - loss: 7.0571 - mae: 7.0571\n",
            "Epoch 385/500\n",
            "2/2 [==============================] - 0s 8ms/step - loss: 10.9433 - mae: 10.9433\n",
            "Epoch 386/500\n",
            "2/2 [==============================] - 0s 8ms/step - loss: 19.7953 - mae: 19.7953\n",
            "Epoch 387/500\n",
            "2/2 [==============================] - 0s 7ms/step - loss: 24.7939 - mae: 24.7939\n",
            "Epoch 388/500\n",
            "2/2 [==============================] - 0s 8ms/step - loss: 8.6884 - mae: 8.6884\n",
            "Epoch 389/500\n",
            "2/2 [==============================] - 0s 8ms/step - loss: 5.9123 - mae: 5.9123\n",
            "Epoch 390/500\n",
            "2/2 [==============================] - 0s 8ms/step - loss: 24.3810 - mae: 24.3810\n",
            "Epoch 391/500\n",
            "2/2 [==============================] - 0s 8ms/step - loss: 5.9355 - mae: 5.9355\n",
            "Epoch 392/500\n",
            "2/2 [==============================] - 0s 8ms/step - loss: 16.2719 - mae: 16.2719\n",
            "Epoch 393/500\n",
            "2/2 [==============================] - 0s 8ms/step - loss: 6.0489 - mae: 6.0489\n",
            "Epoch 394/500\n",
            "2/2 [==============================] - 0s 8ms/step - loss: 11.0631 - mae: 11.0631\n",
            "Epoch 395/500\n",
            "2/2 [==============================] - 0s 8ms/step - loss: 14.9241 - mae: 14.9241\n",
            "Epoch 396/500\n",
            "2/2 [==============================] - 0s 11ms/step - loss: 7.6032 - mae: 7.6032\n",
            "Epoch 397/500\n",
            "2/2 [==============================] - 0s 8ms/step - loss: 8.7352 - mae: 8.7352\n",
            "Epoch 398/500\n",
            "2/2 [==============================] - 0s 8ms/step - loss: 14.5786 - mae: 14.5786\n",
            "Epoch 399/500\n",
            "2/2 [==============================] - 0s 8ms/step - loss: 11.3057 - mae: 11.3057\n",
            "Epoch 400/500\n",
            "2/2 [==============================] - 0s 9ms/step - loss: 21.9096 - mae: 21.9096\n",
            "Epoch 401/500\n",
            "2/2 [==============================] - 0s 8ms/step - loss: 14.8670 - mae: 14.8670\n",
            "Epoch 402/500\n",
            "2/2 [==============================] - 0s 8ms/step - loss: 8.4590 - mae: 8.4590\n",
            "Epoch 403/500\n",
            "2/2 [==============================] - 0s 8ms/step - loss: 10.3889 - mae: 10.3889\n",
            "Epoch 404/500\n",
            "2/2 [==============================] - 0s 9ms/step - loss: 10.2409 - mae: 10.2409\n",
            "Epoch 405/500\n",
            "2/2 [==============================] - 0s 9ms/step - loss: 6.3081 - mae: 6.3081\n",
            "Epoch 406/500\n",
            "2/2 [==============================] - 0s 8ms/step - loss: 19.7032 - mae: 19.7032\n",
            "Epoch 407/500\n",
            "2/2 [==============================] - 0s 9ms/step - loss: 9.7289 - mae: 9.7289\n",
            "Epoch 408/500\n",
            "2/2 [==============================] - 0s 10ms/step - loss: 21.4281 - mae: 21.4281\n",
            "Epoch 409/500\n",
            "2/2 [==============================] - 0s 9ms/step - loss: 29.2617 - mae: 29.2617\n",
            "Epoch 410/500\n",
            "2/2 [==============================] - 0s 10ms/step - loss: 10.3899 - mae: 10.3899\n",
            "Epoch 411/500\n",
            "2/2 [==============================] - 0s 10ms/step - loss: 14.6034 - mae: 14.6034\n",
            "Epoch 412/500\n",
            "2/2 [==============================] - 0s 11ms/step - loss: 21.2778 - mae: 21.2778\n",
            "Epoch 413/500\n",
            "2/2 [==============================] - 0s 7ms/step - loss: 7.1115 - mae: 7.1115\n",
            "Epoch 414/500\n",
            "2/2 [==============================] - 0s 7ms/step - loss: 17.8112 - mae: 17.8112\n",
            "Epoch 415/500\n",
            "2/2 [==============================] - 0s 7ms/step - loss: 12.3950 - mae: 12.3950\n",
            "Epoch 416/500\n",
            "2/2 [==============================] - 0s 7ms/step - loss: 26.2963 - mae: 26.2963\n",
            "Epoch 417/500\n",
            "2/2 [==============================] - 0s 7ms/step - loss: 13.8689 - mae: 13.8689\n",
            "Epoch 418/500\n",
            "2/2 [==============================] - 0s 7ms/step - loss: 13.1231 - mae: 13.1231\n",
            "Epoch 419/500\n",
            "2/2 [==============================] - 0s 7ms/step - loss: 16.0666 - mae: 16.0666\n",
            "Epoch 420/500\n",
            "2/2 [==============================] - 0s 7ms/step - loss: 25.1447 - mae: 25.1447\n",
            "Epoch 421/500\n",
            "2/2 [==============================] - 0s 7ms/step - loss: 16.4088 - mae: 16.4088\n",
            "Epoch 422/500\n",
            "2/2 [==============================] - 0s 7ms/step - loss: 8.6992 - mae: 8.6992\n",
            "Epoch 423/500\n",
            "2/2 [==============================] - 0s 7ms/step - loss: 24.8698 - mae: 24.8698\n",
            "Epoch 424/500\n",
            "2/2 [==============================] - 0s 7ms/step - loss: 16.3481 - mae: 16.3481\n",
            "Epoch 425/500\n",
            "2/2 [==============================] - 0s 7ms/step - loss: 7.1782 - mae: 7.1782\n",
            "Epoch 426/500\n",
            "2/2 [==============================] - 0s 7ms/step - loss: 20.4652 - mae: 20.4652\n",
            "Epoch 427/500\n",
            "2/2 [==============================] - 0s 7ms/step - loss: 6.3459 - mae: 6.3459\n",
            "Epoch 428/500\n",
            "2/2 [==============================] - 0s 7ms/step - loss: 13.0900 - mae: 13.0900\n",
            "Epoch 429/500\n",
            "2/2 [==============================] - 0s 6ms/step - loss: 10.8668 - mae: 10.8668\n",
            "Epoch 430/500\n",
            "2/2 [==============================] - 0s 7ms/step - loss: 11.7306 - mae: 11.7306\n",
            "Epoch 431/500\n",
            "2/2 [==============================] - 0s 10ms/step - loss: 7.9103 - mae: 7.9103\n",
            "Epoch 432/500\n",
            "2/2 [==============================] - 0s 11ms/step - loss: 22.1432 - mae: 22.1432\n",
            "Epoch 433/500\n",
            "2/2 [==============================] - 0s 8ms/step - loss: 5.9088 - mae: 5.9088\n",
            "Epoch 434/500\n",
            "2/2 [==============================] - 0s 10ms/step - loss: 32.6635 - mae: 32.6635\n",
            "Epoch 435/500\n",
            "2/2 [==============================] - 0s 12ms/step - loss: 13.4963 - mae: 13.4963\n",
            "Epoch 436/500\n",
            "2/2 [==============================] - 0s 10ms/step - loss: 29.0822 - mae: 29.0822\n",
            "Epoch 437/500\n",
            "2/2 [==============================] - 0s 12ms/step - loss: 9.2023 - mae: 9.2023\n",
            "Epoch 438/500\n",
            "2/2 [==============================] - 0s 8ms/step - loss: 12.6748 - mae: 12.6748\n",
            "Epoch 439/500\n",
            "2/2 [==============================] - 0s 7ms/step - loss: 33.5279 - mae: 33.5279\n",
            "Epoch 440/500\n",
            "2/2 [==============================] - 0s 11ms/step - loss: 14.8630 - mae: 14.8630\n",
            "Epoch 441/500\n",
            "2/2 [==============================] - 0s 8ms/step - loss: 17.3075 - mae: 17.3075\n",
            "Epoch 442/500\n",
            "2/2 [==============================] - 0s 9ms/step - loss: 21.9486 - mae: 21.9486\n",
            "Epoch 443/500\n",
            "2/2 [==============================] - 0s 10ms/step - loss: 24.4359 - mae: 24.4359\n",
            "Epoch 444/500\n",
            "2/2 [==============================] - 0s 7ms/step - loss: 11.6792 - mae: 11.6792\n",
            "Epoch 445/500\n",
            "2/2 [==============================] - 0s 7ms/step - loss: 14.7089 - mae: 14.7089\n",
            "Epoch 446/500\n",
            "2/2 [==============================] - 0s 7ms/step - loss: 17.6968 - mae: 17.6968\n",
            "Epoch 447/500\n",
            "2/2 [==============================] - 0s 7ms/step - loss: 5.7368 - mae: 5.7368\n",
            "Epoch 448/500\n",
            "2/2 [==============================] - 0s 7ms/step - loss: 9.4457 - mae: 9.4457\n",
            "Epoch 449/500\n",
            "2/2 [==============================] - 0s 7ms/step - loss: 14.1210 - mae: 14.1210\n",
            "Epoch 450/500\n",
            "2/2 [==============================] - 0s 6ms/step - loss: 16.8864 - mae: 16.8864\n",
            "Epoch 451/500\n",
            "2/2 [==============================] - 0s 7ms/step - loss: 14.3321 - mae: 14.3321\n",
            "Epoch 452/500\n",
            "2/2 [==============================] - 0s 7ms/step - loss: 30.7242 - mae: 30.7242\n",
            "Epoch 453/500\n",
            "2/2 [==============================] - 0s 7ms/step - loss: 8.3929 - mae: 8.3929\n",
            "Epoch 454/500\n",
            "2/2 [==============================] - 0s 12ms/step - loss: 27.6303 - mae: 27.6303\n",
            "Epoch 455/500\n",
            "2/2 [==============================] - 0s 8ms/step - loss: 9.9836 - mae: 9.9836\n",
            "Epoch 456/500\n",
            "2/2 [==============================] - 0s 14ms/step - loss: 14.5691 - mae: 14.5691\n",
            "Epoch 457/500\n",
            "2/2 [==============================] - 0s 11ms/step - loss: 17.7252 - mae: 17.7252\n",
            "Epoch 458/500\n",
            "2/2 [==============================] - 0s 8ms/step - loss: 14.0195 - mae: 14.0195\n",
            "Epoch 459/500\n",
            "2/2 [==============================] - 0s 7ms/step - loss: 25.9308 - mae: 25.9308\n",
            "Epoch 460/500\n",
            "2/2 [==============================] - 0s 7ms/step - loss: 14.9728 - mae: 14.9728\n",
            "Epoch 461/500\n",
            "2/2 [==============================] - 0s 7ms/step - loss: 11.9408 - mae: 11.9408\n",
            "Epoch 462/500\n",
            "2/2 [==============================] - 0s 7ms/step - loss: 13.2781 - mae: 13.2781\n",
            "Epoch 463/500\n",
            "2/2 [==============================] - 0s 7ms/step - loss: 29.4764 - mae: 29.4764\n",
            "Epoch 464/500\n",
            "2/2 [==============================] - 0s 7ms/step - loss: 3.1943 - mae: 3.1943\n",
            "Epoch 465/500\n",
            "2/2 [==============================] - 0s 8ms/step - loss: 7.5907 - mae: 7.5907\n",
            "Epoch 466/500\n",
            "2/2 [==============================] - 0s 12ms/step - loss: 16.5135 - mae: 16.5135\n",
            "Epoch 467/500\n",
            "2/2 [==============================] - 0s 9ms/step - loss: 17.4841 - mae: 17.4841\n",
            "Epoch 468/500\n",
            "2/2 [==============================] - 0s 7ms/step - loss: 12.9199 - mae: 12.9199\n",
            "Epoch 469/500\n",
            "2/2 [==============================] - 0s 11ms/step - loss: 29.2149 - mae: 29.2149\n",
            "Epoch 470/500\n",
            "2/2 [==============================] - 0s 10ms/step - loss: 7.2349 - mae: 7.2349\n",
            "Epoch 471/500\n",
            "2/2 [==============================] - 0s 7ms/step - loss: 26.2920 - mae: 26.2920\n",
            "Epoch 472/500\n",
            "2/2 [==============================] - 0s 9ms/step - loss: 12.4313 - mae: 12.4313\n",
            "Epoch 473/500\n",
            "2/2 [==============================] - 0s 10ms/step - loss: 14.7726 - mae: 14.7726\n",
            "Epoch 474/500\n",
            "2/2 [==============================] - 0s 8ms/step - loss: 18.7226 - mae: 18.7226\n",
            "Epoch 475/500\n",
            "2/2 [==============================] - 0s 9ms/step - loss: 12.1939 - mae: 12.1939\n",
            "Epoch 476/500\n",
            "2/2 [==============================] - 0s 7ms/step - loss: 13.7164 - mae: 13.7164\n",
            "Epoch 477/500\n",
            "2/2 [==============================] - 0s 9ms/step - loss: 30.3668 - mae: 30.3668\n",
            "Epoch 478/500\n",
            "2/2 [==============================] - 0s 9ms/step - loss: 7.4599 - mae: 7.4599\n",
            "Epoch 479/500\n",
            "2/2 [==============================] - 0s 7ms/step - loss: 11.3146 - mae: 11.3146\n",
            "Epoch 480/500\n",
            "2/2 [==============================] - 0s 9ms/step - loss: 17.9843 - mae: 17.9843\n",
            "Epoch 481/500\n",
            "2/2 [==============================] - 0s 10ms/step - loss: 15.8681 - mae: 15.8681\n",
            "Epoch 482/500\n",
            "2/2 [==============================] - 0s 13ms/step - loss: 21.4487 - mae: 21.4487\n",
            "Epoch 483/500\n",
            "2/2 [==============================] - 0s 10ms/step - loss: 25.0835 - mae: 25.0835\n",
            "Epoch 484/500\n",
            "2/2 [==============================] - 0s 12ms/step - loss: 23.6390 - mae: 23.6390\n",
            "Epoch 485/500\n",
            "2/2 [==============================] - 0s 8ms/step - loss: 5.6722 - mae: 5.6722\n",
            "Epoch 486/500\n",
            "2/2 [==============================] - 0s 11ms/step - loss: 19.6711 - mae: 19.6711\n",
            "Epoch 487/500\n",
            "2/2 [==============================] - 0s 9ms/step - loss: 14.0729 - mae: 14.0729\n",
            "Epoch 488/500\n",
            "2/2 [==============================] - 0s 11ms/step - loss: 30.6777 - mae: 30.6777\n",
            "Epoch 489/500\n",
            "2/2 [==============================] - 0s 8ms/step - loss: 12.0356 - mae: 12.0356\n",
            "Epoch 490/500\n",
            "2/2 [==============================] - 0s 6ms/step - loss: 12.7806 - mae: 12.7806\n",
            "Epoch 491/500\n",
            "2/2 [==============================] - 0s 8ms/step - loss: 23.7171 - mae: 23.7171\n",
            "Epoch 492/500\n",
            "2/2 [==============================] - 0s 10ms/step - loss: 20.2849 - mae: 20.2849\n",
            "Epoch 493/500\n",
            "2/2 [==============================] - 0s 9ms/step - loss: 4.8974 - mae: 4.8974\n",
            "Epoch 494/500\n",
            "2/2 [==============================] - 0s 12ms/step - loss: 12.5777 - mae: 12.5777\n",
            "Epoch 495/500\n",
            "2/2 [==============================] - 0s 11ms/step - loss: 13.4539 - mae: 13.4539\n",
            "Epoch 496/500\n",
            "2/2 [==============================] - 0s 11ms/step - loss: 12.7250 - mae: 12.7250\n",
            "Epoch 497/500\n",
            "2/2 [==============================] - 0s 17ms/step - loss: 17.7077 - mae: 17.7077\n",
            "Epoch 498/500\n",
            "2/2 [==============================] - 0s 8ms/step - loss: 23.3457 - mae: 23.3457\n",
            "Epoch 499/500\n",
            "2/2 [==============================] - 0s 9ms/step - loss: 9.1965 - mae: 9.1965\n",
            "Epoch 500/500\n",
            "2/2 [==============================] - 0s 8ms/step - loss: 14.6385 - mae: 14.6385\n"
          ]
        },
        {
          "output_type": "execute_result",
          "data": {
            "text/plain": [
              "<keras.src.callbacks.History at 0x79018c093f10>"
            ]
          },
          "metadata": {},
          "execution_count": 83
        }
      ]
    },
    {
      "cell_type": "code",
      "source": [
        "y_pred_3 = model_3.predict(X_test)\n",
        "plot_predictions(predictions=y_pred_3)"
      ],
      "metadata": {
        "colab": {
          "base_uri": "https://localhost:8080/",
          "height": 616
        },
        "id": "R2bSCWQRArmX",
        "outputId": "f7cf8af2-fd8d-480e-de58-cd30b692d0fc"
      },
      "execution_count": 84,
      "outputs": [
        {
          "output_type": "stream",
          "name": "stdout",
          "text": [
            "1/1 [==============================] - 0s 126ms/step\n"
          ]
        },
        {
          "output_type": "display_data",
          "data": {
            "text/plain": [
              "<Figure size 1000x700 with 1 Axes>"
            ],
            "image/png": "[encoded data removed]"
          },
          "metadata": {}
        }
      ]
    },
    {
      "cell_type": "code",
      "source": [
        "MAE(y_test, y_pred_3), MSE(y_test, y_pred_3)"
      ],
      "metadata": {
        "colab": {
          "base_uri": "https://localhost:8080/"
        },
        "id": "Ut6KMo9LA9La",
        "outputId": "29a57b51-9260-4e73-9a21-9490065a6bee"
      },
      "execution_count": 85,
      "outputs": [
        {
          "output_type": "execute_result",
          "data": {
            "text/plain": [
              "(<tf.Tensor: shape=(), dtype=float32, numpy=68.717606>,\n",
              " <tf.Tensor: shape=(), dtype=float32, numpy=4808.724>)"
            ]
          },
          "metadata": {},
          "execution_count": 85
        }
      ]
    },
    {
      "cell_type": "code",
      "source": [],
      "metadata": {
        "id": "hWr0XFe6Bf9S"
      },
      "execution_count": null,
      "outputs": []
    }
  ]
}