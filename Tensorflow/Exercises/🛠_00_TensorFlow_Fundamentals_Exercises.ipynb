{
  "nbformat": 4,
  "nbformat_minor": 0,
  "metadata": {
    "colab": {
      "provenance": [],
      "authorship_tag": "ABX9TyNaC/nIMHXB7ZLjyrx2pcv1",
      "include_colab_link": true
    },
    "kernelspec": {
      "name": "python3",
      "display_name": "Python 3"
    },
    "language_info": {
      "name": "python"
    }
  },
  "cells": [
    {
      "cell_type": "markdown",
      "metadata": {
        "id": "view-in-github",
        "colab_type": "text"
      },
      "source": [
        "<a href=\"https://colab.research.google.com/github/Guptarohit2003/Machine-Learning/blob/main/Tensorflow/Exercises/%F0%9F%9B%A0_00_TensorFlow_Fundamentals_Exercises.ipynb\" target=\"_parent\"><img src=\"https://colab.research.google.com/assets/colab-badge.svg\" alt=\"Open In Colab\"/></a>"
      ]
    },
    {
      "cell_type": "code",
      "source": [
        "import tensorflow as tf"
      ],
      "metadata": {
        "id": "XBH-zR_uOp6v"
      },
      "execution_count": 1,
      "outputs": []
    },
    {
      "cell_type": "markdown",
      "source": [
        "### 1. Create a vector, scalar, matrix and tensor with values of your choosing using `tf.constant()`."
      ],
      "metadata": {
        "id": "5OayTax3OCqK"
      }
    },
    {
      "cell_type": "code",
      "source": [
        "# Creating Scalar\n",
        "scalar = tf.constant(8)\n",
        "scalar, scalar.ndim, scalar.dtype"
      ],
      "metadata": {
        "colab": {
          "base_uri": "https://localhost:8080/"
        },
        "id": "Uw4R2ewbS-So",
        "outputId": "8812cb2e-7757-499a-db5d-e32d2e6d6135"
      },
      "execution_count": 2,
      "outputs": [
        {
          "output_type": "execute_result",
          "data": {
            "text/plain": [
              "(<tf.Tensor: shape=(), dtype=int32, numpy=8>, 0, tf.int32)"
            ]
          },
          "metadata": {},
          "execution_count": 2
        }
      ]
    },
    {
      "cell_type": "code",
      "source": [
        "# Creating Vectorr\n",
        "vector = tf.constant([10,20])\n",
        "vector, vector.ndim, vector.dtype"
      ],
      "metadata": {
        "colab": {
          "base_uri": "https://localhost:8080/"
        },
        "id": "IsBAj-_AOTcy",
        "outputId": "779fe9ae-8e36-4368-8f85-02a6a67d461f"
      },
      "execution_count": 3,
      "outputs": [
        {
          "output_type": "execute_result",
          "data": {
            "text/plain": [
              "(<tf.Tensor: shape=(2,), dtype=int32, numpy=array([10, 20], dtype=int32)>,\n",
              " 1,\n",
              " tf.int32)"
            ]
          },
          "metadata": {},
          "execution_count": 3
        }
      ]
    },
    {
      "cell_type": "code",
      "source": [
        "# Creating Matrix\n",
        "matrix = tf.constant([[10,20],\n",
        "                      [30, 40]])\n",
        "matrix, matrix.ndim, matrix.dtype"
      ],
      "metadata": {
        "colab": {
          "base_uri": "https://localhost:8080/"
        },
        "id": "dPIv1UUiOmhs",
        "outputId": "856e6e8b-540c-42d1-ee74-e69ef16cfccc"
      },
      "execution_count": 6,
      "outputs": [
        {
          "output_type": "execute_result",
          "data": {
            "text/plain": [
              "(<tf.Tensor: shape=(2, 2), dtype=int32, numpy=\n",
              " array([[10, 20],\n",
              "        [30, 40]], dtype=int32)>,\n",
              " 2,\n",
              " tf.int32)"
            ]
          },
          "metadata": {},
          "execution_count": 6
        }
      ]
    },
    {
      "cell_type": "code",
      "source": [
        "# Creating Tensor\n",
        "tensor = tf.constant([[[10,20,30],\n",
        "                       [40,50,60]],\n",
        "                      [[60, 50, 40],\n",
        "                      [30, 20, 10]]])\n",
        "tensor, tensor.ndim, tensor.dtype"
      ],
      "metadata": {
        "colab": {
          "base_uri": "https://localhost:8080/"
        },
        "id": "ZehcOsCBO7AZ",
        "outputId": "f7bb1aad-8e53-42d9-82a5-08fd86070c67"
      },
      "execution_count": 7,
      "outputs": [
        {
          "output_type": "execute_result",
          "data": {
            "text/plain": [
              "(<tf.Tensor: shape=(2, 2, 3), dtype=int32, numpy=\n",
              " array([[[10, 20, 30],\n",
              "         [40, 50, 60]],\n",
              " \n",
              "        [[60, 50, 40],\n",
              "         [30, 20, 10]]], dtype=int32)>,\n",
              " 3,\n",
              " tf.int32)"
            ]
          },
          "metadata": {},
          "execution_count": 7
        }
      ]
    },
    {
      "cell_type": "markdown",
      "source": [
        "### 2. Find the shape, rank and size of the tensors you created in 1."
      ],
      "metadata": {
        "id": "2JzxYxJ0PZQZ"
      }
    },
    {
      "cell_type": "code",
      "source": [
        "# For Tensor\n",
        "tf.shape(tensor), tf.rank(tensor), tf.size(tensor)"
      ],
      "metadata": {
        "colab": {
          "base_uri": "https://localhost:8080/"
        },
        "id": "U7MhBhuETWz0",
        "outputId": "4da23beb-e903-4ff6-8339-153941143411"
      },
      "execution_count": 9,
      "outputs": [
        {
          "output_type": "execute_result",
          "data": {
            "text/plain": [
              "(<tf.Tensor: shape=(3,), dtype=int32, numpy=array([2, 2, 3], dtype=int32)>,\n",
              " <tf.Tensor: shape=(), dtype=int32, numpy=3>,\n",
              " <tf.Tensor: shape=(), dtype=int32, numpy=12>)"
            ]
          },
          "metadata": {},
          "execution_count": 9
        }
      ]
    },
    {
      "cell_type": "code",
      "source": [
        "#In addition\n",
        "#For scalar\n",
        "scalar.shape, tf.rank(scalar), tf.size(scalar)"
      ],
      "metadata": {
        "colab": {
          "base_uri": "https://localhost:8080/"
        },
        "id": "GgCTTQjvPkwg",
        "outputId": "f194eb87-f4df-4fcd-b95c-b840d6e79809"
      },
      "execution_count": 10,
      "outputs": [
        {
          "output_type": "execute_result",
          "data": {
            "text/plain": [
              "(TensorShape([]),\n",
              " <tf.Tensor: shape=(), dtype=int32, numpy=0>,\n",
              " <tf.Tensor: shape=(), dtype=int32, numpy=1>)"
            ]
          },
          "metadata": {},
          "execution_count": 10
        }
      ]
    },
    {
      "cell_type": "code",
      "source": [
        "# For Vector\n",
        "tf.shape(vector), tf.rank(vector),tf.size(vector)"
      ],
      "metadata": {
        "colab": {
          "base_uri": "https://localhost:8080/"
        },
        "id": "M7XqNtfyP3ga",
        "outputId": "99aacc1c-ac93-4b22-c9c9-d8784e83c942"
      },
      "execution_count": 11,
      "outputs": [
        {
          "output_type": "execute_result",
          "data": {
            "text/plain": [
              "(<tf.Tensor: shape=(1,), dtype=int32, numpy=array([2], dtype=int32)>,\n",
              " <tf.Tensor: shape=(), dtype=int32, numpy=1>,\n",
              " <tf.Tensor: shape=(), dtype=int32, numpy=2>)"
            ]
          },
          "metadata": {},
          "execution_count": 11
        }
      ]
    },
    {
      "cell_type": "code",
      "source": [
        "# For Matrix\n",
        "tf.shape(matrix), tf.rank(matrix), tf.size(matrix)"
      ],
      "metadata": {
        "colab": {
          "base_uri": "https://localhost:8080/"
        },
        "id": "C8uHjPB8QEFg",
        "outputId": "55d28c02-7aba-4c33-e18b-d137c25f6f6d"
      },
      "execution_count": 12,
      "outputs": [
        {
          "output_type": "execute_result",
          "data": {
            "text/plain": [
              "(<tf.Tensor: shape=(2,), dtype=int32, numpy=array([2, 2], dtype=int32)>,\n",
              " <tf.Tensor: shape=(), dtype=int32, numpy=2>,\n",
              " <tf.Tensor: shape=(), dtype=int32, numpy=4>)"
            ]
          },
          "metadata": {},
          "execution_count": 12
        }
      ]
    },
    {
      "cell_type": "markdown",
      "source": [
        "### 3. Create two tensors containing random values between 0 and 1 with shape `[5, 300]`"
      ],
      "metadata": {
        "id": "Jj5xpdwVQjlv"
      }
    },
    {
      "cell_type": "code",
      "source": [
        "tf.random.set_seed(42)\n",
        "tensor_one = tf.constant(tf.random.uniform([5,300],0,1))\n",
        "tensor_two = tf.constant(tf.random.uniform([5,300],0,1))\n",
        "tensor_one, tensor_two"
      ],
      "metadata": {
        "colab": {
          "base_uri": "https://localhost:8080/"
        },
        "id": "c9dX7QfEQt_n",
        "outputId": "14fd1c2c-1d76-4a59-aba9-80e46900d2b0"
      },
      "execution_count": 13,
      "outputs": [
        {
          "output_type": "execute_result",
          "data": {
            "text/plain": [
              "(<tf.Tensor: shape=(5, 300), dtype=float32, numpy=\n",
              " array([[0.6645621 , 0.44100678, 0.3528825 , ..., 0.31410468, 0.7593535 ,\n",
              "         0.03699052],\n",
              "        [0.532024  , 0.29129946, 0.10571766, ..., 0.54052293, 0.31425726,\n",
              "         0.2200619 ],\n",
              "        [0.08404207, 0.03614604, 0.97732127, ..., 0.21516645, 0.9786098 ,\n",
              "         0.00726748],\n",
              "        [0.7396945 , 0.6653172 , 0.0787828 , ..., 0.7117733 , 0.07013571,\n",
              "         0.9409125 ],\n",
              "        [0.15861344, 0.12024033, 0.27218235, ..., 0.8824879 , 0.1432488 ,\n",
              "         0.44135118]], dtype=float32)>,\n",
              " <tf.Tensor: shape=(5, 300), dtype=float32, numpy=\n",
              " array([[0.68789124, 0.48447883, 0.9309944 , ..., 0.6920762 , 0.33180213,\n",
              "         0.9212563 ],\n",
              "        [0.27369928, 0.10631859, 0.6218617 , ..., 0.4382149 , 0.30427706,\n",
              "         0.51477313],\n",
              "        [0.00920248, 0.37280262, 0.8177401 , ..., 0.56786287, 0.49201214,\n",
              "         0.9892651 ],\n",
              "        [0.88608265, 0.08672249, 0.12160683, ..., 0.91770685, 0.72545695,\n",
              "         0.8280058 ],\n",
              "        [0.36690474, 0.9200133 , 0.9646884 , ..., 0.69012   , 0.7137332 ,\n",
              "         0.2584542 ]], dtype=float32)>)"
            ]
          },
          "metadata": {},
          "execution_count": 13
        }
      ]
    },
    {
      "cell_type": "markdown",
      "source": [
        "### 4. Multiply the two tensors you created in 3 using matrix multiplication"
      ],
      "metadata": {
        "id": "20VzATOlRJKA"
      }
    },
    {
      "cell_type": "code",
      "source": [
        "mat_mul_1 = tf.matmul(tensor_one, tensor_two, transpose_a=True)\n",
        "mat_mul_1"
      ],
      "metadata": {
        "colab": {
          "base_uri": "https://localhost:8080/"
        },
        "id": "9QU8yQaPRmT-",
        "outputId": "14d33f9f-70c7-4cb3-ad40-3e93d09cb313"
      },
      "execution_count": 15,
      "outputs": [
        {
          "output_type": "execute_result",
          "data": {
            "text/plain": [
              "<tf.Tensor: shape=(300, 300), dtype=float32, numpy=\n",
              "array([[1.317161  , 0.61993605, 1.2612379 , ..., 1.5290778 , 1.0735596 ,\n",
              "        1.6227092 ],\n",
              "       [1.0170685 , 0.42642498, 0.8181824 , ..., 1.1469344 , 0.8212255 ,\n",
              "        1.1739546 ],\n",
              "       [0.45034647, 0.8037954 , 1.4656199 , ..., 1.105671  , 0.88152766,\n",
              "        1.481925  ],\n",
              "       ...,\n",
              "       [1.3204696 , 1.1634867 , 1.7423928 , ..., 1.8386563 , 1.5207756 ,\n",
              "        1.5979093 ],\n",
              "       [0.73207504, 0.90400356, 1.8493464 , ..., 1.3821819 , 0.98218614,\n",
              "        1.924531  ],\n",
              "       [1.0814031 , 0.5316744 , 0.7174167 , ..., 1.2942287 , 1.0804075 ,\n",
              "        1.0476992 ]], dtype=float32)>"
            ]
          },
          "metadata": {},
          "execution_count": 15
        }
      ]
    },
    {
      "cell_type": "code",
      "source": [
        "mat_mul_2 = tf.matmul(tensor_one,tensor_two, transpose_b=True)\n",
        "mat_mul_2"
      ],
      "metadata": {
        "colab": {
          "base_uri": "https://localhost:8080/"
        },
        "id": "3Tx4IyDXR3SI",
        "outputId": "5ee35633-f011-4929-89e9-4fb1ca92fbd9"
      },
      "execution_count": 17,
      "outputs": [
        {
          "output_type": "execute_result",
          "data": {
            "text/plain": [
              "<tf.Tensor: shape=(5, 5), dtype=float32, numpy=\n",
              "array([[80.33345 , 73.40498 , 77.159615, 73.98369 , 80.90053 ],\n",
              "       [75.146355, 68.80437 , 74.24302 , 71.841835, 75.60206 ],\n",
              "       [79.7594  , 75.644554, 77.797585, 74.74873 , 80.559845],\n",
              "       [75.08526 , 69.064064, 74.30776 , 72.27616 , 76.05669 ],\n",
              "       [85.05688 , 74.26627 , 78.00687 , 74.88679 , 83.13417 ]],\n",
              "      dtype=float32)>"
            ]
          },
          "metadata": {},
          "execution_count": 17
        }
      ]
    },
    {
      "cell_type": "markdown",
      "source": [
        "### 5. Multiply the two tensors you created in 3 using dot product."
      ],
      "metadata": {
        "id": "PhD01jhwUxHc"
      }
    },
    {
      "cell_type": "code",
      "source": [
        "dot_prduct = tf.tensordot(tensor_one, tf.transpose(tensor_two), axes = 1)\n",
        "dot_prduct"
      ],
      "metadata": {
        "colab": {
          "base_uri": "https://localhost:8080/"
        },
        "id": "LgtxEgINVHMk",
        "outputId": "289368e9-c697-44db-f64e-7cbe8ba4548c"
      },
      "execution_count": 20,
      "outputs": [
        {
          "output_type": "execute_result",
          "data": {
            "text/plain": [
              "<tf.Tensor: shape=(5, 5), dtype=float32, numpy=\n",
              "array([[80.33345 , 73.40498 , 77.159615, 73.98369 , 80.90053 ],\n",
              "       [75.146355, 68.80437 , 74.24302 , 71.841835, 75.60206 ],\n",
              "       [79.7594  , 75.644554, 77.797585, 74.74873 , 80.559845],\n",
              "       [75.08526 , 69.064064, 74.30776 , 72.27616 , 76.05669 ],\n",
              "       [85.05688 , 74.26627 , 78.00687 , 74.88679 , 83.13417 ]],\n",
              "      dtype=float32)>"
            ]
          },
          "metadata": {},
          "execution_count": 20
        }
      ]
    },
    {
      "cell_type": "markdown",
      "source": [
        "### 6. Create a tensor with random values between 0 and 1 with shape `[224, 224, 3]`."
      ],
      "metadata": {
        "id": "9vDKjzqQW30a"
      }
    },
    {
      "cell_type": "code",
      "source": [
        "tf.random.set_seed(42)\n",
        "tensor_three = tf.random.uniform(shape = [224,224,3], minval=0,maxval=1)\n",
        "tensor_three"
      ],
      "metadata": {
        "colab": {
          "base_uri": "https://localhost:8080/"
        },
        "id": "sf_CcoofXpjK",
        "outputId": "4079fe0e-50fa-4e6d-fcbe-8d76b89a347b"
      },
      "execution_count": 21,
      "outputs": [
        {
          "output_type": "execute_result",
          "data": {
            "text/plain": [
              "<tf.Tensor: shape=(224, 224, 3), dtype=float32, numpy=\n",
              "array([[[0.6645621 , 0.44100678, 0.3528825 ],\n",
              "        [0.46448255, 0.03366041, 0.68467236],\n",
              "        [0.74011743, 0.8724445 , 0.22632635],\n",
              "        ...,\n",
              "        [0.42612267, 0.09686017, 0.16105258],\n",
              "        [0.1487099 , 0.04513884, 0.9497483 ],\n",
              "        [0.4393103 , 0.28527975, 0.96971095]],\n",
              "\n",
              "       [[0.73308516, 0.5657046 , 0.33238935],\n",
              "        [0.8838178 , 0.87544763, 0.56711245],\n",
              "        [0.8879347 , 0.47661996, 0.42041814],\n",
              "        ...,\n",
              "        [0.7716515 , 0.9116473 , 0.3229897 ],\n",
              "        [0.43050945, 0.83253574, 0.45549798],\n",
              "        [0.29816985, 0.9639522 , 0.3316357 ]],\n",
              "\n",
              "       [[0.41132426, 0.2179662 , 0.53570235],\n",
              "        [0.5112119 , 0.6484759 , 0.8894886 ],\n",
              "        [0.42459428, 0.20189774, 0.85781324],\n",
              "        ...,\n",
              "        [0.02888799, 0.3995477 , 0.11355484],\n",
              "        [0.68524575, 0.04945195, 0.17778492],\n",
              "        [0.97627187, 0.79811585, 0.9411576 ]],\n",
              "\n",
              "       ...,\n",
              "\n",
              "       [[0.9019445 , 0.27011132, 0.8090267 ],\n",
              "        [0.32395256, 0.6672456 , 0.940673  ],\n",
              "        [0.7166116 , 0.8860713 , 0.6777594 ],\n",
              "        ...,\n",
              "        [0.8318608 , 0.39227867, 0.68916583],\n",
              "        [0.1599741 , 0.46428144, 0.4656595 ],\n",
              "        [0.8619243 , 0.24755931, 0.33835268]],\n",
              "\n",
              "       [[0.47570062, 0.09377229, 0.11811328],\n",
              "        [0.0523994 , 0.38206005, 0.12188685],\n",
              "        [0.2757113 , 0.44918692, 0.9179864 ],\n",
              "        ...,\n",
              "        [0.4974177 , 0.4562863 , 0.8261535 ],\n",
              "        [0.60251105, 0.27676368, 0.258716  ],\n",
              "        [0.7977431 , 0.74125385, 0.76062095]],\n",
              "\n",
              "       [[0.4755299 , 0.4661665 , 0.14167643],\n",
              "        [0.9103775 , 0.41117966, 0.83182037],\n",
              "        [0.79765654, 0.38330686, 0.5313202 ],\n",
              "        ...,\n",
              "        [0.94517136, 0.17730081, 0.00362825],\n",
              "        [0.6170398 , 0.9977623 , 0.8315122 ],\n",
              "        [0.6683676 , 0.68716586, 0.4447713 ]]], dtype=float32)>"
            ]
          },
          "metadata": {},
          "execution_count": 21
        }
      ]
    },
    {
      "cell_type": "markdown",
      "source": [
        "### 7. Find the min and max values of the tensor you created in 6."
      ],
      "metadata": {
        "id": "KwfmNPNzYEvq"
      }
    },
    {
      "cell_type": "code",
      "source": [
        "tf.reduce_max(tensor_three)"
      ],
      "metadata": {
        "colab": {
          "base_uri": "https://localhost:8080/"
        },
        "id": "kkSBvo4VYM-J",
        "outputId": "39043c7a-5831-4c1d-9387-3c36e725aad2"
      },
      "execution_count": 23,
      "outputs": [
        {
          "output_type": "execute_result",
          "data": {
            "text/plain": [
              "<tf.Tensor: shape=(), dtype=float32, numpy=0.999998>"
            ]
          },
          "metadata": {},
          "execution_count": 23
        }
      ]
    },
    {
      "cell_type": "code",
      "source": [
        "tf.reduce_min(tensor_three)"
      ],
      "metadata": {
        "colab": {
          "base_uri": "https://localhost:8080/"
        },
        "id": "qDpE2OvjYrlZ",
        "outputId": "81b92fcb-ef87-4435-d4f2-437b3ba85ea4"
      },
      "execution_count": 24,
      "outputs": [
        {
          "output_type": "execute_result",
          "data": {
            "text/plain": [
              "<tf.Tensor: shape=(), dtype=float32, numpy=3.5762787e-07>"
            ]
          },
          "metadata": {},
          "execution_count": 24
        }
      ]
    },
    {
      "cell_type": "markdown",
      "source": [
        "### 8. Created a tensor with random values of shape `[1, 224, 224, 3]` then squeeze it to change the shape to `[224, 224, 3]`."
      ],
      "metadata": {
        "id": "nourkTVWZFpI"
      }
    },
    {
      "cell_type": "code",
      "source": [
        "tensor_four = tf.random.uniform(shape= [1, 224, 224, 3], minval= 0, maxval= 1)\n",
        "tensor_four"
      ],
      "metadata": {
        "colab": {
          "base_uri": "https://localhost:8080/"
        },
        "id": "1ETH7WjBZQf4",
        "outputId": "529d7fd6-f700-47a4-8fec-b670ee368e88"
      },
      "execution_count": 26,
      "outputs": [
        {
          "output_type": "execute_result",
          "data": {
            "text/plain": [
              "<tf.Tensor: shape=(1, 224, 224, 3), dtype=float32, numpy=\n",
              "array([[[[0.7413678 , 0.62854624, 0.01738465],\n",
              "         [0.3431449 , 0.51063764, 0.3777541 ],\n",
              "         [0.07321596, 0.02137029, 0.2871771 ],\n",
              "         ...,\n",
              "         [0.98953485, 0.45382905, 0.2006687 ],\n",
              "         [0.6295223 , 0.4937899 , 0.01816809],\n",
              "         [0.95386636, 0.11542463, 0.85691285]],\n",
              "\n",
              "        [[0.78435016, 0.7826872 , 0.87936425],\n",
              "         [0.24906898, 0.3207239 , 0.10955775],\n",
              "         [0.543224  , 0.7151396 , 0.40334642],\n",
              "         ...,\n",
              "         [0.2445668 , 0.01746976, 0.9036933 ],\n",
              "         [0.02975535, 0.592268  , 0.9877522 ],\n",
              "         [0.36701274, 0.33112562, 0.5638567 ]],\n",
              "\n",
              "        [[0.15829337, 0.7288823 , 0.3366307 ],\n",
              "         [0.70792687, 0.16910625, 0.9429966 ],\n",
              "         [0.10120225, 0.5919596 , 0.8687303 ],\n",
              "         ...,\n",
              "         [0.28134012, 0.10011208, 0.37038183],\n",
              "         [0.77874243, 0.05421627, 0.4664607 ],\n",
              "         [0.2549187 , 0.7968637 , 0.83405185]],\n",
              "\n",
              "        ...,\n",
              "\n",
              "        [[0.32922816, 0.06343532, 0.23936498],\n",
              "         [0.42692196, 0.3615111 , 0.901929  ],\n",
              "         [0.8320831 , 0.21068895, 0.08272386],\n",
              "         ...,\n",
              "         [0.65110314, 0.40780962, 0.25967455],\n",
              "         [0.9018173 , 0.8245677 , 0.16757596],\n",
              "         [0.41854453, 0.19092035, 0.2523303 ]],\n",
              "\n",
              "        [[0.7064005 , 0.222404  , 0.82219553],\n",
              "         [0.8235872 , 0.76544905, 0.80999327],\n",
              "         [0.1100682 , 0.00520217, 0.6127168 ],\n",
              "         ...,\n",
              "         [0.98068535, 0.8958733 , 0.17706168],\n",
              "         [0.4252876 , 0.02087164, 0.496238  ],\n",
              "         [0.6599953 , 0.58505726, 0.7089884 ]],\n",
              "\n",
              "        [[0.90045786, 0.45803344, 0.9050728 ],\n",
              "         [0.92233   , 0.38456154, 0.30329156],\n",
              "         [0.03238845, 0.18773472, 0.9096625 ],\n",
              "         ...,\n",
              "         [0.4445815 , 0.04578841, 0.21090853],\n",
              "         [0.25966525, 0.24412918, 0.76123405],\n",
              "         [0.9643831 , 0.32687283, 0.4828869 ]]]], dtype=float32)>"
            ]
          },
          "metadata": {},
          "execution_count": 26
        }
      ]
    },
    {
      "cell_type": "code",
      "source": [
        "squeezed_tensor = tf.squeeze(tensor_four)\n",
        "squeezed_tensor"
      ],
      "metadata": {
        "colab": {
          "base_uri": "https://localhost:8080/"
        },
        "id": "biADjQ-jZgng",
        "outputId": "095a5678-2dfd-4156-ccbf-95ce8fe82fdd"
      },
      "execution_count": 28,
      "outputs": [
        {
          "output_type": "execute_result",
          "data": {
            "text/plain": [
              "<tf.Tensor: shape=(224, 224, 3), dtype=float32, numpy=\n",
              "array([[[0.7413678 , 0.62854624, 0.01738465],\n",
              "        [0.3431449 , 0.51063764, 0.3777541 ],\n",
              "        [0.07321596, 0.02137029, 0.2871771 ],\n",
              "        ...,\n",
              "        [0.98953485, 0.45382905, 0.2006687 ],\n",
              "        [0.6295223 , 0.4937899 , 0.01816809],\n",
              "        [0.95386636, 0.11542463, 0.85691285]],\n",
              "\n",
              "       [[0.78435016, 0.7826872 , 0.87936425],\n",
              "        [0.24906898, 0.3207239 , 0.10955775],\n",
              "        [0.543224  , 0.7151396 , 0.40334642],\n",
              "        ...,\n",
              "        [0.2445668 , 0.01746976, 0.9036933 ],\n",
              "        [0.02975535, 0.592268  , 0.9877522 ],\n",
              "        [0.36701274, 0.33112562, 0.5638567 ]],\n",
              "\n",
              "       [[0.15829337, 0.7288823 , 0.3366307 ],\n",
              "        [0.70792687, 0.16910625, 0.9429966 ],\n",
              "        [0.10120225, 0.5919596 , 0.8687303 ],\n",
              "        ...,\n",
              "        [0.28134012, 0.10011208, 0.37038183],\n",
              "        [0.77874243, 0.05421627, 0.4664607 ],\n",
              "        [0.2549187 , 0.7968637 , 0.83405185]],\n",
              "\n",
              "       ...,\n",
              "\n",
              "       [[0.32922816, 0.06343532, 0.23936498],\n",
              "        [0.42692196, 0.3615111 , 0.901929  ],\n",
              "        [0.8320831 , 0.21068895, 0.08272386],\n",
              "        ...,\n",
              "        [0.65110314, 0.40780962, 0.25967455],\n",
              "        [0.9018173 , 0.8245677 , 0.16757596],\n",
              "        [0.41854453, 0.19092035, 0.2523303 ]],\n",
              "\n",
              "       [[0.7064005 , 0.222404  , 0.82219553],\n",
              "        [0.8235872 , 0.76544905, 0.80999327],\n",
              "        [0.1100682 , 0.00520217, 0.6127168 ],\n",
              "        ...,\n",
              "        [0.98068535, 0.8958733 , 0.17706168],\n",
              "        [0.4252876 , 0.02087164, 0.496238  ],\n",
              "        [0.6599953 , 0.58505726, 0.7089884 ]],\n",
              "\n",
              "       [[0.90045786, 0.45803344, 0.9050728 ],\n",
              "        [0.92233   , 0.38456154, 0.30329156],\n",
              "        [0.03238845, 0.18773472, 0.9096625 ],\n",
              "        ...,\n",
              "        [0.4445815 , 0.04578841, 0.21090853],\n",
              "        [0.25966525, 0.24412918, 0.76123405],\n",
              "        [0.9643831 , 0.32687283, 0.4828869 ]]], dtype=float32)>"
            ]
          },
          "metadata": {},
          "execution_count": 28
        }
      ]
    },
    {
      "cell_type": "code",
      "source": [
        "tf.reshape(tensor_four, [224, 224, 3])"
      ],
      "metadata": {
        "colab": {
          "base_uri": "https://localhost:8080/"
        },
        "id": "o5vbv4x6ZxN4",
        "outputId": "b652ddae-508f-4114-ac96-dd7e978d5b1b"
      },
      "execution_count": 29,
      "outputs": [
        {
          "output_type": "execute_result",
          "data": {
            "text/plain": [
              "<tf.Tensor: shape=(224, 224, 3), dtype=float32, numpy=\n",
              "array([[[0.7413678 , 0.62854624, 0.01738465],\n",
              "        [0.3431449 , 0.51063764, 0.3777541 ],\n",
              "        [0.07321596, 0.02137029, 0.2871771 ],\n",
              "        ...,\n",
              "        [0.98953485, 0.45382905, 0.2006687 ],\n",
              "        [0.6295223 , 0.4937899 , 0.01816809],\n",
              "        [0.95386636, 0.11542463, 0.85691285]],\n",
              "\n",
              "       [[0.78435016, 0.7826872 , 0.87936425],\n",
              "        [0.24906898, 0.3207239 , 0.10955775],\n",
              "        [0.543224  , 0.7151396 , 0.40334642],\n",
              "        ...,\n",
              "        [0.2445668 , 0.01746976, 0.9036933 ],\n",
              "        [0.02975535, 0.592268  , 0.9877522 ],\n",
              "        [0.36701274, 0.33112562, 0.5638567 ]],\n",
              "\n",
              "       [[0.15829337, 0.7288823 , 0.3366307 ],\n",
              "        [0.70792687, 0.16910625, 0.9429966 ],\n",
              "        [0.10120225, 0.5919596 , 0.8687303 ],\n",
              "        ...,\n",
              "        [0.28134012, 0.10011208, 0.37038183],\n",
              "        [0.77874243, 0.05421627, 0.4664607 ],\n",
              "        [0.2549187 , 0.7968637 , 0.83405185]],\n",
              "\n",
              "       ...,\n",
              "\n",
              "       [[0.32922816, 0.06343532, 0.23936498],\n",
              "        [0.42692196, 0.3615111 , 0.901929  ],\n",
              "        [0.8320831 , 0.21068895, 0.08272386],\n",
              "        ...,\n",
              "        [0.65110314, 0.40780962, 0.25967455],\n",
              "        [0.9018173 , 0.8245677 , 0.16757596],\n",
              "        [0.41854453, 0.19092035, 0.2523303 ]],\n",
              "\n",
              "       [[0.7064005 , 0.222404  , 0.82219553],\n",
              "        [0.8235872 , 0.76544905, 0.80999327],\n",
              "        [0.1100682 , 0.00520217, 0.6127168 ],\n",
              "        ...,\n",
              "        [0.98068535, 0.8958733 , 0.17706168],\n",
              "        [0.4252876 , 0.02087164, 0.496238  ],\n",
              "        [0.6599953 , 0.58505726, 0.7089884 ]],\n",
              "\n",
              "       [[0.90045786, 0.45803344, 0.9050728 ],\n",
              "        [0.92233   , 0.38456154, 0.30329156],\n",
              "        [0.03238845, 0.18773472, 0.9096625 ],\n",
              "        ...,\n",
              "        [0.4445815 , 0.04578841, 0.21090853],\n",
              "        [0.25966525, 0.24412918, 0.76123405],\n",
              "        [0.9643831 , 0.32687283, 0.4828869 ]]], dtype=float32)>"
            ]
          },
          "metadata": {},
          "execution_count": 29
        }
      ]
    },
    {
      "cell_type": "markdown",
      "source": [
        "### 9. Create a tensor with shape `[10]` using your own choice of values, then find the index which has the maximum value."
      ],
      "metadata": {
        "id": "5qjXhLSdZ7zB"
      }
    },
    {
      "cell_type": "code",
      "source": [
        "tensor_five = tf.constant([10, 20, 0.09, 10.1, 23, 1, 13, 23.,-1, -0.003])\n",
        "tensor_five.shape"
      ],
      "metadata": {
        "colab": {
          "base_uri": "https://localhost:8080/"
        },
        "id": "c8GVoEIGaI3n",
        "outputId": "ff4d5757-c650-4c02-cd29-4e5203e4dba3"
      },
      "execution_count": 36,
      "outputs": [
        {
          "output_type": "execute_result",
          "data": {
            "text/plain": [
              "TensorShape([10])"
            ]
          },
          "metadata": {},
          "execution_count": 36
        }
      ]
    },
    {
      "cell_type": "code",
      "source": [
        "max_index = tf.argmax(tensor_five)\n",
        "max_index, tensor_five[max_index]"
      ],
      "metadata": {
        "colab": {
          "base_uri": "https://localhost:8080/"
        },
        "id": "RAa2fPWEbHyQ",
        "outputId": "a03ed6f6-ac06-4b7e-af21-8a839dcc0ae1"
      },
      "execution_count": 37,
      "outputs": [
        {
          "output_type": "execute_result",
          "data": {
            "text/plain": [
              "(<tf.Tensor: shape=(), dtype=int64, numpy=4>,\n",
              " <tf.Tensor: shape=(), dtype=float32, numpy=23.0>)"
            ]
          },
          "metadata": {},
          "execution_count": 37
        }
      ]
    },
    {
      "cell_type": "markdown",
      "source": [
        "### 10. One-hot encode the tensor you created in 9."
      ],
      "metadata": {
        "id": "6lCrLb4xbY63"
      }
    },
    {
      "cell_type": "code",
      "source": [
        "tensor_new  = tf.cast(tensor_five, dtype= tf.int32)\n",
        "tf.one_hot(tensor_new, depth= 10), tensor_new"
      ],
      "metadata": {
        "colab": {
          "base_uri": "https://localhost:8080/"
        },
        "id": "CTB1UcAcbxeX",
        "outputId": "404ef4bf-6664-4907-8142-1be43e0cacb1"
      },
      "execution_count": 42,
      "outputs": [
        {
          "output_type": "execute_result",
          "data": {
            "text/plain": [
              "(<tf.Tensor: shape=(10, 10), dtype=float32, numpy=\n",
              " array([[0., 0., 0., 0., 0., 0., 0., 0., 0., 0.],\n",
              "        [0., 0., 0., 0., 0., 0., 0., 0., 0., 0.],\n",
              "        [1., 0., 0., 0., 0., 0., 0., 0., 0., 0.],\n",
              "        [0., 0., 0., 0., 0., 0., 0., 0., 0., 0.],\n",
              "        [0., 0., 0., 0., 0., 0., 0., 0., 0., 0.],\n",
              "        [0., 1., 0., 0., 0., 0., 0., 0., 0., 0.],\n",
              "        [0., 0., 0., 0., 0., 0., 0., 0., 0., 0.],\n",
              "        [0., 0., 0., 0., 0., 0., 0., 0., 0., 0.],\n",
              "        [0., 0., 0., 0., 0., 0., 0., 0., 0., 0.],\n",
              "        [1., 0., 0., 0., 0., 0., 0., 0., 0., 0.]], dtype=float32)>,\n",
              " <tf.Tensor: shape=(10,), dtype=int32, numpy=array([10, 20,  0, 10, 23,  1, 13, 23, -1,  0], dtype=int32)>)"
            ]
          },
          "metadata": {},
          "execution_count": 42
        }
      ]
    },
    {
      "cell_type": "code",
      "source": [],
      "metadata": {
        "id": "xBZLk-KOcF9e"
      },
      "execution_count": null,
      "outputs": []
    }
  ]
}