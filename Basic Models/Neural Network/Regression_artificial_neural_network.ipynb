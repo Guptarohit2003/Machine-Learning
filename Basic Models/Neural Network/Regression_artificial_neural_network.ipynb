{
  "nbformat": 4,
  "nbformat_minor": 0,
  "metadata": {
    "colab": {
      "provenance": [],
      "include_colab_link": true
    },
    "kernelspec": {
      "name": "python3",
      "display_name": "Python 3"
    }
  },
  "cells": [
    {
      "cell_type": "markdown",
      "metadata": {
        "id": "view-in-github",
        "colab_type": "text"
      },
      "source": [
        "<a href=\"https://colab.research.google.com/github/Guptarohit2003/Machine-Learning/blob/main/Neural%20Network/Regression_artificial_neural_network.ipynb\" target=\"_parent\"><img src=\"https://colab.research.google.com/assets/colab-badge.svg\" alt=\"Open In Colab\"/></a>"
      ]
    },
    {
      "cell_type": "markdown",
      "metadata": {
        "id": "3cbb7fRy-eyr"
      },
      "source": [
        "# Artificial Neural Network"
      ]
    },
    {
      "cell_type": "markdown",
      "metadata": {
        "id": "8sNDnxE2-pwE"
      },
      "source": [
        "### Importing the libraries"
      ]
    },
    {
      "cell_type": "code",
      "source": [
        "import pandas as pd\n",
        "import numpy as np\n",
        "import tensorflow as tf"
      ],
      "metadata": {
        "id": "hLsAscUWVRdi"
      },
      "execution_count": 1,
      "outputs": []
    },
    {
      "cell_type": "code",
      "source": [
        "tf.__version__"
      ],
      "metadata": {
        "colab": {
          "base_uri": "https://localhost:8080/",
          "height": 35
        },
        "id": "mXQYJUR3VXf5",
        "outputId": "ee521459-5cf8-4140-fed5-2876c220591f"
      },
      "execution_count": 2,
      "outputs": [
        {
          "output_type": "execute_result",
          "data": {
            "text/plain": [
              "'2.15.0'"
            ],
            "application/vnd.google.colaboratory.intrinsic+json": {
              "type": "string"
            }
          },
          "metadata": {},
          "execution_count": 2
        }
      ]
    },
    {
      "cell_type": "markdown",
      "metadata": {
        "id": "AG3FQEch-yuA"
      },
      "source": [
        "## Part 1 - Data Preprocessing"
      ]
    },
    {
      "cell_type": "markdown",
      "metadata": {
        "id": "-4zq8Mza_D9O"
      },
      "source": [
        "### Importing the dataset"
      ]
    },
    {
      "cell_type": "code",
      "source": [
        "dataset = pd.read_excel('Folds5x2_pp.xlsx')\n",
        "X = dataset.iloc[:, :-1].values\n",
        "y = dataset.iloc[:, -1].values"
      ],
      "metadata": {
        "id": "b23-93FDVgol"
      },
      "execution_count": 3,
      "outputs": []
    },
    {
      "cell_type": "code",
      "source": [
        "print(X)"
      ],
      "metadata": {
        "colab": {
          "base_uri": "https://localhost:8080/"
        },
        "id": "wVCszU_bWPtz",
        "outputId": "b2aa99b6-2140-4f27-d14f-ddf9fde27630"
      },
      "execution_count": 4,
      "outputs": [
        {
          "output_type": "stream",
          "name": "stdout",
          "text": [
            "[[  14.96   41.76 1024.07   73.17]\n",
            " [  25.18   62.96 1020.04   59.08]\n",
            " [   5.11   39.4  1012.16   92.14]\n",
            " ...\n",
            " [  31.32   74.33 1012.92   36.48]\n",
            " [  24.48   69.45 1013.86   62.39]\n",
            " [  21.6    62.52 1017.23   67.87]]\n"
          ]
        }
      ]
    },
    {
      "cell_type": "code",
      "source": [
        "print(y)"
      ],
      "metadata": {
        "colab": {
          "base_uri": "https://localhost:8080/"
        },
        "id": "L_Ab-Mt8WRqs",
        "outputId": "bd475af9-6bca-4887-a1dc-3c3aa5f25008"
      },
      "execution_count": 5,
      "outputs": [
        {
          "output_type": "stream",
          "name": "stdout",
          "text": [
            "[463.26 444.37 488.56 ... 429.57 435.74 453.28]\n"
          ]
        }
      ]
    },
    {
      "cell_type": "markdown",
      "metadata": {
        "id": "VC6omXel_Up0"
      },
      "source": [
        "### Splitting the dataset into the Training set and Test set"
      ]
    },
    {
      "cell_type": "code",
      "source": [
        "from sklearn.model_selection import train_test_split\n",
        "X_train, X_test, y_train, y_test = train_test_split(X, y, test_size = 0.2, random_state = 0)"
      ],
      "metadata": {
        "id": "cn61VWtvWWc_"
      },
      "execution_count": 6,
      "outputs": []
    },
    {
      "cell_type": "markdown",
      "metadata": {
        "id": "_mSLlAT9_eyI"
      },
      "source": [
        "## Part 2 - Building the ANN"
      ]
    },
    {
      "cell_type": "markdown",
      "metadata": {
        "id": "CsBULd_f_wLY"
      },
      "source": [
        "### Initializing the ANN"
      ]
    },
    {
      "cell_type": "code",
      "source": [
        "ann = tf.keras.models.Sequential()"
      ],
      "metadata": {
        "id": "gyItEFhHW3xy"
      },
      "execution_count": 7,
      "outputs": []
    },
    {
      "cell_type": "markdown",
      "metadata": {
        "id": "iitAFJS_ABUn"
      },
      "source": [
        "### Adding the input layer and the first hidden layer"
      ]
    },
    {
      "cell_type": "code",
      "source": [
        "ann.add(tf.keras.layers.Dense(6, activation = 'relu'))"
      ],
      "metadata": {
        "id": "ebkin-SYXJE6"
      },
      "execution_count": 8,
      "outputs": []
    },
    {
      "cell_type": "markdown",
      "metadata": {
        "id": "-lb4kK_wAKbs"
      },
      "source": [
        "### Adding the second hidden layer"
      ]
    },
    {
      "cell_type": "code",
      "source": [
        "ann.add(tf.keras.layers.Dense(6, activation = 'relu'))"
      ],
      "metadata": {
        "id": "lWjlSCUZXsr0"
      },
      "execution_count": 9,
      "outputs": []
    },
    {
      "cell_type": "markdown",
      "metadata": {
        "id": "jwMOmKb3AdBY"
      },
      "source": [
        "### Adding the output layer"
      ]
    },
    {
      "cell_type": "code",
      "source": [
        "ann.add(tf.keras.layers.Dense(1))"
      ],
      "metadata": {
        "id": "04w_cw_ZXvZo"
      },
      "execution_count": 10,
      "outputs": []
    },
    {
      "cell_type": "markdown",
      "metadata": {
        "id": "fq7e4fF6A1yy"
      },
      "source": [
        "## Part 3 - Training the ANN"
      ]
    },
    {
      "cell_type": "markdown",
      "metadata": {
        "id": "qDeylAs2An25"
      },
      "source": [
        "### Compiling the ANN"
      ]
    },
    {
      "cell_type": "code",
      "source": [
        "ann.compile(optimizer= 'adam', loss='mean_squared_error')"
      ],
      "metadata": {
        "id": "oqJKXEAvYFJ5"
      },
      "execution_count": 11,
      "outputs": []
    },
    {
      "cell_type": "markdown",
      "metadata": {
        "id": "YjVuiybYOo7r"
      },
      "source": [
        "### Training the ANN model on the Training set"
      ]
    },
    {
      "cell_type": "code",
      "source": [
        "ann.fit(X_train, y_train, batch_size=32 ,epochs= 100)"
      ],
      "metadata": {
        "colab": {
          "base_uri": "https://localhost:8080/"
        },
        "id": "zRDKDTHGYvZ4",
        "outputId": "97ead312-88eb-4b60-f1ad-fb70c6829d89"
      },
      "execution_count": 12,
      "outputs": [
        {
          "output_type": "stream",
          "name": "stdout",
          "text": [
            "Epoch 1/100\n",
            "240/240 [==============================] - 1s 2ms/step - loss: 36010.8203\n",
            "Epoch 2/100\n",
            "240/240 [==============================] - 0s 2ms/step - loss: 93.5619\n",
            "Epoch 3/100\n",
            "240/240 [==============================] - 0s 2ms/step - loss: 91.8862\n",
            "Epoch 4/100\n",
            "240/240 [==============================] - 0s 2ms/step - loss: 89.5418\n",
            "Epoch 5/100\n",
            "240/240 [==============================] - 0s 2ms/step - loss: 87.0314\n",
            "Epoch 6/100\n",
            "240/240 [==============================] - 0s 2ms/step - loss: 83.9858\n",
            "Epoch 7/100\n",
            "240/240 [==============================] - 0s 2ms/step - loss: 80.8340\n",
            "Epoch 8/100\n",
            "240/240 [==============================] - 0s 2ms/step - loss: 77.0269\n",
            "Epoch 9/100\n",
            "240/240 [==============================] - 0s 2ms/step - loss: 73.3739\n",
            "Epoch 10/100\n",
            "240/240 [==============================] - 0s 2ms/step - loss: 69.5788\n",
            "Epoch 11/100\n",
            "240/240 [==============================] - 0s 2ms/step - loss: 65.6202\n",
            "Epoch 12/100\n",
            "240/240 [==============================] - 0s 2ms/step - loss: 61.6114\n",
            "Epoch 13/100\n",
            "240/240 [==============================] - 0s 2ms/step - loss: 57.8544\n",
            "Epoch 14/100\n",
            "240/240 [==============================] - 0s 2ms/step - loss: 54.0992\n",
            "Epoch 15/100\n",
            "240/240 [==============================] - 0s 2ms/step - loss: 50.8251\n",
            "Epoch 16/100\n",
            "240/240 [==============================] - 0s 2ms/step - loss: 47.7073\n",
            "Epoch 17/100\n",
            "240/240 [==============================] - 0s 2ms/step - loss: 45.1093\n",
            "Epoch 18/100\n",
            "240/240 [==============================] - 0s 2ms/step - loss: 42.6052\n",
            "Epoch 19/100\n",
            "240/240 [==============================] - 0s 2ms/step - loss: 40.6732\n",
            "Epoch 20/100\n",
            "240/240 [==============================] - 0s 2ms/step - loss: 39.0884\n",
            "Epoch 21/100\n",
            "240/240 [==============================] - 0s 2ms/step - loss: 37.5440\n",
            "Epoch 22/100\n",
            "240/240 [==============================] - 1s 2ms/step - loss: 36.4108\n",
            "Epoch 23/100\n",
            "240/240 [==============================] - 1s 2ms/step - loss: 35.2519\n",
            "Epoch 24/100\n",
            "240/240 [==============================] - 1s 2ms/step - loss: 34.7461\n",
            "Epoch 25/100\n",
            "240/240 [==============================] - 1s 2ms/step - loss: 33.9553\n",
            "Epoch 26/100\n",
            "240/240 [==============================] - 0s 2ms/step - loss: 33.1394\n",
            "Epoch 27/100\n",
            "240/240 [==============================] - 0s 2ms/step - loss: 32.7637\n",
            "Epoch 28/100\n",
            "240/240 [==============================] - 0s 2ms/step - loss: 31.8598\n",
            "Epoch 29/100\n",
            "240/240 [==============================] - 0s 2ms/step - loss: 31.6348\n",
            "Epoch 30/100\n",
            "240/240 [==============================] - 0s 2ms/step - loss: 31.3248\n",
            "Epoch 31/100\n",
            "240/240 [==============================] - 0s 2ms/step - loss: 30.6502\n",
            "Epoch 32/100\n",
            "240/240 [==============================] - 0s 2ms/step - loss: 30.9915\n",
            "Epoch 33/100\n",
            "240/240 [==============================] - 0s 2ms/step - loss: 29.9691\n",
            "Epoch 34/100\n",
            "240/240 [==============================] - 0s 2ms/step - loss: 29.9346\n",
            "Epoch 35/100\n",
            "240/240 [==============================] - 0s 2ms/step - loss: 30.0302\n",
            "Epoch 36/100\n",
            "240/240 [==============================] - 0s 2ms/step - loss: 29.7229\n",
            "Epoch 37/100\n",
            "240/240 [==============================] - 0s 2ms/step - loss: 29.3171\n",
            "Epoch 38/100\n",
            "240/240 [==============================] - 0s 2ms/step - loss: 28.8621\n",
            "Epoch 39/100\n",
            "240/240 [==============================] - 0s 2ms/step - loss: 28.6826\n",
            "Epoch 40/100\n",
            "240/240 [==============================] - 0s 2ms/step - loss: 29.8167\n",
            "Epoch 41/100\n",
            "240/240 [==============================] - 0s 2ms/step - loss: 28.2565\n",
            "Epoch 42/100\n",
            "240/240 [==============================] - 0s 2ms/step - loss: 28.9175\n",
            "Epoch 43/100\n",
            "240/240 [==============================] - 0s 2ms/step - loss: 28.6071\n",
            "Epoch 44/100\n",
            "240/240 [==============================] - 0s 2ms/step - loss: 28.5352\n",
            "Epoch 45/100\n",
            "240/240 [==============================] - 0s 2ms/step - loss: 28.0019\n",
            "Epoch 46/100\n",
            "240/240 [==============================] - 0s 2ms/step - loss: 28.1205\n",
            "Epoch 47/100\n",
            "240/240 [==============================] - 0s 2ms/step - loss: 28.1546\n",
            "Epoch 48/100\n",
            "240/240 [==============================] - 0s 2ms/step - loss: 28.1482\n",
            "Epoch 49/100\n",
            "240/240 [==============================] - 0s 2ms/step - loss: 28.2316\n",
            "Epoch 50/100\n",
            "240/240 [==============================] - 0s 2ms/step - loss: 27.4392\n",
            "Epoch 51/100\n",
            "240/240 [==============================] - 1s 2ms/step - loss: 28.0034\n",
            "Epoch 52/100\n",
            "240/240 [==============================] - 1s 2ms/step - loss: 27.3815\n",
            "Epoch 53/100\n",
            "240/240 [==============================] - 1s 2ms/step - loss: 27.1272\n",
            "Epoch 54/100\n",
            "240/240 [==============================] - 1s 2ms/step - loss: 27.2002\n",
            "Epoch 55/100\n",
            "240/240 [==============================] - 0s 2ms/step - loss: 27.6918\n",
            "Epoch 56/100\n",
            "240/240 [==============================] - 0s 2ms/step - loss: 27.1099\n",
            "Epoch 57/100\n",
            "240/240 [==============================] - 0s 2ms/step - loss: 27.0561\n",
            "Epoch 58/100\n",
            "240/240 [==============================] - 0s 2ms/step - loss: 27.5638\n",
            "Epoch 59/100\n",
            "240/240 [==============================] - 0s 2ms/step - loss: 27.1726\n",
            "Epoch 60/100\n",
            "240/240 [==============================] - 0s 2ms/step - loss: 27.2398\n",
            "Epoch 61/100\n",
            "240/240 [==============================] - 0s 2ms/step - loss: 27.3995\n",
            "Epoch 62/100\n",
            "240/240 [==============================] - 0s 2ms/step - loss: 27.4684\n",
            "Epoch 63/100\n",
            "240/240 [==============================] - 0s 2ms/step - loss: 27.5712\n",
            "Epoch 64/100\n",
            "240/240 [==============================] - 0s 2ms/step - loss: 26.7009\n",
            "Epoch 65/100\n",
            "240/240 [==============================] - 0s 2ms/step - loss: 26.9707\n",
            "Epoch 66/100\n",
            "240/240 [==============================] - 0s 2ms/step - loss: 26.9353\n",
            "Epoch 67/100\n",
            "240/240 [==============================] - 0s 2ms/step - loss: 26.7704\n",
            "Epoch 68/100\n",
            "240/240 [==============================] - 0s 2ms/step - loss: 26.9246\n",
            "Epoch 69/100\n",
            "240/240 [==============================] - 0s 2ms/step - loss: 27.2721\n",
            "Epoch 70/100\n",
            "240/240 [==============================] - 0s 2ms/step - loss: 26.8727\n",
            "Epoch 71/100\n",
            "240/240 [==============================] - 0s 2ms/step - loss: 26.6294\n",
            "Epoch 72/100\n",
            "240/240 [==============================] - 0s 2ms/step - loss: 26.5175\n",
            "Epoch 73/100\n",
            "240/240 [==============================] - 0s 2ms/step - loss: 26.5143\n",
            "Epoch 74/100\n",
            "240/240 [==============================] - 0s 2ms/step - loss: 26.5145\n",
            "Epoch 75/100\n",
            "240/240 [==============================] - 0s 2ms/step - loss: 27.0486\n",
            "Epoch 76/100\n",
            "240/240 [==============================] - 0s 2ms/step - loss: 27.0514\n",
            "Epoch 77/100\n",
            "240/240 [==============================] - 0s 2ms/step - loss: 26.6439\n",
            "Epoch 78/100\n",
            "240/240 [==============================] - 0s 2ms/step - loss: 26.8916\n",
            "Epoch 79/100\n",
            "240/240 [==============================] - 0s 2ms/step - loss: 26.6206\n",
            "Epoch 80/100\n",
            "240/240 [==============================] - 1s 2ms/step - loss: 27.0982\n",
            "Epoch 81/100\n",
            "240/240 [==============================] - 1s 2ms/step - loss: 28.0588\n",
            "Epoch 82/100\n",
            "240/240 [==============================] - 1s 3ms/step - loss: 26.5931\n",
            "Epoch 83/100\n",
            "240/240 [==============================] - 1s 3ms/step - loss: 26.5918\n",
            "Epoch 84/100\n",
            "240/240 [==============================] - 0s 2ms/step - loss: 26.9710\n",
            "Epoch 85/100\n",
            "240/240 [==============================] - 0s 2ms/step - loss: 27.0701\n",
            "Epoch 86/100\n",
            "240/240 [==============================] - 0s 2ms/step - loss: 26.8506\n",
            "Epoch 87/100\n",
            "240/240 [==============================] - 0s 2ms/step - loss: 26.8177\n",
            "Epoch 88/100\n",
            "240/240 [==============================] - 0s 2ms/step - loss: 27.0218\n",
            "Epoch 89/100\n",
            "240/240 [==============================] - 0s 2ms/step - loss: 27.1572\n",
            "Epoch 90/100\n",
            "240/240 [==============================] - 0s 2ms/step - loss: 27.1293\n",
            "Epoch 91/100\n",
            "240/240 [==============================] - 0s 2ms/step - loss: 26.4384\n",
            "Epoch 92/100\n",
            "240/240 [==============================] - 0s 2ms/step - loss: 27.0445\n",
            "Epoch 93/100\n",
            "240/240 [==============================] - 0s 2ms/step - loss: 26.6909\n",
            "Epoch 94/100\n",
            "240/240 [==============================] - 0s 2ms/step - loss: 26.6281\n",
            "Epoch 95/100\n",
            "240/240 [==============================] - 0s 2ms/step - loss: 26.6096\n",
            "Epoch 96/100\n",
            "240/240 [==============================] - 0s 2ms/step - loss: 26.3752\n",
            "Epoch 97/100\n",
            "240/240 [==============================] - 0s 2ms/step - loss: 27.0478\n",
            "Epoch 98/100\n",
            "240/240 [==============================] - 0s 2ms/step - loss: 26.9195\n",
            "Epoch 99/100\n",
            "240/240 [==============================] - 0s 2ms/step - loss: 27.4569\n",
            "Epoch 100/100\n",
            "240/240 [==============================] - 0s 2ms/step - loss: 26.9463\n"
          ]
        },
        {
          "output_type": "execute_result",
          "data": {
            "text/plain": [
              "<keras.src.callbacks.History at 0x7993115aea10>"
            ]
          },
          "metadata": {},
          "execution_count": 12
        }
      ]
    },
    {
      "cell_type": "markdown",
      "metadata": {
        "id": "0H0zKKNEBLD5"
      },
      "source": [
        "### Predicting the results of the Test set"
      ]
    },
    {
      "cell_type": "code",
      "source": [
        "y_pred = ann.predict(X_test)\n",
        "np.set_printoptions(precision=2)\n",
        "np.concatenate((y_pred.reshape(len(y_pred), 1), y_test.reshape(len(y_test), 1)), 1)"
      ],
      "metadata": {
        "colab": {
          "base_uri": "https://localhost:8080/"
        },
        "id": "LMHW5P_YZfNP",
        "outputId": "9f6a4e8a-5820-48d2-a10c-e95af36e4f47"
      },
      "execution_count": 15,
      "outputs": [
        {
          "output_type": "stream",
          "name": "stdout",
          "text": [
            "60/60 [==============================] - 0s 1ms/step\n"
          ]
        },
        {
          "output_type": "execute_result",
          "data": {
            "text/plain": [
              "array([[430.49, 431.23],\n",
              "       [461.58, 460.01],\n",
              "       [465.11, 461.14],\n",
              "       ...,\n",
              "       [472.25, 473.26],\n",
              "       [439.29, 438.  ],\n",
              "       [458.39, 463.28]])"
            ]
          },
          "metadata": {},
          "execution_count": 15
        }
      ]
    }
  ]
}